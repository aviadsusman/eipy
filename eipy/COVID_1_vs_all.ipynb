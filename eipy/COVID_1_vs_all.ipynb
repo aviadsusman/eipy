{
 "cells": [
  {
   "cell_type": "code",
   "execution_count": 1,
   "metadata": {},
   "outputs": [],
   "source": [
    "import numpy as np\n",
    "from sklearn.ensemble import AdaBoostClassifier, GradientBoostingClassifier, RandomForestClassifier\n",
    "from sklearn.tree import DecisionTreeClassifier\n",
    "from sklearn.neighbors import KNeighborsClassifier\n",
    "from sklearn.linear_model import LogisticRegression\n",
    "from sklearn.naive_bayes import GaussianNB\n",
    "from sklearn.svm import SVC\n",
    "from sklearn.neural_network import MLPClassifier\n",
    "from xgboost import XGBClassifier\n",
    "from eipy.ei import EnsembleIntegration\n",
    "from eipy.additional_ensembles import MeanAggregation, CES\n",
    "from sklearn.model_selection import train_test_split\n",
    "import pandas as pd\n",
    "import pickle as pkl\n",
    "import os\n",
    "from sklearn.impute import KNNImputer"
   ]
  },
  {
   "cell_type": "code",
   "execution_count": 2,
   "metadata": {},
   "outputs": [],
   "source": [
    "data_csvs = \"/home/opc/block_vol/COVID-19 data/Modalities\"\n",
    "modalities = {}\n",
    "for file_name in os.listdir(data_csvs):\n",
    "        file_path = os.path.join(data_csvs, file_name)\n",
    "        modality = os.path.splitext(file_name)[0]\n",
    "\n",
    "        data = pd.read_csv(file_path)\n",
    "        data = data.drop(columns=[\"NEW_MASKED_MRN\"])\n",
    "        modalities[modality] = data\n",
    "y = pd.read_csv(\"/home/opc/block_vol/COVID-19 data/outcome.csv\")"
   ]
  },
  {
   "cell_type": "code",
   "execution_count": 3,
   "metadata": {},
   "outputs": [],
   "source": [
    "y = y.drop(columns=[\"NEW_MASKED_MRN\", \"DECEASED_in_0-5_DAYS\", \"DECEASED_in_0-7_DAYS\", \"DECEASED_in_0-10_DAYS\", \"DECEASED_after_5_DAYS\"], axis=1)\n",
    "y['DECEASED_INDICATOR'] = y['DECEASED_INDICATOR'].replace({0: 1, 1: 0})\n",
    "y = y.rename(columns={'DECEASED_INDICATOR': 'SURVIVED_INDICATOR'})\n",
    "y=y.fillna(0)"
   ]
  },
  {
   "cell_type": "code",
   "execution_count": 4,
   "metadata": {},
   "outputs": [],
   "source": [
    "row_sums = y.sum(axis=1)\n",
    "bad_rows = y[(row_sums != 1)].index\n",
    "bad_rows\n",
    "y = y[row_sums == 1]"
   ]
  },
  {
   "cell_type": "code",
   "execution_count": 5,
   "metadata": {},
   "outputs": [],
   "source": [
    "for k,v in modalities.items():\n",
    "    modalities[k] = v[~v.index.isin(bad_rows)]"
   ]
  },
  {
   "cell_type": "code",
   "execution_count": 6,
   "metadata": {},
   "outputs": [],
   "source": [
    "imputer = KNNImputer(n_neighbors=6)\n",
    "for k,v in modalities.items():\n",
    "    modalities[k] = pd.DataFrame(imputer.fit_transform(v), columns=v.columns)"
   ]
  },
  {
   "cell_type": "code",
   "execution_count": 7,
   "metadata": {},
   "outputs": [
    {
     "name": "stdout",
     "output_type": "stream",
     "text": [
      "ALL G IN labs\n",
      "ALL G IN admission\n",
      "ALL G IN comorbidities\n",
      "ALL G IN vitals\n"
     ]
    }
   ],
   "source": [
    "for k,v in modalities.items():\n",
    "    if v.isna().any().any():\n",
    "        print(f\"There are NaN values in {k}\")\n",
    "    else:\n",
    "        print(f\"ALL G IN {k}\")"
   ]
  },
  {
   "cell_type": "code",
   "execution_count": 8,
   "metadata": {},
   "outputs": [],
   "source": [
    "for i, col in enumerate(y.columns):\n",
    "    y = y.rename(columns={col: i})"
   ]
  },
  {
   "cell_type": "code",
   "execution_count": 9,
   "metadata": {},
   "outputs": [],
   "source": [
    "y[\"labels\"] = y.idxmax(axis=1)"
   ]
  },
  {
   "cell_type": "code",
   "execution_count": 10,
   "metadata": {},
   "outputs": [],
   "source": [
    "base_predictors = {\n",
    "                    'ADAB': AdaBoostClassifier(),\n",
    "                    'XGB': XGBClassifier(),\n",
    "                    'DT': DecisionTreeClassifier(),\n",
    "                    'RF': RandomForestClassifier(),\n",
    "                    'GB': GradientBoostingClassifier(),\n",
    "                    'KNN': KNeighborsClassifier(),\n",
    "                    'LR': LogisticRegression(multi_class=\"auto\", solver=\"lbfgs\"),\n",
    "                    'NB': GaussianNB(),\n",
    "                    'MLP': MLPClassifier(),\n",
    "                    'SVM': SVC(probability=True)\n",
    "}\n",
    "meta_predictors = {\n",
    "                    'Mean' : MeanAggregation(),\n",
    "                    'CES' : CES(),\n",
    "                    'S.ADAB': AdaBoostClassifier(),\n",
    "                    'S.XGB': XGBClassifier(),\n",
    "                    'S.DT': DecisionTreeClassifier(),\n",
    "                    \"S.RF\": RandomForestClassifier(),\n",
    "                    'S.GB': GradientBoostingClassifier(),\n",
    "                    'S.KNN': KNeighborsClassifier(),\n",
    "                    'S.LR': LogisticRegression(),\n",
    "                    'S.NB': GaussianNB(),\n",
    "                    'S.MLP': MLPClassifier(),\n",
    "                    'S.SVM': SVC(probability=True),\n",
    "}"
   ]
  },
  {
   "cell_type": "code",
   "execution_count": 11,
   "metadata": {},
   "outputs": [],
   "source": [
    "labels = y[\"labels\"]"
   ]
  },
  {
   "cell_type": "code",
   "execution_count": 12,
   "metadata": {},
   "outputs": [],
   "source": [
    "labs_train, labs_test, y_train, y_test = train_test_split(modalities[\"labs\"],labels, random_state=3, test_size=0.25, stratify=y)\n",
    "admission_train, admission_test, _,_ = train_test_split(modalities[\"admission\"],labels, random_state=3, test_size=0.25, stratify=y)\n",
    "comorbidities_train, comorbidities_test, _,_ = train_test_split(modalities[\"comorbidities\"],labels, random_state=3, test_size=0.25, stratify=y)\n",
    "vitals_train, vitals_test, _,_ = train_test_split(modalities[\"vitals\"],labels, random_state=3, test_size=0.25, stratify=y)"
   ]
  },
  {
   "cell_type": "code",
   "execution_count": 13,
   "metadata": {},
   "outputs": [],
   "source": [
    "X_train = {\n",
    "    \"labs\": labs_train,\n",
    "    \"admission\": admission_train,\n",
    "    \"comorbities\": comorbidities_train,\n",
    "    \"vitals\" : vitals_train\n",
    "}\n",
    "X_test = {\n",
    "    \"labs\": labs_test,\n",
    "    \"admission\": admission_test,\n",
    "    \"comorbities\": comorbidities_test,\n",
    "    \"vitals\" : vitals_test\n",
    "}"
   ]
  },
  {
   "cell_type": "code",
   "execution_count": 14,
   "metadata": {},
   "outputs": [
    {
     "name": "stdout",
     "output_type": "stream",
     "text": [
      "Training base predictors on labs...\n",
      "        \n",
      "... for ensemble performance analysis...\n"
     ]
    },
    {
     "name": "stderr",
     "output_type": "stream",
     "text": [
      "Generating meta training data: |          |  0%"
     ]
    },
    {
     "name": "stderr",
     "output_type": "stream",
     "text": [
      "Generating meta training data: |██████████|100%\n",
      "Generating meta test data: |██████████|100%\n"
     ]
    },
    {
     "name": "stdout",
     "output_type": "stream",
     "text": [
      "\n",
      "... for final ensemble...\n"
     ]
    },
    {
     "name": "stderr",
     "output_type": "stream",
     "text": [
      "Generating meta training data: |██████████|100%\n",
      "Training final base predictors: |██████████|100%\n"
     ]
    },
    {
     "name": "stdout",
     "output_type": "stream",
     "text": [
      "\n",
      "\n",
      "Training base predictors on admission...\n",
      "        \n",
      "... for ensemble performance analysis...\n"
     ]
    },
    {
     "name": "stderr",
     "output_type": "stream",
     "text": [
      "Generating meta training data: |██████████|100%\n",
      "Generating meta test data: |██████████|100%\n"
     ]
    },
    {
     "name": "stdout",
     "output_type": "stream",
     "text": [
      "\n",
      "... for final ensemble...\n"
     ]
    },
    {
     "name": "stderr",
     "output_type": "stream",
     "text": [
      "Generating meta training data: |██████████|100%\n",
      "Training final base predictors: |██████████|100%\n"
     ]
    },
    {
     "name": "stdout",
     "output_type": "stream",
     "text": [
      "\n",
      "\n",
      "Training base predictors on comorbities...\n",
      "        \n",
      "... for ensemble performance analysis...\n"
     ]
    },
    {
     "name": "stderr",
     "output_type": "stream",
     "text": [
      "Generating meta training data: |██████████|100%\n",
      "Generating meta test data: |██████████|100%\n"
     ]
    },
    {
     "name": "stdout",
     "output_type": "stream",
     "text": [
      "\n",
      "... for final ensemble...\n"
     ]
    },
    {
     "name": "stderr",
     "output_type": "stream",
     "text": [
      "Generating meta training data: |██████████|100%\n",
      "Training final base predictors: |██████████|100%\n"
     ]
    },
    {
     "name": "stdout",
     "output_type": "stream",
     "text": [
      "\n",
      "\n",
      "Training base predictors on vitals...\n",
      "        \n",
      "... for ensemble performance analysis...\n"
     ]
    },
    {
     "name": "stderr",
     "output_type": "stream",
     "text": [
      "Generating meta training data: |██████████|100%\n",
      "Generating meta test data: |██████████|100%\n"
     ]
    },
    {
     "name": "stdout",
     "output_type": "stream",
     "text": [
      "\n",
      "... for final ensemble...\n"
     ]
    },
    {
     "name": "stderr",
     "output_type": "stream",
     "text": [
      "Generating meta training data: |██████████|100%\n",
      "Training final base predictors: |██████████|100%\n"
     ]
    },
    {
     "name": "stdout",
     "output_type": "stream",
     "text": [
      "\n",
      "\n"
     ]
    },
    {
     "name": "stderr",
     "output_type": "stream",
     "text": [
      "Analyzing ensembles: |██████████|100%\n",
      "Training final meta models: |██████████|100%\n"
     ]
    },
    {
     "name": "stdout",
     "output_type": "stream",
     "text": [
      "Training base predictors on labs...\n",
      "        \n",
      "... for ensemble performance analysis...\n"
     ]
    },
    {
     "name": "stderr",
     "output_type": "stream",
     "text": [
      "Generating meta training data: |██████████|100%\n",
      "Generating meta test data: |██████████|100%\n"
     ]
    },
    {
     "name": "stdout",
     "output_type": "stream",
     "text": [
      "\n",
      "... for final ensemble...\n"
     ]
    },
    {
     "name": "stderr",
     "output_type": "stream",
     "text": [
      "Generating meta training data: |██████████|100%\n",
      "Training final base predictors: |██████████|100%\n"
     ]
    },
    {
     "name": "stdout",
     "output_type": "stream",
     "text": [
      "\n",
      "\n",
      "Training base predictors on admission...\n",
      "        \n",
      "... for ensemble performance analysis...\n"
     ]
    },
    {
     "name": "stderr",
     "output_type": "stream",
     "text": [
      "Generating meta training data: |██████████|100%\n",
      "Generating meta test data: |██████████|100%\n"
     ]
    },
    {
     "name": "stdout",
     "output_type": "stream",
     "text": [
      "\n",
      "... for final ensemble...\n"
     ]
    },
    {
     "name": "stderr",
     "output_type": "stream",
     "text": [
      "Generating meta training data: |██████████|100%\n",
      "Training final base predictors: |██████████|100%\n"
     ]
    },
    {
     "name": "stdout",
     "output_type": "stream",
     "text": [
      "\n",
      "\n",
      "Training base predictors on comorbities...\n",
      "        \n",
      "... for ensemble performance analysis...\n"
     ]
    },
    {
     "name": "stderr",
     "output_type": "stream",
     "text": [
      "Generating meta training data: |██████████|100%\n",
      "Generating meta test data: |██████████|100%\n"
     ]
    },
    {
     "name": "stdout",
     "output_type": "stream",
     "text": [
      "\n",
      "... for final ensemble...\n"
     ]
    },
    {
     "name": "stderr",
     "output_type": "stream",
     "text": [
      "Generating meta training data: |██████████|100%\n",
      "Training final base predictors: |██████████|100%\n"
     ]
    },
    {
     "name": "stdout",
     "output_type": "stream",
     "text": [
      "\n",
      "\n",
      "Training base predictors on vitals...\n",
      "        \n",
      "... for ensemble performance analysis...\n"
     ]
    },
    {
     "name": "stderr",
     "output_type": "stream",
     "text": [
      "Generating meta training data: |██████████|100%\n",
      "Generating meta test data: |██████████|100%\n"
     ]
    },
    {
     "name": "stdout",
     "output_type": "stream",
     "text": [
      "\n",
      "... for final ensemble...\n"
     ]
    },
    {
     "name": "stderr",
     "output_type": "stream",
     "text": [
      "Generating meta training data: |██████████|100%\n",
      "Training final base predictors: |██████████|100%\n"
     ]
    },
    {
     "name": "stdout",
     "output_type": "stream",
     "text": [
      "\n",
      "\n"
     ]
    },
    {
     "name": "stderr",
     "output_type": "stream",
     "text": [
      "Analyzing ensembles: |██████████|100%\n",
      "Training final meta models: |██████████|100%\n"
     ]
    },
    {
     "name": "stdout",
     "output_type": "stream",
     "text": [
      "Training base predictors on labs...\n",
      "        \n",
      "... for ensemble performance analysis...\n"
     ]
    },
    {
     "name": "stderr",
     "output_type": "stream",
     "text": [
      "Generating meta training data: |██████████|100%\n",
      "Generating meta test data: |██████████|100%\n"
     ]
    },
    {
     "name": "stdout",
     "output_type": "stream",
     "text": [
      "\n",
      "... for final ensemble...\n"
     ]
    },
    {
     "name": "stderr",
     "output_type": "stream",
     "text": [
      "Generating meta training data: |██████████|100%\n",
      "Training final base predictors: |██████████|100%\n"
     ]
    },
    {
     "name": "stdout",
     "output_type": "stream",
     "text": [
      "\n",
      "\n",
      "Training base predictors on admission...\n",
      "        \n",
      "... for ensemble performance analysis...\n"
     ]
    },
    {
     "name": "stderr",
     "output_type": "stream",
     "text": [
      "Generating meta training data: |██████████|100%\n",
      "Generating meta test data: |██████████|100%\n"
     ]
    },
    {
     "name": "stdout",
     "output_type": "stream",
     "text": [
      "\n",
      "... for final ensemble...\n"
     ]
    },
    {
     "name": "stderr",
     "output_type": "stream",
     "text": [
      "Generating meta training data: |██████████|100%\n",
      "Training final base predictors: |██████████|100%\n"
     ]
    },
    {
     "name": "stdout",
     "output_type": "stream",
     "text": [
      "\n",
      "\n",
      "Training base predictors on comorbities...\n",
      "        \n",
      "... for ensemble performance analysis...\n"
     ]
    },
    {
     "name": "stderr",
     "output_type": "stream",
     "text": [
      "Generating meta training data: |██████████|100%\n",
      "Generating meta test data: |██████████|100%\n"
     ]
    },
    {
     "name": "stdout",
     "output_type": "stream",
     "text": [
      "\n",
      "... for final ensemble...\n"
     ]
    },
    {
     "name": "stderr",
     "output_type": "stream",
     "text": [
      "Generating meta training data: |██████████|100%\n",
      "Training final base predictors: |██████████|100%\n"
     ]
    },
    {
     "name": "stdout",
     "output_type": "stream",
     "text": [
      "\n",
      "\n",
      "Training base predictors on vitals...\n",
      "        \n",
      "... for ensemble performance analysis...\n"
     ]
    },
    {
     "name": "stderr",
     "output_type": "stream",
     "text": [
      "Generating meta training data: |██████████|100%\n",
      "Generating meta test data: |██████████|100%\n"
     ]
    },
    {
     "name": "stdout",
     "output_type": "stream",
     "text": [
      "\n",
      "... for final ensemble...\n"
     ]
    },
    {
     "name": "stderr",
     "output_type": "stream",
     "text": [
      "Generating meta training data: |██████████|100%\n",
      "Training final base predictors: |██████████|100%\n"
     ]
    },
    {
     "name": "stdout",
     "output_type": "stream",
     "text": [
      "\n",
      "\n"
     ]
    },
    {
     "name": "stderr",
     "output_type": "stream",
     "text": [
      "Analyzing ensembles: |██████████|100%\n",
      "Training final meta models: |██████████|100%\n"
     ]
    },
    {
     "name": "stdout",
     "output_type": "stream",
     "text": [
      "Training base predictors on labs...\n",
      "        \n",
      "... for ensemble performance analysis...\n"
     ]
    },
    {
     "name": "stderr",
     "output_type": "stream",
     "text": [
      "Generating meta training data: |██████████|100%\n",
      "Generating meta test data: |██████████|100%\n"
     ]
    },
    {
     "name": "stdout",
     "output_type": "stream",
     "text": [
      "\n",
      "... for final ensemble...\n"
     ]
    },
    {
     "name": "stderr",
     "output_type": "stream",
     "text": [
      "Generating meta training data: |██████████|100%\n",
      "Training final base predictors: |██████████|100%\n"
     ]
    },
    {
     "name": "stdout",
     "output_type": "stream",
     "text": [
      "\n",
      "\n",
      "Training base predictors on admission...\n",
      "        \n",
      "... for ensemble performance analysis...\n"
     ]
    },
    {
     "name": "stderr",
     "output_type": "stream",
     "text": [
      "Generating meta training data: |██████████|100%\n",
      "Generating meta test data: |██████████|100%\n"
     ]
    },
    {
     "name": "stdout",
     "output_type": "stream",
     "text": [
      "\n",
      "... for final ensemble...\n"
     ]
    },
    {
     "name": "stderr",
     "output_type": "stream",
     "text": [
      "Generating meta training data: |██████████|100%\n",
      "Training final base predictors: |██████████|100%\n"
     ]
    },
    {
     "name": "stdout",
     "output_type": "stream",
     "text": [
      "\n",
      "\n",
      "Training base predictors on comorbities...\n",
      "        \n",
      "... for ensemble performance analysis...\n"
     ]
    },
    {
     "name": "stderr",
     "output_type": "stream",
     "text": [
      "Generating meta training data: |██████████|100%\n",
      "Generating meta test data: |██████████|100%\n"
     ]
    },
    {
     "name": "stdout",
     "output_type": "stream",
     "text": [
      "\n",
      "... for final ensemble...\n"
     ]
    },
    {
     "name": "stderr",
     "output_type": "stream",
     "text": [
      "Generating meta training data: |██████████|100%\n",
      "Training final base predictors: |██████████|100%\n"
     ]
    },
    {
     "name": "stdout",
     "output_type": "stream",
     "text": [
      "\n",
      "\n",
      "Training base predictors on vitals...\n",
      "        \n",
      "... for ensemble performance analysis...\n"
     ]
    },
    {
     "name": "stderr",
     "output_type": "stream",
     "text": [
      "Generating meta training data: |██████████|100%\n",
      "Generating meta test data: |██████████|100%\n"
     ]
    },
    {
     "name": "stdout",
     "output_type": "stream",
     "text": [
      "\n",
      "... for final ensemble...\n"
     ]
    },
    {
     "name": "stderr",
     "output_type": "stream",
     "text": [
      "Generating meta training data: |██████████|100%\n",
      "Training final base predictors: |██████████|100%\n"
     ]
    },
    {
     "name": "stdout",
     "output_type": "stream",
     "text": [
      "\n",
      "\n"
     ]
    },
    {
     "name": "stderr",
     "output_type": "stream",
     "text": [
      "Analyzing ensembles: |██████████|100%\n",
      "Training final meta models: |██████████|100%\n"
     ]
    },
    {
     "name": "stdout",
     "output_type": "stream",
     "text": [
      "Training base predictors on labs...\n",
      "        \n",
      "... for ensemble performance analysis...\n"
     ]
    },
    {
     "name": "stderr",
     "output_type": "stream",
     "text": [
      "Generating meta training data: |██████████|100%\n",
      "Generating meta test data: |██████████|100%\n"
     ]
    },
    {
     "name": "stdout",
     "output_type": "stream",
     "text": [
      "\n",
      "... for final ensemble...\n"
     ]
    },
    {
     "name": "stderr",
     "output_type": "stream",
     "text": [
      "Generating meta training data: |██████████|100%\n",
      "Training final base predictors: |██████████|100%\n"
     ]
    },
    {
     "name": "stdout",
     "output_type": "stream",
     "text": [
      "\n",
      "\n",
      "Training base predictors on admission...\n",
      "        \n",
      "... for ensemble performance analysis...\n"
     ]
    },
    {
     "name": "stderr",
     "output_type": "stream",
     "text": [
      "Generating meta training data: |██████████|100%\n",
      "Generating meta test data: |██████████|100%\n"
     ]
    },
    {
     "name": "stdout",
     "output_type": "stream",
     "text": [
      "\n",
      "... for final ensemble...\n"
     ]
    },
    {
     "name": "stderr",
     "output_type": "stream",
     "text": [
      "Generating meta training data: |██████████|100%\n",
      "Training final base predictors: |██████████|100%\n"
     ]
    },
    {
     "name": "stdout",
     "output_type": "stream",
     "text": [
      "\n",
      "\n",
      "Training base predictors on comorbities...\n",
      "        \n",
      "... for ensemble performance analysis...\n"
     ]
    },
    {
     "name": "stderr",
     "output_type": "stream",
     "text": [
      "Generating meta training data: |██████████|100%\n",
      "Generating meta test data: |██████████|100%\n"
     ]
    },
    {
     "name": "stdout",
     "output_type": "stream",
     "text": [
      "\n",
      "... for final ensemble...\n"
     ]
    },
    {
     "name": "stderr",
     "output_type": "stream",
     "text": [
      "Generating meta training data: |██████████|100%\n",
      "Training final base predictors: |██████████|100%\n"
     ]
    },
    {
     "name": "stdout",
     "output_type": "stream",
     "text": [
      "\n",
      "\n",
      "Training base predictors on vitals...\n",
      "        \n",
      "... for ensemble performance analysis...\n"
     ]
    },
    {
     "name": "stderr",
     "output_type": "stream",
     "text": [
      "Generating meta training data: |██████████|100%\n",
      "Generating meta test data: |██████████|100%\n"
     ]
    },
    {
     "name": "stdout",
     "output_type": "stream",
     "text": [
      "\n",
      "... for final ensemble...\n"
     ]
    },
    {
     "name": "stderr",
     "output_type": "stream",
     "text": [
      "Generating meta training data: |██████████|100%\n",
      "Training final base predictors: |██████████|100%\n"
     ]
    },
    {
     "name": "stdout",
     "output_type": "stream",
     "text": [
      "\n",
      "\n"
     ]
    },
    {
     "name": "stderr",
     "output_type": "stream",
     "text": [
      "Analyzing ensembles: |██████████|100%\n",
      "Training final meta models: |██████████|100%\n"
     ]
    },
    {
     "name": "stdout",
     "output_type": "stream",
     "text": [
      "Training base predictors on labs...\n",
      "        \n",
      "... for ensemble performance analysis...\n"
     ]
    },
    {
     "name": "stderr",
     "output_type": "stream",
     "text": [
      "Generating meta training data: |██████████|100%\n",
      "Generating meta test data: |██████████|100%\n"
     ]
    },
    {
     "name": "stdout",
     "output_type": "stream",
     "text": [
      "\n",
      "... for final ensemble...\n"
     ]
    },
    {
     "name": "stderr",
     "output_type": "stream",
     "text": [
      "Generating meta training data: |██████████|100%\n",
      "Training final base predictors: |██████████|100%\n"
     ]
    },
    {
     "name": "stdout",
     "output_type": "stream",
     "text": [
      "\n",
      "\n",
      "Training base predictors on admission...\n",
      "        \n",
      "... for ensemble performance analysis...\n"
     ]
    },
    {
     "name": "stderr",
     "output_type": "stream",
     "text": [
      "Generating meta training data: |██████████|100%\n",
      "Generating meta test data: |██████████|100%\n"
     ]
    },
    {
     "name": "stdout",
     "output_type": "stream",
     "text": [
      "\n",
      "... for final ensemble...\n"
     ]
    },
    {
     "name": "stderr",
     "output_type": "stream",
     "text": [
      "Generating meta training data: |██████████|100%\n",
      "Training final base predictors: |██████████|100%\n"
     ]
    },
    {
     "name": "stdout",
     "output_type": "stream",
     "text": [
      "\n",
      "\n",
      "Training base predictors on comorbities...\n",
      "        \n",
      "... for ensemble performance analysis...\n"
     ]
    },
    {
     "name": "stderr",
     "output_type": "stream",
     "text": [
      "Generating meta training data: |██████████|100%\n",
      "Generating meta test data: |██████████|100%\n"
     ]
    },
    {
     "name": "stdout",
     "output_type": "stream",
     "text": [
      "\n",
      "... for final ensemble...\n"
     ]
    },
    {
     "name": "stderr",
     "output_type": "stream",
     "text": [
      "Generating meta training data: |██████████|100%\n",
      "Training final base predictors: |██████████|100%\n"
     ]
    },
    {
     "name": "stdout",
     "output_type": "stream",
     "text": [
      "\n",
      "\n",
      "Training base predictors on vitals...\n",
      "        \n",
      "... for ensemble performance analysis...\n"
     ]
    },
    {
     "name": "stderr",
     "output_type": "stream",
     "text": [
      "Generating meta training data: |██████████|100%\n",
      "Generating meta test data: |██████████|100%\n"
     ]
    },
    {
     "name": "stdout",
     "output_type": "stream",
     "text": [
      "\n",
      "... for final ensemble...\n"
     ]
    },
    {
     "name": "stderr",
     "output_type": "stream",
     "text": [
      "Generating meta training data: |██████████|100%\n",
      "Training final base predictors: |██████████|100%\n"
     ]
    },
    {
     "name": "stdout",
     "output_type": "stream",
     "text": [
      "\n",
      "\n"
     ]
    },
    {
     "name": "stderr",
     "output_type": "stream",
     "text": [
      "Analyzing ensembles: |██████████|100%\n",
      "Training final meta models: |██████████|100%\n"
     ]
    }
   ],
   "source": [
    "class_EIs = []\n",
    "for label in np.unique(labels):\n",
    "    encoding_dict = {outcome: 0 for outcome in labels}\n",
    "    encoding_dict[label] = 1\n",
    "    y_train_label = y_train.map(encoding_dict)\n",
    "    y_test_label = y_test.map(encoding_dict)\n",
    "    EI = EnsembleIntegration(\n",
    "                        base_predictors=base_predictors,\n",
    "                        k_outer=5,\n",
    "                        k_inner=5,\n",
    "                        n_samples=1,\n",
    "                        sampling_strategy=\"undersampling\", #change sampling strategies\n",
    "                        sampling_aggregation=\"mean\",\n",
    "                        n_jobs=-1,\n",
    "                        random_state=38,\n",
    "                        project_name=f\"COVID {label}\",\n",
    "                        model_building=True,\n",
    "                        )\n",
    "    EI.fit_base(X_train, y_train_label, base_predictors=base_predictors)\n",
    "    EI.fit_meta(meta_predictors=meta_predictors)\n",
    "    class_EIs.append(EI)"
   ]
  },
  {
   "cell_type": "code",
   "execution_count": 27,
   "metadata": {},
   "outputs": [
    {
     "data": {
      "text/html": [
       "<div>\n",
       "<style scoped>\n",
       "    .dataframe tbody tr th:only-of-type {\n",
       "        vertical-align: middle;\n",
       "    }\n",
       "\n",
       "    .dataframe tbody tr th {\n",
       "        vertical-align: top;\n",
       "    }\n",
       "\n",
       "    .dataframe thead th {\n",
       "        text-align: right;\n",
       "    }\n",
       "</style>\n",
       "<table border=\"1\" class=\"dataframe\">\n",
       "  <thead>\n",
       "    <tr style=\"text-align: right;\">\n",
       "      <th></th>\n",
       "      <th>Mean</th>\n",
       "      <th>CES</th>\n",
       "      <th>S.ADAB</th>\n",
       "      <th>S.XGB</th>\n",
       "      <th>S.DT</th>\n",
       "      <th>S.RF</th>\n",
       "      <th>S.GB</th>\n",
       "      <th>S.KNN</th>\n",
       "      <th>S.LR</th>\n",
       "      <th>S.NB</th>\n",
       "      <th>S.MLP</th>\n",
       "      <th>S.SVM</th>\n",
       "    </tr>\n",
       "  </thead>\n",
       "  <tbody>\n",
       "    <tr>\n",
       "      <th>fmax (minority)</th>\n",
       "      <td>0.320000</td>\n",
       "      <td>0.254107</td>\n",
       "      <td>0.281016</td>\n",
       "      <td>0.274510</td>\n",
       "      <td>0.213457</td>\n",
       "      <td>0.307414</td>\n",
       "      <td>0.312812</td>\n",
       "      <td>0.257325</td>\n",
       "      <td>0.324921</td>\n",
       "      <td>0.332779</td>\n",
       "      <td>0.308642</td>\n",
       "      <td>0.227882</td>\n",
       "    </tr>\n",
       "    <tr>\n",
       "      <th>f (majority)</th>\n",
       "      <td>0.957141</td>\n",
       "      <td>0.891127</td>\n",
       "      <td>0.925989</td>\n",
       "      <td>0.919740</td>\n",
       "      <td>0.949681</td>\n",
       "      <td>0.942101</td>\n",
       "      <td>0.937110</td>\n",
       "      <td>0.908664</td>\n",
       "      <td>0.934496</td>\n",
       "      <td>0.938937</td>\n",
       "      <td>0.931288</td>\n",
       "      <td>0.910308</td>\n",
       "    </tr>\n",
       "    <tr>\n",
       "      <th>AUC</th>\n",
       "      <td>0.849634</td>\n",
       "      <td>0.798922</td>\n",
       "      <td>0.801936</td>\n",
       "      <td>0.819137</td>\n",
       "      <td>0.592325</td>\n",
       "      <td>0.828647</td>\n",
       "      <td>0.840996</td>\n",
       "      <td>0.699774</td>\n",
       "      <td>0.860438</td>\n",
       "      <td>0.854752</td>\n",
       "      <td>0.842243</td>\n",
       "      <td>0.723112</td>\n",
       "    </tr>\n",
       "    <tr>\n",
       "      <th>max MCC</th>\n",
       "      <td>0.287728</td>\n",
       "      <td>0.241187</td>\n",
       "      <td>0.241176</td>\n",
       "      <td>0.241769</td>\n",
       "      <td>0.165199</td>\n",
       "      <td>0.277635</td>\n",
       "      <td>0.283838</td>\n",
       "      <td>0.232450</td>\n",
       "      <td>0.308175</td>\n",
       "      <td>0.304364</td>\n",
       "      <td>0.280491</td>\n",
       "      <td>0.186543</td>\n",
       "    </tr>\n",
       "  </tbody>\n",
       "</table>\n",
       "</div>"
      ],
      "text/plain": [
       "                     Mean       CES    S.ADAB     S.XGB      S.DT      S.RF  \\\n",
       "fmax (minority)  0.320000  0.254107  0.281016  0.274510  0.213457  0.307414   \n",
       "f (majority)     0.957141  0.891127  0.925989  0.919740  0.949681  0.942101   \n",
       "AUC              0.849634  0.798922  0.801936  0.819137  0.592325  0.828647   \n",
       "max MCC          0.287728  0.241187  0.241176  0.241769  0.165199  0.277635   \n",
       "\n",
       "                     S.GB     S.KNN      S.LR      S.NB     S.MLP     S.SVM  \n",
       "fmax (minority)  0.312812  0.257325  0.324921  0.332779  0.308642  0.227882  \n",
       "f (majority)     0.937110  0.908664  0.934496  0.938937  0.931288  0.910308  \n",
       "AUC              0.840996  0.699774  0.860438  0.854752  0.842243  0.723112  \n",
       "max MCC          0.283838  0.232450  0.308175  0.304364  0.280491  0.186543  "
      ]
     },
     "execution_count": 27,
     "metadata": {},
     "output_type": "execute_result"
    }
   ],
   "source": [
    "class_EIs[1].meta_summary[\"metrics\"]"
   ]
  },
  {
   "cell_type": "code",
   "execution_count": 28,
   "metadata": {},
   "outputs": [],
   "source": [
    "metrics = [\"fmax (minority)\", \"f (majority)\", \"AUC\", \"max MCC\"]\n",
    "metric_predictions = []\n",
    "for metric in metrics:\n",
    "    metric_class_predictions = []\n",
    "    for ensemble in class_EIs:\n",
    "        preferred_class_model = ensemble.meta_summary[\"metrics\"].loc[metric].idxmax()\n",
    "        metric_class_predictions.append(ensemble.predict(X_dict=X_test, meta_model_key=preferred_class_model))\n",
    "    metric_predictions.append(metric_class_predictions)"
   ]
  },
  {
   "cell_type": "code",
   "execution_count": 30,
   "metadata": {},
   "outputs": [
    {
     "data": {
      "text/plain": [
       "array([[[9.50000000e-01, 8.10000000e-01, 3.80000000e-01, ...,\n",
       "         8.30000000e-01, 8.80000000e-01, 8.60000000e-01],\n",
       "        [2.98968093e-19, 1.06259102e-10, 4.87224386e-02, ...,\n",
       "         3.78958153e-11, 2.24547439e-10, 6.82649849e-12],\n",
       "        [1.83329525e-05, 3.60095372e-05, 9.99999797e-01, ...,\n",
       "         1.70981560e-03, 1.61067047e-06, 8.46504832e-03],\n",
       "        [4.87656781e-03, 4.79104073e-03, 3.74552195e-02, ...,\n",
       "         8.06705016e-02, 9.11710391e-03, 7.05308423e-03],\n",
       "        [1.08804558e-02, 1.88387677e-02, 8.58915827e-02, ...,\n",
       "         9.70064988e-03, 4.41971295e-02, 2.14357901e-02],\n",
       "        [3.23249343e-06, 7.83270434e-06, 4.52040888e-01, ...,\n",
       "         1.17977956e-01, 4.79948377e-04, 1.39027502e-02]],\n",
       "\n",
       "       [[1.00000000e+00, 9.99999963e-01, 5.77192359e-05, ...,\n",
       "         9.99087988e-01, 9.99991786e-01, 9.41268972e-01],\n",
       "        [1.95327363e-01, 3.24580785e-01, 4.75584223e-01, ...,\n",
       "         3.30874628e-01, 3.46120841e-01, 3.39195611e-01],\n",
       "        [0.00000000e+00, 0.00000000e+00, 0.00000000e+00, ...,\n",
       "         0.00000000e+00, 0.00000000e+00, 0.00000000e+00],\n",
       "        [4.87656781e-03, 4.79104073e-03, 3.74552195e-02, ...,\n",
       "         8.06705016e-02, 9.11710391e-03, 7.05308423e-03],\n",
       "        [1.35954079e-03, 4.36589149e-03, 4.23668232e-02, ...,\n",
       "         4.51581345e-03, 2.34479681e-02, 1.30107468e-02],\n",
       "        [6.00000000e-02, 6.00000000e-02, 1.20000000e-01, ...,\n",
       "         8.00000000e-02, 1.10000000e-01, 7.00000000e-02]],\n",
       "\n",
       "       [[9.82922724e-01, 9.25543092e-01, 5.08458555e-01, ...,\n",
       "         9.14030003e-01, 8.80077516e-01, 8.66163002e-01],\n",
       "        [3.37464294e-03, 1.08362457e-02, 1.59673062e-01, ...,\n",
       "         5.25295958e-03, 1.15427773e-02, 7.13276655e-03],\n",
       "        [1.01084837e-02, 2.19643223e-02, 1.42560494e-01, ...,\n",
       "         1.70656846e-02, 2.59209438e-02, 1.21803876e-02],\n",
       "        [4.87656781e-03, 4.79104073e-03, 3.74552195e-02, ...,\n",
       "         8.06705016e-02, 9.11710391e-03, 7.05308423e-03],\n",
       "        [1.08804558e-02, 1.88387677e-02, 8.58915827e-02, ...,\n",
       "         9.70064988e-03, 4.41971295e-02, 2.14357901e-02],\n",
       "        [4.12890288e-02, 3.17059829e-02, 1.21530279e-01, ...,\n",
       "         1.21667394e-01, 8.55391079e-02, 7.61488982e-02]],\n",
       "\n",
       "       [[9.50000000e-01, 8.10000000e-01, 3.80000000e-01, ...,\n",
       "         8.30000000e-01, 8.80000000e-01, 8.60000000e-01],\n",
       "        [3.37464294e-03, 1.08362457e-02, 1.59673062e-01, ...,\n",
       "         5.25295958e-03, 1.15427773e-02, 7.13276655e-03],\n",
       "        [1.01084837e-02, 2.19643223e-02, 1.42560494e-01, ...,\n",
       "         1.70656846e-02, 2.59209438e-02, 1.21803876e-02],\n",
       "        [4.87656781e-03, 4.79104073e-03, 3.74552195e-02, ...,\n",
       "         8.06705016e-02, 9.11710391e-03, 7.05308423e-03],\n",
       "        [1.08804558e-02, 1.88387677e-02, 8.58915827e-02, ...,\n",
       "         9.70064988e-03, 4.41971295e-02, 2.14357901e-02],\n",
       "        [4.12890288e-02, 3.17059829e-02, 1.21530279e-01, ...,\n",
       "         1.21667394e-01, 8.55391079e-02, 7.61488982e-02]]])"
      ]
     },
     "execution_count": 30,
     "metadata": {},
     "output_type": "execute_result"
    }
   ],
   "source": [
    "metric_predictions = np.array(metric_predictions)\n",
    "metric_predictions"
   ]
  },
  {
   "cell_type": "code",
   "execution_count": 52,
   "metadata": {},
   "outputs": [],
   "source": [
    "grouped_metric_predictions = []\n",
    "for i in range(metric_predictions.shape[0]):\n",
    "    grouped_metric_predictions.append(metric_predictions[i].T)\n",
    "grouped_metric_predictions=np.array(grouped_metric_predictions)"
   ]
  },
  {
   "cell_type": "code",
   "execution_count": 56,
   "metadata": {},
   "outputs": [
    {
     "data": {
      "text/plain": [
       "(1195, 6)"
      ]
     },
     "execution_count": 56,
     "metadata": {},
     "output_type": "execute_result"
    }
   ],
   "source": [
    "grouped_metric_predictions[0].shape"
   ]
  },
  {
   "cell_type": "code",
   "execution_count": 57,
   "metadata": {},
   "outputs": [],
   "source": [
    "metric_preds_dict = {}\n",
    "for i in range(grouped_metric_predictions.shape[0]):\n",
    "    argmax_values = np.argmax(grouped_metric_predictions[i], axis=1)\n",
    "    metric_preds_dict[metrics[i]] = argmax_values.reshape(-1, 1)"
   ]
  },
  {
   "cell_type": "code",
   "execution_count": 60,
   "metadata": {},
   "outputs": [
    {
     "data": {
      "text/plain": [
       "array([0, 1, 2, 5])"
      ]
     },
     "execution_count": 60,
     "metadata": {},
     "output_type": "execute_result"
    }
   ],
   "source": [
    "metric_preds_dict[\"AUC\"]"
   ]
  },
  {
   "cell_type": "code",
   "execution_count": 61,
   "metadata": {},
   "outputs": [],
   "source": [
    "def accuracy(preds, test):\n",
    "    return sum([1*(y==y_hat)+0*(y!=y_hat) for y,y_hat in list(zip(test, preds))])/len(test)"
   ]
  },
  {
   "cell_type": "code",
   "execution_count": 62,
   "metadata": {},
   "outputs": [
    {
     "name": "stdout",
     "output_type": "stream",
     "text": [
      "fmax (minority), [0.59497908]\n",
      "f (majority), [0.5790795]\n",
      "AUC, [0.72803347]\n",
      "max MCC, [0.72552301]\n"
     ]
    }
   ],
   "source": [
    "for k,v in metric_preds_dict.items():\n",
    "    print(f\"{k}, {accuracy(v,y_test)}\")"
   ]
  },
  {
   "cell_type": "code",
   "execution_count": null,
   "metadata": {},
   "outputs": [],
   "source": []
  }
 ],
 "metadata": {
  "kernelspec": {
   "display_name": ".venv",
   "language": "python",
   "name": "python3"
  },
  "language_info": {
   "codemirror_mode": {
    "name": "ipython",
    "version": 3
   },
   "file_extension": ".py",
   "mimetype": "text/x-python",
   "name": "python",
   "nbconvert_exporter": "python",
   "pygments_lexer": "ipython3",
   "version": "3.9.16"
  },
  "orig_nbformat": 4
 },
 "nbformat": 4,
 "nbformat_minor": 2
}
