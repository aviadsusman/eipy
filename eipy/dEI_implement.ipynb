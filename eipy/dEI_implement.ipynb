{
 "cells": [
  {
   "cell_type": "code",
   "execution_count": 1,
   "metadata": {},
   "outputs": [
    {
     "name": "stderr",
     "output_type": "stream",
     "text": [
      "2024-01-31 20:31:17.819469: I external/local_tsl/tsl/cuda/cudart_stub.cc:31] Could not find cuda drivers on your machine, GPU will not be used.\n",
      "2024-01-31 20:31:17.849043: E external/local_xla/xla/stream_executor/cuda/cuda_dnn.cc:9261] Unable to register cuDNN factory: Attempting to register factory for plugin cuDNN when one has already been registered\n",
      "2024-01-31 20:31:17.849069: E external/local_xla/xla/stream_executor/cuda/cuda_fft.cc:607] Unable to register cuFFT factory: Attempting to register factory for plugin cuFFT when one has already been registered\n",
      "2024-01-31 20:31:17.849853: E external/local_xla/xla/stream_executor/cuda/cuda_blas.cc:1515] Unable to register cuBLAS factory: Attempting to register factory for plugin cuBLAS when one has already been registered\n",
      "2024-01-31 20:31:17.854610: I external/local_tsl/tsl/cuda/cudart_stub.cc:31] Could not find cuda drivers on your machine, GPU will not be used.\n",
      "2024-01-31 20:31:17.855569: I tensorflow/core/platform/cpu_feature_guard.cc:182] This TensorFlow binary is optimized to use available CPU instructions in performance-critical operations.\n",
      "To enable the following instructions: AVX2 FMA, in other operations, rebuild TensorFlow with the appropriate compiler flags.\n",
      "2024-01-31 20:31:18.548226: W tensorflow/compiler/tf2tensorrt/utils/py_utils.cc:38] TF-TRT Warning: Could not find TensorRT\n"
     ]
    }
   ],
   "source": [
    "import numpy as np\n",
    "import pandas as pd\n",
    "import eipy.ei as e\n",
    "import tensorflow as tf\n",
    "import pickle as pkl\n",
    "from skimage.transform import resize\n",
    "from importlib import reload\n",
    "\n",
    "from sklearn.ensemble import AdaBoostClassifier, GradientBoostingClassifier, RandomForestClassifier\n",
    "from sklearn.tree import DecisionTreeClassifier\n",
    "from sklearn.neighbors import KNeighborsClassifier\n",
    "from sklearn.linear_model import LogisticRegression\n",
    "from sklearn.naive_bayes import GaussianNB\n",
    "from sklearn.svm import SVC\n",
    "from sklearn.neural_network import MLPClassifier\n",
    "from xgboost import XGBClassifier\n",
    "from eipy.additional_ensembles import MeanAggregation, CES\n",
    "from eipy.metrics import fmax_score\n",
    "from sklearn.metrics import roc_auc_score, matthews_corrcoef"
   ]
  },
  {
   "cell_type": "code",
   "execution_count": 2,
   "metadata": {},
   "outputs": [],
   "source": [
    "ensemble_predictors = {\n",
    "                    'Mean' : MeanAggregation(),\n",
    "                    'CES' : CES(scoring=lambda y_test, y_pred: fmax_score(y_test, y_pred)[0]),\n",
    "                    'S.ADAB': AdaBoostClassifier(),\n",
    "                    'S.XGB': XGBClassifier(),\n",
    "                    'S.DT': DecisionTreeClassifier(),\n",
    "                    \"S.RF\": RandomForestClassifier(),\n",
    "                    'S.GB': GradientBoostingClassifier(),\n",
    "                    'S.KNN': KNeighborsClassifier(),\n",
    "                    'S.LR': LogisticRegression(),\n",
    "                    'S.NB': GaussianNB(),\n",
    "                    'S.MLP': MLPClassifier(),\n",
    "                    'S.SVM': SVC(probability=True),\n",
    "}"
   ]
  },
  {
   "cell_type": "code",
   "execution_count": 3,
   "metadata": {},
   "outputs": [],
   "source": [
    "from keras import layers, models\n",
    "from keras.applications import ResNet50, MobileNet, InceptionV3, DenseNet121\n",
    "\n",
    "res_model = ResNet50(weights='imagenet', include_top=False)\n",
    "for layer in res_model.layers:\n",
    "    layer.trainable = False\n",
    "collecting_layer = layers.GlobalAveragePooling2D()(res_model.output)\n",
    "output_layer = layers.Dense(1, activation='sigmoid')(collecting_layer)\n",
    "res_model = models.Model(inputs=res_model.input, outputs=output_layer)\n",
    "res_model.compile(optimizer='adam', loss='binary_crossentropy', metrics=['accuracy'])\n",
    "\n",
    "# base_model = MobileNet(weights='imagenet', include_top=False)\n",
    "# x = base_model.output\n",
    "# for layer in base_model.layers:\n",
    "#     layer.trainable = False\n",
    "# x = layers.GlobalAveragePooling2D()(x)\n",
    "# x = layers.Dense(1024, activation='relu')(x)\n",
    "# predictions = layers.Dense(1, activation='sigmoid')(x)\n",
    "# net_model = models.Model(inputs=base_model.input, outputs=predictions)\n",
    "# net_model.compile(optimizer='adam', loss='binary_crossentropy', metrics=['accuracy'])\n",
    "\n",
    "# pretrained_model = InceptionV3(weights='imagenet', include_top=False)\n",
    "# for layer in pretrained_model.layers:\n",
    "#     layer.trainable = False\n",
    "# collecting_layer = layers.GlobalAveragePooling2D()(pretrained_model.output)\n",
    "# output_layer = layers.Dense(1, activation='sigmoid')(collecting_layer)\n",
    "# v3_model = models.Model(inputs=pretrained_model.input, outputs=output_layer)\n",
    "# v3_model.compile(optimizer='adam', loss='binary_crossentropy', metrics=['accuracy'])\n",
    "\n",
    "# dense_model = DenseNet121(weights='imagenet', include_top=False)\n",
    "# for layer in pretrained_model.layers:\n",
    "#     layer.trainable = False\n",
    "# collecting_layer = layers.GlobalAveragePooling2D()(pretrained_model.output)\n",
    "# output_layer = layers.Dense(1, activation='sigmoid')(collecting_layer)\n",
    "# dense121_model = models.Model(inputs=pretrained_model.input, outputs=output_layer)\n",
    "# dense121_model.compile(optimizer='adam', loss='binary_crossentropy', metrics=['accuracy'])\n",
    "\n",
    "base_predictors = {\"ResNet\" : res_model,\n",
    "                #    \"MobileNet\" : net_model,\n",
    "                #    \"Inception\" : v3_model,\n",
    "                #    \"DenseNet\" : dense121_model\n",
    "}"
   ]
  },
  {
   "cell_type": "code",
   "execution_count": 4,
   "metadata": {},
   "outputs": [],
   "source": [
    "metrics = {\n",
    "            'f_max': fmax_score,\n",
    "            'auc': roc_auc_score,\n",
    "            'mcc': matthews_corrcoef\n",
    "            }"
   ]
  },
  {
   "cell_type": "code",
   "execution_count": 5,
   "metadata": {},
   "outputs": [],
   "source": [
    "(X_train, y_train), (X_test, y_test) = tf.keras.datasets.cifar10.load_data()"
   ]
  },
  {
   "cell_type": "code",
   "execution_count": 6,
   "metadata": {},
   "outputs": [],
   "source": [
    "train_size = 100\n",
    "X_train, y_train = X_train[:train_size], y_train[:train_size]\n",
    "X_test, y_test = X_test[train_size:train_size+int(train_size/10)], y_test[train_size:train_size+int(train_size/10)]"
   ]
  },
  {
   "cell_type": "code",
   "execution_count": 7,
   "metadata": {},
   "outputs": [],
   "source": [
    "inanimate_labels=[0,1,8,9]\n",
    "def binarize_array(arr):\n",
    "    mask = np.isin(arr, inanimate_labels)\n",
    "\n",
    "    arr = np.where(mask, 0, 1)\n",
    "\n",
    "    return arr\n",
    "y_train = binarize_array(y_train)\n",
    "y_test = binarize_array(y_test)"
   ]
  },
  {
   "cell_type": "code",
   "execution_count": 8,
   "metadata": {},
   "outputs": [],
   "source": [
    "new_size = (224, 224)\n",
    "\n",
    "X_train_resized = np.empty((X_train.shape[0], new_size[0], new_size[1], 3))\n",
    "X_test_resized = np.empty((X_test.shape[0], new_size[0], new_size[1], 3))\n",
    "\n",
    "for i in range(X_train.shape[0]):\n",
    "    X_train_resized[i] = resize(X_train[i], new_size, preserve_range=True, mode='reflect')\n",
    "for i in range(X_test.shape[0]):\n",
    "    X_test_resized[i] = resize(X_test[i], new_size, preserve_range=True, mode='reflect')"
   ]
  },
  {
   "cell_type": "code",
   "execution_count": 36,
   "metadata": {},
   "outputs": [
    {
     "data": {
      "text/plain": [
       "<module 'eipy.ei' from '/home/opc/eipy/eipy/ei.py'>"
      ]
     },
     "execution_count": 36,
     "metadata": {},
     "output_type": "execute_result"
    }
   ],
   "source": [
    "####HI OVER HERE###\n",
    "reload(e)\n",
    "###HEYOOOOOO#"
   ]
  },
  {
   "cell_type": "code",
   "execution_count": 37,
   "metadata": {},
   "outputs": [],
   "source": [
    "EI = e.EnsembleIntegration(\n",
    "                        base_predictors=base_predictors,\n",
    "                        k_outer=5,\n",
    "                        k_inner=5,\n",
    "                        n_samples=2,\n",
    "                        sampling_strategy=\"hybrid\",\n",
    "                        sampling_aggregation=\"mean\",\n",
    "                        n_jobs=-1,\n",
    "                        metrics=metrics,\n",
    "                        random_state=38,\n",
    "                        project_name=\"dl\",\n",
    "                        model_building=True,\n",
    "                        )"
   ]
  },
  {
   "cell_type": "code",
   "execution_count": 38,
   "metadata": {},
   "outputs": [
    {
     "name": "stdout",
     "output_type": "stream",
     "text": [
      "Training base predictors on images...\n",
      "        \n",
      "... for ensemble performance analysis...\n",
      "8/8 [==============================] - 1s 127ms/step - loss: 0.2557 - accuracy: 0.9500\n",
      "3/3 [==============================] - 1s 266ms/step\n",
      "1/1 [==============================] - 0s 241ms/step\n",
      "8/8 [==============================] - 1s 126ms/step - loss: 0.2495 - accuracy: 0.9625\n",
      "3/3 [==============================] - 1s 261ms/step\n",
      "1/1 [==============================] - 0s 245ms/step\n",
      "8/8 [==============================] - 1s 129ms/step - loss: 0.2824 - accuracy: 0.9500\n",
      "3/3 [==============================] - 1s 264ms/step\n",
      "1/1 [==============================] - 0s 237ms/step\n",
      "8/8 [==============================] - 1s 128ms/step - loss: 0.2559 - accuracy: 0.9250\n",
      "3/3 [==============================] - 1s 271ms/step\n",
      "1/1 [==============================] - 0s 247ms/step\n",
      "8/8 [==============================] - 1s 131ms/step - loss: 0.2573 - accuracy: 0.9625\n",
      "3/3 [==============================] - 1s 265ms/step\n",
      "1/1 [==============================] - 0s 242ms/step\n",
      "8/8 [==============================] - 1s 127ms/step - loss: 0.2143 - accuracy: 0.9875\n",
      "3/3 [==============================] - 1s 258ms/step\n",
      "1/1 [==============================] - 0s 245ms/step\n",
      "8/8 [==============================] - 1s 127ms/step - loss: 0.2500 - accuracy: 0.9625\n",
      "3/3 [==============================] - 1s 262ms/step\n",
      "1/1 [==============================] - 0s 242ms/step\n",
      "8/8 [==============================] - 1s 125ms/step - loss: 0.2677 - accuracy: 0.9500\n",
      "3/3 [==============================] - 1s 264ms/step\n",
      "1/1 [==============================] - 0s 247ms/step\n",
      "8/8 [==============================] - 1s 126ms/step - loss: 0.2553 - accuracy: 0.9625\n",
      "3/3 [==============================] - 1s 272ms/step\n",
      "1/1 [==============================] - 0s 234ms/step\n",
      "8/8 [==============================] - 1s 125ms/step - loss: 0.2552 - accuracy: 0.9750\n",
      "3/3 [==============================] - 1s 266ms/step\n",
      "1/1 [==============================] - 0s 234ms/step\n",
      "\n",
      "... for final ensemble...\n"
     ]
    },
    {
     "name": "stderr",
     "output_type": "stream",
     "text": [
      "Generating final ensemble training data: |          |  0%"
     ]
    },
    {
     "name": "stdout",
     "output_type": "stream",
     "text": [
      "8/8 [==============================] - 1s 125ms/step - loss: 0.2400 - accuracy: 0.9500\n",
      "1/1 [==============================] - 0s 255ms/step\n",
      "8/8 [==============================] - 1s 129ms/step - loss: 0.2746 - accuracy: 0.9375\n",
      "1/1 [==============================] - 0s 243ms/step\n",
      "8/8 [==============================] - 1s 126ms/step - loss: 0.2832 - accuracy: 0.9250\n",
      "1/1 [==============================] - 0s 243ms/step\n",
      "8/8 [==============================] - 1s 125ms/step - loss: 0.2454 - accuracy: 0.9625\n",
      "1/1 [==============================] - 0s 247ms/step\n",
      "8/8 [==============================] - 1s 127ms/step - loss: 0.2494 - accuracy: 0.9625\n",
      "1/1 [==============================] - 0s 243ms/step\n",
      "8/8 [==============================] - 1s 125ms/step - loss: 0.2254 - accuracy: 0.9500\n",
      "1/1 [==============================] - 0s 229ms/step\n",
      "8/8 [==============================] - 1s 125ms/step - loss: 0.2563 - accuracy: 0.9625\n",
      "1/1 [==============================] - 0s 250ms/step\n",
      "8/8 [==============================] - 1s 124ms/step - loss: 0.2463 - accuracy: 0.9750\n",
      "1/1 [==============================] - 0s 239ms/step\n",
      "8/8 [==============================] - 1s 127ms/step - loss: 0.2669 - accuracy: 0.9250\n",
      "1/1 [==============================] - 0s 239ms/step\n",
      "8/8 [==============================] - 1s 128ms/step - loss: 0.2476 - accuracy: 0.9750\n",
      "1/1 [==============================] - 0s 242ms/step\n",
      "4/4 [==============================] - 1s 255ms/step - loss: 0.2480 - accuracy: 0.9500\n",
      "4/4 [==============================] - 1s 250ms/step - loss: 0.2423 - accuracy: 0.9600\n"
     ]
    },
    {
     "name": "stderr",
     "output_type": "stream",
     "text": [
      "Generating final ensemble training data: |██████████|100%"
     ]
    },
    {
     "name": "stdout",
     "output_type": "stream",
     "text": [
      "\n",
      "\n"
     ]
    },
    {
     "name": "stderr",
     "output_type": "stream",
     "text": [
      "\n"
     ]
    }
   ],
   "source": [
    "EI.fit_base(X_train_resized, y_train, modality_name=\"images\")"
   ]
  },
  {
   "cell_type": "code",
   "execution_count": 39,
   "metadata": {},
   "outputs": [
    {
     "data": {
      "text/html": [
       "<div>\n",
       "<style scoped>\n",
       "    .dataframe tbody tr th:only-of-type {\n",
       "        vertical-align: middle;\n",
       "    }\n",
       "\n",
       "    .dataframe tbody tr th {\n",
       "        vertical-align: top;\n",
       "    }\n",
       "\n",
       "    .dataframe thead tr th {\n",
       "        text-align: left;\n",
       "    }\n",
       "</style>\n",
       "<table border=\"1\" class=\"dataframe\">\n",
       "  <thead>\n",
       "    <tr>\n",
       "      <th>modality</th>\n",
       "      <th>images</th>\n",
       "    </tr>\n",
       "    <tr>\n",
       "      <th>base predictor</th>\n",
       "      <th>ResNet</th>\n",
       "    </tr>\n",
       "  </thead>\n",
       "  <tbody>\n",
       "    <tr>\n",
       "      <th>f_max</th>\n",
       "      <td>0.948718</td>\n",
       "    </tr>\n",
       "    <tr>\n",
       "      <th>auc</th>\n",
       "      <td>0.977929</td>\n",
       "    </tr>\n",
       "    <tr>\n",
       "      <th>mcc</th>\n",
       "      <td>0.894625</td>\n",
       "    </tr>\n",
       "  </tbody>\n",
       "</table>\n",
       "</div>"
      ],
      "text/plain": [
       "modality          images\n",
       "base predictor    ResNet\n",
       "f_max           0.948718\n",
       "auc             0.977929\n",
       "mcc             0.894625"
      ]
     },
     "execution_count": 39,
     "metadata": {},
     "output_type": "execute_result"
    }
   ],
   "source": [
    "EI.base_summary[\"metrics\"]"
   ]
  },
  {
   "cell_type": "code",
   "execution_count": 40,
   "metadata": {},
   "outputs": [
    {
     "name": "stderr",
     "output_type": "stream",
     "text": [
      "Analyzing ensembles: |██████████|100%\n",
      "Training final ensemble models: |██████████|100%\n"
     ]
    },
    {
     "data": {
      "text/plain": [
       "<eipy.ei.EnsembleIntegration at 0x7f5a34258670>"
      ]
     },
     "execution_count": 40,
     "metadata": {},
     "output_type": "execute_result"
    }
   ],
   "source": [
    "EI.fit_ensemble(ensemble_predictors=ensemble_predictors)"
   ]
  },
  {
   "cell_type": "code",
   "execution_count": 41,
   "metadata": {},
   "outputs": [
    {
     "data": {
      "text/html": [
       "<div>\n",
       "<style scoped>\n",
       "    .dataframe tbody tr th:only-of-type {\n",
       "        vertical-align: middle;\n",
       "    }\n",
       "\n",
       "    .dataframe tbody tr th {\n",
       "        vertical-align: top;\n",
       "    }\n",
       "\n",
       "    .dataframe thead th {\n",
       "        text-align: right;\n",
       "    }\n",
       "</style>\n",
       "<table border=\"1\" class=\"dataframe\">\n",
       "  <thead>\n",
       "    <tr style=\"text-align: right;\">\n",
       "      <th></th>\n",
       "      <th>Mean</th>\n",
       "      <th>CES</th>\n",
       "      <th>S.ADAB</th>\n",
       "      <th>S.XGB</th>\n",
       "      <th>S.DT</th>\n",
       "      <th>S.RF</th>\n",
       "      <th>S.GB</th>\n",
       "      <th>S.KNN</th>\n",
       "      <th>S.LR</th>\n",
       "      <th>S.NB</th>\n",
       "      <th>S.MLP</th>\n",
       "      <th>S.SVM</th>\n",
       "    </tr>\n",
       "  </thead>\n",
       "  <tbody>\n",
       "    <tr>\n",
       "      <th>f_max</th>\n",
       "      <td>0.948718</td>\n",
       "      <td>0.948718</td>\n",
       "      <td>0.921053</td>\n",
       "      <td>0.938272</td>\n",
       "      <td>0.921053</td>\n",
       "      <td>0.950000</td>\n",
       "      <td>0.921053</td>\n",
       "      <td>0.926829</td>\n",
       "      <td>0.948718</td>\n",
       "      <td>0.950000</td>\n",
       "      <td>0.948718</td>\n",
       "      <td>0.938272</td>\n",
       "    </tr>\n",
       "    <tr>\n",
       "      <th>auc</th>\n",
       "      <td>0.977929</td>\n",
       "      <td>0.977929</td>\n",
       "      <td>0.944610</td>\n",
       "      <td>0.971986</td>\n",
       "      <td>0.936333</td>\n",
       "      <td>0.973896</td>\n",
       "      <td>0.950127</td>\n",
       "      <td>0.970501</td>\n",
       "      <td>0.977929</td>\n",
       "      <td>0.973260</td>\n",
       "      <td>0.977929</td>\n",
       "      <td>0.967742</td>\n",
       "    </tr>\n",
       "    <tr>\n",
       "      <th>mcc</th>\n",
       "      <td>0.894625</td>\n",
       "      <td>0.894625</td>\n",
       "      <td>0.872666</td>\n",
       "      <td>0.901362</td>\n",
       "      <td>0.872666</td>\n",
       "      <td>0.872666</td>\n",
       "      <td>0.872666</td>\n",
       "      <td>0.874722</td>\n",
       "      <td>0.872666</td>\n",
       "      <td>0.872666</td>\n",
       "      <td>0.872666</td>\n",
       "      <td>0.894625</td>\n",
       "    </tr>\n",
       "  </tbody>\n",
       "</table>\n",
       "</div>"
      ],
      "text/plain": [
       "           Mean       CES    S.ADAB     S.XGB      S.DT      S.RF      S.GB  \\\n",
       "f_max  0.948718  0.948718  0.921053  0.938272  0.921053  0.950000  0.921053   \n",
       "auc    0.977929  0.977929  0.944610  0.971986  0.936333  0.973896  0.950127   \n",
       "mcc    0.894625  0.894625  0.872666  0.901362  0.872666  0.872666  0.872666   \n",
       "\n",
       "          S.KNN      S.LR      S.NB     S.MLP     S.SVM  \n",
       "f_max  0.926829  0.948718  0.950000  0.948718  0.938272  \n",
       "auc    0.970501  0.977929  0.973260  0.977929  0.967742  \n",
       "mcc    0.874722  0.872666  0.872666  0.872666  0.894625  "
      ]
     },
     "execution_count": 41,
     "metadata": {},
     "output_type": "execute_result"
    }
   ],
   "source": [
    "EI.ensemble_summary[\"metrics\"]"
   ]
  },
  {
   "cell_type": "code",
   "execution_count": 42,
   "metadata": {},
   "outputs": [
    {
     "name": "stdout",
     "output_type": "stream",
     "text": [
      "1/1 [==============================] - 1s 713ms/step\n",
      "TRUE\n",
      "1/1 [==============================] - 1s 692ms/step\n",
      "TRUE\n"
     ]
    }
   ],
   "source": [
    "X_test_dict = {\"images\": X_test_resized}\n",
    "y_pred = EI.predict(X_test_dict, ensemble_model_key=\"S.LR\")"
   ]
  },
  {
   "cell_type": "code",
   "execution_count": 45,
   "metadata": {},
   "outputs": [
    {
     "data": {
      "text/plain": [
       "0.9"
      ]
     },
     "execution_count": 45,
     "metadata": {},
     "output_type": "execute_result"
    }
   ],
   "source": [
    "from sklearn.metrics import accuracy_score\n",
    "y_pred = [y > 0.5 for y in y_pred]\n",
    "accuracy_score(y_pred, y_test)"
   ]
  },
  {
   "cell_type": "code",
   "execution_count": null,
   "metadata": {},
   "outputs": [],
   "source": []
  }
 ],
 "metadata": {
  "kernelspec": {
   "display_name": ".venv",
   "language": "python",
   "name": "python3"
  },
  "language_info": {
   "codemirror_mode": {
    "name": "ipython",
    "version": 3
   },
   "file_extension": ".py",
   "mimetype": "text/x-python",
   "name": "python",
   "nbconvert_exporter": "python",
   "pygments_lexer": "ipython3",
   "version": "3.9.16"
  }
 },
 "nbformat": 4,
 "nbformat_minor": 2
}
