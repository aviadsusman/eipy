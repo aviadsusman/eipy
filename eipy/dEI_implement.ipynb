{
 "cells": [
  {
   "cell_type": "code",
   "execution_count": 13,
   "metadata": {},
   "outputs": [],
   "source": [
    "import numpy as np\n",
    "import pandas as pd\n",
    "import eipy.ei as e\n",
    "import tensorflow as tf\n",
    "import pickle as pkl\n",
    "from skimage.transform import resize\n",
    "from importlib import reload\n",
    "\n",
    "from sklearn.ensemble import AdaBoostClassifier, GradientBoostingClassifier, RandomForestClassifier\n",
    "from sklearn.tree import DecisionTreeClassifier\n",
    "from sklearn.neighbors import KNeighborsClassifier\n",
    "from sklearn.linear_model import LogisticRegression\n",
    "from sklearn.naive_bayes import GaussianNB\n",
    "from sklearn.svm import SVC\n",
    "from sklearn.neural_network import MLPClassifier\n",
    "from xgboost import XGBClassifier\n",
    "from eipy.additional_ensembles import MeanAggregation, CES\n",
    "from eipy.metrics import fmax_score\n",
    "from sklearn.metrics import roc_auc_score, matthews_corrcoef"
   ]
  },
  {
   "cell_type": "code",
   "execution_count": 14,
   "metadata": {},
   "outputs": [],
   "source": [
    "ensemble_predictors = {\n",
    "                    'Mean' : MeanAggregation(),\n",
    "                    'CES' : CES(scoring=lambda y_test, y_pred: fmax_score(y_test, y_pred)[0]),\n",
    "                    'S.ADAB': AdaBoostClassifier(),\n",
    "                    'S.XGB': XGBClassifier(),\n",
    "                    'S.DT': DecisionTreeClassifier(),\n",
    "                    \"S.RF\": RandomForestClassifier(),\n",
    "                    'S.GB': GradientBoostingClassifier(),\n",
    "                    'S.KNN': KNeighborsClassifier(),\n",
    "                    'S.LR': LogisticRegression(),\n",
    "                    'S.NB': GaussianNB(),\n",
    "                    'S.MLP': MLPClassifier(),\n",
    "                    'S.SVM': SVC(probability=True),\n",
    "}"
   ]
  },
  {
   "cell_type": "code",
   "execution_count": 15,
   "metadata": {},
   "outputs": [
    {
     "name": "stdout",
     "output_type": "stream",
     "text": [
      "WARNING:tensorflow:`input_shape` is undefined or non-square, or `rows` is not in [128, 160, 192, 224]. Weights for input shape (224, 224) will be loaded as the default.\n"
     ]
    }
   ],
   "source": [
    "from keras import layers, models\n",
    "from keras.applications import ResNet50, MobileNet, InceptionV3, DenseNet121\n",
    "\n",
    "res_model = ResNet50(weights='imagenet', include_top=False)\n",
    "for layer in res_model.layers:\n",
    "    layer.trainable = False\n",
    "collecting_layer = layers.GlobalAveragePooling2D()(res_model.output)\n",
    "output_layer = layers.Dense(1, activation='sigmoid')(collecting_layer)\n",
    "res_model = models.Model(inputs=res_model.input, outputs=output_layer)\n",
    "res_model.compile(optimizer='adam', loss='binary_crossentropy', metrics=['accuracy'])\n",
    "\n",
    "base_model = MobileNet(weights='imagenet', include_top=False)\n",
    "x = base_model.output\n",
    "for layer in base_model.layers:\n",
    "    layer.trainable = False\n",
    "x = layers.GlobalAveragePooling2D()(x)\n",
    "x = layers.Dense(1024, activation='relu')(x)\n",
    "predictions = layers.Dense(1, activation='sigmoid')(x)\n",
    "net_model = models.Model(inputs=base_model.input, outputs=predictions)\n",
    "net_model.compile(optimizer='adam', loss='binary_crossentropy', metrics=['accuracy'])\n",
    "\n",
    "pretrained_model = InceptionV3(weights='imagenet', include_top=False)\n",
    "for layer in pretrained_model.layers:\n",
    "    layer.trainable = False\n",
    "collecting_layer = layers.GlobalAveragePooling2D()(pretrained_model.output)\n",
    "output_layer = layers.Dense(1, activation='sigmoid')(collecting_layer)\n",
    "v3_model = models.Model(inputs=pretrained_model.input, outputs=output_layer)\n",
    "v3_model.compile(optimizer='adam', loss='binary_crossentropy', metrics=['accuracy'])\n",
    "\n",
    "dense_model = DenseNet121(weights='imagenet', include_top=False)\n",
    "for layer in pretrained_model.layers:\n",
    "    layer.trainable = False\n",
    "collecting_layer = layers.GlobalAveragePooling2D()(pretrained_model.output)\n",
    "output_layer = layers.Dense(1, activation='sigmoid')(collecting_layer)\n",
    "dense121_model = models.Model(inputs=pretrained_model.input, outputs=output_layer)\n",
    "dense121_model.compile(optimizer='adam', loss='binary_crossentropy', metrics=['accuracy'])\n",
    "\n",
    "base_predictors = {\"ResNet\" : res_model,\n",
    "                   \"MobileNet\" : net_model,\n",
    "                   \"Inception\" : v3_model,\n",
    "                   \"DenseNet\" : dense121_model\n",
    "}"
   ]
  },
  {
   "cell_type": "code",
   "execution_count": 16,
   "metadata": {},
   "outputs": [],
   "source": [
    "metrics = {\n",
    "            'f_max': fmax_score,\n",
    "            'auc': roc_auc_score,\n",
    "            'mcc': matthews_corrcoef\n",
    "            }"
   ]
  },
  {
   "cell_type": "code",
   "execution_count": 17,
   "metadata": {},
   "outputs": [],
   "source": [
    "(X_train, y_train), (X_test, y_test) = tf.keras.datasets.cifar10.load_data()"
   ]
  },
  {
   "cell_type": "code",
   "execution_count": 18,
   "metadata": {},
   "outputs": [],
   "source": [
    "X_train, y_train = X_train[:10000], y_train[:10000]\n",
    "X_test, y_test = X_test[10000:11000], y_test[10000:11000]"
   ]
  },
  {
   "cell_type": "code",
   "execution_count": 19,
   "metadata": {},
   "outputs": [],
   "source": [
    "inanimate_labels=[0,1,8,9]\n",
    "def binarize_array(arr):\n",
    "    mask = np.isin(arr, inanimate_labels)\n",
    "\n",
    "    arr = np.where(mask, 0, 1)\n",
    "\n",
    "    return arr\n",
    "y_train = binarize_array(y_train)\n",
    "y_test = binarize_array(y_test)"
   ]
  },
  {
   "cell_type": "code",
   "execution_count": 23,
   "metadata": {},
   "outputs": [],
   "source": [
    "new_size = (224, 224)\n",
    "\n",
    "X_train_resized = np.empty((X_train.shape[0], new_size[0], new_size[1], 3))\n",
    "X_test_resized = np.empty((X_test.shape[0], new_size[0], new_size[1], 3))\n",
    "\n",
    "for i in range(X_train.shape[0]):\n",
    "    X_train_resized[i] = resize(X_train[i], new_size, preserve_range=True, mode='reflect')\n",
    "for i in range(X_test.shape[0]):\n",
    "    X_test_resized[i] = resize(X_test[i], new_size, preserve_range=True, mode='reflect')"
   ]
  },
  {
   "cell_type": "code",
   "execution_count": 29,
   "metadata": {},
   "outputs": [
    {
     "data": {
      "text/plain": [
       "<module 'eipy.ei' from '/home/opc/eipy/eipy/ei.py'>"
      ]
     },
     "execution_count": 29,
     "metadata": {},
     "output_type": "execute_result"
    }
   ],
   "source": [
    "####HI OVER HERE###\n",
    "reload(e)\n",
    "###HEYOOOOOO#"
   ]
  },
  {
   "cell_type": "code",
   "execution_count": 30,
   "metadata": {},
   "outputs": [],
   "source": [
    "EI = e.EnsembleIntegration(\n",
    "                        base_predictors=base_predictors,\n",
    "                        k_outer=2,\n",
    "                        k_inner=5,\n",
    "                        n_samples=1,\n",
    "                        sampling_strategy=None,\n",
    "                        sampling_aggregation=None,\n",
    "                        n_jobs=-1,\n",
    "                        metrics=metrics,\n",
    "                        random_state=38,\n",
    "                        project_name=\"dl\",\n",
    "                        model_building=False,\n",
    "                        )"
   ]
  },
  {
   "cell_type": "code",
   "execution_count": 31,
   "metadata": {},
   "outputs": [
    {
     "name": "stdout",
     "output_type": "stream",
     "text": [
      "Training base predictors on images...\n",
      "        \n",
      "... for ensemble performance analysis...\n",
      "25/25 [==============================] - 49s 2s/step - loss: 0.2275 - accuracy: 0.9190\n",
      "157/157 [==============================] - 56s 352ms/step\n",
      "157/157 [==============================] - 55s 350ms/step\n",
      "25/25 [==============================] - 49s 2s/step - loss: 0.1616 - accuracy: 0.9398\n",
      "157/157 [==============================] - 54s 346ms/step\n",
      "157/157 [==============================] - 55s 348ms/step\n",
      "25/25 [==============================] - 13s 478ms/step - loss: 0.8748 - accuracy: 0.6638\n",
      "157/157 [==============================] - 14s 87ms/step\n",
      "157/157 [==============================] - 14s 87ms/step\n",
      "25/25 [==============================] - 12s 479ms/step - loss: 0.4077 - accuracy: 0.8160\n",
      "157/157 [==============================] - 14s 90ms/step\n",
      "157/157 [==============================] - 14s 90ms/step\n",
      "25/25 [==============================] - 27s 977ms/step - loss: 3.2638 - accuracy: 0.6044\n",
      "157/157 [==============================] - 27s 168ms/step\n",
      "157/157 [==============================] - 26s 167ms/step\n",
      "25/25 [==============================] - 24s 976ms/step - loss: 2.0918 - accuracy: 0.6338\n",
      "157/157 [==============================] - 26s 167ms/step\n",
      "157/157 [==============================] - 26s 167ms/step\n",
      "25/25 [==============================] - 27s 971ms/step - loss: 3.3242 - accuracy: 0.5674\n",
      "157/157 [==============================] - 27s 167ms/step\n",
      "157/157 [==============================] - 26s 167ms/step\n",
      "25/25 [==============================] - 25s 976ms/step - loss: 1.5275 - accuracy: 0.6582\n",
      "157/157 [==============================] - 26s 168ms/step\n",
      "157/157 [==============================] - 27s 167ms/step\n",
      "(5000,)\n",
      "(5000,)\n",
      "(5000,)\n",
      "(5000,)\n",
      "{('images', 'ResNet', 0): array([0.04770542, 0.266627  , 0.24346246, ..., 0.53117293, 0.87798446,\n",
      "       0.01276997], dtype=float32), ('images', 'MobileNet', 0): array([0.0840716 , 0.979748  , 0.05079518, ..., 0.5034241 , 0.3047699 ,\n",
      "       0.5041346 ], dtype=float32), ('images', 'Inception', 0): array([1.0738939e-03, 6.5129734e-07, 8.6861810e-08, ..., 3.6549143e-02,\n",
      "       9.9015915e-01, 1.0482647e-08], dtype=float32), ('images', 'DenseNet', 0): array([9.9996662e-01, 2.5692868e-06, 2.5484809e-01, ..., 3.9633155e-02,\n",
      "       9.9015844e-01, 5.3156279e-10], dtype=float32)}\n",
      "(5000,)\n",
      "(5000,)\n",
      "(5000,)\n",
      "(5000,)\n",
      "{('images', 'ResNet', 0): array([0.0217266 , 0.95454425, 0.00480974, ..., 0.9246841 , 0.13370562,\n",
      "       0.89074373], dtype=float32), ('images', 'MobileNet', 0): array([0.24291267, 0.91536653, 0.4624577 , ..., 0.9501924 , 0.71309465,\n",
      "       0.62638116], dtype=float32), ('images', 'Inception', 0): array([0.11325391, 0.3647903 , 0.9968779 , ..., 1.        , 0.20564117,\n",
      "       0.9984535 ], dtype=float32), ('images', 'DenseNet', 0): array([2.6293671e-08, 2.1453561e-02, 7.8468256e-02, ..., 1.2547350e-01,\n",
      "       5.0711583e-02, 9.9999344e-01], dtype=float32)}\n",
      "(5000,)\n",
      "(5000,)\n",
      "(5000,)\n",
      "(5000,)\n",
      "{('images', 'ResNet', 0): array([0.02784481, 0.02857521, 0.8164567 , ..., 0.83989537, 0.4155342 ,\n",
      "       0.96853244], dtype=float32), ('images', 'MobileNet', 0): array([0.6852236 , 0.27517346, 0.9738725 , ..., 0.62587506, 0.68457526,\n",
      "       0.9696441 ], dtype=float32), ('images', 'Inception', 0): array([6.1205298e-01, 6.7765291e-07, 9.1291768e-03, ..., 4.2699027e-01,\n",
      "       2.3795182e-02, 1.1212356e-02], dtype=float32), ('images', 'DenseNet', 0): array([9.9248952e-01, 5.5629841e-12, 5.9805828e-01, ..., 9.9995637e-01,\n",
      "       5.2756835e-03, 3.0915064e-03], dtype=float32)}\n",
      "(5000,)\n",
      "(5000,)\n",
      "(5000,)\n",
      "(5000,)\n",
      "{('images', 'ResNet', 0): array([0.9747877 , 0.02859999, 0.26178107, ..., 0.00624742, 0.03066012,\n",
      "       0.9969076 ], dtype=float32), ('images', 'MobileNet', 0): array([0.9726266 , 0.03202693, 0.9589529 , ..., 0.22960955, 0.5421077 ,\n",
      "       0.98428464], dtype=float32), ('images', 'Inception', 0): array([9.8995912e-01, 2.8015760e-01, 8.5262489e-03, ..., 7.1026443e-05,\n",
      "       8.3437473e-01, 9.7379905e-01], dtype=float32), ('images', 'DenseNet', 0): array([5.5436856e-01, 9.9984348e-01, 3.5167235e-05, ..., 2.1136708e-08,\n",
      "       9.9533200e-01, 8.5449415e-01], dtype=float32)}\n",
      "\n",
      "\n"
     ]
    }
   ],
   "source": [
    "EI.fit_base(X_train_resized, y_train, modality_name=\"images\")"
   ]
  },
  {
   "cell_type": "code",
   "execution_count": 32,
   "metadata": {},
   "outputs": [
    {
     "data": {
      "text/html": [
       "<div>\n",
       "<style scoped>\n",
       "    .dataframe tbody tr th:only-of-type {\n",
       "        vertical-align: middle;\n",
       "    }\n",
       "\n",
       "    .dataframe tbody tr th {\n",
       "        vertical-align: top;\n",
       "    }\n",
       "\n",
       "    .dataframe thead tr th {\n",
       "        text-align: left;\n",
       "    }\n",
       "</style>\n",
       "<table border=\"1\" class=\"dataframe\">\n",
       "  <thead>\n",
       "    <tr>\n",
       "      <th>modality</th>\n",
       "      <th colspan=\"4\" halign=\"left\">images</th>\n",
       "    </tr>\n",
       "    <tr>\n",
       "      <th>base predictor</th>\n",
       "      <th>DenseNet</th>\n",
       "      <th>Inception</th>\n",
       "      <th>MobileNet</th>\n",
       "      <th>ResNet</th>\n",
       "    </tr>\n",
       "  </thead>\n",
       "  <tbody>\n",
       "    <tr>\n",
       "      <th>f_max</th>\n",
       "      <td>0.597290</td>\n",
       "      <td>0.579945</td>\n",
       "      <td>0.782852</td>\n",
       "      <td>0.928281</td>\n",
       "    </tr>\n",
       "    <tr>\n",
       "      <th>auc</th>\n",
       "      <td>0.683836</td>\n",
       "      <td>0.656760</td>\n",
       "      <td>0.897688</td>\n",
       "      <td>0.985355</td>\n",
       "    </tr>\n",
       "    <tr>\n",
       "      <th>mcc</th>\n",
       "      <td>0.281926</td>\n",
       "      <td>0.219818</td>\n",
       "      <td>0.608792</td>\n",
       "      <td>0.879091</td>\n",
       "    </tr>\n",
       "  </tbody>\n",
       "</table>\n",
       "</div>"
      ],
      "text/plain": [
       "modality          images                              \n",
       "base predictor  DenseNet Inception MobileNet    ResNet\n",
       "f_max           0.597290  0.579945  0.782852  0.928281\n",
       "auc             0.683836  0.656760  0.897688  0.985355\n",
       "mcc             0.281926  0.219818  0.608792  0.879091"
      ]
     },
     "execution_count": 32,
     "metadata": {},
     "output_type": "execute_result"
    }
   ],
   "source": [
    "EI.base_summary[\"metrics\"]"
   ]
  },
  {
   "cell_type": "code",
   "execution_count": 35,
   "metadata": {},
   "outputs": [
    {
     "name": "stderr",
     "output_type": "stream",
     "text": [
      "Analyzing ensembles: |██████████|100%\n"
     ]
    },
    {
     "data": {
      "text/plain": [
       "<eipy.ei.EnsembleIntegration at 0x7fc204628b80>"
      ]
     },
     "execution_count": 35,
     "metadata": {},
     "output_type": "execute_result"
    }
   ],
   "source": [
    "EI.fit_ensemble(ensemble_predictors=ensemble_predictors)"
   ]
  },
  {
   "cell_type": "code",
   "execution_count": 37,
   "metadata": {},
   "outputs": [
    {
     "data": {
      "text/html": [
       "<div>\n",
       "<style scoped>\n",
       "    .dataframe tbody tr th:only-of-type {\n",
       "        vertical-align: middle;\n",
       "    }\n",
       "\n",
       "    .dataframe tbody tr th {\n",
       "        vertical-align: top;\n",
       "    }\n",
       "\n",
       "    .dataframe thead th {\n",
       "        text-align: right;\n",
       "    }\n",
       "</style>\n",
       "<table border=\"1\" class=\"dataframe\">\n",
       "  <thead>\n",
       "    <tr style=\"text-align: right;\">\n",
       "      <th></th>\n",
       "      <th>Mean</th>\n",
       "      <th>CES</th>\n",
       "      <th>S.ADAB</th>\n",
       "      <th>S.XGB</th>\n",
       "      <th>S.DT</th>\n",
       "      <th>S.RF</th>\n",
       "      <th>S.GB</th>\n",
       "      <th>S.KNN</th>\n",
       "      <th>S.LR</th>\n",
       "      <th>S.NB</th>\n",
       "      <th>S.MLP</th>\n",
       "      <th>S.SVM</th>\n",
       "    </tr>\n",
       "  </thead>\n",
       "  <tbody>\n",
       "    <tr>\n",
       "      <th>f_max</th>\n",
       "      <td>0.806885</td>\n",
       "      <td>0.851262</td>\n",
       "      <td>0.929144</td>\n",
       "      <td>0.925917</td>\n",
       "      <td>0.898435</td>\n",
       "      <td>0.927879</td>\n",
       "      <td>0.931258</td>\n",
       "      <td>0.925016</td>\n",
       "      <td>0.932652</td>\n",
       "      <td>0.932734</td>\n",
       "      <td>0.932617</td>\n",
       "      <td>0.932158</td>\n",
       "    </tr>\n",
       "    <tr>\n",
       "      <th>auc</th>\n",
       "      <td>0.927993</td>\n",
       "      <td>0.951935</td>\n",
       "      <td>0.985294</td>\n",
       "      <td>0.983581</td>\n",
       "      <td>0.915732</td>\n",
       "      <td>0.982982</td>\n",
       "      <td>0.986111</td>\n",
       "      <td>0.971619</td>\n",
       "      <td>0.986548</td>\n",
       "      <td>0.985631</td>\n",
       "      <td>0.986470</td>\n",
       "      <td>0.973227</td>\n",
       "    </tr>\n",
       "    <tr>\n",
       "      <th>mcc</th>\n",
       "      <td>0.652082</td>\n",
       "      <td>0.729492</td>\n",
       "      <td>0.881637</td>\n",
       "      <td>0.874122</td>\n",
       "      <td>0.830940</td>\n",
       "      <td>0.879304</td>\n",
       "      <td>0.880852</td>\n",
       "      <td>0.874911</td>\n",
       "      <td>0.886864</td>\n",
       "      <td>0.885432</td>\n",
       "      <td>0.886146</td>\n",
       "      <td>0.885263</td>\n",
       "    </tr>\n",
       "  </tbody>\n",
       "</table>\n",
       "</div>"
      ],
      "text/plain": [
       "           Mean       CES    S.ADAB     S.XGB      S.DT      S.RF      S.GB  \\\n",
       "f_max  0.806885  0.851262  0.929144  0.925917  0.898435  0.927879  0.931258   \n",
       "auc    0.927993  0.951935  0.985294  0.983581  0.915732  0.982982  0.986111   \n",
       "mcc    0.652082  0.729492  0.881637  0.874122  0.830940  0.879304  0.880852   \n",
       "\n",
       "          S.KNN      S.LR      S.NB     S.MLP     S.SVM  \n",
       "f_max  0.925016  0.932652  0.932734  0.932617  0.932158  \n",
       "auc    0.971619  0.986548  0.985631  0.986470  0.973227  \n",
       "mcc    0.874911  0.886864  0.885432  0.886146  0.885263  "
      ]
     },
     "execution_count": 37,
     "metadata": {},
     "output_type": "execute_result"
    }
   ],
   "source": [
    "EI.ensemble_summary[\"metrics\"]"
   ]
  },
  {
   "cell_type": "code",
   "execution_count": null,
   "metadata": {},
   "outputs": [],
   "source": []
  }
 ],
 "metadata": {
  "kernelspec": {
   "display_name": ".venv",
   "language": "python",
   "name": "python3"
  },
  "language_info": {
   "codemirror_mode": {
    "name": "ipython",
    "version": 3
   },
   "file_extension": ".py",
   "mimetype": "text/x-python",
   "name": "python",
   "nbconvert_exporter": "python",
   "pygments_lexer": "ipython3",
   "version": "3.9.16"
  }
 },
 "nbformat": 4,
 "nbformat_minor": 2
}
