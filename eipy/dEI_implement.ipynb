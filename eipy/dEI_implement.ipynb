{
 "cells": [
  {
   "cell_type": "code",
   "execution_count": 31,
   "metadata": {},
   "outputs": [
    {
     "name": "stdout",
     "output_type": "stream",
     "text": [
      "WARNING:tensorflow:`input_shape` is undefined or non-square, or `rows` is not in [128, 160, 192, 224]. Weights for input shape (224, 224) will be loaded as the default.\n"
     ]
    }
   ],
   "source": [
    "from keras import layers, models\n",
    "from keras.applications import ResNet50, MobileNet, InceptionV3, DenseNet121\n",
    "\n",
    "res_model = ResNet50(weights='imagenet', include_top=False)\n",
    "for layer in res_model.layers:\n",
    "    layer.trainable = False\n",
    "collecting_layer = layers.GlobalAveragePooling2D()(res_model.output)\n",
    "output_layer = layers.Dense(1, activation='sigmoid')(collecting_layer)\n",
    "res_model = models.Model(inputs=res_model.input, outputs=output_layer)\n",
    "res_model.compile(optimizer='adam', loss='binary_crossentropy', metrics=['accuracy'])\n",
    "\n",
    "base_model = MobileNet(weights='imagenet', include_top=False)\n",
    "x = base_model.output\n",
    "for layer in base_model.layers:\n",
    "    layer.trainable = False\n",
    "x = layers.GlobalAveragePooling2D()(x)\n",
    "x = layers.Dense(1024, activation='relu')(x)\n",
    "predictions = layers.Dense(1, activation='sigmoid')(x)\n",
    "net_model = models.Model(inputs=base_model.input, outputs=predictions)\n",
    "net_model.compile(optimizer='adam', loss='binary_crossentropy', metrics=['accuracy'])\n",
    "\n",
    "pretrained_model = InceptionV3(weights='imagenet', include_top=False)\n",
    "for layer in pretrained_model.layers:\n",
    "    layer.trainable = False\n",
    "collecting_layer = layers.GlobalAveragePooling2D()(pretrained_model.output)\n",
    "output_layer = layers.Dense(1, activation='sigmoid')(collecting_layer)\n",
    "v3_model = models.Model(inputs=pretrained_model.input, outputs=output_layer)\n",
    "v3_model.compile(optimizer='adam', loss='binary_crossentropy', metrics=['accuracy'])\n",
    "\n",
    "dense_model = DenseNet121(weights='imagenet', include_top=False)\n",
    "for layer in pretrained_model.layers:\n",
    "    layer.trainable = False\n",
    "collecting_layer = layers.GlobalAveragePooling2D()(pretrained_model.output)\n",
    "output_layer = layers.Dense(1, activation='sigmoid')(collecting_layer)\n",
    "dense121_model = models.Model(inputs=pretrained_model.input, outputs=output_layer)\n",
    "dense121_model.compile(optimizer='adam', loss='binary_crossentropy', metrics=['accuracy'])\n",
    "\n",
    "base_predictors = {\"ResNet\" : res_model,\n",
    "                   \"MobileNet\" : net_model,\n",
    "                   \"Inception\" : v3_model,\n",
    "                   \"DenseNet\" : dense121_model\n",
    "}"
   ]
  },
  {
   "cell_type": "code",
   "execution_count": 32,
   "metadata": {},
   "outputs": [
    {
     "data": {
      "text/plain": [
       "True"
      ]
     },
     "execution_count": 32,
     "metadata": {},
     "output_type": "execute_result"
    }
   ],
   "source": [
    "import keras\n",
    "any(isinstance(model, keras.Model) for model in base_predictors.values())\n"
   ]
  },
  {
   "cell_type": "code",
   "execution_count": 41,
   "metadata": {},
   "outputs": [
    {
     "data": {
      "text/plain": [
       "array([  2,   5,   9,  14,  25,  29,  34,  38,  45,  46,  50,  54,  59,\n",
       "        61,  77,  82,  83,  84,  87,  91, 101, 112, 116, 121, 123, 129,\n",
       "       132, 144, 145, 148,   1,  10,  21,  23,  28,  31,  37,  39,  47,\n",
       "        48,  52,  55,  56,  62,  66,  74,  81,  85,  95,  99, 105, 110,\n",
       "       118, 124, 126, 127, 133, 139, 142, 143,   0,   3,   6,  11,  12,\n",
       "        20,  27,  41,  42,  43,  51,  57,  58,  70,  71,  75,  78,  86,\n",
       "        94,  96, 107, 109, 111, 119, 122, 130, 137, 140, 141, 149,   7,\n",
       "        15,  17,  19,  30,  32,  33,  36,  40,  49,  60,  63,  67,  72,\n",
       "        73,  80,  88,  93,  97,  98, 104, 108, 113, 114, 115, 128, 131,\n",
       "       135, 136, 146,   4,   8,  13,  16,  18,  22,  24,  26,  35,  44,\n",
       "        53,  64,  65,  68,  69,  76,  79,  89,  90,  92, 100, 102, 103,\n",
       "       106, 117, 120, 125, 134, 138, 147])"
      ]
     },
     "execution_count": 41,
     "metadata": {},
     "output_type": "execute_result"
    }
   ],
   "source": [
    "from sklearn.model_selection import StratifiedKFold\n",
    "from sklearn.datasets import load_iris\n",
    "import numpy as np\n",
    "iris = load_iris()\n",
    "X = iris.data\n",
    "y = iris.target\n",
    "cv_inner = StratifiedKFold(n_splits=5, shuffle=True, random_state=38)\n",
    "reordering= np.concatenate([indices[-1] for _, indices in enumerate(cv_inner.split(X,y))])\n",
    "\n",
    "X = X[reordering]\n",
    "y = y[reordering]\n",
    "reordering"
   ]
  },
  {
   "cell_type": "code",
   "execution_count": 42,
   "metadata": {},
   "outputs": [
    {
     "name": "stdout",
     "output_type": "stream",
     "text": [
      "0 (array([  0,   1,   3,   4,   6,   7,   8,  11,  12,  13,  15,  16,  17,\n",
      "        18,  20,  22,  23,  24,  25,  26,  27,  28,  29,  30,  31,  32,\n",
      "        33,  35,  36,  37,  38,  39,  40,  42,  43,  44,  45,  46,  47,\n",
      "        48,  49,  50,  51,  53,  54,  55,  57,  58,  59,  60,  61,  62,\n",
      "        63,  64,  66,  67,  68,  70,  71,  72,  73,  74,  75,  76,  78,\n",
      "        79,  80,  82,  84,  85,  86,  87,  88,  90,  91,  92,  93,  95,\n",
      "        96,  97,  99, 100, 101, 105, 106, 108, 109, 110, 111, 113, 114,\n",
      "       115, 116, 117, 118, 119, 120, 121, 122, 123, 124, 127, 128, 129,\n",
      "       130, 132, 133, 134, 135, 136, 137, 138, 139, 140, 141, 142, 143,\n",
      "       146, 147, 149]), array([  2,   5,   9,  10,  14,  19,  21,  34,  41,  52,  56,  65,  69,\n",
      "        77,  81,  83,  89,  94,  98, 102, 103, 104, 107, 112, 125, 126,\n",
      "       131, 144, 145, 148]))\n",
      "1 (array([  0,   2,   3,   4,   5,   6,   7,   8,   9,  10,  11,  13,  14,\n",
      "        17,  18,  19,  20,  21,  22,  23,  24,  26,  27,  28,  29,  31,\n",
      "        32,  33,  34,  35,  36,  37,  38,  39,  40,  41,  43,  44,  45,\n",
      "        47,  48,  49,  51,  52,  53,  54,  55,  56,  57,  59,  60,  62,\n",
      "        64,  65,  66,  67,  69,  70,  71,  72,  73,  75,  76,  77,  78,\n",
      "        79,  80,  81,  82,  83,  85,  88,  89,  90,  92,  93,  94,  95,\n",
      "        96,  98, 100, 102, 103, 104, 106, 107, 108, 109, 110, 111, 112,\n",
      "       114, 115, 116, 117, 118, 120, 121, 122, 123, 124, 125, 126, 129,\n",
      "       130, 131, 132, 133, 134, 136, 137, 138, 140, 141, 144, 145, 146,\n",
      "       147, 148, 149]), array([  1,  12,  15,  16,  25,  30,  42,  46,  50,  58,  61,  63,  68,\n",
      "        74,  84,  86,  87,  91,  97,  99, 101, 105, 113, 119, 127, 128,\n",
      "       135, 139, 142, 143]))\n",
      "2 (array([  1,   2,   4,   5,   7,   8,   9,  10,  12,  13,  14,  15,  16,\n",
      "        19,  20,  21,  22,  23,  24,  25,  26,  28,  30,  33,  34,  35,\n",
      "        36,  37,  38,  39,  40,  41,  42,  43,  44,  45,  46,  47,  48,\n",
      "        49,  50,  52,  53,  54,  55,  56,  57,  58,  61,  62,  63,  64,\n",
      "        65,  66,  68,  69,  72,  73,  74,  76,  77,  79,  80,  81,  83,\n",
      "        84,  85,  86,  87,  88,  89,  90,  91,  92,  93,  94,  95,  96,\n",
      "        97,  98,  99, 100, 101, 102, 103, 104, 105, 107, 108, 109, 111,\n",
      "       112, 113, 114, 115, 116, 118, 119, 120, 124, 125, 126, 127, 128,\n",
      "       129, 130, 131, 132, 133, 135, 137, 138, 139, 142, 143, 144, 145,\n",
      "       146, 147, 148]), array([  0,   3,   6,  11,  17,  18,  27,  29,  31,  32,  51,  59,  60,\n",
      "        67,  70,  71,  75,  78,  82, 106, 110, 117, 121, 122, 123, 134,\n",
      "       136, 140, 141, 149]))\n",
      "3 (array([  0,   1,   2,   3,   4,   5,   6,   8,   9,  10,  11,  12,  13,\n",
      "        14,  15,  16,  17,  18,  19,  20,  21,  22,  23,  25,  26,  27,\n",
      "        29,  30,  31,  32,  33,  34,  36,  38,  41,  42,  44,  45,  46,\n",
      "        48,  49,  50,  51,  52,  56,  57,  58,  59,  60,  61,  62,  63,\n",
      "        64,  65,  66,  67,  68,  69,  70,  71,  74,  75,  76,  77,  78,\n",
      "        79,  80,  81,  82,  83,  84,  85,  86,  87,  89,  91,  94,  95,\n",
      "        97,  98,  99, 101, 102, 103, 104, 105, 106, 107, 109, 110, 112,\n",
      "       113, 114, 117, 118, 119, 121, 122, 123, 124, 125, 126, 127, 128,\n",
      "       130, 131, 132, 134, 135, 136, 139, 140, 141, 142, 143, 144, 145,\n",
      "       147, 148, 149]), array([  7,  24,  28,  35,  37,  39,  40,  43,  47,  53,  54,  55,  72,\n",
      "        73,  88,  90,  92,  93,  96, 100, 108, 111, 115, 116, 120, 129,\n",
      "       133, 137, 138, 146]))\n",
      "4 (array([  0,   1,   2,   3,   5,   6,   7,   9,  10,  11,  12,  14,  15,\n",
      "        16,  17,  18,  19,  21,  24,  25,  27,  28,  29,  30,  31,  32,\n",
      "        34,  35,  37,  39,  40,  41,  42,  43,  46,  47,  50,  51,  52,\n",
      "        53,  54,  55,  56,  58,  59,  60,  61,  63,  65,  67,  68,  69,\n",
      "        70,  71,  72,  73,  74,  75,  77,  78,  81,  82,  83,  84,  86,\n",
      "        87,  88,  89,  90,  91,  92,  93,  94,  96,  97,  98,  99, 100,\n",
      "       101, 102, 103, 104, 105, 106, 107, 108, 110, 111, 112, 113, 115,\n",
      "       116, 117, 119, 120, 121, 122, 123, 125, 126, 127, 128, 129, 131,\n",
      "       133, 134, 135, 136, 137, 138, 139, 140, 141, 142, 143, 144, 145,\n",
      "       146, 148, 149]), array([  4,   8,  13,  20,  22,  23,  26,  33,  36,  38,  44,  45,  48,\n",
      "        49,  57,  62,  64,  66,  76,  79,  80,  85,  95, 109, 114, 118,\n",
      "       124, 130, 132, 147]))\n"
     ]
    }
   ],
   "source": [
    "for i , indices in enumerate(cv_inner.split(X,y)):\n",
    "    print(i, indices)"
   ]
  },
  {
   "cell_type": "code",
   "execution_count": null,
   "metadata": {},
   "outputs": [],
   "source": [
    "if any(isinstance(model, keras.Model) for model in self.base_predictors.values()):\n",
    "            '''\n",
    "            Basic train test split instead of inner cv. Use test set to get performance. \n",
    "            Use predictions on entire outer training fold to generate meta-training data. Then pass in outer test for to get meta-test data. Build results dict and use existing methods.\n",
    "            '''\n",
    "            for _outer_fold_id, (train_index_outer, _test_index_outer) in enumerate(cv_outer.split):\n",
    "                \n",
    "                #reorder unstructured data in accordance with how the structured data gets reordered by the inner cv.\n",
    "                meta_data_ordering = np.concatenate([indices[-1] for _, indices in enumerate(cv_inner.split(X,y))])\n",
    "                X = X[meta_data_ordering]\n",
    "                y = y[meta_data_ordering]\n",
    "\n",
    "            for model in self.base_predictors.items():\n",
    "                model.fit(X,y, epochs=100)\n"
   ]
  }
 ],
 "metadata": {
  "kernelspec": {
   "display_name": ".venv",
   "language": "python",
   "name": "python3"
  },
  "language_info": {
   "codemirror_mode": {
    "name": "ipython",
    "version": 3
   },
   "file_extension": ".py",
   "mimetype": "text/x-python",
   "name": "python",
   "nbconvert_exporter": "python",
   "pygments_lexer": "ipython3",
   "version": "3.9.16"
  }
 },
 "nbformat": 4,
 "nbformat_minor": 2
}
