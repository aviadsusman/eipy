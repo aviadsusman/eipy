{
 "cells": [
  {
   "cell_type": "code",
   "execution_count": 1,
   "metadata": {},
   "outputs": [
    {
     "name": "stderr",
     "output_type": "stream",
     "text": [
      "2023-11-17 15:35:24.351166: E tensorflow/compiler/xla/stream_executor/cuda/cuda_dnn.cc:9342] Unable to register cuDNN factory: Attempting to register factory for plugin cuDNN when one has already been registered\n",
      "2023-11-17 15:35:24.351231: E tensorflow/compiler/xla/stream_executor/cuda/cuda_fft.cc:609] Unable to register cuFFT factory: Attempting to register factory for plugin cuFFT when one has already been registered\n",
      "2023-11-17 15:35:24.351260: E tensorflow/compiler/xla/stream_executor/cuda/cuda_blas.cc:1518] Unable to register cuBLAS factory: Attempting to register factory for plugin cuBLAS when one has already been registered\n",
      "2023-11-17 15:35:24.357667: I tensorflow/core/platform/cpu_feature_guard.cc:182] This TensorFlow binary is optimized to use available CPU instructions in performance-critical operations.\n",
      "To enable the following instructions: AVX2 FMA, in other operations, rebuild TensorFlow with the appropriate compiler flags.\n"
     ]
    }
   ],
   "source": [
    "import tensorflow as tf\n",
    "import numpy as np\n",
    "import pandas as pd\n",
    "from eipy.deep_ei import EnsembleIntegration"
   ]
  },
  {
   "cell_type": "code",
   "execution_count": 2,
   "metadata": {},
   "outputs": [],
   "source": [
    "from eipy.metrics import fmax_score\n",
    "from sklearn.metrics import roc_auc_score, matthews_corrcoef\n",
    "\n",
    "metrics = {\n",
    "            'f_max': fmax_score,\n",
    "            'auc': roc_auc_score,\n",
    "            'mcc': matthews_corrcoef\n",
    "            }"
   ]
  },
  {
   "cell_type": "code",
   "execution_count": 3,
   "metadata": {},
   "outputs": [],
   "source": [
    "(X_train, y_train), (X_test, y_test) = tf.keras.datasets.cifar10.load_data()"
   ]
  },
  {
   "cell_type": "code",
   "execution_count": 4,
   "metadata": {},
   "outputs": [],
   "source": [
    "y_train = np.where(y_train != 1, 0, y_train)\n",
    "y_test = np.where(y_test != 1, 0, y_test)"
   ]
  },
  {
   "cell_type": "code",
   "execution_count": 5,
   "metadata": {},
   "outputs": [],
   "source": [
    "import pickle as pkl\n",
    "'''with open(\"/home/opc/block_vol/cifar_10_resized_224/X_train.pkl\", \"rb\") as file:\n",
    "    X_train_resized=pkl.load(file=file)\n",
    "file.close()'''\n",
    "with open(\"/home/opc/block_vol/cifar_10_resized_224/X_test.pkl\", \"rb\") as file:\n",
    "    X_test_resized=pkl.load(file=file)\n",
    "file.close()"
   ]
  },
  {
   "cell_type": "code",
   "execution_count": 6,
   "metadata": {},
   "outputs": [],
   "source": [
    "sample_size = 1000\n",
    "X_sample = X_test_resized[:sample_size]\n",
    "y_sample = y_test[:sample_size]"
   ]
  },
  {
   "cell_type": "code",
   "execution_count": 7,
   "metadata": {},
   "outputs": [
    {
     "data": {
      "text/plain": [
       "(1000, 1)"
      ]
     },
     "execution_count": 7,
     "metadata": {},
     "output_type": "execute_result"
    }
   ],
   "source": [
    "y_sample.shape"
   ]
  },
  {
   "cell_type": "code",
   "execution_count": 8,
   "metadata": {},
   "outputs": [
    {
     "data": {
      "text/plain": [
       "\"from sklearn.utils.class_weight import compute_class_weight\\nclass_weights = compute_class_weight('balanced', classes=np.unique(y_train), y=y_train)\\nclass_weight_dict = {i: weight for i, weight in enumerate(class_weights)}\""
      ]
     },
     "execution_count": 8,
     "metadata": {},
     "output_type": "execute_result"
    }
   ],
   "source": [
    "'''from sklearn.utils.class_weight import compute_class_weight\n",
    "class_weights = compute_class_weight('balanced', classes=np.unique(y_train), y=y_train)\n",
    "class_weight_dict = {i: weight for i, weight in enumerate(class_weights)}'''"
   ]
  },
  {
   "cell_type": "code",
   "execution_count": 9,
   "metadata": {},
   "outputs": [],
   "source": [
    "from tensorflow.keras import layers, models\n",
    "from tensorflow.keras.applications import ResNet50\n",
    "res_model = ResNet50(weights='imagenet', include_top=False)\n",
    "for layer in res_model.layers:\n",
    "    layer.trainable = False\n",
    "averaging_layer = layers.GlobalAveragePooling2D()(res_model.output)\n",
    "output_layer = layers.Dense(1, activation='sigmoid')(averaging_layer)\n",
    "\n",
    "res_model = models.Model(inputs=res_model.input, outputs=output_layer)\n",
    "res_model.compile(optimizer='Adam', loss='binary_crossentropy', metrics=['accuracy'])"
   ]
  },
  {
   "cell_type": "code",
   "execution_count": 10,
   "metadata": {},
   "outputs": [
    {
     "data": {
      "text/plain": [
       "\"from skimage.transform import resize\\n\\nnew_size = (224, 224)\\n\\nX_train_resized = np.empty((X_train.shape[0], new_size[0], new_size[1], 3))\\nX_test_resized = np.empty((X_test.shape[0], new_size[0], new_size[1], 3))\\n\\nfor i in range(X_train.shape[0]):\\n    X_train_resized[i] = resize(X_train[i], new_size, preserve_range=True, mode='reflect')\\nfor i in range(X_test.shape[0]):\\n    X_test_resized[i] = resize(X_test[i], new_size, preserve_range=True, mode='reflect')\\n\""
      ]
     },
     "execution_count": 10,
     "metadata": {},
     "output_type": "execute_result"
    }
   ],
   "source": [
    "'''from skimage.transform import resize\n",
    "\n",
    "new_size = (224, 224)\n",
    "\n",
    "X_train_resized = np.empty((X_train.shape[0], new_size[0], new_size[1], 3))\n",
    "X_test_resized = np.empty((X_test.shape[0], new_size[0], new_size[1], 3))\n",
    "\n",
    "for i in range(X_train.shape[0]):\n",
    "    X_train_resized[i] = resize(X_train[i], new_size, preserve_range=True, mode='reflect')\n",
    "for i in range(X_test.shape[0]):\n",
    "    X_test_resized[i] = resize(X_test[i], new_size, preserve_range=True, mode='reflect')\n",
    "'''"
   ]
  },
  {
   "cell_type": "code",
   "execution_count": 11,
   "metadata": {},
   "outputs": [
    {
     "data": {
      "text/plain": [
       "'with open(\"/home/opc/block_vol/cifar_10_resized_224/X_train.pkl\", \"wb\") as file:\\n    pkl.dump(X_train_resized, file=file)\\nfile.close()\\nwith open(\"/home/opc/block_vol/cifar_10_resized_224/X_test.pkl\", \"wb\") as file:\\n    pkl.dump(X_test_resized, file=file)\\nfile.close()'"
      ]
     },
     "execution_count": 11,
     "metadata": {},
     "output_type": "execute_result"
    }
   ],
   "source": [
    "'''with open(\"/home/opc/block_vol/cifar_10_resized_224/X_train.pkl\", \"wb\") as file:\n",
    "    pkl.dump(X_train_resized, file=file)\n",
    "file.close()\n",
    "with open(\"/home/opc/block_vol/cifar_10_resized_224/X_test.pkl\", \"wb\") as file:\n",
    "    pkl.dump(X_test_resized, file=file)\n",
    "file.close()'''"
   ]
  },
  {
   "cell_type": "code",
   "execution_count": 12,
   "metadata": {},
   "outputs": [
    {
     "name": "stdout",
     "output_type": "stream",
     "text": [
      "WARNING:tensorflow:`input_shape` is undefined or non-square, or `rows` is not in [128, 160, 192, 224]. Weights for input shape (224, 224) will be loaded as the default.\n"
     ]
    }
   ],
   "source": [
    "import tensorflow as tf\n",
    "from tensorflow.keras.applications.mobilenet import MobileNet\n",
    "from tensorflow.keras.models import Model\n",
    "from tensorflow.keras.layers import Dense, GlobalAveragePooling2D\n",
    "\n",
    "base_model = MobileNet(weights='imagenet', include_top=False)\n",
    "\n",
    "x = base_model.output\n",
    "for layer in base_model.layers:\n",
    "    layer.trainable = False\n",
    "x = GlobalAveragePooling2D()(x)\n",
    "x = Dense(1024, activation='relu')(x)\n",
    "predictions = Dense(1, activation='sigmoid')(x)\n",
    "net_model = Model(inputs=base_model.input, outputs=predictions)\n",
    "\n",
    "net_model.compile(optimizer='adam', loss='binary_crossentropy', metrics=['accuracy'])"
   ]
  },
  {
   "cell_type": "code",
   "execution_count": 13,
   "metadata": {},
   "outputs": [],
   "source": [
    "base_predictors = {\n",
    "    \"ResNet50\" : res_model,\n",
    "    \"MobileNet\" : net_model\n",
    "}"
   ]
  },
  {
   "cell_type": "code",
   "execution_count": 14,
   "metadata": {},
   "outputs": [],
   "source": [
    "EI = EnsembleIntegration(\n",
    "                        base_predictors=base_predictors,\n",
    "                        k_outer=2,\n",
    "                        k_inner=2,\n",
    "                        n_samples=1,\n",
    "                        sampling_aggregation=\"undersampling\",\n",
    "                        sampling_strategy=None,\n",
    "                        n_jobs=-1,# -1 could be messing up for one bp\n",
    "                        metrics=metrics,\n",
    "                        random_state=38,\n",
    "                        project_name=\"images\",\n",
    "                        model_building=True,\n",
    "                        )"
   ]
  },
  {
   "cell_type": "code",
   "execution_count": 15,
   "metadata": {},
   "outputs": [
    {
     "name": "stdout",
     "output_type": "stream",
     "text": [
      "Training base predictors on shmimage...\n",
      "        \n",
      "... for ensemble performance analysis...\n"
     ]
    },
    {
     "name": "stderr",
     "output_type": "stream",
     "text": [
      "Generating ensemble training data: |          |  0%"
     ]
    },
    {
     "name": "stdout",
     "output_type": "stream",
     "text": [
      "INFO:tensorflow:Assets written to: ram://5c6e310884bc42249a4fc6baae32c526/assets\n"
     ]
    },
    {
     "name": "stderr",
     "output_type": "stream",
     "text": [
      "INFO:tensorflow:Assets written to: ram://5c6e310884bc42249a4fc6baae32c526/assets\n"
     ]
    },
    {
     "name": "stdout",
     "output_type": "stream",
     "text": [
      "INFO:tensorflow:Assets written to: ram://6b6470df9df34ce7ac504bd8057c5c69/assets\n"
     ]
    },
    {
     "name": "stderr",
     "output_type": "stream",
     "text": [
      "INFO:tensorflow:Assets written to: ram://6b6470df9df34ce7ac504bd8057c5c69/assets\n",
      "2023-11-17 15:36:05.384403: E tensorflow/compiler/xla/stream_executor/cuda/cuda_dnn.cc:9342] Unable to register cuDNN factory: Attempting to register factory for plugin cuDNN when one has already been registered\n",
      "2023-11-17 15:36:05.384454: E tensorflow/compiler/xla/stream_executor/cuda/cuda_fft.cc:609] Unable to register cuFFT factory: Attempting to register factory for plugin cuFFT when one has already been registered\n",
      "2023-11-17 15:36:05.384492: E tensorflow/compiler/xla/stream_executor/cuda/cuda_blas.cc:1518] Unable to register cuBLAS factory: Attempting to register factory for plugin cuBLAS when one has already been registered\n",
      "2023-11-17 15:36:05.390707: I tensorflow/core/platform/cpu_feature_guard.cc:182] This TensorFlow binary is optimized to use available CPU instructions in performance-critical operations.\n",
      "To enable the following instructions: AVX2 FMA, in other operations, rebuild TensorFlow with the appropriate compiler flags.\n",
      "2023-11-17 15:36:10.846465: W tensorflow/core/util/tensor_slice_reader.cc:98] Could not open ram://82bc1501c9de451798d177fc0b057e99: INVALID_ARGUMENT: ram://82bc1501c9de451798d177fc0b057e99 is a directory.\n",
      "2023-11-17 15:36:13.054552: W tensorflow/core/util/tensor_slice_reader.cc:98] Could not open ram://8d403647edc6404c96376afb543eb2f5: INVALID_ARGUMENT: ram://8d403647edc6404c96376afb543eb2f5 is a directory.\n"
     ]
    },
    {
     "name": "stdout",
     "output_type": "stream",
     "text": [
      " 15/250 [>.............................] - ETA: 8s - loss: 0.1782 - accuracy: 0.9333INFO:tensorflow:Assets written to: ram://d21d51cef0a34750b355beeab6f6bcac/assets\n"
     ]
    },
    {
     "name": "stderr",
     "output_type": "stream",
     "text": [
      "INFO:tensorflow:Assets written to: ram://d21d51cef0a34750b355beeab6f6bcac/assets\n"
     ]
    },
    {
     "name": "stdout",
     "output_type": "stream",
     "text": [
      "229/250 [==========================>...] - ETA: 0s - loss: 0.3095 - accuracy: 0.8952INFO:tensorflow:Assets written to: ram://f95c79f7c0a04062a423a5b94eb2a04a/assets\n"
     ]
    },
    {
     "name": "stderr",
     "output_type": "stream",
     "text": [
      "INFO:tensorflow:Assets written to: ram://f95c79f7c0a04062a423a5b94eb2a04a/assets\n"
     ]
    },
    {
     "name": "stdout",
     "output_type": "stream",
     "text": [
      "250/250 [==============================] - 9s 33ms/step - loss: 0.3014 - accuracy: 0.9000\n"
     ]
    },
    {
     "name": "stderr",
     "output_type": "stream",
     "text": [
      "2023-11-17 15:36:23.012391: E tensorflow/compiler/xla/stream_executor/cuda/cuda_dnn.cc:9342] Unable to register cuDNN factory: Attempting to register factory for plugin cuDNN when one has already been registered\n",
      "2023-11-17 15:36:23.012444: E tensorflow/compiler/xla/stream_executor/cuda/cuda_fft.cc:609] Unable to register cuFFT factory: Attempting to register factory for plugin cuFFT when one has already been registered\n",
      "2023-11-17 15:36:23.012474: E tensorflow/compiler/xla/stream_executor/cuda/cuda_blas.cc:1518] Unable to register cuBLAS factory: Attempting to register factory for plugin cuBLAS when one has already been registered\n",
      "2023-11-17 15:36:23.018764: I tensorflow/core/platform/cpu_feature_guard.cc:182] This TensorFlow binary is optimized to use available CPU instructions in performance-critical operations.\n",
      "To enable the following instructions: AVX2 FMA, in other operations, rebuild TensorFlow with the appropriate compiler flags.\n"
     ]
    },
    {
     "name": "stdout",
     "output_type": "stream",
     "text": [
      "8/8 [==============================] - 4s 349ms/step\n"
     ]
    },
    {
     "name": "stderr",
     "output_type": "stream",
     "text": [
      "WARNING:tensorflow:Detecting that an object or model or tf.train.Checkpoint is being deleted with unrestored values. See the following logs for the specific values in question. To silence these warnings, use `status.expect_partial()`. See https://www.tensorflow.org/api_docs/python/tf/train/Checkpoint#restorefor details about the status object returned by the restore function.\n",
      "WARNING:tensorflow:Value in checkpoint could not be found in the restored object: (root).keras_api.metrics.0.total\n",
      "WARNING:tensorflow:Value in checkpoint could not be found in the restored object: (root).keras_api.metrics.0.count\n",
      "WARNING:tensorflow:Value in checkpoint could not be found in the restored object: (root).keras_api.metrics.1.total\n",
      "WARNING:tensorflow:Value in checkpoint could not be found in the restored object: (root).keras_api.metrics.1.count\n",
      "WARNING:tensorflow:Detecting that an object or model or tf.train.Checkpoint is being deleted with unrestored values. See the following logs for the specific values in question. To silence these warnings, use `status.expect_partial()`. See https://www.tensorflow.org/api_docs/python/tf/train/Checkpoint#restorefor details about the status object returned by the restore function.\n",
      "WARNING:tensorflow:Value in checkpoint could not be found in the restored object: (root).keras_api.metrics.0.total\n",
      "WARNING:tensorflow:Value in checkpoint could not be found in the restored object: (root).keras_api.metrics.0.count\n",
      "WARNING:tensorflow:Value in checkpoint could not be found in the restored object: (root).keras_api.metrics.1.total\n",
      "WARNING:tensorflow:Value in checkpoint could not be found in the restored object: (root).keras_api.metrics.1.count\n",
      "2023-11-17 15:36:29.827591: W tensorflow/core/util/tensor_slice_reader.cc:98] Could not open ram://adb7d142279141fca1bd1ed66f093fc8: INVALID_ARGUMENT: ram://adb7d142279141fca1bd1ed66f093fc8 is a directory.\n",
      "2023-11-17 15:36:32.008397: W tensorflow/core/util/tensor_slice_reader.cc:98] Could not open ram://1e8dd5ef5fef415da3a0ed8d4ffe6013: INVALID_ARGUMENT: ram://1e8dd5ef5fef415da3a0ed8d4ffe6013 is a directory.\n"
     ]
    },
    {
     "name": "stdout",
     "output_type": "stream",
     "text": [
      " 15/250 [>.............................] - ETA: 8s - loss: 0.1841 - accuracy: 0.8667  INFO:tensorflow:Assets written to: ram://ce12bea223b84708823dc8e74f895ec3/assets\n",
      " 17/250 [=>............................] - ETA: 8s - loss: 0.1642 - accuracy: 0.8824"
     ]
    },
    {
     "name": "stderr",
     "output_type": "stream",
     "text": [
      "INFO:tensorflow:Assets written to: ram://ce12bea223b84708823dc8e74f895ec3/assets\n"
     ]
    },
    {
     "name": "stdout",
     "output_type": "stream",
     "text": [
      "250/250 [==============================] - 9s 33ms/step - loss: 0.3052 - accuracy: 0.9000\n",
      "INFO:tensorflow:Assets written to: ram://2cc4b86ac482491a9140977cba1d776f/assets\n"
     ]
    },
    {
     "name": "stderr",
     "output_type": "stream",
     "text": [
      "INFO:tensorflow:Assets written to: ram://2cc4b86ac482491a9140977cba1d776f/assets\n",
      "2023-11-17 15:36:42.659250: E tensorflow/compiler/xla/stream_executor/cuda/cuda_dnn.cc:9342] Unable to register cuDNN factory: Attempting to register factory for plugin cuDNN when one has already been registered\n",
      "2023-11-17 15:36:42.659302: E tensorflow/compiler/xla/stream_executor/cuda/cuda_fft.cc:609] Unable to register cuFFT factory: Attempting to register factory for plugin cuFFT when one has already been registered\n",
      "2023-11-17 15:36:42.659332: E tensorflow/compiler/xla/stream_executor/cuda/cuda_blas.cc:1518] Unable to register cuBLAS factory: Attempting to register factory for plugin cuBLAS when one has already been registered\n",
      "2023-11-17 15:36:42.665487: I tensorflow/core/platform/cpu_feature_guard.cc:182] This TensorFlow binary is optimized to use available CPU instructions in performance-critical operations.\n",
      "To enable the following instructions: AVX2 FMA, in other operations, rebuild TensorFlow with the appropriate compiler flags.\n"
     ]
    },
    {
     "name": "stdout",
     "output_type": "stream",
     "text": [
      "8/8 [==============================] - 4s 356ms/step\n"
     ]
    },
    {
     "name": "stderr",
     "output_type": "stream",
     "text": [
      "WARNING:tensorflow:Detecting that an object or model or tf.train.Checkpoint is being deleted with unrestored values. See the following logs for the specific values in question. To silence these warnings, use `status.expect_partial()`. See https://www.tensorflow.org/api_docs/python/tf/train/Checkpoint#restorefor details about the status object returned by the restore function.\n",
      "WARNING:tensorflow:Value in checkpoint could not be found in the restored object: (root).keras_api.metrics.0.total\n",
      "WARNING:tensorflow:Value in checkpoint could not be found in the restored object: (root).keras_api.metrics.0.count\n",
      "WARNING:tensorflow:Value in checkpoint could not be found in the restored object: (root).keras_api.metrics.1.total\n",
      "WARNING:tensorflow:Value in checkpoint could not be found in the restored object: (root).keras_api.metrics.1.count\n",
      "WARNING:tensorflow:Detecting that an object or model or tf.train.Checkpoint is being deleted with unrestored values. See the following logs for the specific values in question. To silence these warnings, use `status.expect_partial()`. See https://www.tensorflow.org/api_docs/python/tf/train/Checkpoint#restorefor details about the status object returned by the restore function.\n",
      "WARNING:tensorflow:Value in checkpoint could not be found in the restored object: (root).keras_api.metrics.0.total\n",
      "WARNING:tensorflow:Value in checkpoint could not be found in the restored object: (root).keras_api.metrics.0.count\n",
      "WARNING:tensorflow:Value in checkpoint could not be found in the restored object: (root).keras_api.metrics.1.total\n",
      "WARNING:tensorflow:Value in checkpoint could not be found in the restored object: (root).keras_api.metrics.1.count\n",
      "2023-11-17 15:36:49.855470: W tensorflow/core/util/tensor_slice_reader.cc:98] Could not open ram://3ac0a7b5210642e693780771d7fd5da9: INVALID_ARGUMENT: ram://3ac0a7b5210642e693780771d7fd5da9 is a directory.\n",
      "2023-11-17 15:36:52.001893: W tensorflow/core/util/tensor_slice_reader.cc:98] Could not open ram://30a926fd94554e36868b488b046de4b2: INVALID_ARGUMENT: ram://30a926fd94554e36868b488b046de4b2 is a directory.\n"
     ]
    },
    {
     "name": "stdout",
     "output_type": "stream",
     "text": [
      "INFO:tensorflow:Assets written to: ram://62a5f4f051534e55a41cad75d6d575b3/assets\n"
     ]
    },
    {
     "name": "stderr",
     "output_type": "stream",
     "text": [
      "INFO:tensorflow:Assets written to: ram://62a5f4f051534e55a41cad75d6d575b3/assets\n"
     ]
    },
    {
     "name": "stdout",
     "output_type": "stream",
     "text": [
      "250/250 [==============================] - 4s 13ms/step - loss: 0.6786 - accuracy: 0.9000\n",
      "8/8 [==============================] - 1s 92ms/step\n"
     ]
    },
    {
     "name": "stderr",
     "output_type": "stream",
     "text": [
      "WARNING:tensorflow:Detecting that an object or model or tf.train.Checkpoint is being deleted with unrestored values. See the following logs for the specific values in question. To silence these warnings, use `status.expect_partial()`. See https://www.tensorflow.org/api_docs/python/tf/train/Checkpoint#restorefor details about the status object returned by the restore function.\n",
      "WARNING:tensorflow:Value in checkpoint could not be found in the restored object: (root).keras_api.metrics.0.total\n",
      "WARNING:tensorflow:Value in checkpoint could not be found in the restored object: (root).keras_api.metrics.0.count\n",
      "WARNING:tensorflow:Value in checkpoint could not be found in the restored object: (root).keras_api.metrics.1.total\n",
      "WARNING:tensorflow:Value in checkpoint could not be found in the restored object: (root).keras_api.metrics.1.count\n",
      "WARNING:tensorflow:Detecting that an object or model or tf.train.Checkpoint is being deleted with unrestored values. See the following logs for the specific values in question. To silence these warnings, use `status.expect_partial()`. See https://www.tensorflow.org/api_docs/python/tf/train/Checkpoint#restorefor details about the status object returned by the restore function.\n",
      "WARNING:tensorflow:Value in checkpoint could not be found in the restored object: (root).keras_api.metrics.0.total\n",
      "WARNING:tensorflow:Value in checkpoint could not be found in the restored object: (root).keras_api.metrics.0.count\n",
      "WARNING:tensorflow:Value in checkpoint could not be found in the restored object: (root).keras_api.metrics.1.total\n",
      "WARNING:tensorflow:Value in checkpoint could not be found in the restored object: (root).keras_api.metrics.1.count\n"
     ]
    },
    {
     "name": "stdout",
     "output_type": "stream",
     "text": [
      "INFO:tensorflow:Assets written to: ram://1b5c1aa9afd542ee9c04bd0c08e352f9/assets\n"
     ]
    },
    {
     "name": "stderr",
     "output_type": "stream",
     "text": [
      "INFO:tensorflow:Assets written to: ram://1b5c1aa9afd542ee9c04bd0c08e352f9/assets\n",
      "2023-11-17 15:37:00.222578: E tensorflow/compiler/xla/stream_executor/cuda/cuda_dnn.cc:9342] Unable to register cuDNN factory: Attempting to register factory for plugin cuDNN when one has already been registered\n",
      "2023-11-17 15:37:00.222633: E tensorflow/compiler/xla/stream_executor/cuda/cuda_fft.cc:609] Unable to register cuFFT factory: Attempting to register factory for plugin cuFFT when one has already been registered\n",
      "2023-11-17 15:37:00.222666: E tensorflow/compiler/xla/stream_executor/cuda/cuda_blas.cc:1518] Unable to register cuBLAS factory: Attempting to register factory for plugin cuBLAS when one has already been registered\n",
      "2023-11-17 15:37:00.228928: I tensorflow/core/platform/cpu_feature_guard.cc:182] This TensorFlow binary is optimized to use available CPU instructions in performance-critical operations.\n",
      "To enable the following instructions: AVX2 FMA, in other operations, rebuild TensorFlow with the appropriate compiler flags.\n",
      "2023-11-17 15:37:05.661961: W tensorflow/core/util/tensor_slice_reader.cc:98] Could not open ram://6f4f1415427144919530facf683985cf: INVALID_ARGUMENT: ram://6f4f1415427144919530facf683985cf is a directory.\n",
      "2023-11-17 15:37:07.845071: W tensorflow/core/util/tensor_slice_reader.cc:98] Could not open ram://140beb446bd64b3ab522e62e198a6b19: INVALID_ARGUMENT: ram://140beb446bd64b3ab522e62e198a6b19 is a directory.\n"
     ]
    },
    {
     "name": "stdout",
     "output_type": "stream",
     "text": [
      "250/250 [==============================] - 4s 12ms/step - loss: 0.6331 - accuracy: 0.8760\n",
      "6/8 [=====================>........] - ETA: 0s"
     ]
    },
    {
     "name": "stderr",
     "output_type": "stream",
     "text": [
      "Generating ensemble training data: |█████     | 50%"
     ]
    },
    {
     "name": "stdout",
     "output_type": "stream",
     "text": [
      "8/8 [==============================] - 1s 90ms/step\n"
     ]
    },
    {
     "name": "stderr",
     "output_type": "stream",
     "text": [
      "WARNING:tensorflow:Detecting that an object or model or tf.train.Checkpoint is being deleted with unrestored values. See the following logs for the specific values in question. To silence these warnings, use `status.expect_partial()`. See https://www.tensorflow.org/api_docs/python/tf/train/Checkpoint#restorefor details about the status object returned by the restore function.\n",
      "WARNING:tensorflow:Value in checkpoint could not be found in the restored object: (root).keras_api.metrics.0.total\n",
      "WARNING:tensorflow:Value in checkpoint could not be found in the restored object: (root).keras_api.metrics.0.count\n",
      "WARNING:tensorflow:Value in checkpoint could not be found in the restored object: (root).keras_api.metrics.1.total\n",
      "WARNING:tensorflow:Value in checkpoint could not be found in the restored object: (root).keras_api.metrics.1.count\n",
      "WARNING:tensorflow:Detecting that an object or model or tf.train.Checkpoint is being deleted with unrestored values. See the following logs for the specific values in question. To silence these warnings, use `status.expect_partial()`. See https://www.tensorflow.org/api_docs/python/tf/train/Checkpoint#restorefor details about the status object returned by the restore function.\n",
      "WARNING:tensorflow:Value in checkpoint could not be found in the restored object: (root).keras_api.metrics.0.total\n",
      "WARNING:tensorflow:Value in checkpoint could not be found in the restored object: (root).keras_api.metrics.0.count\n",
      "WARNING:tensorflow:Value in checkpoint could not be found in the restored object: (root).keras_api.metrics.1.total\n",
      "WARNING:tensorflow:Value in checkpoint could not be found in the restored object: (root).keras_api.metrics.1.count\n"
     ]
    },
    {
     "name": "stdout",
     "output_type": "stream",
     "text": [
      "INFO:tensorflow:Assets written to: ram://725ad4e8488b4aa09300c7f1df9cbd95/assets\n"
     ]
    },
    {
     "name": "stderr",
     "output_type": "stream",
     "text": [
      "INFO:tensorflow:Assets written to: ram://725ad4e8488b4aa09300c7f1df9cbd95/assets\n"
     ]
    },
    {
     "name": "stdout",
     "output_type": "stream",
     "text": [
      "INFO:tensorflow:Assets written to: ram://2899376dc0634592a25284775a4d3954/assets\n"
     ]
    },
    {
     "name": "stderr",
     "output_type": "stream",
     "text": [
      "INFO:tensorflow:Assets written to: ram://2899376dc0634592a25284775a4d3954/assets\n",
      "2023-11-17 15:37:28.986515: E tensorflow/compiler/xla/stream_executor/cuda/cuda_dnn.cc:9342] Unable to register cuDNN factory: Attempting to register factory for plugin cuDNN when one has already been registered\n",
      "2023-11-17 15:37:28.986568: E tensorflow/compiler/xla/stream_executor/cuda/cuda_fft.cc:609] Unable to register cuFFT factory: Attempting to register factory for plugin cuFFT when one has already been registered\n",
      "2023-11-17 15:37:28.986601: E tensorflow/compiler/xla/stream_executor/cuda/cuda_blas.cc:1518] Unable to register cuBLAS factory: Attempting to register factory for plugin cuBLAS when one has already been registered\n",
      "2023-11-17 15:37:28.992923: I tensorflow/core/platform/cpu_feature_guard.cc:182] This TensorFlow binary is optimized to use available CPU instructions in performance-critical operations.\n",
      "To enable the following instructions: AVX2 FMA, in other operations, rebuild TensorFlow with the appropriate compiler flags.\n",
      "2023-11-17 15:37:34.519469: W tensorflow/core/util/tensor_slice_reader.cc:98] Could not open ram://ff8684ead00d4d70ad42307ff76d33c0: INVALID_ARGUMENT: ram://ff8684ead00d4d70ad42307ff76d33c0 is a directory.\n",
      "2023-11-17 15:37:36.686436: W tensorflow/core/util/tensor_slice_reader.cc:98] Could not open ram://144921b5155c4d05a537185ae8658222: INVALID_ARGUMENT: ram://144921b5155c4d05a537185ae8658222 is a directory.\n"
     ]
    },
    {
     "name": "stdout",
     "output_type": "stream",
     "text": [
      "  5/250 [..............................] - ETA: 8s - loss: 1.1794 - accuracy: 0.4000    INFO:tensorflow:Assets written to: ram://8ab19b54f7d4458eb1fef05fa453e485/assets\n"
     ]
    },
    {
     "name": "stderr",
     "output_type": "stream",
     "text": [
      "INFO:tensorflow:Assets written to: ram://8ab19b54f7d4458eb1fef05fa453e485/assets\n"
     ]
    },
    {
     "name": "stdout",
     "output_type": "stream",
     "text": [
      "237/250 [===========================>..] - ETA: 0s - loss: 0.2769 - accuracy: 0.9114INFO:tensorflow:Assets written to: ram://96c6af175f7f4a0ea5153a3e88b7c428/assets\n"
     ]
    },
    {
     "name": "stderr",
     "output_type": "stream",
     "text": [
      "INFO:tensorflow:Assets written to: ram://96c6af175f7f4a0ea5153a3e88b7c428/assets\n"
     ]
    },
    {
     "name": "stdout",
     "output_type": "stream",
     "text": [
      "250/250 [==============================] - 9s 32ms/step - loss: 0.2656 - accuracy: 0.9160\n"
     ]
    },
    {
     "name": "stderr",
     "output_type": "stream",
     "text": [
      "2023-11-17 15:37:46.708162: E tensorflow/compiler/xla/stream_executor/cuda/cuda_dnn.cc:9342] Unable to register cuDNN factory: Attempting to register factory for plugin cuDNN when one has already been registered\n",
      "2023-11-17 15:37:46.708231: E tensorflow/compiler/xla/stream_executor/cuda/cuda_fft.cc:609] Unable to register cuFFT factory: Attempting to register factory for plugin cuFFT when one has already been registered\n",
      "2023-11-17 15:37:46.708262: E tensorflow/compiler/xla/stream_executor/cuda/cuda_blas.cc:1518] Unable to register cuBLAS factory: Attempting to register factory for plugin cuBLAS when one has already been registered\n",
      "2023-11-17 15:37:46.714609: I tensorflow/core/platform/cpu_feature_guard.cc:182] This TensorFlow binary is optimized to use available CPU instructions in performance-critical operations.\n",
      "To enable the following instructions: AVX2 FMA, in other operations, rebuild TensorFlow with the appropriate compiler flags.\n"
     ]
    },
    {
     "name": "stdout",
     "output_type": "stream",
     "text": [
      "8/8 [==============================] - 4s 356ms/step\n"
     ]
    },
    {
     "name": "stderr",
     "output_type": "stream",
     "text": [
      "WARNING:tensorflow:Detecting that an object or model or tf.train.Checkpoint is being deleted with unrestored values. See the following logs for the specific values in question. To silence these warnings, use `status.expect_partial()`. See https://www.tensorflow.org/api_docs/python/tf/train/Checkpoint#restorefor details about the status object returned by the restore function.\n",
      "WARNING:tensorflow:Value in checkpoint could not be found in the restored object: (root).keras_api.metrics.0.total\n",
      "WARNING:tensorflow:Value in checkpoint could not be found in the restored object: (root).keras_api.metrics.0.count\n",
      "WARNING:tensorflow:Value in checkpoint could not be found in the restored object: (root).keras_api.metrics.1.total\n",
      "WARNING:tensorflow:Value in checkpoint could not be found in the restored object: (root).keras_api.metrics.1.count\n",
      "WARNING:tensorflow:Detecting that an object or model or tf.train.Checkpoint is being deleted with unrestored values. See the following logs for the specific values in question. To silence these warnings, use `status.expect_partial()`. See https://www.tensorflow.org/api_docs/python/tf/train/Checkpoint#restorefor details about the status object returned by the restore function.\n",
      "WARNING:tensorflow:Value in checkpoint could not be found in the restored object: (root).keras_api.metrics.0.total\n",
      "WARNING:tensorflow:Value in checkpoint could not be found in the restored object: (root).keras_api.metrics.0.count\n",
      "WARNING:tensorflow:Value in checkpoint could not be found in the restored object: (root).keras_api.metrics.1.total\n",
      "WARNING:tensorflow:Value in checkpoint could not be found in the restored object: (root).keras_api.metrics.1.count\n",
      "2023-11-17 15:37:53.575955: W tensorflow/core/util/tensor_slice_reader.cc:98] Could not open ram://e3ec4cd11dee4c82824c933a6a5d0a95: INVALID_ARGUMENT: ram://e3ec4cd11dee4c82824c933a6a5d0a95 is a directory.\n",
      "2023-11-17 15:37:55.776142: W tensorflow/core/util/tensor_slice_reader.cc:98] Could not open ram://00c97426ff6343708be8e4ff4280b094: INVALID_ARGUMENT: ram://00c97426ff6343708be8e4ff4280b094 is a directory.\n"
     ]
    },
    {
     "name": "stdout",
     "output_type": "stream",
     "text": [
      " 15/250 [>.............................] - ETA: 8s - loss: 0.1105 - accuracy: 1.0000INFO:tensorflow:Assets written to: ram://e59b0c75a40c4844be3ce10e02e799ce/assets\n"
     ]
    },
    {
     "name": "stderr",
     "output_type": "stream",
     "text": [
      "INFO:tensorflow:Assets written to: ram://e59b0c75a40c4844be3ce10e02e799ce/assets\n"
     ]
    },
    {
     "name": "stdout",
     "output_type": "stream",
     "text": [
      "247/250 [============================>.] - ETA: 0s - loss: 0.3013 - accuracy: 0.9109INFO:tensorflow:Assets written to: ram://aa62a721de524f658c996d724d72c8b6/assets\n"
     ]
    },
    {
     "name": "stderr",
     "output_type": "stream",
     "text": [
      "INFO:tensorflow:Assets written to: ram://aa62a721de524f658c996d724d72c8b6/assets\n"
     ]
    },
    {
     "name": "stdout",
     "output_type": "stream",
     "text": [
      "250/250 [==============================] - 9s 33ms/step - loss: 0.3059 - accuracy: 0.9080\n"
     ]
    },
    {
     "name": "stderr",
     "output_type": "stream",
     "text": [
      "2023-11-17 15:38:06.097646: E tensorflow/compiler/xla/stream_executor/cuda/cuda_dnn.cc:9342] Unable to register cuDNN factory: Attempting to register factory for plugin cuDNN when one has already been registered\n",
      "2023-11-17 15:38:06.097705: E tensorflow/compiler/xla/stream_executor/cuda/cuda_fft.cc:609] Unable to register cuFFT factory: Attempting to register factory for plugin cuFFT when one has already been registered\n",
      "2023-11-17 15:38:06.097733: E tensorflow/compiler/xla/stream_executor/cuda/cuda_blas.cc:1518] Unable to register cuBLAS factory: Attempting to register factory for plugin cuBLAS when one has already been registered\n",
      "2023-11-17 15:38:06.104206: I tensorflow/core/platform/cpu_feature_guard.cc:182] This TensorFlow binary is optimized to use available CPU instructions in performance-critical operations.\n",
      "To enable the following instructions: AVX2 FMA, in other operations, rebuild TensorFlow with the appropriate compiler flags.\n"
     ]
    },
    {
     "name": "stdout",
     "output_type": "stream",
     "text": [
      "8/8 [==============================] - 3s 351ms/step\n"
     ]
    },
    {
     "name": "stderr",
     "output_type": "stream",
     "text": [
      "WARNING:tensorflow:Detecting that an object or model or tf.train.Checkpoint is being deleted with unrestored values. See the following logs for the specific values in question. To silence these warnings, use `status.expect_partial()`. See https://www.tensorflow.org/api_docs/python/tf/train/Checkpoint#restorefor details about the status object returned by the restore function.\n",
      "WARNING:tensorflow:Value in checkpoint could not be found in the restored object: (root).keras_api.metrics.0.total\n",
      "WARNING:tensorflow:Value in checkpoint could not be found in the restored object: (root).keras_api.metrics.0.count\n",
      "WARNING:tensorflow:Value in checkpoint could not be found in the restored object: (root).keras_api.metrics.1.total\n",
      "WARNING:tensorflow:Value in checkpoint could not be found in the restored object: (root).keras_api.metrics.1.count\n",
      "WARNING:tensorflow:Detecting that an object or model or tf.train.Checkpoint is being deleted with unrestored values. See the following logs for the specific values in question. To silence these warnings, use `status.expect_partial()`. See https://www.tensorflow.org/api_docs/python/tf/train/Checkpoint#restorefor details about the status object returned by the restore function.\n",
      "WARNING:tensorflow:Value in checkpoint could not be found in the restored object: (root).keras_api.metrics.0.total\n",
      "WARNING:tensorflow:Value in checkpoint could not be found in the restored object: (root).keras_api.metrics.0.count\n",
      "WARNING:tensorflow:Value in checkpoint could not be found in the restored object: (root).keras_api.metrics.1.total\n",
      "WARNING:tensorflow:Value in checkpoint could not be found in the restored object: (root).keras_api.metrics.1.count\n",
      "2023-11-17 15:38:13.162215: W tensorflow/core/util/tensor_slice_reader.cc:98] Could not open ram://19a2e2620aec4b67aa5db8e04985cb1d: INVALID_ARGUMENT: ram://19a2e2620aec4b67aa5db8e04985cb1d is a directory.\n",
      "2023-11-17 15:38:15.399143: W tensorflow/core/util/tensor_slice_reader.cc:98] Could not open ram://d82c1b7fd83d4b6cab4c60c7f4cc83a8: INVALID_ARGUMENT: ram://d82c1b7fd83d4b6cab4c60c7f4cc83a8 is a directory.\n"
     ]
    },
    {
     "name": "stdout",
     "output_type": "stream",
     "text": [
      " 41/250 [===>..........................] - ETA: 2s - loss: 1.1148 - accuracy: 0.9024INFO:tensorflow:Assets written to: ram://a94c550ae5eb4eaab0c4dc5ee58066b1/assets\n"
     ]
    },
    {
     "name": "stderr",
     "output_type": "stream",
     "text": [
      "INFO:tensorflow:Assets written to: ram://a94c550ae5eb4eaab0c4dc5ee58066b1/assets\n"
     ]
    },
    {
     "name": "stdout",
     "output_type": "stream",
     "text": [
      "250/250 [==============================] - 4s 13ms/step - loss: 0.6116 - accuracy: 0.8880\n",
      "8/8 [==============================] - 1s 90ms/step\n"
     ]
    },
    {
     "name": "stderr",
     "output_type": "stream",
     "text": [
      "WARNING:tensorflow:Detecting that an object or model or tf.train.Checkpoint is being deleted with unrestored values. See the following logs for the specific values in question. To silence these warnings, use `status.expect_partial()`. See https://www.tensorflow.org/api_docs/python/tf/train/Checkpoint#restorefor details about the status object returned by the restore function.\n",
      "WARNING:tensorflow:Value in checkpoint could not be found in the restored object: (root).keras_api.metrics.0.total\n",
      "WARNING:tensorflow:Value in checkpoint could not be found in the restored object: (root).keras_api.metrics.0.count\n",
      "WARNING:tensorflow:Value in checkpoint could not be found in the restored object: (root).keras_api.metrics.1.total\n",
      "WARNING:tensorflow:Value in checkpoint could not be found in the restored object: (root).keras_api.metrics.1.count\n",
      "WARNING:tensorflow:Detecting that an object or model or tf.train.Checkpoint is being deleted with unrestored values. See the following logs for the specific values in question. To silence these warnings, use `status.expect_partial()`. See https://www.tensorflow.org/api_docs/python/tf/train/Checkpoint#restorefor details about the status object returned by the restore function.\n",
      "WARNING:tensorflow:Value in checkpoint could not be found in the restored object: (root).keras_api.metrics.0.total\n",
      "WARNING:tensorflow:Value in checkpoint could not be found in the restored object: (root).keras_api.metrics.0.count\n",
      "WARNING:tensorflow:Value in checkpoint could not be found in the restored object: (root).keras_api.metrics.1.total\n",
      "WARNING:tensorflow:Value in checkpoint could not be found in the restored object: (root).keras_api.metrics.1.count\n"
     ]
    },
    {
     "name": "stdout",
     "output_type": "stream",
     "text": [
      "INFO:tensorflow:Assets written to: ram://1d6161f0285e4142b422d09d2aabb863/assets\n"
     ]
    },
    {
     "name": "stderr",
     "output_type": "stream",
     "text": [
      "INFO:tensorflow:Assets written to: ram://1d6161f0285e4142b422d09d2aabb863/assets\n",
      "2023-11-17 15:38:24.114320: E tensorflow/compiler/xla/stream_executor/cuda/cuda_dnn.cc:9342] Unable to register cuDNN factory: Attempting to register factory for plugin cuDNN when one has already been registered\n",
      "2023-11-17 15:38:24.114372: E tensorflow/compiler/xla/stream_executor/cuda/cuda_fft.cc:609] Unable to register cuFFT factory: Attempting to register factory for plugin cuFFT when one has already been registered\n",
      "2023-11-17 15:38:24.114399: E tensorflow/compiler/xla/stream_executor/cuda/cuda_blas.cc:1518] Unable to register cuBLAS factory: Attempting to register factory for plugin cuBLAS when one has already been registered\n",
      "2023-11-17 15:38:24.120728: I tensorflow/core/platform/cpu_feature_guard.cc:182] This TensorFlow binary is optimized to use available CPU instructions in performance-critical operations.\n",
      "To enable the following instructions: AVX2 FMA, in other operations, rebuild TensorFlow with the appropriate compiler flags.\n",
      "2023-11-17 15:38:29.507241: W tensorflow/core/util/tensor_slice_reader.cc:98] Could not open ram://900d243032d343949ea092d9ee75bf31: INVALID_ARGUMENT: ram://900d243032d343949ea092d9ee75bf31 is a directory.\n",
      "2023-11-17 15:38:31.647581: W tensorflow/core/util/tensor_slice_reader.cc:98] Could not open ram://3535481e03984818ba9ea0258e299fc3: INVALID_ARGUMENT: ram://3535481e03984818ba9ea0258e299fc3 is a directory.\n"
     ]
    },
    {
     "name": "stdout",
     "output_type": "stream",
     "text": [
      "250/250 [==============================] - 4s 12ms/step - loss: 0.7389 - accuracy: 0.8960\n",
      "6/8 [=====================>........] - ETA: 0s"
     ]
    },
    {
     "name": "stderr",
     "output_type": "stream",
     "text": [
      "Generating ensemble training data: |██████████|100%\n"
     ]
    },
    {
     "name": "stdout",
     "output_type": "stream",
     "text": [
      "8/8 [==============================] - 1s 88ms/step\n"
     ]
    },
    {
     "name": "stderr",
     "output_type": "stream",
     "text": [
      "Generating ensemble test data: |██████████|100%\n",
      "WARNING:tensorflow:Detecting that an object or model or tf.train.Checkpoint is being deleted with unrestored values. See the following logs for the specific values in question. To silence these warnings, use `status.expect_partial()`. See https://www.tensorflow.org/api_docs/python/tf/train/Checkpoint#restorefor details about the status object returned by the restore function.\n",
      "WARNING:tensorflow:Value in checkpoint could not be found in the restored object: (root).keras_api.metrics.0.total\n",
      "WARNING:tensorflow:Value in checkpoint could not be found in the restored object: (root).keras_api.metrics.0.count\n",
      "WARNING:tensorflow:Value in checkpoint could not be found in the restored object: (root).keras_api.metrics.1.total\n",
      "WARNING:tensorflow:Value in checkpoint could not be found in the restored object: (root).keras_api.metrics.1.count\n",
      "WARNING:tensorflow:Detecting that an object or model or tf.train.Checkpoint is being deleted with unrestored values. See the following logs for the specific values in question. To silence these warnings, use `status.expect_partial()`. See https://www.tensorflow.org/api_docs/python/tf/train/Checkpoint#restorefor details about the status object returned by the restore function.\n",
      "WARNING:tensorflow:Value in checkpoint could not be found in the restored object: (root).keras_api.metrics.0.total\n",
      "WARNING:tensorflow:Value in checkpoint could not be found in the restored object: (root).keras_api.metrics.0.count\n",
      "WARNING:tensorflow:Value in checkpoint could not be found in the restored object: (root).keras_api.metrics.1.total\n",
      "WARNING:tensorflow:Value in checkpoint could not be found in the restored object: (root).keras_api.metrics.1.count\n"
     ]
    },
    {
     "name": "stdout",
     "output_type": "stream",
     "text": [
      "INFO:tensorflow:Assets written to: ram://5901c87251444e529e52d0169f1423d8/assets\n"
     ]
    },
    {
     "name": "stderr",
     "output_type": "stream",
     "text": [
      "INFO:tensorflow:Assets written to: ram://5901c87251444e529e52d0169f1423d8/assets\n"
     ]
    },
    {
     "name": "stdout",
     "output_type": "stream",
     "text": [
      "INFO:tensorflow:Assets written to: ram://7793d32a4f074ed0ba09202a8ffcdac6/assets\n"
     ]
    },
    {
     "name": "stderr",
     "output_type": "stream",
     "text": [
      "INFO:tensorflow:Assets written to: ram://7793d32a4f074ed0ba09202a8ffcdac6/assets\n",
      "2023-11-17 15:38:53.010494: E tensorflow/compiler/xla/stream_executor/cuda/cuda_dnn.cc:9342] Unable to register cuDNN factory: Attempting to register factory for plugin cuDNN when one has already been registered\n",
      "2023-11-17 15:38:53.010549: E tensorflow/compiler/xla/stream_executor/cuda/cuda_fft.cc:609] Unable to register cuFFT factory: Attempting to register factory for plugin cuFFT when one has already been registered\n",
      "2023-11-17 15:38:53.010576: E tensorflow/compiler/xla/stream_executor/cuda/cuda_blas.cc:1518] Unable to register cuBLAS factory: Attempting to register factory for plugin cuBLAS when one has already been registered\n",
      "2023-11-17 15:38:53.016956: I tensorflow/core/platform/cpu_feature_guard.cc:182] This TensorFlow binary is optimized to use available CPU instructions in performance-critical operations.\n",
      "To enable the following instructions: AVX2 FMA, in other operations, rebuild TensorFlow with the appropriate compiler flags.\n",
      "2023-11-17 15:38:58.506705: W tensorflow/core/util/tensor_slice_reader.cc:98] Could not open ram://3bd7c687d9b84337a72219e80a7072fc: INVALID_ARGUMENT: ram://3bd7c687d9b84337a72219e80a7072fc is a directory.\n",
      "2023-11-17 15:39:00.667732: W tensorflow/core/util/tensor_slice_reader.cc:98] Could not open ram://247357e2c2df4362b115c536a316f52b: INVALID_ARGUMENT: ram://247357e2c2df4362b115c536a316f52b is a directory.\n"
     ]
    },
    {
     "name": "stdout",
     "output_type": "stream",
     "text": [
      "INFO:tensorflow:Assets written to: ram://b12cab6776a449c2af4038c14e39abce/assets\n"
     ]
    },
    {
     "name": "stderr",
     "output_type": "stream",
     "text": [
      "INFO:tensorflow:Assets written to: ram://b12cab6776a449c2af4038c14e39abce/assets\n"
     ]
    },
    {
     "name": "stdout",
     "output_type": "stream",
     "text": [
      "227/500 [============>.................] - ETA: 9s - loss: 0.3067 - accuracy: 0.8590INFO:tensorflow:Assets written to: ram://f5842b68b00f43d5856728f7197cb9cd/assets\n"
     ]
    },
    {
     "name": "stderr",
     "output_type": "stream",
     "text": [
      "INFO:tensorflow:Assets written to: ram://f5842b68b00f43d5856728f7197cb9cd/assets\n"
     ]
    },
    {
     "name": "stdout",
     "output_type": "stream",
     "text": [
      "251/500 [==============>...............] - ETA: 8s - loss: 0.2879 - accuracy: 0.8685"
     ]
    },
    {
     "name": "stderr",
     "output_type": "stream",
     "text": [
      "2023-11-17 15:39:10.901247: E tensorflow/compiler/xla/stream_executor/cuda/cuda_dnn.cc:9342] Unable to register cuDNN factory: Attempting to register factory for plugin cuDNN when one has already been registered\n",
      "2023-11-17 15:39:10.901324: E tensorflow/compiler/xla/stream_executor/cuda/cuda_fft.cc:609] Unable to register cuFFT factory: Attempting to register factory for plugin cuFFT when one has already been registered\n",
      "2023-11-17 15:39:10.901367: E tensorflow/compiler/xla/stream_executor/cuda/cuda_blas.cc:1518] Unable to register cuBLAS factory: Attempting to register factory for plugin cuBLAS when one has already been registered\n",
      "2023-11-17 15:39:10.910320: I tensorflow/core/platform/cpu_feature_guard.cc:182] This TensorFlow binary is optimized to use available CPU instructions in performance-critical operations.\n",
      "To enable the following instructions: AVX2 FMA, in other operations, rebuild TensorFlow with the appropriate compiler flags.\n"
     ]
    },
    {
     "name": "stdout",
     "output_type": "stream",
     "text": [
      "500/500 [==============================] - 18s 33ms/step - loss: 0.2471 - accuracy: 0.8940\n"
     ]
    },
    {
     "name": "stderr",
     "output_type": "stream",
     "text": [
      "2023-11-17 15:39:18.966257: W tensorflow/core/util/tensor_slice_reader.cc:98] Could not open ram://bf656cbdce1644aaabe3d857331f0df7: INVALID_ARGUMENT: ram://bf656cbdce1644aaabe3d857331f0df7 is a directory.\n"
     ]
    },
    {
     "name": "stdout",
     "output_type": "stream",
     "text": [
      " 6/16 [==========>...................] - ETA: 3s"
     ]
    },
    {
     "name": "stderr",
     "output_type": "stream",
     "text": [
      "2023-11-17 15:39:22.312426: W tensorflow/core/util/tensor_slice_reader.cc:98] Could not open ram://d52b31c08f234ae2a67d22da6a948b6a: INVALID_ARGUMENT: ram://d52b31c08f234ae2a67d22da6a948b6a is a directory.\n"
     ]
    },
    {
     "name": "stdout",
     "output_type": "stream",
     "text": [
      "11/16 [===================>..........] - ETA: 1sINFO:tensorflow:Assets written to: ram://95cd5a7ada5d440689c24575a55dbd00/assets\n"
     ]
    },
    {
     "name": "stderr",
     "output_type": "stream",
     "text": [
      "INFO:tensorflow:Assets written to: ram://95cd5a7ada5d440689c24575a55dbd00/assets\n"
     ]
    },
    {
     "name": "stdout",
     "output_type": "stream",
     "text": [
      "16/16 [==============================] - 7s 365ms/steploss: 0.7135 - accuracy: 0.5067    \n",
      " 20/500 [>.............................] - ETA: 20s - loss: 0.2106 - accuracy: 0.8500"
     ]
    },
    {
     "name": "stderr",
     "output_type": "stream",
     "text": [
      "WARNING:tensorflow:Detecting that an object or model or tf.train.Checkpoint is being deleted with unrestored values. See the following logs for the specific values in question. To silence these warnings, use `status.expect_partial()`. See https://www.tensorflow.org/api_docs/python/tf/train/Checkpoint#restorefor details about the status object returned by the restore function.\n",
      "WARNING:tensorflow:Value in checkpoint could not be found in the restored object: (root).keras_api.metrics.0.total\n",
      "WARNING:tensorflow:Value in checkpoint could not be found in the restored object: (root).keras_api.metrics.0.count\n",
      "WARNING:tensorflow:Value in checkpoint could not be found in the restored object: (root).keras_api.metrics.1.total\n",
      "WARNING:tensorflow:Value in checkpoint could not be found in the restored object: (root).keras_api.metrics.1.count\n",
      "WARNING:tensorflow:Detecting that an object or model or tf.train.Checkpoint is being deleted with unrestored values. See the following logs for the specific values in question. To silence these warnings, use `status.expect_partial()`. See https://www.tensorflow.org/api_docs/python/tf/train/Checkpoint#restorefor details about the status object returned by the restore function.\n",
      "WARNING:tensorflow:Value in checkpoint could not be found in the restored object: (root).keras_api.metrics.0.total\n",
      "WARNING:tensorflow:Value in checkpoint could not be found in the restored object: (root).keras_api.metrics.0.count\n",
      "WARNING:tensorflow:Value in checkpoint could not be found in the restored object: (root).keras_api.metrics.1.total\n",
      "WARNING:tensorflow:Value in checkpoint could not be found in the restored object: (root).keras_api.metrics.1.count\n"
     ]
    },
    {
     "name": "stdout",
     "output_type": "stream",
     "text": [
      "208/500 [===========>..................] - ETA: 9s - loss: 0.2693 - accuracy: 0.9231INFO:tensorflow:Assets written to: ram://3f8c3516a9bd4d37a374a9a96cfafd4a/assets\n"
     ]
    },
    {
     "name": "stderr",
     "output_type": "stream",
     "text": [
      "INFO:tensorflow:Assets written to: ram://3f8c3516a9bd4d37a374a9a96cfafd4a/assets\n"
     ]
    },
    {
     "name": "stdout",
     "output_type": "stream",
     "text": [
      "246/500 [=============>................] - ETA: 8s - loss: 0.2469 - accuracy: 0.9228"
     ]
    },
    {
     "name": "stderr",
     "output_type": "stream",
     "text": [
      "2023-11-17 15:39:33.477561: E tensorflow/compiler/xla/stream_executor/cuda/cuda_dnn.cc:9342] Unable to register cuDNN factory: Attempting to register factory for plugin cuDNN when one has already been registered\n",
      "2023-11-17 15:39:33.477669: E tensorflow/compiler/xla/stream_executor/cuda/cuda_fft.cc:609] Unable to register cuFFT factory: Attempting to register factory for plugin cuFFT when one has already been registered\n",
      "2023-11-17 15:39:33.477759: E tensorflow/compiler/xla/stream_executor/cuda/cuda_blas.cc:1518] Unable to register cuBLAS factory: Attempting to register factory for plugin cuBLAS when one has already been registered\n",
      "2023-11-17 15:39:33.487263: I tensorflow/core/platform/cpu_feature_guard.cc:182] This TensorFlow binary is optimized to use available CPU instructions in performance-critical operations.\n",
      "To enable the following instructions: AVX2 FMA, in other operations, rebuild TensorFlow with the appropriate compiler flags.\n"
     ]
    },
    {
     "name": "stdout",
     "output_type": "stream",
     "text": [
      "485/500 [============================>.] - ETA: 0s - loss: 0.1993 - accuracy: 0.9402"
     ]
    },
    {
     "name": "stderr",
     "output_type": "stream",
     "text": [
      "2023-11-17 15:39:41.632322: W tensorflow/core/util/tensor_slice_reader.cc:98] Could not open ram://a0fa610b0b0846ba8975a0e6444fc61a: INVALID_ARGUMENT: ram://a0fa610b0b0846ba8975a0e6444fc61a is a directory.\n"
     ]
    },
    {
     "name": "stdout",
     "output_type": "stream",
     "text": [
      "500/500 [==============================] - 19s 33ms/step - loss: 0.1960 - accuracy: 0.9400\n",
      " 3/16 [====>.........................] - ETA: 4s"
     ]
    },
    {
     "name": "stderr",
     "output_type": "stream",
     "text": [
      "2023-11-17 15:39:44.635087: W tensorflow/core/util/tensor_slice_reader.cc:98] Could not open ram://e4ce1e2ee16d4e36acf155bef0f63f69: INVALID_ARGUMENT: ram://e4ce1e2ee16d4e36acf155bef0f63f69 is a directory.\n"
     ]
    },
    {
     "name": "stdout",
     "output_type": "stream",
     "text": [
      " 62/500 [==>...........................] - ETA: 9s - loss: 1.7639 - accuracy: 0.9194INFO:tensorflow:Assets written to: ram://a63960372e0a4b92b6a9626c33dd8ce0/assets\n"
     ]
    },
    {
     "name": "stderr",
     "output_type": "stream",
     "text": [
      "INFO:tensorflow:Assets written to: ram://a63960372e0a4b92b6a9626c33dd8ce0/assets\n"
     ]
    },
    {
     "name": "stdout",
     "output_type": "stream",
     "text": [
      "16/16 [==============================] - 7s 385ms/steposs: 1.0495 - accuracy: 0.93\n",
      "158/500 [========>.....................] - ETA: 6s - loss: 1.0144 - accuracy: 0.9177"
     ]
    },
    {
     "name": "stderr",
     "output_type": "stream",
     "text": [
      "WARNING:tensorflow:Detecting that an object or model or tf.train.Checkpoint is being deleted with unrestored values. See the following logs for the specific values in question. To silence these warnings, use `status.expect_partial()`. See https://www.tensorflow.org/api_docs/python/tf/train/Checkpoint#restorefor details about the status object returned by the restore function.\n",
      "WARNING:tensorflow:Value in checkpoint could not be found in the restored object: (root).keras_api.metrics.0.total\n",
      "WARNING:tensorflow:Value in checkpoint could not be found in the restored object: (root).keras_api.metrics.0.count\n",
      "WARNING:tensorflow:Value in checkpoint could not be found in the restored object: (root).keras_api.metrics.1.total\n",
      "WARNING:tensorflow:Value in checkpoint could not be found in the restored object: (root).keras_api.metrics.1.count\n",
      "WARNING:tensorflow:Detecting that an object or model or tf.train.Checkpoint is being deleted with unrestored values. See the following logs for the specific values in question. To silence these warnings, use `status.expect_partial()`. See https://www.tensorflow.org/api_docs/python/tf/train/Checkpoint#restorefor details about the status object returned by the restore function.\n",
      "WARNING:tensorflow:Value in checkpoint could not be found in the restored object: (root).keras_api.metrics.0.total\n",
      "WARNING:tensorflow:Value in checkpoint could not be found in the restored object: (root).keras_api.metrics.0.count\n",
      "WARNING:tensorflow:Value in checkpoint could not be found in the restored object: (root).keras_api.metrics.1.total\n",
      "WARNING:tensorflow:Value in checkpoint could not be found in the restored object: (root).keras_api.metrics.1.count\n"
     ]
    },
    {
     "name": "stdout",
     "output_type": "stream",
     "text": [
      "500/500 [==============================] - 8s 14ms/step - loss: 0.5913 - accuracy: 0.8980\n",
      "16/16 [==============================] - 2s 89ms/step\n"
     ]
    },
    {
     "name": "stderr",
     "output_type": "stream",
     "text": [
      "WARNING:tensorflow:Detecting that an object or model or tf.train.Checkpoint is being deleted with unrestored values. See the following logs for the specific values in question. To silence these warnings, use `status.expect_partial()`. See https://www.tensorflow.org/api_docs/python/tf/train/Checkpoint#restorefor details about the status object returned by the restore function.\n",
      "WARNING:tensorflow:Value in checkpoint could not be found in the restored object: (root).keras_api.metrics.0.total\n",
      "WARNING:tensorflow:Value in checkpoint could not be found in the restored object: (root).keras_api.metrics.0.count\n",
      "WARNING:tensorflow:Value in checkpoint could not be found in the restored object: (root).keras_api.metrics.1.total\n",
      "WARNING:tensorflow:Value in checkpoint could not be found in the restored object: (root).keras_api.metrics.1.count\n",
      "WARNING:tensorflow:Detecting that an object or model or tf.train.Checkpoint is being deleted with unrestored values. See the following logs for the specific values in question. To silence these warnings, use `status.expect_partial()`. See https://www.tensorflow.org/api_docs/python/tf/train/Checkpoint#restorefor details about the status object returned by the restore function.\n",
      "WARNING:tensorflow:Value in checkpoint could not be found in the restored object: (root).keras_api.metrics.0.total\n",
      "WARNING:tensorflow:Value in checkpoint could not be found in the restored object: (root).keras_api.metrics.0.count\n",
      "WARNING:tensorflow:Value in checkpoint could not be found in the restored object: (root).keras_api.metrics.1.total\n",
      "WARNING:tensorflow:Value in checkpoint could not be found in the restored object: (root).keras_api.metrics.1.count\n"
     ]
    },
    {
     "name": "stdout",
     "output_type": "stream",
     "text": [
      "INFO:tensorflow:Assets written to: ram://136e7b590474477b8e65042dcddaf7c1/assets\n"
     ]
    },
    {
     "name": "stderr",
     "output_type": "stream",
     "text": [
      "INFO:tensorflow:Assets written to: ram://136e7b590474477b8e65042dcddaf7c1/assets\n",
      "2023-11-17 15:39:57.223599: E tensorflow/compiler/xla/stream_executor/cuda/cuda_dnn.cc:9342] Unable to register cuDNN factory: Attempting to register factory for plugin cuDNN when one has already been registered\n",
      "2023-11-17 15:39:57.223653: E tensorflow/compiler/xla/stream_executor/cuda/cuda_fft.cc:609] Unable to register cuFFT factory: Attempting to register factory for plugin cuFFT when one has already been registered\n",
      "2023-11-17 15:39:57.223681: E tensorflow/compiler/xla/stream_executor/cuda/cuda_blas.cc:1518] Unable to register cuBLAS factory: Attempting to register factory for plugin cuBLAS when one has already been registered\n",
      "2023-11-17 15:39:57.229947: I tensorflow/core/platform/cpu_feature_guard.cc:182] This TensorFlow binary is optimized to use available CPU instructions in performance-critical operations.\n",
      "To enable the following instructions: AVX2 FMA, in other operations, rebuild TensorFlow with the appropriate compiler flags.\n",
      "2023-11-17 15:40:02.630498: W tensorflow/core/util/tensor_slice_reader.cc:98] Could not open ram://5fca5e24cceb45abba6518858028f510: INVALID_ARGUMENT: ram://5fca5e24cceb45abba6518858028f510 is a directory.\n",
      "2023-11-17 15:40:04.779902: W tensorflow/core/util/tensor_slice_reader.cc:98] Could not open ram://51956b6fa8294146a69eab526630bae0: INVALID_ARGUMENT: ram://51956b6fa8294146a69eab526630bae0 is a directory.\n"
     ]
    },
    {
     "name": "stdout",
     "output_type": "stream",
     "text": [
      "500/500 [==============================] - 7s 12ms/step - loss: 0.5234 - accuracy: 0.8840\n",
      "16/16 [==============================] - 2s 88ms/step\n",
      "\n",
      "... for final ensemble...\n"
     ]
    },
    {
     "name": "stderr",
     "output_type": "stream",
     "text": [
      "Generating ensemble training data: |          |  0%WARNING:tensorflow:Detecting that an object or model or tf.train.Checkpoint is being deleted with unrestored values. See the following logs for the specific values in question. To silence these warnings, use `status.expect_partial()`. See https://www.tensorflow.org/api_docs/python/tf/train/Checkpoint#restorefor details about the status object returned by the restore function.\n",
      "WARNING:tensorflow:Value in checkpoint could not be found in the restored object: (root).keras_api.metrics.0.total\n",
      "WARNING:tensorflow:Value in checkpoint could not be found in the restored object: (root).keras_api.metrics.0.count\n",
      "WARNING:tensorflow:Value in checkpoint could not be found in the restored object: (root).keras_api.metrics.1.total\n",
      "WARNING:tensorflow:Value in checkpoint could not be found in the restored object: (root).keras_api.metrics.1.count\n",
      "WARNING:tensorflow:Detecting that an object or model or tf.train.Checkpoint is being deleted with unrestored values. See the following logs for the specific values in question. To silence these warnings, use `status.expect_partial()`. See https://www.tensorflow.org/api_docs/python/tf/train/Checkpoint#restorefor details about the status object returned by the restore function.\n",
      "WARNING:tensorflow:Value in checkpoint could not be found in the restored object: (root).keras_api.metrics.0.total\n",
      "WARNING:tensorflow:Value in checkpoint could not be found in the restored object: (root).keras_api.metrics.0.count\n",
      "WARNING:tensorflow:Value in checkpoint could not be found in the restored object: (root).keras_api.metrics.1.total\n",
      "WARNING:tensorflow:Value in checkpoint could not be found in the restored object: (root).keras_api.metrics.1.count\n"
     ]
    },
    {
     "name": "stdout",
     "output_type": "stream",
     "text": [
      "INFO:tensorflow:Assets written to: ram://0ccfb6be8e194d068da196b218f1b28f/assets\n"
     ]
    },
    {
     "name": "stderr",
     "output_type": "stream",
     "text": [
      "INFO:tensorflow:Assets written to: ram://0ccfb6be8e194d068da196b218f1b28f/assets\n"
     ]
    },
    {
     "name": "stdout",
     "output_type": "stream",
     "text": [
      "INFO:tensorflow:Assets written to: ram://9b318baf21bc4bdfba1e5c10508392e9/assets\n"
     ]
    },
    {
     "name": "stderr",
     "output_type": "stream",
     "text": [
      "INFO:tensorflow:Assets written to: ram://9b318baf21bc4bdfba1e5c10508392e9/assets\n",
      "2023-11-17 15:40:29.901086: E tensorflow/compiler/xla/stream_executor/cuda/cuda_dnn.cc:9342] Unable to register cuDNN factory: Attempting to register factory for plugin cuDNN when one has already been registered\n",
      "2023-11-17 15:40:29.901137: E tensorflow/compiler/xla/stream_executor/cuda/cuda_fft.cc:609] Unable to register cuFFT factory: Attempting to register factory for plugin cuFFT when one has already been registered\n",
      "2023-11-17 15:40:29.901170: E tensorflow/compiler/xla/stream_executor/cuda/cuda_blas.cc:1518] Unable to register cuBLAS factory: Attempting to register factory for plugin cuBLAS when one has already been registered\n",
      "2023-11-17 15:40:29.907380: I tensorflow/core/platform/cpu_feature_guard.cc:182] This TensorFlow binary is optimized to use available CPU instructions in performance-critical operations.\n",
      "To enable the following instructions: AVX2 FMA, in other operations, rebuild TensorFlow with the appropriate compiler flags.\n",
      "2023-11-17 15:40:35.345599: W tensorflow/core/util/tensor_slice_reader.cc:98] Could not open ram://1a9242a113b64fc9b2af9872bbd914fa: INVALID_ARGUMENT: ram://1a9242a113b64fc9b2af9872bbd914fa is a directory.\n",
      "2023-11-17 15:40:37.490501: W tensorflow/core/util/tensor_slice_reader.cc:98] Could not open ram://842dd1cb9a8f4d3ebe4c8c283f0c9f94: INVALID_ARGUMENT: ram://842dd1cb9a8f4d3ebe4c8c283f0c9f94 is a directory.\n"
     ]
    },
    {
     "name": "stdout",
     "output_type": "stream",
     "text": [
      "INFO:tensorflow:Assets written to: ram://adb8cbf9be524218b1a08ccd2c5ee004/assets\n"
     ]
    },
    {
     "name": "stderr",
     "output_type": "stream",
     "text": [
      "INFO:tensorflow:Assets written to: ram://adb8cbf9be524218b1a08ccd2c5ee004/assets\n"
     ]
    },
    {
     "name": "stdout",
     "output_type": "stream",
     "text": [
      "213/500 [===========>..................] - ETA: 9s - loss: 0.2624 - accuracy: 0.8873INFO:tensorflow:Assets written to: ram://92c0a38fa5c3404ab254336cf37327dd/assets\n"
     ]
    },
    {
     "name": "stderr",
     "output_type": "stream",
     "text": [
      "INFO:tensorflow:Assets written to: ram://92c0a38fa5c3404ab254336cf37327dd/assets\n"
     ]
    },
    {
     "name": "stdout",
     "output_type": "stream",
     "text": [
      "257/500 [==============>...............] - ETA: 7s - loss: 0.2280 - accuracy: 0.9027"
     ]
    },
    {
     "name": "stderr",
     "output_type": "stream",
     "text": [
      "2023-11-17 15:40:47.527787: E tensorflow/compiler/xla/stream_executor/cuda/cuda_dnn.cc:9342] Unable to register cuDNN factory: Attempting to register factory for plugin cuDNN when one has already been registered\n",
      "2023-11-17 15:40:47.527849: E tensorflow/compiler/xla/stream_executor/cuda/cuda_fft.cc:609] Unable to register cuFFT factory: Attempting to register factory for plugin cuFFT when one has already been registered\n",
      "2023-11-17 15:40:47.527894: E tensorflow/compiler/xla/stream_executor/cuda/cuda_blas.cc:1518] Unable to register cuBLAS factory: Attempting to register factory for plugin cuBLAS when one has already been registered\n",
      "2023-11-17 15:40:47.535979: I tensorflow/core/platform/cpu_feature_guard.cc:182] This TensorFlow binary is optimized to use available CPU instructions in performance-critical operations.\n",
      "To enable the following instructions: AVX2 FMA, in other operations, rebuild TensorFlow with the appropriate compiler flags.\n"
     ]
    },
    {
     "name": "stdout",
     "output_type": "stream",
     "text": [
      "481/500 [===========================>..] - ETA: 0s - loss: 0.2227 - accuracy: 0.9044"
     ]
    },
    {
     "name": "stderr",
     "output_type": "stream",
     "text": [
      "2023-11-17 15:40:55.235314: W tensorflow/core/util/tensor_slice_reader.cc:98] Could not open ram://8282e1e0d82a41fd9f91db6e8d803924: INVALID_ARGUMENT: ram://8282e1e0d82a41fd9f91db6e8d803924 is a directory.\n"
     ]
    },
    {
     "name": "stdout",
     "output_type": "stream",
     "text": [
      "500/500 [==============================] - 18s 33ms/step - loss: 0.2192 - accuracy: 0.9040\n",
      " 7/16 [============>.................] - ETA: 3s"
     ]
    },
    {
     "name": "stderr",
     "output_type": "stream",
     "text": [
      "2023-11-17 15:40:59.217673: W tensorflow/core/util/tensor_slice_reader.cc:98] Could not open ram://9a93d25910b745188d99abb6d1349b66: INVALID_ARGUMENT: ram://9a93d25910b745188d99abb6d1349b66 is a directory.\n"
     ]
    },
    {
     "name": "stdout",
     "output_type": "stream",
     "text": [
      "12/16 [=====================>........] - ETA: 1sINFO:tensorflow:Assets written to: ram://2415b1a05a0c4d25a8375d132d0eb996/assets\n"
     ]
    },
    {
     "name": "stderr",
     "output_type": "stream",
     "text": [
      "INFO:tensorflow:Assets written to: ram://2415b1a05a0c4d25a8375d132d0eb996/assets\n"
     ]
    },
    {
     "name": "stdout",
     "output_type": "stream",
     "text": [
      "16/16 [==============================] - 6s 357ms/step\n",
      "  5/500 [..............................] - ETA: 17s - loss: 0.4301 - accuracy: 0.8000 "
     ]
    },
    {
     "name": "stderr",
     "output_type": "stream",
     "text": [
      "WARNING:tensorflow:Detecting that an object or model or tf.train.Checkpoint is being deleted with unrestored values. See the following logs for the specific values in question. To silence these warnings, use `status.expect_partial()`. See https://www.tensorflow.org/api_docs/python/tf/train/Checkpoint#restorefor details about the status object returned by the restore function.\n",
      "WARNING:tensorflow:Value in checkpoint could not be found in the restored object: (root).keras_api.metrics.0.total\n",
      "WARNING:tensorflow:Value in checkpoint could not be found in the restored object: (root).keras_api.metrics.0.count\n",
      "WARNING:tensorflow:Value in checkpoint could not be found in the restored object: (root).keras_api.metrics.1.total\n",
      "WARNING:tensorflow:Value in checkpoint could not be found in the restored object: (root).keras_api.metrics.1.count\n",
      "WARNING:tensorflow:Detecting that an object or model or tf.train.Checkpoint is being deleted with unrestored values. See the following logs for the specific values in question. To silence these warnings, use `status.expect_partial()`. See https://www.tensorflow.org/api_docs/python/tf/train/Checkpoint#restorefor details about the status object returned by the restore function.\n",
      "WARNING:tensorflow:Value in checkpoint could not be found in the restored object: (root).keras_api.metrics.0.total\n",
      "WARNING:tensorflow:Value in checkpoint could not be found in the restored object: (root).keras_api.metrics.0.count\n",
      "WARNING:tensorflow:Value in checkpoint could not be found in the restored object: (root).keras_api.metrics.1.total\n",
      "WARNING:tensorflow:Value in checkpoint could not be found in the restored object: (root).keras_api.metrics.1.count\n"
     ]
    },
    {
     "name": "stdout",
     "output_type": "stream",
     "text": [
      "185/500 [==========>...................] - ETA: 10s - loss: 0.2490 - accuracy: 0.9297INFO:tensorflow:Assets written to: ram://897c33e50f2f4a5ab1e5368eb860f911/assets\n"
     ]
    },
    {
     "name": "stderr",
     "output_type": "stream",
     "text": [
      "INFO:tensorflow:Assets written to: ram://897c33e50f2f4a5ab1e5368eb860f911/assets\n"
     ]
    },
    {
     "name": "stdout",
     "output_type": "stream",
     "text": [
      "375/500 [=====================>........] - ETA: 4s - loss: 0.2467 - accuracy: 0.9173"
     ]
    },
    {
     "name": "stderr",
     "output_type": "stream",
     "text": [
      "2023-11-17 15:41:14.465908: W tensorflow/core/util/tensor_slice_reader.cc:98] Could not open ram://a325bc0e9c604609810c833b86c00a8b: INVALID_ARGUMENT: ram://a325bc0e9c604609810c833b86c00a8b is a directory.\n"
     ]
    },
    {
     "name": "stdout",
     "output_type": "stream",
     "text": [
      "469/500 [===========================>..] - ETA: 1s - loss: 0.2159 - accuracy: 0.9254"
     ]
    },
    {
     "name": "stderr",
     "output_type": "stream",
     "text": [
      "2023-11-17 15:41:17.705470: W tensorflow/core/util/tensor_slice_reader.cc:98] Could not open ram://f7213a63d20043149d68e1593dd69168: INVALID_ARGUMENT: ram://f7213a63d20043149d68e1593dd69168 is a directory.\n"
     ]
    },
    {
     "name": "stdout",
     "output_type": "stream",
     "text": [
      "500/500 [==============================] - 18s 33ms/step - loss: 0.2098 - accuracy: 0.9260\n",
      "177/500 [=========>....................] - ETA: 6s - loss: 0.9002 - accuracy: 0.8418INFO:tensorflow:Assets written to: ram://cd757360a04b401b81e793f3cb2f04ff/assets\n"
     ]
    },
    {
     "name": "stderr",
     "output_type": "stream",
     "text": [
      "INFO:tensorflow:Assets written to: ram://cd757360a04b401b81e793f3cb2f04ff/assets\n"
     ]
    },
    {
     "name": "stdout",
     "output_type": "stream",
     "text": [
      "16/16 [==============================] - 8s 415ms/steposs: 0.6299 - accuracy: 0.87\n",
      "421/500 [========================>.....] - ETA: 1s - loss: 0.5760 - accuracy: 0.8836"
     ]
    },
    {
     "name": "stderr",
     "output_type": "stream",
     "text": [
      "WARNING:tensorflow:Detecting that an object or model or tf.train.Checkpoint is being deleted with unrestored values. See the following logs for the specific values in question. To silence these warnings, use `status.expect_partial()`. See https://www.tensorflow.org/api_docs/python/tf/train/Checkpoint#restorefor details about the status object returned by the restore function.\n",
      "WARNING:tensorflow:Value in checkpoint could not be found in the restored object: (root).keras_api.metrics.0.total\n",
      "WARNING:tensorflow:Value in checkpoint could not be found in the restored object: (root).keras_api.metrics.0.count\n",
      "WARNING:tensorflow:Value in checkpoint could not be found in the restored object: (root).keras_api.metrics.1.total\n",
      "WARNING:tensorflow:Value in checkpoint could not be found in the restored object: (root).keras_api.metrics.1.count\n",
      "WARNING:tensorflow:Detecting that an object or model or tf.train.Checkpoint is being deleted with unrestored values. See the following logs for the specific values in question. To silence these warnings, use `status.expect_partial()`. See https://www.tensorflow.org/api_docs/python/tf/train/Checkpoint#restorefor details about the status object returned by the restore function.\n",
      "WARNING:tensorflow:Value in checkpoint could not be found in the restored object: (root).keras_api.metrics.0.total\n",
      "WARNING:tensorflow:Value in checkpoint could not be found in the restored object: (root).keras_api.metrics.0.count\n",
      "WARNING:tensorflow:Value in checkpoint could not be found in the restored object: (root).keras_api.metrics.1.total\n",
      "WARNING:tensorflow:Value in checkpoint could not be found in the restored object: (root).keras_api.metrics.1.count\n"
     ]
    },
    {
     "name": "stdout",
     "output_type": "stream",
     "text": [
      "500/500 [==============================] - 10s 18ms/step - loss: 0.5381 - accuracy: 0.89000.88\n",
      "16/16 [==============================] - 2s 89ms/step\n",
      "INFO:tensorflow:Assets written to: ram://388c73bc8fdc43e7b8022bcc5a9b4488/assets\n"
     ]
    },
    {
     "name": "stderr",
     "output_type": "stream",
     "text": [
      "WARNING:tensorflow:Detecting that an object or model or tf.train.Checkpoint is being deleted with unrestored values. See the following logs for the specific values in question. To silence these warnings, use `status.expect_partial()`. See https://www.tensorflow.org/api_docs/python/tf/train/Checkpoint#restorefor details about the status object returned by the restore function.\n",
      "WARNING:tensorflow:Value in checkpoint could not be found in the restored object: (root).keras_api.metrics.0.total\n",
      "WARNING:tensorflow:Value in checkpoint could not be found in the restored object: (root).keras_api.metrics.0.count\n",
      "WARNING:tensorflow:Value in checkpoint could not be found in the restored object: (root).keras_api.metrics.1.total\n",
      "WARNING:tensorflow:Value in checkpoint could not be found in the restored object: (root).keras_api.metrics.1.count\n",
      "WARNING:tensorflow:Detecting that an object or model or tf.train.Checkpoint is being deleted with unrestored values. See the following logs for the specific values in question. To silence these warnings, use `status.expect_partial()`. See https://www.tensorflow.org/api_docs/python/tf/train/Checkpoint#restorefor details about the status object returned by the restore function.\n",
      "WARNING:tensorflow:Value in checkpoint could not be found in the restored object: (root).keras_api.metrics.0.total\n",
      "WARNING:tensorflow:Value in checkpoint could not be found in the restored object: (root).keras_api.metrics.0.count\n",
      "WARNING:tensorflow:Value in checkpoint could not be found in the restored object: (root).keras_api.metrics.1.total\n",
      "WARNING:tensorflow:Value in checkpoint could not be found in the restored object: (root).keras_api.metrics.1.count\n",
      "INFO:tensorflow:Assets written to: ram://388c73bc8fdc43e7b8022bcc5a9b4488/assets\n",
      "2023-11-17 15:41:34.725746: W tensorflow/core/util/tensor_slice_reader.cc:98] Could not open ram://838cf512445a40348742bdc4e961e766: INVALID_ARGUMENT: ram://838cf512445a40348742bdc4e961e766 is a directory.\n",
      "2023-11-17 15:41:36.879840: W tensorflow/core/util/tensor_slice_reader.cc:98] Could not open ram://07b0ef48fbc24038aebabb8450ee4477: INVALID_ARGUMENT: ram://07b0ef48fbc24038aebabb8450ee4477 is a directory.\n"
     ]
    },
    {
     "name": "stdout",
     "output_type": "stream",
     "text": [
      "500/500 [==============================] - 7s 12ms/step - loss: 0.5923 - accuracy: 0.8920\n",
      "15/16 [===========================>..] - ETA: 0s"
     ]
    },
    {
     "name": "stderr",
     "output_type": "stream",
     "text": [
      "Generating ensemble training data: |██████████|100%\n"
     ]
    },
    {
     "name": "stdout",
     "output_type": "stream",
     "text": [
      "16/16 [==============================] - 2s 89ms/step\n"
     ]
    },
    {
     "name": "stderr",
     "output_type": "stream",
     "text": [
      "Training final base predictors: |██████████|100%\n",
      "WARNING:tensorflow:Detecting that an object or model or tf.train.Checkpoint is being deleted with unrestored values. See the following logs for the specific values in question. To silence these warnings, use `status.expect_partial()`. See https://www.tensorflow.org/api_docs/python/tf/train/Checkpoint#restorefor details about the status object returned by the restore function.\n",
      "WARNING:tensorflow:Value in checkpoint could not be found in the restored object: (root).keras_api.metrics.0.total\n",
      "WARNING:tensorflow:Value in checkpoint could not be found in the restored object: (root).keras_api.metrics.0.count\n",
      "WARNING:tensorflow:Value in checkpoint could not be found in the restored object: (root).keras_api.metrics.1.total\n",
      "WARNING:tensorflow:Value in checkpoint could not be found in the restored object: (root).keras_api.metrics.1.count\n",
      "WARNING:tensorflow:Detecting that an object or model or tf.train.Checkpoint is being deleted with unrestored values. See the following logs for the specific values in question. To silence these warnings, use `status.expect_partial()`. See https://www.tensorflow.org/api_docs/python/tf/train/Checkpoint#restorefor details about the status object returned by the restore function.\n",
      "WARNING:tensorflow:Value in checkpoint could not be found in the restored object: (root).keras_api.metrics.0.total\n",
      "WARNING:tensorflow:Value in checkpoint could not be found in the restored object: (root).keras_api.metrics.0.count\n",
      "WARNING:tensorflow:Value in checkpoint could not be found in the restored object: (root).keras_api.metrics.1.total\n",
      "WARNING:tensorflow:Value in checkpoint could not be found in the restored object: (root).keras_api.metrics.1.count\n"
     ]
    },
    {
     "name": "stdout",
     "output_type": "stream",
     "text": [
      "INFO:tensorflow:Assets written to: ram://6612729f56e1446cbce14ace656f88f4/assets\n"
     ]
    },
    {
     "name": "stderr",
     "output_type": "stream",
     "text": [
      "INFO:tensorflow:Assets written to: ram://6612729f56e1446cbce14ace656f88f4/assets\n"
     ]
    },
    {
     "name": "stdout",
     "output_type": "stream",
     "text": [
      "INFO:tensorflow:Assets written to: ram://56f199de966a40b3b353e0286faa3a58/assets\n"
     ]
    },
    {
     "name": "stderr",
     "output_type": "stream",
     "text": [
      "INFO:tensorflow:Assets written to: ram://56f199de966a40b3b353e0286faa3a58/assets\n",
      "2023-11-17 15:42:05.899867: W tensorflow/core/util/tensor_slice_reader.cc:98] Could not open ram://d80717bf49ba4736ae9f3a1357111a4c: INVALID_ARGUMENT: ram://d80717bf49ba4736ae9f3a1357111a4c is a directory.\n",
      "2023-11-17 15:42:08.034874: W tensorflow/core/util/tensor_slice_reader.cc:98] Could not open ram://3137b1bbfa92424485ce0b881aa76b2d: INVALID_ARGUMENT: ram://3137b1bbfa92424485ce0b881aa76b2d is a directory.\n"
     ]
    },
    {
     "name": "stdout",
     "output_type": "stream",
     "text": [
      "  89/1000 [=>............................] - ETA: 30s - loss: 0.3975 - accuracy: 0.9438INFO:tensorflow:Assets written to: ram://120021e769ff487db258cd11e0e17593/assets\n"
     ]
    },
    {
     "name": "stderr",
     "output_type": "stream",
     "text": [
      "INFO:tensorflow:Assets written to: ram://120021e769ff487db258cd11e0e17593/assets\n"
     ]
    },
    {
     "name": "stdout",
     "output_type": "stream",
     "text": [
      " 329/1000 [========>.....................] - ETA: 22s - loss: 0.2562 - accuracy: 0.9331INFO:tensorflow:Assets written to: ram://72fbe6ebb5bd437ca21764864e7b7769/assets\n"
     ]
    },
    {
     "name": "stderr",
     "output_type": "stream",
     "text": [
      "INFO:tensorflow:Assets written to: ram://72fbe6ebb5bd437ca21764864e7b7769/assets\n"
     ]
    },
    {
     "name": "stdout",
     "output_type": "stream",
     "text": [
      " 513/1000 [==============>...............] - ETA: 16s - loss: 0.2177 - accuracy: 0.9357"
     ]
    },
    {
     "name": "stderr",
     "output_type": "stream",
     "text": [
      "2023-11-17 15:42:26.500383: W tensorflow/core/util/tensor_slice_reader.cc:98] Could not open ram://eb4847653ea14791909582681b875629: INVALID_ARGUMENT: ram://eb4847653ea14791909582681b875629 is a directory.\n"
     ]
    },
    {
     "name": "stdout",
     "output_type": "stream",
     "text": [
      " 609/1000 [=================>............] - ETA: 12s - loss: 0.1995 - accuracy: 0.9392"
     ]
    },
    {
     "name": "stderr",
     "output_type": "stream",
     "text": [
      "2023-11-17 15:42:29.654298: W tensorflow/core/util/tensor_slice_reader.cc:98] Could not open ram://de0e3486895d449f997eb3de4c86c5d2: INVALID_ARGUMENT: ram://de0e3486895d449f997eb3de4c86c5d2 is a directory.\n"
     ]
    },
    {
     "name": "stdout",
     "output_type": "stream",
     "text": [
      "1000/1000 [==============================] - 37s 36ms/step - loss: 0.2022 - accuracy: 0.9330\n",
      "1000/1000 [==============================] - 15s 14ms/step - loss: 0.4444 - accuracy: 0.8860\n"
     ]
    },
    {
     "name": "stderr",
     "output_type": "stream",
     "text": [
      "WARNING:tensorflow:Detecting that an object or model or tf.train.Checkpoint is being deleted with unrestored values. See the following logs for the specific values in question. To silence these warnings, use `status.expect_partial()`. See https://www.tensorflow.org/api_docs/python/tf/train/Checkpoint#restorefor details about the status object returned by the restore function.\n",
      "WARNING:tensorflow:Detecting that an object or model or tf.train.Checkpoint is being deleted with unrestored values. See the following logs for the specific values in question. To silence these warnings, use `status.expect_partial()`. See https://www.tensorflow.org/api_docs/python/tf/train/Checkpoint#restorefor details about the status object returned by the restore function.\n",
      "WARNING:tensorflow:Value in checkpoint could not be found in the restored object: (root).keras_api.metrics.0.total\n",
      "WARNING:tensorflow:Value in checkpoint could not be found in the restored object: (root).keras_api.metrics.0.total\n",
      "WARNING:tensorflow:Value in checkpoint could not be found in the restored object: (root).keras_api.metrics.0.count\n",
      "WARNING:tensorflow:Value in checkpoint could not be found in the restored object: (root).keras_api.metrics.0.count\n",
      "WARNING:tensorflow:Value in checkpoint could not be found in the restored object: (root).keras_api.metrics.1.total\n",
      "WARNING:tensorflow:Value in checkpoint could not be found in the restored object: (root).keras_api.metrics.1.total\n",
      "WARNING:tensorflow:Value in checkpoint could not be found in the restored object: (root).keras_api.metrics.1.count\n",
      "WARNING:tensorflow:Value in checkpoint could not be found in the restored object: (root).keras_api.metrics.1.count\n",
      "WARNING:tensorflow:Detecting that an object or model or tf.train.Checkpoint is being deleted with unrestored values. See the following logs for the specific values in question. To silence these warnings, use `status.expect_partial()`. See https://www.tensorflow.org/api_docs/python/tf/train/Checkpoint#restorefor details about the status object returned by the restore function.\n",
      "WARNING:tensorflow:Detecting that an object or model or tf.train.Checkpoint is being deleted with unrestored values. See the following logs for the specific values in question. To silence these warnings, use `status.expect_partial()`. See https://www.tensorflow.org/api_docs/python/tf/train/Checkpoint#restorefor details about the status object returned by the restore function.\n",
      "WARNING:tensorflow:Value in checkpoint could not be found in the restored object: (root).keras_api.metrics.0.total\n",
      "WARNING:tensorflow:Value in checkpoint could not be found in the restored object: (root).keras_api.metrics.0.total\n",
      "WARNING:tensorflow:Value in checkpoint could not be found in the restored object: (root).keras_api.metrics.0.count\n",
      "WARNING:tensorflow:Value in checkpoint could not be found in the restored object: (root).keras_api.metrics.0.count\n",
      "WARNING:tensorflow:Value in checkpoint could not be found in the restored object: (root).keras_api.metrics.1.total\n",
      "WARNING:tensorflow:Value in checkpoint could not be found in the restored object: (root).keras_api.metrics.1.total\n",
      "WARNING:tensorflow:Value in checkpoint could not be found in the restored object: (root).keras_api.metrics.1.count\n",
      "WARNING:tensorflow:Value in checkpoint could not be found in the restored object: (root).keras_api.metrics.1.count\n"
     ]
    },
    {
     "name": "stdout",
     "output_type": "stream",
     "text": [
      "\n",
      "\n"
     ]
    },
    {
     "name": "stderr",
     "output_type": "stream",
     "text": [
      "WARNING:tensorflow:Detecting that an object or model or tf.train.Checkpoint is being deleted with unrestored values. See the following logs for the specific values in question. To silence these warnings, use `status.expect_partial()`. See https://www.tensorflow.org/api_docs/python/tf/train/Checkpoint#restorefor details about the status object returned by the restore function.\n",
      "WARNING:tensorflow:Detecting that an object or model or tf.train.Checkpoint is being deleted with unrestored values. See the following logs for the specific values in question. To silence these warnings, use `status.expect_partial()`. See https://www.tensorflow.org/api_docs/python/tf/train/Checkpoint#restorefor details about the status object returned by the restore function.\n",
      "WARNING:tensorflow:Value in checkpoint could not be found in the restored object: (root).keras_api.metrics.0.total\n",
      "WARNING:tensorflow:Value in checkpoint could not be found in the restored object: (root).keras_api.metrics.0.total\n",
      "WARNING:tensorflow:Value in checkpoint could not be found in the restored object: (root).keras_api.metrics.0.count\n",
      "WARNING:tensorflow:Value in checkpoint could not be found in the restored object: (root).keras_api.metrics.0.count\n",
      "WARNING:tensorflow:Value in checkpoint could not be found in the restored object: (root).keras_api.metrics.1.total\n",
      "WARNING:tensorflow:Value in checkpoint could not be found in the restored object: (root).keras_api.metrics.1.total\n",
      "WARNING:tensorflow:Value in checkpoint could not be found in the restored object: (root).keras_api.metrics.1.count\n",
      "WARNING:tensorflow:Value in checkpoint could not be found in the restored object: (root).keras_api.metrics.1.count\n",
      "WARNING:tensorflow:Detecting that an object or model or tf.train.Checkpoint is being deleted with unrestored values. See the following logs for the specific values in question. To silence these warnings, use `status.expect_partial()`. See https://www.tensorflow.org/api_docs/python/tf/train/Checkpoint#restorefor details about the status object returned by the restore function.\n",
      "WARNING:tensorflow:Detecting that an object or model or tf.train.Checkpoint is being deleted with unrestored values. See the following logs for the specific values in question. To silence these warnings, use `status.expect_partial()`. See https://www.tensorflow.org/api_docs/python/tf/train/Checkpoint#restorefor details about the status object returned by the restore function.\n",
      "WARNING:tensorflow:Value in checkpoint could not be found in the restored object: (root).keras_api.metrics.0.total\n",
      "WARNING:tensorflow:Value in checkpoint could not be found in the restored object: (root).keras_api.metrics.0.total\n",
      "WARNING:tensorflow:Value in checkpoint could not be found in the restored object: (root).keras_api.metrics.0.count\n",
      "WARNING:tensorflow:Value in checkpoint could not be found in the restored object: (root).keras_api.metrics.0.count\n",
      "WARNING:tensorflow:Value in checkpoint could not be found in the restored object: (root).keras_api.metrics.1.total\n",
      "WARNING:tensorflow:Value in checkpoint could not be found in the restored object: (root).keras_api.metrics.1.total\n",
      "WARNING:tensorflow:Value in checkpoint could not be found in the restored object: (root).keras_api.metrics.1.count\n",
      "WARNING:tensorflow:Value in checkpoint could not be found in the restored object: (root).keras_api.metrics.1.count\n"
     ]
    }
   ],
   "source": [
    "EI.fit_base(X_sample, y_sample, modality_name=\"shmimage\")"
   ]
  },
  {
   "cell_type": "code",
   "execution_count": 16,
   "metadata": {},
   "outputs": [
    {
     "data": {
      "text/plain": [
       "{'metrics': modality        shmimage          \n",
       " base predictor MobileNet  ResNet50\n",
       " f_max           0.330709  0.685714\n",
       " auc             0.785728  0.955130\n",
       " mcc             0.248039  0.650276,\n",
       " 'thresholds': modality        shmimage          \n",
       " base predictor MobileNet  ResNet50\n",
       " f_max            0.09114  0.508699\n",
       " auc                  NaN       NaN\n",
       " mcc              0.50000  0.500000}"
      ]
     },
     "execution_count": 16,
     "metadata": {},
     "output_type": "execute_result"
    }
   ],
   "source": [
    "EI.base_summary"
   ]
  },
  {
   "cell_type": "code",
   "execution_count": 17,
   "metadata": {},
   "outputs": [
    {
     "name": "stderr",
     "output_type": "stream",
     "text": [
      "Analyzing ensembles: |          |  0%"
     ]
    },
    {
     "name": "stderr",
     "output_type": "stream",
     "text": [
      "WARNING:tensorflow:Detecting that an object or model or tf.train.Checkpoint is being deleted with unrestored values. See the following logs for the specific values in question. To silence these warnings, use `status.expect_partial()`. See https://www.tensorflow.org/api_docs/python/tf/train/Checkpoint#restorefor details about the status object returned by the restore function.\n",
      "WARNING:tensorflow:Detecting that an object or model or tf.train.Checkpoint is being deleted with unrestored values. See the following logs for the specific values in question. To silence these warnings, use `status.expect_partial()`. See https://www.tensorflow.org/api_docs/python/tf/train/Checkpoint#restorefor details about the status object returned by the restore function.\n",
      "WARNING:tensorflow:Value in checkpoint could not be found in the restored object: (root).keras_api.metrics.0.total\n",
      "WARNING:tensorflow:Value in checkpoint could not be found in the restored object: (root).keras_api.metrics.0.total\n",
      "WARNING:tensorflow:Value in checkpoint could not be found in the restored object: (root).keras_api.metrics.0.count\n",
      "WARNING:tensorflow:Value in checkpoint could not be found in the restored object: (root).keras_api.metrics.0.count\n",
      "WARNING:tensorflow:Value in checkpoint could not be found in the restored object: (root).keras_api.metrics.1.total\n",
      "WARNING:tensorflow:Value in checkpoint could not be found in the restored object: (root).keras_api.metrics.1.total\n",
      "WARNING:tensorflow:Value in checkpoint could not be found in the restored object: (root).keras_api.metrics.1.count\n",
      "WARNING:tensorflow:Value in checkpoint could not be found in the restored object: (root).keras_api.metrics.1.count\n",
      "WARNING:tensorflow:Detecting that an object or model or tf.train.Checkpoint is being deleted with unrestored values. See the following logs for the specific values in question. To silence these warnings, use `status.expect_partial()`. See https://www.tensorflow.org/api_docs/python/tf/train/Checkpoint#restorefor details about the status object returned by the restore function.\n",
      "WARNING:tensorflow:Detecting that an object or model or tf.train.Checkpoint is being deleted with unrestored values. See the following logs for the specific values in question. To silence these warnings, use `status.expect_partial()`. See https://www.tensorflow.org/api_docs/python/tf/train/Checkpoint#restorefor details about the status object returned by the restore function.\n",
      "WARNING:tensorflow:Value in checkpoint could not be found in the restored object: (root).keras_api.metrics.0.total\n",
      "WARNING:tensorflow:Value in checkpoint could not be found in the restored object: (root).keras_api.metrics.0.total\n",
      "WARNING:tensorflow:Value in checkpoint could not be found in the restored object: (root).keras_api.metrics.0.count\n",
      "WARNING:tensorflow:Value in checkpoint could not be found in the restored object: (root).keras_api.metrics.0.count\n",
      "WARNING:tensorflow:Value in checkpoint could not be found in the restored object: (root).keras_api.metrics.1.total\n",
      "WARNING:tensorflow:Value in checkpoint could not be found in the restored object: (root).keras_api.metrics.1.total\n",
      "WARNING:tensorflow:Value in checkpoint could not be found in the restored object: (root).keras_api.metrics.1.count\n",
      "WARNING:tensorflow:Value in checkpoint could not be found in the restored object: (root).keras_api.metrics.1.count\n",
      "Analyzing ensembles: |██████████|100%\n",
      "Training final ensemble models: |██████████|100%\n"
     ]
    },
    {
     "data": {
      "text/plain": [
       "<eipy.deep_ei.EnsembleIntegration at 0x7f9af40f7040>"
      ]
     },
     "execution_count": 17,
     "metadata": {},
     "output_type": "execute_result"
    }
   ],
   "source": [
    "from sklearn.linear_model import LogisticRegression\n",
    "from xgboost import XGBClassifier\n",
    "ensemble_predictors = {\"LR\": LogisticRegression(),\n",
    "                       \"XGB\": XGBClassifier()}\n",
    "EI.fit_ensemble(ensemble_predictors=ensemble_predictors)"
   ]
  },
  {
   "cell_type": "code",
   "execution_count": 18,
   "metadata": {},
   "outputs": [
    {
     "data": {
      "text/plain": [
       "{'metrics':              LR       XGB\n",
       " f_max  0.314961  0.187500\n",
       " auc    0.705583  0.505414\n",
       " mcc    0.000000  0.008863,\n",
       " 'thresholds':              LR       XGB\n",
       " f_max  0.089109  0.085131\n",
       " auc         NaN       NaN\n",
       " mcc    0.500000  0.500000}"
      ]
     },
     "execution_count": 18,
     "metadata": {},
     "output_type": "execute_result"
    }
   ],
   "source": [
    "EI.ensemble_summary"
   ]
  },
  {
   "cell_type": "code",
   "execution_count": 19,
   "metadata": {},
   "outputs": [],
   "source": [
    "X_dict = {\"shmimage\": X_sample}"
   ]
  },
  {
   "cell_type": "code",
   "execution_count": 20,
   "metadata": {},
   "outputs": [
    {
     "data": {
      "text/plain": [
       "['shmimage']"
      ]
     },
     "execution_count": 20,
     "metadata": {},
     "output_type": "execute_result"
    }
   ],
   "source": [
    "EI.modality_names"
   ]
  },
  {
   "cell_type": "code",
   "execution_count": 21,
   "metadata": {},
   "outputs": [
    {
     "name": "stderr",
     "output_type": "stream",
     "text": [
      "2023-11-15 16:12:44.751956: W tensorflow/core/util/tensor_slice_reader.cc:98] Could not open ram://a0c372635c3a4a9fafd501fe4374652c: INVALID_ARGUMENT: ram://a0c372635c3a4a9fafd501fe4374652c is a directory.\n"
     ]
    },
    {
     "name": "stdout",
     "output_type": "stream",
     "text": [
      "32/32 [==============================] - 12s 340ms/step\n"
     ]
    },
    {
     "name": "stderr",
     "output_type": "stream",
     "text": [
      "2023-11-15 16:12:58.753628: W tensorflow/core/util/tensor_slice_reader.cc:98] Could not open ram://43eb3e2192ab48a48172014196bcb629: INVALID_ARGUMENT: ram://43eb3e2192ab48a48172014196bcb629 is a directory.\n"
     ]
    },
    {
     "name": "stdout",
     "output_type": "stream",
     "text": [
      "32/32 [==============================] - 3s 85ms/step\n"
     ]
    },
    {
     "data": {
      "text/plain": [
       "array([0.0799678 , 0.13168917, 0.08950173, 0.11083812, 0.0693496 ,\n",
       "       0.06736746, 0.10310862, 0.06858966, 0.07082725, 0.09452216,\n",
       "       0.07259091, 0.12944848, 0.07248769, 0.0842082 , 0.11139511,\n",
       "       0.0849701 , 0.0869451 , 0.08038993, 0.09722135, 0.0635078 ,\n",
       "       0.08000077, 0.06666598, 0.06523644, 0.19327766, 0.06848172,\n",
       "       0.08309012, 0.07751799, 0.0761429 , 0.13700303, 0.06413451,\n",
       "       0.06764469, 0.07047187, 0.08831956, 0.08185731, 0.12216659,\n",
       "       0.07493386, 0.06820865, 0.10972586, 0.14345645, 0.08331853,\n",
       "       0.11933513, 0.06925324, 0.08742322, 0.0691075 , 0.1129003 ,\n",
       "       0.15530523, 0.06576854, 0.10803305, 0.06390492, 0.07220081,\n",
       "       0.08586769, 0.07413792, 0.06842103, 0.07127218, 0.10611342,\n",
       "       0.08890289, 0.07251464, 0.07270016, 0.06875327, 0.07691401,\n",
       "       0.06553054, 0.06343942, 0.09463463, 0.08855341, 0.08109449,\n",
       "       0.08100689, 0.16081715, 0.0722621 , 0.08212006, 0.07890292,\n",
       "       0.08349745, 0.06911743, 0.07547345, 0.12128167, 0.10148001,\n",
       "       0.07149317, 0.10779036, 0.08135295, 0.07884099, 0.07312121,\n",
       "       0.07393816, 0.15561224, 0.14125366, 0.06357182, 0.07745194,\n",
       "       0.07700483, 0.07558109, 0.0764327 , 0.0927616 , 0.16815035,\n",
       "       0.13750447, 0.06393441, 0.13122223, 0.06406444, 0.07074874,\n",
       "       0.0672118 , 0.06962385, 0.07752477, 0.06892593, 0.06664857,\n",
       "       0.07106173, 0.07358254, 0.0817294 , 0.06243264, 0.17369651,\n",
       "       0.13508809, 0.06821026, 0.07014206, 0.10014718, 0.07290626,\n",
       "       0.06602359, 0.08442768, 0.06928889, 0.06542963, 0.14572654,\n",
       "       0.07492785, 0.07765582, 0.08109684, 0.0643761 , 0.07138167,\n",
       "       0.0658205 , 0.06813892, 0.13450235, 0.06412292, 0.10292061,\n",
       "       0.08733189, 0.08285515, 0.06534758, 0.0679637 , 0.07954949,\n",
       "       0.06328911, 0.13887376, 0.09510173, 0.13077887, 0.11810704,\n",
       "       0.07112301, 0.11245613, 0.08000143, 0.06767332, 0.13524445,\n",
       "       0.09207073, 0.07970761, 0.07468617, 0.09998439, 0.07620261,\n",
       "       0.08603538, 0.06623315, 0.06774792, 0.10150501, 0.08722292,\n",
       "       0.08465009, 0.13307129, 0.09198964, 0.07025633, 0.07045343,\n",
       "       0.07477063, 0.06494061, 0.07073783, 0.06864383, 0.06673245,\n",
       "       0.06411836, 0.12047227, 0.08376688, 0.07651904, 0.10786061,\n",
       "       0.06884246, 0.10195083, 0.06371211, 0.07072809, 0.08165269,\n",
       "       0.10692508, 0.09232119, 0.10204679, 0.06869599, 0.193253  ,\n",
       "       0.13224618, 0.06672641, 0.07014091, 0.06946594, 0.09033222,\n",
       "       0.07521979, 0.07202584, 0.0653589 , 0.0788546 , 0.06838843,\n",
       "       0.07600353, 0.06824981, 0.07805134, 0.06381424, 0.09533073,\n",
       "       0.07463757, 0.13427914, 0.08555709, 0.14865751, 0.06615619,\n",
       "       0.07465416, 0.11985013, 0.07690175, 0.06556172, 0.09297952,\n",
       "       0.08289296, 0.15313919, 0.07730234, 0.09710661, 0.12689131,\n",
       "       0.07047962, 0.06373611, 0.07417378, 0.07856937, 0.11466531,\n",
       "       0.07430047, 0.07647794, 0.08713393, 0.07792185, 0.10867078,\n",
       "       0.06739605, 0.07504723, 0.10874599, 0.07196103, 0.0836163 ,\n",
       "       0.08084193, 0.06989152, 0.09753096, 0.07552232, 0.08657518,\n",
       "       0.09428271, 0.06742148, 0.07037795, 0.07512153, 0.09743691,\n",
       "       0.0841341 , 0.17509848, 0.08198171, 0.1030854 , 0.07023054,\n",
       "       0.08020759, 0.06787853, 0.06944509, 0.07354994, 0.06523169,\n",
       "       0.12314546, 0.1440794 , 0.1155258 , 0.13672316, 0.06807984,\n",
       "       0.08826707, 0.13722546, 0.08545763, 0.07231291, 0.10055612,\n",
       "       0.0867072 , 0.0725018 , 0.1175351 , 0.07334247, 0.06814452,\n",
       "       0.09608601, 0.0775352 , 0.09211996, 0.12772176, 0.20628322,\n",
       "       0.09563911, 0.18334392, 0.09104747, 0.07235373, 0.08456276,\n",
       "       0.09438774, 0.08440714, 0.08818924, 0.06853641, 0.06852566,\n",
       "       0.07650239, 0.07261954, 0.07436667, 0.07380112, 0.09484852,\n",
       "       0.08541655, 0.12443568, 0.07170339, 0.07044277, 0.08370953,\n",
       "       0.11035387, 0.11394272, 0.07070446, 0.24285272, 0.13363688,\n",
       "       0.11197927, 0.10347449, 0.08254733, 0.07409276, 0.12514754,\n",
       "       0.12046655, 0.06364114, 0.06500295, 0.11975491, 0.07250955,\n",
       "       0.06350861, 0.06567705, 0.07581827, 0.08016817, 0.06783391,\n",
       "       0.06793151, 0.06901821, 0.07602517, 0.07758689, 0.06715354,\n",
       "       0.13886745, 0.10421652, 0.08168899, 0.21114356, 0.06456437,\n",
       "       0.07582998, 0.08023613, 0.08277932, 0.07044451, 0.09142637,\n",
       "       0.08094556, 0.08657989, 0.08038749, 0.06965146, 0.0700935 ,\n",
       "       0.0672137 , 0.06946749, 0.07033236, 0.0635973 , 0.06336555,\n",
       "       0.10234694, 0.073016  , 0.06830366, 0.0869904 , 0.08131591,\n",
       "       0.12498847, 0.10153583, 0.0840734 , 0.06512078, 0.06823106,\n",
       "       0.11905032, 0.06718044, 0.09272656, 0.07794346, 0.09853744,\n",
       "       0.06474502, 0.06831328, 0.06375447, 0.08060009, 0.07109861,\n",
       "       0.0643315 , 0.07483612, 0.06403542, 0.07508434, 0.17125147,\n",
       "       0.12182946, 0.14492727, 0.12244848, 0.07398318, 0.0650123 ,\n",
       "       0.06583737, 0.0634824 , 0.08302477, 0.10821978, 0.09888497,\n",
       "       0.06994879, 0.07180992, 0.14529745, 0.12900122, 0.10479306,\n",
       "       0.08253136, 0.12821365, 0.07337726, 0.07293879, 0.14439273,\n",
       "       0.06886127, 0.08225632, 0.12692308, 0.07853418, 0.08035543,\n",
       "       0.07188896, 0.08586725, 0.08600402, 0.07045997, 0.06662759,\n",
       "       0.10790902, 0.09460019, 0.09859981, 0.2346463 , 0.06462981,\n",
       "       0.08091373, 0.07092208, 0.07018292, 0.07887006, 0.06822513,\n",
       "       0.11772238, 0.06565198, 0.09483793, 0.08986013, 0.10024834,\n",
       "       0.06566294, 0.06602329, 0.0885544 , 0.10132454, 0.07885464,\n",
       "       0.09191635, 0.17006663, 0.07605342, 0.09274453, 0.08369664,\n",
       "       0.0810962 , 0.09958871, 0.14455397, 0.07594976, 0.07008944,\n",
       "       0.06841315, 0.08014278, 0.09067576, 0.08214347, 0.18479515,\n",
       "       0.15107894, 0.07548101, 0.07179606, 0.0706669 , 0.07932012,\n",
       "       0.0783424 , 0.07139459, 0.07449574, 0.0866698 , 0.06572356,\n",
       "       0.08028112, 0.07891042, 0.07920232, 0.09203471, 0.06841781,\n",
       "       0.08119547, 0.07844534, 0.06964114, 0.07815862, 0.08605753,\n",
       "       0.07543307, 0.08043186, 0.06358962, 0.07189648, 0.08633619,\n",
       "       0.10337225, 0.08269862, 0.1222224 , 0.11936133, 0.06732892,\n",
       "       0.07053294, 0.07581469, 0.06598397, 0.06934971, 0.06570578,\n",
       "       0.06896244, 0.11222105, 0.08006801, 0.07564997, 0.1282448 ,\n",
       "       0.0737947 , 0.07143397, 0.06579844, 0.06844346, 0.08305026,\n",
       "       0.07109901, 0.06636627, 0.14757212, 0.06485501, 0.08875819,\n",
       "       0.06893036, 0.06426283, 0.06219504, 0.07607168, 0.0944444 ,\n",
       "       0.06904632, 0.10342612, 0.10834521, 0.06290402, 0.08267856,\n",
       "       0.07494768, 0.06575837, 0.10037258, 0.06651277, 0.06975603,\n",
       "       0.10599972, 0.06707837, 0.07105556, 0.08501314, 0.06625451,\n",
       "       0.09816396, 0.1294913 , 0.1157155 , 0.08126177, 0.07247227,\n",
       "       0.16214798, 0.10200135, 0.09625889, 0.11528701, 0.13819691,\n",
       "       0.08517605, 0.09873697, 0.06642267, 0.09468184, 0.07469725,\n",
       "       0.07506458, 0.06239374, 0.06964226, 0.08914318, 0.12840568,\n",
       "       0.08659942, 0.08693439, 0.08516499, 0.07205475, 0.06534304,\n",
       "       0.07476993, 0.0627913 , 0.0642379 , 0.15433896, 0.09044155,\n",
       "       0.0825703 , 0.09789677, 0.10490785, 0.08614479, 0.10457555,\n",
       "       0.08880749, 0.07543732, 0.10041547, 0.09868495, 0.15331575,\n",
       "       0.08454907, 0.08462085, 0.07551925, 0.09586655, 0.07487516,\n",
       "       0.12411588, 0.09067707, 0.07096602, 0.0924721 , 0.06532027,\n",
       "       0.06338427, 0.07142459, 0.06760504, 0.07987368, 0.12070937,\n",
       "       0.21753241, 0.07313915, 0.07042752, 0.08489616, 0.06294561,\n",
       "       0.11256195, 0.19893618, 0.08253974, 0.08223767, 0.07645027,\n",
       "       0.07631033, 0.06415223, 0.13299825, 0.07947538, 0.10351708,\n",
       "       0.08125546, 0.07317831, 0.06407599, 0.07522001, 0.0652728 ,\n",
       "       0.10084225, 0.06472503, 0.08019457, 0.07896147, 0.08116574,\n",
       "       0.08017651, 0.14436901, 0.08474678, 0.07236778, 0.07472995,\n",
       "       0.06743162, 0.0820733 , 0.15411978, 0.065996  , 0.06410679,\n",
       "       0.09214216, 0.08430036, 0.10815844, 0.06564193, 0.08966764,\n",
       "       0.06316228, 0.09606473, 0.08590533, 0.09026574, 0.08214629,\n",
       "       0.10105182, 0.08618456, 0.0996796 , 0.11055434, 0.16193773,\n",
       "       0.0693435 , 0.11314301, 0.06277381, 0.07018873, 0.11369944,\n",
       "       0.10052867, 0.0702543 , 0.08898971, 0.07274468, 0.07872619,\n",
       "       0.09584617, 0.06968167, 0.10620435, 0.07600296, 0.17228495,\n",
       "       0.062508  , 0.0784156 , 0.07301713, 0.06249448, 0.11323119,\n",
       "       0.06740242, 0.10277449, 0.06768554, 0.12254398, 0.06297783,\n",
       "       0.09114275, 0.08503304, 0.08298564, 0.06473336, 0.15199877,\n",
       "       0.07397226, 0.10688499, 0.13426299, 0.07238268, 0.09216008,\n",
       "       0.15958345, 0.13044557, 0.0707479 , 0.06560014, 0.11290163,\n",
       "       0.09854203, 0.08404688, 0.0679151 , 0.09549636, 0.07155031,\n",
       "       0.09433379, 0.09455198, 0.10245595, 0.1112987 , 0.0758385 ,\n",
       "       0.06379857, 0.06883195, 0.10825918, 0.06691334, 0.1174998 ,\n",
       "       0.13202102, 0.06523941, 0.0680798 , 0.06285679, 0.06820993,\n",
       "       0.07576776, 0.08274376, 0.08096962, 0.07220448, 0.08526915,\n",
       "       0.07238727, 0.17220293, 0.12132402, 0.06262104, 0.10858658,\n",
       "       0.14036992, 0.07218381, 0.07106326, 0.06553022, 0.10133132,\n",
       "       0.08788624, 0.11845632, 0.09541595, 0.21668773, 0.07130081,\n",
       "       0.06285847, 0.06539022, 0.07501496, 0.06608977, 0.08131498,\n",
       "       0.097555  , 0.06912871, 0.12701453, 0.07995706, 0.06955044,\n",
       "       0.1160639 , 0.06345983, 0.07378799, 0.15397838, 0.07563607,\n",
       "       0.0644503 , 0.10512894, 0.0847752 , 0.06286943, 0.07008365,\n",
       "       0.06784719, 0.07572286, 0.07296589, 0.07431321, 0.1150927 ,\n",
       "       0.06546763, 0.08749639, 0.07023401, 0.07039019, 0.06659735,\n",
       "       0.06891049, 0.07233145, 0.0762971 , 0.08582531, 0.09213874,\n",
       "       0.07653837, 0.07424568, 0.10540814, 0.12309813, 0.08019935,\n",
       "       0.06265538, 0.0878157 , 0.14708181, 0.06514359, 0.06917638,\n",
       "       0.08596569, 0.07479582, 0.09084929, 0.06898006, 0.08000106,\n",
       "       0.06515787, 0.09102189, 0.1279691 , 0.14572186, 0.10677686,\n",
       "       0.08032308, 0.19083176, 0.07045735, 0.07747002, 0.07569563,\n",
       "       0.07282721, 0.0740048 , 0.11181868, 0.09134584, 0.16274666,\n",
       "       0.07506784, 0.09999228, 0.09248348, 0.18613358, 0.0946381 ,\n",
       "       0.07160574, 0.07686593, 0.10430473, 0.07607966, 0.08677683,\n",
       "       0.06574188, 0.06445504, 0.07263623, 0.06562535, 0.08587927,\n",
       "       0.12996044, 0.07061238, 0.11294172, 0.13602498, 0.06307964,\n",
       "       0.0747465 , 0.0669885 , 0.06919597, 0.06695823, 0.24703666,\n",
       "       0.0780784 , 0.06625687, 0.09695357, 0.07073449, 0.28827737,\n",
       "       0.06240844, 0.06560252, 0.08982684, 0.07570548, 0.08081126,\n",
       "       0.06991547, 0.14181657, 0.07584948, 0.07854685, 0.06774072,\n",
       "       0.07039702, 0.07267876, 0.06305935, 0.06814074, 0.07450528,\n",
       "       0.15838908, 0.11089671, 0.06530053, 0.06615473, 0.06917425,\n",
       "       0.12750646, 0.0620679 , 0.17926552, 0.09802878, 0.06906626,\n",
       "       0.06886879, 0.07418583, 0.0828221 , 0.09082581, 0.07792771,\n",
       "       0.07236201, 0.10157612, 0.07517997, 0.07629695, 0.07816503,\n",
       "       0.07373587, 0.19674113, 0.07020452, 0.07312952, 0.07262246,\n",
       "       0.06805098, 0.08585253, 0.06416724, 0.07548894, 0.086329  ,\n",
       "       0.07305118, 0.06930107, 0.06606101, 0.0650256 , 0.13455531,\n",
       "       0.09416052, 0.13205331, 0.07654501, 0.09947926, 0.09677109,\n",
       "       0.07562967, 0.07222436, 0.07397824, 0.08804117, 0.0737186 ,\n",
       "       0.0621509 , 0.07196682, 0.07741606, 0.07046141, 0.08546954,\n",
       "       0.1887194 , 0.07126019, 0.06962391, 0.070463  , 0.06806314,\n",
       "       0.07850595, 0.0968245 , 0.07010712, 0.0781829 , 0.06618642,\n",
       "       0.06873327, 0.07954892, 0.07258093, 0.08238975, 0.10129891,\n",
       "       0.08493961, 0.06922975, 0.09473746, 0.08770496, 0.09945717,\n",
       "       0.06694343, 0.16808421, 0.09461285, 0.13499584, 0.07746293,\n",
       "       0.06892765, 0.08107116, 0.07439343, 0.0920727 , 0.07069264,\n",
       "       0.06955897, 0.06591305, 0.09281315, 0.07697144, 0.09429048,\n",
       "       0.1587516 , 0.08886825, 0.09376263, 0.09465389, 0.11095341,\n",
       "       0.07224907, 0.17312076, 0.07419349, 0.06368412, 0.07128943,\n",
       "       0.12796421, 0.07115958, 0.06550777, 0.062748  , 0.09411421,\n",
       "       0.10392895, 0.0973665 , 0.06669717, 0.07916859, 0.13467823,\n",
       "       0.09675148, 0.12623453, 0.10036741, 0.11330977, 0.06803771,\n",
       "       0.09061261, 0.07059464, 0.08918327, 0.06832009, 0.105262  ,\n",
       "       0.18145297, 0.08248786, 0.07302522, 0.07915851, 0.07266314,\n",
       "       0.06885762, 0.06331211, 0.07480593, 0.0797805 , 0.0781937 ,\n",
       "       0.07772151, 0.1696078 , 0.08637662, 0.08749306, 0.12155968,\n",
       "       0.06901856, 0.07042684, 0.12081177, 0.06726281, 0.06329249,\n",
       "       0.15328681, 0.08078431, 0.07608631, 0.12820721, 0.06892856,\n",
       "       0.07220279, 0.17434981, 0.10001078, 0.09136752, 0.0720475 ,\n",
       "       0.0632867 , 0.08818355, 0.06960772, 0.06648438, 0.08950093,\n",
       "       0.07301101, 0.06360669, 0.09637602, 0.07076829, 0.06974272,\n",
       "       0.06757923, 0.07592662, 0.08013011, 0.1614271 , 0.08641516,\n",
       "       0.12592427, 0.11298206, 0.07907658, 0.07327082, 0.12087784,\n",
       "       0.08035997, 0.06869294, 0.11358132, 0.09107256, 0.11903235,\n",
       "       0.08547318, 0.10733217, 0.07586865, 0.10145156, 0.06790969,\n",
       "       0.07403631, 0.10297874, 0.06864714, 0.0733039 , 0.08497063,\n",
       "       0.10407376, 0.09781974, 0.14746597, 0.08063655, 0.06761841,\n",
       "       0.07393366, 0.10109911, 0.11361602, 0.20122012, 0.15291963,\n",
       "       0.10512488, 0.06252405, 0.08508643, 0.12675328, 0.06824073,\n",
       "       0.1063304 , 0.09907621, 0.08180703, 0.10256538, 0.14857571,\n",
       "       0.06210225, 0.1251504 , 0.07135633, 0.08012842, 0.07657087,\n",
       "       0.09563338, 0.07849283, 0.1802632 , 0.0844498 , 0.09148746,\n",
       "       0.13887391, 0.06277668, 0.13141316, 0.08397894, 0.07349469,\n",
       "       0.06667592, 0.12153719, 0.14039027, 0.08134799, 0.1038818 ])"
      ]
     },
     "execution_count": 21,
     "metadata": {},
     "output_type": "execute_result"
    }
   ],
   "source": [
    "EI.predict(X_dict=X_dict, ensemble_model_key=\"LR\")"
   ]
  },
  {
   "cell_type": "code",
   "execution_count": null,
   "metadata": {},
   "outputs": [],
   "source": []
  }
 ],
 "metadata": {
  "kernelspec": {
   "display_name": ".venv",
   "language": "python",
   "name": "python3"
  },
  "language_info": {
   "codemirror_mode": {
    "name": "ipython",
    "version": 3
   },
   "file_extension": ".py",
   "mimetype": "text/x-python",
   "name": "python",
   "nbconvert_exporter": "python",
   "pygments_lexer": "ipython3",
   "version": "3.9.16"
  }
 },
 "nbformat": 4,
 "nbformat_minor": 2
}
