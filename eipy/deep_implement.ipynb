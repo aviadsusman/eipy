{
 "cells": [
  {
   "cell_type": "code",
   "execution_count": 1,
   "metadata": {},
   "outputs": [
    {
     "name": "stderr",
     "output_type": "stream",
     "text": [
      "2023-11-15 16:05:58.976201: E tensorflow/compiler/xla/stream_executor/cuda/cuda_dnn.cc:9342] Unable to register cuDNN factory: Attempting to register factory for plugin cuDNN when one has already been registered\n",
      "2023-11-15 16:05:58.976258: E tensorflow/compiler/xla/stream_executor/cuda/cuda_fft.cc:609] Unable to register cuFFT factory: Attempting to register factory for plugin cuFFT when one has already been registered\n",
      "2023-11-15 16:05:58.976293: E tensorflow/compiler/xla/stream_executor/cuda/cuda_blas.cc:1518] Unable to register cuBLAS factory: Attempting to register factory for plugin cuBLAS when one has already been registered\n",
      "2023-11-15 16:05:58.983597: I tensorflow/core/platform/cpu_feature_guard.cc:182] This TensorFlow binary is optimized to use available CPU instructions in performance-critical operations.\n",
      "To enable the following instructions: AVX2 FMA, in other operations, rebuild TensorFlow with the appropriate compiler flags.\n"
     ]
    }
   ],
   "source": [
    "import tensorflow as tf\n",
    "import numpy as np\n",
    "import pandas as pd\n",
    "from eipy.deep_ei import EnsembleIntegration"
   ]
  },
  {
   "cell_type": "code",
   "execution_count": 2,
   "metadata": {},
   "outputs": [],
   "source": [
    "from eipy.metrics import fmax_score\n",
    "from sklearn.metrics import roc_auc_score, matthews_corrcoef\n",
    "\n",
    "metrics = {\n",
    "            'f_max': fmax_score,\n",
    "            'auc': roc_auc_score,\n",
    "            'mcc': matthews_corrcoef\n",
    "            }"
   ]
  },
  {
   "cell_type": "code",
   "execution_count": 3,
   "metadata": {},
   "outputs": [],
   "source": [
    "(X_train, y_train), (X_test, y_test) = tf.keras.datasets.cifar10.load_data()"
   ]
  },
  {
   "cell_type": "code",
   "execution_count": 4,
   "metadata": {},
   "outputs": [],
   "source": [
    "y_train = np.where(y_train != 1, 0, y_train)\n",
    "y_test = np.where(y_test != 1, 0, y_test)"
   ]
  },
  {
   "cell_type": "code",
   "execution_count": 5,
   "metadata": {},
   "outputs": [],
   "source": [
    "import pickle as pkl\n",
    "'''with open(\"/home/opc/block_vol/cifar_10_resized_224/X_train.pkl\", \"rb\") as file:\n",
    "    X_train_resized=pkl.load(file=file)\n",
    "file.close()'''\n",
    "with open(\"/home/opc/block_vol/cifar_10_resized_224/X_test.pkl\", \"rb\") as file:\n",
    "    X_test_resized=pkl.load(file=file)\n",
    "file.close()"
   ]
  },
  {
   "cell_type": "code",
   "execution_count": 6,
   "metadata": {},
   "outputs": [],
   "source": [
    "sample_size = 1000\n",
    "X_sample = X_test_resized[:sample_size]\n",
    "y_sample = y_test[:sample_size]"
   ]
  },
  {
   "cell_type": "code",
   "execution_count": 7,
   "metadata": {},
   "outputs": [
    {
     "data": {
      "text/plain": [
       "(1000, 1)"
      ]
     },
     "execution_count": 7,
     "metadata": {},
     "output_type": "execute_result"
    }
   ],
   "source": [
    "y_sample.shape"
   ]
  },
  {
   "cell_type": "code",
   "execution_count": 8,
   "metadata": {},
   "outputs": [
    {
     "data": {
      "text/plain": [
       "\"from sklearn.utils.class_weight import compute_class_weight\\nclass_weights = compute_class_weight('balanced', classes=np.unique(y_train), y=y_train)\\nclass_weight_dict = {i: weight for i, weight in enumerate(class_weights)}\""
      ]
     },
     "execution_count": 8,
     "metadata": {},
     "output_type": "execute_result"
    }
   ],
   "source": [
    "'''from sklearn.utils.class_weight import compute_class_weight\n",
    "class_weights = compute_class_weight('balanced', classes=np.unique(y_train), y=y_train)\n",
    "class_weight_dict = {i: weight for i, weight in enumerate(class_weights)}'''"
   ]
  },
  {
   "cell_type": "code",
   "execution_count": 9,
   "metadata": {},
   "outputs": [],
   "source": [
    "from tensorflow.keras import layers, models\n",
    "from tensorflow.keras.applications import ResNet50\n",
    "res_model = ResNet50(weights='imagenet', include_top=False)\n",
    "for layer in res_model.layers:\n",
    "    layer.trainable = False\n",
    "averaging_layer = layers.GlobalAveragePooling2D()(res_model.output)\n",
    "output_layer = layers.Dense(1, activation='sigmoid')(averaging_layer)\n",
    "\n",
    "res_model = models.Model(inputs=res_model.input, outputs=output_layer)\n",
    "res_model.compile(optimizer='Adam', loss='binary_crossentropy', metrics=['accuracy'])"
   ]
  },
  {
   "cell_type": "code",
   "execution_count": 10,
   "metadata": {},
   "outputs": [
    {
     "data": {
      "text/plain": [
       "\"from skimage.transform import resize\\n\\nnew_size = (224, 224)\\n\\nX_train_resized = np.empty((X_train.shape[0], new_size[0], new_size[1], 3))\\nX_test_resized = np.empty((X_test.shape[0], new_size[0], new_size[1], 3))\\n\\nfor i in range(X_train.shape[0]):\\n    X_train_resized[i] = resize(X_train[i], new_size, preserve_range=True, mode='reflect')\\nfor i in range(X_test.shape[0]):\\n    X_test_resized[i] = resize(X_test[i], new_size, preserve_range=True, mode='reflect')\\n\""
      ]
     },
     "execution_count": 10,
     "metadata": {},
     "output_type": "execute_result"
    }
   ],
   "source": [
    "'''from skimage.transform import resize\n",
    "\n",
    "new_size = (224, 224)\n",
    "\n",
    "X_train_resized = np.empty((X_train.shape[0], new_size[0], new_size[1], 3))\n",
    "X_test_resized = np.empty((X_test.shape[0], new_size[0], new_size[1], 3))\n",
    "\n",
    "for i in range(X_train.shape[0]):\n",
    "    X_train_resized[i] = resize(X_train[i], new_size, preserve_range=True, mode='reflect')\n",
    "for i in range(X_test.shape[0]):\n",
    "    X_test_resized[i] = resize(X_test[i], new_size, preserve_range=True, mode='reflect')\n",
    "'''"
   ]
  },
  {
   "cell_type": "code",
   "execution_count": 11,
   "metadata": {},
   "outputs": [
    {
     "data": {
      "text/plain": [
       "'with open(\"/home/opc/block_vol/cifar_10_resized_224/X_train.pkl\", \"wb\") as file:\\n    pkl.dump(X_train_resized, file=file)\\nfile.close()\\nwith open(\"/home/opc/block_vol/cifar_10_resized_224/X_test.pkl\", \"wb\") as file:\\n    pkl.dump(X_test_resized, file=file)\\nfile.close()'"
      ]
     },
     "execution_count": 11,
     "metadata": {},
     "output_type": "execute_result"
    }
   ],
   "source": [
    "'''with open(\"/home/opc/block_vol/cifar_10_resized_224/X_train.pkl\", \"wb\") as file:\n",
    "    pkl.dump(X_train_resized, file=file)\n",
    "file.close()\n",
    "with open(\"/home/opc/block_vol/cifar_10_resized_224/X_test.pkl\", \"wb\") as file:\n",
    "    pkl.dump(X_test_resized, file=file)\n",
    "file.close()'''"
   ]
  },
  {
   "cell_type": "code",
   "execution_count": 12,
   "metadata": {},
   "outputs": [
    {
     "name": "stdout",
     "output_type": "stream",
     "text": [
      "WARNING:tensorflow:`input_shape` is undefined or non-square, or `rows` is not in [128, 160, 192, 224]. Weights for input shape (224, 224) will be loaded as the default.\n"
     ]
    }
   ],
   "source": [
    "import tensorflow as tf\n",
    "from tensorflow.keras.applications.mobilenet import MobileNet\n",
    "from tensorflow.keras.models import Model\n",
    "from tensorflow.keras.layers import Dense, GlobalAveragePooling2D\n",
    "\n",
    "base_model = MobileNet(weights='imagenet', include_top=False)\n",
    "\n",
    "x = base_model.output\n",
    "for layer in base_model.layers:\n",
    "    layer.trainable = False\n",
    "x = GlobalAveragePooling2D()(x)\n",
    "x = Dense(1024, activation='relu')(x)\n",
    "predictions = Dense(1, activation='sigmoid')(x)\n",
    "net_model = Model(inputs=base_model.input, outputs=predictions)\n",
    "\n",
    "net_model.compile(optimizer='adam', loss='binary_crossentropy', metrics=['accuracy'])"
   ]
  },
  {
   "cell_type": "code",
   "execution_count": 13,
   "metadata": {},
   "outputs": [],
   "source": [
    "base_predictors = {\n",
    "    \"ResNet50\" : res_model,\n",
    "    \"MobileNet\" : net_model\n",
    "}"
   ]
  },
  {
   "cell_type": "code",
   "execution_count": 14,
   "metadata": {},
   "outputs": [],
   "source": [
    "EI = EnsembleIntegration(\n",
    "                        base_predictors=base_predictors,\n",
    "                        k_outer=2,\n",
    "                        k_inner=2,\n",
    "                        n_samples=1,\n",
    "                        sampling_aggregation=None,\n",
    "                        sampling_strategy=None,\n",
    "                        n_jobs=-1,# -1 could be messing up for one bp\n",
    "                        metrics=metrics,\n",
    "                        random_state=38,\n",
    "                        project_name=\"images\",\n",
    "                        model_building=True,\n",
    "                        )"
   ]
  },
  {
   "cell_type": "code",
   "execution_count": 15,
   "metadata": {},
   "outputs": [
    {
     "name": "stdout",
     "output_type": "stream",
     "text": [
      "Training base predictors on shmimage...\n",
      "        \n",
      "... for ensemble performance analysis...\n"
     ]
    },
    {
     "name": "stderr",
     "output_type": "stream",
     "text": [
      "Generating ensemble training data: |          |  0%"
     ]
    },
    {
     "name": "stdout",
     "output_type": "stream",
     "text": [
      "INFO:tensorflow:Assets written to: ram://a00761079cf14856959528088493d1f2/assets\n"
     ]
    },
    {
     "name": "stderr",
     "output_type": "stream",
     "text": [
      "INFO:tensorflow:Assets written to: ram://a00761079cf14856959528088493d1f2/assets\n"
     ]
    },
    {
     "name": "stdout",
     "output_type": "stream",
     "text": [
      "INFO:tensorflow:Assets written to: ram://99f9d2a65bbd422e8239f6db04116185/assets\n"
     ]
    },
    {
     "name": "stderr",
     "output_type": "stream",
     "text": [
      "INFO:tensorflow:Assets written to: ram://99f9d2a65bbd422e8239f6db04116185/assets\n",
      "2023-11-15 16:06:22.683061: E tensorflow/compiler/xla/stream_executor/cuda/cuda_dnn.cc:9342] Unable to register cuDNN factory: Attempting to register factory for plugin cuDNN when one has already been registered\n",
      "2023-11-15 16:06:22.683120: E tensorflow/compiler/xla/stream_executor/cuda/cuda_fft.cc:609] Unable to register cuFFT factory: Attempting to register factory for plugin cuFFT when one has already been registered\n",
      "2023-11-15 16:06:22.683147: E tensorflow/compiler/xla/stream_executor/cuda/cuda_blas.cc:1518] Unable to register cuBLAS factory: Attempting to register factory for plugin cuBLAS when one has already been registered\n",
      "2023-11-15 16:06:22.689380: I tensorflow/core/platform/cpu_feature_guard.cc:182] This TensorFlow binary is optimized to use available CPU instructions in performance-critical operations.\n",
      "To enable the following instructions: AVX2 FMA, in other operations, rebuild TensorFlow with the appropriate compiler flags.\n",
      "2023-11-15 16:06:28.129936: W tensorflow/core/util/tensor_slice_reader.cc:98] Could not open ram://3c125007712d491f8c962cc60a40624f: INVALID_ARGUMENT: ram://3c125007712d491f8c962cc60a40624f is a directory.\n",
      "2023-11-15 16:06:30.305613: W tensorflow/core/util/tensor_slice_reader.cc:98] Could not open ram://d338690e85124fe48d6d9ed3c7be9168: INVALID_ARGUMENT: ram://d338690e85124fe48d6d9ed3c7be9168 is a directory.\n"
     ]
    },
    {
     "name": "stdout",
     "output_type": "stream",
     "text": [
      "5/8 [=================>............] - ETA: 1s - loss: 0.7620 - accuracy: 0.6187INFO:tensorflow:Assets written to: ram://8e26c839027e42c0836f5a61992b1a38/assets\n"
     ]
    },
    {
     "name": "stderr",
     "output_type": "stream",
     "text": [
      "INFO:tensorflow:Assets written to: ram://8e26c839027e42c0836f5a61992b1a38/assets\n"
     ]
    },
    {
     "name": "stdout",
     "output_type": "stream",
     "text": [
      "8/8 [==============================] - 4s 343ms/step - loss: 0.5674 - accuracy: 0.7280\n",
      "8/8 [==============================] - 3s 343ms/step\n"
     ]
    },
    {
     "name": "stderr",
     "output_type": "stream",
     "text": [
      "WARNING:tensorflow:Detecting that an object or model or tf.train.Checkpoint is being deleted with unrestored values. See the following logs for the specific values in question. To silence these warnings, use `status.expect_partial()`. See https://www.tensorflow.org/api_docs/python/tf/train/Checkpoint#restorefor details about the status object returned by the restore function.\n",
      "WARNING:tensorflow:Value in checkpoint could not be found in the restored object: (root).keras_api.metrics.0.total\n",
      "WARNING:tensorflow:Value in checkpoint could not be found in the restored object: (root).keras_api.metrics.0.count\n",
      "WARNING:tensorflow:Value in checkpoint could not be found in the restored object: (root).keras_api.metrics.1.total\n",
      "WARNING:tensorflow:Value in checkpoint could not be found in the restored object: (root).keras_api.metrics.1.count\n",
      "WARNING:tensorflow:Detecting that an object or model or tf.train.Checkpoint is being deleted with unrestored values. See the following logs for the specific values in question. To silence these warnings, use `status.expect_partial()`. See https://www.tensorflow.org/api_docs/python/tf/train/Checkpoint#restorefor details about the status object returned by the restore function.\n",
      "WARNING:tensorflow:Value in checkpoint could not be found in the restored object: (root).keras_api.metrics.0.total\n",
      "WARNING:tensorflow:Value in checkpoint could not be found in the restored object: (root).keras_api.metrics.0.count\n",
      "WARNING:tensorflow:Value in checkpoint could not be found in the restored object: (root).keras_api.metrics.1.total\n",
      "WARNING:tensorflow:Value in checkpoint could not be found in the restored object: (root).keras_api.metrics.1.count\n"
     ]
    },
    {
     "name": "stdout",
     "output_type": "stream",
     "text": [
      "INFO:tensorflow:Assets written to: ram://f6550f7f1bcc41e5843058c7b1a479f4/assets\n"
     ]
    },
    {
     "name": "stderr",
     "output_type": "stream",
     "text": [
      "INFO:tensorflow:Assets written to: ram://f6550f7f1bcc41e5843058c7b1a479f4/assets\n",
      "2023-11-15 16:06:41.635646: E tensorflow/compiler/xla/stream_executor/cuda/cuda_dnn.cc:9342] Unable to register cuDNN factory: Attempting to register factory for plugin cuDNN when one has already been registered\n",
      "2023-11-15 16:06:41.635700: E tensorflow/compiler/xla/stream_executor/cuda/cuda_fft.cc:609] Unable to register cuFFT factory: Attempting to register factory for plugin cuFFT when one has already been registered\n",
      "2023-11-15 16:06:41.635733: E tensorflow/compiler/xla/stream_executor/cuda/cuda_blas.cc:1518] Unable to register cuBLAS factory: Attempting to register factory for plugin cuBLAS when one has already been registered\n",
      "2023-11-15 16:06:41.641940: I tensorflow/core/platform/cpu_feature_guard.cc:182] This TensorFlow binary is optimized to use available CPU instructions in performance-critical operations.\n",
      "To enable the following instructions: AVX2 FMA, in other operations, rebuild TensorFlow with the appropriate compiler flags.\n",
      "2023-11-15 16:06:47.029873: W tensorflow/core/util/tensor_slice_reader.cc:98] Could not open ram://2228b23ebc4c4584ac4607eab2f06ebc: INVALID_ARGUMENT: ram://2228b23ebc4c4584ac4607eab2f06ebc is a directory.\n",
      "2023-11-15 16:06:49.178454: W tensorflow/core/util/tensor_slice_reader.cc:98] Could not open ram://7dd4c37312b843e4ab3355451fef9fdf: INVALID_ARGUMENT: ram://7dd4c37312b843e4ab3355451fef9fdf is a directory.\n"
     ]
    },
    {
     "name": "stdout",
     "output_type": "stream",
     "text": [
      "4/8 [==============>...............] - ETA: 1s - loss: 0.9604 - accuracy: 0.4688INFO:tensorflow:Assets written to: ram://6331e769cef04ee08b5f65a128546e03/assets\n"
     ]
    },
    {
     "name": "stderr",
     "output_type": "stream",
     "text": [
      "INFO:tensorflow:Assets written to: ram://6331e769cef04ee08b5f65a128546e03/assets\n"
     ]
    },
    {
     "name": "stdout",
     "output_type": "stream",
     "text": [
      "8/8 [==============================] - 4s 350ms/step - loss: 0.6308 - accuracy: 0.6840\n",
      "8/8 [==============================] - 3s 354ms/step\n"
     ]
    },
    {
     "name": "stderr",
     "output_type": "stream",
     "text": [
      "WARNING:tensorflow:Detecting that an object or model or tf.train.Checkpoint is being deleted with unrestored values. See the following logs for the specific values in question. To silence these warnings, use `status.expect_partial()`. See https://www.tensorflow.org/api_docs/python/tf/train/Checkpoint#restorefor details about the status object returned by the restore function.\n",
      "WARNING:tensorflow:Value in checkpoint could not be found in the restored object: (root).keras_api.metrics.0.total\n",
      "WARNING:tensorflow:Value in checkpoint could not be found in the restored object: (root).keras_api.metrics.0.count\n",
      "WARNING:tensorflow:Value in checkpoint could not be found in the restored object: (root).keras_api.metrics.1.total\n",
      "WARNING:tensorflow:Value in checkpoint could not be found in the restored object: (root).keras_api.metrics.1.count\n",
      "WARNING:tensorflow:Detecting that an object or model or tf.train.Checkpoint is being deleted with unrestored values. See the following logs for the specific values in question. To silence these warnings, use `status.expect_partial()`. See https://www.tensorflow.org/api_docs/python/tf/train/Checkpoint#restorefor details about the status object returned by the restore function.\n",
      "WARNING:tensorflow:Value in checkpoint could not be found in the restored object: (root).keras_api.metrics.0.total\n",
      "WARNING:tensorflow:Value in checkpoint could not be found in the restored object: (root).keras_api.metrics.0.count\n",
      "WARNING:tensorflow:Value in checkpoint could not be found in the restored object: (root).keras_api.metrics.1.total\n",
      "WARNING:tensorflow:Value in checkpoint could not be found in the restored object: (root).keras_api.metrics.1.count\n"
     ]
    },
    {
     "name": "stdout",
     "output_type": "stream",
     "text": [
      "INFO:tensorflow:Assets written to: ram://8249f6ef32e142288377fd3d85bf19f1/assets\n"
     ]
    },
    {
     "name": "stderr",
     "output_type": "stream",
     "text": [
      "INFO:tensorflow:Assets written to: ram://8249f6ef32e142288377fd3d85bf19f1/assets\n",
      "2023-11-15 16:07:00.203477: E tensorflow/compiler/xla/stream_executor/cuda/cuda_dnn.cc:9342] Unable to register cuDNN factory: Attempting to register factory for plugin cuDNN when one has already been registered\n",
      "2023-11-15 16:07:00.203536: E tensorflow/compiler/xla/stream_executor/cuda/cuda_fft.cc:609] Unable to register cuFFT factory: Attempting to register factory for plugin cuFFT when one has already been registered\n",
      "2023-11-15 16:07:00.203564: E tensorflow/compiler/xla/stream_executor/cuda/cuda_blas.cc:1518] Unable to register cuBLAS factory: Attempting to register factory for plugin cuBLAS when one has already been registered\n",
      "2023-11-15 16:07:00.209996: I tensorflow/core/platform/cpu_feature_guard.cc:182] This TensorFlow binary is optimized to use available CPU instructions in performance-critical operations.\n",
      "To enable the following instructions: AVX2 FMA, in other operations, rebuild TensorFlow with the appropriate compiler flags.\n",
      "2023-11-15 16:07:05.720435: W tensorflow/core/util/tensor_slice_reader.cc:98] Could not open ram://7de96c0395d9420985c61c1755f65359: INVALID_ARGUMENT: ram://7de96c0395d9420985c61c1755f65359 is a directory.\n",
      "2023-11-15 16:07:07.882924: W tensorflow/core/util/tensor_slice_reader.cc:98] Could not open ram://f366585256b14c83b2e567e767be55b5: INVALID_ARGUMENT: ram://f366585256b14c83b2e567e767be55b5 is a directory.\n"
     ]
    },
    {
     "name": "stdout",
     "output_type": "stream",
     "text": [
      "8/8 [==============================] - 1s 93ms/step - loss: 1.1465 - accuracy: 0.8280\n",
      "INFO:tensorflow:Assets written to: ram://e8f334c2ae7342ac9f004ad46b326397/assets\n"
     ]
    },
    {
     "name": "stderr",
     "output_type": "stream",
     "text": [
      "INFO:tensorflow:Assets written to: ram://e8f334c2ae7342ac9f004ad46b326397/assets\n"
     ]
    },
    {
     "name": "stdout",
     "output_type": "stream",
     "text": [
      "8/8 [==============================] - 1s 90ms/step\n"
     ]
    },
    {
     "name": "stderr",
     "output_type": "stream",
     "text": [
      "WARNING:tensorflow:Detecting that an object or model or tf.train.Checkpoint is being deleted with unrestored values. See the following logs for the specific values in question. To silence these warnings, use `status.expect_partial()`. See https://www.tensorflow.org/api_docs/python/tf/train/Checkpoint#restorefor details about the status object returned by the restore function.\n",
      "WARNING:tensorflow:Value in checkpoint could not be found in the restored object: (root).keras_api.metrics.0.total\n",
      "WARNING:tensorflow:Value in checkpoint could not be found in the restored object: (root).keras_api.metrics.0.count\n",
      "WARNING:tensorflow:Value in checkpoint could not be found in the restored object: (root).keras_api.metrics.1.total\n",
      "WARNING:tensorflow:Value in checkpoint could not be found in the restored object: (root).keras_api.metrics.1.count\n",
      "WARNING:tensorflow:Detecting that an object or model or tf.train.Checkpoint is being deleted with unrestored values. See the following logs for the specific values in question. To silence these warnings, use `status.expect_partial()`. See https://www.tensorflow.org/api_docs/python/tf/train/Checkpoint#restorefor details about the status object returned by the restore function.\n",
      "WARNING:tensorflow:Value in checkpoint could not be found in the restored object: (root).keras_api.metrics.0.total\n",
      "WARNING:tensorflow:Value in checkpoint could not be found in the restored object: (root).keras_api.metrics.0.count\n",
      "WARNING:tensorflow:Value in checkpoint could not be found in the restored object: (root).keras_api.metrics.1.total\n",
      "WARNING:tensorflow:Value in checkpoint could not be found in the restored object: (root).keras_api.metrics.1.count\n"
     ]
    },
    {
     "name": "stdout",
     "output_type": "stream",
     "text": [
      "INFO:tensorflow:Assets written to: ram://69809e907b9147cb9ef3c19f1547f942/assets\n"
     ]
    },
    {
     "name": "stderr",
     "output_type": "stream",
     "text": [
      "INFO:tensorflow:Assets written to: ram://69809e907b9147cb9ef3c19f1547f942/assets\n",
      "2023-11-15 16:07:16.570043: E tensorflow/compiler/xla/stream_executor/cuda/cuda_dnn.cc:9342] Unable to register cuDNN factory: Attempting to register factory for plugin cuDNN when one has already been registered\n",
      "2023-11-15 16:07:16.570104: E tensorflow/compiler/xla/stream_executor/cuda/cuda_fft.cc:609] Unable to register cuFFT factory: Attempting to register factory for plugin cuFFT when one has already been registered\n",
      "2023-11-15 16:07:16.570137: E tensorflow/compiler/xla/stream_executor/cuda/cuda_blas.cc:1518] Unable to register cuBLAS factory: Attempting to register factory for plugin cuBLAS when one has already been registered\n",
      "2023-11-15 16:07:16.576295: I tensorflow/core/platform/cpu_feature_guard.cc:182] This TensorFlow binary is optimized to use available CPU instructions in performance-critical operations.\n",
      "To enable the following instructions: AVX2 FMA, in other operations, rebuild TensorFlow with the appropriate compiler flags.\n",
      "2023-11-15 16:07:22.024594: W tensorflow/core/util/tensor_slice_reader.cc:98] Could not open ram://a698c796af274140bb6fd61a50529596: INVALID_ARGUMENT: ram://a698c796af274140bb6fd61a50529596 is a directory.\n",
      "2023-11-15 16:07:24.180407: W tensorflow/core/util/tensor_slice_reader.cc:98] Could not open ram://0aefec399bb5460590172cf3006fc1fb: INVALID_ARGUMENT: ram://0aefec399bb5460590172cf3006fc1fb is a directory.\n"
     ]
    },
    {
     "name": "stdout",
     "output_type": "stream",
     "text": [
      "8/8 [==============================] - 1s 94ms/step - loss: 0.9421 - accuracy: 0.8320\n",
      "6/8 [=====================>........] - ETA: 0s"
     ]
    },
    {
     "name": "stderr",
     "output_type": "stream",
     "text": [
      "Generating ensemble training data: |█████     | 50%"
     ]
    },
    {
     "name": "stdout",
     "output_type": "stream",
     "text": [
      "8/8 [==============================] - 1s 85ms/step\n"
     ]
    },
    {
     "name": "stderr",
     "output_type": "stream",
     "text": [
      "WARNING:tensorflow:Detecting that an object or model or tf.train.Checkpoint is being deleted with unrestored values. See the following logs for the specific values in question. To silence these warnings, use `status.expect_partial()`. See https://www.tensorflow.org/api_docs/python/tf/train/Checkpoint#restorefor details about the status object returned by the restore function.\n",
      "WARNING:tensorflow:Value in checkpoint could not be found in the restored object: (root).keras_api.metrics.0.total\n",
      "WARNING:tensorflow:Value in checkpoint could not be found in the restored object: (root).keras_api.metrics.0.count\n",
      "WARNING:tensorflow:Value in checkpoint could not be found in the restored object: (root).keras_api.metrics.1.total\n",
      "WARNING:tensorflow:Value in checkpoint could not be found in the restored object: (root).keras_api.metrics.1.count\n",
      "WARNING:tensorflow:Detecting that an object or model or tf.train.Checkpoint is being deleted with unrestored values. See the following logs for the specific values in question. To silence these warnings, use `status.expect_partial()`. See https://www.tensorflow.org/api_docs/python/tf/train/Checkpoint#restorefor details about the status object returned by the restore function.\n",
      "WARNING:tensorflow:Value in checkpoint could not be found in the restored object: (root).keras_api.metrics.0.total\n",
      "WARNING:tensorflow:Value in checkpoint could not be found in the restored object: (root).keras_api.metrics.0.count\n",
      "WARNING:tensorflow:Value in checkpoint could not be found in the restored object: (root).keras_api.metrics.1.total\n",
      "WARNING:tensorflow:Value in checkpoint could not be found in the restored object: (root).keras_api.metrics.1.count\n"
     ]
    },
    {
     "name": "stdout",
     "output_type": "stream",
     "text": [
      "INFO:tensorflow:Assets written to: ram://41af9df8182b4b5595673169611c1023/assets\n"
     ]
    },
    {
     "name": "stderr",
     "output_type": "stream",
     "text": [
      "INFO:tensorflow:Assets written to: ram://41af9df8182b4b5595673169611c1023/assets\n"
     ]
    },
    {
     "name": "stdout",
     "output_type": "stream",
     "text": [
      "INFO:tensorflow:Assets written to: ram://0e4dadd205a4498ea7c045d57f8cda76/assets\n"
     ]
    },
    {
     "name": "stderr",
     "output_type": "stream",
     "text": [
      "INFO:tensorflow:Assets written to: ram://0e4dadd205a4498ea7c045d57f8cda76/assets\n",
      "2023-11-15 16:07:43.954545: E tensorflow/compiler/xla/stream_executor/cuda/cuda_dnn.cc:9342] Unable to register cuDNN factory: Attempting to register factory for plugin cuDNN when one has already been registered\n",
      "2023-11-15 16:07:43.954601: E tensorflow/compiler/xla/stream_executor/cuda/cuda_fft.cc:609] Unable to register cuFFT factory: Attempting to register factory for plugin cuFFT when one has already been registered\n",
      "2023-11-15 16:07:43.954627: E tensorflow/compiler/xla/stream_executor/cuda/cuda_blas.cc:1518] Unable to register cuBLAS factory: Attempting to register factory for plugin cuBLAS when one has already been registered\n",
      "2023-11-15 16:07:43.960711: I tensorflow/core/platform/cpu_feature_guard.cc:182] This TensorFlow binary is optimized to use available CPU instructions in performance-critical operations.\n",
      "To enable the following instructions: AVX2 FMA, in other operations, rebuild TensorFlow with the appropriate compiler flags.\n",
      "2023-11-15 16:07:49.349085: W tensorflow/core/util/tensor_slice_reader.cc:98] Could not open ram://914d73a22da04ff581a09a0b7d39b73f: INVALID_ARGUMENT: ram://914d73a22da04ff581a09a0b7d39b73f is a directory.\n",
      "2023-11-15 16:07:51.486981: W tensorflow/core/util/tensor_slice_reader.cc:98] Could not open ram://ef50867886134245a764321f9cc3dfa2: INVALID_ARGUMENT: ram://ef50867886134245a764321f9cc3dfa2 is a directory.\n"
     ]
    },
    {
     "name": "stdout",
     "output_type": "stream",
     "text": [
      "4/8 [==============>...............] - ETA: 1s - loss: 0.8959 - accuracy: 0.5234INFO:tensorflow:Assets written to: ram://2890cb3cf53a453cba79fa7d4fc68b7c/assets\n"
     ]
    },
    {
     "name": "stderr",
     "output_type": "stream",
     "text": [
      "INFO:tensorflow:Assets written to: ram://2890cb3cf53a453cba79fa7d4fc68b7c/assets\n"
     ]
    },
    {
     "name": "stdout",
     "output_type": "stream",
     "text": [
      "8/8 [==============================] - 4s 352ms/step - loss: 0.6149 - accuracy: 0.7120\n",
      "8/8 [==============================] - 3s 345ms/step\n"
     ]
    },
    {
     "name": "stderr",
     "output_type": "stream",
     "text": [
      "WARNING:tensorflow:Detecting that an object or model or tf.train.Checkpoint is being deleted with unrestored values. See the following logs for the specific values in question. To silence these warnings, use `status.expect_partial()`. See https://www.tensorflow.org/api_docs/python/tf/train/Checkpoint#restorefor details about the status object returned by the restore function.\n",
      "WARNING:tensorflow:Value in checkpoint could not be found in the restored object: (root).keras_api.metrics.0.total\n",
      "WARNING:tensorflow:Value in checkpoint could not be found in the restored object: (root).keras_api.metrics.0.count\n",
      "WARNING:tensorflow:Value in checkpoint could not be found in the restored object: (root).keras_api.metrics.1.total\n",
      "WARNING:tensorflow:Value in checkpoint could not be found in the restored object: (root).keras_api.metrics.1.count\n",
      "WARNING:tensorflow:Detecting that an object or model or tf.train.Checkpoint is being deleted with unrestored values. See the following logs for the specific values in question. To silence these warnings, use `status.expect_partial()`. See https://www.tensorflow.org/api_docs/python/tf/train/Checkpoint#restorefor details about the status object returned by the restore function.\n",
      "WARNING:tensorflow:Value in checkpoint could not be found in the restored object: (root).keras_api.metrics.0.total\n",
      "WARNING:tensorflow:Value in checkpoint could not be found in the restored object: (root).keras_api.metrics.0.count\n",
      "WARNING:tensorflow:Value in checkpoint could not be found in the restored object: (root).keras_api.metrics.1.total\n",
      "WARNING:tensorflow:Value in checkpoint could not be found in the restored object: (root).keras_api.metrics.1.count\n"
     ]
    },
    {
     "name": "stdout",
     "output_type": "stream",
     "text": [
      "INFO:tensorflow:Assets written to: ram://cde7b1c693644e23882cabcb28135c29/assets\n"
     ]
    },
    {
     "name": "stderr",
     "output_type": "stream",
     "text": [
      "INFO:tensorflow:Assets written to: ram://cde7b1c693644e23882cabcb28135c29/assets\n",
      "2023-11-15 16:08:02.455279: E tensorflow/compiler/xla/stream_executor/cuda/cuda_dnn.cc:9342] Unable to register cuDNN factory: Attempting to register factory for plugin cuDNN when one has already been registered\n",
      "2023-11-15 16:08:02.455334: E tensorflow/compiler/xla/stream_executor/cuda/cuda_fft.cc:609] Unable to register cuFFT factory: Attempting to register factory for plugin cuFFT when one has already been registered\n",
      "2023-11-15 16:08:02.455364: E tensorflow/compiler/xla/stream_executor/cuda/cuda_blas.cc:1518] Unable to register cuBLAS factory: Attempting to register factory for plugin cuBLAS when one has already been registered\n",
      "2023-11-15 16:08:02.461608: I tensorflow/core/platform/cpu_feature_guard.cc:182] This TensorFlow binary is optimized to use available CPU instructions in performance-critical operations.\n",
      "To enable the following instructions: AVX2 FMA, in other operations, rebuild TensorFlow with the appropriate compiler flags.\n",
      "2023-11-15 16:08:07.912966: W tensorflow/core/util/tensor_slice_reader.cc:98] Could not open ram://ab849507ed894c59b8b7d6b777576f56: INVALID_ARGUMENT: ram://ab849507ed894c59b8b7d6b777576f56 is a directory.\n",
      "2023-11-15 16:08:10.072271: W tensorflow/core/util/tensor_slice_reader.cc:98] Could not open ram://f0800ecccfef4e9da2a9e9bd6eef68cd: INVALID_ARGUMENT: ram://f0800ecccfef4e9da2a9e9bd6eef68cd is a directory.\n"
     ]
    },
    {
     "name": "stdout",
     "output_type": "stream",
     "text": [
      "2/8 [======>.......................] - ETA: 2s - loss: 1.2882 - accuracy: 0.1719 INFO:tensorflow:Assets written to: ram://c4b37e4e46c84ae3af32c3a9423a9db3/assets\n"
     ]
    },
    {
     "name": "stderr",
     "output_type": "stream",
     "text": [
      "INFO:tensorflow:Assets written to: ram://c4b37e4e46c84ae3af32c3a9423a9db3/assets\n"
     ]
    },
    {
     "name": "stdout",
     "output_type": "stream",
     "text": [
      "8/8 [==============================] - 4s 351ms/step - loss: 0.6192 - accuracy: 0.6840\n",
      "8/8 [==============================] - 3s 343ms/step\n"
     ]
    },
    {
     "name": "stderr",
     "output_type": "stream",
     "text": [
      "WARNING:tensorflow:Detecting that an object or model or tf.train.Checkpoint is being deleted with unrestored values. See the following logs for the specific values in question. To silence these warnings, use `status.expect_partial()`. See https://www.tensorflow.org/api_docs/python/tf/train/Checkpoint#restorefor details about the status object returned by the restore function.\n",
      "WARNING:tensorflow:Value in checkpoint could not be found in the restored object: (root).keras_api.metrics.0.total\n",
      "WARNING:tensorflow:Value in checkpoint could not be found in the restored object: (root).keras_api.metrics.0.count\n",
      "WARNING:tensorflow:Value in checkpoint could not be found in the restored object: (root).keras_api.metrics.1.total\n",
      "WARNING:tensorflow:Value in checkpoint could not be found in the restored object: (root).keras_api.metrics.1.count\n",
      "WARNING:tensorflow:Detecting that an object or model or tf.train.Checkpoint is being deleted with unrestored values. See the following logs for the specific values in question. To silence these warnings, use `status.expect_partial()`. See https://www.tensorflow.org/api_docs/python/tf/train/Checkpoint#restorefor details about the status object returned by the restore function.\n",
      "WARNING:tensorflow:Value in checkpoint could not be found in the restored object: (root).keras_api.metrics.0.total\n",
      "WARNING:tensorflow:Value in checkpoint could not be found in the restored object: (root).keras_api.metrics.0.count\n",
      "WARNING:tensorflow:Value in checkpoint could not be found in the restored object: (root).keras_api.metrics.1.total\n",
      "WARNING:tensorflow:Value in checkpoint could not be found in the restored object: (root).keras_api.metrics.1.count\n"
     ]
    },
    {
     "name": "stdout",
     "output_type": "stream",
     "text": [
      "INFO:tensorflow:Assets written to: ram://41dbce6fdb0a4db79ea3da0176f2373a/assets\n"
     ]
    },
    {
     "name": "stderr",
     "output_type": "stream",
     "text": [
      "INFO:tensorflow:Assets written to: ram://41dbce6fdb0a4db79ea3da0176f2373a/assets\n",
      "2023-11-15 16:08:21.175743: E tensorflow/compiler/xla/stream_executor/cuda/cuda_dnn.cc:9342] Unable to register cuDNN factory: Attempting to register factory for plugin cuDNN when one has already been registered\n",
      "2023-11-15 16:08:21.175801: E tensorflow/compiler/xla/stream_executor/cuda/cuda_fft.cc:609] Unable to register cuFFT factory: Attempting to register factory for plugin cuFFT when one has already been registered\n",
      "2023-11-15 16:08:21.175833: E tensorflow/compiler/xla/stream_executor/cuda/cuda_blas.cc:1518] Unable to register cuBLAS factory: Attempting to register factory for plugin cuBLAS when one has already been registered\n",
      "2023-11-15 16:08:21.182361: I tensorflow/core/platform/cpu_feature_guard.cc:182] This TensorFlow binary is optimized to use available CPU instructions in performance-critical operations.\n",
      "To enable the following instructions: AVX2 FMA, in other operations, rebuild TensorFlow with the appropriate compiler flags.\n",
      "2023-11-15 16:08:26.736939: W tensorflow/core/util/tensor_slice_reader.cc:98] Could not open ram://dc17bf7721184c1daddce3c0d5a55dc4: INVALID_ARGUMENT: ram://dc17bf7721184c1daddce3c0d5a55dc4 is a directory.\n",
      "2023-11-15 16:08:28.999450: W tensorflow/core/util/tensor_slice_reader.cc:98] Could not open ram://915c8759ee7444ca9804c0318ddbbed0: INVALID_ARGUMENT: ram://915c8759ee7444ca9804c0318ddbbed0 is a directory.\n"
     ]
    },
    {
     "name": "stdout",
     "output_type": "stream",
     "text": [
      "8/8 [==============================] - 1s 94ms/step - loss: 1.1147 - accuracy: 0.8360\n",
      "INFO:tensorflow:Assets written to: ram://159b45120cbc43aea521e3d884c70340/assets\n"
     ]
    },
    {
     "name": "stderr",
     "output_type": "stream",
     "text": [
      "INFO:tensorflow:Assets written to: ram://159b45120cbc43aea521e3d884c70340/assets\n"
     ]
    },
    {
     "name": "stdout",
     "output_type": "stream",
     "text": [
      "8/8 [==============================] - 1s 84ms/step\n"
     ]
    },
    {
     "name": "stderr",
     "output_type": "stream",
     "text": [
      "WARNING:tensorflow:Detecting that an object or model or tf.train.Checkpoint is being deleted with unrestored values. See the following logs for the specific values in question. To silence these warnings, use `status.expect_partial()`. See https://www.tensorflow.org/api_docs/python/tf/train/Checkpoint#restorefor details about the status object returned by the restore function.\n",
      "WARNING:tensorflow:Value in checkpoint could not be found in the restored object: (root).keras_api.metrics.0.total\n",
      "WARNING:tensorflow:Value in checkpoint could not be found in the restored object: (root).keras_api.metrics.0.count\n",
      "WARNING:tensorflow:Value in checkpoint could not be found in the restored object: (root).keras_api.metrics.1.total\n",
      "WARNING:tensorflow:Value in checkpoint could not be found in the restored object: (root).keras_api.metrics.1.count\n",
      "WARNING:tensorflow:Detecting that an object or model or tf.train.Checkpoint is being deleted with unrestored values. See the following logs for the specific values in question. To silence these warnings, use `status.expect_partial()`. See https://www.tensorflow.org/api_docs/python/tf/train/Checkpoint#restorefor details about the status object returned by the restore function.\n",
      "WARNING:tensorflow:Value in checkpoint could not be found in the restored object: (root).keras_api.metrics.0.total\n",
      "WARNING:tensorflow:Value in checkpoint could not be found in the restored object: (root).keras_api.metrics.0.count\n",
      "WARNING:tensorflow:Value in checkpoint could not be found in the restored object: (root).keras_api.metrics.1.total\n",
      "WARNING:tensorflow:Value in checkpoint could not be found in the restored object: (root).keras_api.metrics.1.count\n"
     ]
    },
    {
     "name": "stdout",
     "output_type": "stream",
     "text": [
      "INFO:tensorflow:Assets written to: ram://b42b994af08045929226293e28672888/assets\n"
     ]
    },
    {
     "name": "stderr",
     "output_type": "stream",
     "text": [
      "INFO:tensorflow:Assets written to: ram://b42b994af08045929226293e28672888/assets\n",
      "2023-11-15 16:08:37.433894: E tensorflow/compiler/xla/stream_executor/cuda/cuda_dnn.cc:9342] Unable to register cuDNN factory: Attempting to register factory for plugin cuDNN when one has already been registered\n",
      "2023-11-15 16:08:37.433948: E tensorflow/compiler/xla/stream_executor/cuda/cuda_fft.cc:609] Unable to register cuFFT factory: Attempting to register factory for plugin cuFFT when one has already been registered\n",
      "2023-11-15 16:08:37.433980: E tensorflow/compiler/xla/stream_executor/cuda/cuda_blas.cc:1518] Unable to register cuBLAS factory: Attempting to register factory for plugin cuBLAS when one has already been registered\n",
      "2023-11-15 16:08:37.440258: I tensorflow/core/platform/cpu_feature_guard.cc:182] This TensorFlow binary is optimized to use available CPU instructions in performance-critical operations.\n",
      "To enable the following instructions: AVX2 FMA, in other operations, rebuild TensorFlow with the appropriate compiler flags.\n",
      "2023-11-15 16:08:42.964997: W tensorflow/core/util/tensor_slice_reader.cc:98] Could not open ram://25b0fb407f954875b7f799c0e9da9b72: INVALID_ARGUMENT: ram://25b0fb407f954875b7f799c0e9da9b72 is a directory.\n",
      "2023-11-15 16:08:45.135400: W tensorflow/core/util/tensor_slice_reader.cc:98] Could not open ram://50df701f808640a9a1bfed103b23d6e3: INVALID_ARGUMENT: ram://50df701f808640a9a1bfed103b23d6e3 is a directory.\n"
     ]
    },
    {
     "name": "stdout",
     "output_type": "stream",
     "text": [
      "8/8 [==============================] - 1s 92ms/step - loss: 1.0974 - accuracy: 0.8280\n",
      "6/8 [=====================>........] - ETA: 0s"
     ]
    },
    {
     "name": "stderr",
     "output_type": "stream",
     "text": [
      "Generating ensemble training data: |██████████|100%\n"
     ]
    },
    {
     "name": "stdout",
     "output_type": "stream",
     "text": [
      "8/8 [==============================] - 1s 84ms/step\n"
     ]
    },
    {
     "name": "stderr",
     "output_type": "stream",
     "text": [
      "Generating ensemble test data: |██████████|100%\n",
      "WARNING:tensorflow:Detecting that an object or model or tf.train.Checkpoint is being deleted with unrestored values. See the following logs for the specific values in question. To silence these warnings, use `status.expect_partial()`. See https://www.tensorflow.org/api_docs/python/tf/train/Checkpoint#restorefor details about the status object returned by the restore function.\n",
      "WARNING:tensorflow:Value in checkpoint could not be found in the restored object: (root).keras_api.metrics.0.total\n",
      "WARNING:tensorflow:Value in checkpoint could not be found in the restored object: (root).keras_api.metrics.0.count\n",
      "WARNING:tensorflow:Value in checkpoint could not be found in the restored object: (root).keras_api.metrics.1.total\n",
      "WARNING:tensorflow:Value in checkpoint could not be found in the restored object: (root).keras_api.metrics.1.count\n",
      "WARNING:tensorflow:Detecting that an object or model or tf.train.Checkpoint is being deleted with unrestored values. See the following logs for the specific values in question. To silence these warnings, use `status.expect_partial()`. See https://www.tensorflow.org/api_docs/python/tf/train/Checkpoint#restorefor details about the status object returned by the restore function.\n",
      "WARNING:tensorflow:Value in checkpoint could not be found in the restored object: (root).keras_api.metrics.0.total\n",
      "WARNING:tensorflow:Value in checkpoint could not be found in the restored object: (root).keras_api.metrics.0.count\n",
      "WARNING:tensorflow:Value in checkpoint could not be found in the restored object: (root).keras_api.metrics.1.total\n",
      "WARNING:tensorflow:Value in checkpoint could not be found in the restored object: (root).keras_api.metrics.1.count\n"
     ]
    },
    {
     "name": "stdout",
     "output_type": "stream",
     "text": [
      "INFO:tensorflow:Assets written to: ram://7d69c10c603c4ff8993a3a1292ff4e49/assets\n"
     ]
    },
    {
     "name": "stderr",
     "output_type": "stream",
     "text": [
      "INFO:tensorflow:Assets written to: ram://7d69c10c603c4ff8993a3a1292ff4e49/assets\n"
     ]
    },
    {
     "name": "stdout",
     "output_type": "stream",
     "text": [
      "INFO:tensorflow:Assets written to: ram://c595ad0dc11a4c579e8192ab318879b7/assets\n"
     ]
    },
    {
     "name": "stderr",
     "output_type": "stream",
     "text": [
      "INFO:tensorflow:Assets written to: ram://c595ad0dc11a4c579e8192ab318879b7/assets\n",
      "2023-11-15 16:09:04.772217: E tensorflow/compiler/xla/stream_executor/cuda/cuda_dnn.cc:9342] Unable to register cuDNN factory: Attempting to register factory for plugin cuDNN when one has already been registered\n",
      "2023-11-15 16:09:04.772266: E tensorflow/compiler/xla/stream_executor/cuda/cuda_fft.cc:609] Unable to register cuFFT factory: Attempting to register factory for plugin cuFFT when one has already been registered\n",
      "2023-11-15 16:09:04.772295: E tensorflow/compiler/xla/stream_executor/cuda/cuda_blas.cc:1518] Unable to register cuBLAS factory: Attempting to register factory for plugin cuBLAS when one has already been registered\n",
      "2023-11-15 16:09:04.778450: I tensorflow/core/platform/cpu_feature_guard.cc:182] This TensorFlow binary is optimized to use available CPU instructions in performance-critical operations.\n",
      "To enable the following instructions: AVX2 FMA, in other operations, rebuild TensorFlow with the appropriate compiler flags.\n",
      "2023-11-15 16:09:10.120855: W tensorflow/core/util/tensor_slice_reader.cc:98] Could not open ram://4fde16b7a7724ef7af2f70b6ee2fbc5a: INVALID_ARGUMENT: ram://4fde16b7a7724ef7af2f70b6ee2fbc5a is a directory.\n",
      "2023-11-15 16:09:12.275601: W tensorflow/core/util/tensor_slice_reader.cc:98] Could not open ram://3a0b2d4e750f41de8e58bc7d7a8f385a: INVALID_ARGUMENT: ram://3a0b2d4e750f41de8e58bc7d7a8f385a is a directory.\n"
     ]
    },
    {
     "name": "stdout",
     "output_type": "stream",
     "text": [
      " 3/16 [====>.........................] - ETA: 4s - loss: 1.0767 - accuracy: 0.3542INFO:tensorflow:Assets written to: ram://7591ef2929324b48999e5786ce874fea/assets\n"
     ]
    },
    {
     "name": "stderr",
     "output_type": "stream",
     "text": [
      "INFO:tensorflow:Assets written to: ram://7591ef2929324b48999e5786ce874fea/assets\n"
     ]
    },
    {
     "name": "stdout",
     "output_type": "stream",
     "text": [
      "16/16 [==============================] - 7s 346ms/step - loss: 0.4974 - accuracy: 0.7960\n",
      "16/16 [==============================] - 6s 343ms/step\n",
      "INFO:tensorflow:Assets written to: ram://f5237e96ea4d49c69afe9f0c5d9a003a/assets\n"
     ]
    },
    {
     "name": "stderr",
     "output_type": "stream",
     "text": [
      "INFO:tensorflow:Assets written to: ram://f5237e96ea4d49c69afe9f0c5d9a003a/assets\n",
      "WARNING:tensorflow:Detecting that an object or model or tf.train.Checkpoint is being deleted with unrestored values. See the following logs for the specific values in question. To silence these warnings, use `status.expect_partial()`. See https://www.tensorflow.org/api_docs/python/tf/train/Checkpoint#restorefor details about the status object returned by the restore function.\n",
      "WARNING:tensorflow:Value in checkpoint could not be found in the restored object: (root).keras_api.metrics.0.total\n",
      "WARNING:tensorflow:Value in checkpoint could not be found in the restored object: (root).keras_api.metrics.0.count\n",
      "WARNING:tensorflow:Value in checkpoint could not be found in the restored object: (root).keras_api.metrics.1.total\n",
      "WARNING:tensorflow:Value in checkpoint could not be found in the restored object: (root).keras_api.metrics.1.count\n",
      "WARNING:tensorflow:Detecting that an object or model or tf.train.Checkpoint is being deleted with unrestored values. See the following logs for the specific values in question. To silence these warnings, use `status.expect_partial()`. See https://www.tensorflow.org/api_docs/python/tf/train/Checkpoint#restorefor details about the status object returned by the restore function.\n",
      "WARNING:tensorflow:Value in checkpoint could not be found in the restored object: (root).keras_api.metrics.0.total\n",
      "WARNING:tensorflow:Value in checkpoint could not be found in the restored object: (root).keras_api.metrics.0.count\n",
      "WARNING:tensorflow:Value in checkpoint could not be found in the restored object: (root).keras_api.metrics.1.total\n",
      "WARNING:tensorflow:Value in checkpoint could not be found in the restored object: (root).keras_api.metrics.1.count\n",
      "2023-11-15 16:09:26.713029: E tensorflow/compiler/xla/stream_executor/cuda/cuda_dnn.cc:9342] Unable to register cuDNN factory: Attempting to register factory for plugin cuDNN when one has already been registered\n",
      "2023-11-15 16:09:26.713078: E tensorflow/compiler/xla/stream_executor/cuda/cuda_fft.cc:609] Unable to register cuFFT factory: Attempting to register factory for plugin cuFFT when one has already been registered\n",
      "2023-11-15 16:09:26.713113: E tensorflow/compiler/xla/stream_executor/cuda/cuda_blas.cc:1518] Unable to register cuBLAS factory: Attempting to register factory for plugin cuBLAS when one has already been registered\n",
      "2023-11-15 16:09:26.719434: I tensorflow/core/platform/cpu_feature_guard.cc:182] This TensorFlow binary is optimized to use available CPU instructions in performance-critical operations.\n",
      "To enable the following instructions: AVX2 FMA, in other operations, rebuild TensorFlow with the appropriate compiler flags.\n",
      "2023-11-15 16:09:32.185548: W tensorflow/core/util/tensor_slice_reader.cc:98] Could not open ram://035c2867709247e3bc7fdb933b0b4191: INVALID_ARGUMENT: ram://035c2867709247e3bc7fdb933b0b4191 is a directory.\n",
      "2023-11-15 16:09:34.348180: W tensorflow/core/util/tensor_slice_reader.cc:98] Could not open ram://933d6fa0144b4ee48d14336bb956359c: INVALID_ARGUMENT: ram://933d6fa0144b4ee48d14336bb956359c is a directory.\n"
     ]
    },
    {
     "name": "stdout",
     "output_type": "stream",
     "text": [
      " 3/16 [====>.........................] - ETA: 4s - loss: 1.1553 - accuracy: 0.3646INFO:tensorflow:Assets written to: ram://32bee377e50f4cb783f9cc84d2aee0f3/assets\n"
     ]
    },
    {
     "name": "stderr",
     "output_type": "stream",
     "text": [
      "INFO:tensorflow:Assets written to: ram://32bee377e50f4cb783f9cc84d2aee0f3/assets\n"
     ]
    },
    {
     "name": "stdout",
     "output_type": "stream",
     "text": [
      "16/16 [==============================] - 7s 345ms/step - loss: 0.4924 - accuracy: 0.8100\n",
      "14/16 [=========================>....] - ETA: 0sINFO:tensorflow:Assets written to: ram://22341bd3863441098545bb84118f6fb2/assets\n"
     ]
    },
    {
     "name": "stderr",
     "output_type": "stream",
     "text": [
      "INFO:tensorflow:Assets written to: ram://22341bd3863441098545bb84118f6fb2/assets\n"
     ]
    },
    {
     "name": "stdout",
     "output_type": "stream",
     "text": [
      "16/16 [==============================] - 6s 345ms/step\n"
     ]
    },
    {
     "name": "stderr",
     "output_type": "stream",
     "text": [
      "WARNING:tensorflow:Detecting that an object or model or tf.train.Checkpoint is being deleted with unrestored values. See the following logs for the specific values in question. To silence these warnings, use `status.expect_partial()`. See https://www.tensorflow.org/api_docs/python/tf/train/Checkpoint#restorefor details about the status object returned by the restore function.\n",
      "WARNING:tensorflow:Value in checkpoint could not be found in the restored object: (root).keras_api.metrics.0.total\n",
      "WARNING:tensorflow:Value in checkpoint could not be found in the restored object: (root).keras_api.metrics.0.count\n",
      "WARNING:tensorflow:Value in checkpoint could not be found in the restored object: (root).keras_api.metrics.1.total\n",
      "WARNING:tensorflow:Value in checkpoint could not be found in the restored object: (root).keras_api.metrics.1.count\n",
      "WARNING:tensorflow:Detecting that an object or model or tf.train.Checkpoint is being deleted with unrestored values. See the following logs for the specific values in question. To silence these warnings, use `status.expect_partial()`. See https://www.tensorflow.org/api_docs/python/tf/train/Checkpoint#restorefor details about the status object returned by the restore function.\n",
      "WARNING:tensorflow:Value in checkpoint could not be found in the restored object: (root).keras_api.metrics.0.total\n",
      "WARNING:tensorflow:Value in checkpoint could not be found in the restored object: (root).keras_api.metrics.0.count\n",
      "WARNING:tensorflow:Value in checkpoint could not be found in the restored object: (root).keras_api.metrics.1.total\n",
      "WARNING:tensorflow:Value in checkpoint could not be found in the restored object: (root).keras_api.metrics.1.count\n",
      "2023-11-15 16:09:48.351317: E tensorflow/compiler/xla/stream_executor/cuda/cuda_dnn.cc:9342] Unable to register cuDNN factory: Attempting to register factory for plugin cuDNN when one has already been registered\n",
      "2023-11-15 16:09:48.351366: E tensorflow/compiler/xla/stream_executor/cuda/cuda_fft.cc:609] Unable to register cuFFT factory: Attempting to register factory for plugin cuFFT when one has already been registered\n",
      "2023-11-15 16:09:48.351393: E tensorflow/compiler/xla/stream_executor/cuda/cuda_blas.cc:1518] Unable to register cuBLAS factory: Attempting to register factory for plugin cuBLAS when one has already been registered\n",
      "2023-11-15 16:09:48.357594: I tensorflow/core/platform/cpu_feature_guard.cc:182] This TensorFlow binary is optimized to use available CPU instructions in performance-critical operations.\n",
      "To enable the following instructions: AVX2 FMA, in other operations, rebuild TensorFlow with the appropriate compiler flags.\n",
      "2023-11-15 16:09:53.735700: W tensorflow/core/util/tensor_slice_reader.cc:98] Could not open ram://cc9666ce1b424878bf6ea76d2754d354: INVALID_ARGUMENT: ram://cc9666ce1b424878bf6ea76d2754d354 is a directory.\n",
      "2023-11-15 16:09:55.867805: W tensorflow/core/util/tensor_slice_reader.cc:98] Could not open ram://7fcea2ca57fc4281a577f0156dfccffa: INVALID_ARGUMENT: ram://7fcea2ca57fc4281a577f0156dfccffa is a directory.\n"
     ]
    },
    {
     "name": "stdout",
     "output_type": "stream",
     "text": [
      "16/16 [==============================] - 2s 93ms/step - loss: 0.9152 - accuracy: 0.8680\n",
      "INFO:tensorflow:Assets written to: ram://346a210e50944244b0bf4e78cda2e904/assets\n"
     ]
    },
    {
     "name": "stderr",
     "output_type": "stream",
     "text": [
      "INFO:tensorflow:Assets written to: ram://346a210e50944244b0bf4e78cda2e904/assets\n"
     ]
    },
    {
     "name": "stdout",
     "output_type": "stream",
     "text": [
      "16/16 [==============================] - 2s 85ms/step\n"
     ]
    },
    {
     "name": "stderr",
     "output_type": "stream",
     "text": [
      "WARNING:tensorflow:Detecting that an object or model or tf.train.Checkpoint is being deleted with unrestored values. See the following logs for the specific values in question. To silence these warnings, use `status.expect_partial()`. See https://www.tensorflow.org/api_docs/python/tf/train/Checkpoint#restorefor details about the status object returned by the restore function.\n",
      "WARNING:tensorflow:Value in checkpoint could not be found in the restored object: (root).keras_api.metrics.0.total\n",
      "WARNING:tensorflow:Value in checkpoint could not be found in the restored object: (root).keras_api.metrics.0.count\n",
      "WARNING:tensorflow:Value in checkpoint could not be found in the restored object: (root).keras_api.metrics.1.total\n",
      "WARNING:tensorflow:Value in checkpoint could not be found in the restored object: (root).keras_api.metrics.1.count\n",
      "WARNING:tensorflow:Detecting that an object or model or tf.train.Checkpoint is being deleted with unrestored values. See the following logs for the specific values in question. To silence these warnings, use `status.expect_partial()`. See https://www.tensorflow.org/api_docs/python/tf/train/Checkpoint#restorefor details about the status object returned by the restore function.\n",
      "WARNING:tensorflow:Value in checkpoint could not be found in the restored object: (root).keras_api.metrics.0.total\n",
      "WARNING:tensorflow:Value in checkpoint could not be found in the restored object: (root).keras_api.metrics.0.count\n",
      "WARNING:tensorflow:Value in checkpoint could not be found in the restored object: (root).keras_api.metrics.1.total\n",
      "WARNING:tensorflow:Value in checkpoint could not be found in the restored object: (root).keras_api.metrics.1.count\n"
     ]
    },
    {
     "name": "stdout",
     "output_type": "stream",
     "text": [
      "INFO:tensorflow:Assets written to: ram://d185d232892647c485705bb775552a99/assets\n"
     ]
    },
    {
     "name": "stderr",
     "output_type": "stream",
     "text": [
      "INFO:tensorflow:Assets written to: ram://d185d232892647c485705bb775552a99/assets\n",
      "2023-11-15 16:10:05.648977: E tensorflow/compiler/xla/stream_executor/cuda/cuda_dnn.cc:9342] Unable to register cuDNN factory: Attempting to register factory for plugin cuDNN when one has already been registered\n",
      "2023-11-15 16:10:05.649046: E tensorflow/compiler/xla/stream_executor/cuda/cuda_fft.cc:609] Unable to register cuFFT factory: Attempting to register factory for plugin cuFFT when one has already been registered\n",
      "2023-11-15 16:10:05.649077: E tensorflow/compiler/xla/stream_executor/cuda/cuda_blas.cc:1518] Unable to register cuBLAS factory: Attempting to register factory for plugin cuBLAS when one has already been registered\n",
      "2023-11-15 16:10:05.655262: I tensorflow/core/platform/cpu_feature_guard.cc:182] This TensorFlow binary is optimized to use available CPU instructions in performance-critical operations.\n",
      "To enable the following instructions: AVX2 FMA, in other operations, rebuild TensorFlow with the appropriate compiler flags.\n",
      "2023-11-15 16:10:11.087768: W tensorflow/core/util/tensor_slice_reader.cc:98] Could not open ram://4dde36ec1a9a4bc1a5bf6ec85a574676: INVALID_ARGUMENT: ram://4dde36ec1a9a4bc1a5bf6ec85a574676 is a directory.\n",
      "2023-11-15 16:10:13.239613: W tensorflow/core/util/tensor_slice_reader.cc:98] Could not open ram://80f5f3b08f0a42d19971e7013890ed95: INVALID_ARGUMENT: ram://80f5f3b08f0a42d19971e7013890ed95 is a directory.\n"
     ]
    },
    {
     "name": "stdout",
     "output_type": "stream",
     "text": [
      "16/16 [==============================] - 2s 91ms/step - loss: 0.8444 - accuracy: 0.8500\n",
      "16/16 [==============================] - 2s 85ms/step\n",
      "\n",
      "... for final ensemble...\n"
     ]
    },
    {
     "name": "stderr",
     "output_type": "stream",
     "text": [
      "Generating ensemble training data: |          |  0%WARNING:tensorflow:Detecting that an object or model or tf.train.Checkpoint is being deleted with unrestored values. See the following logs for the specific values in question. To silence these warnings, use `status.expect_partial()`. See https://www.tensorflow.org/api_docs/python/tf/train/Checkpoint#restorefor details about the status object returned by the restore function.\n",
      "WARNING:tensorflow:Value in checkpoint could not be found in the restored object: (root).keras_api.metrics.0.total\n",
      "WARNING:tensorflow:Value in checkpoint could not be found in the restored object: (root).keras_api.metrics.0.count\n",
      "WARNING:tensorflow:Value in checkpoint could not be found in the restored object: (root).keras_api.metrics.1.total\n",
      "WARNING:tensorflow:Value in checkpoint could not be found in the restored object: (root).keras_api.metrics.1.count\n",
      "WARNING:tensorflow:Detecting that an object or model or tf.train.Checkpoint is being deleted with unrestored values. See the following logs for the specific values in question. To silence these warnings, use `status.expect_partial()`. See https://www.tensorflow.org/api_docs/python/tf/train/Checkpoint#restorefor details about the status object returned by the restore function.\n",
      "WARNING:tensorflow:Value in checkpoint could not be found in the restored object: (root).keras_api.metrics.0.total\n",
      "WARNING:tensorflow:Value in checkpoint could not be found in the restored object: (root).keras_api.metrics.0.count\n",
      "WARNING:tensorflow:Value in checkpoint could not be found in the restored object: (root).keras_api.metrics.1.total\n",
      "WARNING:tensorflow:Value in checkpoint could not be found in the restored object: (root).keras_api.metrics.1.count\n"
     ]
    },
    {
     "name": "stdout",
     "output_type": "stream",
     "text": [
      "INFO:tensorflow:Assets written to: ram://56b1a73884e140d0a751804ed0e610f1/assets\n"
     ]
    },
    {
     "name": "stderr",
     "output_type": "stream",
     "text": [
      "INFO:tensorflow:Assets written to: ram://56b1a73884e140d0a751804ed0e610f1/assets\n"
     ]
    },
    {
     "name": "stdout",
     "output_type": "stream",
     "text": [
      "INFO:tensorflow:Assets written to: ram://b5b70e394d444e86a210b40a88ac00e5/assets\n"
     ]
    },
    {
     "name": "stderr",
     "output_type": "stream",
     "text": [
      "INFO:tensorflow:Assets written to: ram://b5b70e394d444e86a210b40a88ac00e5/assets\n",
      "2023-11-15 16:10:34.463193: E tensorflow/compiler/xla/stream_executor/cuda/cuda_dnn.cc:9342] Unable to register cuDNN factory: Attempting to register factory for plugin cuDNN when one has already been registered\n",
      "2023-11-15 16:10:34.463240: E tensorflow/compiler/xla/stream_executor/cuda/cuda_fft.cc:609] Unable to register cuFFT factory: Attempting to register factory for plugin cuFFT when one has already been registered\n",
      "2023-11-15 16:10:34.463271: E tensorflow/compiler/xla/stream_executor/cuda/cuda_blas.cc:1518] Unable to register cuBLAS factory: Attempting to register factory for plugin cuBLAS when one has already been registered\n",
      "2023-11-15 16:10:34.469473: I tensorflow/core/platform/cpu_feature_guard.cc:182] This TensorFlow binary is optimized to use available CPU instructions in performance-critical operations.\n",
      "To enable the following instructions: AVX2 FMA, in other operations, rebuild TensorFlow with the appropriate compiler flags.\n",
      "2023-11-15 16:10:39.966478: W tensorflow/core/util/tensor_slice_reader.cc:98] Could not open ram://84195f77304346e6bcfd400e02baf027: INVALID_ARGUMENT: ram://84195f77304346e6bcfd400e02baf027 is a directory.\n",
      "2023-11-15 16:10:42.150772: W tensorflow/core/util/tensor_slice_reader.cc:98] Could not open ram://343927c09648453e9b3e86c4442ca15d: INVALID_ARGUMENT: ram://343927c09648453e9b3e86c4442ca15d is a directory.\n"
     ]
    },
    {
     "name": "stdout",
     "output_type": "stream",
     "text": [
      " 1/16 [>.............................] - ETA: 23s - loss: 1.4776 - accuracy: 0.1250INFO:tensorflow:Assets written to: ram://50c250d08b554ed584ebba8d5ec53bab/assets\n"
     ]
    },
    {
     "name": "stderr",
     "output_type": "stream",
     "text": [
      "INFO:tensorflow:Assets written to: ram://50c250d08b554ed584ebba8d5ec53bab/assets\n"
     ]
    },
    {
     "name": "stdout",
     "output_type": "stream",
     "text": [
      "16/16 [==============================] - 7s 345ms/step - loss: 0.4296 - accuracy: 0.8060\n",
      " 9/16 [===============>..............] - ETA: 2sINFO:tensorflow:Assets written to: ram://82a0ade7914e4ca188cac23183bcda1e/assets\n"
     ]
    },
    {
     "name": "stderr",
     "output_type": "stream",
     "text": [
      "INFO:tensorflow:Assets written to: ram://82a0ade7914e4ca188cac23183bcda1e/assets\n"
     ]
    },
    {
     "name": "stdout",
     "output_type": "stream",
     "text": [
      "14/16 [=========================>....] - ETA: 0s"
     ]
    },
    {
     "name": "stderr",
     "output_type": "stream",
     "text": [
      "2023-11-15 16:10:55.110153: E tensorflow/compiler/xla/stream_executor/cuda/cuda_dnn.cc:9342] Unable to register cuDNN factory: Attempting to register factory for plugin cuDNN when one has already been registered\n",
      "2023-11-15 16:10:55.110240: E tensorflow/compiler/xla/stream_executor/cuda/cuda_fft.cc:609] Unable to register cuFFT factory: Attempting to register factory for plugin cuFFT when one has already been registered\n",
      "2023-11-15 16:10:55.110282: E tensorflow/compiler/xla/stream_executor/cuda/cuda_blas.cc:1518] Unable to register cuBLAS factory: Attempting to register factory for plugin cuBLAS when one has already been registered\n",
      "2023-11-15 16:10:55.122547: I tensorflow/core/platform/cpu_feature_guard.cc:182] This TensorFlow binary is optimized to use available CPU instructions in performance-critical operations.\n",
      "To enable the following instructions: AVX2 FMA, in other operations, rebuild TensorFlow with the appropriate compiler flags.\n"
     ]
    },
    {
     "name": "stdout",
     "output_type": "stream",
     "text": [
      "16/16 [==============================] - 6s 341ms/step\n"
     ]
    },
    {
     "name": "stderr",
     "output_type": "stream",
     "text": [
      "WARNING:tensorflow:Detecting that an object or model or tf.train.Checkpoint is being deleted with unrestored values. See the following logs for the specific values in question. To silence these warnings, use `status.expect_partial()`. See https://www.tensorflow.org/api_docs/python/tf/train/Checkpoint#restorefor details about the status object returned by the restore function.\n",
      "WARNING:tensorflow:Value in checkpoint could not be found in the restored object: (root).keras_api.metrics.0.total\n",
      "WARNING:tensorflow:Value in checkpoint could not be found in the restored object: (root).keras_api.metrics.0.count\n",
      "WARNING:tensorflow:Value in checkpoint could not be found in the restored object: (root).keras_api.metrics.1.total\n",
      "WARNING:tensorflow:Value in checkpoint could not be found in the restored object: (root).keras_api.metrics.1.count\n",
      "WARNING:tensorflow:Detecting that an object or model or tf.train.Checkpoint is being deleted with unrestored values. See the following logs for the specific values in question. To silence these warnings, use `status.expect_partial()`. See https://www.tensorflow.org/api_docs/python/tf/train/Checkpoint#restorefor details about the status object returned by the restore function.\n",
      "WARNING:tensorflow:Value in checkpoint could not be found in the restored object: (root).keras_api.metrics.0.total\n",
      "WARNING:tensorflow:Value in checkpoint could not be found in the restored object: (root).keras_api.metrics.0.count\n",
      "WARNING:tensorflow:Value in checkpoint could not be found in the restored object: (root).keras_api.metrics.1.total\n",
      "WARNING:tensorflow:Value in checkpoint could not be found in the restored object: (root).keras_api.metrics.1.count\n",
      "2023-11-15 16:11:01.032529: W tensorflow/core/util/tensor_slice_reader.cc:98] Could not open ram://8b383bad23264adfaeabc70b0b5d337a: INVALID_ARGUMENT: ram://8b383bad23264adfaeabc70b0b5d337a is a directory.\n",
      "2023-11-15 16:11:03.189609: W tensorflow/core/util/tensor_slice_reader.cc:98] Could not open ram://b352f5c8ce124d2f86252e6bf2143db3: INVALID_ARGUMENT: ram://b352f5c8ce124d2f86252e6bf2143db3 is a directory.\n"
     ]
    },
    {
     "name": "stdout",
     "output_type": "stream",
     "text": [
      " 2/16 [==>...........................] - ETA: 5s - loss: 1.2574 - accuracy: 0.1406 INFO:tensorflow:Assets written to: ram://9e9855892cb0454eac49f329c80e9a55/assets\n"
     ]
    },
    {
     "name": "stderr",
     "output_type": "stream",
     "text": [
      "INFO:tensorflow:Assets written to: ram://9e9855892cb0454eac49f329c80e9a55/assets\n"
     ]
    },
    {
     "name": "stdout",
     "output_type": "stream",
     "text": [
      "16/16 [==============================] - 7s 352ms/step - loss: 0.4964 - accuracy: 0.7820\n",
      "16/16 [==============================] - 6s 345ms/step\n",
      "INFO:tensorflow:Assets written to: ram://a47ef2a9753441989945fff32fa17907/assets\n"
     ]
    },
    {
     "name": "stderr",
     "output_type": "stream",
     "text": [
      "WARNING:tensorflow:Detecting that an object or model or tf.train.Checkpoint is being deleted with unrestored values. See the following logs for the specific values in question. To silence these warnings, use `status.expect_partial()`. See https://www.tensorflow.org/api_docs/python/tf/train/Checkpoint#restorefor details about the status object returned by the restore function.\n",
      "WARNING:tensorflow:Value in checkpoint could not be found in the restored object: (root).keras_api.metrics.0.total\n",
      "WARNING:tensorflow:Value in checkpoint could not be found in the restored object: (root).keras_api.metrics.0.count\n",
      "WARNING:tensorflow:Value in checkpoint could not be found in the restored object: (root).keras_api.metrics.1.total\n",
      "WARNING:tensorflow:Value in checkpoint could not be found in the restored object: (root).keras_api.metrics.1.count\n",
      "WARNING:tensorflow:Detecting that an object or model or tf.train.Checkpoint is being deleted with unrestored values. See the following logs for the specific values in question. To silence these warnings, use `status.expect_partial()`. See https://www.tensorflow.org/api_docs/python/tf/train/Checkpoint#restorefor details about the status object returned by the restore function.\n",
      "WARNING:tensorflow:Value in checkpoint could not be found in the restored object: (root).keras_api.metrics.0.total\n",
      "WARNING:tensorflow:Value in checkpoint could not be found in the restored object: (root).keras_api.metrics.0.count\n",
      "WARNING:tensorflow:Value in checkpoint could not be found in the restored object: (root).keras_api.metrics.1.total\n",
      "WARNING:tensorflow:Value in checkpoint could not be found in the restored object: (root).keras_api.metrics.1.count\n",
      "INFO:tensorflow:Assets written to: ram://a47ef2a9753441989945fff32fa17907/assets\n",
      "2023-11-15 16:11:21.301366: W tensorflow/core/util/tensor_slice_reader.cc:98] Could not open ram://582370af387640a38be36a0f7362d5e7: INVALID_ARGUMENT: ram://582370af387640a38be36a0f7362d5e7 is a directory.\n",
      "2023-11-15 16:11:23.440910: W tensorflow/core/util/tensor_slice_reader.cc:98] Could not open ram://e2019529e62641d8907661a7fc8e7a2d: INVALID_ARGUMENT: ram://e2019529e62641d8907661a7fc8e7a2d is a directory.\n"
     ]
    },
    {
     "name": "stdout",
     "output_type": "stream",
     "text": [
      "16/16 [==============================] - 2s 91ms/step - loss: 0.9522 - accuracy: 0.8520\n",
      "16/16 [==============================] - 2s 85ms/step\n"
     ]
    },
    {
     "name": "stderr",
     "output_type": "stream",
     "text": [
      "WARNING:tensorflow:Detecting that an object or model or tf.train.Checkpoint is being deleted with unrestored values. See the following logs for the specific values in question. To silence these warnings, use `status.expect_partial()`. See https://www.tensorflow.org/api_docs/python/tf/train/Checkpoint#restorefor details about the status object returned by the restore function.\n",
      "WARNING:tensorflow:Value in checkpoint could not be found in the restored object: (root).keras_api.metrics.0.total\n",
      "WARNING:tensorflow:Value in checkpoint could not be found in the restored object: (root).keras_api.metrics.0.count\n",
      "WARNING:tensorflow:Value in checkpoint could not be found in the restored object: (root).keras_api.metrics.1.total\n",
      "WARNING:tensorflow:Value in checkpoint could not be found in the restored object: (root).keras_api.metrics.1.count\n",
      "WARNING:tensorflow:Detecting that an object or model or tf.train.Checkpoint is being deleted with unrestored values. See the following logs for the specific values in question. To silence these warnings, use `status.expect_partial()`. See https://www.tensorflow.org/api_docs/python/tf/train/Checkpoint#restorefor details about the status object returned by the restore function.\n",
      "WARNING:tensorflow:Value in checkpoint could not be found in the restored object: (root).keras_api.metrics.0.total\n",
      "WARNING:tensorflow:Value in checkpoint could not be found in the restored object: (root).keras_api.metrics.0.count\n",
      "WARNING:tensorflow:Value in checkpoint could not be found in the restored object: (root).keras_api.metrics.1.total\n",
      "WARNING:tensorflow:Value in checkpoint could not be found in the restored object: (root).keras_api.metrics.1.count\n"
     ]
    },
    {
     "name": "stdout",
     "output_type": "stream",
     "text": [
      "INFO:tensorflow:Assets written to: ram://a8c455ba215b48289c77c32ef0eb40aa/assets\n"
     ]
    },
    {
     "name": "stderr",
     "output_type": "stream",
     "text": [
      "INFO:tensorflow:Assets written to: ram://a8c455ba215b48289c77c32ef0eb40aa/assets\n"
     ]
    },
    {
     "name": "stdout",
     "output_type": "stream",
     "text": [
      "INFO:tensorflow:Assets written to: ram://c7db0070efa648acb066adbe0c03e4cf/assets\n"
     ]
    },
    {
     "name": "stderr",
     "output_type": "stream",
     "text": [
      "INFO:tensorflow:Assets written to: ram://c7db0070efa648acb066adbe0c03e4cf/assets\n",
      "2023-11-15 16:11:38.475849: W tensorflow/core/util/tensor_slice_reader.cc:98] Could not open ram://78593b3e7df84c44a324c2a87268369e: INVALID_ARGUMENT: ram://78593b3e7df84c44a324c2a87268369e is a directory.\n",
      "2023-11-15 16:11:40.642933: W tensorflow/core/util/tensor_slice_reader.cc:98] Could not open ram://afcc357b13fe42ed8515f175f4d7e3d7: INVALID_ARGUMENT: ram://afcc357b13fe42ed8515f175f4d7e3d7 is a directory.\n"
     ]
    },
    {
     "name": "stdout",
     "output_type": "stream",
     "text": [
      "16/16 [==============================] - 2s 90ms/step - loss: 0.6496 - accuracy: 0.8580\n",
      "15/16 [===========================>..] - ETA: 0s"
     ]
    },
    {
     "name": "stderr",
     "output_type": "stream",
     "text": [
      "Generating ensemble training data: |██████████|100%\n"
     ]
    },
    {
     "name": "stdout",
     "output_type": "stream",
     "text": [
      "16/16 [==============================] - 2s 88ms/step\n"
     ]
    },
    {
     "name": "stderr",
     "output_type": "stream",
     "text": [
      "Training final base predictors: |██████████|100%\n",
      "WARNING:tensorflow:Detecting that an object or model or tf.train.Checkpoint is being deleted with unrestored values. See the following logs for the specific values in question. To silence these warnings, use `status.expect_partial()`. See https://www.tensorflow.org/api_docs/python/tf/train/Checkpoint#restorefor details about the status object returned by the restore function.\n",
      "WARNING:tensorflow:Value in checkpoint could not be found in the restored object: (root).keras_api.metrics.0.total\n",
      "WARNING:tensorflow:Value in checkpoint could not be found in the restored object: (root).keras_api.metrics.0.count\n",
      "WARNING:tensorflow:Value in checkpoint could not be found in the restored object: (root).keras_api.metrics.1.total\n",
      "WARNING:tensorflow:Value in checkpoint could not be found in the restored object: (root).keras_api.metrics.1.count\n",
      "WARNING:tensorflow:Detecting that an object or model or tf.train.Checkpoint is being deleted with unrestored values. See the following logs for the specific values in question. To silence these warnings, use `status.expect_partial()`. See https://www.tensorflow.org/api_docs/python/tf/train/Checkpoint#restorefor details about the status object returned by the restore function.\n",
      "WARNING:tensorflow:Value in checkpoint could not be found in the restored object: (root).keras_api.metrics.0.total\n",
      "WARNING:tensorflow:Value in checkpoint could not be found in the restored object: (root).keras_api.metrics.0.count\n",
      "WARNING:tensorflow:Value in checkpoint could not be found in the restored object: (root).keras_api.metrics.1.total\n",
      "WARNING:tensorflow:Value in checkpoint could not be found in the restored object: (root).keras_api.metrics.1.count\n"
     ]
    },
    {
     "name": "stdout",
     "output_type": "stream",
     "text": [
      "INFO:tensorflow:Assets written to: ram://6e3b7d8777de410d8b54989a87548a80/assets\n"
     ]
    },
    {
     "name": "stderr",
     "output_type": "stream",
     "text": [
      "INFO:tensorflow:Assets written to: ram://6e3b7d8777de410d8b54989a87548a80/assets\n"
     ]
    },
    {
     "name": "stdout",
     "output_type": "stream",
     "text": [
      "INFO:tensorflow:Assets written to: ram://da94c44984b1432081922e9c744dd582/assets\n"
     ]
    },
    {
     "name": "stderr",
     "output_type": "stream",
     "text": [
      "INFO:tensorflow:Assets written to: ram://da94c44984b1432081922e9c744dd582/assets\n",
      "2023-11-15 16:12:06.171458: W tensorflow/core/util/tensor_slice_reader.cc:98] Could not open ram://6ab6ea6b122b4315881f572add802464: INVALID_ARGUMENT: ram://6ab6ea6b122b4315881f572add802464 is a directory.\n",
      "2023-11-15 16:12:08.385975: W tensorflow/core/util/tensor_slice_reader.cc:98] Could not open ram://6a8c6bfa571f4aa4a6d34c7c339d03b3: INVALID_ARGUMENT: ram://6a8c6bfa571f4aa4a6d34c7c339d03b3 is a directory.\n"
     ]
    },
    {
     "name": "stdout",
     "output_type": "stream",
     "text": [
      "11/32 [=========>....................] - ETA: 7s - loss: 0.5224 - accuracy: 0.7642INFO:tensorflow:Assets written to: ram://7cb012627445446b823e1dedf896d46f/assets\n"
     ]
    },
    {
     "name": "stderr",
     "output_type": "stream",
     "text": [
      "INFO:tensorflow:Assets written to: ram://7cb012627445446b823e1dedf896d46f/assets\n"
     ]
    },
    {
     "name": "stdout",
     "output_type": "stream",
     "text": [
      "32/32 [==============================] - 12s 348ms/step - loss: 0.4087 - accuracy: 0.8570\n",
      "INFO:tensorflow:Assets written to: ram://3b9a60d91337421eb1d78ee7a16b4087/assets\n"
     ]
    },
    {
     "name": "stderr",
     "output_type": "stream",
     "text": [
      "INFO:tensorflow:Assets written to: ram://3b9a60d91337421eb1d78ee7a16b4087/assets\n",
      "2023-11-15 16:12:27.097184: W tensorflow/core/util/tensor_slice_reader.cc:98] Could not open ram://144630fe4454467babe5d3564c3b444d: INVALID_ARGUMENT: ram://144630fe4454467babe5d3564c3b444d is a directory.\n",
      "2023-11-15 16:12:29.224631: W tensorflow/core/util/tensor_slice_reader.cc:98] Could not open ram://583a4b37a9ef488090d7a8b03d7b0104: INVALID_ARGUMENT: ram://583a4b37a9ef488090d7a8b03d7b0104 is a directory.\n"
     ]
    },
    {
     "name": "stdout",
     "output_type": "stream",
     "text": [
      "32/32 [==============================] - 4s 91ms/step - loss: 0.6437 - accuracy: 0.8710\n"
     ]
    },
    {
     "name": "stderr",
     "output_type": "stream",
     "text": [
      "WARNING:tensorflow:Detecting that an object or model or tf.train.Checkpoint is being deleted with unrestored values. See the following logs for the specific values in question. To silence these warnings, use `status.expect_partial()`. See https://www.tensorflow.org/api_docs/python/tf/train/Checkpoint#restorefor details about the status object returned by the restore function.\n",
      "WARNING:tensorflow:Detecting that an object or model or tf.train.Checkpoint is being deleted with unrestored values. See the following logs for the specific values in question. To silence these warnings, use `status.expect_partial()`. See https://www.tensorflow.org/api_docs/python/tf/train/Checkpoint#restorefor details about the status object returned by the restore function.\n",
      "WARNING:tensorflow:Value in checkpoint could not be found in the restored object: (root).keras_api.metrics.0.total\n",
      "WARNING:tensorflow:Value in checkpoint could not be found in the restored object: (root).keras_api.metrics.0.total\n",
      "WARNING:tensorflow:Value in checkpoint could not be found in the restored object: (root).keras_api.metrics.0.count\n",
      "WARNING:tensorflow:Value in checkpoint could not be found in the restored object: (root).keras_api.metrics.0.count\n",
      "WARNING:tensorflow:Value in checkpoint could not be found in the restored object: (root).keras_api.metrics.1.total\n",
      "WARNING:tensorflow:Value in checkpoint could not be found in the restored object: (root).keras_api.metrics.1.total\n",
      "WARNING:tensorflow:Value in checkpoint could not be found in the restored object: (root).keras_api.metrics.1.count\n",
      "WARNING:tensorflow:Value in checkpoint could not be found in the restored object: (root).keras_api.metrics.1.count\n",
      "WARNING:tensorflow:Detecting that an object or model or tf.train.Checkpoint is being deleted with unrestored values. See the following logs for the specific values in question. To silence these warnings, use `status.expect_partial()`. See https://www.tensorflow.org/api_docs/python/tf/train/Checkpoint#restorefor details about the status object returned by the restore function.\n",
      "WARNING:tensorflow:Detecting that an object or model or tf.train.Checkpoint is being deleted with unrestored values. See the following logs for the specific values in question. To silence these warnings, use `status.expect_partial()`. See https://www.tensorflow.org/api_docs/python/tf/train/Checkpoint#restorefor details about the status object returned by the restore function.\n",
      "WARNING:tensorflow:Value in checkpoint could not be found in the restored object: (root).keras_api.metrics.0.total\n",
      "WARNING:tensorflow:Value in checkpoint could not be found in the restored object: (root).keras_api.metrics.0.total\n",
      "WARNING:tensorflow:Value in checkpoint could not be found in the restored object: (root).keras_api.metrics.0.count\n",
      "WARNING:tensorflow:Value in checkpoint could not be found in the restored object: (root).keras_api.metrics.0.count\n",
      "WARNING:tensorflow:Value in checkpoint could not be found in the restored object: (root).keras_api.metrics.1.total\n",
      "WARNING:tensorflow:Value in checkpoint could not be found in the restored object: (root).keras_api.metrics.1.total\n",
      "WARNING:tensorflow:Value in checkpoint could not be found in the restored object: (root).keras_api.metrics.1.count\n",
      "WARNING:tensorflow:Value in checkpoint could not be found in the restored object: (root).keras_api.metrics.1.count\n"
     ]
    },
    {
     "name": "stdout",
     "output_type": "stream",
     "text": [
      "\n",
      "\n"
     ]
    }
   ],
   "source": [
    "EI.fit_base(X_sample, y_sample, modality_name=\"shmimage\")"
   ]
  },
  {
   "cell_type": "code",
   "execution_count": 16,
   "metadata": {},
   "outputs": [
    {
     "data": {
      "text/plain": [
       "{'metrics': modality        shmimage          \n",
       " base predictor MobileNet  ResNet50\n",
       " f_max           0.271845  0.357977\n",
       " auc             0.689673  0.750651\n",
       " mcc             0.122666  0.000000,\n",
       " 'thresholds': modality        shmimage          \n",
       " base predictor MobileNet  ResNet50\n",
       " f_max           0.732705  0.025145\n",
       " auc                  NaN       NaN\n",
       " mcc             0.500000  0.500000}"
      ]
     },
     "execution_count": 16,
     "metadata": {},
     "output_type": "execute_result"
    }
   ],
   "source": [
    "EI.base_summary"
   ]
  },
  {
   "cell_type": "code",
   "execution_count": 17,
   "metadata": {},
   "outputs": [
    {
     "name": "stderr",
     "output_type": "stream",
     "text": [
      "Analyzing ensembles: |          |  0%"
     ]
    },
    {
     "name": "stderr",
     "output_type": "stream",
     "text": [
      "WARNING:tensorflow:Detecting that an object or model or tf.train.Checkpoint is being deleted with unrestored values. See the following logs for the specific values in question. To silence these warnings, use `status.expect_partial()`. See https://www.tensorflow.org/api_docs/python/tf/train/Checkpoint#restorefor details about the status object returned by the restore function.\n",
      "WARNING:tensorflow:Detecting that an object or model or tf.train.Checkpoint is being deleted with unrestored values. See the following logs for the specific values in question. To silence these warnings, use `status.expect_partial()`. See https://www.tensorflow.org/api_docs/python/tf/train/Checkpoint#restorefor details about the status object returned by the restore function.\n",
      "WARNING:tensorflow:Value in checkpoint could not be found in the restored object: (root).keras_api.metrics.0.total\n",
      "WARNING:tensorflow:Value in checkpoint could not be found in the restored object: (root).keras_api.metrics.0.total\n",
      "WARNING:tensorflow:Value in checkpoint could not be found in the restored object: (root).keras_api.metrics.0.count\n",
      "WARNING:tensorflow:Value in checkpoint could not be found in the restored object: (root).keras_api.metrics.0.count\n",
      "WARNING:tensorflow:Value in checkpoint could not be found in the restored object: (root).keras_api.metrics.1.total\n",
      "WARNING:tensorflow:Value in checkpoint could not be found in the restored object: (root).keras_api.metrics.1.total\n",
      "WARNING:tensorflow:Value in checkpoint could not be found in the restored object: (root).keras_api.metrics.1.count\n",
      "WARNING:tensorflow:Value in checkpoint could not be found in the restored object: (root).keras_api.metrics.1.count\n",
      "WARNING:tensorflow:Detecting that an object or model or tf.train.Checkpoint is being deleted with unrestored values. See the following logs for the specific values in question. To silence these warnings, use `status.expect_partial()`. See https://www.tensorflow.org/api_docs/python/tf/train/Checkpoint#restorefor details about the status object returned by the restore function.\n",
      "WARNING:tensorflow:Detecting that an object or model or tf.train.Checkpoint is being deleted with unrestored values. See the following logs for the specific values in question. To silence these warnings, use `status.expect_partial()`. See https://www.tensorflow.org/api_docs/python/tf/train/Checkpoint#restorefor details about the status object returned by the restore function.\n",
      "WARNING:tensorflow:Value in checkpoint could not be found in the restored object: (root).keras_api.metrics.0.total\n",
      "WARNING:tensorflow:Value in checkpoint could not be found in the restored object: (root).keras_api.metrics.0.total\n",
      "WARNING:tensorflow:Value in checkpoint could not be found in the restored object: (root).keras_api.metrics.0.count\n",
      "WARNING:tensorflow:Value in checkpoint could not be found in the restored object: (root).keras_api.metrics.0.count\n",
      "WARNING:tensorflow:Value in checkpoint could not be found in the restored object: (root).keras_api.metrics.1.total\n",
      "WARNING:tensorflow:Value in checkpoint could not be found in the restored object: (root).keras_api.metrics.1.total\n",
      "WARNING:tensorflow:Value in checkpoint could not be found in the restored object: (root).keras_api.metrics.1.count\n",
      "WARNING:tensorflow:Value in checkpoint could not be found in the restored object: (root).keras_api.metrics.1.count\n",
      "Analyzing ensembles: |██████████|100%\n",
      "Training final ensemble models: |██████████|100%\n"
     ]
    },
    {
     "data": {
      "text/plain": [
       "<eipy.deep_ei.EnsembleIntegration at 0x7f9af40f7040>"
      ]
     },
     "execution_count": 17,
     "metadata": {},
     "output_type": "execute_result"
    }
   ],
   "source": [
    "from sklearn.linear_model import LogisticRegression\n",
    "from xgboost import XGBClassifier\n",
    "ensemble_predictors = {\"LR\": LogisticRegression(),\n",
    "                       \"XGB\": XGBClassifier()}\n",
    "EI.fit_ensemble(ensemble_predictors=ensemble_predictors)"
   ]
  },
  {
   "cell_type": "code",
   "execution_count": 18,
   "metadata": {},
   "outputs": [
    {
     "data": {
      "text/plain": [
       "{'metrics':              LR       XGB\n",
       " f_max  0.314961  0.187500\n",
       " auc    0.705583  0.505414\n",
       " mcc    0.000000  0.008863,\n",
       " 'thresholds':              LR       XGB\n",
       " f_max  0.089109  0.085131\n",
       " auc         NaN       NaN\n",
       " mcc    0.500000  0.500000}"
      ]
     },
     "execution_count": 18,
     "metadata": {},
     "output_type": "execute_result"
    }
   ],
   "source": [
    "EI.ensemble_summary"
   ]
  },
  {
   "cell_type": "code",
   "execution_count": 19,
   "metadata": {},
   "outputs": [],
   "source": [
    "X_dict = {\"shmimage\": X_sample}"
   ]
  },
  {
   "cell_type": "code",
   "execution_count": 20,
   "metadata": {},
   "outputs": [
    {
     "data": {
      "text/plain": [
       "['shmimage']"
      ]
     },
     "execution_count": 20,
     "metadata": {},
     "output_type": "execute_result"
    }
   ],
   "source": [
    "EI.modality_names"
   ]
  },
  {
   "cell_type": "code",
   "execution_count": 21,
   "metadata": {},
   "outputs": [
    {
     "name": "stderr",
     "output_type": "stream",
     "text": [
      "2023-11-15 16:12:44.751956: W tensorflow/core/util/tensor_slice_reader.cc:98] Could not open ram://a0c372635c3a4a9fafd501fe4374652c: INVALID_ARGUMENT: ram://a0c372635c3a4a9fafd501fe4374652c is a directory.\n"
     ]
    },
    {
     "name": "stdout",
     "output_type": "stream",
     "text": [
      "32/32 [==============================] - 12s 340ms/step\n"
     ]
    },
    {
     "name": "stderr",
     "output_type": "stream",
     "text": [
      "2023-11-15 16:12:58.753628: W tensorflow/core/util/tensor_slice_reader.cc:98] Could not open ram://43eb3e2192ab48a48172014196bcb629: INVALID_ARGUMENT: ram://43eb3e2192ab48a48172014196bcb629 is a directory.\n"
     ]
    },
    {
     "name": "stdout",
     "output_type": "stream",
     "text": [
      "32/32 [==============================] - 3s 85ms/step\n"
     ]
    },
    {
     "data": {
      "text/plain": [
       "array([0.0799678 , 0.13168917, 0.08950173, 0.11083812, 0.0693496 ,\n",
       "       0.06736746, 0.10310862, 0.06858966, 0.07082725, 0.09452216,\n",
       "       0.07259091, 0.12944848, 0.07248769, 0.0842082 , 0.11139511,\n",
       "       0.0849701 , 0.0869451 , 0.08038993, 0.09722135, 0.0635078 ,\n",
       "       0.08000077, 0.06666598, 0.06523644, 0.19327766, 0.06848172,\n",
       "       0.08309012, 0.07751799, 0.0761429 , 0.13700303, 0.06413451,\n",
       "       0.06764469, 0.07047187, 0.08831956, 0.08185731, 0.12216659,\n",
       "       0.07493386, 0.06820865, 0.10972586, 0.14345645, 0.08331853,\n",
       "       0.11933513, 0.06925324, 0.08742322, 0.0691075 , 0.1129003 ,\n",
       "       0.15530523, 0.06576854, 0.10803305, 0.06390492, 0.07220081,\n",
       "       0.08586769, 0.07413792, 0.06842103, 0.07127218, 0.10611342,\n",
       "       0.08890289, 0.07251464, 0.07270016, 0.06875327, 0.07691401,\n",
       "       0.06553054, 0.06343942, 0.09463463, 0.08855341, 0.08109449,\n",
       "       0.08100689, 0.16081715, 0.0722621 , 0.08212006, 0.07890292,\n",
       "       0.08349745, 0.06911743, 0.07547345, 0.12128167, 0.10148001,\n",
       "       0.07149317, 0.10779036, 0.08135295, 0.07884099, 0.07312121,\n",
       "       0.07393816, 0.15561224, 0.14125366, 0.06357182, 0.07745194,\n",
       "       0.07700483, 0.07558109, 0.0764327 , 0.0927616 , 0.16815035,\n",
       "       0.13750447, 0.06393441, 0.13122223, 0.06406444, 0.07074874,\n",
       "       0.0672118 , 0.06962385, 0.07752477, 0.06892593, 0.06664857,\n",
       "       0.07106173, 0.07358254, 0.0817294 , 0.06243264, 0.17369651,\n",
       "       0.13508809, 0.06821026, 0.07014206, 0.10014718, 0.07290626,\n",
       "       0.06602359, 0.08442768, 0.06928889, 0.06542963, 0.14572654,\n",
       "       0.07492785, 0.07765582, 0.08109684, 0.0643761 , 0.07138167,\n",
       "       0.0658205 , 0.06813892, 0.13450235, 0.06412292, 0.10292061,\n",
       "       0.08733189, 0.08285515, 0.06534758, 0.0679637 , 0.07954949,\n",
       "       0.06328911, 0.13887376, 0.09510173, 0.13077887, 0.11810704,\n",
       "       0.07112301, 0.11245613, 0.08000143, 0.06767332, 0.13524445,\n",
       "       0.09207073, 0.07970761, 0.07468617, 0.09998439, 0.07620261,\n",
       "       0.08603538, 0.06623315, 0.06774792, 0.10150501, 0.08722292,\n",
       "       0.08465009, 0.13307129, 0.09198964, 0.07025633, 0.07045343,\n",
       "       0.07477063, 0.06494061, 0.07073783, 0.06864383, 0.06673245,\n",
       "       0.06411836, 0.12047227, 0.08376688, 0.07651904, 0.10786061,\n",
       "       0.06884246, 0.10195083, 0.06371211, 0.07072809, 0.08165269,\n",
       "       0.10692508, 0.09232119, 0.10204679, 0.06869599, 0.193253  ,\n",
       "       0.13224618, 0.06672641, 0.07014091, 0.06946594, 0.09033222,\n",
       "       0.07521979, 0.07202584, 0.0653589 , 0.0788546 , 0.06838843,\n",
       "       0.07600353, 0.06824981, 0.07805134, 0.06381424, 0.09533073,\n",
       "       0.07463757, 0.13427914, 0.08555709, 0.14865751, 0.06615619,\n",
       "       0.07465416, 0.11985013, 0.07690175, 0.06556172, 0.09297952,\n",
       "       0.08289296, 0.15313919, 0.07730234, 0.09710661, 0.12689131,\n",
       "       0.07047962, 0.06373611, 0.07417378, 0.07856937, 0.11466531,\n",
       "       0.07430047, 0.07647794, 0.08713393, 0.07792185, 0.10867078,\n",
       "       0.06739605, 0.07504723, 0.10874599, 0.07196103, 0.0836163 ,\n",
       "       0.08084193, 0.06989152, 0.09753096, 0.07552232, 0.08657518,\n",
       "       0.09428271, 0.06742148, 0.07037795, 0.07512153, 0.09743691,\n",
       "       0.0841341 , 0.17509848, 0.08198171, 0.1030854 , 0.07023054,\n",
       "       0.08020759, 0.06787853, 0.06944509, 0.07354994, 0.06523169,\n",
       "       0.12314546, 0.1440794 , 0.1155258 , 0.13672316, 0.06807984,\n",
       "       0.08826707, 0.13722546, 0.08545763, 0.07231291, 0.10055612,\n",
       "       0.0867072 , 0.0725018 , 0.1175351 , 0.07334247, 0.06814452,\n",
       "       0.09608601, 0.0775352 , 0.09211996, 0.12772176, 0.20628322,\n",
       "       0.09563911, 0.18334392, 0.09104747, 0.07235373, 0.08456276,\n",
       "       0.09438774, 0.08440714, 0.08818924, 0.06853641, 0.06852566,\n",
       "       0.07650239, 0.07261954, 0.07436667, 0.07380112, 0.09484852,\n",
       "       0.08541655, 0.12443568, 0.07170339, 0.07044277, 0.08370953,\n",
       "       0.11035387, 0.11394272, 0.07070446, 0.24285272, 0.13363688,\n",
       "       0.11197927, 0.10347449, 0.08254733, 0.07409276, 0.12514754,\n",
       "       0.12046655, 0.06364114, 0.06500295, 0.11975491, 0.07250955,\n",
       "       0.06350861, 0.06567705, 0.07581827, 0.08016817, 0.06783391,\n",
       "       0.06793151, 0.06901821, 0.07602517, 0.07758689, 0.06715354,\n",
       "       0.13886745, 0.10421652, 0.08168899, 0.21114356, 0.06456437,\n",
       "       0.07582998, 0.08023613, 0.08277932, 0.07044451, 0.09142637,\n",
       "       0.08094556, 0.08657989, 0.08038749, 0.06965146, 0.0700935 ,\n",
       "       0.0672137 , 0.06946749, 0.07033236, 0.0635973 , 0.06336555,\n",
       "       0.10234694, 0.073016  , 0.06830366, 0.0869904 , 0.08131591,\n",
       "       0.12498847, 0.10153583, 0.0840734 , 0.06512078, 0.06823106,\n",
       "       0.11905032, 0.06718044, 0.09272656, 0.07794346, 0.09853744,\n",
       "       0.06474502, 0.06831328, 0.06375447, 0.08060009, 0.07109861,\n",
       "       0.0643315 , 0.07483612, 0.06403542, 0.07508434, 0.17125147,\n",
       "       0.12182946, 0.14492727, 0.12244848, 0.07398318, 0.0650123 ,\n",
       "       0.06583737, 0.0634824 , 0.08302477, 0.10821978, 0.09888497,\n",
       "       0.06994879, 0.07180992, 0.14529745, 0.12900122, 0.10479306,\n",
       "       0.08253136, 0.12821365, 0.07337726, 0.07293879, 0.14439273,\n",
       "       0.06886127, 0.08225632, 0.12692308, 0.07853418, 0.08035543,\n",
       "       0.07188896, 0.08586725, 0.08600402, 0.07045997, 0.06662759,\n",
       "       0.10790902, 0.09460019, 0.09859981, 0.2346463 , 0.06462981,\n",
       "       0.08091373, 0.07092208, 0.07018292, 0.07887006, 0.06822513,\n",
       "       0.11772238, 0.06565198, 0.09483793, 0.08986013, 0.10024834,\n",
       "       0.06566294, 0.06602329, 0.0885544 , 0.10132454, 0.07885464,\n",
       "       0.09191635, 0.17006663, 0.07605342, 0.09274453, 0.08369664,\n",
       "       0.0810962 , 0.09958871, 0.14455397, 0.07594976, 0.07008944,\n",
       "       0.06841315, 0.08014278, 0.09067576, 0.08214347, 0.18479515,\n",
       "       0.15107894, 0.07548101, 0.07179606, 0.0706669 , 0.07932012,\n",
       "       0.0783424 , 0.07139459, 0.07449574, 0.0866698 , 0.06572356,\n",
       "       0.08028112, 0.07891042, 0.07920232, 0.09203471, 0.06841781,\n",
       "       0.08119547, 0.07844534, 0.06964114, 0.07815862, 0.08605753,\n",
       "       0.07543307, 0.08043186, 0.06358962, 0.07189648, 0.08633619,\n",
       "       0.10337225, 0.08269862, 0.1222224 , 0.11936133, 0.06732892,\n",
       "       0.07053294, 0.07581469, 0.06598397, 0.06934971, 0.06570578,\n",
       "       0.06896244, 0.11222105, 0.08006801, 0.07564997, 0.1282448 ,\n",
       "       0.0737947 , 0.07143397, 0.06579844, 0.06844346, 0.08305026,\n",
       "       0.07109901, 0.06636627, 0.14757212, 0.06485501, 0.08875819,\n",
       "       0.06893036, 0.06426283, 0.06219504, 0.07607168, 0.0944444 ,\n",
       "       0.06904632, 0.10342612, 0.10834521, 0.06290402, 0.08267856,\n",
       "       0.07494768, 0.06575837, 0.10037258, 0.06651277, 0.06975603,\n",
       "       0.10599972, 0.06707837, 0.07105556, 0.08501314, 0.06625451,\n",
       "       0.09816396, 0.1294913 , 0.1157155 , 0.08126177, 0.07247227,\n",
       "       0.16214798, 0.10200135, 0.09625889, 0.11528701, 0.13819691,\n",
       "       0.08517605, 0.09873697, 0.06642267, 0.09468184, 0.07469725,\n",
       "       0.07506458, 0.06239374, 0.06964226, 0.08914318, 0.12840568,\n",
       "       0.08659942, 0.08693439, 0.08516499, 0.07205475, 0.06534304,\n",
       "       0.07476993, 0.0627913 , 0.0642379 , 0.15433896, 0.09044155,\n",
       "       0.0825703 , 0.09789677, 0.10490785, 0.08614479, 0.10457555,\n",
       "       0.08880749, 0.07543732, 0.10041547, 0.09868495, 0.15331575,\n",
       "       0.08454907, 0.08462085, 0.07551925, 0.09586655, 0.07487516,\n",
       "       0.12411588, 0.09067707, 0.07096602, 0.0924721 , 0.06532027,\n",
       "       0.06338427, 0.07142459, 0.06760504, 0.07987368, 0.12070937,\n",
       "       0.21753241, 0.07313915, 0.07042752, 0.08489616, 0.06294561,\n",
       "       0.11256195, 0.19893618, 0.08253974, 0.08223767, 0.07645027,\n",
       "       0.07631033, 0.06415223, 0.13299825, 0.07947538, 0.10351708,\n",
       "       0.08125546, 0.07317831, 0.06407599, 0.07522001, 0.0652728 ,\n",
       "       0.10084225, 0.06472503, 0.08019457, 0.07896147, 0.08116574,\n",
       "       0.08017651, 0.14436901, 0.08474678, 0.07236778, 0.07472995,\n",
       "       0.06743162, 0.0820733 , 0.15411978, 0.065996  , 0.06410679,\n",
       "       0.09214216, 0.08430036, 0.10815844, 0.06564193, 0.08966764,\n",
       "       0.06316228, 0.09606473, 0.08590533, 0.09026574, 0.08214629,\n",
       "       0.10105182, 0.08618456, 0.0996796 , 0.11055434, 0.16193773,\n",
       "       0.0693435 , 0.11314301, 0.06277381, 0.07018873, 0.11369944,\n",
       "       0.10052867, 0.0702543 , 0.08898971, 0.07274468, 0.07872619,\n",
       "       0.09584617, 0.06968167, 0.10620435, 0.07600296, 0.17228495,\n",
       "       0.062508  , 0.0784156 , 0.07301713, 0.06249448, 0.11323119,\n",
       "       0.06740242, 0.10277449, 0.06768554, 0.12254398, 0.06297783,\n",
       "       0.09114275, 0.08503304, 0.08298564, 0.06473336, 0.15199877,\n",
       "       0.07397226, 0.10688499, 0.13426299, 0.07238268, 0.09216008,\n",
       "       0.15958345, 0.13044557, 0.0707479 , 0.06560014, 0.11290163,\n",
       "       0.09854203, 0.08404688, 0.0679151 , 0.09549636, 0.07155031,\n",
       "       0.09433379, 0.09455198, 0.10245595, 0.1112987 , 0.0758385 ,\n",
       "       0.06379857, 0.06883195, 0.10825918, 0.06691334, 0.1174998 ,\n",
       "       0.13202102, 0.06523941, 0.0680798 , 0.06285679, 0.06820993,\n",
       "       0.07576776, 0.08274376, 0.08096962, 0.07220448, 0.08526915,\n",
       "       0.07238727, 0.17220293, 0.12132402, 0.06262104, 0.10858658,\n",
       "       0.14036992, 0.07218381, 0.07106326, 0.06553022, 0.10133132,\n",
       "       0.08788624, 0.11845632, 0.09541595, 0.21668773, 0.07130081,\n",
       "       0.06285847, 0.06539022, 0.07501496, 0.06608977, 0.08131498,\n",
       "       0.097555  , 0.06912871, 0.12701453, 0.07995706, 0.06955044,\n",
       "       0.1160639 , 0.06345983, 0.07378799, 0.15397838, 0.07563607,\n",
       "       0.0644503 , 0.10512894, 0.0847752 , 0.06286943, 0.07008365,\n",
       "       0.06784719, 0.07572286, 0.07296589, 0.07431321, 0.1150927 ,\n",
       "       0.06546763, 0.08749639, 0.07023401, 0.07039019, 0.06659735,\n",
       "       0.06891049, 0.07233145, 0.0762971 , 0.08582531, 0.09213874,\n",
       "       0.07653837, 0.07424568, 0.10540814, 0.12309813, 0.08019935,\n",
       "       0.06265538, 0.0878157 , 0.14708181, 0.06514359, 0.06917638,\n",
       "       0.08596569, 0.07479582, 0.09084929, 0.06898006, 0.08000106,\n",
       "       0.06515787, 0.09102189, 0.1279691 , 0.14572186, 0.10677686,\n",
       "       0.08032308, 0.19083176, 0.07045735, 0.07747002, 0.07569563,\n",
       "       0.07282721, 0.0740048 , 0.11181868, 0.09134584, 0.16274666,\n",
       "       0.07506784, 0.09999228, 0.09248348, 0.18613358, 0.0946381 ,\n",
       "       0.07160574, 0.07686593, 0.10430473, 0.07607966, 0.08677683,\n",
       "       0.06574188, 0.06445504, 0.07263623, 0.06562535, 0.08587927,\n",
       "       0.12996044, 0.07061238, 0.11294172, 0.13602498, 0.06307964,\n",
       "       0.0747465 , 0.0669885 , 0.06919597, 0.06695823, 0.24703666,\n",
       "       0.0780784 , 0.06625687, 0.09695357, 0.07073449, 0.28827737,\n",
       "       0.06240844, 0.06560252, 0.08982684, 0.07570548, 0.08081126,\n",
       "       0.06991547, 0.14181657, 0.07584948, 0.07854685, 0.06774072,\n",
       "       0.07039702, 0.07267876, 0.06305935, 0.06814074, 0.07450528,\n",
       "       0.15838908, 0.11089671, 0.06530053, 0.06615473, 0.06917425,\n",
       "       0.12750646, 0.0620679 , 0.17926552, 0.09802878, 0.06906626,\n",
       "       0.06886879, 0.07418583, 0.0828221 , 0.09082581, 0.07792771,\n",
       "       0.07236201, 0.10157612, 0.07517997, 0.07629695, 0.07816503,\n",
       "       0.07373587, 0.19674113, 0.07020452, 0.07312952, 0.07262246,\n",
       "       0.06805098, 0.08585253, 0.06416724, 0.07548894, 0.086329  ,\n",
       "       0.07305118, 0.06930107, 0.06606101, 0.0650256 , 0.13455531,\n",
       "       0.09416052, 0.13205331, 0.07654501, 0.09947926, 0.09677109,\n",
       "       0.07562967, 0.07222436, 0.07397824, 0.08804117, 0.0737186 ,\n",
       "       0.0621509 , 0.07196682, 0.07741606, 0.07046141, 0.08546954,\n",
       "       0.1887194 , 0.07126019, 0.06962391, 0.070463  , 0.06806314,\n",
       "       0.07850595, 0.0968245 , 0.07010712, 0.0781829 , 0.06618642,\n",
       "       0.06873327, 0.07954892, 0.07258093, 0.08238975, 0.10129891,\n",
       "       0.08493961, 0.06922975, 0.09473746, 0.08770496, 0.09945717,\n",
       "       0.06694343, 0.16808421, 0.09461285, 0.13499584, 0.07746293,\n",
       "       0.06892765, 0.08107116, 0.07439343, 0.0920727 , 0.07069264,\n",
       "       0.06955897, 0.06591305, 0.09281315, 0.07697144, 0.09429048,\n",
       "       0.1587516 , 0.08886825, 0.09376263, 0.09465389, 0.11095341,\n",
       "       0.07224907, 0.17312076, 0.07419349, 0.06368412, 0.07128943,\n",
       "       0.12796421, 0.07115958, 0.06550777, 0.062748  , 0.09411421,\n",
       "       0.10392895, 0.0973665 , 0.06669717, 0.07916859, 0.13467823,\n",
       "       0.09675148, 0.12623453, 0.10036741, 0.11330977, 0.06803771,\n",
       "       0.09061261, 0.07059464, 0.08918327, 0.06832009, 0.105262  ,\n",
       "       0.18145297, 0.08248786, 0.07302522, 0.07915851, 0.07266314,\n",
       "       0.06885762, 0.06331211, 0.07480593, 0.0797805 , 0.0781937 ,\n",
       "       0.07772151, 0.1696078 , 0.08637662, 0.08749306, 0.12155968,\n",
       "       0.06901856, 0.07042684, 0.12081177, 0.06726281, 0.06329249,\n",
       "       0.15328681, 0.08078431, 0.07608631, 0.12820721, 0.06892856,\n",
       "       0.07220279, 0.17434981, 0.10001078, 0.09136752, 0.0720475 ,\n",
       "       0.0632867 , 0.08818355, 0.06960772, 0.06648438, 0.08950093,\n",
       "       0.07301101, 0.06360669, 0.09637602, 0.07076829, 0.06974272,\n",
       "       0.06757923, 0.07592662, 0.08013011, 0.1614271 , 0.08641516,\n",
       "       0.12592427, 0.11298206, 0.07907658, 0.07327082, 0.12087784,\n",
       "       0.08035997, 0.06869294, 0.11358132, 0.09107256, 0.11903235,\n",
       "       0.08547318, 0.10733217, 0.07586865, 0.10145156, 0.06790969,\n",
       "       0.07403631, 0.10297874, 0.06864714, 0.0733039 , 0.08497063,\n",
       "       0.10407376, 0.09781974, 0.14746597, 0.08063655, 0.06761841,\n",
       "       0.07393366, 0.10109911, 0.11361602, 0.20122012, 0.15291963,\n",
       "       0.10512488, 0.06252405, 0.08508643, 0.12675328, 0.06824073,\n",
       "       0.1063304 , 0.09907621, 0.08180703, 0.10256538, 0.14857571,\n",
       "       0.06210225, 0.1251504 , 0.07135633, 0.08012842, 0.07657087,\n",
       "       0.09563338, 0.07849283, 0.1802632 , 0.0844498 , 0.09148746,\n",
       "       0.13887391, 0.06277668, 0.13141316, 0.08397894, 0.07349469,\n",
       "       0.06667592, 0.12153719, 0.14039027, 0.08134799, 0.1038818 ])"
      ]
     },
     "execution_count": 21,
     "metadata": {},
     "output_type": "execute_result"
    }
   ],
   "source": [
    "EI.predict(X_dict=X_dict, ensemble_model_key=\"LR\")"
   ]
  },
  {
   "cell_type": "code",
   "execution_count": null,
   "metadata": {},
   "outputs": [],
   "source": []
  }
 ],
 "metadata": {
  "kernelspec": {
   "display_name": ".venv",
   "language": "python",
   "name": "python3"
  },
  "language_info": {
   "codemirror_mode": {
    "name": "ipython",
    "version": 3
   },
   "file_extension": ".py",
   "mimetype": "text/x-python",
   "name": "python",
   "nbconvert_exporter": "python",
   "pygments_lexer": "ipython3",
   "version": "3.9.16"
  }
 },
 "nbformat": 4,
 "nbformat_minor": 2
}
