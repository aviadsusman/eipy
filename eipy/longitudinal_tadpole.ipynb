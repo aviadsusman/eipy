{
 "cells": [
  {
   "cell_type": "code",
   "execution_count": 1,
   "metadata": {},
   "outputs": [],
   "source": [
    "from sklearn.ensemble import AdaBoostClassifier, GradientBoostingClassifier, RandomForestClassifier\n",
    "from sklearn.tree import DecisionTreeClassifier\n",
    "from sklearn.neighbors import KNeighborsClassifier\n",
    "from sklearn.linear_model import LogisticRegression\n",
    "from sklearn.naive_bayes import GaussianNB\n",
    "from sklearn.svm import SVC\n",
    "from sklearn.neural_network import MLPClassifier\n",
    "from xgboost import XGBClassifier\n",
    "import pandas as pd\n",
    "import eipy.ei as e\n",
    "from eipy.additional_ensembles import MeanAggregation, CES"
   ]
  },
  {
   "cell_type": "code",
   "execution_count": 2,
   "metadata": {},
   "outputs": [],
   "source": [
    "from eipy.metrics import fmax_score\n",
    "from sklearn.metrics import roc_auc_score, matthews_corrcoef\n",
    "\n",
    "metrics = {\n",
    "            'f_max': fmax_score,\n",
    "            'auc': roc_auc_score,\n",
    "            'mcc': matthews_corrcoef\n",
    "            }"
   ]
  },
  {
   "cell_type": "code",
   "execution_count": 3,
   "metadata": {},
   "outputs": [],
   "source": [
    "base_predictors = {\n",
    "                    'ADAB': AdaBoostClassifier(),\n",
    "                    'XGB': XGBClassifier(),\n",
    "                    'DT': DecisionTreeClassifier(),\n",
    "                    'RF': RandomForestClassifier(),\n",
    "                    'GB': GradientBoostingClassifier(),\n",
    "                    'KNN': KNeighborsClassifier(),\n",
    "                    'LR': LogisticRegression(),\n",
    "                    'NB': GaussianNB(),\n",
    "                    'MLP': MLPClassifier(),\n",
    "                    'SVM': SVC(probability=True),\n",
    "}"
   ]
  },
  {
   "cell_type": "code",
   "execution_count": 4,
   "metadata": {},
   "outputs": [],
   "source": [
    "import pickle as pkl\n",
    "with open(\"/home/opc/eipy/tadpole/tadpole_data_time_imptn_norm_v1.pickle\", \"rb\") as file:\n",
    "    data = pkl.load(file)\n",
    "with open(\"/home/opc/eipy/tadpole/tadpole_labels_time_imptn_norm_v1.pickle\", \"rb\") as file:\n",
    "    labels = pkl.load(file)"
   ]
  },
  {
   "cell_type": "code",
   "execution_count": 5,
   "metadata": {},
   "outputs": [],
   "source": [
    "data = [data[k] for k in data.keys()]"
   ]
  },
  {
   "cell_type": "code",
   "execution_count": null,
   "metadata": {},
   "outputs": [],
   "source": []
  },
  {
   "cell_type": "code",
   "execution_count": 6,
   "metadata": {},
   "outputs": [],
   "source": [
    "for k,v in labels.items():\n",
    "    labels[k] = v.reset_index(drop=True)"
   ]
  },
  {
   "cell_type": "code",
   "execution_count": 7,
   "metadata": {},
   "outputs": [],
   "source": [
    "#intermediate transformation to make sure labels are ordered correctly in time\n",
    "labels = pd.DataFrame(labels)\n",
    "\n",
    "labels = labels.to_numpy()"
   ]
  },
  {
   "cell_type": "code",
   "execution_count": 8,
   "metadata": {},
   "outputs": [],
   "source": [
    "import numpy as np\n",
    "encoding_dict = {'NL': 0, 'MCI': 1, 'Dementia': 2}\n",
    "\n",
    "# Use numpy.vectorize with a lambda function to apply the encoding\n",
    "labels = np.vectorize(lambda x: encoding_dict[x])(labels)"
   ]
  },
  {
   "cell_type": "code",
   "execution_count": 9,
   "metadata": {},
   "outputs": [
    {
     "data": {
      "text/plain": [
       "(702, 5)"
      ]
     },
     "execution_count": 9,
     "metadata": {},
     "output_type": "execute_result"
    }
   ],
   "source": [
    "labels.shape"
   ]
  },
  {
   "cell_type": "code",
   "execution_count": 275,
   "metadata": {},
   "outputs": [
    {
     "name": "stdout",
     "output_type": "stream",
     "text": [
      "1    502\n",
      "0    200\n",
      "Name: count, dtype: int64\n",
      "1    480\n",
      "0    195\n",
      "2     27\n",
      "Name: count, dtype: int64\n",
      "1    451\n",
      "0    192\n",
      "2     59\n",
      "Name: count, dtype: int64\n",
      "1    378\n",
      "0    188\n",
      "2    136\n",
      "Name: count, dtype: int64\n",
      "1    348\n",
      "2    178\n",
      "0    176\n",
      "Name: count, dtype: int64\n"
     ]
    }
   ],
   "source": [
    "for i in range(5):\n",
    "    print(pd.Series(labels[:,i]).value_counts())"
   ]
  },
  {
   "cell_type": "code",
   "execution_count": 10,
   "metadata": {},
   "outputs": [
    {
     "name": "stdout",
     "output_type": "stream",
     "text": [
      "generating metadata for timestep 0\n",
      "Training base predictors on Main cognitive tests...\n",
      "        \n",
      "... for ensemble performance analysis...\n"
     ]
    },
    {
     "name": "stderr",
     "output_type": "stream",
     "text": [
      "Generating ensemble training data: |██████████|100%\n",
      "Generating ensemble test data: |██████████|100%\n"
     ]
    },
    {
     "name": "stdout",
     "output_type": "stream",
     "text": [
      "\n",
      "\n",
      "Training base predictors on MRI volumes...\n",
      "        \n",
      "... for ensemble performance analysis...\n"
     ]
    },
    {
     "name": "stderr",
     "output_type": "stream",
     "text": [
      "Generating ensemble training data: |██████████|100%\n",
      "Generating ensemble test data: |██████████|100%\n"
     ]
    },
    {
     "name": "stdout",
     "output_type": "stream",
     "text": [
      "\n",
      "\n",
      "Training base predictors on Demo, APOE4 & others...\n",
      "        \n",
      "... for ensemble performance analysis...\n"
     ]
    },
    {
     "name": "stderr",
     "output_type": "stream",
     "text": [
      "Generating ensemble training data: |██████████|100%\n",
      "Generating ensemble test data: |██████████|100%\n"
     ]
    },
    {
     "name": "stdout",
     "output_type": "stream",
     "text": [
      "\n",
      "\n",
      "Training base predictors on MRI ROI: Volume (WM Parcellation)...\n",
      "        \n",
      "... for ensemble performance analysis...\n"
     ]
    },
    {
     "name": "stderr",
     "output_type": "stream",
     "text": [
      "Generating ensemble training data: |██████████|100%\n",
      "Generating ensemble test data: |██████████|100%\n"
     ]
    },
    {
     "name": "stdout",
     "output_type": "stream",
     "text": [
      "\n",
      "\n",
      "Training base predictors on MRI ROI: Volume (Cortical Parcellation)...\n",
      "        \n",
      "... for ensemble performance analysis...\n"
     ]
    },
    {
     "name": "stderr",
     "output_type": "stream",
     "text": [
      "Generating ensemble training data: |██████████|100%\n",
      "Generating ensemble test data: |██████████|100%\n"
     ]
    },
    {
     "name": "stdout",
     "output_type": "stream",
     "text": [
      "\n",
      "\n",
      "Training base predictors on MRI ROI: Surface Area...\n",
      "        \n",
      "... for ensemble performance analysis...\n"
     ]
    },
    {
     "name": "stderr",
     "output_type": "stream",
     "text": [
      "Generating ensemble training data: |██████████|100%\n",
      "Generating ensemble test data: |██████████|100%\n"
     ]
    },
    {
     "name": "stdout",
     "output_type": "stream",
     "text": [
      "\n",
      "\n",
      "Training base predictors on MRI ROI: Cortical Thickness Average...\n",
      "        \n",
      "... for ensemble performance analysis...\n"
     ]
    },
    {
     "name": "stderr",
     "output_type": "stream",
     "text": [
      "Generating ensemble training data: |██████████|100%\n",
      "Generating ensemble test data: |██████████|100%\n"
     ]
    },
    {
     "name": "stdout",
     "output_type": "stream",
     "text": [
      "\n",
      "\n",
      "Training base predictors on MRI ROI: Cortical Thickness Standard Deviation...\n",
      "        \n",
      "... for ensemble performance analysis...\n"
     ]
    },
    {
     "name": "stderr",
     "output_type": "stream",
     "text": [
      "Generating ensemble training data: |██████████|100%\n",
      "Generating ensemble test data: |██████████|100%\n"
     ]
    },
    {
     "name": "stdout",
     "output_type": "stream",
     "text": [
      "\n",
      "\n",
      "generating metadata for timestep 1\n",
      "Training base predictors on Main cognitive tests...\n",
      "        \n",
      "... for ensemble performance analysis...\n"
     ]
    },
    {
     "name": "stderr",
     "output_type": "stream",
     "text": [
      "Generating ensemble training data: |██████████|100%\n",
      "Generating ensemble test data: |██████████|100%\n"
     ]
    },
    {
     "name": "stdout",
     "output_type": "stream",
     "text": [
      "\n",
      "\n",
      "Training base predictors on MRI volumes...\n",
      "        \n",
      "... for ensemble performance analysis...\n"
     ]
    },
    {
     "name": "stderr",
     "output_type": "stream",
     "text": [
      "Generating ensemble training data: |██████████|100%\n",
      "Generating ensemble test data: |██████████|100%\n"
     ]
    },
    {
     "name": "stdout",
     "output_type": "stream",
     "text": [
      "\n",
      "\n",
      "Training base predictors on Demo, APOE4 & others...\n",
      "        \n",
      "... for ensemble performance analysis...\n"
     ]
    },
    {
     "name": "stderr",
     "output_type": "stream",
     "text": [
      "Generating ensemble training data: |██████████|100%\n",
      "Generating ensemble test data: |██████████|100%\n"
     ]
    },
    {
     "name": "stdout",
     "output_type": "stream",
     "text": [
      "\n",
      "\n",
      "Training base predictors on MRI ROI: Volume (WM Parcellation)...\n",
      "        \n",
      "... for ensemble performance analysis...\n"
     ]
    },
    {
     "name": "stderr",
     "output_type": "stream",
     "text": [
      "Generating ensemble training data: |██████████|100%\n",
      "Generating ensemble test data: |██████████|100%\n"
     ]
    },
    {
     "name": "stdout",
     "output_type": "stream",
     "text": [
      "\n",
      "\n",
      "Training base predictors on MRI ROI: Volume (Cortical Parcellation)...\n",
      "        \n",
      "... for ensemble performance analysis...\n"
     ]
    },
    {
     "name": "stderr",
     "output_type": "stream",
     "text": [
      "Generating ensemble training data: |██████████|100%\n",
      "Generating ensemble test data: |██████████|100%\n"
     ]
    },
    {
     "name": "stdout",
     "output_type": "stream",
     "text": [
      "\n",
      "\n",
      "Training base predictors on MRI ROI: Surface Area...\n",
      "        \n",
      "... for ensemble performance analysis...\n"
     ]
    },
    {
     "name": "stderr",
     "output_type": "stream",
     "text": [
      "Generating ensemble training data: |██████████|100%\n",
      "Generating ensemble test data: |██████████|100%\n"
     ]
    },
    {
     "name": "stdout",
     "output_type": "stream",
     "text": [
      "\n",
      "\n",
      "Training base predictors on MRI ROI: Cortical Thickness Average...\n",
      "        \n",
      "... for ensemble performance analysis...\n"
     ]
    },
    {
     "name": "stderr",
     "output_type": "stream",
     "text": [
      "Generating ensemble training data: |██████████|100%\n",
      "Generating ensemble test data: |██████████|100%\n"
     ]
    },
    {
     "name": "stdout",
     "output_type": "stream",
     "text": [
      "\n",
      "\n",
      "Training base predictors on MRI ROI: Cortical Thickness Standard Deviation...\n",
      "        \n",
      "... for ensemble performance analysis...\n"
     ]
    },
    {
     "name": "stderr",
     "output_type": "stream",
     "text": [
      "Generating ensemble training data: |██████████|100%\n",
      "Generating ensemble test data: |██████████|100%\n"
     ]
    },
    {
     "name": "stdout",
     "output_type": "stream",
     "text": [
      "\n",
      "\n",
      "generating metadata for timestep 2\n",
      "Training base predictors on Main cognitive tests...\n",
      "        \n",
      "... for ensemble performance analysis...\n"
     ]
    },
    {
     "name": "stderr",
     "output_type": "stream",
     "text": [
      "Generating ensemble training data: |██████████|100%\n",
      "Generating ensemble test data: |██████████|100%\n"
     ]
    },
    {
     "name": "stdout",
     "output_type": "stream",
     "text": [
      "\n",
      "\n",
      "Training base predictors on MRI volumes...\n",
      "        \n",
      "... for ensemble performance analysis...\n"
     ]
    },
    {
     "name": "stderr",
     "output_type": "stream",
     "text": [
      "Generating ensemble training data: |██████████|100%\n",
      "Generating ensemble test data: |██████████|100%\n"
     ]
    },
    {
     "name": "stdout",
     "output_type": "stream",
     "text": [
      "\n",
      "\n",
      "Training base predictors on Demo, APOE4 & others...\n",
      "        \n",
      "... for ensemble performance analysis...\n"
     ]
    },
    {
     "name": "stderr",
     "output_type": "stream",
     "text": [
      "Generating ensemble training data: |██████████|100%\n",
      "Generating ensemble test data: |██████████|100%\n"
     ]
    },
    {
     "name": "stdout",
     "output_type": "stream",
     "text": [
      "\n",
      "\n",
      "Training base predictors on MRI ROI: Volume (WM Parcellation)...\n",
      "        \n",
      "... for ensemble performance analysis...\n"
     ]
    },
    {
     "name": "stderr",
     "output_type": "stream",
     "text": [
      "Generating ensemble training data: |██████████|100%\n",
      "Generating ensemble test data: |██████████|100%\n"
     ]
    },
    {
     "name": "stdout",
     "output_type": "stream",
     "text": [
      "\n",
      "\n",
      "Training base predictors on MRI ROI: Volume (Cortical Parcellation)...\n",
      "        \n",
      "... for ensemble performance analysis...\n"
     ]
    },
    {
     "name": "stderr",
     "output_type": "stream",
     "text": [
      "Generating ensemble training data: |██████████|100%\n",
      "Generating ensemble test data: |██████████|100%\n"
     ]
    },
    {
     "name": "stdout",
     "output_type": "stream",
     "text": [
      "\n",
      "\n",
      "Training base predictors on MRI ROI: Surface Area...\n",
      "        \n",
      "... for ensemble performance analysis...\n"
     ]
    },
    {
     "name": "stderr",
     "output_type": "stream",
     "text": [
      "Generating ensemble training data: |██████████|100%\n",
      "Generating ensemble test data: |██████████|100%\n"
     ]
    },
    {
     "name": "stdout",
     "output_type": "stream",
     "text": [
      "\n",
      "\n",
      "Training base predictors on MRI ROI: Cortical Thickness Average...\n",
      "        \n",
      "... for ensemble performance analysis...\n"
     ]
    },
    {
     "name": "stderr",
     "output_type": "stream",
     "text": [
      "Generating ensemble training data: |██████████|100%\n",
      "Generating ensemble test data: |██████████|100%\n"
     ]
    },
    {
     "name": "stdout",
     "output_type": "stream",
     "text": [
      "\n",
      "\n",
      "Training base predictors on MRI ROI: Cortical Thickness Standard Deviation...\n",
      "        \n",
      "... for ensemble performance analysis...\n"
     ]
    },
    {
     "name": "stderr",
     "output_type": "stream",
     "text": [
      "Generating ensemble training data: |██████████|100%\n",
      "Generating ensemble test data: |██████████|100%\n"
     ]
    },
    {
     "name": "stdout",
     "output_type": "stream",
     "text": [
      "\n",
      "\n",
      "generating metadata for timestep 3\n",
      "Training base predictors on Main cognitive tests...\n",
      "        \n",
      "... for ensemble performance analysis...\n"
     ]
    },
    {
     "name": "stderr",
     "output_type": "stream",
     "text": [
      "Generating ensemble training data: |██████████|100%\n",
      "Generating ensemble test data: |██████████|100%\n"
     ]
    },
    {
     "name": "stdout",
     "output_type": "stream",
     "text": [
      "\n",
      "\n",
      "Training base predictors on MRI volumes...\n",
      "        \n",
      "... for ensemble performance analysis...\n"
     ]
    },
    {
     "name": "stderr",
     "output_type": "stream",
     "text": [
      "Generating ensemble training data: |██████████|100%\n",
      "Generating ensemble test data: |██████████|100%\n"
     ]
    },
    {
     "name": "stdout",
     "output_type": "stream",
     "text": [
      "\n",
      "\n",
      "Training base predictors on Demo, APOE4 & others...\n",
      "        \n",
      "... for ensemble performance analysis...\n"
     ]
    },
    {
     "name": "stderr",
     "output_type": "stream",
     "text": [
      "Generating ensemble training data: |██████████|100%\n",
      "Generating ensemble test data: |██████████|100%\n"
     ]
    },
    {
     "name": "stdout",
     "output_type": "stream",
     "text": [
      "\n",
      "\n",
      "Training base predictors on MRI ROI: Volume (WM Parcellation)...\n",
      "        \n",
      "... for ensemble performance analysis...\n"
     ]
    },
    {
     "name": "stderr",
     "output_type": "stream",
     "text": [
      "Generating ensemble training data: |██████████|100%\n",
      "Generating ensemble test data: |██████████|100%\n"
     ]
    },
    {
     "name": "stdout",
     "output_type": "stream",
     "text": [
      "\n",
      "\n",
      "Training base predictors on MRI ROI: Volume (Cortical Parcellation)...\n",
      "        \n",
      "... for ensemble performance analysis...\n"
     ]
    },
    {
     "name": "stderr",
     "output_type": "stream",
     "text": [
      "Generating ensemble training data: |██████████|100%\n",
      "Generating ensemble test data: |██████████|100%\n"
     ]
    },
    {
     "name": "stdout",
     "output_type": "stream",
     "text": [
      "\n",
      "\n",
      "Training base predictors on MRI ROI: Surface Area...\n",
      "        \n",
      "... for ensemble performance analysis...\n"
     ]
    },
    {
     "name": "stderr",
     "output_type": "stream",
     "text": [
      "Generating ensemble training data: |██████████|100%\n",
      "Generating ensemble test data: |██████████|100%\n"
     ]
    },
    {
     "name": "stdout",
     "output_type": "stream",
     "text": [
      "\n",
      "\n",
      "Training base predictors on MRI ROI: Cortical Thickness Average...\n",
      "        \n",
      "... for ensemble performance analysis...\n"
     ]
    },
    {
     "name": "stderr",
     "output_type": "stream",
     "text": [
      "Generating ensemble training data: |██████████|100%\n",
      "Generating ensemble test data: |██████████|100%\n"
     ]
    },
    {
     "name": "stdout",
     "output_type": "stream",
     "text": [
      "\n",
      "\n",
      "Training base predictors on MRI ROI: Cortical Thickness Standard Deviation...\n",
      "        \n",
      "... for ensemble performance analysis...\n"
     ]
    },
    {
     "name": "stderr",
     "output_type": "stream",
     "text": [
      "Generating ensemble training data: |██████████|100%\n",
      "Generating ensemble test data: |██████████|100%\n"
     ]
    },
    {
     "name": "stdout",
     "output_type": "stream",
     "text": [
      "\n",
      "\n",
      "generating metadata for timestep 4\n",
      "Training base predictors on Main cognitive tests...\n",
      "        \n",
      "... for ensemble performance analysis...\n"
     ]
    },
    {
     "name": "stderr",
     "output_type": "stream",
     "text": [
      "Generating ensemble training data: |██████████|100%\n",
      "Generating ensemble test data: |██████████|100%\n"
     ]
    },
    {
     "name": "stdout",
     "output_type": "stream",
     "text": [
      "\n",
      "\n",
      "Training base predictors on MRI volumes...\n",
      "        \n",
      "... for ensemble performance analysis...\n"
     ]
    },
    {
     "name": "stderr",
     "output_type": "stream",
     "text": [
      "Generating ensemble training data: |██████████|100%\n",
      "Generating ensemble test data: |██████████|100%\n"
     ]
    },
    {
     "name": "stdout",
     "output_type": "stream",
     "text": [
      "\n",
      "\n",
      "Training base predictors on Demo, APOE4 & others...\n",
      "        \n",
      "... for ensemble performance analysis...\n"
     ]
    },
    {
     "name": "stderr",
     "output_type": "stream",
     "text": [
      "Generating ensemble training data: |██████████|100%\n",
      "Generating ensemble test data: |██████████|100%\n"
     ]
    },
    {
     "name": "stdout",
     "output_type": "stream",
     "text": [
      "\n",
      "\n",
      "Training base predictors on MRI ROI: Volume (WM Parcellation)...\n",
      "        \n",
      "... for ensemble performance analysis...\n"
     ]
    },
    {
     "name": "stderr",
     "output_type": "stream",
     "text": [
      "Generating ensemble training data: |██████████|100%\n",
      "Generating ensemble test data: |██████████|100%\n"
     ]
    },
    {
     "name": "stdout",
     "output_type": "stream",
     "text": [
      "\n",
      "\n",
      "Training base predictors on MRI ROI: Volume (Cortical Parcellation)...\n",
      "        \n",
      "... for ensemble performance analysis...\n"
     ]
    },
    {
     "name": "stderr",
     "output_type": "stream",
     "text": [
      "Generating ensemble training data: |██████████|100%\n",
      "Generating ensemble test data: |██████████|100%\n"
     ]
    },
    {
     "name": "stdout",
     "output_type": "stream",
     "text": [
      "\n",
      "\n",
      "Training base predictors on MRI ROI: Surface Area...\n",
      "        \n",
      "... for ensemble performance analysis...\n"
     ]
    },
    {
     "name": "stderr",
     "output_type": "stream",
     "text": [
      "Generating ensemble training data: |██████████|100%\n",
      "Generating ensemble test data: |██████████|100%\n"
     ]
    },
    {
     "name": "stdout",
     "output_type": "stream",
     "text": [
      "\n",
      "\n",
      "Training base predictors on MRI ROI: Cortical Thickness Average...\n",
      "        \n",
      "... for ensemble performance analysis...\n"
     ]
    },
    {
     "name": "stderr",
     "output_type": "stream",
     "text": [
      "Generating ensemble training data: |██████████|100%\n",
      "Generating ensemble test data: |██████████|100%\n"
     ]
    },
    {
     "name": "stdout",
     "output_type": "stream",
     "text": [
      "\n",
      "\n",
      "Training base predictors on MRI ROI: Cortical Thickness Standard Deviation...\n",
      "        \n",
      "... for ensemble performance analysis...\n"
     ]
    },
    {
     "name": "stderr",
     "output_type": "stream",
     "text": [
      "Generating ensemble training data: |██████████|100%\n",
      "Generating ensemble test data: |██████████|100%\n"
     ]
    },
    {
     "name": "stdout",
     "output_type": "stream",
     "text": [
      "\n",
      "\n"
     ]
    }
   ],
   "source": [
    "meta_data = []\n",
    "for t in range(len(data)):\n",
    "    #time dependent data splitting\n",
    "    X_train_timestep = data[t]\n",
    "    labels_at_timestep = labels[:, t]\n",
    "    EI_for_timestep = e.EnsembleIntegration(\n",
    "                        base_predictors=base_predictors,\n",
    "                        k_outer=5,\n",
    "                        k_inner=5,\n",
    "                        n_samples=1,\n",
    "                        sampling_strategy=None,\n",
    "                        sampling_aggregation=\"mean\",\n",
    "                        n_jobs=-1,\n",
    "                        metrics=metrics,\n",
    "                        random_state=38,\n",
    "                        project_name=f\"time step {t}\",\n",
    "                        model_building=False,\n",
    "                        )\n",
    "    print(f\"generating metadata for timestep {t}\")\n",
    "    EI_for_timestep.fit_base(X_train_timestep, labels_at_timestep)\n",
    "    meta_data.append([EI_for_timestep.ensemble_training_data, EI_for_timestep.ensemble_test_data, EI_for_timestep.ensemble_training_data_final, EI_for_timestep.base_summary])\n"
   ]
  },
  {
   "cell_type": "code",
   "execution_count": 290,
   "metadata": {},
   "outputs": [],
   "source": [
    "RNN_training_data = [[dfs[0][i] for dfs in meta_data] for i in range(5)]\n",
    "RNN_test_data = [[dfs[1][i] for dfs in meta_data] for i in range(5)]\n",
    "RNN_training_data_final = [df[2] for df in meta_data]"
   ]
  },
  {
   "cell_type": "markdown",
   "metadata": {},
   "source": [
    "### make first time point in meta-data multiclass"
   ]
  },
  {
   "cell_type": "code",
   "execution_count": 291,
   "metadata": {},
   "outputs": [],
   "source": [
    "def get_column_names(frame):\n",
    "    column_names = []\n",
    "    for i in range(frame.columns.nlevels):\n",
    "        if i == 0:\n",
    "            column_names.append(frame.columns.get_level_values(i).unique().drop(\"labels\"))\n",
    "            \n",
    "        else:\n",
    "            column_names.append(frame.columns.get_level_values(i).unique().drop(''))\n",
    "    \n",
    "    return column_names"
   ]
  },
  {
   "cell_type": "code",
   "execution_count": 292,
   "metadata": {},
   "outputs": [],
   "source": [
    "def fix_first_time_point(df):\n",
    "    new_columns = get_column_names(df)\n",
    "    classes=[0,1,2]\n",
    "    new_columns.append(classes)\n",
    "    new_mux=pd.MultiIndex.from_product(iterables=new_columns, names=[\"modality\", \"base predictor\", \"sample\", \"class\"])\n",
    "    new_df = pd.DataFrame(columns=new_mux)\n",
    "\n",
    "    for col in new_df.columns:\n",
    "        if col[-1] == 0:\n",
    "            new_df[col] = 1 - df[col[:-1]]\n",
    "        elif col[-1] == 1:\n",
    "            new_df[col] = df[col[:-1]]\n",
    "        else:\n",
    "            new_df[col] = 0\n",
    "    \n",
    "    new_df['labels'] = df['labels']\n",
    "\n",
    "    return new_df"
   ]
  },
  {
   "cell_type": "code",
   "execution_count": 293,
   "metadata": {},
   "outputs": [
    {
     "name": "stderr",
     "output_type": "stream",
     "text": [
      "/tmp/ipykernel_1584267/2424389332.py:16: PerformanceWarning: DataFrame is highly fragmented.  This is usually the result of calling `frame.insert` many times, which has poor performance.  Consider joining all columns at once using pd.concat(axis=1) instead. To get a de-fragmented frame, use `newframe = frame.copy()`\n",
      "  new_df['labels'] = df['labels']\n",
      "/tmp/ipykernel_1584267/2424389332.py:16: PerformanceWarning: DataFrame is highly fragmented.  This is usually the result of calling `frame.insert` many times, which has poor performance.  Consider joining all columns at once using pd.concat(axis=1) instead. To get a de-fragmented frame, use `newframe = frame.copy()`\n",
      "  new_df['labels'] = df['labels']\n",
      "/tmp/ipykernel_1584267/2424389332.py:16: PerformanceWarning: DataFrame is highly fragmented.  This is usually the result of calling `frame.insert` many times, which has poor performance.  Consider joining all columns at once using pd.concat(axis=1) instead. To get a de-fragmented frame, use `newframe = frame.copy()`\n",
      "  new_df['labels'] = df['labels']\n",
      "/tmp/ipykernel_1584267/2424389332.py:16: PerformanceWarning: DataFrame is highly fragmented.  This is usually the result of calling `frame.insert` many times, which has poor performance.  Consider joining all columns at once using pd.concat(axis=1) instead. To get a de-fragmented frame, use `newframe = frame.copy()`\n",
      "  new_df['labels'] = df['labels']\n",
      "/tmp/ipykernel_1584267/2424389332.py:16: PerformanceWarning: DataFrame is highly fragmented.  This is usually the result of calling `frame.insert` many times, which has poor performance.  Consider joining all columns at once using pd.concat(axis=1) instead. To get a de-fragmented frame, use `newframe = frame.copy()`\n",
      "  new_df['labels'] = df['labels']\n",
      "/tmp/ipykernel_1584267/2424389332.py:16: PerformanceWarning: DataFrame is highly fragmented.  This is usually the result of calling `frame.insert` many times, which has poor performance.  Consider joining all columns at once using pd.concat(axis=1) instead. To get a de-fragmented frame, use `newframe = frame.copy()`\n",
      "  new_df['labels'] = df['labels']\n",
      "/tmp/ipykernel_1584267/2424389332.py:16: PerformanceWarning: DataFrame is highly fragmented.  This is usually the result of calling `frame.insert` many times, which has poor performance.  Consider joining all columns at once using pd.concat(axis=1) instead. To get a de-fragmented frame, use `newframe = frame.copy()`\n",
      "  new_df['labels'] = df['labels']\n",
      "/tmp/ipykernel_1584267/2424389332.py:16: PerformanceWarning: DataFrame is highly fragmented.  This is usually the result of calling `frame.insert` many times, which has poor performance.  Consider joining all columns at once using pd.concat(axis=1) instead. To get a de-fragmented frame, use `newframe = frame.copy()`\n",
      "  new_df['labels'] = df['labels']\n",
      "/tmp/ipykernel_1584267/2424389332.py:16: PerformanceWarning: DataFrame is highly fragmented.  This is usually the result of calling `frame.insert` many times, which has poor performance.  Consider joining all columns at once using pd.concat(axis=1) instead. To get a de-fragmented frame, use `newframe = frame.copy()`\n",
      "  new_df['labels'] = df['labels']\n",
      "/tmp/ipykernel_1584267/2424389332.py:16: PerformanceWarning: DataFrame is highly fragmented.  This is usually the result of calling `frame.insert` many times, which has poor performance.  Consider joining all columns at once using pd.concat(axis=1) instead. To get a de-fragmented frame, use `newframe = frame.copy()`\n",
      "  new_df['labels'] = df['labels']\n"
     ]
    }
   ],
   "source": [
    "for i in range(len(RNN_training_data)):\n",
    "    RNN_training_data[i][0] = fix_first_time_point(RNN_training_data[i][0])\n",
    "    RNN_test_data[i][0] = fix_first_time_point(RNN_test_data[i][0])"
   ]
  },
  {
   "cell_type": "code",
   "execution_count": 302,
   "metadata": {},
   "outputs": [],
   "source": [
    "from keras.models import Sequential\n",
    "from keras.layers import LSTM,Dense\n",
    "lstm = Sequential()\n",
    "lstm.add(LSTM(units=50, input_shape=(5,240), return_sequences=True))\n",
    "lstm.add(Dense(units=3, activation='softmax'))\n",
    "lstm.compile(optimizer='adam', loss='categorical_crossentropy', metrics=['accuracy'])"
   ]
  },
  {
   "cell_type": "code",
   "execution_count": 303,
   "metadata": {},
   "outputs": [
    {
     "name": "stderr",
     "output_type": "stream",
     "text": [
      "/tmp/ipykernel_1584267/3162834563.py:9: PerformanceWarning: dropping on a non-lexsorted multi-index without a level parameter may impact performance.\n",
      "  RNN_training_data_fold = [data.drop(columns=[\"labels\"], axis=1) for data in RNN_training_data[i]]\n"
     ]
    },
    {
     "name": "stdout",
     "output_type": "stream",
     "text": [
      "18/18 [==============================] - 2s 3ms/step - loss: 0.8807 - accuracy: 0.5911\n"
     ]
    },
    {
     "name": "stderr",
     "output_type": "stream",
     "text": [
      "/tmp/ipykernel_1584267/3162834563.py:17: PerformanceWarning: dropping on a non-lexsorted multi-index without a level parameter may impact performance.\n",
      "  RNN_test_data_fold = [data.drop(columns=[\"labels\"], axis=1) for data in RNN_test_data[i]]\n"
     ]
    },
    {
     "name": "stdout",
     "output_type": "stream",
     "text": [
      "5/5 [==============================] - 0s 2ms/step\n",
      "18/18 [==============================] - 0s 3ms/step - loss: 0.5882 - accuracy: 0.8182\n",
      "5/5 [==============================] - 0s 2ms/step\n",
      "18/18 [==============================] - 0s 3ms/step - loss: 0.4240 - accuracy: 0.8687\n",
      "5/5 [==============================] - 0s 2ms/step\n",
      "18/18 [==============================] - 0s 3ms/step - loss: 0.3419 - accuracy: 0.8954\n",
      "5/5 [==============================] - 0s 2ms/step\n",
      "18/18 [==============================] - 0s 3ms/step - loss: 0.3064 - accuracy: 0.8986\n",
      "5/5 [==============================] - 0s 2ms/step\n"
     ]
    }
   ],
   "source": [
    "from keras.utils import to_categorical\n",
    "\n",
    "y_preds = []\n",
    "for i in range(len(RNN_training_data)):\n",
    "    \n",
    "    labels_across_time = np.column_stack([df['labels'].values for df in RNN_training_data[i]])\n",
    "    labels_across_time = np.eye(3)[labels_across_time]\n",
    "\n",
    "    RNN_training_data_fold = [data.drop(columns=[\"labels\"], axis=1) for data in RNN_training_data[i]]\n",
    "    data_arrays_per_timepoint = [df.to_numpy() for df in RNN_training_data_fold]\n",
    "    tensor_3d = np.stack(data_arrays_per_timepoint, axis=0)\n",
    "    tensor_3d = np.transpose(tensor_3d, (1,0,2))\n",
    "    \n",
    "\n",
    "    lstm.fit(tensor_3d, labels_across_time)\n",
    "\n",
    "    RNN_test_data_fold = [data.drop(columns=[\"labels\"], axis=1) for data in RNN_test_data[i]]\n",
    "    data_arrays_per_timepoint_test = [df.to_numpy() for df in RNN_test_data_fold]\n",
    "    tensor_3d_test = np.stack(data_arrays_per_timepoint_test, axis=0)\n",
    "    tensor_3d_test = np.transpose(tensor_3d_test, (1,0,2))\n",
    "\n",
    "    y_preds.append(lstm.predict(tensor_3d_test))\n",
    "\n"
   ]
  },
  {
   "cell_type": "code",
   "execution_count": 304,
   "metadata": {},
   "outputs": [
    {
     "data": {
      "text/plain": [
       "array([[0.2892171 , 0.55862945, 0.15215343],\n",
       "       [0.50869006, 0.34574533, 0.14556473],\n",
       "       [0.43819684, 0.4228513 , 0.13895188],\n",
       "       [0.4513141 , 0.3999439 , 0.14874193],\n",
       "       [0.4006186 , 0.44250277, 0.15687862],\n",
       "       [0.4422505 , 0.4032001 , 0.15454942],\n",
       "       [0.5173019 , 0.31166005, 0.17103796],\n",
       "       [0.4365838 , 0.4230678 , 0.14034826],\n",
       "       [0.28535244, 0.5920469 , 0.12260057],\n",
       "       [0.48393804, 0.34801358, 0.16804838],\n",
       "       [0.51637983, 0.34004176, 0.14357844],\n",
       "       [0.24066319, 0.63235205, 0.12698469],\n",
       "       [0.47202122, 0.35804096, 0.1699377 ],\n",
       "       [0.3278752 , 0.5234721 , 0.14865282],\n",
       "       [0.24992186, 0.6335824 , 0.11649568],\n",
       "       [0.3698078 , 0.48064047, 0.14955173],\n",
       "       [0.25639412, 0.61504775, 0.12855807],\n",
       "       [0.2340338 , 0.64874464, 0.11722147],\n",
       "       [0.24333149, 0.6153802 , 0.14128833],\n",
       "       [0.25898972, 0.606531  , 0.13447928],\n",
       "       [0.49671724, 0.34253013, 0.1607526 ],\n",
       "       [0.5274381 , 0.32509467, 0.14746724],\n",
       "       [0.3681478 , 0.48914835, 0.14270379],\n",
       "       [0.4434361 , 0.4170475 , 0.13951646],\n",
       "       [0.4582895 , 0.38317797, 0.15853253],\n",
       "       [0.23816745, 0.6407314 , 0.12110113],\n",
       "       [0.417432  , 0.44488785, 0.13768013],\n",
       "       [0.47103998, 0.36715332, 0.16180663],\n",
       "       [0.2614176 , 0.61957794, 0.11900443],\n",
       "       [0.520626  , 0.32614893, 0.15322506],\n",
       "       [0.24689285, 0.6304001 , 0.12270696],\n",
       "       [0.22778857, 0.6522806 , 0.1199308 ],\n",
       "       [0.27116954, 0.6012235 , 0.12760693],\n",
       "       [0.36215097, 0.47422212, 0.16362685],\n",
       "       [0.4958058 , 0.34772432, 0.15646993],\n",
       "       [0.27272055, 0.60355604, 0.12372337],\n",
       "       [0.2875594 , 0.5604709 , 0.15196963],\n",
       "       [0.23916526, 0.63011503, 0.13071972],\n",
       "       [0.46092337, 0.38158557, 0.15749104],\n",
       "       [0.45891008, 0.3812362 , 0.15985368],\n",
       "       [0.51134706, 0.32308617, 0.16556679],\n",
       "       [0.4337813 , 0.4174124 , 0.1488064 ],\n",
       "       [0.4750283 , 0.368135  , 0.1568368 ],\n",
       "       [0.28324538, 0.56200105, 0.15475348],\n",
       "       [0.49292326, 0.33996525, 0.16711152],\n",
       "       [0.30479935, 0.5518062 , 0.1433944 ],\n",
       "       [0.2515658 , 0.60314196, 0.14529228],\n",
       "       [0.48606932, 0.35283586, 0.1610948 ],\n",
       "       [0.42215753, 0.41989422, 0.15794821],\n",
       "       [0.24614762, 0.62908244, 0.12476985],\n",
       "       [0.48936328, 0.34176916, 0.16886756],\n",
       "       [0.23949099, 0.63034594, 0.13016309],\n",
       "       [0.46994868, 0.3582304 , 0.17182094],\n",
       "       [0.26221347, 0.6017389 , 0.13604754],\n",
       "       [0.30862796, 0.5432151 , 0.14815696],\n",
       "       [0.47119445, 0.3728453 , 0.15596023],\n",
       "       [0.47991475, 0.3619374 , 0.15814789],\n",
       "       [0.46173558, 0.37958246, 0.15868197],\n",
       "       [0.5385391 , 0.31045458, 0.15100642],\n",
       "       [0.28668615, 0.5918191 , 0.12149476],\n",
       "       [0.36072728, 0.4845114 , 0.15476127],\n",
       "       [0.29984057, 0.5598128 , 0.14034665],\n",
       "       [0.26157683, 0.6079425 , 0.13048063],\n",
       "       [0.25085214, 0.62685424, 0.12229371],\n",
       "       [0.27581167, 0.58288646, 0.14130199],\n",
       "       [0.27732128, 0.59847814, 0.1242006 ],\n",
       "       [0.24879877, 0.6300304 , 0.12117083],\n",
       "       [0.25494996, 0.62106377, 0.12398629],\n",
       "       [0.21047254, 0.67346865, 0.1160588 ],\n",
       "       [0.2574621 , 0.61281735, 0.1297205 ],\n",
       "       [0.28265664, 0.57185185, 0.14549154],\n",
       "       [0.2221844 , 0.65933305, 0.11848258],\n",
       "       [0.28032368, 0.5784483 , 0.14122805],\n",
       "       [0.25928697, 0.61500895, 0.12570415],\n",
       "       [0.22811687, 0.65741616, 0.11446688],\n",
       "       [0.22955832, 0.6453462 , 0.12509538],\n",
       "       [0.22134714, 0.6556414 , 0.1230114 ],\n",
       "       [0.24227446, 0.6312645 , 0.126461  ],\n",
       "       [0.21429698, 0.66259855, 0.12310449],\n",
       "       [0.2945451 , 0.5666339 , 0.138821  ],\n",
       "       [0.23844789, 0.62798107, 0.13357106],\n",
       "       [0.28799143, 0.5755367 , 0.13647169],\n",
       "       [0.24072893, 0.641     , 0.11827108],\n",
       "       [0.42197704, 0.42272052, 0.15530248],\n",
       "       [0.25535616, 0.62320477, 0.1214391 ],\n",
       "       [0.27951416, 0.5847075 , 0.13577834],\n",
       "       [0.2654632 , 0.59892577, 0.13561104],\n",
       "       [0.24879143, 0.6278739 , 0.1233347 ],\n",
       "       [0.23817948, 0.6445098 , 0.11731075],\n",
       "       [0.24189278, 0.6359109 , 0.12219638],\n",
       "       [0.24864602, 0.62652713, 0.12482675],\n",
       "       [0.25421315, 0.62105614, 0.12473071],\n",
       "       [0.23018146, 0.6425341 , 0.12728444],\n",
       "       [0.31164372, 0.5551715 , 0.13318472],\n",
       "       [0.23883687, 0.64453757, 0.11662558],\n",
       "       [0.225241  , 0.6589339 , 0.11582505],\n",
       "       [0.24036872, 0.63547456, 0.12415671],\n",
       "       [0.39462808, 0.45881328, 0.14655867],\n",
       "       [0.25790626, 0.62103593, 0.12105787],\n",
       "       [0.24049765, 0.6366525 , 0.12284981],\n",
       "       [0.254095  , 0.60959023, 0.13631481],\n",
       "       [0.25654805, 0.61359125, 0.1298606 ],\n",
       "       [0.23429763, 0.63148195, 0.13422053],\n",
       "       [0.2562542 , 0.6127843 , 0.13096137],\n",
       "       [0.237635  , 0.61921686, 0.1431481 ],\n",
       "       [0.22371323, 0.65446234, 0.1218244 ],\n",
       "       [0.25828838, 0.61216867, 0.12954296],\n",
       "       [0.28340238, 0.58474874, 0.13184892],\n",
       "       [0.26949772, 0.60033333, 0.13016896],\n",
       "       [0.25900742, 0.6129036 , 0.12808895],\n",
       "       [0.24146348, 0.6342577 , 0.12427891],\n",
       "       [0.21991386, 0.655617  , 0.12446919],\n",
       "       [0.2827285 , 0.5916416 , 0.12562996],\n",
       "       [0.29393023, 0.5577463 , 0.1483234 ],\n",
       "       [0.26916856, 0.5779022 , 0.15292919],\n",
       "       [0.43438774, 0.40419635, 0.1614158 ],\n",
       "       [0.25504178, 0.61103874, 0.13391942],\n",
       "       [0.2571739 , 0.60253775, 0.14028832],\n",
       "       [0.29477948, 0.5691157 , 0.13610478],\n",
       "       [0.45163813, 0.3947472 , 0.15361467],\n",
       "       [0.23992358, 0.637523  , 0.12255336],\n",
       "       [0.29203546, 0.57319415, 0.13477033],\n",
       "       [0.3372614 , 0.52439153, 0.13834704],\n",
       "       [0.27337903, 0.58810896, 0.13851197],\n",
       "       [0.30433068, 0.5496499 , 0.14601941],\n",
       "       [0.25323167, 0.62970495, 0.11706344],\n",
       "       [0.25460982, 0.62121147, 0.12417877],\n",
       "       [0.2847365 , 0.5832142 , 0.1320494 ],\n",
       "       [0.30477983, 0.56918186, 0.1260383 ],\n",
       "       [0.4404166 , 0.41702124, 0.1425622 ],\n",
       "       [0.3155816 , 0.5369748 , 0.14744362],\n",
       "       [0.23312196, 0.63506436, 0.13181369],\n",
       "       [0.2465656 , 0.6244544 , 0.1289799 ],\n",
       "       [0.2757263 , 0.59028804, 0.13398565],\n",
       "       [0.28784505, 0.56821924, 0.14393581],\n",
       "       [0.28844038, 0.57391   , 0.13764964],\n",
       "       [0.24168165, 0.6288257 , 0.12949266],\n",
       "       [0.2901246 , 0.569183  , 0.14069241],\n",
       "       [0.28018722, 0.5873446 , 0.13246815],\n",
       "       [0.23950876, 0.637219  , 0.12327214],\n",
       "       [0.22417386, 0.6524769 , 0.12334927]], dtype=float32)"
      ]
     },
     "execution_count": 304,
     "metadata": {},
     "output_type": "execute_result"
    }
   ],
   "source": [
    "y_preds[0][:,0,:]"
   ]
  },
  {
   "cell_type": "code",
   "execution_count": 305,
   "metadata": {},
   "outputs": [
    {
     "data": {
      "text/plain": [
       "(141, 5)"
      ]
     },
     "execution_count": 305,
     "metadata": {},
     "output_type": "execute_result"
    }
   ],
   "source": [
    "y_preds_argmax = [np.argmax(pred, axis=-1) for pred in y_preds]\n",
    "y_preds_argmax[0].shape"
   ]
  },
  {
   "cell_type": "code",
   "execution_count": 334,
   "metadata": {},
   "outputs": [
    {
     "name": "stdout",
     "output_type": "stream",
     "text": [
      "1    108\n",
      "0     33\n",
      "Name: count, dtype: int64\n",
      "1    120\n",
      "0     21\n",
      "Name: count, dtype: int64\n",
      "1    122\n",
      "0     19\n",
      "Name: count, dtype: int64\n",
      "1    126\n",
      "0     15\n",
      "Name: count, dtype: int64\n",
      "1    118\n",
      "0     22\n",
      "2      1\n",
      "Name: count, dtype: int64\n"
     ]
    }
   ],
   "source": [
    "for i in range(y_preds_argmax[0].shape[-1]):\n",
    "    print(pd.Series(y_preds_argmax[0][:,i]).value_counts())"
   ]
  },
  {
   "cell_type": "code",
   "execution_count": 306,
   "metadata": {},
   "outputs": [],
   "source": [
    "y_trues = []\n",
    "for i in range(len(RNN_test_data)):\n",
    "    y_true = pd.concat([data[\"labels\"] for data in RNN_test_data[i]], axis=1).to_numpy()\n",
    "    y_trues.append(y_true)\n"
   ]
  },
  {
   "cell_type": "code",
   "execution_count": 349,
   "metadata": {},
   "outputs": [
    {
     "data": {
      "text/plain": [
       "array([[0.25870648, 0.62872607, 0.11256742],\n",
       "       [0.35726115, 0.49770045, 0.14503835],\n",
       "       [0.2573836 , 0.6308709 , 0.11174551],\n",
       "       [0.39560208, 0.49185944, 0.11253837],\n",
       "       [0.38930804, 0.5056786 , 0.10501342],\n",
       "       [0.32825482, 0.57680845, 0.09493675],\n",
       "       [0.5113296 , 0.3614841 , 0.12718624],\n",
       "       [0.49916416, 0.3993196 , 0.10151617],\n",
       "       [0.22782141, 0.68628585, 0.08589279],\n",
       "       [0.5741786 , 0.30780116, 0.1180202 ],\n",
       "       [0.5843612 , 0.29264516, 0.12299377],\n",
       "       [0.39028478, 0.4919643 , 0.11775091],\n",
       "       [0.531603  , 0.35685268, 0.1115444 ],\n",
       "       [0.48574847, 0.40921295, 0.10503855],\n",
       "       [0.2015098 , 0.6946773 , 0.10381285],\n",
       "       [0.2440068 , 0.65217906, 0.10381409],\n",
       "       [0.22060096, 0.67907447, 0.10032459],\n",
       "       [0.2254173 , 0.6770225 , 0.09756014],\n",
       "       [0.23808244, 0.5909734 , 0.17094421],\n",
       "       [0.22634669, 0.6688215 , 0.10483183],\n",
       "       [0.3552478 , 0.4993132 , 0.14543894],\n",
       "       [0.3188491 , 0.58286846, 0.09828252],\n",
       "       [0.4858556 , 0.40118477, 0.11295959],\n",
       "       [0.4660181 , 0.42684737, 0.10713447],\n",
       "       [0.4894177 , 0.402896  , 0.10768626],\n",
       "       [0.20562248, 0.6854248 , 0.10895266],\n",
       "       [0.44993314, 0.44489694, 0.10516983],\n",
       "       [0.39744917, 0.49387434, 0.10867653],\n",
       "       [0.23944087, 0.6483221 , 0.11223707],\n",
       "       [0.5041559 , 0.39305946, 0.10278467],\n",
       "       [0.40467095, 0.4648364 , 0.13049263],\n",
       "       [0.35102373, 0.54915565, 0.09982067],\n",
       "       [0.41175112, 0.47729605, 0.11095282],\n",
       "       [0.47587398, 0.39429092, 0.12983504],\n",
       "       [0.46844548, 0.43135843, 0.10019606],\n",
       "       [0.27737683, 0.6066588 , 0.11596438],\n",
       "       [0.431803  , 0.43774083, 0.13045618],\n",
       "       [0.32150862, 0.5726255 , 0.10586581],\n",
       "       [0.3014814 , 0.58606255, 0.11245599],\n",
       "       [0.5461823 , 0.33050713, 0.12331069],\n",
       "       [0.61132   , 0.28862426, 0.10005569],\n",
       "       [0.4013209 , 0.43186402, 0.16681507],\n",
       "       [0.30064458, 0.5922936 , 0.10706167],\n",
       "       [0.4502938 , 0.41766176, 0.13204445],\n",
       "       [0.54173803, 0.35153338, 0.10672857],\n",
       "       [0.4354108 , 0.4576818 , 0.10690738],\n",
       "       [0.17515698, 0.7239766 , 0.10086646],\n",
       "       [0.3638012 , 0.51149035, 0.12470849],\n",
       "       [0.30707958, 0.5884907 , 0.10442975],\n",
       "       [0.38716626, 0.5014494 , 0.11138432],\n",
       "       [0.5619769 , 0.34114483, 0.09687826],\n",
       "       [0.20630759, 0.6805148 , 0.1131776 ],\n",
       "       [0.5028119 , 0.37864313, 0.11854482],\n",
       "       [0.452873  , 0.4278894 , 0.11923768],\n",
       "       [0.47577858, 0.42127502, 0.10294637],\n",
       "       [0.34180614, 0.556153  , 0.10204087],\n",
       "       [0.39581677, 0.48824608, 0.11593717],\n",
       "       [0.29578283, 0.6144933 , 0.08972385],\n",
       "       [0.400249  , 0.48961523, 0.11013572],\n",
       "       [0.20232022, 0.7137166 , 0.08396306],\n",
       "       [0.21370405, 0.6885834 , 0.09771255],\n",
       "       [0.19580778, 0.72366214, 0.08053005],\n",
       "       [0.16668755, 0.7511548 , 0.08215769],\n",
       "       [0.17160042, 0.75204337, 0.07635629],\n",
       "       [0.2150455 , 0.6846887 , 0.10026571],\n",
       "       [0.18706205, 0.7300207 , 0.08291713],\n",
       "       [0.17419653, 0.7430691 , 0.08273431],\n",
       "       [0.15512317, 0.76824284, 0.07663386],\n",
       "       [0.16845359, 0.7402002 , 0.09134619],\n",
       "       [0.20379986, 0.7123263 , 0.08387379],\n",
       "       [0.2048049 , 0.6961567 , 0.09903833],\n",
       "       [0.15030663, 0.77232903, 0.07736438],\n",
       "       [0.19501723, 0.712878  , 0.09210479],\n",
       "       [0.17231779, 0.7383716 , 0.08931051],\n",
       "       [0.18173413, 0.7318823 , 0.08638363],\n",
       "       [0.2006355 , 0.69258326, 0.10678127],\n",
       "       [0.19106595, 0.70023155, 0.10870244],\n",
       "       [0.33562925, 0.56212896, 0.10224173],\n",
       "       [0.31242764, 0.59109306, 0.09647924],\n",
       "       [0.19433571, 0.6877631 , 0.11790117],\n",
       "       [0.18201827, 0.7328251 , 0.08515659],\n",
       "       [0.20288302, 0.68721825, 0.1098987 ],\n",
       "       [0.171234  , 0.7345208 , 0.09424523],\n",
       "       [0.25676602, 0.65119743, 0.09203654],\n",
       "       [0.33874446, 0.55917245, 0.10208298],\n",
       "       [0.17660867, 0.7498924 , 0.07349885],\n",
       "       [0.2176839 , 0.6967301 , 0.08558602],\n",
       "       [0.16167767, 0.7589588 , 0.07936355],\n",
       "       [0.18233629, 0.7376726 , 0.07999098],\n",
       "       [0.2006957 , 0.70994145, 0.08936286],\n",
       "       [0.17715102, 0.73070097, 0.09214795],\n",
       "       [0.20205323, 0.7171162 , 0.08083063],\n",
       "       [0.21400018, 0.69005394, 0.09594595],\n",
       "       [0.18275048, 0.7384979 , 0.07875159],\n",
       "       [0.15090652, 0.77106446, 0.07802892],\n",
       "       [0.16431794, 0.7425787 , 0.09310351],\n",
       "       [0.17591606, 0.7303943 , 0.09368959],\n",
       "       [0.21592048, 0.69638807, 0.08769146],\n",
       "       [0.19868404, 0.7109819 , 0.09033412],\n",
       "       [0.14709063, 0.7704852 , 0.08242421],\n",
       "       [0.18547711, 0.71555614, 0.09896675],\n",
       "       [0.24491575, 0.6489341 , 0.10615005],\n",
       "       [0.15658365, 0.7585138 , 0.08490246],\n",
       "       [0.20721106, 0.69923085, 0.09355814],\n",
       "       [0.18254717, 0.72262144, 0.09483138],\n",
       "       [0.19668272, 0.71688086, 0.08643639],\n",
       "       [0.15707298, 0.7654438 , 0.07748327],\n",
       "       [0.1892151 , 0.7256844 , 0.08510061],\n",
       "       [0.4094925 , 0.4826113 , 0.10789618],\n",
       "       [0.18113188, 0.73424923, 0.08461883],\n",
       "       [0.35765123, 0.5267599 , 0.11558889],\n",
       "       [0.20033789, 0.6803642 , 0.11929794],\n",
       "       [0.2136727 , 0.694302  , 0.09202532],\n",
       "       [0.24901626, 0.6443812 , 0.10660252],\n",
       "       [0.19332148, 0.716607  , 0.09007156],\n",
       "       [0.26668602, 0.62265927, 0.11065467],\n",
       "       [0.2154291 , 0.69028664, 0.09428421],\n",
       "       [0.18903054, 0.6929203 , 0.11804914],\n",
       "       [0.25216705, 0.63542336, 0.11240952],\n",
       "       [0.27451393, 0.62471086, 0.10077519],\n",
       "       [0.21551158, 0.6778969 , 0.1065915 ],\n",
       "       [0.2588473 , 0.6308471 , 0.11030564],\n",
       "       [0.2674756 , 0.6298259 , 0.1026985 ],\n",
       "       [0.37789914, 0.5044444 , 0.11765637],\n",
       "       [0.24304299, 0.6468623 , 0.11009463],\n",
       "       [0.20447263, 0.70393574, 0.09159154],\n",
       "       [0.20685811, 0.68647635, 0.10666551],\n",
       "       [0.19866225, 0.71129626, 0.09004159],\n",
       "       [0.22760397, 0.6654394 , 0.10695653],\n",
       "       [0.35233235, 0.5590339 , 0.08863385],\n",
       "       [0.21757273, 0.67693764, 0.10548967],\n",
       "       [0.2352389 , 0.6540138 , 0.1107472 ],\n",
       "       [0.18722418, 0.73160714, 0.08116879],\n",
       "       [0.22988899, 0.6375495 , 0.1325615 ],\n",
       "       [0.21112594, 0.6989893 , 0.08988481],\n",
       "       [0.20088239, 0.7107578 , 0.08835982],\n",
       "       [0.20078467, 0.67898697, 0.12022839],\n",
       "       [0.22807477, 0.66918594, 0.10273922],\n",
       "       [0.17309947, 0.74098605, 0.0859145 ],\n",
       "       [0.21390003, 0.6313689 , 0.15473104],\n",
       "       [0.17816372, 0.72542155, 0.09641472]], dtype=float32)"
      ]
     },
     "execution_count": 349,
     "metadata": {},
     "output_type": "execute_result"
    }
   ],
   "source": [
    "y_preds[0][:,1]"
   ]
  },
  {
   "cell_type": "code",
   "execution_count": 351,
   "metadata": {},
   "outputs": [
    {
     "data": {
      "text/html": [
       "<div>\n",
       "<style scoped>\n",
       "    .dataframe tbody tr th:only-of-type {\n",
       "        vertical-align: middle;\n",
       "    }\n",
       "\n",
       "    .dataframe tbody tr th {\n",
       "        vertical-align: top;\n",
       "    }\n",
       "\n",
       "    .dataframe thead th {\n",
       "        text-align: right;\n",
       "    }\n",
       "</style>\n",
       "<table border=\"1\" class=\"dataframe\">\n",
       "  <thead>\n",
       "    <tr style=\"text-align: right;\">\n",
       "      <th></th>\n",
       "      <th>m06</th>\n",
       "      <th>m12</th>\n",
       "      <th>m24</th>\n",
       "      <th>m36</th>\n",
       "    </tr>\n",
       "  </thead>\n",
       "  <tbody>\n",
       "    <tr>\n",
       "      <th>0</th>\n",
       "      <td>0.854729</td>\n",
       "      <td>0.900450</td>\n",
       "      <td>0.885206</td>\n",
       "      <td>0.900067</td>\n",
       "    </tr>\n",
       "    <tr>\n",
       "      <th>1</th>\n",
       "      <td>0.893392</td>\n",
       "      <td>0.946689</td>\n",
       "      <td>0.914982</td>\n",
       "      <td>0.905733</td>\n",
       "    </tr>\n",
       "    <tr>\n",
       "      <th>2</th>\n",
       "      <td>0.954628</td>\n",
       "      <td>0.907251</td>\n",
       "      <td>0.945700</td>\n",
       "      <td>0.954376</td>\n",
       "    </tr>\n",
       "    <tr>\n",
       "      <th>3</th>\n",
       "      <td>0.966661</td>\n",
       "      <td>0.973757</td>\n",
       "      <td>0.954954</td>\n",
       "      <td>0.945488</td>\n",
       "    </tr>\n",
       "    <tr>\n",
       "      <th>4</th>\n",
       "      <td>0.946802</td>\n",
       "      <td>0.901527</td>\n",
       "      <td>0.960094</td>\n",
       "      <td>0.972329</td>\n",
       "    </tr>\n",
       "  </tbody>\n",
       "</table>\n",
       "</div>"
      ],
      "text/plain": [
       "        m06       m12       m24       m36\n",
       "0  0.854729  0.900450  0.885206  0.900067\n",
       "1  0.893392  0.946689  0.914982  0.905733\n",
       "2  0.954628  0.907251  0.945700  0.954376\n",
       "3  0.966661  0.973757  0.954954  0.945488\n",
       "4  0.946802  0.901527  0.960094  0.972329"
      ]
     },
     "execution_count": 351,
     "metadata": {},
     "output_type": "execute_result"
    }
   ],
   "source": [
    "from sklearn.metrics import roc_auc_score\n",
    "aucs=[]\n",
    "for i in range(len(y_preds)):\n",
    "    aucs_for_fold=[]\n",
    "    for j in range(1, y_preds[i].shape[-2]):\n",
    "        aucs_for_fold.append(roc_auc_score(y_trues[i][:,j], y_preds[i][:,j], multi_class='ovr'))\n",
    "    aucs.append(aucs_for_fold)\n",
    "\n",
    "auc_df = pd.DataFrame(data=aucs, columns=[\"m06\", \"m12\", \"m24\", \"m36\"])\n",
    "auc_df\n"
   ]
  },
  {
   "cell_type": "code",
   "execution_count": 346,
   "metadata": {},
   "outputs": [
    {
     "data": {
      "text/html": [
       "<div>\n",
       "<style scoped>\n",
       "    .dataframe tbody tr th:only-of-type {\n",
       "        vertical-align: middle;\n",
       "    }\n",
       "\n",
       "    .dataframe tbody tr th {\n",
       "        vertical-align: top;\n",
       "    }\n",
       "\n",
       "    .dataframe thead th {\n",
       "        text-align: right;\n",
       "    }\n",
       "</style>\n",
       "<table border=\"1\" class=\"dataframe\">\n",
       "  <thead>\n",
       "    <tr style=\"text-align: right;\">\n",
       "      <th></th>\n",
       "      <th>bl</th>\n",
       "      <th>m06</th>\n",
       "      <th>m12</th>\n",
       "      <th>m24</th>\n",
       "      <th>m36</th>\n",
       "    </tr>\n",
       "  </thead>\n",
       "  <tbody>\n",
       "    <tr>\n",
       "      <th>0</th>\n",
       "      <td>0.950355</td>\n",
       "      <td>0.829787</td>\n",
       "      <td>0.758865</td>\n",
       "      <td>0.631206</td>\n",
       "      <td>0.624113</td>\n",
       "    </tr>\n",
       "    <tr>\n",
       "      <th>1</th>\n",
       "      <td>0.957447</td>\n",
       "      <td>0.879433</td>\n",
       "      <td>0.808511</td>\n",
       "      <td>0.787234</td>\n",
       "      <td>0.765957</td>\n",
       "    </tr>\n",
       "    <tr>\n",
       "      <th>2</th>\n",
       "      <td>0.971429</td>\n",
       "      <td>0.907143</td>\n",
       "      <td>0.864286</td>\n",
       "      <td>0.850000</td>\n",
       "      <td>0.857143</td>\n",
       "    </tr>\n",
       "    <tr>\n",
       "      <th>3</th>\n",
       "      <td>0.971429</td>\n",
       "      <td>0.935714</td>\n",
       "      <td>0.928571</td>\n",
       "      <td>0.857143</td>\n",
       "      <td>0.842857</td>\n",
       "    </tr>\n",
       "    <tr>\n",
       "      <th>4</th>\n",
       "      <td>0.992857</td>\n",
       "      <td>0.928571</td>\n",
       "      <td>0.842857</td>\n",
       "      <td>0.850000</td>\n",
       "      <td>0.864286</td>\n",
       "    </tr>\n",
       "  </tbody>\n",
       "</table>\n",
       "</div>"
      ],
      "text/plain": [
       "         bl       m06       m12       m24       m36\n",
       "0  0.950355  0.829787  0.758865  0.631206  0.624113\n",
       "1  0.957447  0.879433  0.808511  0.787234  0.765957\n",
       "2  0.971429  0.907143  0.864286  0.850000  0.857143\n",
       "3  0.971429  0.935714  0.928571  0.857143  0.842857\n",
       "4  0.992857  0.928571  0.842857  0.850000  0.864286"
      ]
     },
     "execution_count": 346,
     "metadata": {},
     "output_type": "execute_result"
    }
   ],
   "source": [
    "from sklearn.metrics import f1_score\n",
    "f1s=[]\n",
    "for i in range(len(y_preds_argmax)):\n",
    "    f1s_for_fold=[]\n",
    "    for j in range(y_preds_argmax[i].shape[-1]):\n",
    "        f1s_for_fold.append(f1_score(y_preds_argmax[i][:,j], y_trues[i][:,j], average='micro'))\n",
    "    f1s.append(f1s_for_fold)\n",
    "\n",
    "f1_df = pd.DataFrame(data=f1s, columns=[\"bl\", \"m06\", \"m12\", \"m24\", \"m36\"])\n",
    "f1_df\n"
   ]
  },
  {
   "cell_type": "code",
   "execution_count": 353,
   "metadata": {},
   "outputs": [],
   "source": [
    "from sklearn.metrics import confusion_matrix, classification_report\n",
    "import numpy as np\n",
    "\n",
    "confusion_matrices = [ [confusion_matrix(y_pred=y_preds_argmax[i][:,j], y_true=y_trues[i][:,j]) for j in range(5)] for i in range(len(y_trues))]"
   ]
  },
  {
   "cell_type": "code",
   "execution_count": 358,
   "metadata": {},
   "outputs": [],
   "source": [
    "classification_reports = [ [classification_report(y_pred=y_preds_argmax[i][:,j], y_true=y_trues[i][:,j]) for j in range(5)] for i in range(len(y_trues))]"
   ]
  },
  {
   "cell_type": "code",
   "execution_count": 366,
   "metadata": {},
   "outputs": [
    {
     "name": "stdout",
     "output_type": "stream",
     "text": [
      "              precision    recall  f1-score   support\n",
      "\n",
      "           0       1.00      0.82      0.90        40\n",
      "           1       0.94      1.00      0.97       101\n",
      "\n",
      "    accuracy                           0.95       141\n",
      "   macro avg       0.97      0.91      0.94       141\n",
      "weighted avg       0.95      0.95      0.95       141\n",
      "\n",
      "              precision    recall  f1-score   support\n",
      "\n",
      "           0       1.00      0.54      0.70        39\n",
      "           1       0.80      1.00      0.89        96\n",
      "           2       0.00      0.00      0.00         6\n",
      "\n",
      "    accuracy                           0.83       141\n",
      "   macro avg       0.60      0.51      0.53       141\n",
      "weighted avg       0.82      0.83      0.80       141\n",
      "\n",
      "              precision    recall  f1-score   support\n",
      "\n",
      "           0       0.95      0.46      0.62        39\n",
      "           1       0.73      0.99      0.84        90\n",
      "           2       0.00      0.00      0.00        12\n",
      "\n",
      "    accuracy                           0.76       141\n",
      "   macro avg       0.56      0.48      0.49       141\n",
      "weighted avg       0.73      0.76      0.71       141\n",
      "\n",
      "              precision    recall  f1-score   support\n",
      "\n",
      "           0       0.87      0.34      0.49        38\n",
      "           1       0.60      1.00      0.75        76\n",
      "           2       0.00      0.00      0.00        27\n",
      "\n",
      "    accuracy                           0.63       141\n",
      "   macro avg       0.49      0.45      0.41       141\n",
      "weighted avg       0.56      0.63      0.54       141\n",
      "\n",
      "              precision    recall  f1-score   support\n",
      "\n",
      "           0       0.91      0.56      0.69        36\n",
      "           1       0.57      0.97      0.72        69\n",
      "           2       1.00      0.03      0.05        36\n",
      "\n",
      "    accuracy                           0.62       141\n",
      "   macro avg       0.83      0.52      0.49       141\n",
      "weighted avg       0.77      0.62      0.54       141\n",
      "\n"
     ]
    }
   ],
   "source": [
    "for j in range(5):\n",
    "    print(classification_report(y_pred=y_preds_argmax[0][:,j], y_true=y_trues[0][:,j]))"
   ]
  },
  {
   "cell_type": "code",
   "execution_count": null,
   "metadata": {},
   "outputs": [],
   "source": []
  }
 ],
 "metadata": {
  "kernelspec": {
   "display_name": ".venv",
   "language": "python",
   "name": "python3"
  },
  "language_info": {
   "codemirror_mode": {
    "name": "ipython",
    "version": 3
   },
   "file_extension": ".py",
   "mimetype": "text/x-python",
   "name": "python",
   "nbconvert_exporter": "python",
   "pygments_lexer": "ipython3",
   "version": "3.9.16"
  }
 },
 "nbformat": 4,
 "nbformat_minor": 2
}
