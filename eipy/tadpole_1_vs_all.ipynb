{
 "cells": [
  {
   "cell_type": "code",
   "execution_count": 5,
   "metadata": {},
   "outputs": [],
   "source": [
    "import numpy as np\n",
    "from sklearn.ensemble import AdaBoostClassifier, GradientBoostingClassifier, RandomForestClassifier\n",
    "from sklearn.tree import DecisionTreeClassifier\n",
    "from sklearn.neighbors import KNeighborsClassifier\n",
    "from sklearn.linear_model import LogisticRegression\n",
    "from sklearn.naive_bayes import GaussianNB\n",
    "from sklearn.svm import SVC\n",
    "from sklearn.neural_network import MLPClassifier\n",
    "from xgboost import XGBClassifier\n",
    "from eipy.ei import EnsembleIntegration\n",
    "from eipy.additional_ensembles import MeanAggregation, CES\n",
    "from sklearn.model_selection import train_test_split\n",
    "import pandas as pd\n",
    "import pickle as pkl"
   ]
  },
  {
   "cell_type": "code",
   "execution_count": 6,
   "metadata": {},
   "outputs": [],
   "source": [
    "data = open(\"/home/opc/block_vol/tadpole/tadpole_data_imptn_norm.pickle\", \"rb\")\n",
    "data = pkl.load(data)"
   ]
  },
  {
   "cell_type": "code",
   "execution_count": 7,
   "metadata": {},
   "outputs": [],
   "source": [
    "X_train=data[\"cn_bl\"][\"train\"]\n",
    "X_test=data[\"cn_bl\"][\"test\"]"
   ]
  },
  {
   "cell_type": "code",
   "execution_count": 13,
   "metadata": {},
   "outputs": [
    {
     "data": {
      "text/plain": [
       "array(['MCI', 'CN', 'CN', 'CN', 'MCI', 'CN', 'DEM', 'DEM', 'CN', 'CN',\n",
       "       'CN', 'MCI', 'CN', 'CN', 'CN', 'CN', 'CN', 'CN', 'MCI', 'CN', 'CN',\n",
       "       'MCI', 'CN', 'CN', 'CN', 'DEM', 'CN', 'CN', 'CN', 'CN', 'DEM',\n",
       "       'DEM', 'CN', 'CN', 'CN', 'CN', 'CN', 'CN', 'CN', 'CN', 'MCI',\n",
       "       'MCI', 'CN', 'MCI', 'CN', 'CN', 'CN', 'CN', 'MCI', 'CN', 'CN',\n",
       "       'CN', 'CN', 'CN', 'DEM', 'CN', 'DEM', 'CN', 'CN', 'CN', 'CN', 'CN',\n",
       "       'CN', 'MCI', 'CN', 'CN', 'MCI', 'CN', 'MCI', 'DEM', 'CN', 'CN',\n",
       "       'DEM', 'CN', 'CN', 'CN', 'DEM', 'CN', 'CN', 'CN', 'CN', 'CN', 'CN',\n",
       "       'CN', 'CN', 'CN', 'CN', 'CN', 'CN', 'CN', 'CN', 'CN', 'CN', 'CN',\n",
       "       'CN', 'CN', 'MCI', 'CN', 'CN', 'CN', 'MCI', 'CN', 'CN', 'CN', 'CN',\n",
       "       'CN', 'CN', 'CN', 'CN', 'CN', 'DEM', 'CN', 'CN', 'CN', 'CN', 'CN',\n",
       "       'CN', 'CN', 'MCI', 'MCI', 'CN', 'CN', 'DEM', 'CN', 'CN', 'CN',\n",
       "       'DEM', 'CN', 'CN', 'CN', 'CN', 'CN', 'CN', 'CN', 'CN', 'CN', 'CN',\n",
       "       'CN', 'CN', 'CN', 'CN', 'CN', 'CN', 'CN', 'CN', 'CN', 'CN', 'MCI',\n",
       "       'CN', 'MCI', 'MCI', 'CN', 'CN', 'CN', 'MCI', 'CN', 'CN', 'MCI',\n",
       "       'MCI', 'CN', 'CN', 'CN', 'CN', 'CN', 'CN', 'CN', 'CN', 'CN', 'CN',\n",
       "       'CN', 'CN', 'CN', 'CN', 'MCI', 'CN', 'CN', 'MCI', 'CN', 'CN', 'CN',\n",
       "       'CN', 'CN', 'CN', 'CN', 'CN', 'CN', 'CN', 'CN', 'CN', 'CN', 'CN',\n",
       "       'CN', 'CN', 'DEM', 'CN', 'CN', 'CN', 'CN', 'CN', 'CN', 'CN', 'CN',\n",
       "       'CN', 'CN', 'MCI', 'CN', 'CN', 'CN', 'CN', 'CN', 'CN', 'CN', 'CN',\n",
       "       'CN', 'CN', 'CN', 'CN', 'MCI', 'CN', 'DEM', 'CN', 'CN', 'CN',\n",
       "       'MCI', 'MCI', 'MCI', 'MCI', 'CN', 'CN', 'CN', 'CN', 'CN', 'MCI',\n",
       "       'CN', 'MCI', 'CN', 'CN', 'CN', 'CN', 'CN', 'CN', 'CN', 'CN', 'CN',\n",
       "       'CN', 'MCI', 'CN', 'CN', 'MCI', 'CN', 'CN', 'CN', 'MCI', 'CN',\n",
       "       'CN', 'CN', 'CN', 'CN', 'CN', 'CN', 'CN', 'CN', 'MCI', 'CN', 'CN',\n",
       "       'CN', 'CN', 'CN', 'CN', 'CN', 'CN', 'CN', 'CN', 'CN', 'CN', 'CN',\n",
       "       'CN', 'CN', 'CN', 'MCI', 'CN', 'MCI', 'CN', 'CN', 'MCI', 'CN',\n",
       "       'CN', 'MCI', 'CN', 'CN', 'CN', 'CN', 'CN', 'CN', 'CN', 'CN', 'CN',\n",
       "       'CN', 'CN', 'CN', 'CN', 'CN', 'CN', 'CN', 'CN', 'CN', 'CN', 'CN',\n",
       "       'CN', 'CN', 'CN', 'CN', 'CN', 'CN', 'DEM', 'CN', 'CN', 'CN', 'CN',\n",
       "       'CN', 'MCI', 'MCI', 'CN', 'MCI', 'MCI', 'CN', 'CN', 'CN', 'CN',\n",
       "       'CN', 'CN', 'CN', 'CN', 'CN', 'CN', 'CN', 'CN', 'CN', 'MCI', 'CN',\n",
       "       'CN', 'CN', 'CN', 'CN', 'CN', 'CN', 'CN', 'CN', 'CN', 'CN', 'CN',\n",
       "       'CN', 'CN', 'MCI', 'CN', 'CN', 'CN', 'CN', 'CN', 'CN', 'CN', 'CN',\n",
       "       'CN', 'CN', 'MCI', 'CN', 'CN', 'CN', 'DEM', 'DEM', 'CN', 'DEM',\n",
       "       'CN', 'CN', 'CN', 'CN', 'CN', 'MCI', 'CN', 'CN', 'CN', 'CN', 'CN',\n",
       "       'CN', 'CN', 'MCI', 'CN', 'CN', 'CN', 'CN', 'CN', 'CN', 'CN', 'DEM',\n",
       "       'CN', 'CN', 'CN', 'CN', 'CN', 'CN', 'CN', 'MCI', 'CN', 'CN', 'CN',\n",
       "       'CN'], dtype=object)"
      ]
     },
     "execution_count": 13,
     "metadata": {},
     "output_type": "execute_result"
    }
   ],
   "source": [
    "y_train = pd.read_csv(\"/home/opc/block_vol/tadpole/tadpole_training_labels.csv\")\n",
    "y_train.drop(columns=[\"Unnamed: 0\"], axis=1, inplace=True)\n",
    "y_train = y_train[\"last_dx\"].to_numpy()"
   ]
  },
  {
   "cell_type": "code",
   "execution_count": 14,
   "metadata": {},
   "outputs": [
    {
     "data": {
      "text/plain": [
       "array(['CN', 'CN', 'CN', 'CN', 'CN', 'CN', 'CN', 'DEM', 'CN', 'CN', 'CN',\n",
       "       'CN', 'CN', 'CN', 'MCI', 'MCI', 'CN', 'CN', 'CN', 'CN', 'CN', 'CN',\n",
       "       'CN', 'CN', 'DEM', 'CN', 'MCI', 'MCI', 'CN', 'CN', 'CN', 'CN',\n",
       "       'CN', 'CN', 'CN', 'CN', 'CN', 'CN', 'CN', 'CN', 'CN', 'CN', 'CN',\n",
       "       'CN', 'CN', 'CN', 'CN', 'MCI', 'CN', 'MCI', 'CN', 'CN', 'CN', 'CN',\n",
       "       'CN', 'CN', 'CN', 'MCI', 'CN', 'CN', 'DEM', 'CN', 'CN', 'CN', 'CN',\n",
       "       'CN', 'CN', 'CN', 'CN', 'CN', 'CN', 'CN', 'MCI', 'CN', 'CN', 'CN',\n",
       "       'CN', 'CN', 'CN', 'CN', 'CN', 'CN', 'CN', 'CN', 'MCI', 'DEM', 'CN',\n",
       "       'CN', 'CN', 'MCI', 'CN', 'CN', 'CN', 'CN', 'CN', 'CN', 'MCI',\n",
       "       'DEM', 'CN', 'MCI', 'MCI', 'CN'], dtype=object)"
      ]
     },
     "execution_count": 14,
     "metadata": {},
     "output_type": "execute_result"
    }
   ],
   "source": [
    "y_test = pd.read_csv(\"/home/opc/block_vol/tadpole/tadpole_testing_labels.csv\")\n",
    "y_test.drop(columns=[\"Unnamed: 0\"], axis=1, inplace=True)\n",
    "y_test = y_test[\"last_dx\"].to_numpy()"
   ]
  },
  {
   "cell_type": "code",
   "execution_count": 16,
   "metadata": {},
   "outputs": [],
   "source": [
    "base_predictors = {\n",
    "                    'ADAB': AdaBoostClassifier(),\n",
    "                    'XGB': XGBClassifier(),\n",
    "                    'DT': DecisionTreeClassifier(),\n",
    "                    'RF': RandomForestClassifier(),\n",
    "                    'GB': GradientBoostingClassifier(),\n",
    "                    'KNN': KNeighborsClassifier(),\n",
    "                    'LR': LogisticRegression(),\n",
    "                    'NB': GaussianNB(),\n",
    "                    'MLP': MLPClassifier(),\n",
    "                    'SVM': SVC(probability=True),\n",
    "}\n",
    "meta_predictors = {\n",
    "                    'Mean' : MeanAggregation(),\n",
    "                    'CES' : CES(),\n",
    "                    'S.ADAB': AdaBoostClassifier(),\n",
    "                    'S.XGB': XGBClassifier(),\n",
    "                    'S.DT': DecisionTreeClassifier(),\n",
    "                    \"S.RF\": RandomForestClassifier(),\n",
    "                    'S.GB': GradientBoostingClassifier(),\n",
    "                    'S.KNN': KNeighborsClassifier(),\n",
    "                    'S.LR': LogisticRegression(),\n",
    "                    'S.NB': GaussianNB(),\n",
    "                    'S.MLP': MLPClassifier(),\n",
    "                    'S.SVM': SVC(probability=True),\n",
    "}"
   ]
  },
  {
   "cell_type": "code",
   "execution_count": 15,
   "metadata": {},
   "outputs": [
    {
     "name": "stdout",
     "output_type": "stream",
     "text": [
      "{'CN': 1, 'MCI': 0, 'DEM': 0}\n",
      "{'CN': 0, 'MCI': 1, 'DEM': 0}\n",
      "{'CN': 0, 'MCI': 0, 'DEM': 1}\n"
     ]
    }
   ],
   "source": [
    "labels = [\"CN\", \"MCI\", \"DEM\"]\n",
    "class_EIs = []\n",
    "for i, label in enumerate(labels):\n",
    "    # transforming labels\n",
    "    encoding_dict = {outcome: 0 for outcome in labels}\n",
    "    encoding_dict[label] = 1\n",
    "    y_train_i = y_train.map(encoding_dict)\n",
    "    y_test_i = y_test.map(encoding_dict)\n",
    "    EI = EnsembleIntegration(\n",
    "                        base_predictors=base_predictors,\n",
    "                        k_outer=5,\n",
    "                        k_inner=5,\n",
    "                        n_samples=1,\n",
    "                        sampling_strategy=\"undersampling\",\n",
    "                        sampling_aggregation=\"mean\",\n",
    "                        n_jobs=-1,\n",
    "                        random_state=38,\n",
    "                        project_name=\"toy\",\n",
    "                        model_building=True,\n",
    "                        )\n",
    "    EI.fit_base(X_train, y_train_i)\n",
    "    EI.train_meta(meta_predictors=meta_predictors)\n",
    "    class_EIs.append(EI)\n",
    "    "
   ]
  },
  {
   "cell_type": "code",
   "execution_count": null,
   "metadata": {},
   "outputs": [],
   "source": []
  }
 ],
 "metadata": {
  "kernelspec": {
   "display_name": ".venv",
   "language": "python",
   "name": "python3"
  },
  "language_info": {
   "codemirror_mode": {
    "name": "ipython",
    "version": 3
   },
   "file_extension": ".py",
   "mimetype": "text/x-python",
   "name": "python",
   "nbconvert_exporter": "python",
   "pygments_lexer": "ipython3",
   "version": "3.9.16"
  },
  "orig_nbformat": 4
 },
 "nbformat": 4,
 "nbformat_minor": 2
}
