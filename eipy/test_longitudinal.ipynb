{
 "cells": [
  {
   "cell_type": "code",
   "execution_count": 1,
   "metadata": {},
   "outputs": [],
   "source": [
    "from sklearn.ensemble import AdaBoostClassifier, GradientBoostingClassifier, RandomForestClassifier\n",
    "from sklearn.tree import DecisionTreeClassifier\n",
    "from sklearn.neighbors import KNeighborsClassifier\n",
    "from sklearn.linear_model import LogisticRegression\n",
    "from sklearn.naive_bayes import GaussianNB\n",
    "from sklearn.svm import SVC\n",
    "from sklearn.neural_network import MLPClassifier\n",
    "from xgboost import XGBClassifier\n",
    "import pandas as pd\n",
    "import eipy.ei as e\n",
    "from eipy.additional_ensembles import MeanAggregation, CES"
   ]
  },
  {
   "cell_type": "code",
   "execution_count": 2,
   "metadata": {},
   "outputs": [],
   "source": [
    "from eipy.metrics import fmax_score\n",
    "from sklearn.metrics import roc_auc_score, matthews_corrcoef\n",
    "\n",
    "metrics = {\n",
    "            'f_max': fmax_score,\n",
    "            'auc': roc_auc_score,\n",
    "            'mcc': matthews_corrcoef\n",
    "            }"
   ]
  },
  {
   "cell_type": "code",
   "execution_count": 3,
   "metadata": {},
   "outputs": [],
   "source": [
    "base_predictors = {\n",
    "                    'ADAB': AdaBoostClassifier(),\n",
    "                    'XGB': XGBClassifier(),\n",
    "                    'DT': DecisionTreeClassifier(),\n",
    "                    'RF': RandomForestClassifier(),\n",
    "                    'GB': GradientBoostingClassifier(),\n",
    "                    'KNN': KNeighborsClassifier(),\n",
    "                    'LR': LogisticRegression(),\n",
    "                    'NB': GaussianNB(),\n",
    "                    'MLP': MLPClassifier(),\n",
    "                    'SVM': SVC(probability=True),\n",
    "}"
   ]
  },
  {
   "cell_type": "markdown",
   "metadata": {},
   "source": [
    "## data generation"
   ]
  },
  {
   "cell_type": "code",
   "execution_count": 4,
   "metadata": {},
   "outputs": [],
   "source": [
    "import numpy as np\n",
    "\n",
    "np.random.seed(38)\n",
    "\n",
    "n_samples = 600"
   ]
  },
  {
   "cell_type": "markdown",
   "metadata": {},
   "source": [
    "### single label data"
   ]
  },
  {
   "cell_type": "code",
   "execution_count": 5,
   "metadata": {},
   "outputs": [],
   "source": [
    "# import numpy as np\n",
    "# n_samples = 600\n",
    "\n",
    "# n_time_steps = 8\n",
    "\n",
    "# n_features = 30\n",
    "\n",
    "# n_classes = 3 # 2 or 3\n",
    "\n",
    "\n",
    "# if n_classes == 2:\n",
    "#     # Generate toy dataset with regularity\n",
    "#     X_class0 = np.random.randn(n_samples // 2, n_features, n_time_steps) + 1.5  # Add a bias to Class 0\n",
    "#     X_class1 = np.random.randn(n_samples // 2, n_features, n_time_steps) - 1.5  # Subtract a bias from Class 1\n",
    "#     X = np.concatenate([X_class0, X_class1])\n",
    "\n",
    "#     # Generate labels (two classes)\n",
    "#     y = np.concatenate([np.zeros(n_samples // 2), np.ones(n_samples // 2)])\n",
    "\n",
    "# else:\n",
    "#     # Generate toy dataset with less order and three classes\n",
    "#     X_class0 = np.random.randn(n_samples // 3, n_features, n_time_steps) + 1.5  # Add a bias to Class 0\n",
    "#     X_class1 = np.random.randn(n_samples // 3, n_features, n_time_steps) - 1.5  # Subtract a bias from Class 1\n",
    "#     X_class2 = np.random.randn(n_samples // 3, n_features, n_time_steps) * 0.5  # Introduce disorder in Class 2\n",
    "#     X = np.concatenate([X_class0, X_class1, X_class2])\n",
    "\n",
    "#     # Generate labels (three classes)\n",
    "#     y = np.concatenate([np.zeros(n_samples // 3), np.ones(n_samples // 3), 2 * np.ones(n_samples // 3)])\n",
    "\n",
    "# # Shuffle the dataset\n",
    "# shuffle_indices = np.random.permutation(n_samples)\n",
    "# X = X[shuffle_indices]\n",
    "# y = y[shuffle_indices]"
   ]
  },
  {
   "cell_type": "markdown",
   "metadata": {},
   "source": [
    "### time dependent label data"
   ]
  },
  {
   "cell_type": "code",
   "execution_count": 6,
   "metadata": {},
   "outputs": [],
   "source": [
    "import numpy as np\n",
    "\n",
    "n_time_steps = 8\n",
    "n_features = 30\n",
    "n_classes = 3  # 2 or 3\n",
    "\n",
    "if n_classes == 2:\n",
    "    # Generate toy dataset with regularity\n",
    "    X_class0 = np.random.randn(n_samples // 2, n_features, n_time_steps) + 1.5  # Add a bias to Class 0\n",
    "    X_class1 = np.random.randn(n_samples // 2, n_features, n_time_steps) - 1.5  # Subtract a bias from Class 1\n",
    "    X = np.concatenate([X_class0, X_class1])\n",
    "\n",
    "    # Generate labels (two classes)\n",
    "    y_class0 = np.zeros((n_samples // 2, n_time_steps))\n",
    "    y_class1 = np.ones((n_samples // 2, n_time_steps))\n",
    "    y = np.concatenate([y_class0, y_class1])\n",
    "\n",
    "else:\n",
    "    # Generate toy dataset with less order and three classes\n",
    "    X_class0 = np.random.randn(n_samples // 3, n_features, n_time_steps) + 1.5  # Add a bias to Class 0\n",
    "    X_class1 = np.random.randn(n_samples // 3, n_features, n_time_steps) - 1.5  # Subtract a bias from Class 1\n",
    "    X_class2 = np.random.randn(n_samples // 3, n_features, n_time_steps) * 0.5  # Introduce disorder in Class 2\n",
    "    X = np.concatenate([X_class0, X_class1, X_class2])\n",
    "\n",
    "    # Generate labels (three classes)\n",
    "    y_class0 = np.zeros((n_samples // 3, n_time_steps))\n",
    "    y_class1 = np.ones((n_samples // 3, n_time_steps))\n",
    "    y_class2 = 2 * np.ones((n_samples // 3, n_time_steps))\n",
    "    y = np.concatenate([y_class0, y_class1, y_class2])\n",
    "\n",
    "# Shuffle the dataset\n",
    "shuffle_indices = np.random.permutation(n_samples)\n",
    "X = X[shuffle_indices]\n",
    "y = y[shuffle_indices]"
   ]
  },
  {
   "cell_type": "code",
   "execution_count": 7,
   "metadata": {},
   "outputs": [
    {
     "data": {
      "text/plain": [
       "(600, 8)"
      ]
     },
     "execution_count": 7,
     "metadata": {},
     "output_type": "execute_result"
    }
   ],
   "source": [
    "y.shape"
   ]
  },
  {
   "cell_type": "markdown",
   "metadata": {},
   "source": [
    "## Training\n",
    "BPs for every time point, train LSTM, gather outputs for classification"
   ]
  },
  {
   "cell_type": "code",
   "execution_count": 8,
   "metadata": {},
   "outputs": [
    {
     "name": "stdout",
     "output_type": "stream",
     "text": [
      "generating metadata for timestep 0\n",
      "Training base predictors on Modality_0...\n",
      "        \n",
      "... for ensemble performance analysis...\n"
     ]
    },
    {
     "ename": "TypeError",
     "evalue": "Singleton array array(None, dtype=object) cannot be considered a valid collection.",
     "output_type": "error",
     "traceback": [
      "\u001b[0;31m---------------------------------------------------------------------------\u001b[0m",
      "\u001b[0;31mTypeError\u001b[0m                                 Traceback (most recent call last)",
      "Cell \u001b[0;32mIn[8], line 28\u001b[0m\n\u001b[1;32m     14\u001b[0m EI_for_timestep \u001b[38;5;241m=\u001b[39m e\u001b[38;5;241m.\u001b[39mEnsembleIntegration(\n\u001b[1;32m     15\u001b[0m                     base_predictors\u001b[38;5;241m=\u001b[39mbase_predictors,\n\u001b[1;32m     16\u001b[0m                     k_outer\u001b[38;5;241m=\u001b[39m\u001b[38;5;241m5\u001b[39m,\n\u001b[0;32m   (...)\u001b[0m\n\u001b[1;32m     25\u001b[0m                     model_building\u001b[38;5;241m=\u001b[39m\u001b[38;5;28;01mFalse\u001b[39;00m,\n\u001b[1;32m     26\u001b[0m                     )\n\u001b[1;32m     27\u001b[0m \u001b[38;5;28mprint\u001b[39m(\u001b[38;5;124mf\u001b[39m\u001b[38;5;124m\"\u001b[39m\u001b[38;5;124mgenerating metadata for timestep \u001b[39m\u001b[38;5;132;01m{\u001b[39;00mt\u001b[38;5;132;01m}\u001b[39;00m\u001b[38;5;124m\"\u001b[39m)\n\u001b[0;32m---> 28\u001b[0m \u001b[43mEI_for_timestep\u001b[49m\u001b[38;5;241;43m.\u001b[39;49m\u001b[43mfit_base\u001b[49m\u001b[43m(\u001b[49m\u001b[43mX_train_timestep\u001b[49m\u001b[43m,\u001b[49m\u001b[43m \u001b[49m\u001b[43my_train\u001b[49m\u001b[43m)\u001b[49m\n\u001b[1;32m     29\u001b[0m meta_data\u001b[38;5;241m.\u001b[39mappend([EI_for_timestep\u001b[38;5;241m.\u001b[39mensemble_training_data, EI_for_timestep\u001b[38;5;241m.\u001b[39mensemble_test_data, EI_for_timestep\u001b[38;5;241m.\u001b[39mensemble_training_data_final, EI_for_timestep\u001b[38;5;241m.\u001b[39mbase_summary])\n",
      "File \u001b[0;32m~/eipy/eipy/ei.py:232\u001b[0m, in \u001b[0;36mEnsembleIntegration.fit_base\u001b[0;34m(self, X, y, base_predictors, modality_name)\u001b[0m\n\u001b[1;32m    227\u001b[0m     \u001b[38;5;28;01mfor\u001b[39;00m modality_name, modality \u001b[38;5;129;01min\u001b[39;00m X\u001b[38;5;241m.\u001b[39mitems():\n\u001b[1;32m    228\u001b[0m         \u001b[38;5;28mprint\u001b[39m(\n\u001b[1;32m    229\u001b[0m     \u001b[38;5;124mf\u001b[39m\u001b[38;5;124m\"\"\"\u001b[39m\u001b[38;5;124mTraining base predictors on \u001b[39m\u001b[38;5;132;01m{\u001b[39;00mmodality_name\u001b[38;5;132;01m}\u001b[39;00m\u001b[38;5;124m...\u001b[39m\n\u001b[1;32m    230\u001b[0m \u001b[38;5;124m\u001b[39m\u001b[38;5;130;01m\\n\u001b[39;00m\u001b[38;5;124m... for ensemble performance analysis...\u001b[39m\u001b[38;5;124m\"\"\"\u001b[39m\n\u001b[1;32m    231\u001b[0m )\n\u001b[0;32m--> 232\u001b[0m         \u001b[38;5;28;43mself\u001b[39;49m\u001b[38;5;241;43m.\u001b[39;49m\u001b[43m_fit_base\u001b[49m\u001b[43m(\u001b[49m\n\u001b[1;32m    233\u001b[0m \u001b[43m            \u001b[49m\u001b[43mX\u001b[49m\u001b[38;5;241;43m=\u001b[39;49m\u001b[43mmodality\u001b[49m\u001b[43m,\u001b[49m\n\u001b[1;32m    234\u001b[0m \u001b[43m            \u001b[49m\u001b[43my\u001b[49m\u001b[38;5;241;43m=\u001b[39;49m\u001b[43my\u001b[49m\u001b[43m,\u001b[49m\n\u001b[1;32m    235\u001b[0m \u001b[43m            \u001b[49m\u001b[43mbase_predictors\u001b[49m\u001b[38;5;241;43m=\u001b[39;49m\u001b[43mbase_predictors\u001b[49m\u001b[43m,\u001b[49m\n\u001b[1;32m    236\u001b[0m \u001b[43m            \u001b[49m\u001b[43mmodality_name\u001b[49m\u001b[38;5;241;43m=\u001b[39;49m\u001b[43mmodality_name\u001b[49m\u001b[43m,\u001b[49m\n\u001b[1;32m    237\u001b[0m \u001b[43m        \u001b[49m\u001b[43m)\u001b[49m\n\u001b[1;32m    238\u001b[0m \u001b[38;5;28;01melse\u001b[39;00m:\n\u001b[1;32m    239\u001b[0m     \u001b[38;5;28mprint\u001b[39m(\n\u001b[1;32m    240\u001b[0m     \u001b[38;5;124mf\u001b[39m\u001b[38;5;124m\"\"\"\u001b[39m\u001b[38;5;124mTraining base predictors on \u001b[39m\u001b[38;5;132;01m{\u001b[39;00mmodality_name\u001b[38;5;132;01m}\u001b[39;00m\u001b[38;5;124m...\u001b[39m\n\u001b[1;32m    241\u001b[0m \u001b[38;5;124m\u001b[39m\u001b[38;5;130;01m\\n\u001b[39;00m\u001b[38;5;124m... for ensemble performance analysis...\u001b[39m\u001b[38;5;124m\"\"\"\u001b[39m\n\u001b[1;32m    242\u001b[0m )\n",
      "File \u001b[0;32m~/.venv/lib64/python3.9/site-packages/sklearn/utils/_testing.py:188\u001b[0m, in \u001b[0;36m_IgnoreWarnings.__call__.<locals>.wrapper\u001b[0;34m(*args, **kwargs)\u001b[0m\n\u001b[1;32m    186\u001b[0m \u001b[38;5;28;01mwith\u001b[39;00m warnings\u001b[38;5;241m.\u001b[39mcatch_warnings():\n\u001b[1;32m    187\u001b[0m     warnings\u001b[38;5;241m.\u001b[39msimplefilter(\u001b[38;5;124m\"\u001b[39m\u001b[38;5;124mignore\u001b[39m\u001b[38;5;124m\"\u001b[39m, \u001b[38;5;28mself\u001b[39m\u001b[38;5;241m.\u001b[39mcategory)\n\u001b[0;32m--> 188\u001b[0m     \u001b[38;5;28;01mreturn\u001b[39;00m \u001b[43mfn\u001b[49m\u001b[43m(\u001b[49m\u001b[38;5;241;43m*\u001b[39;49m\u001b[43margs\u001b[49m\u001b[43m,\u001b[49m\u001b[43m \u001b[49m\u001b[38;5;241;43m*\u001b[39;49m\u001b[38;5;241;43m*\u001b[39;49m\u001b[43mkwargs\u001b[49m\u001b[43m)\u001b[49m\n",
      "File \u001b[0;32m~/eipy/eipy/ei.py:402\u001b[0m, in \u001b[0;36mEnsembleIntegration._fit_base\u001b[0;34m(self, X, y, base_predictors, modality_name)\u001b[0m\n\u001b[1;32m    399\u001b[0m \u001b[38;5;28mself\u001b[39m\u001b[38;5;241m.\u001b[39mfeature_names[modality_name] \u001b[38;5;241m=\u001b[39m feature_names\n\u001b[1;32m    400\u001b[0m \u001b[38;5;28mself\u001b[39m\u001b[38;5;241m.\u001b[39mn_features_per_modality\u001b[38;5;241m.\u001b[39mappend(X\u001b[38;5;241m.\u001b[39mshape[\u001b[38;5;241m1\u001b[39m])\n\u001b[0;32m--> 402\u001b[0m ensemble_training_data_modality \u001b[38;5;241m=\u001b[39m \u001b[38;5;28;43mself\u001b[39;49m\u001b[38;5;241;43m.\u001b[39;49m\u001b[43m_fit_base_inner\u001b[49m\u001b[43m(\u001b[49m\n\u001b[1;32m    403\u001b[0m \u001b[43m    \u001b[49m\u001b[43mX\u001b[49m\u001b[38;5;241;43m=\u001b[39;49m\u001b[43mX\u001b[49m\u001b[43m,\u001b[49m\n\u001b[1;32m    404\u001b[0m \u001b[43m    \u001b[49m\u001b[43my\u001b[49m\u001b[38;5;241;43m=\u001b[39;49m\u001b[43my\u001b[49m\u001b[43m,\u001b[49m\n\u001b[1;32m    405\u001b[0m \u001b[43m    \u001b[49m\u001b[43mcv_outer\u001b[49m\u001b[38;5;241;43m=\u001b[39;49m\u001b[38;5;28;43mself\u001b[39;49m\u001b[38;5;241;43m.\u001b[39;49m\u001b[43mcv_outer\u001b[49m\u001b[43m,\u001b[49m\n\u001b[1;32m    406\u001b[0m \u001b[43m    \u001b[49m\u001b[43mcv_inner\u001b[49m\u001b[38;5;241;43m=\u001b[39;49m\u001b[38;5;28;43mself\u001b[39;49m\u001b[38;5;241;43m.\u001b[39;49m\u001b[43mcv_inner\u001b[49m\u001b[43m,\u001b[49m\n\u001b[1;32m    407\u001b[0m \u001b[43m    \u001b[49m\u001b[43mbase_predictors\u001b[49m\u001b[38;5;241;43m=\u001b[39;49m\u001b[38;5;28;43mself\u001b[39;49m\u001b[38;5;241;43m.\u001b[39;49m\u001b[43mbase_predictors\u001b[49m\u001b[43m,\u001b[49m\n\u001b[1;32m    408\u001b[0m \u001b[43m    \u001b[49m\u001b[43mmodality_name\u001b[49m\u001b[38;5;241;43m=\u001b[39;49m\u001b[43mmodality_name\u001b[49m\u001b[43m,\u001b[49m\n\u001b[1;32m    409\u001b[0m \u001b[43m\u001b[49m\u001b[43m)\u001b[49m\n\u001b[1;32m    411\u001b[0m \u001b[38;5;28mself\u001b[39m\u001b[38;5;241m.\u001b[39mensemble_training_data \u001b[38;5;241m=\u001b[39m append_modality(\n\u001b[1;32m    412\u001b[0m     \u001b[38;5;28mself\u001b[39m\u001b[38;5;241m.\u001b[39mensemble_training_data, ensemble_training_data_modality\n\u001b[1;32m    413\u001b[0m )\n\u001b[1;32m    415\u001b[0m ensemble_test_data_modality \u001b[38;5;241m=\u001b[39m \u001b[38;5;28mself\u001b[39m\u001b[38;5;241m.\u001b[39m_fit_base_outer(\n\u001b[1;32m    416\u001b[0m     X\u001b[38;5;241m=\u001b[39mX,\n\u001b[1;32m    417\u001b[0m     y\u001b[38;5;241m=\u001b[39my,\n\u001b[0;32m   (...)\u001b[0m\n\u001b[1;32m    420\u001b[0m     modality_name\u001b[38;5;241m=\u001b[39mmodality_name,\n\u001b[1;32m    421\u001b[0m )\n",
      "File \u001b[0;32m~/eipy/eipy/ei.py:487\u001b[0m, in \u001b[0;36mEnsembleIntegration._fit_base_inner\u001b[0;34m(self, X, y, cv_outer, cv_inner, base_predictors, modality_name)\u001b[0m\n\u001b[1;32m    481\u001b[0m \u001b[38;5;66;03m# define joblib Parallel function\u001b[39;00m\n\u001b[1;32m    482\u001b[0m \u001b[38;5;28;01mwith\u001b[39;00m Parallel(\n\u001b[1;32m    483\u001b[0m     n_jobs\u001b[38;5;241m=\u001b[39m\u001b[38;5;28mself\u001b[39m\u001b[38;5;241m.\u001b[39mn_jobs, verbose\u001b[38;5;241m=\u001b[39m\u001b[38;5;241m0\u001b[39m, backend\u001b[38;5;241m=\u001b[39m\u001b[38;5;28mself\u001b[39m\u001b[38;5;241m.\u001b[39mparallel_backend\n\u001b[1;32m    484\u001b[0m ) \u001b[38;5;28;01mas\u001b[39;00m parallel:\n\u001b[1;32m    485\u001b[0m     \u001b[38;5;28;01mfor\u001b[39;00m _outer_fold_id, (train_index_outer, _test_index_outer) \u001b[38;5;129;01min\u001b[39;00m \u001b[38;5;28menumerate\u001b[39m(\n\u001b[1;32m    486\u001b[0m         tqdm(\n\u001b[0;32m--> 487\u001b[0m             \u001b[43mcv_outer\u001b[49m\u001b[38;5;241;43m.\u001b[39;49m\u001b[43msplit\u001b[49m\u001b[43m(\u001b[49m\u001b[43mX\u001b[49m\u001b[43m,\u001b[49m\u001b[43m \u001b[49m\u001b[38;5;28;43mself\u001b[39;49m\u001b[38;5;241;43m.\u001b[39;49m\u001b[43mfinal_label_frequency\u001b[49m\u001b[43m)\u001b[49m,\n\u001b[1;32m    488\u001b[0m             total\u001b[38;5;241m=\u001b[39mcv_outer\u001b[38;5;241m.\u001b[39mn_splits,\n\u001b[1;32m    489\u001b[0m             desc\u001b[38;5;241m=\u001b[39m\u001b[38;5;124m\"\u001b[39m\u001b[38;5;124mGenerating ensemble training data\u001b[39m\u001b[38;5;124m\"\u001b[39m,\n\u001b[1;32m    490\u001b[0m             bar_format\u001b[38;5;241m=\u001b[39mbar_format,\n\u001b[1;32m    491\u001b[0m         )\n\u001b[1;32m    492\u001b[0m     ):\n\u001b[1;32m    493\u001b[0m         X_train_outer \u001b[38;5;241m=\u001b[39m X[train_index_outer]\n\u001b[1;32m    494\u001b[0m         y_train_outer \u001b[38;5;241m=\u001b[39m y[train_index_outer]\n",
      "File \u001b[0;32m~/.venv/lib64/python3.9/site-packages/sklearn/model_selection/_split.py:771\u001b[0m, in \u001b[0;36mStratifiedKFold.split\u001b[0;34m(self, X, y, groups)\u001b[0m\n\u001b[1;32m    737\u001b[0m \u001b[38;5;28;01mdef\u001b[39;00m \u001b[38;5;21msplit\u001b[39m(\u001b[38;5;28mself\u001b[39m, X, y, groups\u001b[38;5;241m=\u001b[39m\u001b[38;5;28;01mNone\u001b[39;00m):\n\u001b[1;32m    738\u001b[0m \u001b[38;5;250m    \u001b[39m\u001b[38;5;124;03m\"\"\"Generate indices to split data into training and test set.\u001b[39;00m\n\u001b[1;32m    739\u001b[0m \n\u001b[1;32m    740\u001b[0m \u001b[38;5;124;03m    Parameters\u001b[39;00m\n\u001b[0;32m   (...)\u001b[0m\n\u001b[1;32m    769\u001b[0m \u001b[38;5;124;03m    to an integer.\u001b[39;00m\n\u001b[1;32m    770\u001b[0m \u001b[38;5;124;03m    \"\"\"\u001b[39;00m\n\u001b[0;32m--> 771\u001b[0m     y \u001b[38;5;241m=\u001b[39m \u001b[43mcheck_array\u001b[49m\u001b[43m(\u001b[49m\u001b[43my\u001b[49m\u001b[43m,\u001b[49m\u001b[43m \u001b[49m\u001b[43minput_name\u001b[49m\u001b[38;5;241;43m=\u001b[39;49m\u001b[38;5;124;43m\"\u001b[39;49m\u001b[38;5;124;43my\u001b[39;49m\u001b[38;5;124;43m\"\u001b[39;49m\u001b[43m,\u001b[49m\u001b[43m \u001b[49m\u001b[43mensure_2d\u001b[49m\u001b[38;5;241;43m=\u001b[39;49m\u001b[38;5;28;43;01mFalse\u001b[39;49;00m\u001b[43m,\u001b[49m\u001b[43m \u001b[49m\u001b[43mdtype\u001b[49m\u001b[38;5;241;43m=\u001b[39;49m\u001b[38;5;28;43;01mNone\u001b[39;49;00m\u001b[43m)\u001b[49m\n\u001b[1;32m    772\u001b[0m     \u001b[38;5;28;01mreturn\u001b[39;00m \u001b[38;5;28msuper\u001b[39m()\u001b[38;5;241m.\u001b[39msplit(X, y, groups)\n",
      "File \u001b[0;32m~/.venv/lib64/python3.9/site-packages/sklearn/utils/validation.py:929\u001b[0m, in \u001b[0;36mcheck_array\u001b[0;34m(array, accept_sparse, accept_large_sparse, dtype, order, copy, force_all_finite, ensure_2d, allow_nd, ensure_min_samples, ensure_min_features, estimator, input_name)\u001b[0m\n\u001b[1;32m    921\u001b[0m         _assert_all_finite(\n\u001b[1;32m    922\u001b[0m             array,\n\u001b[1;32m    923\u001b[0m             input_name\u001b[38;5;241m=\u001b[39minput_name,\n\u001b[1;32m    924\u001b[0m             estimator_name\u001b[38;5;241m=\u001b[39mestimator_name,\n\u001b[1;32m    925\u001b[0m             allow_nan\u001b[38;5;241m=\u001b[39mforce_all_finite \u001b[38;5;241m==\u001b[39m \u001b[38;5;124m\"\u001b[39m\u001b[38;5;124mallow-nan\u001b[39m\u001b[38;5;124m\"\u001b[39m,\n\u001b[1;32m    926\u001b[0m         )\n\u001b[1;32m    928\u001b[0m \u001b[38;5;28;01mif\u001b[39;00m ensure_min_samples \u001b[38;5;241m>\u001b[39m \u001b[38;5;241m0\u001b[39m:\n\u001b[0;32m--> 929\u001b[0m     n_samples \u001b[38;5;241m=\u001b[39m \u001b[43m_num_samples\u001b[49m\u001b[43m(\u001b[49m\u001b[43marray\u001b[49m\u001b[43m)\u001b[49m\n\u001b[1;32m    930\u001b[0m     \u001b[38;5;28;01mif\u001b[39;00m n_samples \u001b[38;5;241m<\u001b[39m ensure_min_samples:\n\u001b[1;32m    931\u001b[0m         \u001b[38;5;28;01mraise\u001b[39;00m \u001b[38;5;167;01mValueError\u001b[39;00m(\n\u001b[1;32m    932\u001b[0m             \u001b[38;5;124m\"\u001b[39m\u001b[38;5;124mFound array with \u001b[39m\u001b[38;5;132;01m%d\u001b[39;00m\u001b[38;5;124m sample(s) (shape=\u001b[39m\u001b[38;5;132;01m%s\u001b[39;00m\u001b[38;5;124m) while a\u001b[39m\u001b[38;5;124m\"\u001b[39m\n\u001b[1;32m    933\u001b[0m             \u001b[38;5;124m\"\u001b[39m\u001b[38;5;124m minimum of \u001b[39m\u001b[38;5;132;01m%d\u001b[39;00m\u001b[38;5;124m is required\u001b[39m\u001b[38;5;132;01m%s\u001b[39;00m\u001b[38;5;124m.\u001b[39m\u001b[38;5;124m\"\u001b[39m\n\u001b[1;32m    934\u001b[0m             \u001b[38;5;241m%\u001b[39m (n_samples, array\u001b[38;5;241m.\u001b[39mshape, ensure_min_samples, context)\n\u001b[1;32m    935\u001b[0m         )\n",
      "File \u001b[0;32m~/.venv/lib64/python3.9/site-packages/sklearn/utils/validation.py:335\u001b[0m, in \u001b[0;36m_num_samples\u001b[0;34m(x)\u001b[0m\n\u001b[1;32m    333\u001b[0m \u001b[38;5;28;01mif\u001b[39;00m \u001b[38;5;28mhasattr\u001b[39m(x, \u001b[38;5;124m\"\u001b[39m\u001b[38;5;124mshape\u001b[39m\u001b[38;5;124m\"\u001b[39m) \u001b[38;5;129;01mand\u001b[39;00m x\u001b[38;5;241m.\u001b[39mshape \u001b[38;5;129;01mis\u001b[39;00m \u001b[38;5;129;01mnot\u001b[39;00m \u001b[38;5;28;01mNone\u001b[39;00m:\n\u001b[1;32m    334\u001b[0m     \u001b[38;5;28;01mif\u001b[39;00m \u001b[38;5;28mlen\u001b[39m(x\u001b[38;5;241m.\u001b[39mshape) \u001b[38;5;241m==\u001b[39m \u001b[38;5;241m0\u001b[39m:\n\u001b[0;32m--> 335\u001b[0m         \u001b[38;5;28;01mraise\u001b[39;00m \u001b[38;5;167;01mTypeError\u001b[39;00m(\n\u001b[1;32m    336\u001b[0m             \u001b[38;5;124m\"\u001b[39m\u001b[38;5;124mSingleton array \u001b[39m\u001b[38;5;132;01m%r\u001b[39;00m\u001b[38;5;124m cannot be considered a valid collection.\u001b[39m\u001b[38;5;124m\"\u001b[39m \u001b[38;5;241m%\u001b[39m x\n\u001b[1;32m    337\u001b[0m         )\n\u001b[1;32m    338\u001b[0m     \u001b[38;5;66;03m# Check that shape is returning an integer or default to len\u001b[39;00m\n\u001b[1;32m    339\u001b[0m     \u001b[38;5;66;03m# Dask dataframes may not return numeric shape[0] value\u001b[39;00m\n\u001b[1;32m    340\u001b[0m     \u001b[38;5;28;01mif\u001b[39;00m \u001b[38;5;28misinstance\u001b[39m(x\u001b[38;5;241m.\u001b[39mshape[\u001b[38;5;241m0\u001b[39m], numbers\u001b[38;5;241m.\u001b[39mIntegral):\n",
      "\u001b[0;31mTypeError\u001b[0m: Singleton array array(None, dtype=object) cannot be considered a valid collection."
     ]
    }
   ],
   "source": [
    "from sklearn.model_selection import train_test_split\n",
    "\n",
    "meta_data = []\n",
    "for t in range(n_time_steps):\n",
    "    #time dependent data splitting\n",
    "    labels_at_timestep = y[:, t]\n",
    "    X_train, X_test, y_train, y_test = train_test_split(X, labels_at_timestep, test_size=0.25, random_state=38)\n",
    "    #modalities\n",
    "    features_per_modality = int(n_features/3)\n",
    "    X_train_dict = {f\"Modality_{i}\" : X_train[:,features_per_modality*i: features_per_modality*(i+1),:] for i in range(3)}\n",
    "    X_test_dict = {f\"Modality_{i}\" : X_test[:,features_per_modality*i: features_per_modality*(i+1),:] for i in range(3)}\n",
    "    X_train_timestep = {k: v[:,:,t] for k,v in X_train_dict.items()}\n",
    "\n",
    "    EI_for_timestep = e.EnsembleIntegration(\n",
    "                        base_predictors=base_predictors,\n",
    "                        k_outer=5,\n",
    "                        k_inner=5,\n",
    "                        n_samples=1,\n",
    "                        sampling_strategy=\"oversampling\",\n",
    "                        sampling_aggregation=\"mean\",\n",
    "                        n_jobs=-1,\n",
    "                        metrics=metrics,\n",
    "                        random_state=38,\n",
    "                        project_name=f\"time step {t}\",\n",
    "                        model_building=False,\n",
    "                        )\n",
    "    print(f\"generating metadata for timestep {t}\")\n",
    "    EI_for_timestep.fit_base(X_train_timestep, y_train)\n",
    "    meta_data.append([EI_for_timestep.ensemble_training_data, EI_for_timestep.ensemble_test_data, EI_for_timestep.ensemble_training_data_final, EI_for_timestep.base_summary])"
   ]
  },
  {
   "cell_type": "markdown",
   "metadata": {},
   "source": [
    "rearrange metadata so it's grouped by fold and then ordered by time steps"
   ]
  },
  {
   "cell_type": "code",
   "execution_count": null,
   "metadata": {},
   "outputs": [],
   "source": [
    "RNN_training_data = [[dfs[0][i] for dfs in meta_data] for i in range(5)]\n",
    "RNN_test_data = [[dfs[1][i] for dfs in meta_data] for i in range(5)]\n",
    "RNN_training_data_final = [df[2] for df in meta_data]"
   ]
  },
  {
   "cell_type": "code",
   "execution_count": null,
   "metadata": {},
   "outputs": [],
   "source": [
    "RNN_training_data_fold_zero = [data.drop(columns=[\"labels\"], axis=1) for data in RNN_training_data[0]]\n",
    "data_arrays_per_timepoint = [df.to_numpy() for df in RNN_training_data_fold_zero]\n",
    "\n",
    "tensor_3d = np.stack(data_arrays_per_timepoint, axis=0)\n",
    "tensor_3d = np.transpose(tensor_3d, (1,0,2))"
   ]
  },
  {
   "cell_type": "code",
   "execution_count": null,
   "metadata": {},
   "outputs": [],
   "source": [
    "from keras.utils import to_categorical\n",
    "training_labels_fold_zero = RNN_training_data[0][0][\"labels\"].to_numpy()\n",
    "training_labels_fold_zero = np.repeat(training_labels_fold_zero[:, np.newaxis], tensor_3d.shape[1], axis=1)\n",
    "training_labels_fold_zero = to_categorical(training_labels_fold_zero, num_classes=3)"
   ]
  },
  {
   "cell_type": "markdown",
   "metadata": {},
   "source": [
    "## single lstm seq2seq model"
   ]
  },
  {
   "cell_type": "code",
   "execution_count": null,
   "metadata": {},
   "outputs": [],
   "source": [
    "from keras.models import Sequential\n",
    "from keras.layers import LSTM,Dense\n",
    "lstm = Sequential()\n",
    "lstm.add(LSTM(units=50, input_shape=(8,90), return_sequences=True))\n",
    "lstm.add(Dense(units=3, activation='softmax'))\n",
    "lstm.compile(optimizer='adam', loss='categorical_crossentropy', metrics=['accuracy'])\n",
    "\n"
   ]
  },
  {
   "cell_type": "code",
   "execution_count": null,
   "metadata": {},
   "outputs": [],
   "source": [
    "tensor_3d.shape, training_labels_fold_zero.shape"
   ]
  },
  {
   "cell_type": "code",
   "execution_count": null,
   "metadata": {},
   "outputs": [],
   "source": [
    "lstm.fit(tensor_3d, training_labels_fold_zero)"
   ]
  },
  {
   "cell_type": "code",
   "execution_count": null,
   "metadata": {},
   "outputs": [],
   "source": [
    "RNN_test_data_fold_zero = [data.drop(columns=[\"labels\"], axis=1) for data in RNN_test_data[0]]\n",
    "data_arrays_per_timepoint_test = [df.to_numpy() for df in RNN_test_data_fold_zero]\n",
    "\n",
    "tensor_3d_test = np.stack(data_arrays_per_timepoint_test, axis=0)\n",
    "tensor_3d_test = np.transpose(tensor_3d_test, (1,0,2))"
   ]
  },
  {
   "cell_type": "code",
   "execution_count": null,
   "metadata": {},
   "outputs": [],
   "source": [
    "y_pred=lstm.predict(tensor_3d_test)"
   ]
  },
  {
   "cell_type": "code",
   "execution_count": null,
   "metadata": {},
   "outputs": [],
   "source": [
    "y_pred.shape"
   ]
  },
  {
   "cell_type": "code",
   "execution_count": null,
   "metadata": {},
   "outputs": [],
   "source": [
    "test_labels_fold_zero = RNN_test_data[0][0][\"labels\"].to_numpy()\n",
    "test_labels_fold_zero = np.repeat(test_labels_fold_zero[:, np.newaxis], tensor_3d.shape[1], axis=1)\n",
    "test_labels_fold_zero = to_categorical(test_labels_fold_zero, num_classes=3)"
   ]
  },
  {
   "cell_type": "code",
   "execution_count": null,
   "metadata": {},
   "outputs": [],
   "source": [
    "from sklearn.metrics import confusion_matrix, accuracy_score\n",
    "y_true_flat = np.argmax(test_labels_fold_zero, axis=2).flatten()\n",
    "y_pred_flat = np.argmax(y_pred, axis=2).flatten()\n",
    "\n",
    "conf_matrix = confusion_matrix(y_true_flat, y_pred_flat)\n",
    "accuracy_score(y_true_flat, y_pred_flat)"
   ]
  },
  {
   "cell_type": "code",
   "execution_count": null,
   "metadata": {},
   "outputs": [],
   "source": [
    "####HI OVER HERE###\n",
    "import importlib\n",
    "importlib.reload(e)\n",
    "###HEYOOOOOO#"
   ]
  },
  {
   "cell_type": "code",
   "execution_count": null,
   "metadata": {},
   "outputs": [],
   "source": [
    "from keras.models import Sequential\n",
    "from keras.layers import LSTM, GRU, Dense, Masking\n",
    "\n",
    "performance_for_timesteps = []\n",
    "for t in range(n_time_steps):\n",
    "    \n",
    "    #Defining models for time dependent inputs#\n",
    "    lstm = Sequential()\n",
    "\n",
    "    if n_classes == 2:\n",
    "        lstm.add(LSTM(units=50, input_shape=(t+1,30))) # return_sequences=True to get prediction vectors at every time step\n",
    "        lstm.add(Dense(units=1, activation='sigmoid'))\n",
    "        lstm.compile(optimizer='adam', loss='binary_crossentropy', metrics=['accuracy'])\n",
    "    else:\n",
    "        # masking_layer = Masking(mask_value=0.0, input_shape=(None,30*n_classes))\n",
    "        lstm.add(LSTM(units=50, input_shape=(t+1,30*n_classes), return_sequences=False))\n",
    "        lstm.add(Dense(units=3, activation='softmax'))\n",
    "        lstm.compile(optimizer='adam', loss='sparse_categorical_crossentropy', metrics=['accuracy'])\n",
    "\n",
    "    gru = Sequential()\n",
    "    \n",
    "    if n_classes == 2:\n",
    "        gru.add(GRU(units=50, input_shape=(t+1, 30)))\n",
    "        gru.add(Dense(units=1, activation='sigmoid'))\n",
    "        gru.compile(optimizer='adam', loss='binary_crossentropy', metrics=['accuracy'])\n",
    "    else:\n",
    "        gru.add(GRU(units=50, input_shape=(t+1, 30*n_classes)))\n",
    "        gru.add(Dense(units=3, activation='softmax'))\n",
    "        gru.compile(optimizer='adam', loss='sparse_categorical_crossentropy', metrics=['accuracy'])\n",
    "    \n",
    "    ensembles = {\"LSTM\": lstm\n",
    "                #  ,\"GRU\": gru\n",
    "            }\n",
    "\n",
    "    ensemble_training_data = [x[:t+1] for x in RNN_training_data]\n",
    "    ensemble_test_data = [x[:t+1] for x in RNN_test_data]\n",
    "    # ensemble_training_data_final = [x[:t] for x in RNN_training_data_final]\n",
    "    RNNs = e.EnsembleIntegration(\n",
    "                base_predictors=base_predictors,\n",
    "                k_outer=5,\n",
    "                k_inner=5,\n",
    "                n_samples=1,\n",
    "                sampling_strategy=None,\n",
    "                sampling_aggregation=None,\n",
    "                n_jobs=-1,\n",
    "                metrics=metrics,\n",
    "                random_state=38,\n",
    "                project_name=\"test\",\n",
    "                model_building=False,\n",
    "                )\n",
    "    RNNs.modality_names = [\"stuff\"]\n",
    "    RNNs.ensemble_training_data = ensemble_training_data\n",
    "    RNNs.ensemble_test_data = ensemble_test_data\n",
    "    # RNNs.ensemble_training_data_final = ensemble_training_data_final\n",
    "\n",
    "    RNNs.fit_ensemble(ensemble_predictors=ensembles)\n",
    "    performance_for_timesteps.append(RNNs.ensemble_summary[\"metrics\"])\n"
   ]
  },
  {
   "cell_type": "code",
   "execution_count": null,
   "metadata": {},
   "outputs": [],
   "source": [
    "dfs = performance_for_timesteps\n",
    "result_df = pd.concat(dfs, axis=1, keys=range(len(dfs)))"
   ]
  },
  {
   "cell_type": "code",
   "execution_count": null,
   "metadata": {},
   "outputs": [],
   "source": [
    "result_df"
   ]
  },
  {
   "cell_type": "code",
   "execution_count": null,
   "metadata": {},
   "outputs": [],
   "source": []
  }
 ],
 "metadata": {
  "kernelspec": {
   "display_name": ".venv",
   "language": "python",
   "name": "python3"
  },
  "language_info": {
   "codemirror_mode": {
    "name": "ipython",
    "version": 3
   },
   "file_extension": ".py",
   "mimetype": "text/x-python",
   "name": "python",
   "nbconvert_exporter": "python",
   "pygments_lexer": "ipython3",
   "version": "3.9.16"
  }
 },
 "nbformat": 4,
 "nbformat_minor": 2
}
