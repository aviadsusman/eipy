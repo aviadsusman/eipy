{
 "cells": [
  {
   "cell_type": "code",
   "execution_count": 1,
   "metadata": {},
   "outputs": [],
   "source": [
    "from sklearn.ensemble import AdaBoostClassifier, GradientBoostingClassifier, RandomForestClassifier\n",
    "from sklearn.tree import DecisionTreeClassifier\n",
    "from sklearn.neighbors import KNeighborsClassifier\n",
    "from sklearn.linear_model import LogisticRegression\n",
    "from sklearn.naive_bayes import GaussianNB\n",
    "from sklearn.svm import SVC\n",
    "from sklearn.neural_network import MLPClassifier\n",
    "from xgboost import XGBClassifier\n",
    "import pandas as pd\n",
    "import eipy.ei as e\n",
    "from eipy.additional_ensembles import MeanAggregation, CES"
   ]
  },
  {
   "cell_type": "code",
   "execution_count": 2,
   "metadata": {},
   "outputs": [],
   "source": [
    "from eipy.metrics import fmax_score\n",
    "from sklearn.metrics import roc_auc_score, matthews_corrcoef\n",
    "\n",
    "metrics = {\n",
    "            'f_max': fmax_score,\n",
    "            'auc': roc_auc_score,\n",
    "            'mcc': matthews_corrcoef\n",
    "            }"
   ]
  },
  {
   "cell_type": "code",
   "execution_count": 3,
   "metadata": {},
   "outputs": [],
   "source": [
    "base_predictors = {\n",
    "                    'ADAB': AdaBoostClassifier(),\n",
    "                    'XGB': XGBClassifier(),\n",
    "                    'DT': DecisionTreeClassifier(),\n",
    "                    'RF': RandomForestClassifier(),\n",
    "                    'GB': GradientBoostingClassifier(),\n",
    "                    'KNN': KNeighborsClassifier(),\n",
    "                    'LR': LogisticRegression(),\n",
    "                    'NB': GaussianNB(),\n",
    "                    'MLP': MLPClassifier(),\n",
    "                    'SVM': SVC(probability=True),\n",
    "}"
   ]
  },
  {
   "cell_type": "markdown",
   "metadata": {},
   "source": [
    "## data generation"
   ]
  },
  {
   "cell_type": "code",
   "execution_count": 4,
   "metadata": {},
   "outputs": [],
   "source": [
    "import numpy as np\n",
    "\n",
    "np.random.seed(38)\n",
    "\n",
    "n_samples = 600"
   ]
  },
  {
   "cell_type": "markdown",
   "metadata": {},
   "source": [
    "### longitudinal modalities"
   ]
  },
  {
   "cell_type": "code",
   "execution_count": 5,
   "metadata": {},
   "outputs": [],
   "source": [
    "import numpy as np\n",
    "# Number of samples\n",
    "n_samples = 600\n",
    "\n",
    "# Number of time steps\n",
    "n_time_steps = 8\n",
    "\n",
    "# Number of features at each time step\n",
    "n_classes = 3\n",
    "\n",
    "if n_classes == 2:\n",
    "    n_features = 12\n",
    "    # Generate toy dataset with regularity\n",
    "    X_class0 = np.random.randn(n_samples // 2, n_features, n_time_steps) + 1.5  # Add a bias to Class 0\n",
    "    X_class1 = np.random.randn(n_samples // 2, n_features, n_time_steps) - 1.5  # Subtract a bias from Class 1\n",
    "    X_l = np.concatenate([X_class0, X_class1])\n",
    "\n",
    "    # Generate labels (two classes)\n",
    "    y_l = np.concatenate([np.zeros(n_samples // 2), np.ones(n_samples // 2)])\n",
    "\n",
    "else:\n",
    "    n_features = 12*n_classes\n",
    "    # Generate toy dataset with less order and three classes\n",
    "    X_class0 = np.random.randn(n_samples // 3, n_features, n_time_steps) + 1.5  # Add a bias to Class 0\n",
    "    X_class1 = np.random.randn(n_samples // 3, n_features, n_time_steps) - 1.5  # Subtract a bias from Class 1\n",
    "    X_class2 = np.random.randn(n_samples // 3, n_features, n_time_steps) * 0.5  # Introduce disorder in Class 2\n",
    "    X_l = np.concatenate([X_class0, X_class1, X_class2])\n",
    "\n",
    "    # Generate labels (three classes)\n",
    "    y = np.concatenate([np.zeros(n_samples // 3), np.ones(n_samples // 3), 2 * np.ones(n_samples // 3)])\n"
   ]
  },
  {
   "cell_type": "markdown",
   "metadata": {},
   "source": [
    "### static modalities"
   ]
  },
  {
   "cell_type": "code",
   "execution_count": 6,
   "metadata": {},
   "outputs": [],
   "source": [
    "'''n_classes = 3'''\n",
    "\n",
    "def generate_data(n_samples, lim):\n",
    "    \"\"\"Generate random data in a rectangle\"\"\"\n",
    "    lim = np.array(lim)\n",
    "    n_features = lim.shape[0]\n",
    "    data = np.random.random((n_samples, n_features))\n",
    "    data = (lim[:, 1]-lim[:, 0]) * data + lim[:, 0]\n",
    "    return data\n",
    "\n",
    "n_samples_per = int(n_samples/3)\n",
    "\n",
    "view_0 = np.concatenate((generate_data(n_samples_per, [[0., 1.], [0., 1.]]),\n",
    "                         generate_data(n_samples_per, [[1., 2.], [0., 1.]]),\n",
    "                         generate_data(n_samples_per, [[0., 2.], [0., 1.]])))\n",
    "\n",
    "view_1 = np.concatenate((generate_data(n_samples_per, [[1., 2.], [0., 1.]]),\n",
    "                         generate_data(n_samples_per, [[0., 2.], [0., 1.]]),\n",
    "                         generate_data(n_samples_per, [[0., 1.], [0., 1.]])))\n",
    "\n",
    "view_2 = np.concatenate((generate_data(n_samples_per, [[0., 2.], [0., 1.]]),\n",
    "                         generate_data(n_samples_per, [[0., 1.], [0., 1.]]),\n",
    "                         generate_data(n_samples_per, [[1., 2.], [0., 1.]])))\n",
    "\n",
    "X_s = np.concatenate((view_0, view_1, view_2), axis=1)"
   ]
  },
  {
   "cell_type": "code",
   "execution_count": 7,
   "metadata": {},
   "outputs": [],
   "source": [
    "# Shuffle the dataset\n",
    "shuffle_indices = np.random.permutation(n_samples)\n",
    "X_l = X_l[shuffle_indices]\n",
    "X_s = X_s[shuffle_indices]\n",
    "y = y[shuffle_indices]"
   ]
  },
  {
   "cell_type": "code",
   "execution_count": 8,
   "metadata": {},
   "outputs": [],
   "source": [
    "from sklearn.model_selection import train_test_split\n",
    "X_train_l, X_test_l, y_train, y_test = train_test_split(X_l, y, test_size=0.25, random_state=38, stratify=y)\n",
    "X_train_s, X_test_s, _,_ = train_test_split(X_s, y, test_size=0.25, random_state=38, stratify=y)"
   ]
  },
  {
   "cell_type": "code",
   "execution_count": 9,
   "metadata": {},
   "outputs": [],
   "source": [
    "X_train_l_dict = {\"Longitudinal_Modality_1\" : X_train_l[:,:12,:],\n",
    "                \"Longitudinal_Modality_2\" : X_train_l[:,12:24,:],\n",
    "                \"Longitudinal_Modality_3\" : X_train_l[:,24:36,:]}\n",
    "\n",
    "X_test_l_dict = {\"Longitudinal_Modality_1\" : X_test_l[:,:12,:],\n",
    "                \"Longitudinal_Modality_2\" : X_test_l[:,12:24,:],\n",
    "                \"Longitudinal_Modality_3\" : X_test_l[:,24:36,:]}"
   ]
  },
  {
   "cell_type": "code",
   "execution_count": 10,
   "metadata": {},
   "outputs": [],
   "source": [
    "X_train_s_dict = {\"Static_Modality_1\" : X_train_s[:,:2],\n",
    "                \"Static_Modality_2\" : X_train_s[:,2:4],\n",
    "                \"Static_Modality_3\" : X_train_s[:,4:]}\n",
    "\n",
    "X_test_s_dict = {\"Static_Modality_1\" : X_test_s[:,:2],\n",
    "                \"Static_Modality_2\" : X_test_s[:,2:4],\n",
    "                \"Static_Modality_3\" : X_test_s[:,4:]}"
   ]
  },
  {
   "cell_type": "code",
   "execution_count": 11,
   "metadata": {},
   "outputs": [
    {
     "data": {
      "text/plain": [
       "<module 'eipy.ei' from '/home/opc/eipy/eipy/ei.py'>"
      ]
     },
     "execution_count": 11,
     "metadata": {},
     "output_type": "execute_result"
    }
   ],
   "source": [
    "####HI OVER HERE###\n",
    "import importlib\n",
    "importlib.reload(e)\n",
    "###HEYOOOOOO#"
   ]
  },
  {
   "cell_type": "markdown",
   "metadata": {},
   "source": [
    "# Time Series Training\n",
    "BPs for every time point, train LSTM, gather outputs for classification"
   ]
  },
  {
   "cell_type": "code",
   "execution_count": 12,
   "metadata": {},
   "outputs": [
    {
     "name": "stdout",
     "output_type": "stream",
     "text": [
      "generating metadata for timestep 0\n",
      "Training base predictors on None...\n",
      "        \n",
      "... for ensemble performance analysis...\n"
     ]
    },
    {
     "name": "stderr",
     "output_type": "stream",
     "text": [
      "Generating ensemble training data: |██████████|100%\n",
      "Generating ensemble test data: |██████████|100%\n"
     ]
    },
    {
     "name": "stdout",
     "output_type": "stream",
     "text": [
      "\n",
      "\n"
     ]
    },
    {
     "name": "stderr",
     "output_type": "stream",
     "text": [
      "Generating ensemble training data: |██████████|100%\n",
      "Generating ensemble test data: |██████████|100%\n"
     ]
    },
    {
     "name": "stdout",
     "output_type": "stream",
     "text": [
      "\n",
      "\n"
     ]
    },
    {
     "name": "stderr",
     "output_type": "stream",
     "text": [
      "Generating ensemble training data: |██████████|100%\n",
      "Generating ensemble test data: |██████████|100%\n"
     ]
    },
    {
     "name": "stdout",
     "output_type": "stream",
     "text": [
      "\n",
      "\n",
      "generating metadata for timestep 1\n",
      "Training base predictors on None...\n",
      "        \n",
      "... for ensemble performance analysis...\n"
     ]
    },
    {
     "name": "stderr",
     "output_type": "stream",
     "text": [
      "Generating ensemble training data: |██████████|100%\n",
      "Generating ensemble test data: |██████████|100%\n"
     ]
    },
    {
     "name": "stdout",
     "output_type": "stream",
     "text": [
      "\n",
      "\n"
     ]
    },
    {
     "name": "stderr",
     "output_type": "stream",
     "text": [
      "Generating ensemble training data: |██████████|100%\n",
      "Generating ensemble test data: |██████████|100%\n"
     ]
    },
    {
     "name": "stdout",
     "output_type": "stream",
     "text": [
      "\n",
      "\n"
     ]
    },
    {
     "name": "stderr",
     "output_type": "stream",
     "text": [
      "Generating ensemble training data: |██████████|100%\n",
      "Generating ensemble test data: |██████████|100%\n"
     ]
    },
    {
     "name": "stdout",
     "output_type": "stream",
     "text": [
      "\n",
      "\n",
      "generating metadata for timestep 2\n",
      "Training base predictors on None...\n",
      "        \n",
      "... for ensemble performance analysis...\n"
     ]
    },
    {
     "name": "stderr",
     "output_type": "stream",
     "text": [
      "Generating ensemble training data: |██████████|100%\n",
      "Generating ensemble test data: |██████████|100%\n"
     ]
    },
    {
     "name": "stdout",
     "output_type": "stream",
     "text": [
      "\n",
      "\n"
     ]
    },
    {
     "name": "stderr",
     "output_type": "stream",
     "text": [
      "Generating ensemble training data: |██████████|100%\n",
      "Generating ensemble test data: |██████████|100%\n"
     ]
    },
    {
     "name": "stdout",
     "output_type": "stream",
     "text": [
      "\n",
      "\n"
     ]
    },
    {
     "name": "stderr",
     "output_type": "stream",
     "text": [
      "Generating ensemble training data: |██████████|100%\n",
      "Generating ensemble test data: |██████████|100%\n"
     ]
    },
    {
     "name": "stdout",
     "output_type": "stream",
     "text": [
      "\n",
      "\n",
      "generating metadata for timestep 3\n",
      "Training base predictors on None...\n",
      "        \n",
      "... for ensemble performance analysis...\n"
     ]
    },
    {
     "name": "stderr",
     "output_type": "stream",
     "text": [
      "Generating ensemble training data: |██████████|100%\n",
      "Generating ensemble test data: |██████████|100%\n"
     ]
    },
    {
     "name": "stdout",
     "output_type": "stream",
     "text": [
      "\n",
      "\n"
     ]
    },
    {
     "name": "stderr",
     "output_type": "stream",
     "text": [
      "Generating ensemble training data: |██████████|100%\n",
      "Generating ensemble test data: |██████████|100%\n"
     ]
    },
    {
     "name": "stdout",
     "output_type": "stream",
     "text": [
      "\n",
      "\n"
     ]
    },
    {
     "name": "stderr",
     "output_type": "stream",
     "text": [
      "Generating ensemble training data: |██████████|100%\n",
      "Generating ensemble test data: |██████████|100%\n"
     ]
    },
    {
     "name": "stdout",
     "output_type": "stream",
     "text": [
      "\n",
      "\n",
      "generating metadata for timestep 4\n",
      "Training base predictors on None...\n",
      "        \n",
      "... for ensemble performance analysis...\n"
     ]
    },
    {
     "name": "stderr",
     "output_type": "stream",
     "text": [
      "Generating ensemble training data: |██████████|100%\n",
      "Generating ensemble test data: |██████████|100%\n"
     ]
    },
    {
     "name": "stdout",
     "output_type": "stream",
     "text": [
      "\n",
      "\n"
     ]
    },
    {
     "name": "stderr",
     "output_type": "stream",
     "text": [
      "Generating ensemble training data: |██████████|100%\n",
      "Generating ensemble test data: |██████████|100%\n"
     ]
    },
    {
     "name": "stdout",
     "output_type": "stream",
     "text": [
      "\n",
      "\n"
     ]
    },
    {
     "name": "stderr",
     "output_type": "stream",
     "text": [
      "Generating ensemble training data: |██████████|100%\n",
      "Generating ensemble test data: |██████████|100%\n"
     ]
    },
    {
     "name": "stdout",
     "output_type": "stream",
     "text": [
      "\n",
      "\n",
      "generating metadata for timestep 5\n",
      "Training base predictors on None...\n",
      "        \n",
      "... for ensemble performance analysis...\n"
     ]
    },
    {
     "name": "stderr",
     "output_type": "stream",
     "text": [
      "Generating ensemble training data: |██████████|100%\n",
      "Generating ensemble test data: |██████████|100%\n"
     ]
    },
    {
     "name": "stdout",
     "output_type": "stream",
     "text": [
      "\n",
      "\n"
     ]
    },
    {
     "name": "stderr",
     "output_type": "stream",
     "text": [
      "Generating ensemble training data: |██████████|100%\n",
      "Generating ensemble test data: |██████████|100%\n"
     ]
    },
    {
     "name": "stdout",
     "output_type": "stream",
     "text": [
      "\n",
      "\n"
     ]
    },
    {
     "name": "stderr",
     "output_type": "stream",
     "text": [
      "Generating ensemble training data: |██████████|100%\n",
      "Generating ensemble test data: |██████████|100%\n"
     ]
    },
    {
     "name": "stdout",
     "output_type": "stream",
     "text": [
      "\n",
      "\n",
      "generating metadata for timestep 6\n",
      "Training base predictors on None...\n",
      "        \n",
      "... for ensemble performance analysis...\n"
     ]
    },
    {
     "name": "stderr",
     "output_type": "stream",
     "text": [
      "Generating ensemble training data: |██████████|100%\n",
      "Generating ensemble test data: |██████████|100%\n"
     ]
    },
    {
     "name": "stdout",
     "output_type": "stream",
     "text": [
      "\n",
      "\n"
     ]
    },
    {
     "name": "stderr",
     "output_type": "stream",
     "text": [
      "Generating ensemble training data: |██████████|100%\n",
      "Generating ensemble test data: |██████████|100%\n"
     ]
    },
    {
     "name": "stdout",
     "output_type": "stream",
     "text": [
      "\n",
      "\n"
     ]
    },
    {
     "name": "stderr",
     "output_type": "stream",
     "text": [
      "Generating ensemble training data: |██████████|100%\n",
      "Generating ensemble test data: |██████████|100%\n"
     ]
    },
    {
     "name": "stdout",
     "output_type": "stream",
     "text": [
      "\n",
      "\n",
      "generating metadata for timestep 7\n",
      "Training base predictors on None...\n",
      "        \n",
      "... for ensemble performance analysis...\n"
     ]
    },
    {
     "name": "stderr",
     "output_type": "stream",
     "text": [
      "Generating ensemble training data: |██████████|100%\n",
      "Generating ensemble test data: |██████████|100%\n"
     ]
    },
    {
     "name": "stdout",
     "output_type": "stream",
     "text": [
      "\n",
      "\n"
     ]
    },
    {
     "name": "stderr",
     "output_type": "stream",
     "text": [
      "Generating ensemble training data: |██████████|100%\n",
      "Generating ensemble test data: |██████████|100%\n"
     ]
    },
    {
     "name": "stdout",
     "output_type": "stream",
     "text": [
      "\n",
      "\n"
     ]
    },
    {
     "name": "stderr",
     "output_type": "stream",
     "text": [
      "Generating ensemble training data: |██████████|100%\n",
      "Generating ensemble test data: |██████████|100%\n"
     ]
    },
    {
     "name": "stdout",
     "output_type": "stream",
     "text": [
      "\n",
      "\n"
     ]
    }
   ],
   "source": [
    "meta_data_l = []\n",
    "for i in range(X_l.shape[-1]):\n",
    "    X_train_timestep = {k: v[:,:,i] for k,v in X_train_l_dict.items()}\n",
    "    EI_for_timestep = e.EnsembleIntegration(\n",
    "                        base_predictors=base_predictors,\n",
    "                        k_outer=5,\n",
    "                        k_inner=5,\n",
    "                        n_samples=1,\n",
    "                        sampling_strategy=None,\n",
    "                        sampling_aggregation=\"mean\",\n",
    "                        n_jobs=-1,\n",
    "                        metrics=metrics,\n",
    "                        random_state=38,\n",
    "                        project_name=\"time step {i}\",\n",
    "                        model_building=False,\n",
    "                        )\n",
    "    print(f\"generating metadata for timestep {i}\")\n",
    "    EI_for_timestep.fit_base(X_train_timestep, y_train)\n",
    "    meta_data_l.append([EI_for_timestep.ensemble_training_data, EI_for_timestep.ensemble_test_data, EI_for_timestep.ensemble_training_data_final, EI_for_timestep.base_summary])"
   ]
  },
  {
   "cell_type": "markdown",
   "metadata": {},
   "source": [
    "rearrange metadata so it's grouped by fold and then ordered by time steps"
   ]
  },
  {
   "cell_type": "code",
   "execution_count": 13,
   "metadata": {},
   "outputs": [],
   "source": [
    "LSTM_training_data = [[dfs[0][i] for dfs in meta_data_l] for i in range(5)]\n",
    "LSTM_test_data = [[dfs[1][i] for dfs in meta_data_l] for i in range(5)]\n",
    "LSTM_training_data_final = [df[2] for df in meta_data_l]"
   ]
  },
  {
   "cell_type": "code",
   "execution_count": 14,
   "metadata": {},
   "outputs": [
    {
     "name": "stderr",
     "output_type": "stream",
     "text": [
      "2023-12-12 20:25:15.079765: I external/local_tsl/tsl/cuda/cudart_stub.cc:31] Could not find cuda drivers on your machine, GPU will not be used.\n",
      "2023-12-12 20:25:15.108321: E external/local_xla/xla/stream_executor/cuda/cuda_dnn.cc:9261] Unable to register cuDNN factory: Attempting to register factory for plugin cuDNN when one has already been registered\n",
      "2023-12-12 20:25:15.108350: E external/local_xla/xla/stream_executor/cuda/cuda_fft.cc:607] Unable to register cuFFT factory: Attempting to register factory for plugin cuFFT when one has already been registered\n",
      "2023-12-12 20:25:15.109127: E external/local_xla/xla/stream_executor/cuda/cuda_blas.cc:1515] Unable to register cuBLAS factory: Attempting to register factory for plugin cuBLAS when one has already been registered\n",
      "2023-12-12 20:25:15.113876: I external/local_tsl/tsl/cuda/cudart_stub.cc:31] Could not find cuda drivers on your machine, GPU will not be used.\n",
      "2023-12-12 20:25:15.114413: I tensorflow/core/platform/cpu_feature_guard.cc:182] This TensorFlow binary is optimized to use available CPU instructions in performance-critical operations.\n",
      "To enable the following instructions: AVX2 FMA, in other operations, rebuild TensorFlow with the appropriate compiler flags.\n",
      "2023-12-12 20:25:15.945945: W tensorflow/compiler/tf2tensorrt/utils/py_utils.cc:38] TF-TRT Warning: Could not find TensorRT\n"
     ]
    }
   ],
   "source": [
    "from keras.models import Sequential\n",
    "from keras.layers import LSTM, Dense\n",
    "\n",
    "model = Sequential()\n",
    "\n",
    "if n_classes == 2:\n",
    "    model.add(LSTM(units=50, input_shape=(8,30))) # return_sequences=True to get prediction vectors at every time step\n",
    "    model.add(Dense(units=1, activation='sigmoid'))\n",
    "    model.compile(optimizer='adam', loss='binary_crossentropy', metrics=['accuracy'])\n",
    "else:\n",
    "    model.add(LSTM(units=50, input_shape=(8,30*n_classes))) # return_sequences=True to get prediction vectors at every time step\n",
    "    model.add(Dense(units=3, activation='softmax'))\n",
    "    model.compile(optimizer='adam', loss='sparse_categorical_crossentropy', metrics=['accuracy'])\n",
    "\n"
   ]
  },
  {
   "cell_type": "code",
   "execution_count": 15,
   "metadata": {},
   "outputs": [],
   "source": [
    "ensembles = {\"LSTM\": model}\n",
    "LSTMs = e.EnsembleIntegration(\n",
    "                    base_predictors=base_predictors,\n",
    "                    k_outer=5,\n",
    "                    k_inner=5,\n",
    "                    n_samples=1,\n",
    "                    sampling_strategy=None,\n",
    "                    sampling_aggregation=None,\n",
    "                    n_jobs=-1,\n",
    "                    metrics=metrics,\n",
    "                    random_state=38,\n",
    "                    project_name=\"test\",\n",
    "                    model_building=False,\n",
    "                    )\n",
    "LSTMs.modality_names = [\"stuff\"]\n",
    "LSTMs.ensemble_training_data = LSTM_training_data\n",
    "LSTMs.ensemble_test_data = LSTM_test_data\n",
    "LSTMs.ensemble_training_data_final = LSTM_training_data_final"
   ]
  },
  {
   "cell_type": "code",
   "execution_count": 16,
   "metadata": {},
   "outputs": [
    {
     "data": {
      "text/html": [
       "<div>\n",
       "<style scoped>\n",
       "    .dataframe tbody tr th:only-of-type {\n",
       "        vertical-align: middle;\n",
       "    }\n",
       "\n",
       "    .dataframe tbody tr th {\n",
       "        vertical-align: top;\n",
       "    }\n",
       "\n",
       "    .dataframe thead tr th {\n",
       "        text-align: left;\n",
       "    }\n",
       "</style>\n",
       "<table border=\"1\" class=\"dataframe\">\n",
       "  <thead>\n",
       "    <tr>\n",
       "      <th>modality</th>\n",
       "      <th colspan=\"10\" halign=\"left\">Longitudinal_Modality_1</th>\n",
       "      <th>...</th>\n",
       "      <th colspan=\"9\" halign=\"left\">Longitudinal_Modality_3</th>\n",
       "      <th>labels</th>\n",
       "    </tr>\n",
       "    <tr>\n",
       "      <th>base predictor</th>\n",
       "      <th colspan=\"3\" halign=\"left\">ADAB</th>\n",
       "      <th colspan=\"3\" halign=\"left\">XGB</th>\n",
       "      <th colspan=\"3\" halign=\"left\">DT</th>\n",
       "      <th>RF</th>\n",
       "      <th>...</th>\n",
       "      <th colspan=\"3\" halign=\"left\">NB</th>\n",
       "      <th colspan=\"3\" halign=\"left\">MLP</th>\n",
       "      <th colspan=\"3\" halign=\"left\">SVM</th>\n",
       "      <th></th>\n",
       "    </tr>\n",
       "    <tr>\n",
       "      <th>sample</th>\n",
       "      <th colspan=\"3\" halign=\"left\">0</th>\n",
       "      <th colspan=\"3\" halign=\"left\">0</th>\n",
       "      <th colspan=\"3\" halign=\"left\">0</th>\n",
       "      <th>0</th>\n",
       "      <th>...</th>\n",
       "      <th colspan=\"3\" halign=\"left\">0</th>\n",
       "      <th colspan=\"3\" halign=\"left\">0</th>\n",
       "      <th colspan=\"3\" halign=\"left\">0</th>\n",
       "      <th></th>\n",
       "    </tr>\n",
       "    <tr>\n",
       "      <th>class</th>\n",
       "      <th>0</th>\n",
       "      <th>1</th>\n",
       "      <th>2</th>\n",
       "      <th>0</th>\n",
       "      <th>1</th>\n",
       "      <th>2</th>\n",
       "      <th>0</th>\n",
       "      <th>1</th>\n",
       "      <th>2</th>\n",
       "      <th>0</th>\n",
       "      <th>...</th>\n",
       "      <th>0</th>\n",
       "      <th>1</th>\n",
       "      <th>2</th>\n",
       "      <th>0</th>\n",
       "      <th>1</th>\n",
       "      <th>2</th>\n",
       "      <th>0</th>\n",
       "      <th>1</th>\n",
       "      <th>2</th>\n",
       "      <th></th>\n",
       "    </tr>\n",
       "  </thead>\n",
       "  <tbody>\n",
       "    <tr>\n",
       "      <th>0</th>\n",
       "      <td>5.251190e-01</td>\n",
       "      <td>3.199779e-06</td>\n",
       "      <td>4.748778e-01</td>\n",
       "      <td>0.997148</td>\n",
       "      <td>0.001122</td>\n",
       "      <td>0.001729</td>\n",
       "      <td>1.0</td>\n",
       "      <td>0.0</td>\n",
       "      <td>0.0</td>\n",
       "      <td>1.00</td>\n",
       "      <td>...</td>\n",
       "      <td>1.000000e+00</td>\n",
       "      <td>7.989039e-25</td>\n",
       "      <td>1.953481e-33</td>\n",
       "      <td>9.999856e-01</td>\n",
       "      <td>1.101943e-09</td>\n",
       "      <td>0.000014</td>\n",
       "      <td>0.996735</td>\n",
       "      <td>0.002373</td>\n",
       "      <td>0.000891</td>\n",
       "      <td>0.0</td>\n",
       "    </tr>\n",
       "    <tr>\n",
       "      <th>1</th>\n",
       "      <td>5.251190e-01</td>\n",
       "      <td>3.199779e-06</td>\n",
       "      <td>4.748778e-01</td>\n",
       "      <td>0.981133</td>\n",
       "      <td>0.001357</td>\n",
       "      <td>0.017510</td>\n",
       "      <td>1.0</td>\n",
       "      <td>0.0</td>\n",
       "      <td>0.0</td>\n",
       "      <td>0.92</td>\n",
       "      <td>...</td>\n",
       "      <td>1.000000e+00</td>\n",
       "      <td>1.182075e-17</td>\n",
       "      <td>9.729428e-18</td>\n",
       "      <td>9.971371e-01</td>\n",
       "      <td>8.671220e-07</td>\n",
       "      <td>0.002862</td>\n",
       "      <td>0.990386</td>\n",
       "      <td>0.004573</td>\n",
       "      <td>0.005040</td>\n",
       "      <td>0.0</td>\n",
       "    </tr>\n",
       "    <tr>\n",
       "      <th>2</th>\n",
       "      <td>5.251190e-01</td>\n",
       "      <td>3.199779e-06</td>\n",
       "      <td>4.748778e-01</td>\n",
       "      <td>0.016918</td>\n",
       "      <td>0.004002</td>\n",
       "      <td>0.979080</td>\n",
       "      <td>1.0</td>\n",
       "      <td>0.0</td>\n",
       "      <td>0.0</td>\n",
       "      <td>0.17</td>\n",
       "      <td>...</td>\n",
       "      <td>3.325784e-10</td>\n",
       "      <td>4.983025e-07</td>\n",
       "      <td>9.999995e-01</td>\n",
       "      <td>3.793939e-03</td>\n",
       "      <td>3.283699e-02</td>\n",
       "      <td>0.963369</td>\n",
       "      <td>0.001620</td>\n",
       "      <td>0.021772</td>\n",
       "      <td>0.976608</td>\n",
       "      <td>2.0</td>\n",
       "    </tr>\n",
       "    <tr>\n",
       "      <th>3</th>\n",
       "      <td>6.021478e-09</td>\n",
       "      <td>9.999993e-01</td>\n",
       "      <td>6.501027e-07</td>\n",
       "      <td>0.001693</td>\n",
       "      <td>0.986599</td>\n",
       "      <td>0.011709</td>\n",
       "      <td>0.0</td>\n",
       "      <td>1.0</td>\n",
       "      <td>0.0</td>\n",
       "      <td>0.00</td>\n",
       "      <td>...</td>\n",
       "      <td>1.687843e-23</td>\n",
       "      <td>1.000000e+00</td>\n",
       "      <td>1.040526e-23</td>\n",
       "      <td>3.324525e-07</td>\n",
       "      <td>9.997490e-01</td>\n",
       "      <td>0.000251</td>\n",
       "      <td>0.005977</td>\n",
       "      <td>0.989655</td>\n",
       "      <td>0.004368</td>\n",
       "      <td>1.0</td>\n",
       "    </tr>\n",
       "    <tr>\n",
       "      <th>4</th>\n",
       "      <td>4.175610e-01</td>\n",
       "      <td>9.878799e-06</td>\n",
       "      <td>5.824291e-01</td>\n",
       "      <td>0.002239</td>\n",
       "      <td>0.003925</td>\n",
       "      <td>0.993836</td>\n",
       "      <td>0.0</td>\n",
       "      <td>0.0</td>\n",
       "      <td>1.0</td>\n",
       "      <td>0.01</td>\n",
       "      <td>...</td>\n",
       "      <td>4.746891e-08</td>\n",
       "      <td>4.970004e-10</td>\n",
       "      <td>1.000000e+00</td>\n",
       "      <td>2.386376e-02</td>\n",
       "      <td>3.507003e-03</td>\n",
       "      <td>0.972629</td>\n",
       "      <td>0.008536</td>\n",
       "      <td>0.003850</td>\n",
       "      <td>0.987614</td>\n",
       "      <td>2.0</td>\n",
       "    </tr>\n",
       "    <tr>\n",
       "      <th>...</th>\n",
       "      <td>...</td>\n",
       "      <td>...</td>\n",
       "      <td>...</td>\n",
       "      <td>...</td>\n",
       "      <td>...</td>\n",
       "      <td>...</td>\n",
       "      <td>...</td>\n",
       "      <td>...</td>\n",
       "      <td>...</td>\n",
       "      <td>...</td>\n",
       "      <td>...</td>\n",
       "      <td>...</td>\n",
       "      <td>...</td>\n",
       "      <td>...</td>\n",
       "      <td>...</td>\n",
       "      <td>...</td>\n",
       "      <td>...</td>\n",
       "      <td>...</td>\n",
       "      <td>...</td>\n",
       "      <td>...</td>\n",
       "      <td>...</td>\n",
       "    </tr>\n",
       "    <tr>\n",
       "      <th>355</th>\n",
       "      <td>1.000000e+00</td>\n",
       "      <td>7.882588e-13</td>\n",
       "      <td>8.014463e-12</td>\n",
       "      <td>0.997180</td>\n",
       "      <td>0.000938</td>\n",
       "      <td>0.001882</td>\n",
       "      <td>1.0</td>\n",
       "      <td>0.0</td>\n",
       "      <td>0.0</td>\n",
       "      <td>1.00</td>\n",
       "      <td>...</td>\n",
       "      <td>1.000000e+00</td>\n",
       "      <td>3.331025e-23</td>\n",
       "      <td>2.748271e-42</td>\n",
       "      <td>9.943449e-01</td>\n",
       "      <td>7.050346e-09</td>\n",
       "      <td>0.005655</td>\n",
       "      <td>0.932318</td>\n",
       "      <td>0.057637</td>\n",
       "      <td>0.010045</td>\n",
       "      <td>0.0</td>\n",
       "    </tr>\n",
       "    <tr>\n",
       "      <th>356</th>\n",
       "      <td>5.194164e-06</td>\n",
       "      <td>5.004942e-01</td>\n",
       "      <td>4.995006e-01</td>\n",
       "      <td>0.017686</td>\n",
       "      <td>0.002141</td>\n",
       "      <td>0.980172</td>\n",
       "      <td>0.0</td>\n",
       "      <td>0.0</td>\n",
       "      <td>1.0</td>\n",
       "      <td>0.13</td>\n",
       "      <td>...</td>\n",
       "      <td>7.790807e-08</td>\n",
       "      <td>1.463195e-07</td>\n",
       "      <td>9.999998e-01</td>\n",
       "      <td>2.121340e-02</td>\n",
       "      <td>1.279666e-02</td>\n",
       "      <td>0.965990</td>\n",
       "      <td>0.008002</td>\n",
       "      <td>0.013118</td>\n",
       "      <td>0.978880</td>\n",
       "      <td>2.0</td>\n",
       "    </tr>\n",
       "    <tr>\n",
       "      <th>357</th>\n",
       "      <td>1.000000e+00</td>\n",
       "      <td>2.075669e-13</td>\n",
       "      <td>4.757039e-10</td>\n",
       "      <td>0.997378</td>\n",
       "      <td>0.000873</td>\n",
       "      <td>0.001749</td>\n",
       "      <td>1.0</td>\n",
       "      <td>0.0</td>\n",
       "      <td>0.0</td>\n",
       "      <td>1.00</td>\n",
       "      <td>...</td>\n",
       "      <td>1.000000e+00</td>\n",
       "      <td>1.160302e-22</td>\n",
       "      <td>3.438703e-27</td>\n",
       "      <td>9.997978e-01</td>\n",
       "      <td>4.115177e-09</td>\n",
       "      <td>0.000202</td>\n",
       "      <td>0.994655</td>\n",
       "      <td>0.003077</td>\n",
       "      <td>0.002269</td>\n",
       "      <td>0.0</td>\n",
       "    </tr>\n",
       "    <tr>\n",
       "      <th>358</th>\n",
       "      <td>5.194164e-06</td>\n",
       "      <td>5.004942e-01</td>\n",
       "      <td>4.995006e-01</td>\n",
       "      <td>0.001940</td>\n",
       "      <td>0.001842</td>\n",
       "      <td>0.996218</td>\n",
       "      <td>0.0</td>\n",
       "      <td>0.0</td>\n",
       "      <td>1.0</td>\n",
       "      <td>0.03</td>\n",
       "      <td>...</td>\n",
       "      <td>1.933703e-08</td>\n",
       "      <td>9.689083e-09</td>\n",
       "      <td>1.000000e+00</td>\n",
       "      <td>5.835056e-03</td>\n",
       "      <td>3.841587e-03</td>\n",
       "      <td>0.990323</td>\n",
       "      <td>0.005713</td>\n",
       "      <td>0.005498</td>\n",
       "      <td>0.988789</td>\n",
       "      <td>2.0</td>\n",
       "    </tr>\n",
       "    <tr>\n",
       "      <th>359</th>\n",
       "      <td>1.000000e+00</td>\n",
       "      <td>3.648439e-11</td>\n",
       "      <td>7.054517e-10</td>\n",
       "      <td>0.997922</td>\n",
       "      <td>0.000709</td>\n",
       "      <td>0.001369</td>\n",
       "      <td>1.0</td>\n",
       "      <td>0.0</td>\n",
       "      <td>0.0</td>\n",
       "      <td>1.00</td>\n",
       "      <td>...</td>\n",
       "      <td>1.000000e+00</td>\n",
       "      <td>1.257983e-23</td>\n",
       "      <td>3.944771e-37</td>\n",
       "      <td>9.999185e-01</td>\n",
       "      <td>6.285273e-10</td>\n",
       "      <td>0.000081</td>\n",
       "      <td>0.993669</td>\n",
       "      <td>0.004608</td>\n",
       "      <td>0.001724</td>\n",
       "      <td>0.0</td>\n",
       "    </tr>\n",
       "  </tbody>\n",
       "</table>\n",
       "<p>360 rows × 91 columns</p>\n",
       "</div>"
      ],
      "text/plain": [
       "modality       Longitudinal_Modality_1                                        \\\n",
       "base predictor                    ADAB                                   XGB   \n",
       "sample                               0                                     0   \n",
       "class                                0             1             2         0   \n",
       "0                         5.251190e-01  3.199779e-06  4.748778e-01  0.997148   \n",
       "1                         5.251190e-01  3.199779e-06  4.748778e-01  0.981133   \n",
       "2                         5.251190e-01  3.199779e-06  4.748778e-01  0.016918   \n",
       "3                         6.021478e-09  9.999993e-01  6.501027e-07  0.001693   \n",
       "4                         4.175610e-01  9.878799e-06  5.824291e-01  0.002239   \n",
       "..                                 ...           ...           ...       ...   \n",
       "355                       1.000000e+00  7.882588e-13  8.014463e-12  0.997180   \n",
       "356                       5.194164e-06  5.004942e-01  4.995006e-01  0.017686   \n",
       "357                       1.000000e+00  2.075669e-13  4.757039e-10  0.997378   \n",
       "358                       5.194164e-06  5.004942e-01  4.995006e-01  0.001940   \n",
       "359                       1.000000e+00  3.648439e-11  7.054517e-10  0.997922   \n",
       "\n",
       "modality                                                 ...  \\\n",
       "base predictor                       DT              RF  ...   \n",
       "sample                                0               0  ...   \n",
       "class                  1         2    0    1    2     0  ...   \n",
       "0               0.001122  0.001729  1.0  0.0  0.0  1.00  ...   \n",
       "1               0.001357  0.017510  1.0  0.0  0.0  0.92  ...   \n",
       "2               0.004002  0.979080  1.0  0.0  0.0  0.17  ...   \n",
       "3               0.986599  0.011709  0.0  1.0  0.0  0.00  ...   \n",
       "4               0.003925  0.993836  0.0  0.0  1.0  0.01  ...   \n",
       "..                   ...       ...  ...  ...  ...   ...  ...   \n",
       "355             0.000938  0.001882  1.0  0.0  0.0  1.00  ...   \n",
       "356             0.002141  0.980172  0.0  0.0  1.0  0.13  ...   \n",
       "357             0.000873  0.001749  1.0  0.0  0.0  1.00  ...   \n",
       "358             0.001842  0.996218  0.0  0.0  1.0  0.03  ...   \n",
       "359             0.000709  0.001369  1.0  0.0  0.0  1.00  ...   \n",
       "\n",
       "modality       Longitudinal_Modality_3                              \\\n",
       "base predictor                      NB                               \n",
       "sample                               0                               \n",
       "class                                0             1             2   \n",
       "0                         1.000000e+00  7.989039e-25  1.953481e-33   \n",
       "1                         1.000000e+00  1.182075e-17  9.729428e-18   \n",
       "2                         3.325784e-10  4.983025e-07  9.999995e-01   \n",
       "3                         1.687843e-23  1.000000e+00  1.040526e-23   \n",
       "4                         4.746891e-08  4.970004e-10  1.000000e+00   \n",
       "..                                 ...           ...           ...   \n",
       "355                       1.000000e+00  3.331025e-23  2.748271e-42   \n",
       "356                       7.790807e-08  1.463195e-07  9.999998e-01   \n",
       "357                       1.000000e+00  1.160302e-22  3.438703e-27   \n",
       "358                       1.933703e-08  9.689083e-09  1.000000e+00   \n",
       "359                       1.000000e+00  1.257983e-23  3.944771e-37   \n",
       "\n",
       "modality                                                                  \\\n",
       "base predictor           MLP                               SVM             \n",
       "sample                     0                                 0             \n",
       "class                      0             1         2         0         1   \n",
       "0               9.999856e-01  1.101943e-09  0.000014  0.996735  0.002373   \n",
       "1               9.971371e-01  8.671220e-07  0.002862  0.990386  0.004573   \n",
       "2               3.793939e-03  3.283699e-02  0.963369  0.001620  0.021772   \n",
       "3               3.324525e-07  9.997490e-01  0.000251  0.005977  0.989655   \n",
       "4               2.386376e-02  3.507003e-03  0.972629  0.008536  0.003850   \n",
       "..                       ...           ...       ...       ...       ...   \n",
       "355             9.943449e-01  7.050346e-09  0.005655  0.932318  0.057637   \n",
       "356             2.121340e-02  1.279666e-02  0.965990  0.008002  0.013118   \n",
       "357             9.997978e-01  4.115177e-09  0.000202  0.994655  0.003077   \n",
       "358             5.835056e-03  3.841587e-03  0.990323  0.005713  0.005498   \n",
       "359             9.999185e-01  6.285273e-10  0.000081  0.993669  0.004608   \n",
       "\n",
       "modality                 labels  \n",
       "base predictor                   \n",
       "sample                           \n",
       "class                  2         \n",
       "0               0.000891    0.0  \n",
       "1               0.005040    0.0  \n",
       "2               0.976608    2.0  \n",
       "3               0.004368    1.0  \n",
       "4               0.987614    2.0  \n",
       "..                   ...    ...  \n",
       "355             0.010045    0.0  \n",
       "356             0.978880    2.0  \n",
       "357             0.002269    0.0  \n",
       "358             0.988789    2.0  \n",
       "359             0.001724    0.0  \n",
       "\n",
       "[360 rows x 91 columns]"
      ]
     },
     "execution_count": 16,
     "metadata": {},
     "output_type": "execute_result"
    }
   ],
   "source": [
    "LSTMs.ensemble_training_data[0][0]"
   ]
  },
  {
   "cell_type": "code",
   "execution_count": 17,
   "metadata": {},
   "outputs": [
    {
     "name": "stderr",
     "output_type": "stream",
     "text": [
      "Analyzing ensembles: |          |  0%"
     ]
    },
    {
     "name": "stdout",
     "output_type": "stream",
     "text": [
      "Epoch 1/10\n",
      "12/12 [==============================] - 1s 4ms/step - loss: 0.4235 - accuracy: 0.9361\n",
      "Epoch 2/10\n",
      "12/12 [==============================] - 0s 3ms/step - loss: 0.0398 - accuracy: 1.0000\n",
      "Epoch 3/10\n",
      "12/12 [==============================] - 0s 3ms/step - loss: 0.0130 - accuracy: 1.0000\n",
      "Epoch 4/10\n",
      "12/12 [==============================] - 0s 3ms/step - loss: 0.0075 - accuracy: 1.0000\n",
      "Epoch 5/10\n",
      "12/12 [==============================] - 0s 3ms/step - loss: 0.0054 - accuracy: 1.0000\n",
      "Epoch 6/10\n",
      "12/12 [==============================] - 0s 3ms/step - loss: 0.0043 - accuracy: 1.0000\n",
      "Epoch 7/10\n",
      "12/12 [==============================] - 0s 3ms/step - loss: 0.0035 - accuracy: 1.0000\n",
      "Epoch 8/10\n",
      "12/12 [==============================] - 0s 3ms/step - loss: 0.0030 - accuracy: 1.0000\n",
      "Epoch 9/10\n",
      "12/12 [==============================] - 0s 3ms/step - loss: 0.0026 - accuracy: 1.0000\n",
      "Epoch 10/10\n",
      "12/12 [==============================] - 0s 3ms/step - loss: 0.0023 - accuracy: 1.0000\n",
      "3/3 [==============================] - 0s 2ms/step\n",
      "Epoch 1/10\n",
      "12/12 [==============================] - 0s 3ms/step - loss: 0.0020 - accuracy: 1.0000\n",
      "Epoch 2/10\n",
      "12/12 [==============================] - 0s 3ms/step - loss: 0.0018 - accuracy: 1.0000\n",
      "Epoch 3/10\n",
      "12/12 [==============================] - 0s 3ms/step - loss: 0.0016 - accuracy: 1.0000\n",
      "Epoch 4/10\n",
      "12/12 [==============================] - 0s 3ms/step - loss: 0.0015 - accuracy: 1.0000\n",
      "Epoch 5/10\n",
      "12/12 [==============================] - 0s 3ms/step - loss: 0.0014 - accuracy: 1.0000\n",
      "Epoch 6/10\n",
      "12/12 [==============================] - 0s 3ms/step - loss: 0.0012 - accuracy: 1.0000\n",
      "Epoch 7/10\n",
      "12/12 [==============================] - 0s 3ms/step - loss: 0.0011 - accuracy: 1.0000\n",
      "Epoch 8/10\n",
      "12/12 [==============================] - 0s 3ms/step - loss: 0.0011 - accuracy: 1.0000\n",
      "Epoch 9/10\n",
      "12/12 [==============================] - 0s 3ms/step - loss: 9.8670e-04 - accuracy: 1.0000\n",
      "Epoch 10/10\n",
      "12/12 [==============================] - 0s 3ms/step - loss: 9.2041e-04 - accuracy: 1.0000\n",
      "3/3 [==============================] - 0s 2ms/step\n",
      "Epoch 1/10\n",
      "12/12 [==============================] - 0s 3ms/step - loss: 8.6325e-04 - accuracy: 1.0000\n",
      "Epoch 2/10\n",
      "12/12 [==============================] - 0s 3ms/step - loss: 8.0975e-04 - accuracy: 1.0000\n",
      "Epoch 3/10\n",
      "12/12 [==============================] - 0s 3ms/step - loss: 7.6155e-04 - accuracy: 1.0000\n",
      "Epoch 4/10\n",
      "12/12 [==============================] - 0s 3ms/step - loss: 7.1780e-04 - accuracy: 1.0000\n",
      "Epoch 5/10\n",
      "12/12 [==============================] - 0s 3ms/step - loss: 6.7796e-04 - accuracy: 1.0000\n",
      "Epoch 6/10\n",
      "12/12 [==============================] - 0s 3ms/step - loss: 6.4146e-04 - accuracy: 1.0000\n",
      "Epoch 7/10\n",
      "12/12 [==============================] - 0s 3ms/step - loss: 6.0811e-04 - accuracy: 1.0000\n",
      "Epoch 8/10\n",
      "12/12 [==============================] - 0s 3ms/step - loss: 5.7746e-04 - accuracy: 1.0000\n",
      "Epoch 9/10\n",
      "12/12 [==============================] - 0s 3ms/step - loss: 5.4917e-04 - accuracy: 1.0000\n",
      "Epoch 10/10\n",
      "12/12 [==============================] - 0s 3ms/step - loss: 5.2304e-04 - accuracy: 1.0000\n",
      "3/3 [==============================] - 0s 2ms/step\n",
      "Epoch 1/10\n",
      "12/12 [==============================] - 0s 3ms/step - loss: 4.9659e-04 - accuracy: 1.0000\n",
      "Epoch 2/10\n",
      "12/12 [==============================] - 0s 3ms/step - loss: 4.7414e-04 - accuracy: 1.0000\n",
      "Epoch 3/10\n",
      "12/12 [==============================] - 0s 3ms/step - loss: 4.5302e-04 - accuracy: 1.0000\n",
      "Epoch 4/10\n",
      "12/12 [==============================] - 0s 3ms/step - loss: 4.3348e-04 - accuracy: 1.0000\n",
      "Epoch 5/10\n",
      "12/12 [==============================] - 0s 3ms/step - loss: 4.1507e-04 - accuracy: 1.0000\n",
      "Epoch 6/10\n",
      "12/12 [==============================] - 0s 3ms/step - loss: 3.9774e-04 - accuracy: 1.0000\n",
      "Epoch 7/10\n",
      "12/12 [==============================] - 0s 3ms/step - loss: 3.8149e-04 - accuracy: 1.0000\n",
      "Epoch 8/10\n",
      "12/12 [==============================] - 0s 3ms/step - loss: 3.6618e-04 - accuracy: 1.0000\n",
      "Epoch 9/10\n",
      "12/12 [==============================] - 0s 3ms/step - loss: 3.5177e-04 - accuracy: 1.0000\n",
      "Epoch 10/10\n",
      "12/12 [==============================] - 0s 3ms/step - loss: 3.3821e-04 - accuracy: 1.0000\n",
      "3/3 [==============================] - 0s 2ms/step\n",
      "Epoch 1/10\n",
      "12/12 [==============================] - 0s 3ms/step - loss: 3.2748e-04 - accuracy: 1.0000\n",
      "Epoch 2/10\n",
      "12/12 [==============================] - 0s 3ms/step - loss: 3.1535e-04 - accuracy: 1.0000\n",
      "Epoch 3/10\n",
      "12/12 [==============================] - 0s 3ms/step - loss: 3.0388e-04 - accuracy: 1.0000\n",
      "Epoch 4/10\n",
      "12/12 [==============================] - 0s 3ms/step - loss: 2.9312e-04 - accuracy: 1.0000\n",
      "Epoch 5/10\n",
      "12/12 [==============================] - 0s 3ms/step - loss: 2.8295e-04 - accuracy: 1.0000\n",
      "Epoch 6/10\n",
      "12/12 [==============================] - 0s 3ms/step - loss: 2.7335e-04 - accuracy: 1.0000\n",
      "Epoch 7/10\n",
      "12/12 [==============================] - 0s 3ms/step - loss: 2.6435e-04 - accuracy: 1.0000\n",
      "Epoch 8/10\n",
      "12/12 [==============================] - 0s 3ms/step - loss: 2.5581e-04 - accuracy: 1.0000\n",
      "Epoch 9/10\n",
      "12/12 [==============================] - 0s 3ms/step - loss: 2.4777e-04 - accuracy: 1.0000\n",
      "Epoch 10/10\n",
      "12/12 [==============================] - 0s 3ms/step - loss: 2.4014e-04 - accuracy: 1.0000\n",
      "3/3 [==============================] - 0s 2ms/step\n"
     ]
    },
    {
     "name": "stderr",
     "output_type": "stream",
     "text": [
      "Analyzing ensembles: |██████████|100%\n"
     ]
    },
    {
     "data": {
      "text/plain": [
       "<eipy.ei.EnsembleIntegration at 0x7f2e6dc2ca00>"
      ]
     },
     "execution_count": 17,
     "metadata": {},
     "output_type": "execute_result"
    }
   ],
   "source": [
    "LSTMs.fit_ensemble(ensemble_predictors=ensembles)"
   ]
  },
  {
   "cell_type": "code",
   "execution_count": 18,
   "metadata": {},
   "outputs": [
    {
     "data": {
      "text/html": [
       "<div>\n",
       "<style scoped>\n",
       "    .dataframe tbody tr th:only-of-type {\n",
       "        vertical-align: middle;\n",
       "    }\n",
       "\n",
       "    .dataframe tbody tr th {\n",
       "        vertical-align: top;\n",
       "    }\n",
       "\n",
       "    .dataframe thead th {\n",
       "        text-align: right;\n",
       "    }\n",
       "</style>\n",
       "<table border=\"1\" class=\"dataframe\">\n",
       "  <thead>\n",
       "    <tr style=\"text-align: right;\">\n",
       "      <th></th>\n",
       "      <th>LSTM</th>\n",
       "    </tr>\n",
       "  </thead>\n",
       "  <tbody>\n",
       "    <tr>\n",
       "      <th>precision</th>\n",
       "      <td>1.0</td>\n",
       "    </tr>\n",
       "    <tr>\n",
       "      <th>recall</th>\n",
       "      <td>1.0</td>\n",
       "    </tr>\n",
       "    <tr>\n",
       "      <th>f1</th>\n",
       "      <td>1.0</td>\n",
       "    </tr>\n",
       "  </tbody>\n",
       "</table>\n",
       "</div>"
      ],
      "text/plain": [
       "           LSTM\n",
       "precision   1.0\n",
       "recall      1.0\n",
       "f1          1.0"
      ]
     },
     "execution_count": 18,
     "metadata": {},
     "output_type": "execute_result"
    }
   ],
   "source": [
    "LSTMs.ensemble_summary[\"metrics\"]"
   ]
  },
  {
   "cell_type": "code",
   "execution_count": 19,
   "metadata": {},
   "outputs": [
    {
     "data": {
      "text/html": [
       "<div>\n",
       "<style scoped>\n",
       "    .dataframe tbody tr th:only-of-type {\n",
       "        vertical-align: middle;\n",
       "    }\n",
       "\n",
       "    .dataframe tbody tr th {\n",
       "        vertical-align: top;\n",
       "    }\n",
       "\n",
       "    .dataframe thead th {\n",
       "        text-align: right;\n",
       "    }\n",
       "</style>\n",
       "<table border=\"1\" class=\"dataframe\">\n",
       "  <thead>\n",
       "    <tr style=\"text-align: right;\">\n",
       "      <th></th>\n",
       "      <th>LSTM</th>\n",
       "      <th>labels</th>\n",
       "    </tr>\n",
       "  </thead>\n",
       "  <tbody>\n",
       "    <tr>\n",
       "      <th>0</th>\n",
       "      <td>[0.0012731026, 0.0012062319, 0.9975207]</td>\n",
       "      <td>2.0</td>\n",
       "    </tr>\n",
       "    <tr>\n",
       "      <th>1</th>\n",
       "      <td>[0.99810755, 0.0008441844, 0.0010482991]</td>\n",
       "      <td>0.0</td>\n",
       "    </tr>\n",
       "    <tr>\n",
       "      <th>2</th>\n",
       "      <td>[0.99809515, 0.0008402936, 0.0010645002]</td>\n",
       "      <td>0.0</td>\n",
       "    </tr>\n",
       "    <tr>\n",
       "      <th>3</th>\n",
       "      <td>[0.99809074, 0.00083391333, 0.0010752946]</td>\n",
       "      <td>0.0</td>\n",
       "    </tr>\n",
       "    <tr>\n",
       "      <th>4</th>\n",
       "      <td>[0.0012862621, 0.0013876104, 0.99732614]</td>\n",
       "      <td>2.0</td>\n",
       "    </tr>\n",
       "    <tr>\n",
       "      <th>...</th>\n",
       "      <td>...</td>\n",
       "      <td>...</td>\n",
       "    </tr>\n",
       "    <tr>\n",
       "      <th>445</th>\n",
       "      <td>[0.00012395647, 0.00014904412, 0.9997269]</td>\n",
       "      <td>2.0</td>\n",
       "    </tr>\n",
       "    <tr>\n",
       "      <th>446</th>\n",
       "      <td>[0.00011791702, 0.00014521994, 0.9997368]</td>\n",
       "      <td>2.0</td>\n",
       "    </tr>\n",
       "    <tr>\n",
       "      <th>447</th>\n",
       "      <td>[9.010268e-05, 0.9997647, 0.00014510354]</td>\n",
       "      <td>1.0</td>\n",
       "    </tr>\n",
       "    <tr>\n",
       "      <th>448</th>\n",
       "      <td>[0.9997774, 0.00010366881, 0.000118941134]</td>\n",
       "      <td>0.0</td>\n",
       "    </tr>\n",
       "    <tr>\n",
       "      <th>449</th>\n",
       "      <td>[0.00011871448, 0.0001458515, 0.9997354]</td>\n",
       "      <td>2.0</td>\n",
       "    </tr>\n",
       "  </tbody>\n",
       "</table>\n",
       "<p>450 rows × 2 columns</p>\n",
       "</div>"
      ],
      "text/plain": [
       "                                           LSTM  labels\n",
       "0       [0.0012731026, 0.0012062319, 0.9975207]     2.0\n",
       "1      [0.99810755, 0.0008441844, 0.0010482991]     0.0\n",
       "2      [0.99809515, 0.0008402936, 0.0010645002]     0.0\n",
       "3     [0.99809074, 0.00083391333, 0.0010752946]     0.0\n",
       "4      [0.0012862621, 0.0013876104, 0.99732614]     2.0\n",
       "..                                          ...     ...\n",
       "445   [0.00012395647, 0.00014904412, 0.9997269]     2.0\n",
       "446   [0.00011791702, 0.00014521994, 0.9997368]     2.0\n",
       "447    [9.010268e-05, 0.9997647, 0.00014510354]     1.0\n",
       "448  [0.9997774, 0.00010366881, 0.000118941134]     0.0\n",
       "449    [0.00011871448, 0.0001458515, 0.9997354]     2.0\n",
       "\n",
       "[450 rows x 2 columns]"
      ]
     },
     "execution_count": 19,
     "metadata": {},
     "output_type": "execute_result"
    }
   ],
   "source": [
    "LSTMs.ensemble_predictions"
   ]
  },
  {
   "cell_type": "markdown",
   "metadata": {},
   "source": [
    "# Static Training"
   ]
  },
  {
   "cell_type": "code",
   "execution_count": 20,
   "metadata": {},
   "outputs": [
    {
     "name": "stdout",
     "output_type": "stream",
     "text": [
      "Training base predictors on None...\n",
      "        \n",
      "... for ensemble performance analysis...\n"
     ]
    },
    {
     "name": "stderr",
     "output_type": "stream",
     "text": [
      "Generating ensemble training data: |██████████|100%\n",
      "Generating ensemble test data: |██████████|100%\n"
     ]
    },
    {
     "name": "stdout",
     "output_type": "stream",
     "text": [
      "\n",
      "\n"
     ]
    },
    {
     "name": "stderr",
     "output_type": "stream",
     "text": [
      "Generating ensemble training data: |██████████|100%\n",
      "Generating ensemble test data: |██████████|100%\n"
     ]
    },
    {
     "name": "stdout",
     "output_type": "stream",
     "text": [
      "\n",
      "\n"
     ]
    },
    {
     "name": "stderr",
     "output_type": "stream",
     "text": [
      "Generating ensemble training data: |██████████|100%\n",
      "Generating ensemble test data: |██████████|100%\n"
     ]
    },
    {
     "name": "stdout",
     "output_type": "stream",
     "text": [
      "\n",
      "\n"
     ]
    }
   ],
   "source": [
    "EI = e.EnsembleIntegration(\n",
    "                    base_predictors=base_predictors,\n",
    "                    k_outer=5,\n",
    "                    k_inner=5,\n",
    "                    n_samples=1,\n",
    "                    sampling_strategy=None,\n",
    "                    sampling_aggregation=None,\n",
    "                    n_jobs=-1,\n",
    "                    metrics=metrics,\n",
    "                    random_state=38,\n",
    "                    project_name=\"test\",\n",
    "                    model_building=False,\n",
    "                    )\n",
    "EI.fit_base(X_train_s_dict, y_train)"
   ]
  },
  {
   "cell_type": "code",
   "execution_count": 26,
   "metadata": {},
   "outputs": [
    {
     "data": {
      "text/html": [
       "<div>\n",
       "<style scoped>\n",
       "    .dataframe tbody tr th:only-of-type {\n",
       "        vertical-align: middle;\n",
       "    }\n",
       "\n",
       "    .dataframe tbody tr th {\n",
       "        vertical-align: top;\n",
       "    }\n",
       "\n",
       "    .dataframe thead tr th {\n",
       "        text-align: left;\n",
       "    }\n",
       "</style>\n",
       "<table border=\"1\" class=\"dataframe\">\n",
       "  <thead>\n",
       "    <tr>\n",
       "      <th>modality</th>\n",
       "      <th colspan=\"10\" halign=\"left\">Static_Modality_1</th>\n",
       "      <th>...</th>\n",
       "      <th colspan=\"9\" halign=\"left\">Static_Modality_3</th>\n",
       "      <th>labels</th>\n",
       "    </tr>\n",
       "    <tr>\n",
       "      <th>base predictor</th>\n",
       "      <th colspan=\"3\" halign=\"left\">ADAB</th>\n",
       "      <th colspan=\"3\" halign=\"left\">XGB</th>\n",
       "      <th colspan=\"3\" halign=\"left\">DT</th>\n",
       "      <th>RF</th>\n",
       "      <th>...</th>\n",
       "      <th colspan=\"3\" halign=\"left\">NB</th>\n",
       "      <th colspan=\"3\" halign=\"left\">MLP</th>\n",
       "      <th colspan=\"3\" halign=\"left\">SVM</th>\n",
       "      <th></th>\n",
       "    </tr>\n",
       "    <tr>\n",
       "      <th>sample</th>\n",
       "      <th colspan=\"3\" halign=\"left\">0</th>\n",
       "      <th colspan=\"3\" halign=\"left\">0</th>\n",
       "      <th colspan=\"3\" halign=\"left\">0</th>\n",
       "      <th>0</th>\n",
       "      <th>...</th>\n",
       "      <th colspan=\"3\" halign=\"left\">0</th>\n",
       "      <th colspan=\"3\" halign=\"left\">0</th>\n",
       "      <th colspan=\"3\" halign=\"left\">0</th>\n",
       "      <th></th>\n",
       "    </tr>\n",
       "    <tr>\n",
       "      <th>class</th>\n",
       "      <th>0</th>\n",
       "      <th>1</th>\n",
       "      <th>2</th>\n",
       "      <th>0</th>\n",
       "      <th>1</th>\n",
       "      <th>2</th>\n",
       "      <th>0</th>\n",
       "      <th>1</th>\n",
       "      <th>2</th>\n",
       "      <th>0</th>\n",
       "      <th>...</th>\n",
       "      <th>0</th>\n",
       "      <th>1</th>\n",
       "      <th>2</th>\n",
       "      <th>0</th>\n",
       "      <th>1</th>\n",
       "      <th>2</th>\n",
       "      <th>0</th>\n",
       "      <th>1</th>\n",
       "      <th>2</th>\n",
       "      <th></th>\n",
       "    </tr>\n",
       "  </thead>\n",
       "  <tbody>\n",
       "    <tr>\n",
       "      <th>0</th>\n",
       "      <td>5.035709e-01</td>\n",
       "      <td>2.223164e-16</td>\n",
       "      <td>0.496429</td>\n",
       "      <td>0.568579</td>\n",
       "      <td>0.010540</td>\n",
       "      <td>0.420881</td>\n",
       "      <td>0.0</td>\n",
       "      <td>0.0</td>\n",
       "      <td>1.0</td>\n",
       "      <td>0.39</td>\n",
       "      <td>...</td>\n",
       "      <td>0.267710</td>\n",
       "      <td>0.000185</td>\n",
       "      <td>0.732106</td>\n",
       "      <td>0.324079</td>\n",
       "      <td>0.015917</td>\n",
       "      <td>0.660004</td>\n",
       "      <td>0.347970</td>\n",
       "      <td>0.003142</td>\n",
       "      <td>0.648888</td>\n",
       "      <td>0.0</td>\n",
       "    </tr>\n",
       "    <tr>\n",
       "      <th>1</th>\n",
       "      <td>5.035709e-01</td>\n",
       "      <td>2.223164e-16</td>\n",
       "      <td>0.496429</td>\n",
       "      <td>0.670562</td>\n",
       "      <td>0.001786</td>\n",
       "      <td>0.327652</td>\n",
       "      <td>1.0</td>\n",
       "      <td>0.0</td>\n",
       "      <td>0.0</td>\n",
       "      <td>0.74</td>\n",
       "      <td>...</td>\n",
       "      <td>0.284377</td>\n",
       "      <td>0.005334</td>\n",
       "      <td>0.710289</td>\n",
       "      <td>0.381597</td>\n",
       "      <td>0.043892</td>\n",
       "      <td>0.574510</td>\n",
       "      <td>0.305196</td>\n",
       "      <td>0.003551</td>\n",
       "      <td>0.691253</td>\n",
       "      <td>0.0</td>\n",
       "    </tr>\n",
       "    <tr>\n",
       "      <th>2</th>\n",
       "      <td>2.222862e-16</td>\n",
       "      <td>5.033626e-01</td>\n",
       "      <td>0.496637</td>\n",
       "      <td>0.017583</td>\n",
       "      <td>0.232240</td>\n",
       "      <td>0.750177</td>\n",
       "      <td>0.0</td>\n",
       "      <td>0.0</td>\n",
       "      <td>1.0</td>\n",
       "      <td>0.01</td>\n",
       "      <td>...</td>\n",
       "      <td>0.278408</td>\n",
       "      <td>0.004855</td>\n",
       "      <td>0.716737</td>\n",
       "      <td>0.387690</td>\n",
       "      <td>0.047340</td>\n",
       "      <td>0.564970</td>\n",
       "      <td>0.304786</td>\n",
       "      <td>0.003163</td>\n",
       "      <td>0.692052</td>\n",
       "      <td>2.0</td>\n",
       "    </tr>\n",
       "    <tr>\n",
       "      <th>3</th>\n",
       "      <td>2.222862e-16</td>\n",
       "      <td>5.033626e-01</td>\n",
       "      <td>0.496637</td>\n",
       "      <td>0.000732</td>\n",
       "      <td>0.949683</td>\n",
       "      <td>0.049584</td>\n",
       "      <td>0.0</td>\n",
       "      <td>1.0</td>\n",
       "      <td>0.0</td>\n",
       "      <td>0.00</td>\n",
       "      <td>...</td>\n",
       "      <td>0.196304</td>\n",
       "      <td>0.801793</td>\n",
       "      <td>0.001903</td>\n",
       "      <td>0.228024</td>\n",
       "      <td>0.743035</td>\n",
       "      <td>0.028940</td>\n",
       "      <td>0.279475</td>\n",
       "      <td>0.713706</td>\n",
       "      <td>0.006819</td>\n",
       "      <td>1.0</td>\n",
       "    </tr>\n",
       "    <tr>\n",
       "      <th>4</th>\n",
       "      <td>5.035709e-01</td>\n",
       "      <td>2.223164e-16</td>\n",
       "      <td>0.496429</td>\n",
       "      <td>0.531488</td>\n",
       "      <td>0.001549</td>\n",
       "      <td>0.466963</td>\n",
       "      <td>1.0</td>\n",
       "      <td>0.0</td>\n",
       "      <td>0.0</td>\n",
       "      <td>0.51</td>\n",
       "      <td>...</td>\n",
       "      <td>0.385285</td>\n",
       "      <td>0.054663</td>\n",
       "      <td>0.560052</td>\n",
       "      <td>0.429536</td>\n",
       "      <td>0.122205</td>\n",
       "      <td>0.448260</td>\n",
       "      <td>0.364585</td>\n",
       "      <td>0.022322</td>\n",
       "      <td>0.613094</td>\n",
       "      <td>2.0</td>\n",
       "    </tr>\n",
       "    <tr>\n",
       "      <th>...</th>\n",
       "      <td>...</td>\n",
       "      <td>...</td>\n",
       "      <td>...</td>\n",
       "      <td>...</td>\n",
       "      <td>...</td>\n",
       "      <td>...</td>\n",
       "      <td>...</td>\n",
       "      <td>...</td>\n",
       "      <td>...</td>\n",
       "      <td>...</td>\n",
       "      <td>...</td>\n",
       "      <td>...</td>\n",
       "      <td>...</td>\n",
       "      <td>...</td>\n",
       "      <td>...</td>\n",
       "      <td>...</td>\n",
       "      <td>...</td>\n",
       "      <td>...</td>\n",
       "      <td>...</td>\n",
       "      <td>...</td>\n",
       "      <td>...</td>\n",
       "    </tr>\n",
       "    <tr>\n",
       "      <th>355</th>\n",
       "      <td>5.030655e-01</td>\n",
       "      <td>2.222460e-16</td>\n",
       "      <td>0.496935</td>\n",
       "      <td>0.550837</td>\n",
       "      <td>0.000753</td>\n",
       "      <td>0.448411</td>\n",
       "      <td>0.0</td>\n",
       "      <td>0.0</td>\n",
       "      <td>1.0</td>\n",
       "      <td>0.70</td>\n",
       "      <td>...</td>\n",
       "      <td>0.306048</td>\n",
       "      <td>0.000049</td>\n",
       "      <td>0.693903</td>\n",
       "      <td>0.313804</td>\n",
       "      <td>0.013566</td>\n",
       "      <td>0.672630</td>\n",
       "      <td>0.544425</td>\n",
       "      <td>0.013487</td>\n",
       "      <td>0.442088</td>\n",
       "      <td>0.0</td>\n",
       "    </tr>\n",
       "    <tr>\n",
       "      <th>356</th>\n",
       "      <td>2.223677e-16</td>\n",
       "      <td>5.039007e-01</td>\n",
       "      <td>0.496099</td>\n",
       "      <td>0.000540</td>\n",
       "      <td>0.994551</td>\n",
       "      <td>0.004909</td>\n",
       "      <td>0.0</td>\n",
       "      <td>1.0</td>\n",
       "      <td>0.0</td>\n",
       "      <td>0.04</td>\n",
       "      <td>...</td>\n",
       "      <td>0.286277</td>\n",
       "      <td>0.001806</td>\n",
       "      <td>0.711917</td>\n",
       "      <td>0.378183</td>\n",
       "      <td>0.031623</td>\n",
       "      <td>0.590194</td>\n",
       "      <td>0.293650</td>\n",
       "      <td>0.004968</td>\n",
       "      <td>0.701382</td>\n",
       "      <td>2.0</td>\n",
       "    </tr>\n",
       "    <tr>\n",
       "      <th>357</th>\n",
       "      <td>5.030655e-01</td>\n",
       "      <td>2.222460e-16</td>\n",
       "      <td>0.496935</td>\n",
       "      <td>0.789586</td>\n",
       "      <td>0.003044</td>\n",
       "      <td>0.207370</td>\n",
       "      <td>1.0</td>\n",
       "      <td>0.0</td>\n",
       "      <td>0.0</td>\n",
       "      <td>0.52</td>\n",
       "      <td>...</td>\n",
       "      <td>0.228226</td>\n",
       "      <td>0.771696</td>\n",
       "      <td>0.000077</td>\n",
       "      <td>0.250476</td>\n",
       "      <td>0.730157</td>\n",
       "      <td>0.019367</td>\n",
       "      <td>0.312648</td>\n",
       "      <td>0.681683</td>\n",
       "      <td>0.005669</td>\n",
       "      <td>0.0</td>\n",
       "    </tr>\n",
       "    <tr>\n",
       "      <th>358</th>\n",
       "      <td>2.223677e-16</td>\n",
       "      <td>5.039007e-01</td>\n",
       "      <td>0.496099</td>\n",
       "      <td>0.001445</td>\n",
       "      <td>0.970946</td>\n",
       "      <td>0.027609</td>\n",
       "      <td>0.0</td>\n",
       "      <td>1.0</td>\n",
       "      <td>0.0</td>\n",
       "      <td>0.03</td>\n",
       "      <td>...</td>\n",
       "      <td>0.410600</td>\n",
       "      <td>0.107115</td>\n",
       "      <td>0.482285</td>\n",
       "      <td>0.425756</td>\n",
       "      <td>0.186606</td>\n",
       "      <td>0.387638</td>\n",
       "      <td>0.380765</td>\n",
       "      <td>0.053917</td>\n",
       "      <td>0.565318</td>\n",
       "      <td>2.0</td>\n",
       "    </tr>\n",
       "    <tr>\n",
       "      <th>359</th>\n",
       "      <td>5.030655e-01</td>\n",
       "      <td>2.222460e-16</td>\n",
       "      <td>0.496935</td>\n",
       "      <td>0.992149</td>\n",
       "      <td>0.000160</td>\n",
       "      <td>0.007691</td>\n",
       "      <td>1.0</td>\n",
       "      <td>0.0</td>\n",
       "      <td>0.0</td>\n",
       "      <td>0.97</td>\n",
       "      <td>...</td>\n",
       "      <td>0.430874</td>\n",
       "      <td>0.395734</td>\n",
       "      <td>0.173392</td>\n",
       "      <td>0.400146</td>\n",
       "      <td>0.376118</td>\n",
       "      <td>0.223736</td>\n",
       "      <td>0.391801</td>\n",
       "      <td>0.483838</td>\n",
       "      <td>0.124361</td>\n",
       "      <td>0.0</td>\n",
       "    </tr>\n",
       "  </tbody>\n",
       "</table>\n",
       "<p>360 rows × 91 columns</p>\n",
       "</div>"
      ],
      "text/plain": [
       "modality       Static_Modality_1                                              \\\n",
       "base predictor              ADAB                               XGB             \n",
       "sample                         0                                 0             \n",
       "class                          0             1         2         0         1   \n",
       "0                   5.035709e-01  2.223164e-16  0.496429  0.568579  0.010540   \n",
       "1                   5.035709e-01  2.223164e-16  0.496429  0.670562  0.001786   \n",
       "2                   2.222862e-16  5.033626e-01  0.496637  0.017583  0.232240   \n",
       "3                   2.222862e-16  5.033626e-01  0.496637  0.000732  0.949683   \n",
       "4                   5.035709e-01  2.223164e-16  0.496429  0.531488  0.001549   \n",
       "..                           ...           ...       ...       ...       ...   \n",
       "355                 5.030655e-01  2.222460e-16  0.496935  0.550837  0.000753   \n",
       "356                 2.223677e-16  5.039007e-01  0.496099  0.000540  0.994551   \n",
       "357                 5.030655e-01  2.222460e-16  0.496935  0.789586  0.003044   \n",
       "358                 2.223677e-16  5.039007e-01  0.496099  0.001445  0.970946   \n",
       "359                 5.030655e-01  2.222460e-16  0.496935  0.992149  0.000160   \n",
       "\n",
       "modality                                       ... Static_Modality_3  \\\n",
       "base predictor             DT              RF  ...                NB   \n",
       "sample                      0               0  ...                 0   \n",
       "class                  2    0    1    2     0  ...                 0   \n",
       "0               0.420881  0.0  0.0  1.0  0.39  ...          0.267710   \n",
       "1               0.327652  1.0  0.0  0.0  0.74  ...          0.284377   \n",
       "2               0.750177  0.0  0.0  1.0  0.01  ...          0.278408   \n",
       "3               0.049584  0.0  1.0  0.0  0.00  ...          0.196304   \n",
       "4               0.466963  1.0  0.0  0.0  0.51  ...          0.385285   \n",
       "..                   ...  ...  ...  ...   ...  ...               ...   \n",
       "355             0.448411  0.0  0.0  1.0  0.70  ...          0.306048   \n",
       "356             0.004909  0.0  1.0  0.0  0.04  ...          0.286277   \n",
       "357             0.207370  1.0  0.0  0.0  0.52  ...          0.228226   \n",
       "358             0.027609  0.0  1.0  0.0  0.03  ...          0.410600   \n",
       "359             0.007691  1.0  0.0  0.0  0.97  ...          0.430874   \n",
       "\n",
       "modality                                                                    \\\n",
       "base predictor                           MLP                           SVM   \n",
       "sample                                     0                             0   \n",
       "class                  1         2         0         1         2         0   \n",
       "0               0.000185  0.732106  0.324079  0.015917  0.660004  0.347970   \n",
       "1               0.005334  0.710289  0.381597  0.043892  0.574510  0.305196   \n",
       "2               0.004855  0.716737  0.387690  0.047340  0.564970  0.304786   \n",
       "3               0.801793  0.001903  0.228024  0.743035  0.028940  0.279475   \n",
       "4               0.054663  0.560052  0.429536  0.122205  0.448260  0.364585   \n",
       "..                   ...       ...       ...       ...       ...       ...   \n",
       "355             0.000049  0.693903  0.313804  0.013566  0.672630  0.544425   \n",
       "356             0.001806  0.711917  0.378183  0.031623  0.590194  0.293650   \n",
       "357             0.771696  0.000077  0.250476  0.730157  0.019367  0.312648   \n",
       "358             0.107115  0.482285  0.425756  0.186606  0.387638  0.380765   \n",
       "359             0.395734  0.173392  0.400146  0.376118  0.223736  0.391801   \n",
       "\n",
       "modality                           labels  \n",
       "base predictor                             \n",
       "sample                                     \n",
       "class                  1         2         \n",
       "0               0.003142  0.648888    0.0  \n",
       "1               0.003551  0.691253    0.0  \n",
       "2               0.003163  0.692052    2.0  \n",
       "3               0.713706  0.006819    1.0  \n",
       "4               0.022322  0.613094    2.0  \n",
       "..                   ...       ...    ...  \n",
       "355             0.013487  0.442088    0.0  \n",
       "356             0.004968  0.701382    2.0  \n",
       "357             0.681683  0.005669    0.0  \n",
       "358             0.053917  0.565318    2.0  \n",
       "359             0.483838  0.124361    0.0  \n",
       "\n",
       "[360 rows x 91 columns]"
      ]
     },
     "execution_count": 26,
     "metadata": {},
     "output_type": "execute_result"
    }
   ],
   "source": [
    "EI.ensemble_training_data[0]"
   ]
  },
  {
   "cell_type": "code",
   "execution_count": null,
   "metadata": {},
   "outputs": [],
   "source": []
  }
 ],
 "metadata": {
  "kernelspec": {
   "display_name": ".venv",
   "language": "python",
   "name": "python3"
  },
  "language_info": {
   "codemirror_mode": {
    "name": "ipython",
    "version": 3
   },
   "file_extension": ".py",
   "mimetype": "text/x-python",
   "name": "python",
   "nbconvert_exporter": "python",
   "pygments_lexer": "ipython3",
   "version": "3.9.16"
  }
 },
 "nbformat": 4,
 "nbformat_minor": 2
}
