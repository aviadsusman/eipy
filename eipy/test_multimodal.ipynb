{
 "cells": [
  {
   "cell_type": "code",
   "execution_count": 15,
   "metadata": {},
   "outputs": [],
   "source": [
    "import os\n",
    "import numpy as np\n",
    "import pandas as pd\n",
    "import eipy.ei as e\n",
    "from importlib import reload\n",
    "from sklearn.model_selection import train_test_split\n",
    "from sklearn.impute import KNNImputer\n",
    "import pickle as pkl\n",
    "\n",
    "from sklearn.ensemble import AdaBoostClassifier, GradientBoostingClassifier, RandomForestClassifier\n",
    "from sklearn.tree import DecisionTreeClassifier\n",
    "from sklearn.neighbors import KNeighborsClassifier\n",
    "from sklearn.linear_model import LogisticRegression\n",
    "from sklearn.naive_bayes import GaussianNB\n",
    "from sklearn.svm import SVC\n",
    "from sklearn.neural_network import MLPClassifier\n",
    "from xgboost import XGBClassifier\n",
    "import pandas as pd\n",
    "from eipy.additional_ensembles import MeanAggregation, CES\n",
    "from eipy.metrics import fmax_score\n",
    "from sklearn.metrics import roc_auc_score, matthews_corrcoef\n",
    "\n",
    "from keras.models import Sequential, Model\n",
    "from keras.layers import Dense, Dropout, Input, Concatenate\n",
    "import seaborn as sns\n",
    "import warnings"
   ]
  },
  {
   "cell_type": "markdown",
   "metadata": {},
   "source": [
    "data"
   ]
  },
  {
   "cell_type": "code",
   "execution_count": 16,
   "metadata": {},
   "outputs": [],
   "source": [
    "directory = \"/home/opc/eipy/eipy/COVID-19 data\"\n",
    "data={}\n",
    "for file_name in os.listdir(directory):\n",
    "    if file_name.endswith('.csv') and not file_name.startswith('xgboost'):\n",
    "        key = file_name.split('.')[0]\n",
    "        file_path = os.path.join(directory, file_name)\n",
    "        df = pd.read_csv(file_path)\n",
    "        df = df.drop(columns=[\"NEW_MASKED_MRN\"])\n",
    "        imputer = KNNImputer(n_neighbors=5)\n",
    "        df = imputer.fit_transform(df)\n",
    "        data[key] = df"
   ]
  },
  {
   "cell_type": "code",
   "execution_count": 17,
   "metadata": {},
   "outputs": [
    {
     "data": {
      "text/plain": [
       "DECEASED_INDICATOR\n",
       "0    3460\n",
       "1    1323\n",
       "Name: count, dtype: int64"
      ]
     },
     "execution_count": 17,
     "metadata": {},
     "output_type": "execute_result"
    }
   ],
   "source": [
    "labels = pd.read_csv('/home/opc/eipy/eipy/COVID-19 data/Basics/outcome.csv')\n",
    "labels = labels[\"DECEASED_INDICATOR\"]\n",
    "labels.value_counts()"
   ]
  },
  {
   "cell_type": "markdown",
   "metadata": {},
   "source": [
    "dl bps"
   ]
  },
  {
   "cell_type": "code",
   "execution_count": 18,
   "metadata": {},
   "outputs": [],
   "source": [
    "def build_deep_bps(input_dim):\n",
    "    # Architecture 1: Simple Feedforward Neural Network\n",
    "    model_1 = Sequential()\n",
    "    model_1.add(Dense(64, input_dim=input_dim, activation='relu'))\n",
    "    model_1.add(Dense(32, activation='relu'))\n",
    "    model_1.add(Dense(1, activation='sigmoid'))\n",
    "    model_1.compile(optimizer='adam', loss='binary_crossentropy', metrics=['accuracy'])\n",
    "\n",
    "    # Architecture 2: Deep Feedforward Neural Network with Dropout\n",
    "    model_2 = Sequential()\n",
    "    model_2.add(Dense(128, input_dim=input_dim, activation='relu'))\n",
    "    model_2.add(Dropout(0.5))\n",
    "    model_2.add(Dense(64, activation='relu'))\n",
    "    model_2.add(Dropout(0.3))\n",
    "    model_2.add(Dense(32, activation='relu'))\n",
    "    model_2.add(Dense(1, activation='sigmoid'))\n",
    "    model_2.compile(optimizer='adam', loss='binary_crossentropy', metrics=['accuracy'])\n",
    "\n",
    "    # Architecture 3: Wide and Deep Neural Network\n",
    "    input_layer = Input(shape=(input_dim,))\n",
    "    wide_branch = Dense(32, activation='relu')(input_layer)\n",
    "    deep_branch = Dense(64, activation='relu')(input_layer)\n",
    "    deep_branch = Dense(32, activation='relu')(deep_branch)\n",
    "    merged = Concatenate()([wide_branch, deep_branch])\n",
    "    output_layer = Dense(1, activation='sigmoid')(merged)\n",
    "    model_3 = Model(inputs=input_layer, outputs=output_layer)\n",
    "    model_3.compile(optimizer='adam', loss='binary_crossentropy', metrics=['accuracy'])\n",
    "\n",
    "    # Architecture 4: Deep Neural Network without Sequential Structure\n",
    "    model_4 = Sequential()\n",
    "    model_4.add(Dense(128, input_dim=input_dim, activation='relu'))\n",
    "    model_4.add(Dense(64, activation='relu'))\n",
    "    model_4.add(Dense(32, activation='relu'))\n",
    "    model_4.add(Dense(1, activation='sigmoid'))\n",
    "    model_4.compile(optimizer='adam', loss='binary_crossentropy', metrics=['accuracy'])\n",
    "\n",
    "    d_base_predictors = {\"simple\" : model_1,\n",
    "                        \"deep_w_dropout\" : model_2,\n",
    "                        \"wide_n_deep\" : model_3,\n",
    "                        \"deeper\" : model_4}\n",
    "    return d_base_predictors"
   ]
  },
  {
   "cell_type": "code",
   "execution_count": 19,
   "metadata": {},
   "outputs": [],
   "source": [
    "base_predictors = {\n",
    "                    'ADAB': AdaBoostClassifier(),\n",
    "                    'XGB': XGBClassifier(),\n",
    "                    'DT': DecisionTreeClassifier(),\n",
    "                    'RF': RandomForestClassifier(),\n",
    "                    'GB': GradientBoostingClassifier(),\n",
    "                    'KNN': KNeighborsClassifier(),\n",
    "                    'LR': LogisticRegression(),\n",
    "                    'NB': GaussianNB(),\n",
    "                    'MLP': MLPClassifier(),\n",
    "                    'SVM': SVC(probability=True),\n",
    "}"
   ]
  },
  {
   "cell_type": "code",
   "execution_count": 20,
   "metadata": {},
   "outputs": [],
   "source": [
    "ensemble_predictors = {\n",
    "                    'Mean' : MeanAggregation(),\n",
    "                    'CES' : CES(scoring=lambda y_test, y_pred: fmax_score(y_test, y_pred)[0]),\n",
    "                    'S.ADAB': AdaBoostClassifier(),\n",
    "                    'S.XGB': XGBClassifier(),\n",
    "                    'S.DT': DecisionTreeClassifier(),\n",
    "                    \"S.RF\": RandomForestClassifier(),\n",
    "                    'S.GB': GradientBoostingClassifier(),\n",
    "                    'S.KNN': KNeighborsClassifier(),\n",
    "                    'S.LR': LogisticRegression(),\n",
    "                    'S.NB': GaussianNB(),\n",
    "                    'S.MLP': MLPClassifier(),\n",
    "                    'S.SVM': SVC(probability=True),\n",
    "}"
   ]
  },
  {
   "cell_type": "code",
   "execution_count": 21,
   "metadata": {},
   "outputs": [],
   "source": [
    "metrics = {\n",
    "            'f_max': fmax_score,\n",
    "            'auc': roc_auc_score,\n",
    "            'mcc': matthews_corrcoef\n",
    "            }"
   ]
  },
  {
   "cell_type": "markdown",
   "metadata": {},
   "source": [
    "EI"
   ]
  },
  {
   "cell_type": "code",
   "execution_count": 22,
   "metadata": {},
   "outputs": [
    {
     "data": {
      "text/plain": [
       "<module 'eipy.ei' from '/home/opc/eipy/eipy/ei.py'>"
      ]
     },
     "execution_count": 22,
     "metadata": {},
     "output_type": "execute_result"
    }
   ],
   "source": [
    "####HI OVER HERE###\n",
    "reload(e)\n",
    "###HEYOOOOOO#"
   ]
  },
  {
   "cell_type": "code",
   "execution_count": 9,
   "metadata": {},
   "outputs": [],
   "source": [
    "# performance = {k:([],[]) for k in data.keys()}\n",
    "# performance[\"EI\"] = ([],[])\n",
    "# for i in range(10):\n",
    "#     random_seed= i\n",
    "#     X_train = {}\n",
    "#     X_test = {}\n",
    "#     for k, v in data.items():\n",
    "#         X_train[k], X_test[k], y_train, y_test = train_test_split(v, labels, test_size=0.2, stratify=labels, random_state=i)\n",
    "#     for k in data.keys():\n",
    "#         EI = e.EnsembleIntegration(\n",
    "#                     k_outer=5,\n",
    "#                     k_inner=5,\n",
    "#                     n_samples=1,\n",
    "#                     sampling_strategy=\"undersampling\",\n",
    "#                     sampling_aggregation=None,\n",
    "#                     n_jobs=-1,\n",
    "#                     metrics=metrics,\n",
    "#                     random_state=i+1,\n",
    "#                     project_name=\"diabetes\",\n",
    "#                     model_building=True,\n",
    "#                     )\n",
    "#         if k == 'labs':\n",
    "#             EI.fit_base(X_train[k], y_train, modality_name=k, base_predictors=d_base_predictors)\n",
    "#         else:\n",
    "#             EI.fit_base(X_train[k], y_train, modality_name=k, base_predictors=base_predictors)\n",
    "        \n",
    "#         EI.fit_ensemble(ensemble_predictors=ensemble_predictors)\n",
    "        \n",
    "#         preferred_ensemble_fmax = EI.ensemble_summary[\"metrics\"].loc[\"f_max\"].idxmax()\n",
    "#         y_pred_fmax = EI.predict(X_dict={k:X_test[k]}, ensemble_model_key=preferred_ensemble_fmax)\n",
    "#         performance[k][0].append(fmax_score(y_test=y_test, y_score=y_pred_fmax))\n",
    "#         preferred_ensemble_auc = EI.ensemble_summary[\"metrics\"].loc[\"auc\"].idxmax()\n",
    "#         y_pred_auc = EI.predict(X_dict={k:X_test[k]}, ensemble_model_key=preferred_ensemble_auc)\n",
    "#         performance[k][1].append(roc_auc_score(y_true=y_test, y_score=y_pred_auc))\n",
    "#         print(f\"DONE WITH SEED {i}, MODALITY {k}\")\n",
    "    \n",
    "#     EI = e.EnsembleIntegration(\n",
    "#                     k_outer=5,\n",
    "#                     k_inner=5,\n",
    "#                     n_samples=1,\n",
    "#                     sampling_strategy=\"undersampling\",\n",
    "#                     sampling_aggregation=None,\n",
    "#                     n_jobs=-1,\n",
    "#                     metrics=metrics,\n",
    "#                     random_state=i+1,\n",
    "#                     project_name=\"diabetes\",\n",
    "#                     model_building=True,\n",
    "#                     )\n",
    "#     for k in data.keys():\n",
    "#         if k == 'labs':\n",
    "#             EI.fit_base(X_train[k], y_train, modality_name=k, base_predictors=d_base_predictors)\n",
    "#         else:\n",
    "#             EI.fit_base(X_train[k], y_train, modality_name=k, base_predictors=base_predictors)\n",
    "    \n",
    "#     EI.fit_ensemble(ensemble_predictors=ensemble_predictors)\n",
    "#     preferred_ensemble_fmax = EI.ensemble_summary[\"metrics\"].loc[\"f_max\"].idxmax()\n",
    "#     y_pred_fmax = EI.predict(X_dict=X_test, ensemble_model_key=preferred_ensemble_fmax)\n",
    "#     performance[\"EI\"][0].append(fmax_score(y_test=y_test, y_score=y_pred_fmax))\n",
    "#     preferred_ensemble_auc = EI.ensemble_summary[\"metrics\"].loc[\"auc\"].idxmax()\n",
    "#     y_pred_auc = EI.predict(X_dict=X_test, ensemble_model_key=preferred_ensemble_auc)\n",
    "#     performance[\"EI\"][1].append(roc_auc_score(y_true=y_test, y_score=y_pred_auc))\n",
    "#     print(f\"DONE WITH SEED {i}\")"
   ]
  },
  {
   "cell_type": "code",
   "execution_count": 12,
   "metadata": {},
   "outputs": [
    {
     "name": "stdout",
     "output_type": "stream",
     "text": [
      "Training base predictors on admission...\n",
      "        \n",
      "... for ensemble performance analysis...\n"
     ]
    },
    {
     "name": "stderr",
     "output_type": "stream",
     "text": [
      "Generating ensemble training data: |          |  0%"
     ]
    },
    {
     "name": "stderr",
     "output_type": "stream",
     "text": [
      "2024-02-03 22:08:07.934445: I external/local_tsl/tsl/cuda/cudart_stub.cc:31] Could not find cuda drivers on your machine, GPU will not be used.\n",
      "2024-02-03 22:08:07.934444: I external/local_tsl/tsl/cuda/cudart_stub.cc:31] Could not find cuda drivers on your machine, GPU will not be used.\n",
      "2024-02-03 22:08:07.958509: I external/local_tsl/tsl/cuda/cudart_stub.cc:31] Could not find cuda drivers on your machine, GPU will not be used.\n",
      "2024-02-03 22:08:07.958506: I external/local_tsl/tsl/cuda/cudart_stub.cc:31] Could not find cuda drivers on your machine, GPU will not be used.\n",
      "2024-02-03 22:08:07.958506: I external/local_tsl/tsl/cuda/cudart_stub.cc:31] Could not find cuda drivers on your machine, GPU will not be used.\n",
      "2024-02-03 22:08:07.958506: I external/local_tsl/tsl/cuda/cudart_stub.cc:31] Could not find cuda drivers on your machine, GPU will not be used.\n",
      "2024-02-03 22:08:07.958506: I external/local_tsl/tsl/cuda/cudart_stub.cc:31] Could not find cuda drivers on your machine, GPU will not be used.\n",
      "2024-02-03 22:08:07.963396: I external/local_tsl/tsl/cuda/cudart_stub.cc:31] Could not find cuda drivers on your machine, GPU will not be used.\n",
      "2024-02-03 22:08:07.967019: I external/local_tsl/tsl/cuda/cudart_stub.cc:31] Could not find cuda drivers on your machine, GPU will not be used.\n",
      "2024-02-03 22:08:07.967022: I external/local_tsl/tsl/cuda/cudart_stub.cc:31] Could not find cuda drivers on your machine, GPU will not be used.\n",
      "2024-02-03 22:08:07.970680: I external/local_tsl/tsl/cuda/cudart_stub.cc:31] Could not find cuda drivers on your machine, GPU will not be used.\n",
      "2024-02-03 22:08:07.981060: E external/local_xla/xla/stream_executor/cuda/cuda_dnn.cc:9261] Unable to register cuDNN factory: Attempting to register factory for plugin cuDNN when one has already been registered\n",
      "2024-02-03 22:08:07.981060: E external/local_xla/xla/stream_executor/cuda/cuda_dnn.cc:9261] Unable to register cuDNN factory: Attempting to register factory for plugin cuDNN when one has already been registered\n",
      "2024-02-03 22:08:07.981100: E external/local_xla/xla/stream_executor/cuda/cuda_fft.cc:607] Unable to register cuFFT factory: Attempting to register factory for plugin cuFFT when one has already been registered\n",
      "2024-02-03 22:08:07.981195: E external/local_xla/xla/stream_executor/cuda/cuda_fft.cc:607] Unable to register cuFFT factory: Attempting to register factory for plugin cuFFT when one has already been registered\n",
      "2024-02-03 22:08:07.981552: I external/local_tsl/tsl/cuda/cudart_stub.cc:31] Could not find cuda drivers on your machine, GPU will not be used.\n",
      "2024-02-03 22:08:07.981551: I external/local_tsl/tsl/cuda/cudart_stub.cc:31] Could not find cuda drivers on your machine, GPU will not be used.\n",
      "2024-02-03 22:08:07.981548: I external/local_tsl/tsl/cuda/cudart_stub.cc:31] Could not find cuda drivers on your machine, GPU will not be used.\n",
      "2024-02-03 22:08:07.981549: I external/local_tsl/tsl/cuda/cudart_stub.cc:31] Could not find cuda drivers on your machine, GPU will not be used.\n",
      "2024-02-03 22:08:07.982150: E external/local_xla/xla/stream_executor/cuda/cuda_blas.cc:1515] Unable to register cuBLAS factory: Attempting to register factory for plugin cuBLAS when one has already been registered\n",
      "2024-02-03 22:08:07.982240: E external/local_xla/xla/stream_executor/cuda/cuda_blas.cc:1515] Unable to register cuBLAS factory: Attempting to register factory for plugin cuBLAS when one has already been registered\n",
      "2024-02-03 22:08:07.984344: I external/local_tsl/tsl/cuda/cudart_stub.cc:31] Could not find cuda drivers on your machine, GPU will not be used.\n",
      "2024-02-03 22:08:07.989191: I external/local_tsl/tsl/cuda/cudart_stub.cc:31] Could not find cuda drivers on your machine, GPU will not be used.\n",
      "2024-02-03 22:08:07.989191: I external/local_tsl/tsl/cuda/cudart_stub.cc:31] Could not find cuda drivers on your machine, GPU will not be used.\n",
      "2024-02-03 22:08:07.989405: I tensorflow/core/platform/cpu_feature_guard.cc:182] This TensorFlow binary is optimized to use available CPU instructions in performance-critical operations.\n",
      "To enable the following instructions: AVX2 FMA, in other operations, rebuild TensorFlow with the appropriate compiler flags.\n",
      "2024-02-03 22:08:07.989442: I tensorflow/core/platform/cpu_feature_guard.cc:182] This TensorFlow binary is optimized to use available CPU instructions in performance-critical operations.\n",
      "To enable the following instructions: AVX2 FMA, in other operations, rebuild TensorFlow with the appropriate compiler flags.\n",
      "2024-02-03 22:08:07.994302: I external/local_tsl/tsl/cuda/cudart_stub.cc:31] Could not find cuda drivers on your machine, GPU will not be used.\n",
      "2024-02-03 22:08:08.004715: E external/local_xla/xla/stream_executor/cuda/cuda_dnn.cc:9261] Unable to register cuDNN factory: Attempting to register factory for plugin cuDNN when one has already been registered\n",
      "2024-02-03 22:08:08.004715: E external/local_xla/xla/stream_executor/cuda/cuda_dnn.cc:9261] Unable to register cuDNN factory: Attempting to register factory for plugin cuDNN when one has already been registered\n",
      "2024-02-03 22:08:08.004760: E external/local_xla/xla/stream_executor/cuda/cuda_fft.cc:607] Unable to register cuFFT factory: Attempting to register factory for plugin cuFFT when one has already been registered\n",
      "2024-02-03 22:08:08.004833: E external/local_xla/xla/stream_executor/cuda/cuda_fft.cc:607] Unable to register cuFFT factory: Attempting to register factory for plugin cuFFT when one has already been registered\n",
      "2024-02-03 22:08:08.005225: E external/local_xla/xla/stream_executor/cuda/cuda_dnn.cc:9261] Unable to register cuDNN factory: Attempting to register factory for plugin cuDNN when one has already been registered\n",
      "2024-02-03 22:08:08.005297: E external/local_xla/xla/stream_executor/cuda/cuda_fft.cc:607] Unable to register cuFFT factory: Attempting to register factory for plugin cuFFT when one has already been registered\n",
      "2024-02-03 22:08:08.005818: E external/local_xla/xla/stream_executor/cuda/cuda_blas.cc:1515] Unable to register cuBLAS factory: Attempting to register factory for plugin cuBLAS when one has already been registered\n",
      "2024-02-03 22:08:08.005818: E external/local_xla/xla/stream_executor/cuda/cuda_blas.cc:1515] Unable to register cuBLAS factory: Attempting to register factory for plugin cuBLAS when one has already been registered\n",
      "2024-02-03 22:08:08.005869: E external/local_xla/xla/stream_executor/cuda/cuda_dnn.cc:9261] Unable to register cuDNN factory: Attempting to register factory for plugin cuDNN when one has already been registered\n",
      "2024-02-03 22:08:08.005872: E external/local_xla/xla/stream_executor/cuda/cuda_dnn.cc:9261] Unable to register cuDNN factory: Attempting to register factory for plugin cuDNN when one has already been registered\n",
      "2024-02-03 22:08:08.005896: E external/local_xla/xla/stream_executor/cuda/cuda_fft.cc:607] Unable to register cuFFT factory: Attempting to register factory for plugin cuFFT when one has already been registered\n",
      "2024-02-03 22:08:08.005958: E external/local_xla/xla/stream_executor/cuda/cuda_fft.cc:607] Unable to register cuFFT factory: Attempting to register factory for plugin cuFFT when one has already been registered\n",
      "2024-02-03 22:08:08.006241: E external/local_xla/xla/stream_executor/cuda/cuda_blas.cc:1515] Unable to register cuBLAS factory: Attempting to register factory for plugin cuBLAS when one has already been registered\n",
      "2024-02-03 22:08:08.006771: E external/local_xla/xla/stream_executor/cuda/cuda_blas.cc:1515] Unable to register cuBLAS factory: Attempting to register factory for plugin cuBLAS when one has already been registered\n",
      "2024-02-03 22:08:08.006818: E external/local_xla/xla/stream_executor/cuda/cuda_blas.cc:1515] Unable to register cuBLAS factory: Attempting to register factory for plugin cuBLAS when one has already been registered\n",
      "2024-02-03 22:08:08.009584: E external/local_xla/xla/stream_executor/cuda/cuda_dnn.cc:9261] Unable to register cuDNN factory: Attempting to register factory for plugin cuDNN when one has already been registered\n",
      "2024-02-03 22:08:08.009737: E external/local_xla/xla/stream_executor/cuda/cuda_fft.cc:607] Unable to register cuFFT factory: Attempting to register factory for plugin cuFFT when one has already been registered\n",
      "2024-02-03 22:08:08.010082: I external/local_tsl/tsl/cuda/cudart_stub.cc:31] Could not find cuda drivers on your machine, GPU will not be used.\n",
      "2024-02-03 22:08:08.010867: E external/local_xla/xla/stream_executor/cuda/cuda_blas.cc:1515] Unable to register cuBLAS factory: Attempting to register factory for plugin cuBLAS when one has already been registered\n",
      "2024-02-03 22:08:08.011086: E external/local_xla/xla/stream_executor/cuda/cuda_dnn.cc:9261] Unable to register cuDNN factory: Attempting to register factory for plugin cuDNN when one has already been registered\n",
      "2024-02-03 22:08:08.011156: E external/local_xla/xla/stream_executor/cuda/cuda_fft.cc:607] Unable to register cuFFT factory: Attempting to register factory for plugin cuFFT when one has already been registered\n",
      "2024-02-03 22:08:08.011427: I external/local_tsl/tsl/cuda/cudart_stub.cc:31] Could not find cuda drivers on your machine, GPU will not be used.\n",
      "2024-02-03 22:08:08.011427: I external/local_tsl/tsl/cuda/cudart_stub.cc:31] Could not find cuda drivers on your machine, GPU will not be used.\n",
      "2024-02-03 22:08:08.011723: E external/local_xla/xla/stream_executor/cuda/cuda_dnn.cc:9261] Unable to register cuDNN factory: Attempting to register factory for plugin cuDNN when one has already been registered\n",
      "2024-02-03 22:08:08.011788: E external/local_xla/xla/stream_executor/cuda/cuda_fft.cc:607] Unable to register cuFFT factory: Attempting to register factory for plugin cuFFT when one has already been registered\n",
      "2024-02-03 22:08:08.012121: E external/local_xla/xla/stream_executor/cuda/cuda_blas.cc:1515] Unable to register cuBLAS factory: Attempting to register factory for plugin cuBLAS when one has already been registered\n",
      "2024-02-03 22:08:08.012687: E external/local_xla/xla/stream_executor/cuda/cuda_blas.cc:1515] Unable to register cuBLAS factory: Attempting to register factory for plugin cuBLAS when one has already been registered\n",
      "2024-02-03 22:08:08.012725: I external/local_tsl/tsl/cuda/cudart_stub.cc:31] Could not find cuda drivers on your machine, GPU will not be used.\n",
      "2024-02-03 22:08:08.012727: I external/local_tsl/tsl/cuda/cudart_stub.cc:31] Could not find cuda drivers on your machine, GPU will not be used.\n",
      "2024-02-03 22:08:08.012928: I tensorflow/core/platform/cpu_feature_guard.cc:182] This TensorFlow binary is optimized to use available CPU instructions in performance-critical operations.\n",
      "To enable the following instructions: AVX2 FMA, in other operations, rebuild TensorFlow with the appropriate compiler flags.\n",
      "2024-02-03 22:08:08.012978: I external/local_tsl/tsl/cuda/cudart_stub.cc:31] Could not find cuda drivers on your machine, GPU will not be used.\n",
      "2024-02-03 22:08:08.012979: I tensorflow/core/platform/cpu_feature_guard.cc:182] This TensorFlow binary is optimized to use available CPU instructions in performance-critical operations.\n",
      "To enable the following instructions: AVX2 FMA, in other operations, rebuild TensorFlow with the appropriate compiler flags.\n",
      "2024-02-03 22:08:08.013175: I tensorflow/core/platform/cpu_feature_guard.cc:182] This TensorFlow binary is optimized to use available CPU instructions in performance-critical operations.\n",
      "To enable the following instructions: AVX2 FMA, in other operations, rebuild TensorFlow with the appropriate compiler flags.\n",
      "2024-02-03 22:08:08.013224: I external/local_tsl/tsl/cuda/cudart_stub.cc:31] Could not find cuda drivers on your machine, GPU will not be used.\n",
      "2024-02-03 22:08:08.013224: I external/local_tsl/tsl/cuda/cudart_stub.cc:31] Could not find cuda drivers on your machine, GPU will not be used.\n",
      "2024-02-03 22:08:08.013423: I tensorflow/core/platform/cpu_feature_guard.cc:182] This TensorFlow binary is optimized to use available CPU instructions in performance-critical operations.\n",
      "To enable the following instructions: AVX2 FMA, in other operations, rebuild TensorFlow with the appropriate compiler flags.\n",
      "2024-02-03 22:08:08.013434: I tensorflow/core/platform/cpu_feature_guard.cc:182] This TensorFlow binary is optimized to use available CPU instructions in performance-critical operations.\n",
      "To enable the following instructions: AVX2 FMA, in other operations, rebuild TensorFlow with the appropriate compiler flags.\n",
      "2024-02-03 22:08:08.016060: I external/local_tsl/tsl/cuda/cudart_stub.cc:31] Could not find cuda drivers on your machine, GPU will not be used.\n",
      "2024-02-03 22:08:08.016059: I external/local_tsl/tsl/cuda/cudart_stub.cc:31] Could not find cuda drivers on your machine, GPU will not be used.\n",
      "2024-02-03 22:08:08.017827: I external/local_tsl/tsl/cuda/cudart_stub.cc:31] Could not find cuda drivers on your machine, GPU will not be used.\n",
      "2024-02-03 22:08:08.017983: E external/local_xla/xla/stream_executor/cuda/cuda_dnn.cc:9261] Unable to register cuDNN factory: Attempting to register factory for plugin cuDNN when one has already been registered\n",
      "2024-02-03 22:08:08.018068: E external/local_xla/xla/stream_executor/cuda/cuda_fft.cc:607] Unable to register cuFFT factory: Attempting to register factory for plugin cuFFT when one has already been registered\n",
      "2024-02-03 22:08:08.018113: I tensorflow/core/platform/cpu_feature_guard.cc:182] This TensorFlow binary is optimized to use available CPU instructions in performance-critical operations.\n",
      "To enable the following instructions: AVX2 FMA, in other operations, rebuild TensorFlow with the appropriate compiler flags.\n",
      "2024-02-03 22:08:08.018384: I external/local_tsl/tsl/cuda/cudart_stub.cc:31] Could not find cuda drivers on your machine, GPU will not be used.\n",
      "2024-02-03 22:08:08.018621: I tensorflow/core/platform/cpu_feature_guard.cc:182] This TensorFlow binary is optimized to use available CPU instructions in performance-critical operations.\n",
      "To enable the following instructions: AVX2 FMA, in other operations, rebuild TensorFlow with the appropriate compiler flags.\n",
      "2024-02-03 22:08:08.018988: I external/local_tsl/tsl/cuda/cudart_stub.cc:31] Could not find cuda drivers on your machine, GPU will not be used.\n",
      "2024-02-03 22:08:08.019212: I tensorflow/core/platform/cpu_feature_guard.cc:182] This TensorFlow binary is optimized to use available CPU instructions in performance-critical operations.\n",
      "To enable the following instructions: AVX2 FMA, in other operations, rebuild TensorFlow with the appropriate compiler flags.\n",
      "2024-02-03 22:08:08.019226: E external/local_xla/xla/stream_executor/cuda/cuda_blas.cc:1515] Unable to register cuBLAS factory: Attempting to register factory for plugin cuBLAS when one has already been registered\n",
      "2024-02-03 22:08:08.022470: I external/local_tsl/tsl/cuda/cudart_stub.cc:31] Could not find cuda drivers on your machine, GPU will not be used.\n",
      "2024-02-03 22:08:08.022546: I external/local_tsl/tsl/cuda/cudart_stub.cc:31] Could not find cuda drivers on your machine, GPU will not be used.\n",
      "2024-02-03 22:08:08.026361: I external/local_tsl/tsl/cuda/cudart_stub.cc:31] Could not find cuda drivers on your machine, GPU will not be used.\n",
      "2024-02-03 22:08:08.026683: I tensorflow/core/platform/cpu_feature_guard.cc:182] This TensorFlow binary is optimized to use available CPU instructions in performance-critical operations.\n",
      "To enable the following instructions: AVX2 FMA, in other operations, rebuild TensorFlow with the appropriate compiler flags.\n",
      "2024-02-03 22:08:08.027283: E external/local_xla/xla/stream_executor/cuda/cuda_dnn.cc:9261] Unable to register cuDNN factory: Attempting to register factory for plugin cuDNN when one has already been registered\n",
      "2024-02-03 22:08:08.027284: E external/local_xla/xla/stream_executor/cuda/cuda_dnn.cc:9261] Unable to register cuDNN factory: Attempting to register factory for plugin cuDNN when one has already been registered\n",
      "2024-02-03 22:08:08.027328: E external/local_xla/xla/stream_executor/cuda/cuda_fft.cc:607] Unable to register cuFFT factory: Attempting to register factory for plugin cuFFT when one has already been registered\n",
      "2024-02-03 22:08:08.027426: E external/local_xla/xla/stream_executor/cuda/cuda_fft.cc:607] Unable to register cuFFT factory: Attempting to register factory for plugin cuFFT when one has already been registered\n",
      "2024-02-03 22:08:08.027687: E external/local_xla/xla/stream_executor/cuda/cuda_dnn.cc:9261] Unable to register cuDNN factory: Attempting to register factory for plugin cuDNN when one has already been registered\n",
      "2024-02-03 22:08:08.027724: E external/local_xla/xla/stream_executor/cuda/cuda_dnn.cc:9261] Unable to register cuDNN factory: Attempting to register factory for plugin cuDNN when one has already been registered\n",
      "2024-02-03 22:08:08.027749: E external/local_xla/xla/stream_executor/cuda/cuda_fft.cc:607] Unable to register cuFFT factory: Attempting to register factory for plugin cuFFT when one has already been registered\n",
      "2024-02-03 22:08:08.027778: E external/local_xla/xla/stream_executor/cuda/cuda_fft.cc:607] Unable to register cuFFT factory: Attempting to register factory for plugin cuFFT when one has already been registered\n",
      "2024-02-03 22:08:08.028367: E external/local_xla/xla/stream_executor/cuda/cuda_blas.cc:1515] Unable to register cuBLAS factory: Attempting to register factory for plugin cuBLAS when one has already been registered\n",
      "2024-02-03 22:08:08.028370: E external/local_xla/xla/stream_executor/cuda/cuda_blas.cc:1515] Unable to register cuBLAS factory: Attempting to register factory for plugin cuBLAS when one has already been registered\n",
      "2024-02-03 22:08:08.028627: E external/local_xla/xla/stream_executor/cuda/cuda_blas.cc:1515] Unable to register cuBLAS factory: Attempting to register factory for plugin cuBLAS when one has already been registered\n",
      "2024-02-03 22:08:08.028690: E external/local_xla/xla/stream_executor/cuda/cuda_blas.cc:1515] Unable to register cuBLAS factory: Attempting to register factory for plugin cuBLAS when one has already been registered\n",
      "2024-02-03 22:08:08.031496: E external/local_xla/xla/stream_executor/cuda/cuda_dnn.cc:9261] Unable to register cuDNN factory: Attempting to register factory for plugin cuDNN when one has already been registered\n",
      "2024-02-03 22:08:08.031623: E external/local_xla/xla/stream_executor/cuda/cuda_fft.cc:607] Unable to register cuFFT factory: Attempting to register factory for plugin cuFFT when one has already been registered\n",
      "2024-02-03 22:08:08.032497: I external/local_tsl/tsl/cuda/cudart_stub.cc:31] Could not find cuda drivers on your machine, GPU will not be used.\n",
      "2024-02-03 22:08:08.032500: I external/local_tsl/tsl/cuda/cudart_stub.cc:31] Could not find cuda drivers on your machine, GPU will not be used.\n",
      "2024-02-03 22:08:08.032723: E external/local_xla/xla/stream_executor/cuda/cuda_blas.cc:1515] Unable to register cuBLAS factory: Attempting to register factory for plugin cuBLAS when one has already been registered\n",
      "2024-02-03 22:08:08.035335: I external/local_tsl/tsl/cuda/cudart_stub.cc:31] Could not find cuda drivers on your machine, GPU will not be used.\n",
      "2024-02-03 22:08:08.035340: I external/local_tsl/tsl/cuda/cudart_stub.cc:31] Could not find cuda drivers on your machine, GPU will not be used.\n",
      "2024-02-03 22:08:08.035344: I external/local_tsl/tsl/cuda/cudart_stub.cc:31] Could not find cuda drivers on your machine, GPU will not be used.\n",
      "2024-02-03 22:08:08.035346: I external/local_tsl/tsl/cuda/cudart_stub.cc:31] Could not find cuda drivers on your machine, GPU will not be used.\n",
      "2024-02-03 22:08:08.035567: I tensorflow/core/platform/cpu_feature_guard.cc:182] This TensorFlow binary is optimized to use available CPU instructions in performance-critical operations.\n",
      "To enable the following instructions: AVX2 FMA, in other operations, rebuild TensorFlow with the appropriate compiler flags.\n",
      "2024-02-03 22:08:08.035568: I tensorflow/core/platform/cpu_feature_guard.cc:182] This TensorFlow binary is optimized to use available CPU instructions in performance-critical operations.\n",
      "To enable the following instructions: AVX2 FMA, in other operations, rebuild TensorFlow with the appropriate compiler flags.\n",
      "2024-02-03 22:08:08.035575: I tensorflow/core/platform/cpu_feature_guard.cc:182] This TensorFlow binary is optimized to use available CPU instructions in performance-critical operations.\n",
      "To enable the following instructions: AVX2 FMA, in other operations, rebuild TensorFlow with the appropriate compiler flags.\n",
      "2024-02-03 22:08:08.035596: I tensorflow/core/platform/cpu_feature_guard.cc:182] This TensorFlow binary is optimized to use available CPU instructions in performance-critical operations.\n",
      "To enable the following instructions: AVX2 FMA, in other operations, rebuild TensorFlow with the appropriate compiler flags.\n",
      "2024-02-03 22:08:08.039810: I external/local_tsl/tsl/cuda/cudart_stub.cc:31] Could not find cuda drivers on your machine, GPU will not be used.\n",
      "2024-02-03 22:08:08.040120: I tensorflow/core/platform/cpu_feature_guard.cc:182] This TensorFlow binary is optimized to use available CPU instructions in performance-critical operations.\n",
      "To enable the following instructions: AVX2 FMA, in other operations, rebuild TensorFlow with the appropriate compiler flags.\n",
      "2024-02-03 22:08:08.046300: E external/local_xla/xla/stream_executor/cuda/cuda_dnn.cc:9261] Unable to register cuDNN factory: Attempting to register factory for plugin cuDNN when one has already been registered\n",
      "2024-02-03 22:08:08.046425: E external/local_xla/xla/stream_executor/cuda/cuda_fft.cc:607] Unable to register cuFFT factory: Attempting to register factory for plugin cuFFT when one has already been registered\n",
      "2024-02-03 22:08:08.047663: E external/local_xla/xla/stream_executor/cuda/cuda_blas.cc:1515] Unable to register cuBLAS factory: Attempting to register factory for plugin cuBLAS when one has already been registered\n",
      "2024-02-03 22:08:08.048182: I external/local_tsl/tsl/cuda/cudart_stub.cc:31] Could not find cuda drivers on your machine, GPU will not be used.\n",
      "2024-02-03 22:08:08.055564: I external/local_tsl/tsl/cuda/cudart_stub.cc:31] Could not find cuda drivers on your machine, GPU will not be used.\n",
      "2024-02-03 22:08:08.055865: I tensorflow/core/platform/cpu_feature_guard.cc:182] This TensorFlow binary is optimized to use available CPU instructions in performance-critical operations.\n",
      "To enable the following instructions: AVX2 FMA, in other operations, rebuild TensorFlow with the appropriate compiler flags.\n",
      "2024-02-03 22:08:08.059448: E external/local_xla/xla/stream_executor/cuda/cuda_dnn.cc:9261] Unable to register cuDNN factory: Attempting to register factory for plugin cuDNN when one has already been registered\n",
      "2024-02-03 22:08:08.059448: E external/local_xla/xla/stream_executor/cuda/cuda_dnn.cc:9261] Unable to register cuDNN factory: Attempting to register factory for plugin cuDNN when one has already been registered\n",
      "2024-02-03 22:08:08.059490: E external/local_xla/xla/stream_executor/cuda/cuda_fft.cc:607] Unable to register cuFFT factory: Attempting to register factory for plugin cuFFT when one has already been registered\n",
      "2024-02-03 22:08:08.059617: E external/local_xla/xla/stream_executor/cuda/cuda_fft.cc:607] Unable to register cuFFT factory: Attempting to register factory for plugin cuFFT when one has already been registered\n",
      "2024-02-03 22:08:08.060537: E external/local_xla/xla/stream_executor/cuda/cuda_blas.cc:1515] Unable to register cuBLAS factory: Attempting to register factory for plugin cuBLAS when one has already been registered\n",
      "2024-02-03 22:08:08.060537: E external/local_xla/xla/stream_executor/cuda/cuda_blas.cc:1515] Unable to register cuBLAS factory: Attempting to register factory for plugin cuBLAS when one has already been registered\n",
      "2024-02-03 22:08:08.066390: E external/local_xla/xla/stream_executor/cuda/cuda_dnn.cc:9261] Unable to register cuDNN factory: Attempting to register factory for plugin cuDNN when one has already been registered\n",
      "2024-02-03 22:08:08.066390: E external/local_xla/xla/stream_executor/cuda/cuda_dnn.cc:9261] Unable to register cuDNN factory: Attempting to register factory for plugin cuDNN when one has already been registered\n",
      "2024-02-03 22:08:08.066435: E external/local_xla/xla/stream_executor/cuda/cuda_fft.cc:607] Unable to register cuFFT factory: Attempting to register factory for plugin cuFFT when one has already been registered\n",
      "2024-02-03 22:08:08.066559: E external/local_xla/xla/stream_executor/cuda/cuda_fft.cc:607] Unable to register cuFFT factory: Attempting to register factory for plugin cuFFT when one has already been registered\n",
      "2024-02-03 22:08:08.067476: I external/local_tsl/tsl/cuda/cudart_stub.cc:31] Could not find cuda drivers on your machine, GPU will not be used.\n",
      "2024-02-03 22:08:08.067476: I external/local_tsl/tsl/cuda/cudart_stub.cc:31] Could not find cuda drivers on your machine, GPU will not be used.\n",
      "2024-02-03 22:08:08.067653: E external/local_xla/xla/stream_executor/cuda/cuda_blas.cc:1515] Unable to register cuBLAS factory: Attempting to register factory for plugin cuBLAS when one has already been registered\n",
      "2024-02-03 22:08:08.067652: E external/local_xla/xla/stream_executor/cuda/cuda_blas.cc:1515] Unable to register cuBLAS factory: Attempting to register factory for plugin cuBLAS when one has already been registered\n",
      "2024-02-03 22:08:08.067700: I tensorflow/core/platform/cpu_feature_guard.cc:182] This TensorFlow binary is optimized to use available CPU instructions in performance-critical operations.\n",
      "To enable the following instructions: AVX2 FMA, in other operations, rebuild TensorFlow with the appropriate compiler flags.\n",
      "2024-02-03 22:08:08.067756: I tensorflow/core/platform/cpu_feature_guard.cc:182] This TensorFlow binary is optimized to use available CPU instructions in performance-critical operations.\n",
      "To enable the following instructions: AVX2 FMA, in other operations, rebuild TensorFlow with the appropriate compiler flags.\n",
      "2024-02-03 22:08:08.073597: E external/local_xla/xla/stream_executor/cuda/cuda_dnn.cc:9261] Unable to register cuDNN factory: Attempting to register factory for plugin cuDNN when one has already been registered\n",
      "2024-02-03 22:08:08.073989: E external/local_xla/xla/stream_executor/cuda/cuda_fft.cc:607] Unable to register cuFFT factory: Attempting to register factory for plugin cuFFT when one has already been registered\n",
      "2024-02-03 22:08:08.074771: E external/local_xla/xla/stream_executor/cuda/cuda_dnn.cc:9261] Unable to register cuDNN factory: Attempting to register factory for plugin cuDNN when one has already been registered\n",
      "2024-02-03 22:08:08.074772: E external/local_xla/xla/stream_executor/cuda/cuda_dnn.cc:9261] Unable to register cuDNN factory: Attempting to register factory for plugin cuDNN when one has already been registered\n",
      "2024-02-03 22:08:08.074804: E external/local_xla/xla/stream_executor/cuda/cuda_fft.cc:607] Unable to register cuFFT factory: Attempting to register factory for plugin cuFFT when one has already been registered\n",
      "2024-02-03 22:08:08.074867: E external/local_xla/xla/stream_executor/cuda/cuda_fft.cc:607] Unable to register cuFFT factory: Attempting to register factory for plugin cuFFT when one has already been registered\n",
      "2024-02-03 22:08:08.075256: I external/local_tsl/tsl/cuda/cudart_stub.cc:31] Could not find cuda drivers on your machine, GPU will not be used.\n",
      "2024-02-03 22:08:08.075256: I external/local_tsl/tsl/cuda/cudart_stub.cc:31] Could not find cuda drivers on your machine, GPU will not be used.\n",
      "2024-02-03 22:08:08.075473: I tensorflow/core/platform/cpu_feature_guard.cc:182] This TensorFlow binary is optimized to use available CPU instructions in performance-critical operations.\n",
      "To enable the following instructions: AVX2 FMA, in other operations, rebuild TensorFlow with the appropriate compiler flags.\n",
      "2024-02-03 22:08:08.075551: I tensorflow/core/platform/cpu_feature_guard.cc:182] This TensorFlow binary is optimized to use available CPU instructions in performance-critical operations.\n",
      "To enable the following instructions: AVX2 FMA, in other operations, rebuild TensorFlow with the appropriate compiler flags.\n",
      "2024-02-03 22:08:08.075958: E external/local_xla/xla/stream_executor/cuda/cuda_blas.cc:1515] Unable to register cuBLAS factory: Attempting to register factory for plugin cuBLAS when one has already been registered\n",
      "2024-02-03 22:08:08.075958: E external/local_xla/xla/stream_executor/cuda/cuda_blas.cc:1515] Unable to register cuBLAS factory: Attempting to register factory for plugin cuBLAS when one has already been registered\n",
      "2024-02-03 22:08:08.076295: E external/local_xla/xla/stream_executor/cuda/cuda_blas.cc:1515] Unable to register cuBLAS factory: Attempting to register factory for plugin cuBLAS when one has already been registered\n",
      "2024-02-03 22:08:08.083568: I external/local_tsl/tsl/cuda/cudart_stub.cc:31] Could not find cuda drivers on your machine, GPU will not be used.\n",
      "2024-02-03 22:08:08.083567: I external/local_tsl/tsl/cuda/cudart_stub.cc:31] Could not find cuda drivers on your machine, GPU will not be used.\n",
      "2024-02-03 22:08:08.083765: I tensorflow/core/platform/cpu_feature_guard.cc:182] This TensorFlow binary is optimized to use available CPU instructions in performance-critical operations.\n",
      "To enable the following instructions: AVX2 FMA, in other operations, rebuild TensorFlow with the appropriate compiler flags.\n",
      "2024-02-03 22:08:08.083821: I tensorflow/core/platform/cpu_feature_guard.cc:182] This TensorFlow binary is optimized to use available CPU instructions in performance-critical operations.\n",
      "To enable the following instructions: AVX2 FMA, in other operations, rebuild TensorFlow with the appropriate compiler flags.\n",
      "2024-02-03 22:08:08.084270: E external/local_xla/xla/stream_executor/cuda/cuda_dnn.cc:9261] Unable to register cuDNN factory: Attempting to register factory for plugin cuDNN when one has already been registered\n",
      "2024-02-03 22:08:08.084270: E external/local_xla/xla/stream_executor/cuda/cuda_dnn.cc:9261] Unable to register cuDNN factory: Attempting to register factory for plugin cuDNN when one has already been registered\n",
      "2024-02-03 22:08:08.084313: E external/local_xla/xla/stream_executor/cuda/cuda_fft.cc:607] Unable to register cuFFT factory: Attempting to register factory for plugin cuFFT when one has already been registered\n",
      "2024-02-03 22:08:08.084402: E external/local_xla/xla/stream_executor/cuda/cuda_fft.cc:607] Unable to register cuFFT factory: Attempting to register factory for plugin cuFFT when one has already been registered\n",
      "2024-02-03 22:08:08.084598: I external/local_tsl/tsl/cuda/cudart_stub.cc:31] Could not find cuda drivers on your machine, GPU will not be used.\n",
      "2024-02-03 22:08:08.085482: E external/local_xla/xla/stream_executor/cuda/cuda_blas.cc:1515] Unable to register cuBLAS factory: Attempting to register factory for plugin cuBLAS when one has already been registered\n",
      "2024-02-03 22:08:08.085484: E external/local_xla/xla/stream_executor/cuda/cuda_blas.cc:1515] Unable to register cuBLAS factory: Attempting to register factory for plugin cuBLAS when one has already been registered\n",
      "2024-02-03 22:08:08.085722: I external/local_tsl/tsl/cuda/cudart_stub.cc:31] Could not find cuda drivers on your machine, GPU will not be used.\n",
      "2024-02-03 22:08:08.086151: I tensorflow/core/platform/cpu_feature_guard.cc:182] This TensorFlow binary is optimized to use available CPU instructions in performance-critical operations.\n",
      "To enable the following instructions: AVX2 FMA, in other operations, rebuild TensorFlow with the appropriate compiler flags.\n",
      "2024-02-03 22:08:08.093231: I external/local_tsl/tsl/cuda/cudart_stub.cc:31] Could not find cuda drivers on your machine, GPU will not be used.\n",
      "2024-02-03 22:08:08.093230: I external/local_tsl/tsl/cuda/cudart_stub.cc:31] Could not find cuda drivers on your machine, GPU will not be used.\n",
      "2024-02-03 22:08:08.093443: I tensorflow/core/platform/cpu_feature_guard.cc:182] This TensorFlow binary is optimized to use available CPU instructions in performance-critical operations.\n",
      "To enable the following instructions: AVX2 FMA, in other operations, rebuild TensorFlow with the appropriate compiler flags.\n",
      "2024-02-03 22:08:08.093535: I tensorflow/core/platform/cpu_feature_guard.cc:182] This TensorFlow binary is optimized to use available CPU instructions in performance-critical operations.\n",
      "To enable the following instructions: AVX2 FMA, in other operations, rebuild TensorFlow with the appropriate compiler flags.\n",
      "2024-02-03 22:08:08.101720: E external/local_xla/xla/stream_executor/cuda/cuda_dnn.cc:9261] Unable to register cuDNN factory: Attempting to register factory for plugin cuDNN when one has already been registered\n",
      "2024-02-03 22:08:08.101853: E external/local_xla/xla/stream_executor/cuda/cuda_fft.cc:607] Unable to register cuFFT factory: Attempting to register factory for plugin cuFFT when one has already been registered\n",
      "2024-02-03 22:08:08.103083: E external/local_xla/xla/stream_executor/cuda/cuda_blas.cc:1515] Unable to register cuBLAS factory: Attempting to register factory for plugin cuBLAS when one has already been registered\n",
      "2024-02-03 22:08:08.111063: I external/local_tsl/tsl/cuda/cudart_stub.cc:31] Could not find cuda drivers on your machine, GPU will not be used.\n",
      "2024-02-03 22:08:08.111370: I tensorflow/core/platform/cpu_feature_guard.cc:182] This TensorFlow binary is optimized to use available CPU instructions in performance-critical operations.\n",
      "To enable the following instructions: AVX2 FMA, in other operations, rebuild TensorFlow with the appropriate compiler flags.\n",
      "2024-02-03 22:08:08.117270: I external/local_tsl/tsl/cuda/cudart_stub.cc:31] Could not find cuda drivers on your machine, GPU will not be used.\n",
      "2024-02-03 22:08:08.129081: I external/local_tsl/tsl/cuda/cudart_stub.cc:31] Could not find cuda drivers on your machine, GPU will not be used.\n",
      "2024-02-03 22:08:08.138079: E external/local_xla/xla/stream_executor/cuda/cuda_dnn.cc:9261] Unable to register cuDNN factory: Attempting to register factory for plugin cuDNN when one has already been registered\n",
      "2024-02-03 22:08:08.138222: E external/local_xla/xla/stream_executor/cuda/cuda_fft.cc:607] Unable to register cuFFT factory: Attempting to register factory for plugin cuFFT when one has already been registered\n",
      "2024-02-03 22:08:08.139461: E external/local_xla/xla/stream_executor/cuda/cuda_blas.cc:1515] Unable to register cuBLAS factory: Attempting to register factory for plugin cuBLAS when one has already been registered\n",
      "2024-02-03 22:08:08.141283: I external/local_tsl/tsl/cuda/cudart_stub.cc:31] Could not find cuda drivers on your machine, GPU will not be used.\n",
      "2024-02-03 22:08:08.147359: I external/local_tsl/tsl/cuda/cudart_stub.cc:31] Could not find cuda drivers on your machine, GPU will not be used.\n",
      "2024-02-03 22:08:08.147644: I tensorflow/core/platform/cpu_feature_guard.cc:182] This TensorFlow binary is optimized to use available CPU instructions in performance-critical operations.\n",
      "To enable the following instructions: AVX2 FMA, in other operations, rebuild TensorFlow with the appropriate compiler flags.\n",
      "2024-02-03 22:08:08.161232: I external/local_tsl/tsl/cuda/cudart_stub.cc:31] Could not find cuda drivers on your machine, GPU will not be used.\n",
      "2024-02-03 22:08:08.177717: E external/local_xla/xla/stream_executor/cuda/cuda_dnn.cc:9261] Unable to register cuDNN factory: Attempting to register factory for plugin cuDNN when one has already been registered\n",
      "2024-02-03 22:08:08.177873: E external/local_xla/xla/stream_executor/cuda/cuda_fft.cc:607] Unable to register cuFFT factory: Attempting to register factory for plugin cuFFT when one has already been registered\n",
      "2024-02-03 22:08:08.179403: E external/local_xla/xla/stream_executor/cuda/cuda_blas.cc:1515] Unable to register cuBLAS factory: Attempting to register factory for plugin cuBLAS when one has already been registered\n",
      "2024-02-03 22:08:08.183083: E external/local_xla/xla/stream_executor/cuda/cuda_dnn.cc:9261] Unable to register cuDNN factory: Attempting to register factory for plugin cuDNN when one has already been registered\n",
      "2024-02-03 22:08:08.183175: E external/local_xla/xla/stream_executor/cuda/cuda_fft.cc:607] Unable to register cuFFT factory: Attempting to register factory for plugin cuFFT when one has already been registered\n",
      "2024-02-03 22:08:08.184302: E external/local_xla/xla/stream_executor/cuda/cuda_blas.cc:1515] Unable to register cuBLAS factory: Attempting to register factory for plugin cuBLAS when one has already been registered\n",
      "2024-02-03 22:08:08.188613: I external/local_tsl/tsl/cuda/cudart_stub.cc:31] Could not find cuda drivers on your machine, GPU will not be used.\n",
      "2024-02-03 22:08:08.189190: I tensorflow/core/platform/cpu_feature_guard.cc:182] This TensorFlow binary is optimized to use available CPU instructions in performance-critical operations.\n",
      "To enable the following instructions: AVX2 FMA, in other operations, rebuild TensorFlow with the appropriate compiler flags.\n",
      "2024-02-03 22:08:08.191360: I external/local_tsl/tsl/cuda/cudart_stub.cc:31] Could not find cuda drivers on your machine, GPU will not be used.\n",
      "2024-02-03 22:08:08.191633: I tensorflow/core/platform/cpu_feature_guard.cc:182] This TensorFlow binary is optimized to use available CPU instructions in performance-critical operations.\n",
      "To enable the following instructions: AVX2 FMA, in other operations, rebuild TensorFlow with the appropriate compiler flags.\n",
      "2024-02-03 22:08:08.195431: E external/local_xla/xla/stream_executor/cuda/cuda_dnn.cc:9261] Unable to register cuDNN factory: Attempting to register factory for plugin cuDNN when one has already been registered\n",
      "2024-02-03 22:08:08.195511: E external/local_xla/xla/stream_executor/cuda/cuda_fft.cc:607] Unable to register cuFFT factory: Attempting to register factory for plugin cuFFT when one has already been registered\n",
      "2024-02-03 22:08:08.196675: E external/local_xla/xla/stream_executor/cuda/cuda_blas.cc:1515] Unable to register cuBLAS factory: Attempting to register factory for plugin cuBLAS when one has already been registered\n",
      "2024-02-03 22:08:08.204448: I external/local_tsl/tsl/cuda/cudart_stub.cc:31] Could not find cuda drivers on your machine, GPU will not be used.\n",
      "2024-02-03 22:08:08.204768: I tensorflow/core/platform/cpu_feature_guard.cc:182] This TensorFlow binary is optimized to use available CPU instructions in performance-critical operations.\n",
      "To enable the following instructions: AVX2 FMA, in other operations, rebuild TensorFlow with the appropriate compiler flags.\n",
      "2024-02-03 22:08:08.214639: E external/local_xla/xla/stream_executor/cuda/cuda_dnn.cc:9261] Unable to register cuDNN factory: Attempting to register factory for plugin cuDNN when one has already been registered\n",
      "2024-02-03 22:08:08.214761: E external/local_xla/xla/stream_executor/cuda/cuda_fft.cc:607] Unable to register cuFFT factory: Attempting to register factory for plugin cuFFT when one has already been registered\n",
      "2024-02-03 22:08:08.215967: E external/local_xla/xla/stream_executor/cuda/cuda_blas.cc:1515] Unable to register cuBLAS factory: Attempting to register factory for plugin cuBLAS when one has already been registered\n",
      "2024-02-03 22:08:08.222787: I external/local_tsl/tsl/cuda/cudart_stub.cc:31] Could not find cuda drivers on your machine, GPU will not be used.\n",
      "2024-02-03 22:08:08.223100: I tensorflow/core/platform/cpu_feature_guard.cc:182] This TensorFlow binary is optimized to use available CPU instructions in performance-critical operations.\n",
      "To enable the following instructions: AVX2 FMA, in other operations, rebuild TensorFlow with the appropriate compiler flags.\n",
      "2024-02-03 22:08:09.132786: W tensorflow/compiler/tf2tensorrt/utils/py_utils.cc:38] TF-TRT Warning: Could not find TensorRT\n",
      "2024-02-03 22:08:09.161590: W tensorflow/compiler/tf2tensorrt/utils/py_utils.cc:38] TF-TRT Warning: Could not find TensorRT\n",
      "2024-02-03 22:08:09.164863: W tensorflow/compiler/tf2tensorrt/utils/py_utils.cc:38] TF-TRT Warning: Could not find TensorRT\n",
      "2024-02-03 22:08:09.166047: W tensorflow/compiler/tf2tensorrt/utils/py_utils.cc:38] TF-TRT Warning: Could not find TensorRT\n",
      "2024-02-03 22:08:09.169880: W tensorflow/compiler/tf2tensorrt/utils/py_utils.cc:38] TF-TRT Warning: Could not find TensorRT\n",
      "2024-02-03 22:08:09.170798: W tensorflow/compiler/tf2tensorrt/utils/py_utils.cc:38] TF-TRT Warning: Could not find TensorRT\n",
      "2024-02-03 22:08:09.170798: W tensorflow/compiler/tf2tensorrt/utils/py_utils.cc:38] TF-TRT Warning: Could not find TensorRT\n",
      "2024-02-03 22:08:09.178203: W tensorflow/compiler/tf2tensorrt/utils/py_utils.cc:38] TF-TRT Warning: Could not find TensorRT\n",
      "2024-02-03 22:08:09.178463: W tensorflow/compiler/tf2tensorrt/utils/py_utils.cc:38] TF-TRT Warning: Could not find TensorRT\n",
      "2024-02-03 22:08:09.178699: W tensorflow/compiler/tf2tensorrt/utils/py_utils.cc:38] TF-TRT Warning: Could not find TensorRT\n",
      "2024-02-03 22:08:09.179960: W tensorflow/compiler/tf2tensorrt/utils/py_utils.cc:38] TF-TRT Warning: Could not find TensorRT\n",
      "2024-02-03 22:08:09.200262: W tensorflow/compiler/tf2tensorrt/utils/py_utils.cc:38] TF-TRT Warning: Could not find TensorRT\n",
      "2024-02-03 22:08:09.201315: W tensorflow/compiler/tf2tensorrt/utils/py_utils.cc:38] TF-TRT Warning: Could not find TensorRT\n",
      "2024-02-03 22:08:09.202509: W tensorflow/compiler/tf2tensorrt/utils/py_utils.cc:38] TF-TRT Warning: Could not find TensorRT\n",
      "2024-02-03 22:08:09.208497: W tensorflow/compiler/tf2tensorrt/utils/py_utils.cc:38] TF-TRT Warning: Could not find TensorRT\n",
      "2024-02-03 22:08:09.212833: W tensorflow/compiler/tf2tensorrt/utils/py_utils.cc:38] TF-TRT Warning: Could not find TensorRT\n",
      "2024-02-03 22:08:09.220266: W tensorflow/compiler/tf2tensorrt/utils/py_utils.cc:38] TF-TRT Warning: Could not find TensorRT\n",
      "2024-02-03 22:08:09.222173: W tensorflow/compiler/tf2tensorrt/utils/py_utils.cc:38] TF-TRT Warning: Could not find TensorRT\n",
      "2024-02-03 22:08:09.224687: W tensorflow/compiler/tf2tensorrt/utils/py_utils.cc:38] TF-TRT Warning: Could not find TensorRT\n",
      "2024-02-03 22:08:09.225168: W tensorflow/compiler/tf2tensorrt/utils/py_utils.cc:38] TF-TRT Warning: Could not find TensorRT\n",
      "2024-02-03 22:08:09.225874: W tensorflow/compiler/tf2tensorrt/utils/py_utils.cc:38] TF-TRT Warning: Could not find TensorRT\n",
      "2024-02-03 22:08:09.226374: W tensorflow/compiler/tf2tensorrt/utils/py_utils.cc:38] TF-TRT Warning: Could not find TensorRT\n",
      "2024-02-03 22:08:09.231817: W tensorflow/compiler/tf2tensorrt/utils/py_utils.cc:38] TF-TRT Warning: Could not find TensorRT\n",
      "2024-02-03 22:08:09.244568: W tensorflow/compiler/tf2tensorrt/utils/py_utils.cc:38] TF-TRT Warning: Could not find TensorRT\n",
      "2024-02-03 22:08:09.246825: W tensorflow/compiler/tf2tensorrt/utils/py_utils.cc:38] TF-TRT Warning: Could not find TensorRT\n",
      "2024-02-03 22:08:09.260248: W tensorflow/compiler/tf2tensorrt/utils/py_utils.cc:38] TF-TRT Warning: Could not find TensorRT\n",
      "2024-02-03 22:08:09.313727: W tensorflow/compiler/tf2tensorrt/utils/py_utils.cc:38] TF-TRT Warning: Could not find TensorRT\n",
      "2024-02-03 22:08:09.323171: W tensorflow/compiler/tf2tensorrt/utils/py_utils.cc:38] TF-TRT Warning: Could not find TensorRT\n",
      "2024-02-03 22:08:09.345335: W tensorflow/compiler/tf2tensorrt/utils/py_utils.cc:38] TF-TRT Warning: Could not find TensorRT\n",
      "2024-02-03 22:08:09.372020: W tensorflow/compiler/tf2tensorrt/utils/py_utils.cc:38] TF-TRT Warning: Could not find TensorRT\n",
      "2024-02-03 22:08:09.373470: W tensorflow/compiler/tf2tensorrt/utils/py_utils.cc:38] TF-TRT Warning: Could not find TensorRT\n",
      "2024-02-03 22:08:09.432755: W tensorflow/compiler/tf2tensorrt/utils/py_utils.cc:38] TF-TRT Warning: Could not find TensorRT\n",
      "Generating ensemble training data: |██████████|100%\n",
      "Generating ensemble test data: |██████████|100%\n"
     ]
    },
    {
     "name": "stdout",
     "output_type": "stream",
     "text": [
      "\n",
      "\n"
     ]
    },
    {
     "name": "stderr",
     "output_type": "stream",
     "text": [
      "Analyzing ensembles: |██████████|100%\n"
     ]
    },
    {
     "name": "stdout",
     "output_type": "stream",
     "text": [
      "Training base predictors on admission...\n",
      "        \n",
      "... for ensemble performance analysis...\n"
     ]
    },
    {
     "name": "stderr",
     "output_type": "stream",
     "text": [
      "Generating ensemble training data: |          |  0%"
     ]
    },
    {
     "name": "stdout",
     "output_type": "stream",
     "text": [
      "Epoch 1/10\n",
      "212/212 [==============================] - 1s 929us/step - loss: 1.1181 - accuracy: 0.6078\n",
      "Epoch 2/10\n",
      "212/212 [==============================] - 0s 863us/step - loss: 0.7734 - accuracy: 0.6474\n",
      "Epoch 3/10\n",
      "212/212 [==============================] - 0s 861us/step - loss: 0.7388 - accuracy: 0.6432\n",
      "Epoch 4/10\n",
      "212/212 [==============================] - 0s 871us/step - loss: 0.6826 - accuracy: 0.6664\n",
      "Epoch 5/10\n",
      "212/212 [==============================] - 0s 850us/step - loss: 0.6916 - accuracy: 0.6503\n",
      "Epoch 6/10\n",
      "212/212 [==============================] - 0s 847us/step - loss: 0.6945 - accuracy: 0.6550\n",
      "Epoch 7/10\n",
      "212/212 [==============================] - 0s 853us/step - loss: 0.6812 - accuracy: 0.6489\n",
      "Epoch 8/10\n",
      "212/212 [==============================] - 0s 852us/step - loss: 0.6908 - accuracy: 0.6526\n",
      "Epoch 9/10\n",
      "212/212 [==============================] - 0s 852us/step - loss: 0.6653 - accuracy: 0.6498\n",
      "Epoch 10/10\n",
      "212/212 [==============================] - 0s 838us/step - loss: 0.6462 - accuracy: 0.6531\n",
      "30/30 [==============================] - 0s 664us/step\n",
      "120/120 [==============================] - 0s 617us/step\n"
     ]
    },
    {
     "name": "stderr",
     "output_type": "stream",
     "text": [
      "Generating ensemble training data: |██        | 20%"
     ]
    },
    {
     "name": "stdout",
     "output_type": "stream",
     "text": [
      "Epoch 1/10\n",
      "212/212 [==============================] - 0s 810us/step - loss: 1.0915 - accuracy: 0.6078\n",
      "Epoch 2/10\n",
      "212/212 [==============================] - 0s 803us/step - loss: 0.7657 - accuracy: 0.6441\n",
      "Epoch 3/10\n",
      "212/212 [==============================] - 0s 801us/step - loss: 0.7334 - accuracy: 0.6323\n",
      "Epoch 4/10\n",
      "212/212 [==============================] - 0s 805us/step - loss: 0.6677 - accuracy: 0.6465\n",
      "Epoch 5/10\n",
      "212/212 [==============================] - 0s 809us/step - loss: 0.6398 - accuracy: 0.6640\n",
      "Epoch 6/10\n",
      "212/212 [==============================] - 0s 797us/step - loss: 0.6584 - accuracy: 0.6446\n",
      "Epoch 7/10\n",
      "212/212 [==============================] - 0s 795us/step - loss: 0.6899 - accuracy: 0.6550\n",
      "Epoch 8/10\n",
      "212/212 [==============================] - 0s 888us/step - loss: 0.6469 - accuracy: 0.6555\n",
      "Epoch 9/10\n",
      "212/212 [==============================] - 0s 901us/step - loss: 0.6145 - accuracy: 0.6701\n",
      "Epoch 10/10\n",
      "212/212 [==============================] - 0s 939us/step - loss: 0.6364 - accuracy: 0.6626\n",
      "30/30 [==============================] - 0s 677us/step\n",
      "120/120 [==============================] - 0s 632us/step\n"
     ]
    },
    {
     "name": "stderr",
     "output_type": "stream",
     "text": [
      "Generating ensemble training data: |████      | 40%"
     ]
    },
    {
     "name": "stdout",
     "output_type": "stream",
     "text": [
      "Epoch 1/10\n",
      "212/212 [==============================] - 0s 881us/step - loss: 0.9768 - accuracy: 0.6186\n",
      "Epoch 2/10\n",
      "212/212 [==============================] - 0s 876us/step - loss: 0.7706 - accuracy: 0.6337\n",
      "Epoch 3/10\n",
      "212/212 [==============================] - 0s 864us/step - loss: 0.6699 - accuracy: 0.6654\n",
      "Epoch 4/10\n",
      "212/212 [==============================] - 0s 860us/step - loss: 0.6366 - accuracy: 0.6678\n",
      "Epoch 5/10\n",
      "212/212 [==============================] - 0s 870us/step - loss: 0.6704 - accuracy: 0.6574\n",
      "Epoch 6/10\n",
      "212/212 [==============================] - 0s 869us/step - loss: 0.6488 - accuracy: 0.6574\n",
      "Epoch 7/10\n",
      "212/212 [==============================] - 0s 859us/step - loss: 0.6326 - accuracy: 0.6701\n",
      "Epoch 8/10\n",
      "212/212 [==============================] - 0s 823us/step - loss: 0.6698 - accuracy: 0.6508\n",
      "Epoch 9/10\n",
      "212/212 [==============================] - 0s 839us/step - loss: 0.6481 - accuracy: 0.6640\n",
      "Epoch 10/10\n",
      "212/212 [==============================] - 0s 833us/step - loss: 0.6594 - accuracy: 0.6593\n",
      "30/30 [==============================] - 0s 629us/step\n",
      "120/120 [==============================] - 0s 630us/step\n"
     ]
    },
    {
     "name": "stderr",
     "output_type": "stream",
     "text": [
      "Generating ensemble training data: |██████    | 60%"
     ]
    },
    {
     "name": "stdout",
     "output_type": "stream",
     "text": [
      "Epoch 1/10\n",
      "212/212 [==============================] - 0s 829us/step - loss: 1.2284 - accuracy: 0.6015\n",
      "Epoch 2/10\n",
      "212/212 [==============================] - 0s 820us/step - loss: 0.8481 - accuracy: 0.6251\n",
      "Epoch 3/10\n",
      "212/212 [==============================] - 0s 824us/step - loss: 0.6492 - accuracy: 0.6804\n",
      "Epoch 4/10\n",
      "212/212 [==============================] - 0s 834us/step - loss: 0.6626 - accuracy: 0.6563\n",
      "Epoch 5/10\n",
      "212/212 [==============================] - 0s 844us/step - loss: 0.6353 - accuracy: 0.6747\n",
      "Epoch 6/10\n",
      "212/212 [==============================] - 0s 829us/step - loss: 0.6237 - accuracy: 0.6752\n",
      "Epoch 7/10\n",
      "212/212 [==============================] - 0s 827us/step - loss: 0.6109 - accuracy: 0.6771\n",
      "Epoch 8/10\n",
      "212/212 [==============================] - 0s 820us/step - loss: 0.6071 - accuracy: 0.6742\n",
      "Epoch 9/10\n",
      "212/212 [==============================] - 0s 826us/step - loss: 0.6611 - accuracy: 0.6558\n",
      "Epoch 10/10\n",
      "212/212 [==============================] - 0s 837us/step - loss: 0.6530 - accuracy: 0.6563\n",
      "30/30 [==============================] - 0s 619us/step\n",
      "120/120 [==============================] - 0s 603us/step\n"
     ]
    },
    {
     "name": "stderr",
     "output_type": "stream",
     "text": [
      "Generating ensemble training data: |████████  | 80%"
     ]
    },
    {
     "name": "stdout",
     "output_type": "stream",
     "text": [
      "Epoch 1/10\n",
      "212/212 [==============================] - 0s 840us/step - loss: 1.2439 - accuracy: 0.6058\n",
      "Epoch 2/10\n",
      "212/212 [==============================] - 0s 823us/step - loss: 0.9768 - accuracy: 0.6265\n",
      "Epoch 3/10\n",
      "212/212 [==============================] - 0s 820us/step - loss: 0.7220 - accuracy: 0.6360\n",
      "Epoch 4/10\n",
      "212/212 [==============================] - 0s 823us/step - loss: 0.7104 - accuracy: 0.6393\n",
      "Epoch 5/10\n",
      "212/212 [==============================] - 0s 824us/step - loss: 0.6835 - accuracy: 0.6364\n",
      "Epoch 6/10\n",
      "212/212 [==============================] - 0s 831us/step - loss: 0.6831 - accuracy: 0.6440\n",
      "Epoch 7/10\n",
      "212/212 [==============================] - 0s 847us/step - loss: 0.6561 - accuracy: 0.6700\n",
      "Epoch 8/10\n",
      "212/212 [==============================] - 0s 846us/step - loss: 0.6565 - accuracy: 0.6364\n",
      "Epoch 9/10\n",
      "212/212 [==============================] - 0s 833us/step - loss: 0.6556 - accuracy: 0.6568\n",
      "Epoch 10/10\n",
      "212/212 [==============================] - 0s 831us/step - loss: 0.6228 - accuracy: 0.6624\n",
      "30/30 [==============================] - 0s 641us/step\n",
      "120/120 [==============================] - 0s 662us/step\n"
     ]
    },
    {
     "name": "stderr",
     "output_type": "stream",
     "text": [
      "Generating ensemble training data: |██████████|100%\n",
      "Generating ensemble training data: |          |  0%"
     ]
    },
    {
     "name": "stdout",
     "output_type": "stream",
     "text": [
      "Epoch 1/10\n",
      "212/212 [==============================] - 1s 1ms/step - loss: 3.7370 - accuracy: 0.5236\n",
      "Epoch 2/10\n",
      "212/212 [==============================] - 0s 997us/step - loss: 1.1338 - accuracy: 0.5284\n",
      "Epoch 3/10\n",
      "212/212 [==============================] - 0s 983us/step - loss: 0.7789 - accuracy: 0.5595\n",
      "Epoch 4/10\n",
      "212/212 [==============================] - 0s 996us/step - loss: 0.7078 - accuracy: 0.5851\n",
      "Epoch 5/10\n",
      "212/212 [==============================] - 0s 985us/step - loss: 0.6871 - accuracy: 0.5879\n",
      "Epoch 6/10\n",
      "212/212 [==============================] - 0s 995us/step - loss: 0.6718 - accuracy: 0.6068\n",
      "Epoch 7/10\n",
      "212/212 [==============================] - 0s 979us/step - loss: 0.6803 - accuracy: 0.5803\n",
      "Epoch 8/10\n",
      "212/212 [==============================] - 0s 983us/step - loss: 0.6684 - accuracy: 0.5756\n",
      "Epoch 9/10\n",
      "212/212 [==============================] - 0s 981us/step - loss: 0.6573 - accuracy: 0.6148\n",
      "Epoch 10/10\n",
      "212/212 [==============================] - 0s 968us/step - loss: 0.6425 - accuracy: 0.6215\n",
      "30/30 [==============================] - 0s 684us/step\n",
      "120/120 [==============================] - 0s 662us/step\n"
     ]
    },
    {
     "name": "stderr",
     "output_type": "stream",
     "text": [
      "Generating ensemble training data: |██        | 20%"
     ]
    },
    {
     "name": "stdout",
     "output_type": "stream",
     "text": [
      "Epoch 1/10\n",
      "212/212 [==============================] - 0s 1ms/step - loss: 2.1777 - accuracy: 0.5142\n",
      "Epoch 2/10\n",
      "212/212 [==============================] - 0s 975us/step - loss: 0.7485 - accuracy: 0.5487\n",
      "Epoch 3/10\n",
      "212/212 [==============================] - 0s 981us/step - loss: 0.7094 - accuracy: 0.5482\n",
      "Epoch 4/10\n",
      "212/212 [==============================] - 0s 986us/step - loss: 0.6979 - accuracy: 0.5491\n",
      "Epoch 5/10\n",
      "212/212 [==============================] - 0s 999us/step - loss: 0.6885 - accuracy: 0.5718\n",
      "Epoch 6/10\n",
      "212/212 [==============================] - 0s 1ms/step - loss: 0.6641 - accuracy: 0.5926\n",
      "Epoch 7/10\n",
      "212/212 [==============================] - 0s 1ms/step - loss: 0.6588 - accuracy: 0.6129\n",
      "Epoch 8/10\n",
      "212/212 [==============================] - 0s 1ms/step - loss: 0.6486 - accuracy: 0.6172\n",
      "Epoch 9/10\n",
      "212/212 [==============================] - 0s 967us/step - loss: 0.6596 - accuracy: 0.6163\n",
      "Epoch 10/10\n",
      "212/212 [==============================] - 0s 950us/step - loss: 0.6503 - accuracy: 0.6101\n",
      "30/30 [==============================] - 0s 705us/step\n",
      "120/120 [==============================] - 0s 658us/step\n"
     ]
    },
    {
     "name": "stderr",
     "output_type": "stream",
     "text": [
      "Generating ensemble training data: |████      | 40%"
     ]
    },
    {
     "name": "stdout",
     "output_type": "stream",
     "text": [
      "Epoch 1/10\n",
      "212/212 [==============================] - 0s 927us/step - loss: 2.0232 - accuracy: 0.5241\n",
      "Epoch 2/10\n",
      "212/212 [==============================] - 0s 921us/step - loss: 0.7294 - accuracy: 0.5515\n",
      "Epoch 3/10\n",
      "212/212 [==============================] - 0s 933us/step - loss: 0.6808 - accuracy: 0.5841\n",
      "Epoch 4/10\n",
      "212/212 [==============================] - 0s 934us/step - loss: 0.6493 - accuracy: 0.6172\n",
      "Epoch 5/10\n",
      "212/212 [==============================] - 0s 932us/step - loss: 0.6557 - accuracy: 0.6380\n",
      "Epoch 6/10\n",
      "212/212 [==============================] - 0s 940us/step - loss: 0.6510 - accuracy: 0.6243\n",
      "Epoch 7/10\n",
      "212/212 [==============================] - 0s 935us/step - loss: 0.6273 - accuracy: 0.6427\n",
      "Epoch 8/10\n",
      "212/212 [==============================] - 0s 931us/step - loss: 0.6370 - accuracy: 0.6304\n",
      "Epoch 9/10\n",
      "212/212 [==============================] - 0s 914us/step - loss: 0.6355 - accuracy: 0.6314\n",
      "Epoch 10/10\n",
      "212/212 [==============================] - 0s 926us/step - loss: 0.6378 - accuracy: 0.6432\n",
      "30/30 [==============================] - 0s 653us/step\n",
      "120/120 [==============================] - 0s 623us/step\n"
     ]
    },
    {
     "name": "stderr",
     "output_type": "stream",
     "text": [
      "Generating ensemble training data: |██████    | 60%"
     ]
    },
    {
     "name": "stdout",
     "output_type": "stream",
     "text": [
      "Epoch 1/10\n",
      "212/212 [==============================] - 0s 938us/step - loss: 2.0577 - accuracy: 0.5109\n",
      "Epoch 2/10\n",
      "212/212 [==============================] - 0s 931us/step - loss: 0.7439 - accuracy: 0.5557\n",
      "Epoch 3/10\n",
      "212/212 [==============================] - 0s 963us/step - loss: 0.6943 - accuracy: 0.5774\n",
      "Epoch 4/10\n",
      "212/212 [==============================] - 0s 949us/step - loss: 0.6631 - accuracy: 0.6015\n",
      "Epoch 5/10\n",
      "212/212 [==============================] - 0s 953us/step - loss: 0.6706 - accuracy: 0.6048\n",
      "Epoch 6/10\n",
      "212/212 [==============================] - 0s 956us/step - loss: 0.6430 - accuracy: 0.6213\n",
      "Epoch 7/10\n",
      "212/212 [==============================] - 0s 965us/step - loss: 0.6374 - accuracy: 0.6374\n",
      "Epoch 8/10\n",
      "212/212 [==============================] - 0s 948us/step - loss: 0.6320 - accuracy: 0.6407\n",
      "Epoch 9/10\n",
      "212/212 [==============================] - 0s 953us/step - loss: 0.6345 - accuracy: 0.6445\n",
      "Epoch 10/10\n",
      "212/212 [==============================] - 0s 964us/step - loss: 0.6190 - accuracy: 0.6676\n",
      "30/30 [==============================] - 0s 687us/step\n",
      "120/120 [==============================] - 0s 654us/step\n"
     ]
    },
    {
     "name": "stderr",
     "output_type": "stream",
     "text": [
      "Generating ensemble training data: |████████  | 80%"
     ]
    },
    {
     "name": "stdout",
     "output_type": "stream",
     "text": [
      "Epoch 1/10\n",
      "212/212 [==============================] - 0s 979us/step - loss: 2.1203 - accuracy: 0.5293\n",
      "Epoch 2/10\n",
      "212/212 [==============================] - 0s 956us/step - loss: 0.7561 - accuracy: 0.5368\n",
      "Epoch 3/10\n",
      "212/212 [==============================] - 0s 962us/step - loss: 0.7087 - accuracy: 0.5571\n",
      "Epoch 4/10\n",
      "212/212 [==============================] - 0s 966us/step - loss: 0.6804 - accuracy: 0.5788\n",
      "Epoch 5/10\n",
      "212/212 [==============================] - 0s 951us/step - loss: 0.6682 - accuracy: 0.6128\n",
      "Epoch 6/10\n",
      "212/212 [==============================] - 0s 944us/step - loss: 0.6489 - accuracy: 0.6313\n",
      "Epoch 7/10\n",
      "212/212 [==============================] - 0s 939us/step - loss: 0.6500 - accuracy: 0.6185\n",
      "Epoch 8/10\n",
      "212/212 [==============================] - 0s 947us/step - loss: 0.6264 - accuracy: 0.6464\n",
      "Epoch 9/10\n",
      "212/212 [==============================] - 0s 962us/step - loss: 0.6316 - accuracy: 0.6317\n",
      "Epoch 10/10\n",
      "212/212 [==============================] - 0s 926us/step - loss: 0.6312 - accuracy: 0.6412\n",
      "30/30 [==============================] - 0s 659us/step\n",
      "120/120 [==============================] - 0s 652us/step\n"
     ]
    },
    {
     "name": "stderr",
     "output_type": "stream",
     "text": [
      "Generating ensemble training data: |██████████|100%\n",
      "Generating ensemble training data: |          |  0%"
     ]
    },
    {
     "name": "stdout",
     "output_type": "stream",
     "text": [
      "Epoch 1/10\n",
      "212/212 [==============================] - 1s 907us/step - loss: 1.4554 - accuracy: 0.6035\n",
      "Epoch 2/10\n",
      "212/212 [==============================] - 0s 825us/step - loss: 0.7145 - accuracy: 0.6503\n",
      "Epoch 3/10\n",
      "212/212 [==============================] - 0s 860us/step - loss: 0.6958 - accuracy: 0.6465\n",
      "Epoch 4/10\n",
      "212/212 [==============================] - 0s 892us/step - loss: 0.6953 - accuracy: 0.6498\n",
      "Epoch 5/10\n",
      "212/212 [==============================] - 0s 888us/step - loss: 0.7070 - accuracy: 0.6437\n",
      "Epoch 6/10\n",
      "212/212 [==============================] - 0s 893us/step - loss: 0.7471 - accuracy: 0.6489\n",
      "Epoch 7/10\n",
      "212/212 [==============================] - 0s 911us/step - loss: 0.6766 - accuracy: 0.6560\n",
      "Epoch 8/10\n",
      "212/212 [==============================] - 0s 910us/step - loss: 0.6302 - accuracy: 0.6692\n",
      "Epoch 9/10\n",
      "212/212 [==============================] - 0s 885us/step - loss: 0.6426 - accuracy: 0.6593\n",
      "Epoch 10/10\n",
      "212/212 [==============================] - 0s 884us/step - loss: 0.6594 - accuracy: 0.6649\n",
      "30/30 [==============================] - 0s 709us/step\n",
      "120/120 [==============================] - 0s 675us/step\n"
     ]
    },
    {
     "name": "stderr",
     "output_type": "stream",
     "text": [
      "Generating ensemble training data: |██        | 20%"
     ]
    },
    {
     "name": "stdout",
     "output_type": "stream",
     "text": [
      "Epoch 1/10\n",
      "212/212 [==============================] - 0s 888us/step - loss: 1.3061 - accuracy: 0.6285\n",
      "Epoch 2/10\n",
      "212/212 [==============================] - 0s 877us/step - loss: 0.7303 - accuracy: 0.6437\n",
      "Epoch 3/10\n",
      "212/212 [==============================] - 0s 892us/step - loss: 0.7354 - accuracy: 0.6508\n",
      "Epoch 4/10\n",
      "212/212 [==============================] - 0s 881us/step - loss: 0.6694 - accuracy: 0.6640\n",
      "Epoch 5/10\n",
      "212/212 [==============================] - 0s 857us/step - loss: 0.6857 - accuracy: 0.6531\n",
      "Epoch 6/10\n",
      "212/212 [==============================] - 0s 853us/step - loss: 0.6559 - accuracy: 0.6621\n",
      "Epoch 7/10\n",
      "212/212 [==============================] - 0s 857us/step - loss: 0.6332 - accuracy: 0.6654\n",
      "Epoch 8/10\n",
      "212/212 [==============================] - 0s 858us/step - loss: 0.6750 - accuracy: 0.6479\n",
      "Epoch 9/10\n",
      "212/212 [==============================] - 0s 843us/step - loss: 0.6870 - accuracy: 0.6503\n",
      "Epoch 10/10\n",
      "212/212 [==============================] - 0s 880us/step - loss: 0.6323 - accuracy: 0.6550\n",
      "30/30 [==============================] - 0s 651us/step\n",
      "120/120 [==============================] - 0s 653us/step\n"
     ]
    },
    {
     "name": "stderr",
     "output_type": "stream",
     "text": [
      "Generating ensemble training data: |████      | 40%"
     ]
    },
    {
     "name": "stdout",
     "output_type": "stream",
     "text": [
      "Epoch 1/10\n",
      "212/212 [==============================] - 0s 878us/step - loss: 1.4335 - accuracy: 0.6196\n",
      "Epoch 2/10\n",
      "212/212 [==============================] - 0s 898us/step - loss: 0.6980 - accuracy: 0.6555\n",
      "Epoch 3/10\n",
      "212/212 [==============================] - 0s 895us/step - loss: 0.7421 - accuracy: 0.6418\n",
      "Epoch 4/10\n",
      "212/212 [==============================] - 0s 888us/step - loss: 0.6470 - accuracy: 0.6682\n",
      "Epoch 5/10\n",
      "212/212 [==============================] - 0s 898us/step - loss: 0.6725 - accuracy: 0.6583\n",
      "Epoch 6/10\n",
      "212/212 [==============================] - 0s 889us/step - loss: 0.6836 - accuracy: 0.6630\n",
      "Epoch 7/10\n",
      "212/212 [==============================] - 0s 889us/step - loss: 0.6981 - accuracy: 0.6541\n",
      "Epoch 8/10\n",
      "212/212 [==============================] - 0s 895us/step - loss: 0.6170 - accuracy: 0.6853\n",
      "Epoch 9/10\n",
      "212/212 [==============================] - 0s 885us/step - loss: 0.6877 - accuracy: 0.6441\n",
      "Epoch 10/10\n",
      "212/212 [==============================] - 0s 868us/step - loss: 0.6261 - accuracy: 0.6744\n",
      "30/30 [==============================] - 0s 658us/step\n",
      "120/120 [==============================] - 0s 625us/step\n"
     ]
    },
    {
     "name": "stderr",
     "output_type": "stream",
     "text": [
      "Generating ensemble training data: |██████    | 60%"
     ]
    },
    {
     "name": "stdout",
     "output_type": "stream",
     "text": [
      "Epoch 1/10\n",
      "212/212 [==============================] - 0s 876us/step - loss: 1.5832 - accuracy: 0.6095\n",
      "Epoch 2/10\n",
      "212/212 [==============================] - 0s 867us/step - loss: 0.7045 - accuracy: 0.6577\n",
      "Epoch 3/10\n",
      "212/212 [==============================] - 0s 863us/step - loss: 0.6485 - accuracy: 0.6629\n",
      "Epoch 4/10\n",
      "212/212 [==============================] - 0s 862us/step - loss: 0.6487 - accuracy: 0.6615\n",
      "Epoch 5/10\n",
      "212/212 [==============================] - 0s 845us/step - loss: 0.6834 - accuracy: 0.6582\n",
      "Epoch 6/10\n",
      "212/212 [==============================] - 0s 848us/step - loss: 0.6458 - accuracy: 0.6591\n",
      "Epoch 7/10\n",
      "212/212 [==============================] - 0s 851us/step - loss: 0.6687 - accuracy: 0.6553\n",
      "Epoch 8/10\n",
      "212/212 [==============================] - 0s 842us/step - loss: 0.6176 - accuracy: 0.6752\n",
      "Epoch 9/10\n",
      "212/212 [==============================] - 0s 846us/step - loss: 0.6096 - accuracy: 0.6775\n",
      "Epoch 10/10\n",
      "212/212 [==============================] - 0s 843us/step - loss: 0.6138 - accuracy: 0.6752\n",
      "30/30 [==============================] - 0s 664us/step\n",
      "120/120 [==============================] - 0s 624us/step\n"
     ]
    },
    {
     "name": "stderr",
     "output_type": "stream",
     "text": [
      "Generating ensemble training data: |████████  | 80%"
     ]
    },
    {
     "name": "stdout",
     "output_type": "stream",
     "text": [
      "Epoch 1/10\n",
      "212/212 [==============================] - 0s 862us/step - loss: 1.4871 - accuracy: 0.6095\n",
      "Epoch 2/10\n",
      "212/212 [==============================] - 0s 846us/step - loss: 0.7399 - accuracy: 0.6350\n",
      "Epoch 3/10\n",
      "212/212 [==============================] - 0s 847us/step - loss: 0.6726 - accuracy: 0.6525\n",
      "Epoch 4/10\n",
      "212/212 [==============================] - 0s 850us/step - loss: 0.6855 - accuracy: 0.6464\n",
      "Epoch 5/10\n",
      "212/212 [==============================] - 0s 856us/step - loss: 0.6757 - accuracy: 0.6473\n",
      "Epoch 6/10\n",
      "212/212 [==============================] - 0s 878us/step - loss: 0.6462 - accuracy: 0.6511\n",
      "Epoch 7/10\n",
      "212/212 [==============================] - 0s 879us/step - loss: 0.6687 - accuracy: 0.6605\n",
      "Epoch 8/10\n",
      "212/212 [==============================] - 0s 886us/step - loss: 0.6301 - accuracy: 0.6752\n",
      "Epoch 9/10\n",
      "212/212 [==============================] - 0s 879us/step - loss: 0.6117 - accuracy: 0.6619\n",
      "Epoch 10/10\n",
      "212/212 [==============================] - 0s 869us/step - loss: 0.6285 - accuracy: 0.6605\n",
      "30/30 [==============================] - 0s 636us/step\n",
      "120/120 [==============================] - 0s 624us/step\n"
     ]
    },
    {
     "name": "stderr",
     "output_type": "stream",
     "text": [
      "Generating ensemble training data: |██████████|100%\n",
      "Generating ensemble training data: |          |  0%"
     ]
    },
    {
     "name": "stdout",
     "output_type": "stream",
     "text": [
      "Epoch 1/10\n",
      "212/212 [==============================] - 1s 972us/step - loss: 0.8011 - accuracy: 0.6437\n",
      "Epoch 2/10\n",
      "212/212 [==============================] - 0s 922us/step - loss: 0.6348 - accuracy: 0.6536\n",
      "Epoch 3/10\n",
      "212/212 [==============================] - 0s 901us/step - loss: 0.6247 - accuracy: 0.6602\n",
      "Epoch 4/10\n",
      "212/212 [==============================] - 0s 890us/step - loss: 0.6194 - accuracy: 0.6545\n",
      "Epoch 5/10\n",
      "212/212 [==============================] - 0s 881us/step - loss: 0.5953 - accuracy: 0.6753\n",
      "Epoch 6/10\n",
      "212/212 [==============================] - 0s 906us/step - loss: 0.5928 - accuracy: 0.6796\n",
      "Epoch 7/10\n",
      "212/212 [==============================] - 0s 900us/step - loss: 0.5953 - accuracy: 0.6810\n",
      "Epoch 8/10\n",
      "212/212 [==============================] - 0s 898us/step - loss: 0.5915 - accuracy: 0.6881\n",
      "Epoch 9/10\n",
      "212/212 [==============================] - 0s 900us/step - loss: 0.5914 - accuracy: 0.6758\n",
      "Epoch 10/10\n",
      "212/212 [==============================] - 0s 906us/step - loss: 0.5877 - accuracy: 0.6763\n",
      "30/30 [==============================] - 0s 687us/step\n",
      "120/120 [==============================] - 0s 634us/step\n"
     ]
    },
    {
     "name": "stderr",
     "output_type": "stream",
     "text": [
      "Generating ensemble training data: |██        | 20%"
     ]
    },
    {
     "name": "stdout",
     "output_type": "stream",
     "text": [
      "Epoch 1/10\n",
      "212/212 [==============================] - 0s 926us/step - loss: 0.8123 - accuracy: 0.6337\n",
      "Epoch 2/10\n",
      "212/212 [==============================] - 0s 927us/step - loss: 0.6140 - accuracy: 0.6555\n",
      "Epoch 3/10\n",
      "212/212 [==============================] - 0s 909us/step - loss: 0.5974 - accuracy: 0.6630\n",
      "Epoch 4/10\n",
      "212/212 [==============================] - 0s 905us/step - loss: 0.5937 - accuracy: 0.6706\n",
      "Epoch 5/10\n",
      "212/212 [==============================] - 0s 909us/step - loss: 0.5981 - accuracy: 0.6730\n",
      "Epoch 6/10\n",
      "212/212 [==============================] - 0s 914us/step - loss: 0.5894 - accuracy: 0.6829\n",
      "Epoch 7/10\n",
      "212/212 [==============================] - 0s 889us/step - loss: 0.5910 - accuracy: 0.6730\n",
      "Epoch 8/10\n",
      "212/212 [==============================] - 0s 880us/step - loss: 0.5884 - accuracy: 0.6857\n",
      "Epoch 9/10\n",
      "212/212 [==============================] - 0s 882us/step - loss: 0.5847 - accuracy: 0.6716\n",
      "Epoch 10/10\n",
      "212/212 [==============================] - 0s 887us/step - loss: 0.5802 - accuracy: 0.6720\n",
      "30/30 [==============================] - 0s 682us/step\n",
      "120/120 [==============================] - 0s 632us/step\n"
     ]
    },
    {
     "name": "stderr",
     "output_type": "stream",
     "text": [
      "Generating ensemble training data: |████      | 40%"
     ]
    },
    {
     "name": "stdout",
     "output_type": "stream",
     "text": [
      "Epoch 1/10\n",
      "212/212 [==============================] - 0s 903us/step - loss: 0.8635 - accuracy: 0.6026\n",
      "Epoch 2/10\n",
      "212/212 [==============================] - 0s 892us/step - loss: 0.6002 - accuracy: 0.6749\n",
      "Epoch 3/10\n",
      "212/212 [==============================] - 0s 915us/step - loss: 0.5995 - accuracy: 0.6593\n",
      "Epoch 4/10\n",
      "212/212 [==============================] - 0s 911us/step - loss: 0.5899 - accuracy: 0.6786\n",
      "Epoch 5/10\n",
      "212/212 [==============================] - 0s 897us/step - loss: 0.6209 - accuracy: 0.6626\n",
      "Epoch 6/10\n",
      "212/212 [==============================] - 0s 879us/step - loss: 0.5903 - accuracy: 0.6753\n",
      "Epoch 7/10\n",
      "212/212 [==============================] - 0s 882us/step - loss: 0.5817 - accuracy: 0.6862\n",
      "Epoch 8/10\n",
      "212/212 [==============================] - 0s 880us/step - loss: 0.5875 - accuracy: 0.6763\n",
      "Epoch 9/10\n",
      "212/212 [==============================] - 0s 882us/step - loss: 0.5802 - accuracy: 0.6980\n",
      "Epoch 10/10\n",
      "212/212 [==============================] - 0s 884us/step - loss: 0.5823 - accuracy: 0.6886\n",
      "30/30 [==============================] - 0s 641us/step\n",
      "120/120 [==============================] - 0s 626us/step\n"
     ]
    },
    {
     "name": "stderr",
     "output_type": "stream",
     "text": [
      "Generating ensemble training data: |██████    | 60%"
     ]
    },
    {
     "name": "stdout",
     "output_type": "stream",
     "text": [
      "Epoch 1/10\n",
      "212/212 [==============================] - 0s 897us/step - loss: 0.8169 - accuracy: 0.6218\n",
      "Epoch 2/10\n",
      "212/212 [==============================] - 0s 890us/step - loss: 0.6297 - accuracy: 0.6653\n",
      "Epoch 3/10\n",
      "212/212 [==============================] - 0s 888us/step - loss: 0.6099 - accuracy: 0.6695\n",
      "Epoch 4/10\n",
      "212/212 [==============================] - 0s 891us/step - loss: 0.5773 - accuracy: 0.6926\n",
      "Epoch 5/10\n",
      "212/212 [==============================] - 0s 882us/step - loss: 0.5920 - accuracy: 0.6804\n",
      "Epoch 6/10\n",
      "212/212 [==============================] - 0s 894us/step - loss: 0.5839 - accuracy: 0.6931\n",
      "Epoch 7/10\n",
      "212/212 [==============================] - 0s 890us/step - loss: 0.5874 - accuracy: 0.6818\n",
      "Epoch 8/10\n",
      "212/212 [==============================] - 0s 897us/step - loss: 0.5758 - accuracy: 0.6974\n",
      "Epoch 9/10\n",
      "212/212 [==============================] - 0s 892us/step - loss: 0.5774 - accuracy: 0.6907\n",
      "Epoch 10/10\n",
      "212/212 [==============================] - 0s 895us/step - loss: 0.5840 - accuracy: 0.6837\n",
      "30/30 [==============================] - 0s 651us/step\n",
      "120/120 [==============================] - 0s 636us/step\n"
     ]
    },
    {
     "name": "stderr",
     "output_type": "stream",
     "text": [
      "Generating ensemble training data: |████████  | 80%"
     ]
    },
    {
     "name": "stdout",
     "output_type": "stream",
     "text": [
      "Epoch 1/10\n",
      "212/212 [==============================] - 0s 902us/step - loss: 0.8154 - accuracy: 0.6133\n",
      "Epoch 2/10\n",
      "212/212 [==============================] - 0s 912us/step - loss: 0.6247 - accuracy: 0.6586\n",
      "Epoch 3/10\n",
      "212/212 [==============================] - 0s 893us/step - loss: 0.6182 - accuracy: 0.6553\n",
      "Epoch 4/10\n",
      "212/212 [==============================] - 0s 893us/step - loss: 0.5992 - accuracy: 0.6747\n",
      "Epoch 5/10\n",
      "212/212 [==============================] - 0s 901us/step - loss: 0.6076 - accuracy: 0.6704\n",
      "Epoch 6/10\n",
      "212/212 [==============================] - 0s 899us/step - loss: 0.5953 - accuracy: 0.6771\n",
      "Epoch 7/10\n",
      "212/212 [==============================] - 0s 898us/step - loss: 0.5912 - accuracy: 0.6667\n",
      "Epoch 8/10\n",
      "212/212 [==============================] - 0s 893us/step - loss: 0.5985 - accuracy: 0.6728\n",
      "Epoch 9/10\n",
      "212/212 [==============================] - 0s 892us/step - loss: 0.5899 - accuracy: 0.6761\n",
      "Epoch 10/10\n",
      "212/212 [==============================] - 0s 901us/step - loss: 0.5849 - accuracy: 0.6874\n",
      "30/30 [==============================] - 0s 670us/step\n",
      "120/120 [==============================] - 0s 632us/step\n"
     ]
    },
    {
     "name": "stderr",
     "output_type": "stream",
     "text": [
      "Generating ensemble training data: |██████████|100%\n"
     ]
    },
    {
     "name": "stdout",
     "output_type": "stream",
     "text": [
      "\n",
      "\n"
     ]
    },
    {
     "name": "stderr",
     "output_type": "stream",
     "text": [
      "Analyzing ensembles: |██████████|100%\n"
     ]
    },
    {
     "name": "stdout",
     "output_type": "stream",
     "text": [
      "Training base predictors on admission...\n",
      "        \n",
      "... for ensemble performance analysis...\n"
     ]
    },
    {
     "name": "stderr",
     "output_type": "stream",
     "text": [
      "Generating ensemble training data: |          |  0%"
     ]
    },
    {
     "name": "stdout",
     "output_type": "stream",
     "text": [
      "Epoch 1/10\n",
      "212/212 [==============================] - 0s 849us/step - loss: 1.2283 - accuracy: 0.6007\n",
      "Epoch 2/10\n",
      "212/212 [==============================] - 0s 818us/step - loss: 0.7368 - accuracy: 0.6375\n",
      "Epoch 3/10\n",
      "212/212 [==============================] - 0s 808us/step - loss: 0.7088 - accuracy: 0.6418\n",
      "Epoch 4/10\n",
      "212/212 [==============================] - 0s 808us/step - loss: 0.6940 - accuracy: 0.6503\n",
      "Epoch 5/10\n",
      "212/212 [==============================] - 0s 808us/step - loss: 0.6894 - accuracy: 0.6673\n",
      "Epoch 6/10\n",
      "212/212 [==============================] - 0s 816us/step - loss: 0.6619 - accuracy: 0.6583\n",
      "Epoch 7/10\n",
      "212/212 [==============================] - 0s 800us/step - loss: 0.6823 - accuracy: 0.6522\n",
      "Epoch 8/10\n",
      "212/212 [==============================] - 0s 812us/step - loss: 0.6590 - accuracy: 0.6588\n",
      "Epoch 9/10\n",
      "212/212 [==============================] - 0s 813us/step - loss: 0.6566 - accuracy: 0.6593\n",
      "Epoch 10/10\n",
      "212/212 [==============================] - 0s 802us/step - loss: 0.6255 - accuracy: 0.6664\n",
      "30/30 [==============================] - 0s 626us/step\n",
      "120/120 [==============================] - 0s 603us/step\n"
     ]
    },
    {
     "name": "stderr",
     "output_type": "stream",
     "text": [
      "Generating ensemble training data: |██        | 20%"
     ]
    },
    {
     "name": "stdout",
     "output_type": "stream",
     "text": [
      "Epoch 1/10\n",
      "212/212 [==============================] - 0s 838us/step - loss: 1.0636 - accuracy: 0.6129\n",
      "Epoch 2/10\n",
      "212/212 [==============================] - 0s 842us/step - loss: 0.7011 - accuracy: 0.6489\n",
      "Epoch 3/10\n",
      "212/212 [==============================] - 0s 834us/step - loss: 0.7346 - accuracy: 0.6252\n",
      "Epoch 4/10\n",
      "212/212 [==============================] - 0s 838us/step - loss: 0.7387 - accuracy: 0.6456\n",
      "Epoch 5/10\n",
      "212/212 [==============================] - 0s 836us/step - loss: 0.6627 - accuracy: 0.6460\n",
      "Epoch 6/10\n",
      "212/212 [==============================] - 0s 832us/step - loss: 0.6920 - accuracy: 0.6441\n",
      "Epoch 7/10\n",
      "212/212 [==============================] - 0s 859us/step - loss: 0.6582 - accuracy: 0.6635\n",
      "Epoch 8/10\n",
      "212/212 [==============================] - 0s 865us/step - loss: 0.7073 - accuracy: 0.6550\n",
      "Epoch 9/10\n",
      "212/212 [==============================] - 0s 858us/step - loss: 0.6374 - accuracy: 0.6654\n",
      "Epoch 10/10\n",
      "212/212 [==============================] - 0s 878us/step - loss: 0.6387 - accuracy: 0.6574\n",
      "30/30 [==============================] - 0s 672us/step\n",
      "120/120 [==============================] - 0s 612us/step\n"
     ]
    },
    {
     "name": "stderr",
     "output_type": "stream",
     "text": [
      "Generating ensemble training data: |████      | 40%"
     ]
    },
    {
     "name": "stdout",
     "output_type": "stream",
     "text": [
      "Epoch 1/10\n",
      "212/212 [==============================] - 0s 840us/step - loss: 1.0972 - accuracy: 0.6040\n",
      "Epoch 2/10\n",
      "212/212 [==============================] - 0s 840us/step - loss: 0.7118 - accuracy: 0.6474\n",
      "Epoch 3/10\n",
      "212/212 [==============================] - 0s 856us/step - loss: 0.6614 - accuracy: 0.6630\n",
      "Epoch 4/10\n",
      "212/212 [==============================] - 0s 839us/step - loss: 0.6210 - accuracy: 0.6801\n",
      "Epoch 5/10\n",
      "212/212 [==============================] - 0s 844us/step - loss: 0.7416 - accuracy: 0.6427\n",
      "Epoch 6/10\n",
      "212/212 [==============================] - 0s 841us/step - loss: 0.7111 - accuracy: 0.6550\n",
      "Epoch 7/10\n",
      "212/212 [==============================] - 0s 861us/step - loss: 0.6817 - accuracy: 0.6645\n",
      "Epoch 8/10\n",
      "212/212 [==============================] - 0s 861us/step - loss: 0.6350 - accuracy: 0.6739\n",
      "Epoch 9/10\n",
      "212/212 [==============================] - 0s 850us/step - loss: 0.6258 - accuracy: 0.6810\n",
      "Epoch 10/10\n",
      "212/212 [==============================] - 0s 853us/step - loss: 0.6325 - accuracy: 0.6749\n",
      "30/30 [==============================] - 0s 639us/step\n",
      "120/120 [==============================] - 0s 614us/step\n"
     ]
    },
    {
     "name": "stderr",
     "output_type": "stream",
     "text": [
      "Generating ensemble training data: |██████    | 60%"
     ]
    },
    {
     "name": "stdout",
     "output_type": "stream",
     "text": [
      "Epoch 1/10\n",
      "212/212 [==============================] - 0s 861us/step - loss: 1.3677 - accuracy: 0.6091\n",
      "Epoch 2/10\n",
      "212/212 [==============================] - 0s 855us/step - loss: 0.6847 - accuracy: 0.6464\n",
      "Epoch 3/10\n",
      "212/212 [==============================] - 0s 857us/step - loss: 0.6708 - accuracy: 0.6695\n",
      "Epoch 4/10\n",
      "212/212 [==============================] - 0s 843us/step - loss: 0.6378 - accuracy: 0.6638\n",
      "Epoch 5/10\n",
      "212/212 [==============================] - 0s 848us/step - loss: 0.6299 - accuracy: 0.6709\n",
      "Epoch 6/10\n",
      "212/212 [==============================] - 0s 852us/step - loss: 0.6581 - accuracy: 0.6492\n",
      "Epoch 7/10\n",
      "212/212 [==============================] - 0s 850us/step - loss: 0.6734 - accuracy: 0.6586\n",
      "Epoch 8/10\n",
      "212/212 [==============================] - 0s 838us/step - loss: 0.6385 - accuracy: 0.6714\n",
      "Epoch 9/10\n",
      "212/212 [==============================] - 0s 810us/step - loss: 0.6259 - accuracy: 0.6775\n",
      "Epoch 10/10\n",
      "212/212 [==============================] - 0s 829us/step - loss: 0.6352 - accuracy: 0.6719\n",
      "30/30 [==============================] - 0s 643us/step\n",
      "120/120 [==============================] - 0s 619us/step\n"
     ]
    },
    {
     "name": "stderr",
     "output_type": "stream",
     "text": [
      "Generating ensemble training data: |████████  | 80%"
     ]
    },
    {
     "name": "stdout",
     "output_type": "stream",
     "text": [
      "Epoch 1/10\n",
      "212/212 [==============================] - 0s 834us/step - loss: 1.0933 - accuracy: 0.6048\n",
      "Epoch 2/10\n",
      "212/212 [==============================] - 0s 827us/step - loss: 0.7269 - accuracy: 0.6242\n",
      "Epoch 3/10\n",
      "212/212 [==============================] - 0s 824us/step - loss: 0.6727 - accuracy: 0.6331\n",
      "Epoch 4/10\n",
      "212/212 [==============================] - 0s 821us/step - loss: 0.6602 - accuracy: 0.6459\n",
      "Epoch 5/10\n",
      "212/212 [==============================] - 0s 820us/step - loss: 0.7679 - accuracy: 0.6213\n",
      "Epoch 6/10\n",
      "212/212 [==============================] - 0s 829us/step - loss: 0.6532 - accuracy: 0.6497\n",
      "Epoch 7/10\n",
      "212/212 [==============================] - 0s 824us/step - loss: 0.7082 - accuracy: 0.6412\n",
      "Epoch 8/10\n",
      "212/212 [==============================] - 0s 828us/step - loss: 0.6454 - accuracy: 0.6563\n",
      "Epoch 9/10\n",
      "212/212 [==============================] - 0s 832us/step - loss: 0.6461 - accuracy: 0.6440\n",
      "Epoch 10/10\n",
      "212/212 [==============================] - 0s 839us/step - loss: 0.6228 - accuracy: 0.6667\n",
      "30/30 [==============================] - 0s 628us/step\n",
      "120/120 [==============================] - 0s 618us/step\n"
     ]
    },
    {
     "name": "stderr",
     "output_type": "stream",
     "text": [
      "Generating ensemble training data: |██████████|100%\n",
      "Generating ensemble training data: |          |  0%"
     ]
    },
    {
     "name": "stdout",
     "output_type": "stream",
     "text": [
      "Epoch 1/10\n",
      "212/212 [==============================] - 0s 956us/step - loss: 1.8873 - accuracy: 0.5317\n",
      "Epoch 2/10\n",
      "212/212 [==============================] - 0s 944us/step - loss: 0.7410 - accuracy: 0.5520\n",
      "Epoch 3/10\n",
      "212/212 [==============================] - 0s 960us/step - loss: 0.6982 - accuracy: 0.5803\n",
      "Epoch 4/10\n",
      "212/212 [==============================] - 0s 963us/step - loss: 0.6870 - accuracy: 0.5846\n",
      "Epoch 5/10\n",
      "212/212 [==============================] - 0s 954us/step - loss: 0.6691 - accuracy: 0.5714\n",
      "Epoch 6/10\n",
      "212/212 [==============================] - 0s 962us/step - loss: 0.6588 - accuracy: 0.6016\n",
      "Epoch 7/10\n",
      "212/212 [==============================] - 0s 938us/step - loss: 0.6524 - accuracy: 0.6205\n",
      "Epoch 8/10\n",
      "212/212 [==============================] - 0s 937us/step - loss: 0.6379 - accuracy: 0.6304\n",
      "Epoch 9/10\n",
      "212/212 [==============================] - 0s 941us/step - loss: 0.6337 - accuracy: 0.6352\n",
      "Epoch 10/10\n",
      "212/212 [==============================] - 0s 944us/step - loss: 0.6420 - accuracy: 0.6389\n",
      "30/30 [==============================] - 0s 659us/step\n",
      "120/120 [==============================] - 0s 625us/step\n"
     ]
    },
    {
     "name": "stderr",
     "output_type": "stream",
     "text": [
      "Generating ensemble training data: |██        | 20%"
     ]
    },
    {
     "name": "stdout",
     "output_type": "stream",
     "text": [
      "Epoch 1/10\n",
      "212/212 [==============================] - 0s 966us/step - loss: 1.9645 - accuracy: 0.5454\n",
      "Epoch 2/10\n",
      "212/212 [==============================] - 0s 957us/step - loss: 0.7445 - accuracy: 0.5487\n",
      "Epoch 3/10\n",
      "212/212 [==============================] - 0s 954us/step - loss: 0.6812 - accuracy: 0.5803\n",
      "Epoch 4/10\n",
      "212/212 [==============================] - 0s 939us/step - loss: 0.6572 - accuracy: 0.6111\n",
      "Epoch 5/10\n",
      "212/212 [==============================] - 0s 936us/step - loss: 0.6586 - accuracy: 0.6129\n",
      "Epoch 6/10\n",
      "212/212 [==============================] - 0s 939us/step - loss: 0.6540 - accuracy: 0.6068\n",
      "Epoch 7/10\n",
      "212/212 [==============================] - 0s 937us/step - loss: 0.6413 - accuracy: 0.6243\n",
      "Epoch 8/10\n",
      "212/212 [==============================] - 0s 930us/step - loss: 0.6322 - accuracy: 0.6371\n",
      "Epoch 9/10\n",
      "212/212 [==============================] - 0s 925us/step - loss: 0.6258 - accuracy: 0.6422\n",
      "Epoch 10/10\n",
      "212/212 [==============================] - 0s 932us/step - loss: 0.6281 - accuracy: 0.6389\n",
      "30/30 [==============================] - 0s 664us/step\n",
      "120/120 [==============================] - 0s 648us/step\n"
     ]
    },
    {
     "name": "stderr",
     "output_type": "stream",
     "text": [
      "Generating ensemble training data: |████      | 40%"
     ]
    },
    {
     "name": "stdout",
     "output_type": "stream",
     "text": [
      "Epoch 1/10\n",
      "212/212 [==============================] - 0s 947us/step - loss: 1.9796 - accuracy: 0.5156\n",
      "Epoch 2/10\n",
      "212/212 [==============================] - 0s 948us/step - loss: 0.7473 - accuracy: 0.5359\n",
      "Epoch 3/10\n",
      "212/212 [==============================] - 0s 937us/step - loss: 0.6907 - accuracy: 0.5737\n",
      "Epoch 4/10\n",
      "212/212 [==============================] - 0s 953us/step - loss: 0.6880 - accuracy: 0.5506\n",
      "Epoch 5/10\n",
      "212/212 [==============================] - 0s 978us/step - loss: 0.6707 - accuracy: 0.5841\n",
      "Epoch 6/10\n",
      "212/212 [==============================] - 0s 974us/step - loss: 0.6502 - accuracy: 0.6120\n",
      "Epoch 7/10\n",
      "212/212 [==============================] - 0s 951us/step - loss: 0.6529 - accuracy: 0.6040\n",
      "Epoch 8/10\n",
      "212/212 [==============================] - 0s 937us/step - loss: 0.6375 - accuracy: 0.6385\n",
      "Epoch 9/10\n",
      "212/212 [==============================] - 0s 945us/step - loss: 0.6306 - accuracy: 0.6569\n",
      "Epoch 10/10\n",
      "212/212 [==============================] - 0s 946us/step - loss: 0.6253 - accuracy: 0.6479\n",
      "30/30 [==============================] - 0s 661us/step\n",
      "120/120 [==============================] - 0s 630us/step\n"
     ]
    },
    {
     "name": "stderr",
     "output_type": "stream",
     "text": [
      "Generating ensemble training data: |██████    | 60%"
     ]
    },
    {
     "name": "stdout",
     "output_type": "stream",
     "text": [
      "Epoch 1/10\n",
      "212/212 [==============================] - 0s 969us/step - loss: 1.8618 - accuracy: 0.5283\n",
      "Epoch 2/10\n",
      "212/212 [==============================] - 0s 948us/step - loss: 0.7426 - accuracy: 0.5321\n",
      "Epoch 3/10\n",
      "212/212 [==============================] - 0s 951us/step - loss: 0.7017 - accuracy: 0.5500\n",
      "Epoch 4/10\n",
      "212/212 [==============================] - 0s 954us/step - loss: 0.6714 - accuracy: 0.5930\n",
      "Epoch 5/10\n",
      "212/212 [==============================] - 0s 932us/step - loss: 0.6639 - accuracy: 0.6062\n",
      "Epoch 6/10\n",
      "212/212 [==============================] - 0s 915us/step - loss: 0.6540 - accuracy: 0.6218\n",
      "Epoch 7/10\n",
      "212/212 [==============================] - 0s 939us/step - loss: 0.6450 - accuracy: 0.6294\n",
      "Epoch 8/10\n",
      "212/212 [==============================] - 0s 962us/step - loss: 0.6431 - accuracy: 0.6237\n",
      "Epoch 9/10\n",
      "212/212 [==============================] - 0s 951us/step - loss: 0.6319 - accuracy: 0.6440\n",
      "Epoch 10/10\n",
      "212/212 [==============================] - 0s 951us/step - loss: 0.6176 - accuracy: 0.6558\n",
      "30/30 [==============================] - 0s 669us/step\n",
      "120/120 [==============================] - 0s 645us/step\n"
     ]
    },
    {
     "name": "stderr",
     "output_type": "stream",
     "text": [
      "Generating ensemble training data: |████████  | 80%"
     ]
    },
    {
     "name": "stdout",
     "output_type": "stream",
     "text": [
      "Epoch 1/10\n",
      "212/212 [==============================] - 0s 937us/step - loss: 2.0879 - accuracy: 0.5132\n",
      "Epoch 2/10\n",
      "212/212 [==============================] - 0s 931us/step - loss: 0.7230 - accuracy: 0.5595\n",
      "Epoch 3/10\n",
      "212/212 [==============================] - 0s 932us/step - loss: 0.6936 - accuracy: 0.5737\n",
      "Epoch 4/10\n",
      "212/212 [==============================] - 0s 938us/step - loss: 0.6712 - accuracy: 0.5798\n",
      "Epoch 5/10\n",
      "212/212 [==============================] - 0s 933us/step - loss: 0.6618 - accuracy: 0.5977\n",
      "Epoch 6/10\n",
      "212/212 [==============================] - 0s 930us/step - loss: 0.6545 - accuracy: 0.5987\n",
      "Epoch 7/10\n",
      "212/212 [==============================] - 0s 922us/step - loss: 0.6475 - accuracy: 0.6199\n",
      "Epoch 8/10\n",
      "212/212 [==============================] - 0s 934us/step - loss: 0.6271 - accuracy: 0.6322\n",
      "Epoch 9/10\n",
      "212/212 [==============================] - 0s 946us/step - loss: 0.6470 - accuracy: 0.6256\n",
      "Epoch 10/10\n",
      "212/212 [==============================] - 0s 931us/step - loss: 0.6233 - accuracy: 0.6445\n",
      "30/30 [==============================] - 0s 662us/step\n",
      "120/120 [==============================] - 0s 638us/step\n"
     ]
    },
    {
     "name": "stderr",
     "output_type": "stream",
     "text": [
      "Generating ensemble training data: |██████████|100%\n",
      "Generating ensemble training data: |          |  0%"
     ]
    },
    {
     "name": "stdout",
     "output_type": "stream",
     "text": [
      "Epoch 1/10\n",
      "212/212 [==============================] - 0s 896us/step - loss: 1.3655 - accuracy: 0.6172\n",
      "Epoch 2/10\n",
      "212/212 [==============================] - 0s 886us/step - loss: 0.7938 - accuracy: 0.6352\n",
      "Epoch 3/10\n",
      "212/212 [==============================] - 0s 876us/step - loss: 0.6870 - accuracy: 0.6512\n",
      "Epoch 4/10\n",
      "212/212 [==============================] - 0s 868us/step - loss: 0.6535 - accuracy: 0.6597\n",
      "Epoch 5/10\n",
      "212/212 [==============================] - 0s 876us/step - loss: 0.6632 - accuracy: 0.6602\n",
      "Epoch 6/10\n",
      "212/212 [==============================] - 0s 862us/step - loss: 0.7096 - accuracy: 0.6389\n",
      "Epoch 7/10\n",
      "212/212 [==============================] - 0s 861us/step - loss: 0.6480 - accuracy: 0.6578\n",
      "Epoch 8/10\n",
      "212/212 [==============================] - 0s 865us/step - loss: 0.7186 - accuracy: 0.6408\n",
      "Epoch 9/10\n",
      "212/212 [==============================] - 0s 861us/step - loss: 0.6804 - accuracy: 0.6441\n",
      "Epoch 10/10\n",
      "212/212 [==============================] - 0s 862us/step - loss: 0.6509 - accuracy: 0.6682\n",
      "30/30 [==============================] - 0s 637us/step\n",
      "120/120 [==============================] - 0s 632us/step\n"
     ]
    },
    {
     "name": "stderr",
     "output_type": "stream",
     "text": [
      "Generating ensemble training data: |██        | 20%"
     ]
    },
    {
     "name": "stdout",
     "output_type": "stream",
     "text": [
      "Epoch 1/10\n",
      "212/212 [==============================] - 0s 856us/step - loss: 1.2469 - accuracy: 0.6177\n",
      "Epoch 2/10\n",
      "212/212 [==============================] - 0s 860us/step - loss: 0.6821 - accuracy: 0.6389\n",
      "Epoch 3/10\n",
      "212/212 [==============================] - 0s 846us/step - loss: 0.7459 - accuracy: 0.6366\n",
      "Epoch 4/10\n",
      "212/212 [==============================] - 0s 844us/step - loss: 0.6698 - accuracy: 0.6470\n",
      "Epoch 5/10\n",
      "212/212 [==============================] - 0s 851us/step - loss: 0.6967 - accuracy: 0.6474\n",
      "Epoch 6/10\n",
      "212/212 [==============================] - 0s 850us/step - loss: 0.6689 - accuracy: 0.6597\n",
      "Epoch 7/10\n",
      "212/212 [==============================] - 0s 851us/step - loss: 0.6742 - accuracy: 0.6564\n",
      "Epoch 8/10\n",
      "212/212 [==============================] - 0s 869us/step - loss: 0.6451 - accuracy: 0.6664\n",
      "Epoch 9/10\n",
      "212/212 [==============================] - 0s 860us/step - loss: 0.6702 - accuracy: 0.6503\n",
      "Epoch 10/10\n",
      "212/212 [==============================] - 0s 867us/step - loss: 0.6154 - accuracy: 0.6630\n",
      "30/30 [==============================] - 0s 666us/step\n",
      "120/120 [==============================] - 0s 627us/step\n"
     ]
    },
    {
     "name": "stderr",
     "output_type": "stream",
     "text": [
      "Generating ensemble training data: |████      | 40%"
     ]
    },
    {
     "name": "stdout",
     "output_type": "stream",
     "text": [
      "Epoch 1/10\n",
      "212/212 [==============================] - 0s 900us/step - loss: 1.4532 - accuracy: 0.6191\n",
      "Epoch 2/10\n",
      "212/212 [==============================] - 0s 896us/step - loss: 0.7401 - accuracy: 0.6380\n",
      "Epoch 3/10\n",
      "212/212 [==============================] - 0s 886us/step - loss: 0.7027 - accuracy: 0.6531\n",
      "Epoch 4/10\n",
      "212/212 [==============================] - 0s 863us/step - loss: 0.6697 - accuracy: 0.6711\n",
      "Epoch 5/10\n",
      "212/212 [==============================] - 0s 868us/step - loss: 0.6387 - accuracy: 0.6654\n",
      "Epoch 6/10\n",
      "212/212 [==============================] - 0s 876us/step - loss: 0.6512 - accuracy: 0.6654\n",
      "Epoch 7/10\n",
      "212/212 [==============================] - 0s 871us/step - loss: 0.6762 - accuracy: 0.6555\n",
      "Epoch 8/10\n",
      "212/212 [==============================] - 0s 869us/step - loss: 0.6450 - accuracy: 0.6753\n",
      "Epoch 9/10\n",
      "212/212 [==============================] - 0s 865us/step - loss: 0.6498 - accuracy: 0.6645\n",
      "Epoch 10/10\n",
      "212/212 [==============================] - 0s 868us/step - loss: 0.6523 - accuracy: 0.6626\n",
      "30/30 [==============================] - 0s 669us/step\n",
      "120/120 [==============================] - 0s 626us/step\n"
     ]
    },
    {
     "name": "stderr",
     "output_type": "stream",
     "text": [
      "Generating ensemble training data: |██████    | 60%"
     ]
    },
    {
     "name": "stdout",
     "output_type": "stream",
     "text": [
      "Epoch 1/10\n",
      "212/212 [==============================] - 0s 886us/step - loss: 1.4993 - accuracy: 0.6171\n",
      "Epoch 2/10\n",
      "212/212 [==============================] - 0s 880us/step - loss: 0.7698 - accuracy: 0.6350\n",
      "Epoch 3/10\n",
      "212/212 [==============================] - 0s 883us/step - loss: 0.6457 - accuracy: 0.6662\n",
      "Epoch 4/10\n",
      "212/212 [==============================] - 0s 876us/step - loss: 0.6877 - accuracy: 0.6605\n",
      "Epoch 5/10\n",
      "212/212 [==============================] - 0s 871us/step - loss: 0.6697 - accuracy: 0.6601\n",
      "Epoch 6/10\n",
      "212/212 [==============================] - 0s 872us/step - loss: 0.6120 - accuracy: 0.6785\n",
      "Epoch 7/10\n",
      "212/212 [==============================] - 0s 864us/step - loss: 0.6845 - accuracy: 0.6454\n",
      "Epoch 8/10\n",
      "212/212 [==============================] - 0s 863us/step - loss: 0.7299 - accuracy: 0.6402\n",
      "Epoch 9/10\n",
      "212/212 [==============================] - 0s 861us/step - loss: 0.6440 - accuracy: 0.6709\n",
      "Epoch 10/10\n",
      "212/212 [==============================] - 0s 861us/step - loss: 0.6306 - accuracy: 0.6695\n",
      "30/30 [==============================] - 0s 687us/step\n",
      "120/120 [==============================] - 0s 633us/step\n"
     ]
    },
    {
     "name": "stderr",
     "output_type": "stream",
     "text": [
      "Generating ensemble training data: |████████  | 80%"
     ]
    },
    {
     "name": "stdout",
     "output_type": "stream",
     "text": [
      "Epoch 1/10\n",
      "212/212 [==============================] - 0s 861us/step - loss: 1.5940 - accuracy: 0.6020\n",
      "Epoch 2/10\n",
      "212/212 [==============================] - 0s 846us/step - loss: 0.7048 - accuracy: 0.6454\n",
      "Epoch 3/10\n",
      "212/212 [==============================] - 0s 821us/step - loss: 0.7544 - accuracy: 0.6379\n",
      "Epoch 4/10\n",
      "212/212 [==============================] - 0s 822us/step - loss: 0.6255 - accuracy: 0.6667\n",
      "Epoch 5/10\n",
      "212/212 [==============================] - 0s 848us/step - loss: 0.6493 - accuracy: 0.6558\n",
      "Epoch 6/10\n",
      "212/212 [==============================] - 0s 837us/step - loss: 0.6608 - accuracy: 0.6563\n",
      "Epoch 7/10\n",
      "212/212 [==============================] - 0s 837us/step - loss: 0.6552 - accuracy: 0.6459\n",
      "Epoch 8/10\n",
      "212/212 [==============================] - 0s 837us/step - loss: 0.6792 - accuracy: 0.6549\n",
      "Epoch 9/10\n",
      "212/212 [==============================] - 0s 852us/step - loss: 0.6193 - accuracy: 0.6624\n",
      "Epoch 10/10\n",
      "212/212 [==============================] - 0s 871us/step - loss: 0.6526 - accuracy: 0.6568\n",
      "30/30 [==============================] - 0s 648us/step\n",
      "120/120 [==============================] - 0s 638us/step\n"
     ]
    },
    {
     "name": "stderr",
     "output_type": "stream",
     "text": [
      "Generating ensemble training data: |██████████|100%\n",
      "Generating ensemble training data: |          |  0%"
     ]
    },
    {
     "name": "stdout",
     "output_type": "stream",
     "text": [
      "Epoch 1/10\n",
      "212/212 [==============================] - 0s 917us/step - loss: 0.8905 - accuracy: 0.6215\n",
      "Epoch 2/10\n",
      "212/212 [==============================] - 0s 900us/step - loss: 0.6265 - accuracy: 0.6583\n",
      "Epoch 3/10\n",
      "212/212 [==============================] - 0s 907us/step - loss: 0.6171 - accuracy: 0.6560\n",
      "Epoch 4/10\n",
      "212/212 [==============================] - 0s 912us/step - loss: 0.5924 - accuracy: 0.6583\n",
      "Epoch 5/10\n",
      "212/212 [==============================] - 0s 901us/step - loss: 0.6083 - accuracy: 0.6621\n",
      "Epoch 6/10\n",
      "212/212 [==============================] - 0s 904us/step - loss: 0.5898 - accuracy: 0.6725\n",
      "Epoch 7/10\n",
      "212/212 [==============================] - 0s 899us/step - loss: 0.5870 - accuracy: 0.6716\n",
      "Epoch 8/10\n",
      "212/212 [==============================] - 0s 913us/step - loss: 0.5936 - accuracy: 0.6744\n",
      "Epoch 9/10\n",
      "212/212 [==============================] - 0s 896us/step - loss: 0.5945 - accuracy: 0.6749\n",
      "Epoch 10/10\n",
      "212/212 [==============================] - 0s 904us/step - loss: 0.5852 - accuracy: 0.6772\n",
      "30/30 [==============================] - 0s 656us/step\n",
      "120/120 [==============================] - 0s 613us/step\n"
     ]
    },
    {
     "name": "stderr",
     "output_type": "stream",
     "text": [
      "Generating ensemble training data: |██        | 20%"
     ]
    },
    {
     "name": "stdout",
     "output_type": "stream",
     "text": [
      "Epoch 1/10\n",
      "212/212 [==============================] - 0s 915us/step - loss: 0.7859 - accuracy: 0.6163\n",
      "Epoch 2/10\n",
      "212/212 [==============================] - 0s 905us/step - loss: 0.6227 - accuracy: 0.6498\n",
      "Epoch 3/10\n",
      "212/212 [==============================] - 0s 907us/step - loss: 0.6039 - accuracy: 0.6597\n",
      "Epoch 4/10\n",
      "212/212 [==============================] - 0s 916us/step - loss: 0.6139 - accuracy: 0.6668\n",
      "Epoch 5/10\n",
      "212/212 [==============================] - 0s 914us/step - loss: 0.5863 - accuracy: 0.6739\n",
      "Epoch 6/10\n",
      "212/212 [==============================] - 0s 910us/step - loss: 0.5865 - accuracy: 0.6801\n",
      "Epoch 7/10\n",
      "212/212 [==============================] - 0s 895us/step - loss: 0.5908 - accuracy: 0.6772\n",
      "Epoch 8/10\n",
      "212/212 [==============================] - 0s 898us/step - loss: 0.5877 - accuracy: 0.6796\n",
      "Epoch 9/10\n",
      "212/212 [==============================] - 0s 908us/step - loss: 0.5861 - accuracy: 0.6857\n",
      "Epoch 10/10\n",
      "212/212 [==============================] - 0s 901us/step - loss: 0.5933 - accuracy: 0.6829\n",
      "30/30 [==============================] - 0s 682us/step\n",
      "120/120 [==============================] - 0s 607us/step\n"
     ]
    },
    {
     "name": "stderr",
     "output_type": "stream",
     "text": [
      "Generating ensemble training data: |████      | 40%"
     ]
    },
    {
     "name": "stdout",
     "output_type": "stream",
     "text": [
      "Epoch 1/10\n",
      "212/212 [==============================] - 0s 901us/step - loss: 0.8384 - accuracy: 0.6276\n",
      "Epoch 2/10\n",
      "212/212 [==============================] - 0s 900us/step - loss: 0.6266 - accuracy: 0.6583\n",
      "Epoch 3/10\n",
      "212/212 [==============================] - 0s 892us/step - loss: 0.6237 - accuracy: 0.6550\n",
      "Epoch 4/10\n",
      "212/212 [==============================] - 0s 894us/step - loss: 0.5852 - accuracy: 0.6947\n",
      "Epoch 5/10\n",
      "212/212 [==============================] - 0s 894us/step - loss: 0.6054 - accuracy: 0.6692\n",
      "Epoch 6/10\n",
      "212/212 [==============================] - 0s 892us/step - loss: 0.5940 - accuracy: 0.6843\n",
      "Epoch 7/10\n",
      "212/212 [==============================] - 0s 887us/step - loss: 0.5830 - accuracy: 0.6914\n",
      "Epoch 8/10\n",
      "212/212 [==============================] - 0s 890us/step - loss: 0.5787 - accuracy: 0.6961\n",
      "Epoch 9/10\n",
      "212/212 [==============================] - 0s 890us/step - loss: 0.5798 - accuracy: 0.6843\n",
      "Epoch 10/10\n",
      "212/212 [==============================] - 0s 889us/step - loss: 0.5840 - accuracy: 0.6853\n",
      "30/30 [==============================] - 0s 647us/step\n",
      "120/120 [==============================] - 0s 623us/step\n"
     ]
    },
    {
     "name": "stderr",
     "output_type": "stream",
     "text": [
      "Generating ensemble training data: |██████    | 60%"
     ]
    },
    {
     "name": "stdout",
     "output_type": "stream",
     "text": [
      "Epoch 1/10\n",
      "212/212 [==============================] - 0s 893us/step - loss: 0.8000 - accuracy: 0.6331\n",
      "Epoch 2/10\n",
      "212/212 [==============================] - 0s 913us/step - loss: 0.6102 - accuracy: 0.6624\n",
      "Epoch 3/10\n",
      "212/212 [==============================] - 0s 929us/step - loss: 0.6113 - accuracy: 0.6638\n",
      "Epoch 4/10\n",
      "212/212 [==============================] - 0s 923us/step - loss: 0.6023 - accuracy: 0.6723\n",
      "Epoch 5/10\n",
      "212/212 [==============================] - 0s 915us/step - loss: 0.5941 - accuracy: 0.6761\n",
      "Epoch 6/10\n",
      "212/212 [==============================] - 0s 910us/step - loss: 0.5852 - accuracy: 0.6893\n",
      "Epoch 7/10\n",
      "212/212 [==============================] - 0s 903us/step - loss: 0.5787 - accuracy: 0.6931\n",
      "Epoch 8/10\n",
      "212/212 [==============================] - 0s 904us/step - loss: 0.5744 - accuracy: 0.6969\n",
      "Epoch 9/10\n",
      "212/212 [==============================] - 0s 902us/step - loss: 0.5825 - accuracy: 0.6917\n",
      "Epoch 10/10\n",
      "212/212 [==============================] - 0s 924us/step - loss: 0.5746 - accuracy: 0.6903\n",
      "30/30 [==============================] - 0s 684us/step\n",
      "120/120 [==============================] - 0s 639us/step\n"
     ]
    },
    {
     "name": "stderr",
     "output_type": "stream",
     "text": [
      "Generating ensemble training data: |████████  | 80%"
     ]
    },
    {
     "name": "stdout",
     "output_type": "stream",
     "text": [
      "Epoch 1/10\n",
      "212/212 [==============================] - 0s 910us/step - loss: 0.9037 - accuracy: 0.6138\n",
      "Epoch 2/10\n",
      "212/212 [==============================] - 0s 895us/step - loss: 0.6088 - accuracy: 0.6605\n",
      "Epoch 3/10\n",
      "212/212 [==============================] - 0s 903us/step - loss: 0.6131 - accuracy: 0.6572\n",
      "Epoch 4/10\n",
      "212/212 [==============================] - 0s 897us/step - loss: 0.6047 - accuracy: 0.6577\n",
      "Epoch 5/10\n",
      "212/212 [==============================] - 0s 909us/step - loss: 0.5981 - accuracy: 0.6605\n",
      "Epoch 6/10\n",
      "212/212 [==============================] - 0s 890us/step - loss: 0.5882 - accuracy: 0.6657\n",
      "Epoch 7/10\n",
      "212/212 [==============================] - 0s 884us/step - loss: 0.5869 - accuracy: 0.6832\n",
      "Epoch 8/10\n",
      "212/212 [==============================] - 0s 902us/step - loss: 0.5935 - accuracy: 0.6837\n",
      "Epoch 9/10\n",
      "212/212 [==============================] - 0s 902us/step - loss: 0.5961 - accuracy: 0.6681\n",
      "Epoch 10/10\n",
      "212/212 [==============================] - 0s 902us/step - loss: 0.5858 - accuracy: 0.6799\n",
      "30/30 [==============================] - 0s 658us/step\n",
      "120/120 [==============================] - 0s 628us/step\n"
     ]
    },
    {
     "name": "stderr",
     "output_type": "stream",
     "text": [
      "Generating ensemble training data: |██████████|100%\n"
     ]
    },
    {
     "name": "stdout",
     "output_type": "stream",
     "text": [
      "\n",
      "\n",
      "Training base predictors on comorbidities...\n",
      "        \n",
      "... for ensemble performance analysis...\n"
     ]
    },
    {
     "name": "stderr",
     "output_type": "stream",
     "text": [
      "Generating ensemble training data: |██████████|100%\n",
      "Generating ensemble test data: |██████████|100%\n"
     ]
    },
    {
     "name": "stdout",
     "output_type": "stream",
     "text": [
      "\n",
      "\n",
      "Training base predictors on labs...\n",
      "        \n",
      "... for ensemble performance analysis...\n"
     ]
    },
    {
     "name": "stderr",
     "output_type": "stream",
     "text": [
      "Generating ensemble training data: |██████████|100%\n",
      "Generating ensemble test data: |██████████|100%\n"
     ]
    },
    {
     "name": "stdout",
     "output_type": "stream",
     "text": [
      "\n",
      "\n",
      "Training base predictors on vitals...\n",
      "        \n",
      "... for ensemble performance analysis...\n"
     ]
    },
    {
     "name": "stderr",
     "output_type": "stream",
     "text": [
      "Generating ensemble training data: |██████████|100%\n",
      "Generating ensemble test data: |██████████|100%\n"
     ]
    },
    {
     "name": "stdout",
     "output_type": "stream",
     "text": [
      "\n",
      "\n"
     ]
    },
    {
     "name": "stderr",
     "output_type": "stream",
     "text": [
      "Analyzing ensembles: |██████████|100%\n"
     ]
    },
    {
     "name": "stdout",
     "output_type": "stream",
     "text": [
      "DONE WITH MODALITY admission YAYYYY!!!!\n",
      "Training base predictors on comorbidities...\n",
      "        \n",
      "... for ensemble performance analysis...\n"
     ]
    },
    {
     "name": "stderr",
     "output_type": "stream",
     "text": [
      "Generating ensemble training data: |██████████|100%\n",
      "Generating ensemble test data: |██████████|100%\n"
     ]
    },
    {
     "name": "stdout",
     "output_type": "stream",
     "text": [
      "\n",
      "\n"
     ]
    },
    {
     "name": "stderr",
     "output_type": "stream",
     "text": [
      "Analyzing ensembles: |██████████|100%\n"
     ]
    },
    {
     "name": "stdout",
     "output_type": "stream",
     "text": [
      "Training base predictors on comorbidities...\n",
      "        \n",
      "... for ensemble performance analysis...\n"
     ]
    },
    {
     "name": "stderr",
     "output_type": "stream",
     "text": [
      "Generating ensemble training data: |          |  0%"
     ]
    },
    {
     "name": "stdout",
     "output_type": "stream",
     "text": [
      "Epoch 1/10\n",
      "212/212 [==============================] - 1s 909us/step - loss: 0.6865 - accuracy: 0.5501\n",
      "Epoch 2/10\n",
      "212/212 [==============================] - 0s 841us/step - loss: 0.6755 - accuracy: 0.5818\n",
      "Epoch 3/10\n",
      "212/212 [==============================] - 0s 848us/step - loss: 0.6684 - accuracy: 0.5950\n",
      "Epoch 4/10\n",
      "212/212 [==============================] - 0s 859us/step - loss: 0.6650 - accuracy: 0.5879\n",
      "Epoch 5/10\n",
      "212/212 [==============================] - 0s 858us/step - loss: 0.6628 - accuracy: 0.5893\n",
      "Epoch 6/10\n",
      "212/212 [==============================] - 0s 851us/step - loss: 0.6579 - accuracy: 0.5964\n",
      "Epoch 7/10\n",
      "212/212 [==============================] - 0s 850us/step - loss: 0.6549 - accuracy: 0.5964\n",
      "Epoch 8/10\n",
      "212/212 [==============================] - 0s 842us/step - loss: 0.6520 - accuracy: 0.5978\n",
      "Epoch 9/10\n",
      "212/212 [==============================] - 0s 845us/step - loss: 0.6502 - accuracy: 0.6011\n",
      "Epoch 10/10\n",
      "212/212 [==============================] - 0s 841us/step - loss: 0.6474 - accuracy: 0.6021\n",
      "30/30 [==============================] - 0s 682us/step\n",
      "120/120 [==============================] - 0s 630us/step\n"
     ]
    },
    {
     "name": "stderr",
     "output_type": "stream",
     "text": [
      "Generating ensemble training data: |██        | 20%"
     ]
    },
    {
     "name": "stdout",
     "output_type": "stream",
     "text": [
      "Epoch 1/10\n",
      "212/212 [==============================] - 0s 833us/step - loss: 0.6890 - accuracy: 0.5496\n",
      "Epoch 2/10\n",
      "212/212 [==============================] - 0s 820us/step - loss: 0.6786 - accuracy: 0.5756\n",
      "Epoch 3/10\n",
      "212/212 [==============================] - 0s 850us/step - loss: 0.6752 - accuracy: 0.5775\n",
      "Epoch 4/10\n",
      "212/212 [==============================] - 0s 853us/step - loss: 0.6722 - accuracy: 0.5803\n",
      "Epoch 5/10\n",
      "212/212 [==============================] - 0s 856us/step - loss: 0.6693 - accuracy: 0.5926\n",
      "Epoch 6/10\n",
      "212/212 [==============================] - 0s 837us/step - loss: 0.6674 - accuracy: 0.5888\n",
      "Epoch 7/10\n",
      "212/212 [==============================] - 0s 836us/step - loss: 0.6634 - accuracy: 0.6007\n",
      "Epoch 8/10\n",
      "212/212 [==============================] - 0s 828us/step - loss: 0.6644 - accuracy: 0.5879\n",
      "Epoch 9/10\n",
      "212/212 [==============================] - 0s 847us/step - loss: 0.6613 - accuracy: 0.5955\n",
      "Epoch 10/10\n",
      "212/212 [==============================] - 0s 848us/step - loss: 0.6580 - accuracy: 0.6011\n",
      "30/30 [==============================] - 0s 645us/step\n",
      "120/120 [==============================] - 0s 610us/step\n"
     ]
    },
    {
     "name": "stderr",
     "output_type": "stream",
     "text": [
      "Generating ensemble training data: |████      | 40%"
     ]
    },
    {
     "name": "stdout",
     "output_type": "stream",
     "text": [
      "Epoch 1/10\n",
      "212/212 [==============================] - 0s 853us/step - loss: 0.6866 - accuracy: 0.5482\n",
      "Epoch 2/10\n",
      "212/212 [==============================] - 0s 833us/step - loss: 0.6762 - accuracy: 0.5780\n",
      "Epoch 3/10\n",
      "212/212 [==============================] - 0s 838us/step - loss: 0.6722 - accuracy: 0.5818\n",
      "Epoch 4/10\n",
      "212/212 [==============================] - 0s 849us/step - loss: 0.6692 - accuracy: 0.5917\n",
      "Epoch 5/10\n",
      "212/212 [==============================] - 0s 848us/step - loss: 0.6659 - accuracy: 0.5945\n",
      "Epoch 6/10\n",
      "212/212 [==============================] - 0s 837us/step - loss: 0.6628 - accuracy: 0.5912\n",
      "Epoch 7/10\n",
      "212/212 [==============================] - 0s 836us/step - loss: 0.6607 - accuracy: 0.5917\n",
      "Epoch 8/10\n",
      "212/212 [==============================] - 0s 836us/step - loss: 0.6589 - accuracy: 0.5945\n",
      "Epoch 9/10\n",
      "212/212 [==============================] - 0s 835us/step - loss: 0.6564 - accuracy: 0.5955\n",
      "Epoch 10/10\n",
      "212/212 [==============================] - 0s 834us/step - loss: 0.6536 - accuracy: 0.5997\n",
      "30/30 [==============================] - 0s 650us/step\n",
      "120/120 [==============================] - 0s 622us/step\n"
     ]
    },
    {
     "name": "stderr",
     "output_type": "stream",
     "text": [
      "Generating ensemble training data: |██████    | 60%"
     ]
    },
    {
     "name": "stdout",
     "output_type": "stream",
     "text": [
      "Epoch 1/10\n",
      "212/212 [==============================] - 0s 850us/step - loss: 0.6911 - accuracy: 0.5279\n",
      "Epoch 2/10\n",
      "212/212 [==============================] - 0s 836us/step - loss: 0.6837 - accuracy: 0.5524\n",
      "Epoch 3/10\n",
      "212/212 [==============================] - 0s 847us/step - loss: 0.6794 - accuracy: 0.5562\n",
      "Epoch 4/10\n",
      "212/212 [==============================] - 0s 837us/step - loss: 0.6759 - accuracy: 0.5685\n",
      "Epoch 5/10\n",
      "212/212 [==============================] - 0s 846us/step - loss: 0.6729 - accuracy: 0.5694\n",
      "Epoch 6/10\n",
      "212/212 [==============================] - 0s 861us/step - loss: 0.6692 - accuracy: 0.5656\n",
      "Epoch 7/10\n",
      "212/212 [==============================] - 0s 840us/step - loss: 0.6674 - accuracy: 0.5652\n",
      "Epoch 8/10\n",
      "212/212 [==============================] - 0s 836us/step - loss: 0.6668 - accuracy: 0.5685\n",
      "Epoch 9/10\n",
      "212/212 [==============================] - 0s 835us/step - loss: 0.6641 - accuracy: 0.5737\n",
      "Epoch 10/10\n",
      "212/212 [==============================] - 0s 833us/step - loss: 0.6616 - accuracy: 0.5755\n",
      "30/30 [==============================] - 0s 664us/step\n",
      "120/120 [==============================] - 0s 643us/step\n"
     ]
    },
    {
     "name": "stderr",
     "output_type": "stream",
     "text": [
      "Generating ensemble training data: |████████  | 80%"
     ]
    },
    {
     "name": "stdout",
     "output_type": "stream",
     "text": [
      "Epoch 1/10\n",
      "212/212 [==============================] - 0s 853us/step - loss: 0.6894 - accuracy: 0.5288\n",
      "Epoch 2/10\n",
      "212/212 [==============================] - 0s 852us/step - loss: 0.6804 - accuracy: 0.5826\n",
      "Epoch 3/10\n",
      "212/212 [==============================] - 0s 856us/step - loss: 0.6739 - accuracy: 0.5765\n",
      "Epoch 4/10\n",
      "212/212 [==============================] - 0s 851us/step - loss: 0.6702 - accuracy: 0.5921\n",
      "Epoch 5/10\n",
      "212/212 [==============================] - 0s 837us/step - loss: 0.6685 - accuracy: 0.5930\n",
      "Epoch 6/10\n",
      "212/212 [==============================] - 0s 855us/step - loss: 0.6632 - accuracy: 0.5958\n",
      "Epoch 7/10\n",
      "212/212 [==============================] - 0s 847us/step - loss: 0.6603 - accuracy: 0.5954\n",
      "Epoch 8/10\n",
      "212/212 [==============================] - 0s 841us/step - loss: 0.6570 - accuracy: 0.6034\n",
      "Epoch 9/10\n",
      "212/212 [==============================] - 0s 831us/step - loss: 0.6546 - accuracy: 0.6058\n",
      "Epoch 10/10\n",
      "212/212 [==============================] - 0s 840us/step - loss: 0.6513 - accuracy: 0.6100\n",
      "30/30 [==============================] - 0s 665us/step\n",
      "120/120 [==============================] - 0s 636us/step\n"
     ]
    },
    {
     "name": "stderr",
     "output_type": "stream",
     "text": [
      "Generating ensemble training data: |██████████|100%\n",
      "Generating ensemble training data: |          |  0%"
     ]
    },
    {
     "name": "stdout",
     "output_type": "stream",
     "text": [
      "Epoch 1/10\n",
      "212/212 [==============================] - 1s 1ms/step - loss: 0.6871 - accuracy: 0.5496\n",
      "Epoch 2/10\n",
      "212/212 [==============================] - 0s 981us/step - loss: 0.6820 - accuracy: 0.5723\n",
      "Epoch 3/10\n",
      "212/212 [==============================] - 0s 973us/step - loss: 0.6762 - accuracy: 0.5827\n",
      "Epoch 4/10\n",
      "212/212 [==============================] - 0s 976us/step - loss: 0.6761 - accuracy: 0.5818\n",
      "Epoch 5/10\n",
      "212/212 [==============================] - 0s 974us/step - loss: 0.6719 - accuracy: 0.5827\n",
      "Epoch 6/10\n",
      "212/212 [==============================] - 0s 981us/step - loss: 0.6715 - accuracy: 0.5888\n",
      "Epoch 7/10\n",
      "212/212 [==============================] - 0s 994us/step - loss: 0.6740 - accuracy: 0.5784\n",
      "Epoch 8/10\n",
      "212/212 [==============================] - 0s 982us/step - loss: 0.6673 - accuracy: 0.5893\n",
      "Epoch 9/10\n",
      "212/212 [==============================] - 0s 976us/step - loss: 0.6651 - accuracy: 0.5931\n",
      "Epoch 10/10\n",
      "212/212 [==============================] - 0s 961us/step - loss: 0.6625 - accuracy: 0.6002\n",
      "30/30 [==============================] - 0s 713us/step\n",
      "120/120 [==============================] - 0s 663us/step\n"
     ]
    },
    {
     "name": "stderr",
     "output_type": "stream",
     "text": [
      "Generating ensemble training data: |██        | 20%"
     ]
    },
    {
     "name": "stdout",
     "output_type": "stream",
     "text": [
      "Epoch 1/10\n",
      "212/212 [==============================] - 0s 981us/step - loss: 0.6891 - accuracy: 0.5383\n",
      "Epoch 2/10\n",
      "212/212 [==============================] - 0s 985us/step - loss: 0.6841 - accuracy: 0.5548\n",
      "Epoch 3/10\n",
      "212/212 [==============================] - 0s 992us/step - loss: 0.6800 - accuracy: 0.5685\n",
      "Epoch 4/10\n",
      "212/212 [==============================] - 0s 983us/step - loss: 0.6795 - accuracy: 0.5827\n",
      "Epoch 5/10\n",
      "212/212 [==============================] - 0s 975us/step - loss: 0.6779 - accuracy: 0.5789\n",
      "Epoch 6/10\n",
      "212/212 [==============================] - 0s 972us/step - loss: 0.6752 - accuracy: 0.5766\n",
      "Epoch 7/10\n",
      "212/212 [==============================] - 0s 973us/step - loss: 0.6714 - accuracy: 0.5799\n",
      "Epoch 8/10\n",
      "212/212 [==============================] - 0s 985us/step - loss: 0.6762 - accuracy: 0.5737\n",
      "Epoch 9/10\n",
      "212/212 [==============================] - 0s 983us/step - loss: 0.6702 - accuracy: 0.5827\n",
      "Epoch 10/10\n",
      "212/212 [==============================] - 0s 1ms/step - loss: 0.6678 - accuracy: 0.5870\n",
      "30/30 [==============================] - 0s 674us/step\n",
      "120/120 [==============================] - 0s 662us/step\n"
     ]
    },
    {
     "name": "stderr",
     "output_type": "stream",
     "text": [
      "Generating ensemble training data: |████      | 40%"
     ]
    },
    {
     "name": "stdout",
     "output_type": "stream",
     "text": [
      "Epoch 1/10\n",
      "212/212 [==============================] - 0s 1ms/step - loss: 0.6888 - accuracy: 0.5421\n",
      "Epoch 2/10\n",
      "212/212 [==============================] - 0s 978us/step - loss: 0.6850 - accuracy: 0.5572\n",
      "Epoch 3/10\n",
      "212/212 [==============================] - 0s 967us/step - loss: 0.6806 - accuracy: 0.5737\n",
      "Epoch 4/10\n",
      "212/212 [==============================] - 0s 968us/step - loss: 0.6763 - accuracy: 0.5780\n",
      "Epoch 5/10\n",
      "212/212 [==============================] - 0s 951us/step - loss: 0.6771 - accuracy: 0.5652\n",
      "Epoch 6/10\n",
      "212/212 [==============================] - 0s 961us/step - loss: 0.6778 - accuracy: 0.5699\n",
      "Epoch 7/10\n",
      "212/212 [==============================] - 0s 958us/step - loss: 0.6735 - accuracy: 0.5794\n",
      "Epoch 8/10\n",
      "212/212 [==============================] - 0s 983us/step - loss: 0.6696 - accuracy: 0.5841\n",
      "Epoch 9/10\n",
      "212/212 [==============================] - 0s 974us/step - loss: 0.6717 - accuracy: 0.5803\n",
      "Epoch 10/10\n",
      "212/212 [==============================] - 0s 978us/step - loss: 0.6672 - accuracy: 0.5926\n",
      "30/30 [==============================] - 0s 686us/step\n",
      "120/120 [==============================] - 0s 655us/step\n"
     ]
    },
    {
     "name": "stderr",
     "output_type": "stream",
     "text": [
      "Generating ensemble training data: |██████    | 60%"
     ]
    },
    {
     "name": "stdout",
     "output_type": "stream",
     "text": [
      "Epoch 1/10\n",
      "212/212 [==============================] - 0s 994us/step - loss: 0.6936 - accuracy: 0.5260\n",
      "Epoch 2/10\n",
      "212/212 [==============================] - 0s 951us/step - loss: 0.6887 - accuracy: 0.5472\n",
      "Epoch 3/10\n",
      "212/212 [==============================] - 0s 977us/step - loss: 0.6812 - accuracy: 0.5524\n",
      "Epoch 4/10\n",
      "212/212 [==============================] - 0s 987us/step - loss: 0.6844 - accuracy: 0.5552\n",
      "Epoch 5/10\n",
      "212/212 [==============================] - 0s 1ms/step - loss: 0.6812 - accuracy: 0.5486\n",
      "Epoch 6/10\n",
      "212/212 [==============================] - 0s 1ms/step - loss: 0.6806 - accuracy: 0.5609\n",
      "Epoch 7/10\n",
      "212/212 [==============================] - 0s 1000us/step - loss: 0.6776 - accuracy: 0.5642\n",
      "Epoch 8/10\n",
      "212/212 [==============================] - 0s 980us/step - loss: 0.6733 - accuracy: 0.5628\n",
      "Epoch 9/10\n",
      "212/212 [==============================] - 0s 982us/step - loss: 0.6762 - accuracy: 0.5647\n",
      "Epoch 10/10\n",
      "212/212 [==============================] - 0s 995us/step - loss: 0.6729 - accuracy: 0.5760\n",
      "30/30 [==============================] - 0s 693us/step\n",
      "120/120 [==============================] - 0s 667us/step\n"
     ]
    },
    {
     "name": "stderr",
     "output_type": "stream",
     "text": [
      "Generating ensemble training data: |████████  | 80%"
     ]
    },
    {
     "name": "stdout",
     "output_type": "stream",
     "text": [
      "Epoch 1/10\n",
      "212/212 [==============================] - 0s 981us/step - loss: 0.6934 - accuracy: 0.5368\n",
      "Epoch 2/10\n",
      "212/212 [==============================] - 0s 989us/step - loss: 0.6844 - accuracy: 0.5727\n",
      "Epoch 3/10\n",
      "212/212 [==============================] - 0s 983us/step - loss: 0.6777 - accuracy: 0.5760\n",
      "Epoch 4/10\n",
      "212/212 [==============================] - 0s 979us/step - loss: 0.6760 - accuracy: 0.5822\n",
      "Epoch 5/10\n",
      "212/212 [==============================] - 0s 1ms/step - loss: 0.6740 - accuracy: 0.5812\n",
      "Epoch 6/10\n",
      "212/212 [==============================] - 0s 1ms/step - loss: 0.6747 - accuracy: 0.5812\n",
      "Epoch 7/10\n",
      "212/212 [==============================] - 0s 1ms/step - loss: 0.6698 - accuracy: 0.5817\n",
      "Epoch 8/10\n",
      "212/212 [==============================] - 0s 1ms/step - loss: 0.6671 - accuracy: 0.5793\n",
      "Epoch 9/10\n",
      "212/212 [==============================] - 0s 994us/step - loss: 0.6690 - accuracy: 0.5873\n",
      "Epoch 10/10\n",
      "212/212 [==============================] - 0s 985us/step - loss: 0.6648 - accuracy: 0.6006\n",
      "30/30 [==============================] - 0s 685us/step\n",
      "120/120 [==============================] - 0s 647us/step\n"
     ]
    },
    {
     "name": "stderr",
     "output_type": "stream",
     "text": [
      "Generating ensemble training data: |██████████|100%\n",
      "Generating ensemble training data: |          |  0%"
     ]
    },
    {
     "name": "stdout",
     "output_type": "stream",
     "text": [
      "Epoch 1/10\n",
      "212/212 [==============================] - 1s 951us/step - loss: 0.6869 - accuracy: 0.5591\n",
      "Epoch 2/10\n",
      "212/212 [==============================] - 0s 854us/step - loss: 0.6750 - accuracy: 0.5784\n",
      "Epoch 3/10\n",
      "212/212 [==============================] - 0s 861us/step - loss: 0.6690 - accuracy: 0.5841\n",
      "Epoch 4/10\n",
      "212/212 [==============================] - 0s 862us/step - loss: 0.6663 - accuracy: 0.5832\n",
      "Epoch 5/10\n",
      "212/212 [==============================] - 0s 855us/step - loss: 0.6642 - accuracy: 0.5888\n",
      "Epoch 6/10\n",
      "212/212 [==============================] - 0s 862us/step - loss: 0.6603 - accuracy: 0.5888\n",
      "Epoch 7/10\n",
      "212/212 [==============================] - 0s 861us/step - loss: 0.6573 - accuracy: 0.5983\n",
      "Epoch 8/10\n",
      "212/212 [==============================] - 0s 872us/step - loss: 0.6551 - accuracy: 0.6059\n",
      "Epoch 9/10\n",
      "212/212 [==============================] - 0s 873us/step - loss: 0.6536 - accuracy: 0.6030\n",
      "Epoch 10/10\n",
      "212/212 [==============================] - 0s 862us/step - loss: 0.6499 - accuracy: 0.5936\n",
      "30/30 [==============================] - 0s 675us/step\n",
      "120/120 [==============================] - 0s 627us/step\n"
     ]
    },
    {
     "name": "stderr",
     "output_type": "stream",
     "text": [
      "Generating ensemble training data: |██        | 20%"
     ]
    },
    {
     "name": "stdout",
     "output_type": "stream",
     "text": [
      "Epoch 1/10\n",
      "212/212 [==============================] - 0s 873us/step - loss: 0.6876 - accuracy: 0.5491\n",
      "Epoch 2/10\n",
      "212/212 [==============================] - 0s 876us/step - loss: 0.6781 - accuracy: 0.5751\n",
      "Epoch 3/10\n",
      "212/212 [==============================] - 0s 864us/step - loss: 0.6739 - accuracy: 0.5770\n",
      "Epoch 4/10\n",
      "212/212 [==============================] - 0s 868us/step - loss: 0.6715 - accuracy: 0.5813\n",
      "Epoch 5/10\n",
      "212/212 [==============================] - 0s 864us/step - loss: 0.6697 - accuracy: 0.5893\n",
      "Epoch 6/10\n",
      "212/212 [==============================] - 0s 859us/step - loss: 0.6685 - accuracy: 0.5860\n",
      "Epoch 7/10\n",
      "212/212 [==============================] - 0s 866us/step - loss: 0.6667 - accuracy: 0.5917\n",
      "Epoch 8/10\n",
      "212/212 [==============================] - 0s 868us/step - loss: 0.6640 - accuracy: 0.5922\n",
      "Epoch 9/10\n",
      "212/212 [==============================] - 0s 874us/step - loss: 0.6628 - accuracy: 0.5945\n",
      "Epoch 10/10\n",
      "212/212 [==============================] - 0s 870us/step - loss: 0.6603 - accuracy: 0.5969\n",
      "30/30 [==============================] - 0s 676us/step\n",
      "120/120 [==============================] - 0s 664us/step\n"
     ]
    },
    {
     "name": "stderr",
     "output_type": "stream",
     "text": [
      "Generating ensemble training data: |████      | 40%"
     ]
    },
    {
     "name": "stdout",
     "output_type": "stream",
     "text": [
      "Epoch 1/10\n",
      "212/212 [==============================] - 0s 883us/step - loss: 0.6868 - accuracy: 0.5449\n",
      "Epoch 2/10\n",
      "212/212 [==============================] - 0s 864us/step - loss: 0.6773 - accuracy: 0.5761\n",
      "Epoch 3/10\n",
      "212/212 [==============================] - 0s 859us/step - loss: 0.6718 - accuracy: 0.5803\n",
      "Epoch 4/10\n",
      "212/212 [==============================] - 0s 865us/step - loss: 0.6690 - accuracy: 0.5836\n",
      "Epoch 5/10\n",
      "212/212 [==============================] - 0s 845us/step - loss: 0.6654 - accuracy: 0.5874\n",
      "Epoch 6/10\n",
      "212/212 [==============================] - 0s 851us/step - loss: 0.6643 - accuracy: 0.5879\n",
      "Epoch 7/10\n",
      "212/212 [==============================] - 0s 851us/step - loss: 0.6601 - accuracy: 0.5926\n",
      "Epoch 8/10\n",
      "212/212 [==============================] - 0s 850us/step - loss: 0.6587 - accuracy: 0.5978\n",
      "Epoch 9/10\n",
      "212/212 [==============================] - 0s 854us/step - loss: 0.6557 - accuracy: 0.5950\n",
      "Epoch 10/10\n",
      "212/212 [==============================] - 0s 848us/step - loss: 0.6538 - accuracy: 0.5945\n",
      "30/30 [==============================] - 0s 671us/step\n",
      "120/120 [==============================] - 0s 617us/step\n"
     ]
    },
    {
     "name": "stderr",
     "output_type": "stream",
     "text": [
      "Generating ensemble training data: |██████    | 60%"
     ]
    },
    {
     "name": "stdout",
     "output_type": "stream",
     "text": [
      "Epoch 1/10\n",
      "212/212 [==============================] - 0s 866us/step - loss: 0.6896 - accuracy: 0.5373\n",
      "Epoch 2/10\n",
      "212/212 [==============================] - 0s 867us/step - loss: 0.6817 - accuracy: 0.5567\n",
      "Epoch 3/10\n",
      "212/212 [==============================] - 0s 863us/step - loss: 0.6784 - accuracy: 0.5703\n",
      "Epoch 4/10\n",
      "212/212 [==============================] - 0s 865us/step - loss: 0.6751 - accuracy: 0.5699\n",
      "Epoch 5/10\n",
      "212/212 [==============================] - 0s 873us/step - loss: 0.6733 - accuracy: 0.5770\n",
      "Epoch 6/10\n",
      "212/212 [==============================] - 0s 865us/step - loss: 0.6718 - accuracy: 0.5708\n",
      "Epoch 7/10\n",
      "212/212 [==============================] - 0s 874us/step - loss: 0.6683 - accuracy: 0.5751\n",
      "Epoch 8/10\n",
      "212/212 [==============================] - 0s 869us/step - loss: 0.6670 - accuracy: 0.5779\n",
      "Epoch 9/10\n",
      "212/212 [==============================] - 0s 870us/step - loss: 0.6653 - accuracy: 0.5713\n",
      "Epoch 10/10\n",
      "212/212 [==============================] - 0s 864us/step - loss: 0.6630 - accuracy: 0.5670\n",
      "30/30 [==============================] - 0s 651us/step\n",
      "120/120 [==============================] - 0s 636us/step\n"
     ]
    },
    {
     "name": "stderr",
     "output_type": "stream",
     "text": [
      "Generating ensemble training data: |████████  | 80%"
     ]
    },
    {
     "name": "stdout",
     "output_type": "stream",
     "text": [
      "Epoch 1/10\n",
      "212/212 [==============================] - 0s 862us/step - loss: 0.6893 - accuracy: 0.5543\n",
      "Epoch 2/10\n",
      "212/212 [==============================] - 0s 853us/step - loss: 0.6801 - accuracy: 0.5741\n",
      "Epoch 3/10\n",
      "212/212 [==============================] - 0s 856us/step - loss: 0.6756 - accuracy: 0.5878\n",
      "Epoch 4/10\n",
      "212/212 [==============================] - 0s 860us/step - loss: 0.6724 - accuracy: 0.5921\n",
      "Epoch 5/10\n",
      "212/212 [==============================] - 0s 864us/step - loss: 0.6702 - accuracy: 0.5954\n",
      "Epoch 6/10\n",
      "212/212 [==============================] - 0s 866us/step - loss: 0.6674 - accuracy: 0.5907\n",
      "Epoch 7/10\n",
      "212/212 [==============================] - 0s 862us/step - loss: 0.6637 - accuracy: 0.6006\n",
      "Epoch 8/10\n",
      "212/212 [==============================] - 0s 881us/step - loss: 0.6608 - accuracy: 0.5973\n",
      "Epoch 9/10\n",
      "212/212 [==============================] - 0s 874us/step - loss: 0.6580 - accuracy: 0.6062\n",
      "Epoch 10/10\n",
      "212/212 [==============================] - 0s 869us/step - loss: 0.6554 - accuracy: 0.6048\n",
      "30/30 [==============================] - 0s 666us/step\n",
      "120/120 [==============================] - 0s 644us/step\n"
     ]
    },
    {
     "name": "stderr",
     "output_type": "stream",
     "text": [
      "Generating ensemble training data: |██████████|100%\n",
      "Generating ensemble training data: |          |  0%"
     ]
    },
    {
     "name": "stdout",
     "output_type": "stream",
     "text": [
      "Epoch 1/10\n",
      "212/212 [==============================] - 1s 979us/step - loss: 0.6852 - accuracy: 0.5534\n",
      "Epoch 2/10\n",
      "212/212 [==============================] - 0s 925us/step - loss: 0.6736 - accuracy: 0.5884\n",
      "Epoch 3/10\n",
      "212/212 [==============================] - 0s 925us/step - loss: 0.6668 - accuracy: 0.5860\n",
      "Epoch 4/10\n",
      "212/212 [==============================] - 0s 909us/step - loss: 0.6608 - accuracy: 0.5912\n",
      "Epoch 5/10\n",
      "212/212 [==============================] - 0s 923us/step - loss: 0.6575 - accuracy: 0.6011\n",
      "Epoch 6/10\n",
      "212/212 [==============================] - 0s 903us/step - loss: 0.6514 - accuracy: 0.6054\n",
      "Epoch 7/10\n",
      "212/212 [==============================] - 0s 900us/step - loss: 0.6494 - accuracy: 0.6049\n",
      "Epoch 8/10\n",
      "212/212 [==============================] - 0s 913us/step - loss: 0.6445 - accuracy: 0.6082\n",
      "Epoch 9/10\n",
      "212/212 [==============================] - 0s 913us/step - loss: 0.6400 - accuracy: 0.6063\n",
      "Epoch 10/10\n",
      "212/212 [==============================] - 0s 916us/step - loss: 0.6368 - accuracy: 0.6068\n",
      "30/30 [==============================] - 0s 693us/step\n",
      "120/120 [==============================] - 0s 642us/step\n"
     ]
    },
    {
     "name": "stderr",
     "output_type": "stream",
     "text": [
      "Generating ensemble training data: |██        | 20%"
     ]
    },
    {
     "name": "stdout",
     "output_type": "stream",
     "text": [
      "Epoch 1/10\n",
      "212/212 [==============================] - 0s 916us/step - loss: 0.6883 - accuracy: 0.5506\n",
      "Epoch 2/10\n",
      "212/212 [==============================] - 0s 891us/step - loss: 0.6781 - accuracy: 0.5784\n",
      "Epoch 3/10\n",
      "212/212 [==============================] - 0s 888us/step - loss: 0.6727 - accuracy: 0.5879\n",
      "Epoch 4/10\n",
      "212/212 [==============================] - 0s 884us/step - loss: 0.6692 - accuracy: 0.5936\n",
      "Epoch 5/10\n",
      "212/212 [==============================] - 0s 896us/step - loss: 0.6656 - accuracy: 0.5888\n",
      "Epoch 6/10\n",
      "212/212 [==============================] - 0s 906us/step - loss: 0.6635 - accuracy: 0.5974\n",
      "Epoch 7/10\n",
      "212/212 [==============================] - 0s 917us/step - loss: 0.6601 - accuracy: 0.5983\n",
      "Epoch 8/10\n",
      "212/212 [==============================] - 0s 913us/step - loss: 0.6586 - accuracy: 0.5978\n",
      "Epoch 9/10\n",
      "212/212 [==============================] - 0s 886us/step - loss: 0.6556 - accuracy: 0.5893\n",
      "Epoch 10/10\n",
      "212/212 [==============================] - 0s 890us/step - loss: 0.6515 - accuracy: 0.6068\n",
      "30/30 [==============================] - 0s 674us/step\n",
      "120/120 [==============================] - 0s 643us/step\n"
     ]
    },
    {
     "name": "stderr",
     "output_type": "stream",
     "text": [
      "Generating ensemble training data: |████      | 40%"
     ]
    },
    {
     "name": "stdout",
     "output_type": "stream",
     "text": [
      "Epoch 1/10\n",
      "212/212 [==============================] - 0s 922us/step - loss: 0.6881 - accuracy: 0.5543\n",
      "Epoch 2/10\n",
      "212/212 [==============================] - 0s 915us/step - loss: 0.6766 - accuracy: 0.5770\n",
      "Epoch 3/10\n",
      "212/212 [==============================] - 0s 912us/step - loss: 0.6712 - accuracy: 0.5808\n",
      "Epoch 4/10\n",
      "212/212 [==============================] - 0s 910us/step - loss: 0.6700 - accuracy: 0.5761\n",
      "Epoch 5/10\n",
      "212/212 [==============================] - 0s 901us/step - loss: 0.6647 - accuracy: 0.5912\n",
      "Epoch 6/10\n",
      "212/212 [==============================] - 0s 904us/step - loss: 0.6602 - accuracy: 0.5950\n",
      "Epoch 7/10\n",
      "212/212 [==============================] - 0s 908us/step - loss: 0.6572 - accuracy: 0.5969\n",
      "Epoch 8/10\n",
      "212/212 [==============================] - 0s 903us/step - loss: 0.6538 - accuracy: 0.5955\n",
      "Epoch 9/10\n",
      "212/212 [==============================] - 0s 905us/step - loss: 0.6506 - accuracy: 0.6026\n",
      "Epoch 10/10\n",
      "212/212 [==============================] - 0s 907us/step - loss: 0.6491 - accuracy: 0.6040\n",
      "30/30 [==============================] - 0s 670us/step\n",
      "120/120 [==============================] - 0s 647us/step\n"
     ]
    },
    {
     "name": "stderr",
     "output_type": "stream",
     "text": [
      "Generating ensemble training data: |██████    | 60%"
     ]
    },
    {
     "name": "stdout",
     "output_type": "stream",
     "text": [
      "Epoch 1/10\n",
      "212/212 [==============================] - 0s 922us/step - loss: 0.6901 - accuracy: 0.5406\n",
      "Epoch 2/10\n",
      "212/212 [==============================] - 0s 916us/step - loss: 0.6831 - accuracy: 0.5552\n",
      "Epoch 3/10\n",
      "212/212 [==============================] - 0s 912us/step - loss: 0.6777 - accuracy: 0.5703\n",
      "Epoch 4/10\n",
      "212/212 [==============================] - 0s 899us/step - loss: 0.6740 - accuracy: 0.5661\n",
      "Epoch 5/10\n",
      "212/212 [==============================] - 0s 919us/step - loss: 0.6700 - accuracy: 0.5760\n",
      "Epoch 6/10\n",
      "212/212 [==============================] - 0s 916us/step - loss: 0.6669 - accuracy: 0.5637\n",
      "Epoch 7/10\n",
      "212/212 [==============================] - 0s 921us/step - loss: 0.6657 - accuracy: 0.5774\n",
      "Epoch 8/10\n",
      "212/212 [==============================] - 0s 917us/step - loss: 0.6610 - accuracy: 0.5774\n",
      "Epoch 9/10\n",
      "212/212 [==============================] - 0s 908us/step - loss: 0.6598 - accuracy: 0.5760\n",
      "Epoch 10/10\n",
      "212/212 [==============================] - 0s 917us/step - loss: 0.6564 - accuracy: 0.5878\n",
      "30/30 [==============================] - 0s 663us/step\n",
      "120/120 [==============================] - 0s 643us/step\n"
     ]
    },
    {
     "name": "stderr",
     "output_type": "stream",
     "text": [
      "Generating ensemble training data: |████████  | 80%"
     ]
    },
    {
     "name": "stdout",
     "output_type": "stream",
     "text": [
      "Epoch 1/10\n",
      "212/212 [==============================] - 0s 924us/step - loss: 0.6894 - accuracy: 0.5486\n",
      "Epoch 2/10\n",
      "212/212 [==============================] - 0s 902us/step - loss: 0.6781 - accuracy: 0.5831\n",
      "Epoch 3/10\n",
      "212/212 [==============================] - 0s 903us/step - loss: 0.6728 - accuracy: 0.5859\n",
      "Epoch 4/10\n",
      "212/212 [==============================] - 0s 918us/step - loss: 0.6683 - accuracy: 0.5864\n",
      "Epoch 5/10\n",
      "212/212 [==============================] - 0s 923us/step - loss: 0.6630 - accuracy: 0.5878\n",
      "Epoch 6/10\n",
      "212/212 [==============================] - 0s 920us/step - loss: 0.6595 - accuracy: 0.5992\n",
      "Epoch 7/10\n",
      "212/212 [==============================] - 0s 924us/step - loss: 0.6547 - accuracy: 0.6015\n",
      "Epoch 8/10\n",
      "212/212 [==============================] - 0s 924us/step - loss: 0.6504 - accuracy: 0.6086\n",
      "Epoch 9/10\n",
      "212/212 [==============================] - 0s 922us/step - loss: 0.6467 - accuracy: 0.6058\n",
      "Epoch 10/10\n",
      "212/212 [==============================] - 0s 917us/step - loss: 0.6430 - accuracy: 0.6166\n",
      "30/30 [==============================] - 0s 674us/step\n",
      "120/120 [==============================] - 0s 654us/step\n"
     ]
    },
    {
     "name": "stderr",
     "output_type": "stream",
     "text": [
      "Generating ensemble training data: |██████████|100%\n"
     ]
    },
    {
     "name": "stdout",
     "output_type": "stream",
     "text": [
      "\n",
      "\n"
     ]
    },
    {
     "name": "stderr",
     "output_type": "stream",
     "text": [
      "Analyzing ensembles: |██████████|100%\n"
     ]
    },
    {
     "name": "stdout",
     "output_type": "stream",
     "text": [
      "Training base predictors on admission...\n",
      "        \n",
      "... for ensemble performance analysis...\n"
     ]
    },
    {
     "name": "stderr",
     "output_type": "stream",
     "text": [
      "Generating ensemble training data: |██████████|100%\n",
      "Generating ensemble test data: |██████████|100%\n"
     ]
    },
    {
     "name": "stdout",
     "output_type": "stream",
     "text": [
      "\n",
      "\n",
      "Training base predictors on comorbidities...\n",
      "        \n",
      "... for ensemble performance analysis...\n"
     ]
    },
    {
     "name": "stderr",
     "output_type": "stream",
     "text": [
      "Generating ensemble training data: |          |  0%"
     ]
    },
    {
     "name": "stdout",
     "output_type": "stream",
     "text": [
      "Epoch 1/10\n",
      "212/212 [==============================] - 0s 857us/step - loss: 0.6877 - accuracy: 0.5506\n",
      "Epoch 2/10\n",
      "212/212 [==============================] - 0s 858us/step - loss: 0.6776 - accuracy: 0.5775\n",
      "Epoch 3/10\n",
      "212/212 [==============================] - 0s 856us/step - loss: 0.6717 - accuracy: 0.5874\n",
      "Epoch 4/10\n",
      "212/212 [==============================] - 0s 852us/step - loss: 0.6677 - accuracy: 0.5898\n",
      "Epoch 5/10\n",
      "212/212 [==============================] - 0s 857us/step - loss: 0.6636 - accuracy: 0.5874\n",
      "Epoch 6/10\n",
      "212/212 [==============================] - 0s 858us/step - loss: 0.6602 - accuracy: 0.5950\n",
      "Epoch 7/10\n",
      "212/212 [==============================] - 0s 852us/step - loss: 0.6581 - accuracy: 0.5945\n",
      "Epoch 8/10\n",
      "212/212 [==============================] - 0s 859us/step - loss: 0.6553 - accuracy: 0.5969\n",
      "Epoch 9/10\n",
      "212/212 [==============================] - 0s 849us/step - loss: 0.6524 - accuracy: 0.6035\n",
      "Epoch 10/10\n",
      "212/212 [==============================] - 0s 932us/step - loss: 0.6498 - accuracy: 0.6035\n",
      "30/30 [==============================] - 0s 656us/step\n",
      "120/120 [==============================] - 0s 616us/step\n"
     ]
    },
    {
     "name": "stderr",
     "output_type": "stream",
     "text": [
      "Generating ensemble training data: |██        | 20%"
     ]
    },
    {
     "name": "stdout",
     "output_type": "stream",
     "text": [
      "Epoch 1/10\n",
      "212/212 [==============================] - 0s 850us/step - loss: 0.6893 - accuracy: 0.5284\n",
      "Epoch 2/10\n",
      "212/212 [==============================] - 0s 833us/step - loss: 0.6811 - accuracy: 0.5666\n",
      "Epoch 3/10\n",
      "212/212 [==============================] - 0s 839us/step - loss: 0.6766 - accuracy: 0.5775\n",
      "Epoch 4/10\n",
      "212/212 [==============================] - 0s 834us/step - loss: 0.6732 - accuracy: 0.5803\n",
      "Epoch 5/10\n",
      "212/212 [==============================] - 0s 836us/step - loss: 0.6703 - accuracy: 0.5884\n",
      "Epoch 6/10\n",
      "212/212 [==============================] - 0s 832us/step - loss: 0.6677 - accuracy: 0.5912\n",
      "Epoch 7/10\n",
      "212/212 [==============================] - 0s 841us/step - loss: 0.6660 - accuracy: 0.5874\n",
      "Epoch 8/10\n",
      "212/212 [==============================] - 0s 837us/step - loss: 0.6642 - accuracy: 0.5940\n",
      "Epoch 9/10\n",
      "212/212 [==============================] - 0s 827us/step - loss: 0.6610 - accuracy: 0.5964\n",
      "Epoch 10/10\n",
      "212/212 [==============================] - 0s 827us/step - loss: 0.6592 - accuracy: 0.6021\n",
      "30/30 [==============================] - 0s 652us/step\n",
      "120/120 [==============================] - 0s 635us/step\n"
     ]
    },
    {
     "name": "stderr",
     "output_type": "stream",
     "text": [
      "Generating ensemble training data: |████      | 40%"
     ]
    },
    {
     "name": "stdout",
     "output_type": "stream",
     "text": [
      "Epoch 1/10\n",
      "212/212 [==============================] - 0s 851us/step - loss: 0.6867 - accuracy: 0.5411\n",
      "Epoch 2/10\n",
      "212/212 [==============================] - 0s 853us/step - loss: 0.6778 - accuracy: 0.5789\n",
      "Epoch 3/10\n",
      "212/212 [==============================] - 0s 850us/step - loss: 0.6727 - accuracy: 0.5855\n",
      "Epoch 4/10\n",
      "212/212 [==============================] - 0s 850us/step - loss: 0.6702 - accuracy: 0.5884\n",
      "Epoch 5/10\n",
      "212/212 [==============================] - 0s 846us/step - loss: 0.6663 - accuracy: 0.5922\n",
      "Epoch 6/10\n",
      "212/212 [==============================] - 0s 872us/step - loss: 0.6636 - accuracy: 0.5969\n",
      "Epoch 7/10\n",
      "212/212 [==============================] - 0s 838us/step - loss: 0.6609 - accuracy: 0.5950\n",
      "Epoch 8/10\n",
      "212/212 [==============================] - 0s 842us/step - loss: 0.6593 - accuracy: 0.5922\n",
      "Epoch 9/10\n",
      "212/212 [==============================] - 0s 862us/step - loss: 0.6566 - accuracy: 0.5945\n",
      "Epoch 10/10\n",
      "212/212 [==============================] - 0s 852us/step - loss: 0.6537 - accuracy: 0.6026\n",
      "30/30 [==============================] - 0s 649us/step\n",
      "120/120 [==============================] - 0s 616us/step\n"
     ]
    },
    {
     "name": "stderr",
     "output_type": "stream",
     "text": [
      "Generating ensemble training data: |██████    | 60%"
     ]
    },
    {
     "name": "stdout",
     "output_type": "stream",
     "text": [
      "Epoch 1/10\n",
      "212/212 [==============================] - 0s 810us/step - loss: 0.6909 - accuracy: 0.5307\n",
      "Epoch 2/10\n",
      "212/212 [==============================] - 0s 801us/step - loss: 0.6845 - accuracy: 0.5609\n",
      "Epoch 3/10\n",
      "212/212 [==============================] - 0s 799us/step - loss: 0.6805 - accuracy: 0.5675\n",
      "Epoch 4/10\n",
      "212/212 [==============================] - 0s 813us/step - loss: 0.6771 - accuracy: 0.5727\n",
      "Epoch 5/10\n",
      "212/212 [==============================] - 0s 812us/step - loss: 0.6730 - accuracy: 0.5765\n",
      "Epoch 6/10\n",
      "212/212 [==============================] - 0s 809us/step - loss: 0.6719 - accuracy: 0.5652\n",
      "Epoch 7/10\n",
      "212/212 [==============================] - 0s 817us/step - loss: 0.6690 - accuracy: 0.5755\n",
      "Epoch 8/10\n",
      "212/212 [==============================] - 0s 817us/step - loss: 0.6668 - accuracy: 0.5751\n",
      "Epoch 9/10\n",
      "212/212 [==============================] - 0s 817us/step - loss: 0.6634 - accuracy: 0.5855\n",
      "Epoch 10/10\n",
      "212/212 [==============================] - 0s 821us/step - loss: 0.6629 - accuracy: 0.5845\n",
      "30/30 [==============================] - 0s 642us/step\n",
      "120/120 [==============================] - 0s 616us/step\n"
     ]
    },
    {
     "name": "stderr",
     "output_type": "stream",
     "text": [
      "Generating ensemble training data: |████████  | 80%"
     ]
    },
    {
     "name": "stdout",
     "output_type": "stream",
     "text": [
      "Epoch 1/10\n",
      "212/212 [==============================] - 0s 828us/step - loss: 0.6895 - accuracy: 0.5505\n",
      "Epoch 2/10\n",
      "212/212 [==============================] - 0s 799us/step - loss: 0.6807 - accuracy: 0.5812\n",
      "Epoch 3/10\n",
      "212/212 [==============================] - 0s 791us/step - loss: 0.6739 - accuracy: 0.5883\n",
      "Epoch 4/10\n",
      "212/212 [==============================] - 0s 818us/step - loss: 0.6701 - accuracy: 0.5897\n",
      "Epoch 5/10\n",
      "212/212 [==============================] - 0s 821us/step - loss: 0.6666 - accuracy: 0.5892\n",
      "Epoch 6/10\n",
      "212/212 [==============================] - 0s 811us/step - loss: 0.6640 - accuracy: 0.5944\n",
      "Epoch 7/10\n",
      "212/212 [==============================] - 0s 812us/step - loss: 0.6601 - accuracy: 0.5944\n",
      "Epoch 8/10\n",
      "212/212 [==============================] - 0s 823us/step - loss: 0.6581 - accuracy: 0.5963\n",
      "Epoch 9/10\n",
      "212/212 [==============================] - 0s 827us/step - loss: 0.6532 - accuracy: 0.6039\n",
      "Epoch 10/10\n",
      "212/212 [==============================] - 0s 837us/step - loss: 0.6504 - accuracy: 0.6086\n",
      "30/30 [==============================] - 0s 655us/step\n",
      "120/120 [==============================] - 0s 623us/step\n"
     ]
    },
    {
     "name": "stderr",
     "output_type": "stream",
     "text": [
      "Generating ensemble training data: |██████████|100%\n",
      "Generating ensemble training data: |          |  0%"
     ]
    },
    {
     "name": "stdout",
     "output_type": "stream",
     "text": [
      "Epoch 1/10\n",
      "212/212 [==============================] - 0s 976us/step - loss: 0.6884 - accuracy: 0.5435\n",
      "Epoch 2/10\n",
      "212/212 [==============================] - 0s 957us/step - loss: 0.6811 - accuracy: 0.5685\n",
      "Epoch 3/10\n",
      "212/212 [==============================] - 0s 949us/step - loss: 0.6778 - accuracy: 0.5704\n",
      "Epoch 4/10\n",
      "212/212 [==============================] - 0s 955us/step - loss: 0.6766 - accuracy: 0.5695\n",
      "Epoch 5/10\n",
      "212/212 [==============================] - 0s 937us/step - loss: 0.6698 - accuracy: 0.5879\n",
      "Epoch 6/10\n",
      "212/212 [==============================] - 0s 955us/step - loss: 0.6714 - accuracy: 0.5770\n",
      "Epoch 7/10\n",
      "212/212 [==============================] - 0s 956us/step - loss: 0.6667 - accuracy: 0.5874\n",
      "Epoch 8/10\n",
      "212/212 [==============================] - 0s 945us/step - loss: 0.6684 - accuracy: 0.5922\n",
      "Epoch 9/10\n",
      "212/212 [==============================] - 0s 961us/step - loss: 0.6669 - accuracy: 0.5959\n",
      "Epoch 10/10\n",
      "212/212 [==============================] - 0s 967us/step - loss: 0.6642 - accuracy: 0.5936\n",
      "30/30 [==============================] - 0s 682us/step\n",
      "120/120 [==============================] - 0s 643us/step\n"
     ]
    },
    {
     "name": "stderr",
     "output_type": "stream",
     "text": [
      "Generating ensemble training data: |██        | 20%"
     ]
    },
    {
     "name": "stdout",
     "output_type": "stream",
     "text": [
      "Epoch 1/10\n",
      "212/212 [==============================] - 0s 978us/step - loss: 0.6895 - accuracy: 0.5482\n",
      "Epoch 2/10\n",
      "212/212 [==============================] - 0s 952us/step - loss: 0.6837 - accuracy: 0.5633\n",
      "Epoch 3/10\n",
      "212/212 [==============================] - 0s 947us/step - loss: 0.6803 - accuracy: 0.5770\n",
      "Epoch 4/10\n",
      "212/212 [==============================] - 0s 948us/step - loss: 0.6769 - accuracy: 0.5860\n",
      "Epoch 5/10\n",
      "212/212 [==============================] - 0s 953us/step - loss: 0.6751 - accuracy: 0.5855\n",
      "Epoch 6/10\n",
      "212/212 [==============================] - 0s 942us/step - loss: 0.6716 - accuracy: 0.5851\n",
      "Epoch 7/10\n",
      "212/212 [==============================] - 0s 944us/step - loss: 0.6703 - accuracy: 0.5950\n",
      "Epoch 8/10\n",
      "212/212 [==============================] - 0s 954us/step - loss: 0.6729 - accuracy: 0.5789\n",
      "Epoch 9/10\n",
      "212/212 [==============================] - 0s 960us/step - loss: 0.6680 - accuracy: 0.5860\n",
      "Epoch 10/10\n",
      "212/212 [==============================] - 0s 956us/step - loss: 0.6682 - accuracy: 0.5884\n",
      "30/30 [==============================] - 0s 664us/step\n",
      "120/120 [==============================] - 0s 638us/step\n"
     ]
    },
    {
     "name": "stderr",
     "output_type": "stream",
     "text": [
      "Generating ensemble training data: |████      | 40%"
     ]
    },
    {
     "name": "stdout",
     "output_type": "stream",
     "text": [
      "Epoch 1/10\n",
      "212/212 [==============================] - 0s 948us/step - loss: 0.6896 - accuracy: 0.5198\n",
      "Epoch 2/10\n",
      "212/212 [==============================] - 0s 959us/step - loss: 0.6868 - accuracy: 0.5473\n",
      "Epoch 3/10\n",
      "212/212 [==============================] - 0s 954us/step - loss: 0.6801 - accuracy: 0.5591\n",
      "Epoch 4/10\n",
      "212/212 [==============================] - 0s 946us/step - loss: 0.6789 - accuracy: 0.5742\n",
      "Epoch 5/10\n",
      "212/212 [==============================] - 0s 948us/step - loss: 0.6762 - accuracy: 0.5780\n",
      "Epoch 6/10\n",
      "212/212 [==============================] - 0s 948us/step - loss: 0.6752 - accuracy: 0.5784\n",
      "Epoch 7/10\n",
      "212/212 [==============================] - 0s 950us/step - loss: 0.6680 - accuracy: 0.5855\n",
      "Epoch 8/10\n",
      "212/212 [==============================] - 0s 952us/step - loss: 0.6672 - accuracy: 0.5808\n",
      "Epoch 9/10\n",
      "212/212 [==============================] - 0s 949us/step - loss: 0.6605 - accuracy: 0.5888\n",
      "Epoch 10/10\n",
      "212/212 [==============================] - 0s 941us/step - loss: 0.6665 - accuracy: 0.5860\n",
      "30/30 [==============================] - 0s 659us/step\n",
      "120/120 [==============================] - 0s 640us/step\n"
     ]
    },
    {
     "name": "stderr",
     "output_type": "stream",
     "text": [
      "Generating ensemble training data: |██████    | 60%"
     ]
    },
    {
     "name": "stdout",
     "output_type": "stream",
     "text": [
      "Epoch 1/10\n",
      "212/212 [==============================] - 0s 937us/step - loss: 0.6919 - accuracy: 0.5222\n",
      "Epoch 2/10\n",
      "212/212 [==============================] - 0s 930us/step - loss: 0.6895 - accuracy: 0.5472\n",
      "Epoch 3/10\n",
      "212/212 [==============================] - 0s 927us/step - loss: 0.6871 - accuracy: 0.5515\n",
      "Epoch 4/10\n",
      "212/212 [==============================] - 0s 927us/step - loss: 0.6825 - accuracy: 0.5656\n",
      "Epoch 5/10\n",
      "212/212 [==============================] - 0s 942us/step - loss: 0.6855 - accuracy: 0.5595\n",
      "Epoch 6/10\n",
      "212/212 [==============================] - 0s 937us/step - loss: 0.6800 - accuracy: 0.5642\n",
      "Epoch 7/10\n",
      "212/212 [==============================] - 0s 944us/step - loss: 0.6751 - accuracy: 0.5647\n",
      "Epoch 8/10\n",
      "212/212 [==============================] - 0s 985us/step - loss: 0.6784 - accuracy: 0.5534\n",
      "Epoch 9/10\n",
      "212/212 [==============================] - 0s 929us/step - loss: 0.6745 - accuracy: 0.5604\n",
      "Epoch 10/10\n",
      "212/212 [==============================] - 0s 939us/step - loss: 0.6753 - accuracy: 0.5647\n",
      "30/30 [==============================] - 0s 679us/step\n",
      "120/120 [==============================] - 0s 627us/step\n"
     ]
    },
    {
     "name": "stderr",
     "output_type": "stream",
     "text": [
      "Generating ensemble training data: |████████  | 80%"
     ]
    },
    {
     "name": "stdout",
     "output_type": "stream",
     "text": [
      "Epoch 1/10\n",
      "212/212 [==============================] - 0s 973us/step - loss: 0.6909 - accuracy: 0.5453\n",
      "Epoch 2/10\n",
      "212/212 [==============================] - 0s 955us/step - loss: 0.6860 - accuracy: 0.5619\n",
      "Epoch 3/10\n",
      "212/212 [==============================] - 0s 950us/step - loss: 0.6846 - accuracy: 0.5628\n",
      "Epoch 4/10\n",
      "212/212 [==============================] - 0s 968us/step - loss: 0.6798 - accuracy: 0.5770\n",
      "Epoch 5/10\n",
      "212/212 [==============================] - 0s 992us/step - loss: 0.6755 - accuracy: 0.5793\n",
      "Epoch 6/10\n",
      "212/212 [==============================] - 0s 979us/step - loss: 0.6740 - accuracy: 0.5741\n",
      "Epoch 7/10\n",
      "212/212 [==============================] - 0s 942us/step - loss: 0.6703 - accuracy: 0.5836\n",
      "Epoch 8/10\n",
      "212/212 [==============================] - 0s 947us/step - loss: 0.6713 - accuracy: 0.5869\n",
      "Epoch 9/10\n",
      "212/212 [==============================] - 0s 949us/step - loss: 0.6663 - accuracy: 0.5864\n",
      "Epoch 10/10\n",
      "212/212 [==============================] - 0s 952us/step - loss: 0.6686 - accuracy: 0.5822\n",
      "30/30 [==============================] - 0s 657us/step\n",
      "120/120 [==============================] - 0s 640us/step\n"
     ]
    },
    {
     "name": "stderr",
     "output_type": "stream",
     "text": [
      "Generating ensemble training data: |██████████|100%\n",
      "Generating ensemble training data: |          |  0%"
     ]
    },
    {
     "name": "stdout",
     "output_type": "stream",
     "text": [
      "Epoch 1/10\n",
      "212/212 [==============================] - 0s 904us/step - loss: 0.6870 - accuracy: 0.5577\n",
      "Epoch 2/10\n",
      "212/212 [==============================] - 0s 892us/step - loss: 0.6759 - accuracy: 0.5803\n",
      "Epoch 3/10\n",
      "212/212 [==============================] - 0s 894us/step - loss: 0.6711 - accuracy: 0.5855\n",
      "Epoch 4/10\n",
      "212/212 [==============================] - 0s 902us/step - loss: 0.6670 - accuracy: 0.5912\n",
      "Epoch 5/10\n",
      "212/212 [==============================] - 0s 888us/step - loss: 0.6648 - accuracy: 0.5969\n",
      "Epoch 6/10\n",
      "212/212 [==============================] - 0s 898us/step - loss: 0.6625 - accuracy: 0.5974\n",
      "Epoch 7/10\n",
      "212/212 [==============================] - 0s 907us/step - loss: 0.6585 - accuracy: 0.6016\n",
      "Epoch 8/10\n",
      "212/212 [==============================] - 0s 882us/step - loss: 0.6569 - accuracy: 0.5926\n",
      "Epoch 9/10\n",
      "212/212 [==============================] - 0s 885us/step - loss: 0.6544 - accuracy: 0.6021\n",
      "Epoch 10/10\n",
      "212/212 [==============================] - 0s 892us/step - loss: 0.6517 - accuracy: 0.6030\n",
      "30/30 [==============================] - 0s 696us/step\n",
      "120/120 [==============================] - 0s 645us/step\n"
     ]
    },
    {
     "name": "stderr",
     "output_type": "stream",
     "text": [
      "Generating ensemble training data: |██        | 20%"
     ]
    },
    {
     "name": "stdout",
     "output_type": "stream",
     "text": [
      "Epoch 1/10\n",
      "212/212 [==============================] - 0s 910us/step - loss: 0.6881 - accuracy: 0.5543\n",
      "Epoch 2/10\n",
      "212/212 [==============================] - 0s 1ms/step - loss: 0.6785 - accuracy: 0.5747\n",
      "Epoch 3/10\n",
      "212/212 [==============================] - 0s 903us/step - loss: 0.6735 - accuracy: 0.5832\n",
      "Epoch 4/10\n",
      "212/212 [==============================] - 0s 894us/step - loss: 0.6716 - accuracy: 0.5794\n",
      "Epoch 5/10\n",
      "212/212 [==============================] - 0s 903us/step - loss: 0.6696 - accuracy: 0.5832\n",
      "Epoch 6/10\n",
      "212/212 [==============================] - 0s 900us/step - loss: 0.6674 - accuracy: 0.5926\n",
      "Epoch 7/10\n",
      "212/212 [==============================] - 0s 898us/step - loss: 0.6649 - accuracy: 0.5917\n",
      "Epoch 8/10\n",
      "212/212 [==============================] - 0s 901us/step - loss: 0.6628 - accuracy: 0.5969\n",
      "Epoch 9/10\n",
      "212/212 [==============================] - 0s 900us/step - loss: 0.6628 - accuracy: 0.5865\n",
      "Epoch 10/10\n",
      "212/212 [==============================] - 0s 897us/step - loss: 0.6603 - accuracy: 0.5931\n",
      "30/30 [==============================] - 0s 668us/step\n",
      "120/120 [==============================] - 0s 652us/step\n"
     ]
    },
    {
     "name": "stderr",
     "output_type": "stream",
     "text": [
      "Generating ensemble training data: |████      | 40%"
     ]
    },
    {
     "name": "stdout",
     "output_type": "stream",
     "text": [
      "Epoch 1/10\n",
      "212/212 [==============================] - 0s 903us/step - loss: 0.6864 - accuracy: 0.5562\n",
      "Epoch 2/10\n",
      "212/212 [==============================] - 0s 882us/step - loss: 0.6770 - accuracy: 0.5751\n",
      "Epoch 3/10\n",
      "212/212 [==============================] - 0s 897us/step - loss: 0.6716 - accuracy: 0.5865\n",
      "Epoch 4/10\n",
      "212/212 [==============================] - 0s 885us/step - loss: 0.6695 - accuracy: 0.5803\n",
      "Epoch 5/10\n",
      "212/212 [==============================] - 0s 886us/step - loss: 0.6655 - accuracy: 0.5855\n",
      "Epoch 6/10\n",
      "212/212 [==============================] - 0s 898us/step - loss: 0.6631 - accuracy: 0.5879\n",
      "Epoch 7/10\n",
      "212/212 [==============================] - 0s 948us/step - loss: 0.6602 - accuracy: 0.5931\n",
      "Epoch 8/10\n",
      "212/212 [==============================] - 0s 895us/step - loss: 0.6582 - accuracy: 0.5964\n",
      "Epoch 9/10\n",
      "212/212 [==============================] - 0s 887us/step - loss: 0.6570 - accuracy: 0.5969\n",
      "Epoch 10/10\n",
      "212/212 [==============================] - 0s 844us/step - loss: 0.6535 - accuracy: 0.6002\n",
      "30/30 [==============================] - 0s 636us/step\n",
      "120/120 [==============================] - 0s 614us/step\n"
     ]
    },
    {
     "name": "stderr",
     "output_type": "stream",
     "text": [
      "Generating ensemble training data: |██████    | 60%"
     ]
    },
    {
     "name": "stdout",
     "output_type": "stream",
     "text": [
      "Epoch 1/10\n",
      "212/212 [==============================] - 0s 863us/step - loss: 0.6900 - accuracy: 0.5293\n",
      "Epoch 2/10\n",
      "212/212 [==============================] - 0s 862us/step - loss: 0.6818 - accuracy: 0.5604\n",
      "Epoch 3/10\n",
      "212/212 [==============================] - 0s 852us/step - loss: 0.6783 - accuracy: 0.5633\n",
      "Epoch 4/10\n",
      "212/212 [==============================] - 0s 854us/step - loss: 0.6762 - accuracy: 0.5694\n",
      "Epoch 5/10\n",
      "212/212 [==============================] - 0s 854us/step - loss: 0.6727 - accuracy: 0.5713\n",
      "Epoch 6/10\n",
      "212/212 [==============================] - 0s 856us/step - loss: 0.6716 - accuracy: 0.5699\n",
      "Epoch 7/10\n",
      "212/212 [==============================] - 0s 856us/step - loss: 0.6693 - accuracy: 0.5826\n",
      "Epoch 8/10\n",
      "212/212 [==============================] - 0s 863us/step - loss: 0.6679 - accuracy: 0.5722\n",
      "Epoch 9/10\n",
      "212/212 [==============================] - 0s 861us/step - loss: 0.6648 - accuracy: 0.5807\n",
      "Epoch 10/10\n",
      "212/212 [==============================] - 0s 829us/step - loss: 0.6634 - accuracy: 0.5722\n",
      "30/30 [==============================] - 0s 636us/step\n",
      "120/120 [==============================] - 0s 625us/step\n"
     ]
    },
    {
     "name": "stderr",
     "output_type": "stream",
     "text": [
      "Generating ensemble training data: |████████  | 80%"
     ]
    },
    {
     "name": "stdout",
     "output_type": "stream",
     "text": [
      "Epoch 1/10\n",
      "212/212 [==============================] - 0s 870us/step - loss: 0.6884 - accuracy: 0.5680\n",
      "Epoch 2/10\n",
      "212/212 [==============================] - 0s 891us/step - loss: 0.6781 - accuracy: 0.5831\n",
      "Epoch 3/10\n",
      "212/212 [==============================] - 0s 885us/step - loss: 0.6752 - accuracy: 0.5850\n",
      "Epoch 4/10\n",
      "212/212 [==============================] - 0s 875us/step - loss: 0.6710 - accuracy: 0.5921\n",
      "Epoch 5/10\n",
      "212/212 [==============================] - 0s 875us/step - loss: 0.6679 - accuracy: 0.5944\n",
      "Epoch 6/10\n",
      "212/212 [==============================] - 0s 876us/step - loss: 0.6650 - accuracy: 0.5977\n",
      "Epoch 7/10\n",
      "212/212 [==============================] - 0s 878us/step - loss: 0.6623 - accuracy: 0.5921\n",
      "Epoch 8/10\n",
      "212/212 [==============================] - 0s 881us/step - loss: 0.6582 - accuracy: 0.5977\n",
      "Epoch 9/10\n",
      "212/212 [==============================] - 0s 874us/step - loss: 0.6544 - accuracy: 0.6067\n",
      "Epoch 10/10\n",
      "212/212 [==============================] - 0s 881us/step - loss: 0.6522 - accuracy: 0.6086\n",
      "30/30 [==============================] - 0s 645us/step\n",
      "120/120 [==============================] - 0s 628us/step\n"
     ]
    },
    {
     "name": "stderr",
     "output_type": "stream",
     "text": [
      "Generating ensemble training data: |██████████|100%\n",
      "Generating ensemble training data: |          |  0%"
     ]
    },
    {
     "name": "stdout",
     "output_type": "stream",
     "text": [
      "Epoch 1/10\n",
      "212/212 [==============================] - 0s 924us/step - loss: 0.6860 - accuracy: 0.5600\n",
      "Epoch 2/10\n",
      "212/212 [==============================] - 0s 928us/step - loss: 0.6751 - accuracy: 0.5860\n",
      "Epoch 3/10\n",
      "212/212 [==============================] - 0s 920us/step - loss: 0.6699 - accuracy: 0.5879\n",
      "Epoch 4/10\n",
      "212/212 [==============================] - 0s 919us/step - loss: 0.6639 - accuracy: 0.5940\n",
      "Epoch 5/10\n",
      "212/212 [==============================] - 0s 921us/step - loss: 0.6594 - accuracy: 0.5945\n",
      "Epoch 6/10\n",
      "212/212 [==============================] - 0s 903us/step - loss: 0.6566 - accuracy: 0.6011\n",
      "Epoch 7/10\n",
      "212/212 [==============================] - 0s 899us/step - loss: 0.6510 - accuracy: 0.6021\n",
      "Epoch 8/10\n",
      "212/212 [==============================] - 0s 893us/step - loss: 0.6500 - accuracy: 0.6063\n",
      "Epoch 9/10\n",
      "212/212 [==============================] - 0s 887us/step - loss: 0.6458 - accuracy: 0.6087\n",
      "Epoch 10/10\n",
      "212/212 [==============================] - 0s 904us/step - loss: 0.6437 - accuracy: 0.6125\n",
      "30/30 [==============================] - 0s 642us/step\n",
      "120/120 [==============================] - 0s 615us/step\n"
     ]
    },
    {
     "name": "stderr",
     "output_type": "stream",
     "text": [
      "Generating ensemble training data: |██        | 20%"
     ]
    },
    {
     "name": "stdout",
     "output_type": "stream",
     "text": [
      "Epoch 1/10\n",
      "212/212 [==============================] - 0s 924us/step - loss: 0.6891 - accuracy: 0.5440\n",
      "Epoch 2/10\n",
      "212/212 [==============================] - 0s 917us/step - loss: 0.6790 - accuracy: 0.5799\n",
      "Epoch 3/10\n",
      "212/212 [==============================] - 0s 911us/step - loss: 0.6736 - accuracy: 0.5851\n",
      "Epoch 4/10\n",
      "212/212 [==============================] - 0s 905us/step - loss: 0.6694 - accuracy: 0.5907\n",
      "Epoch 5/10\n",
      "212/212 [==============================] - 0s 909us/step - loss: 0.6680 - accuracy: 0.5841\n",
      "Epoch 6/10\n",
      "212/212 [==============================] - 0s 907us/step - loss: 0.6645 - accuracy: 0.5912\n",
      "Epoch 7/10\n",
      "212/212 [==============================] - 0s 892us/step - loss: 0.6600 - accuracy: 0.5964\n",
      "Epoch 8/10\n",
      "212/212 [==============================] - 0s 888us/step - loss: 0.6571 - accuracy: 0.6007\n",
      "Epoch 9/10\n",
      "212/212 [==============================] - 0s 909us/step - loss: 0.6539 - accuracy: 0.6044\n",
      "Epoch 10/10\n",
      "212/212 [==============================] - 0s 916us/step - loss: 0.6503 - accuracy: 0.6040\n",
      "30/30 [==============================] - 0s 676us/step\n",
      "120/120 [==============================] - 0s 614us/step\n"
     ]
    },
    {
     "name": "stderr",
     "output_type": "stream",
     "text": [
      "Generating ensemble training data: |████      | 40%"
     ]
    },
    {
     "name": "stdout",
     "output_type": "stream",
     "text": [
      "Epoch 1/10\n",
      "212/212 [==============================] - 0s 929us/step - loss: 0.6887 - accuracy: 0.5487\n",
      "Epoch 2/10\n",
      "212/212 [==============================] - 0s 916us/step - loss: 0.6796 - accuracy: 0.5690\n",
      "Epoch 3/10\n",
      "212/212 [==============================] - 0s 904us/step - loss: 0.6735 - accuracy: 0.5784\n",
      "Epoch 4/10\n",
      "212/212 [==============================] - 0s 913us/step - loss: 0.6709 - accuracy: 0.5747\n",
      "Epoch 5/10\n",
      "212/212 [==============================] - 0s 910us/step - loss: 0.6648 - accuracy: 0.5936\n",
      "Epoch 6/10\n",
      "212/212 [==============================] - 0s 897us/step - loss: 0.6611 - accuracy: 0.6016\n",
      "Epoch 7/10\n",
      "212/212 [==============================] - 0s 908us/step - loss: 0.6583 - accuracy: 0.6002\n",
      "Epoch 8/10\n",
      "212/212 [==============================] - 0s 921us/step - loss: 0.6556 - accuracy: 0.6021\n",
      "Epoch 9/10\n",
      "212/212 [==============================] - 0s 915us/step - loss: 0.6527 - accuracy: 0.5978\n",
      "Epoch 10/10\n",
      "212/212 [==============================] - 0s 910us/step - loss: 0.6461 - accuracy: 0.6101\n",
      "30/30 [==============================] - 0s 674us/step\n",
      "120/120 [==============================] - 0s 612us/step\n"
     ]
    },
    {
     "name": "stderr",
     "output_type": "stream",
     "text": [
      "Generating ensemble training data: |██████    | 60%"
     ]
    },
    {
     "name": "stdout",
     "output_type": "stream",
     "text": [
      "Epoch 1/10\n",
      "212/212 [==============================] - 0s 912us/step - loss: 0.6903 - accuracy: 0.5425\n",
      "Epoch 2/10\n",
      "212/212 [==============================] - 0s 910us/step - loss: 0.6816 - accuracy: 0.5524\n",
      "Epoch 3/10\n",
      "212/212 [==============================] - 0s 1ms/step - loss: 0.6764 - accuracy: 0.5694\n",
      "Epoch 4/10\n",
      "212/212 [==============================] - 0s 924us/step - loss: 0.6713 - accuracy: 0.5619\n",
      "Epoch 5/10\n",
      "212/212 [==============================] - 0s 925us/step - loss: 0.6675 - accuracy: 0.5793\n",
      "Epoch 6/10\n",
      "212/212 [==============================] - 0s 926us/step - loss: 0.6671 - accuracy: 0.5713\n",
      "Epoch 7/10\n",
      "212/212 [==============================] - 0s 924us/step - loss: 0.6643 - accuracy: 0.5737\n",
      "Epoch 8/10\n",
      "212/212 [==============================] - 0s 926us/step - loss: 0.6586 - accuracy: 0.5845\n",
      "Epoch 9/10\n",
      "212/212 [==============================] - 0s 910us/step - loss: 0.6582 - accuracy: 0.5807\n",
      "Epoch 10/10\n",
      "212/212 [==============================] - 0s 900us/step - loss: 0.6551 - accuracy: 0.5883\n",
      "30/30 [==============================] - 0s 644us/step\n",
      "120/120 [==============================] - 0s 621us/step\n"
     ]
    },
    {
     "name": "stderr",
     "output_type": "stream",
     "text": [
      "Generating ensemble training data: |████████  | 80%"
     ]
    },
    {
     "name": "stdout",
     "output_type": "stream",
     "text": [
      "Epoch 1/10\n",
      "212/212 [==============================] - 0s 921us/step - loss: 0.6870 - accuracy: 0.5628\n",
      "Epoch 2/10\n",
      "212/212 [==============================] - 0s 901us/step - loss: 0.6778 - accuracy: 0.5817\n",
      "Epoch 3/10\n",
      "212/212 [==============================] - 0s 880us/step - loss: 0.6721 - accuracy: 0.5840\n",
      "Epoch 4/10\n",
      "212/212 [==============================] - 0s 891us/step - loss: 0.6684 - accuracy: 0.5907\n",
      "Epoch 5/10\n",
      "212/212 [==============================] - 0s 893us/step - loss: 0.6646 - accuracy: 0.5822\n",
      "Epoch 6/10\n",
      "212/212 [==============================] - 0s 893us/step - loss: 0.6598 - accuracy: 0.5963\n",
      "Epoch 7/10\n",
      "212/212 [==============================] - 0s 898us/step - loss: 0.6571 - accuracy: 0.6001\n",
      "Epoch 8/10\n",
      "212/212 [==============================] - 0s 896us/step - loss: 0.6513 - accuracy: 0.6091\n",
      "Epoch 9/10\n",
      "212/212 [==============================] - 0s 898us/step - loss: 0.6476 - accuracy: 0.6119\n",
      "Epoch 10/10\n",
      "212/212 [==============================] - 0s 911us/step - loss: 0.6437 - accuracy: 0.6114\n",
      "30/30 [==============================] - 0s 659us/step\n",
      "120/120 [==============================] - 0s 627us/step\n"
     ]
    },
    {
     "name": "stderr",
     "output_type": "stream",
     "text": [
      "Generating ensemble training data: |██████████|100%\n"
     ]
    },
    {
     "name": "stdout",
     "output_type": "stream",
     "text": [
      "\n",
      "\n",
      "Training base predictors on labs...\n",
      "        \n",
      "... for ensemble performance analysis...\n"
     ]
    },
    {
     "name": "stderr",
     "output_type": "stream",
     "text": [
      "Generating ensemble training data: |██████████|100%\n",
      "Generating ensemble test data: |██████████|100%\n"
     ]
    },
    {
     "name": "stdout",
     "output_type": "stream",
     "text": [
      "\n",
      "\n",
      "Training base predictors on vitals...\n",
      "        \n",
      "... for ensemble performance analysis...\n"
     ]
    },
    {
     "name": "stderr",
     "output_type": "stream",
     "text": [
      "Generating ensemble training data: |██████████|100%\n",
      "Generating ensemble test data: |██████████|100%\n"
     ]
    },
    {
     "name": "stdout",
     "output_type": "stream",
     "text": [
      "\n",
      "\n"
     ]
    },
    {
     "name": "stderr",
     "output_type": "stream",
     "text": [
      "Analyzing ensembles: |██████████|100%\n"
     ]
    },
    {
     "name": "stdout",
     "output_type": "stream",
     "text": [
      "DONE WITH MODALITY comorbidities YAYYYY!!!!\n",
      "Training base predictors on labs...\n",
      "        \n",
      "... for ensemble performance analysis...\n"
     ]
    },
    {
     "name": "stderr",
     "output_type": "stream",
     "text": [
      "Generating ensemble training data: |██████████|100%\n",
      "Generating ensemble test data: |██████████|100%\n"
     ]
    },
    {
     "name": "stdout",
     "output_type": "stream",
     "text": [
      "\n",
      "\n"
     ]
    },
    {
     "name": "stderr",
     "output_type": "stream",
     "text": [
      "Analyzing ensembles: |██████████|100%\n"
     ]
    },
    {
     "name": "stdout",
     "output_type": "stream",
     "text": [
      "Training base predictors on labs...\n",
      "        \n",
      "... for ensemble performance analysis...\n"
     ]
    },
    {
     "name": "stderr",
     "output_type": "stream",
     "text": [
      "Generating ensemble training data: |          |  0%"
     ]
    },
    {
     "name": "stdout",
     "output_type": "stream",
     "text": [
      "Epoch 1/10\n",
      "212/212 [==============================] - 1s 898us/step - loss: 7.1393 - accuracy: 0.5940\n",
      "Epoch 2/10\n",
      "212/212 [==============================] - 0s 827us/step - loss: 3.6329 - accuracy: 0.6153\n",
      "Epoch 3/10\n",
      "212/212 [==============================] - 0s 826us/step - loss: 2.6202 - accuracy: 0.6281\n",
      "Epoch 4/10\n",
      "212/212 [==============================] - 0s 823us/step - loss: 3.4307 - accuracy: 0.6248\n",
      "Epoch 5/10\n",
      "212/212 [==============================] - 0s 883us/step - loss: 1.7837 - accuracy: 0.6460\n",
      "Epoch 6/10\n",
      "212/212 [==============================] - 0s 832us/step - loss: 1.9964 - accuracy: 0.6616\n",
      "Epoch 7/10\n",
      "212/212 [==============================] - 0s 826us/step - loss: 1.7308 - accuracy: 0.6465\n",
      "Epoch 8/10\n",
      "212/212 [==============================] - 0s 823us/step - loss: 1.9665 - accuracy: 0.6337\n",
      "Epoch 9/10\n",
      "212/212 [==============================] - 0s 826us/step - loss: 2.0163 - accuracy: 0.6465\n",
      "Epoch 10/10\n",
      "212/212 [==============================] - 0s 824us/step - loss: 2.0875 - accuracy: 0.6404\n",
      "30/30 [==============================] - 0s 673us/step\n",
      "120/120 [==============================] - 0s 624us/step\n"
     ]
    },
    {
     "name": "stderr",
     "output_type": "stream",
     "text": [
      "Generating ensemble training data: |██        | 20%"
     ]
    },
    {
     "name": "stdout",
     "output_type": "stream",
     "text": [
      "Epoch 1/10\n",
      "212/212 [==============================] - 0s 871us/step - loss: 9.1512 - accuracy: 0.5841\n",
      "Epoch 2/10\n",
      "212/212 [==============================] - 0s 857us/step - loss: 3.8864 - accuracy: 0.6205\n",
      "Epoch 3/10\n",
      "212/212 [==============================] - 0s 855us/step - loss: 2.4645 - accuracy: 0.6460\n",
      "Epoch 4/10\n",
      "212/212 [==============================] - 0s 860us/step - loss: 2.1657 - accuracy: 0.6541\n",
      "Epoch 5/10\n",
      "212/212 [==============================] - 0s 856us/step - loss: 1.8069 - accuracy: 0.6451\n",
      "Epoch 6/10\n",
      "212/212 [==============================] - 0s 869us/step - loss: 1.1059 - accuracy: 0.6767\n",
      "Epoch 7/10\n",
      "212/212 [==============================] - 0s 852us/step - loss: 1.6946 - accuracy: 0.6422\n",
      "Epoch 8/10\n",
      "212/212 [==============================] - 0s 857us/step - loss: 1.3628 - accuracy: 0.6725\n",
      "Epoch 9/10\n",
      "212/212 [==============================] - 0s 860us/step - loss: 1.7952 - accuracy: 0.6569\n",
      "Epoch 10/10\n",
      "212/212 [==============================] - 0s 860us/step - loss: 1.7029 - accuracy: 0.6489\n",
      "30/30 [==============================] - 0s 641us/step\n",
      "120/120 [==============================] - 0s 617us/step\n"
     ]
    },
    {
     "name": "stderr",
     "output_type": "stream",
     "text": [
      "Generating ensemble training data: |████      | 40%"
     ]
    },
    {
     "name": "stdout",
     "output_type": "stream",
     "text": [
      "Epoch 1/10\n",
      "212/212 [==============================] - 0s 881us/step - loss: 7.8826 - accuracy: 0.5818\n",
      "Epoch 2/10\n",
      "212/212 [==============================] - 0s 858us/step - loss: 3.1012 - accuracy: 0.6172\n",
      "Epoch 3/10\n",
      "212/212 [==============================] - 0s 815us/step - loss: 2.5361 - accuracy: 0.6158\n",
      "Epoch 4/10\n",
      "212/212 [==============================] - 0s 847us/step - loss: 1.9683 - accuracy: 0.6366\n",
      "Epoch 5/10\n",
      "212/212 [==============================] - 0s 860us/step - loss: 2.0489 - accuracy: 0.6262\n",
      "Epoch 6/10\n",
      "212/212 [==============================] - 0s 860us/step - loss: 1.5244 - accuracy: 0.6446\n",
      "Epoch 7/10\n",
      "212/212 [==============================] - 0s 853us/step - loss: 1.7404 - accuracy: 0.6304\n",
      "Epoch 8/10\n",
      "212/212 [==============================] - 0s 855us/step - loss: 1.5502 - accuracy: 0.6479\n",
      "Epoch 9/10\n",
      "212/212 [==============================] - 0s 852us/step - loss: 1.6159 - accuracy: 0.6385\n",
      "Epoch 10/10\n",
      "212/212 [==============================] - 0s 891us/step - loss: 1.0984 - accuracy: 0.6744\n",
      "30/30 [==============================] - 0s 638us/step\n",
      "120/120 [==============================] - 0s 616us/step\n"
     ]
    },
    {
     "name": "stderr",
     "output_type": "stream",
     "text": [
      "Generating ensemble training data: |██████    | 60%"
     ]
    },
    {
     "name": "stdout",
     "output_type": "stream",
     "text": [
      "Epoch 1/10\n",
      "212/212 [==============================] - 0s 941us/step - loss: 6.8053 - accuracy: 0.6025\n",
      "Epoch 2/10\n",
      "212/212 [==============================] - 0s 876us/step - loss: 3.3224 - accuracy: 0.6327\n",
      "Epoch 3/10\n",
      "212/212 [==============================] - 0s 876us/step - loss: 1.6272 - accuracy: 0.6483\n",
      "Epoch 4/10\n",
      "212/212 [==============================] - 0s 875us/step - loss: 1.9025 - accuracy: 0.6341\n",
      "Epoch 5/10\n",
      "212/212 [==============================] - 0s 876us/step - loss: 1.4738 - accuracy: 0.6596\n",
      "Epoch 6/10\n",
      "212/212 [==============================] - 0s 876us/step - loss: 1.3343 - accuracy: 0.6563\n",
      "Epoch 7/10\n",
      "212/212 [==============================] - 0s 879us/step - loss: 1.4133 - accuracy: 0.6506\n",
      "Epoch 8/10\n",
      "212/212 [==============================] - 0s 879us/step - loss: 1.0897 - accuracy: 0.6690\n",
      "Epoch 9/10\n",
      "212/212 [==============================] - 0s 876us/step - loss: 1.4353 - accuracy: 0.6355\n",
      "Epoch 10/10\n",
      "212/212 [==============================] - 0s 884us/step - loss: 1.3374 - accuracy: 0.6511\n",
      "30/30 [==============================] - 0s 724us/step\n",
      "120/120 [==============================] - 0s 619us/step\n"
     ]
    },
    {
     "name": "stderr",
     "output_type": "stream",
     "text": [
      "Generating ensemble training data: |████████  | 80%"
     ]
    },
    {
     "name": "stdout",
     "output_type": "stream",
     "text": [
      "Epoch 1/10\n",
      "212/212 [==============================] - 0s 846us/step - loss: 7.0018 - accuracy: 0.5911\n",
      "Epoch 2/10\n",
      "212/212 [==============================] - 0s 841us/step - loss: 2.3823 - accuracy: 0.6629\n",
      "Epoch 3/10\n",
      "212/212 [==============================] - 0s 845us/step - loss: 1.8184 - accuracy: 0.6256\n",
      "Epoch 4/10\n",
      "212/212 [==============================] - 0s 843us/step - loss: 2.4773 - accuracy: 0.6374\n",
      "Epoch 5/10\n",
      "212/212 [==============================] - 0s 841us/step - loss: 1.8350 - accuracy: 0.6313\n",
      "Epoch 6/10\n",
      "212/212 [==============================] - 0s 840us/step - loss: 0.9249 - accuracy: 0.6771\n",
      "Epoch 7/10\n",
      "212/212 [==============================] - 0s 823us/step - loss: 1.1311 - accuracy: 0.6629\n",
      "Epoch 8/10\n",
      "212/212 [==============================] - 0s 832us/step - loss: 0.9792 - accuracy: 0.6690\n",
      "Epoch 9/10\n",
      "212/212 [==============================] - 0s 846us/step - loss: 1.0125 - accuracy: 0.6761\n",
      "Epoch 10/10\n",
      "212/212 [==============================] - 0s 853us/step - loss: 1.3244 - accuracy: 0.6412\n",
      "30/30 [==============================] - 0s 665us/step\n",
      "120/120 [==============================] - 0s 630us/step\n"
     ]
    },
    {
     "name": "stderr",
     "output_type": "stream",
     "text": [
      "Generating ensemble training data: |██████████|100%\n",
      "Generating ensemble training data: |          |  0%"
     ]
    },
    {
     "name": "stdout",
     "output_type": "stream",
     "text": [
      "Epoch 1/10\n",
      "212/212 [==============================] - 1s 1ms/step - loss: 32.0282 - accuracy: 0.5336\n",
      "Epoch 2/10\n",
      "212/212 [==============================] - 0s 999us/step - loss: 14.0012 - accuracy: 0.5269\n",
      "Epoch 3/10\n",
      "212/212 [==============================] - 0s 981us/step - loss: 7.3597 - accuracy: 0.5378\n",
      "Epoch 4/10\n",
      "212/212 [==============================] - 0s 978us/step - loss: 4.0928 - accuracy: 0.5265\n",
      "Epoch 5/10\n",
      "212/212 [==============================] - 0s 990us/step - loss: 2.6321 - accuracy: 0.5222\n",
      "Epoch 6/10\n",
      "212/212 [==============================] - 0s 1ms/step - loss: 1.8861 - accuracy: 0.5128\n",
      "Epoch 7/10\n",
      "212/212 [==============================] - 0s 992us/step - loss: 1.6135 - accuracy: 0.5132\n",
      "Epoch 8/10\n",
      "212/212 [==============================] - 0s 982us/step - loss: 1.5898 - accuracy: 0.5284\n",
      "Epoch 9/10\n",
      "212/212 [==============================] - 0s 978us/step - loss: 1.1648 - accuracy: 0.5184\n",
      "Epoch 10/10\n",
      "212/212 [==============================] - 0s 980us/step - loss: 0.9506 - accuracy: 0.5019\n",
      "30/30 [==============================] - 0s 690us/step\n",
      "120/120 [==============================] - 0s 650us/step\n"
     ]
    },
    {
     "name": "stderr",
     "output_type": "stream",
     "text": [
      "Generating ensemble training data: |██        | 20%"
     ]
    },
    {
     "name": "stdout",
     "output_type": "stream",
     "text": [
      "Epoch 1/10\n",
      "212/212 [==============================] - 0s 983us/step - loss: 21.4592 - accuracy: 0.5217\n",
      "Epoch 2/10\n",
      "212/212 [==============================] - 0s 974us/step - loss: 8.2796 - accuracy: 0.5269\n",
      "Epoch 3/10\n",
      "212/212 [==============================] - 0s 982us/step - loss: 2.9727 - accuracy: 0.5222\n",
      "Epoch 4/10\n",
      "212/212 [==============================] - 0s 983us/step - loss: 3.0822 - accuracy: 0.4976\n",
      "Epoch 5/10\n",
      "212/212 [==============================] - 0s 990us/step - loss: 1.6490 - accuracy: 0.5208\n",
      "Epoch 6/10\n",
      "212/212 [==============================] - 0s 973us/step - loss: 2.0321 - accuracy: 0.5000\n",
      "Epoch 7/10\n",
      "212/212 [==============================] - 0s 989us/step - loss: 1.4390 - accuracy: 0.5005\n",
      "Epoch 8/10\n",
      "212/212 [==============================] - 0s 982us/step - loss: 1.0650 - accuracy: 0.5080\n",
      "Epoch 9/10\n",
      "212/212 [==============================] - 0s 963us/step - loss: 0.9902 - accuracy: 0.4967\n",
      "Epoch 10/10\n",
      "212/212 [==============================] - 0s 983us/step - loss: 0.8634 - accuracy: 0.4943\n",
      "30/30 [==============================] - 0s 685us/step\n",
      "120/120 [==============================] - 0s 640us/step\n"
     ]
    },
    {
     "name": "stderr",
     "output_type": "stream",
     "text": [
      "Generating ensemble training data: |████      | 40%"
     ]
    },
    {
     "name": "stdout",
     "output_type": "stream",
     "text": [
      "Epoch 1/10\n",
      "212/212 [==============================] - 0s 994us/step - loss: 24.3386 - accuracy: 0.5142\n",
      "Epoch 2/10\n",
      "212/212 [==============================] - 0s 976us/step - loss: 7.5377 - accuracy: 0.5317\n",
      "Epoch 3/10\n",
      "212/212 [==============================] - 0s 986us/step - loss: 3.3339 - accuracy: 0.5345\n",
      "Epoch 4/10\n",
      "212/212 [==============================] - 0s 969us/step - loss: 1.5595 - accuracy: 0.5203\n",
      "Epoch 5/10\n",
      "212/212 [==============================] - 0s 951us/step - loss: 1.3247 - accuracy: 0.5293\n",
      "Epoch 6/10\n",
      "212/212 [==============================] - 0s 962us/step - loss: 1.2664 - accuracy: 0.5217\n",
      "Epoch 7/10\n",
      "212/212 [==============================] - 0s 962us/step - loss: 1.1963 - accuracy: 0.5047\n",
      "Epoch 8/10\n",
      "212/212 [==============================] - 0s 1ms/step - loss: 0.8750 - accuracy: 0.5274\n",
      "Epoch 9/10\n",
      "212/212 [==============================] - 0s 981us/step - loss: 0.7852 - accuracy: 0.5104\n",
      "Epoch 10/10\n",
      "212/212 [==============================] - 0s 989us/step - loss: 0.9464 - accuracy: 0.5128\n",
      "30/30 [==============================] - 0s 696us/step\n",
      "120/120 [==============================] - 0s 689us/step\n"
     ]
    },
    {
     "name": "stderr",
     "output_type": "stream",
     "text": [
      "Generating ensemble training data: |██████    | 60%"
     ]
    },
    {
     "name": "stdout",
     "output_type": "stream",
     "text": [
      "Epoch 1/10\n",
      "212/212 [==============================] - 0s 1ms/step - loss: 19.3335 - accuracy: 0.5231\n",
      "Epoch 2/10\n",
      "212/212 [==============================] - 0s 1ms/step - loss: 6.1639 - accuracy: 0.5194\n",
      "Epoch 3/10\n",
      "212/212 [==============================] - 0s 993us/step - loss: 3.7556 - accuracy: 0.5411\n",
      "Epoch 4/10\n",
      "212/212 [==============================] - 0s 984us/step - loss: 2.3223 - accuracy: 0.5217\n",
      "Epoch 5/10\n",
      "212/212 [==============================] - 0s 968us/step - loss: 1.6027 - accuracy: 0.5359\n",
      "Epoch 6/10\n",
      "212/212 [==============================] - 0s 1ms/step - loss: 1.2822 - accuracy: 0.5274\n",
      "Epoch 7/10\n",
      "212/212 [==============================] - 0s 1ms/step - loss: 1.2684 - accuracy: 0.5420\n",
      "Epoch 8/10\n",
      "212/212 [==============================] - 0s 1ms/step - loss: 1.1753 - accuracy: 0.5529\n",
      "Epoch 9/10\n",
      "212/212 [==============================] - 0s 1ms/step - loss: 0.8719 - accuracy: 0.5515\n",
      "Epoch 10/10\n",
      "212/212 [==============================] - 0s 1ms/step - loss: 0.8735 - accuracy: 0.5316\n",
      "30/30 [==============================] - 0s 678us/step\n",
      "120/120 [==============================] - 0s 640us/step\n"
     ]
    },
    {
     "name": "stderr",
     "output_type": "stream",
     "text": [
      "Generating ensemble training data: |████████  | 80%"
     ]
    },
    {
     "name": "stdout",
     "output_type": "stream",
     "text": [
      "Epoch 1/10\n",
      "212/212 [==============================] - 0s 1ms/step - loss: 24.9991 - accuracy: 0.4854\n",
      "Epoch 2/10\n",
      "212/212 [==============================] - 0s 1ms/step - loss: 5.4528 - accuracy: 0.5090\n",
      "Epoch 3/10\n",
      "212/212 [==============================] - 0s 998us/step - loss: 2.7719 - accuracy: 0.4948\n",
      "Epoch 4/10\n",
      "212/212 [==============================] - 0s 998us/step - loss: 1.9890 - accuracy: 0.5227\n",
      "Epoch 5/10\n",
      "212/212 [==============================] - 0s 971us/step - loss: 1.3779 - accuracy: 0.5189\n",
      "Epoch 6/10\n",
      "212/212 [==============================] - 0s 968us/step - loss: 0.9382 - accuracy: 0.5246\n",
      "Epoch 7/10\n",
      "212/212 [==============================] - 0s 959us/step - loss: 1.0278 - accuracy: 0.5189\n",
      "Epoch 8/10\n",
      "212/212 [==============================] - 0s 979us/step - loss: 0.9288 - accuracy: 0.5156\n",
      "Epoch 9/10\n",
      "212/212 [==============================] - 0s 971us/step - loss: 1.2503 - accuracy: 0.5212\n",
      "Epoch 10/10\n",
      "212/212 [==============================] - 0s 977us/step - loss: 0.9460 - accuracy: 0.5099\n",
      "30/30 [==============================] - 0s 673us/step\n",
      "120/120 [==============================] - 0s 641us/step\n"
     ]
    },
    {
     "name": "stderr",
     "output_type": "stream",
     "text": [
      "Generating ensemble training data: |██████████|100%\n",
      "Generating ensemble training data: |          |  0%"
     ]
    },
    {
     "name": "stdout",
     "output_type": "stream",
     "text": [
      "Epoch 1/10\n",
      "212/212 [==============================] - 1s 1ms/step - loss: 9.5390 - accuracy: 0.6115\n",
      "Epoch 2/10\n",
      "212/212 [==============================] - 0s 943us/step - loss: 4.4612 - accuracy: 0.6319\n",
      "Epoch 3/10\n",
      "212/212 [==============================] - 0s 926us/step - loss: 4.2873 - accuracy: 0.6101\n",
      "Epoch 4/10\n",
      "212/212 [==============================] - 0s 920us/step - loss: 3.4936 - accuracy: 0.6300\n",
      "Epoch 5/10\n",
      "212/212 [==============================] - 0s 919us/step - loss: 3.0648 - accuracy: 0.6394\n",
      "Epoch 6/10\n",
      "212/212 [==============================] - 0s 914us/step - loss: 2.7601 - accuracy: 0.6446\n",
      "Epoch 7/10\n",
      "212/212 [==============================] - 0s 913us/step - loss: 2.3872 - accuracy: 0.6578\n",
      "Epoch 8/10\n",
      "212/212 [==============================] - 0s 915us/step - loss: 2.9516 - accuracy: 0.6474\n",
      "Epoch 9/10\n",
      "212/212 [==============================] - 0s 922us/step - loss: 2.2200 - accuracy: 0.6446\n",
      "Epoch 10/10\n",
      "212/212 [==============================] - 0s 930us/step - loss: 2.3987 - accuracy: 0.6602\n",
      "30/30 [==============================] - 0s 730us/step\n",
      "120/120 [==============================] - 0s 656us/step\n"
     ]
    },
    {
     "name": "stderr",
     "output_type": "stream",
     "text": [
      "Generating ensemble training data: |██        | 20%"
     ]
    },
    {
     "name": "stdout",
     "output_type": "stream",
     "text": [
      "Epoch 1/10\n",
      "212/212 [==============================] - 0s 916us/step - loss: 12.3476 - accuracy: 0.6181\n",
      "Epoch 2/10\n",
      "212/212 [==============================] - 0s 899us/step - loss: 5.4752 - accuracy: 0.6323\n",
      "Epoch 3/10\n",
      "212/212 [==============================] - 0s 907us/step - loss: 4.9463 - accuracy: 0.6399\n",
      "Epoch 4/10\n",
      "212/212 [==============================] - 0s 900us/step - loss: 4.1616 - accuracy: 0.6371\n",
      "Epoch 5/10\n",
      "212/212 [==============================] - 0s 920us/step - loss: 3.0458 - accuracy: 0.6465\n",
      "Epoch 6/10\n",
      "212/212 [==============================] - 0s 923us/step - loss: 2.6252 - accuracy: 0.6536\n",
      "Epoch 7/10\n",
      "212/212 [==============================] - 0s 935us/step - loss: 2.6168 - accuracy: 0.6503\n",
      "Epoch 8/10\n",
      "212/212 [==============================] - 0s 930us/step - loss: 2.4986 - accuracy: 0.6602\n",
      "Epoch 9/10\n",
      "212/212 [==============================] - 0s 915us/step - loss: 2.7651 - accuracy: 0.6564\n",
      "Epoch 10/10\n",
      "212/212 [==============================] - 0s 943us/step - loss: 2.0817 - accuracy: 0.6645\n",
      "30/30 [==============================] - 0s 710us/step\n",
      "120/120 [==============================] - 0s 680us/step\n"
     ]
    },
    {
     "name": "stderr",
     "output_type": "stream",
     "text": [
      "Generating ensemble training data: |████      | 40%"
     ]
    },
    {
     "name": "stdout",
     "output_type": "stream",
     "text": [
      "Epoch 1/10\n",
      "212/212 [==============================] - 0s 941us/step - loss: 12.8518 - accuracy: 0.5969\n",
      "Epoch 2/10\n",
      "212/212 [==============================] - 0s 937us/step - loss: 4.5579 - accuracy: 0.6238\n",
      "Epoch 3/10\n",
      "212/212 [==============================] - 0s 942us/step - loss: 3.0063 - accuracy: 0.6413\n",
      "Epoch 4/10\n",
      "212/212 [==============================] - 0s 959us/step - loss: 2.6421 - accuracy: 0.6323\n",
      "Epoch 5/10\n",
      "212/212 [==============================] - 0s 897us/step - loss: 2.2428 - accuracy: 0.6503\n",
      "Epoch 6/10\n",
      "212/212 [==============================] - 0s 892us/step - loss: 2.3596 - accuracy: 0.6285\n",
      "Epoch 7/10\n",
      "212/212 [==============================] - 0s 881us/step - loss: 2.0593 - accuracy: 0.6593\n",
      "Epoch 8/10\n",
      "212/212 [==============================] - 0s 888us/step - loss: 2.2943 - accuracy: 0.6441\n",
      "Epoch 9/10\n",
      "212/212 [==============================] - 0s 894us/step - loss: 1.7222 - accuracy: 0.6621\n",
      "Epoch 10/10\n",
      "212/212 [==============================] - 0s 945us/step - loss: 1.7984 - accuracy: 0.6418\n",
      "30/30 [==============================] - 0s 665us/step\n",
      "120/120 [==============================] - 0s 668us/step\n"
     ]
    },
    {
     "name": "stderr",
     "output_type": "stream",
     "text": [
      "Generating ensemble training data: |██████    | 60%"
     ]
    },
    {
     "name": "stdout",
     "output_type": "stream",
     "text": [
      "Epoch 1/10\n",
      "212/212 [==============================] - 0s 916us/step - loss: 9.5119 - accuracy: 0.6388\n",
      "Epoch 2/10\n",
      "212/212 [==============================] - 0s 896us/step - loss: 4.0115 - accuracy: 0.6426\n",
      "Epoch 3/10\n",
      "212/212 [==============================] - 0s 901us/step - loss: 3.0942 - accuracy: 0.6483\n",
      "Epoch 4/10\n",
      "212/212 [==============================] - 0s 902us/step - loss: 4.7342 - accuracy: 0.6246\n",
      "Epoch 5/10\n",
      "212/212 [==============================] - 0s 905us/step - loss: 2.8219 - accuracy: 0.6483\n",
      "Epoch 6/10\n",
      "212/212 [==============================] - 0s 907us/step - loss: 2.2843 - accuracy: 0.6544\n",
      "Epoch 7/10\n",
      "212/212 [==============================] - 0s 908us/step - loss: 1.8909 - accuracy: 0.6544\n",
      "Epoch 8/10\n",
      "212/212 [==============================] - 0s 902us/step - loss: 1.9070 - accuracy: 0.6671\n",
      "Epoch 9/10\n",
      "212/212 [==============================] - 0s 901us/step - loss: 1.7426 - accuracy: 0.6501\n",
      "Epoch 10/10\n",
      "212/212 [==============================] - 0s 906us/step - loss: 1.6344 - accuracy: 0.6695\n",
      "30/30 [==============================] - 0s 657us/step\n",
      "120/120 [==============================] - 0s 643us/step\n"
     ]
    },
    {
     "name": "stderr",
     "output_type": "stream",
     "text": [
      "Generating ensemble training data: |████████  | 80%"
     ]
    },
    {
     "name": "stdout",
     "output_type": "stream",
     "text": [
      "Epoch 1/10\n",
      "212/212 [==============================] - 0s 898us/step - loss: 12.0577 - accuracy: 0.6336\n",
      "Epoch 2/10\n",
      "212/212 [==============================] - 0s 894us/step - loss: 3.5347 - accuracy: 0.6360\n",
      "Epoch 3/10\n",
      "212/212 [==============================] - 0s 900us/step - loss: 3.5263 - accuracy: 0.6251\n",
      "Epoch 4/10\n",
      "212/212 [==============================] - 0s 899us/step - loss: 3.7764 - accuracy: 0.6284\n",
      "Epoch 5/10\n",
      "212/212 [==============================] - 0s 907us/step - loss: 3.2130 - accuracy: 0.6237\n",
      "Epoch 6/10\n",
      "212/212 [==============================] - 0s 907us/step - loss: 3.2686 - accuracy: 0.6383\n",
      "Epoch 7/10\n",
      "212/212 [==============================] - 0s 899us/step - loss: 2.6101 - accuracy: 0.6322\n",
      "Epoch 8/10\n",
      "212/212 [==============================] - 0s 902us/step - loss: 2.9751 - accuracy: 0.6445\n",
      "Epoch 9/10\n",
      "212/212 [==============================] - 0s 906us/step - loss: 2.1311 - accuracy: 0.6648\n",
      "Epoch 10/10\n",
      "212/212 [==============================] - 0s 891us/step - loss: 2.8712 - accuracy: 0.6341\n",
      "30/30 [==============================] - 0s 672us/step\n",
      "120/120 [==============================] - 0s 652us/step\n"
     ]
    },
    {
     "name": "stderr",
     "output_type": "stream",
     "text": [
      "Generating ensemble training data: |██████████|100%\n",
      "Generating ensemble training data: |          |  0%"
     ]
    },
    {
     "name": "stdout",
     "output_type": "stream",
     "text": [
      "Epoch 1/10\n",
      "212/212 [==============================] - 1s 1ms/step - loss: 4.7044 - accuracy: 0.5822\n",
      "Epoch 2/10\n",
      "212/212 [==============================] - 0s 937us/step - loss: 3.6209 - accuracy: 0.5926\n",
      "Epoch 3/10\n",
      "212/212 [==============================] - 0s 943us/step - loss: 1.6145 - accuracy: 0.6271\n",
      "Epoch 4/10\n",
      "212/212 [==============================] - 0s 956us/step - loss: 1.4595 - accuracy: 0.6172\n",
      "Epoch 5/10\n",
      "212/212 [==============================] - 0s 929us/step - loss: 1.1531 - accuracy: 0.6484\n",
      "Epoch 6/10\n",
      "212/212 [==============================] - 0s 923us/step - loss: 1.4490 - accuracy: 0.6210\n",
      "Epoch 7/10\n",
      "212/212 [==============================] - 0s 942us/step - loss: 0.8864 - accuracy: 0.6640\n",
      "Epoch 8/10\n",
      "212/212 [==============================] - 0s 960us/step - loss: 1.0276 - accuracy: 0.6215\n",
      "Epoch 9/10\n",
      "212/212 [==============================] - 0s 949us/step - loss: 0.7374 - accuracy: 0.6569\n",
      "Epoch 10/10\n",
      "212/212 [==============================] - 0s 940us/step - loss: 0.6290 - accuracy: 0.6744\n",
      "30/30 [==============================] - 0s 703us/step\n",
      "120/120 [==============================] - 0s 654us/step\n"
     ]
    },
    {
     "name": "stderr",
     "output_type": "stream",
     "text": [
      "Generating ensemble training data: |██        | 20%"
     ]
    },
    {
     "name": "stdout",
     "output_type": "stream",
     "text": [
      "Epoch 1/10\n",
      "212/212 [==============================] - 0s 946us/step - loss: 7.3031 - accuracy: 0.5558\n",
      "Epoch 2/10\n",
      "212/212 [==============================] - 0s 953us/step - loss: 1.3151 - accuracy: 0.6276\n",
      "Epoch 3/10\n",
      "212/212 [==============================] - 0s 952us/step - loss: 1.3898 - accuracy: 0.5917\n",
      "Epoch 4/10\n",
      "212/212 [==============================] - 0s 951us/step - loss: 0.8019 - accuracy: 0.6578\n",
      "Epoch 5/10\n",
      "212/212 [==============================] - 0s 948us/step - loss: 0.6856 - accuracy: 0.6796\n",
      "Epoch 6/10\n",
      "212/212 [==============================] - 0s 947us/step - loss: 0.6282 - accuracy: 0.6853\n",
      "Epoch 7/10\n",
      "212/212 [==============================] - 0s 930us/step - loss: 0.6181 - accuracy: 0.6881\n",
      "Epoch 8/10\n",
      "212/212 [==============================] - 0s 936us/step - loss: 0.6525 - accuracy: 0.6767\n",
      "Epoch 9/10\n",
      "212/212 [==============================] - 0s 960us/step - loss: 0.5701 - accuracy: 0.7018\n",
      "Epoch 10/10\n",
      "212/212 [==============================] - 0s 925us/step - loss: 0.5855 - accuracy: 0.7027\n",
      "30/30 [==============================] - 0s 883us/step\n",
      "120/120 [==============================] - 0s 627us/step\n"
     ]
    },
    {
     "name": "stderr",
     "output_type": "stream",
     "text": [
      "Generating ensemble training data: |████      | 40%"
     ]
    },
    {
     "name": "stdout",
     "output_type": "stream",
     "text": [
      "Epoch 1/10\n",
      "212/212 [==============================] - 0s 930us/step - loss: 3.8217 - accuracy: 0.5836\n",
      "Epoch 2/10\n",
      "212/212 [==============================] - 0s 918us/step - loss: 1.5369 - accuracy: 0.5959\n",
      "Epoch 3/10\n",
      "212/212 [==============================] - 0s 961us/step - loss: 1.0209 - accuracy: 0.6319\n",
      "Epoch 4/10\n",
      "212/212 [==============================] - 0s 961us/step - loss: 0.8462 - accuracy: 0.6300\n",
      "Epoch 5/10\n",
      "212/212 [==============================] - 0s 933us/step - loss: 0.6648 - accuracy: 0.6782\n",
      "Epoch 6/10\n",
      "212/212 [==============================] - 0s 927us/step - loss: 0.6496 - accuracy: 0.6711\n",
      "Epoch 7/10\n",
      "212/212 [==============================] - 0s 920us/step - loss: 0.6998 - accuracy: 0.6588\n",
      "Epoch 8/10\n",
      "212/212 [==============================] - 0s 920us/step - loss: 0.7874 - accuracy: 0.6465\n",
      "Epoch 9/10\n",
      "212/212 [==============================] - 0s 918us/step - loss: 0.6228 - accuracy: 0.6853\n",
      "Epoch 10/10\n",
      "212/212 [==============================] - 0s 921us/step - loss: 0.6116 - accuracy: 0.6905\n",
      "30/30 [==============================] - 0s 661us/step\n",
      "120/120 [==============================] - 0s 655us/step\n"
     ]
    },
    {
     "name": "stderr",
     "output_type": "stream",
     "text": [
      "Generating ensemble training data: |██████    | 60%"
     ]
    },
    {
     "name": "stdout",
     "output_type": "stream",
     "text": [
      "Epoch 1/10\n",
      "212/212 [==============================] - 0s 956us/step - loss: 3.3619 - accuracy: 0.6265\n",
      "Epoch 2/10\n",
      "212/212 [==============================] - 0s 935us/step - loss: 1.4298 - accuracy: 0.6256\n",
      "Epoch 3/10\n",
      "212/212 [==============================] - 0s 929us/step - loss: 1.1415 - accuracy: 0.6062\n",
      "Epoch 4/10\n",
      "212/212 [==============================] - 0s 929us/step - loss: 0.6746 - accuracy: 0.6572\n",
      "Epoch 5/10\n",
      "212/212 [==============================] - 0s 928us/step - loss: 0.6717 - accuracy: 0.6657\n",
      "Epoch 6/10\n",
      "212/212 [==============================] - 0s 931us/step - loss: 0.6169 - accuracy: 0.6879\n",
      "Epoch 7/10\n",
      "212/212 [==============================] - 0s 928us/step - loss: 0.6694 - accuracy: 0.6785\n",
      "Epoch 8/10\n",
      "212/212 [==============================] - 0s 932us/step - loss: 0.8142 - accuracy: 0.6657\n",
      "Epoch 9/10\n",
      "212/212 [==============================] - 0s 916us/step - loss: 0.7145 - accuracy: 0.6879\n",
      "Epoch 10/10\n",
      "212/212 [==============================] - 0s 922us/step - loss: 0.8716 - accuracy: 0.6383\n",
      "30/30 [==============================] - 0s 687us/step\n",
      "120/120 [==============================] - 0s 664us/step\n"
     ]
    },
    {
     "name": "stderr",
     "output_type": "stream",
     "text": [
      "Generating ensemble training data: |████████  | 80%"
     ]
    },
    {
     "name": "stdout",
     "output_type": "stream",
     "text": [
      "Epoch 1/10\n",
      "212/212 [==============================] - 0s 958us/step - loss: 6.0441 - accuracy: 0.5444\n",
      "Epoch 2/10\n",
      "212/212 [==============================] - 0s 979us/step - loss: 1.6150 - accuracy: 0.6128\n",
      "Epoch 3/10\n",
      "212/212 [==============================] - 0s 978us/step - loss: 0.9208 - accuracy: 0.6256\n",
      "Epoch 4/10\n",
      "212/212 [==============================] - 0s 970us/step - loss: 0.7011 - accuracy: 0.6497\n",
      "Epoch 5/10\n",
      "212/212 [==============================] - 0s 964us/step - loss: 0.6471 - accuracy: 0.6605\n",
      "Epoch 6/10\n",
      "212/212 [==============================] - 0s 953us/step - loss: 0.6706 - accuracy: 0.6667\n",
      "Epoch 7/10\n",
      "212/212 [==============================] - 0s 946us/step - loss: 0.6476 - accuracy: 0.6619\n",
      "Epoch 8/10\n",
      "212/212 [==============================] - 0s 955us/step - loss: 0.6263 - accuracy: 0.6686\n",
      "Epoch 9/10\n",
      "212/212 [==============================] - 0s 955us/step - loss: 0.6014 - accuracy: 0.6756\n",
      "Epoch 10/10\n",
      "212/212 [==============================] - 0s 973us/step - loss: 0.6193 - accuracy: 0.6889\n",
      "30/30 [==============================] - 0s 671us/step\n",
      "120/120 [==============================] - 0s 634us/step\n"
     ]
    },
    {
     "name": "stderr",
     "output_type": "stream",
     "text": [
      "Generating ensemble training data: |██████████|100%\n"
     ]
    },
    {
     "name": "stdout",
     "output_type": "stream",
     "text": [
      "\n",
      "\n"
     ]
    },
    {
     "name": "stderr",
     "output_type": "stream",
     "text": [
      "Analyzing ensembles: |██████████|100%\n"
     ]
    },
    {
     "name": "stdout",
     "output_type": "stream",
     "text": [
      "Training base predictors on admission...\n",
      "        \n",
      "... for ensemble performance analysis...\n"
     ]
    },
    {
     "name": "stderr",
     "output_type": "stream",
     "text": [
      "Generating ensemble training data: |██████████|100%\n",
      "Generating ensemble test data: |██████████|100%\n"
     ]
    },
    {
     "name": "stdout",
     "output_type": "stream",
     "text": [
      "\n",
      "\n",
      "Training base predictors on comorbidities...\n",
      "        \n",
      "... for ensemble performance analysis...\n"
     ]
    },
    {
     "name": "stderr",
     "output_type": "stream",
     "text": [
      "Generating ensemble training data: |██████████|100%\n",
      "Generating ensemble test data: |██████████|100%\n"
     ]
    },
    {
     "name": "stdout",
     "output_type": "stream",
     "text": [
      "\n",
      "\n",
      "Training base predictors on labs...\n",
      "        \n",
      "... for ensemble performance analysis...\n"
     ]
    },
    {
     "name": "stderr",
     "output_type": "stream",
     "text": [
      "Generating ensemble training data: |          |  0%"
     ]
    },
    {
     "name": "stdout",
     "output_type": "stream",
     "text": [
      "Epoch 1/10\n",
      "212/212 [==============================] - 0s 905us/step - loss: 7.8398 - accuracy: 0.5780\n",
      "Epoch 2/10\n",
      "212/212 [==============================] - 0s 890us/step - loss: 3.0262 - accuracy: 0.6196\n",
      "Epoch 3/10\n",
      "212/212 [==============================] - 0s 890us/step - loss: 1.4153 - accuracy: 0.6659\n",
      "Epoch 4/10\n",
      "212/212 [==============================] - 0s 885us/step - loss: 2.0475 - accuracy: 0.6389\n",
      "Epoch 5/10\n",
      "212/212 [==============================] - 0s 891us/step - loss: 2.2313 - accuracy: 0.6267\n",
      "Epoch 6/10\n",
      "212/212 [==============================] - 0s 968us/step - loss: 1.5181 - accuracy: 0.6508\n",
      "Epoch 7/10\n",
      "212/212 [==============================] - 0s 880us/step - loss: 1.3696 - accuracy: 0.6588\n",
      "Epoch 8/10\n",
      "212/212 [==============================] - 0s 888us/step - loss: 1.3267 - accuracy: 0.6569\n",
      "Epoch 9/10\n",
      "212/212 [==============================] - 0s 882us/step - loss: 1.0875 - accuracy: 0.6583\n",
      "Epoch 10/10\n",
      "212/212 [==============================] - 0s 898us/step - loss: 1.1339 - accuracy: 0.6848\n",
      "30/30 [==============================] - 0s 664us/step\n",
      "120/120 [==============================] - 0s 649us/step\n"
     ]
    },
    {
     "name": "stderr",
     "output_type": "stream",
     "text": [
      "Generating ensemble training data: |██        | 20%"
     ]
    },
    {
     "name": "stdout",
     "output_type": "stream",
     "text": [
      "Epoch 1/10\n",
      "212/212 [==============================] - 0s 876us/step - loss: 10.6703 - accuracy: 0.5784\n",
      "Epoch 2/10\n",
      "212/212 [==============================] - 0s 875us/step - loss: 2.8411 - accuracy: 0.6432\n",
      "Epoch 3/10\n",
      "212/212 [==============================] - 0s 851us/step - loss: 1.7103 - accuracy: 0.6682\n",
      "Epoch 4/10\n",
      "212/212 [==============================] - 0s 839us/step - loss: 2.1995 - accuracy: 0.6418\n",
      "Epoch 5/10\n",
      "212/212 [==============================] - 0s 841us/step - loss: 1.5806 - accuracy: 0.6588\n",
      "Epoch 6/10\n",
      "212/212 [==============================] - 0s 844us/step - loss: 1.5797 - accuracy: 0.6404\n",
      "Epoch 7/10\n",
      "212/212 [==============================] - 0s 837us/step - loss: 1.9750 - accuracy: 0.6399\n",
      "Epoch 8/10\n",
      "212/212 [==============================] - 0s 833us/step - loss: 1.6989 - accuracy: 0.6517\n",
      "Epoch 9/10\n",
      "212/212 [==============================] - 0s 827us/step - loss: 1.4664 - accuracy: 0.6526\n",
      "Epoch 10/10\n",
      "212/212 [==============================] - 0s 827us/step - loss: 1.5448 - accuracy: 0.6635\n",
      "30/30 [==============================] - 0s 637us/step\n",
      "120/120 [==============================] - 0s 616us/step\n"
     ]
    },
    {
     "name": "stderr",
     "output_type": "stream",
     "text": [
      "Generating ensemble training data: |████      | 40%"
     ]
    },
    {
     "name": "stdout",
     "output_type": "stream",
     "text": [
      "Epoch 1/10\n",
      "212/212 [==============================] - 0s 830us/step - loss: 7.5704 - accuracy: 0.5756\n",
      "Epoch 2/10\n",
      "212/212 [==============================] - 0s 817us/step - loss: 2.6165 - accuracy: 0.6333\n",
      "Epoch 3/10\n",
      "212/212 [==============================] - 0s 818us/step - loss: 2.1039 - accuracy: 0.6271\n",
      "Epoch 4/10\n",
      "212/212 [==============================] - 0s 824us/step - loss: 2.2321 - accuracy: 0.6271\n",
      "Epoch 5/10\n",
      "212/212 [==============================] - 0s 828us/step - loss: 1.9446 - accuracy: 0.6404\n",
      "Epoch 6/10\n",
      "212/212 [==============================] - 0s 820us/step - loss: 1.3421 - accuracy: 0.6456\n",
      "Epoch 7/10\n",
      "212/212 [==============================] - 0s 816us/step - loss: 1.5592 - accuracy: 0.6422\n",
      "Epoch 8/10\n",
      "212/212 [==============================] - 0s 814us/step - loss: 1.5040 - accuracy: 0.6645\n",
      "Epoch 9/10\n",
      "212/212 [==============================] - 0s 824us/step - loss: 1.1504 - accuracy: 0.6517\n",
      "Epoch 10/10\n",
      "212/212 [==============================] - 0s 824us/step - loss: 1.5911 - accuracy: 0.6319\n",
      "30/30 [==============================] - 0s 639us/step\n",
      "120/120 [==============================] - 0s 601us/step\n"
     ]
    },
    {
     "name": "stderr",
     "output_type": "stream",
     "text": [
      "Generating ensemble training data: |██████    | 60%"
     ]
    },
    {
     "name": "stdout",
     "output_type": "stream",
     "text": [
      "Epoch 1/10\n",
      "212/212 [==============================] - 0s 793us/step - loss: 6.7766 - accuracy: 0.6048\n",
      "Epoch 2/10\n",
      "212/212 [==============================] - 0s 790us/step - loss: 1.9278 - accuracy: 0.6464\n",
      "Epoch 3/10\n",
      "212/212 [==============================] - 0s 799us/step - loss: 2.0897 - accuracy: 0.6256\n",
      "Epoch 4/10\n",
      "212/212 [==============================] - 0s 802us/step - loss: 2.5990 - accuracy: 0.6308\n",
      "Epoch 5/10\n",
      "212/212 [==============================] - 0s 802us/step - loss: 1.8016 - accuracy: 0.6383\n",
      "Epoch 6/10\n",
      "212/212 [==============================] - 0s 807us/step - loss: 1.7500 - accuracy: 0.6506\n",
      "Epoch 7/10\n",
      "212/212 [==============================] - 0s 831us/step - loss: 1.2460 - accuracy: 0.6445\n",
      "Epoch 8/10\n",
      "212/212 [==============================] - 0s 830us/step - loss: 1.2729 - accuracy: 0.6435\n",
      "Epoch 9/10\n",
      "212/212 [==============================] - 0s 828us/step - loss: 1.2579 - accuracy: 0.6582\n",
      "Epoch 10/10\n",
      "212/212 [==============================] - 0s 835us/step - loss: 1.4257 - accuracy: 0.6478\n",
      "30/30 [==============================] - 0s 630us/step\n",
      "120/120 [==============================] - 0s 613us/step\n"
     ]
    },
    {
     "name": "stderr",
     "output_type": "stream",
     "text": [
      "Generating ensemble training data: |████████  | 80%"
     ]
    },
    {
     "name": "stdout",
     "output_type": "stream",
     "text": [
      "Epoch 1/10\n",
      "212/212 [==============================] - 0s 862us/step - loss: 8.2205 - accuracy: 0.5788\n",
      "Epoch 2/10\n",
      "212/212 [==============================] - 0s 867us/step - loss: 3.3997 - accuracy: 0.6350\n",
      "Epoch 3/10\n",
      "212/212 [==============================] - 0s 868us/step - loss: 2.1371 - accuracy: 0.6398\n",
      "Epoch 4/10\n",
      "212/212 [==============================] - 0s 880us/step - loss: 1.8355 - accuracy: 0.6388\n",
      "Epoch 5/10\n",
      "212/212 [==============================] - 0s 896us/step - loss: 1.3959 - accuracy: 0.6549\n",
      "Epoch 6/10\n",
      "212/212 [==============================] - 0s 894us/step - loss: 1.5858 - accuracy: 0.6544\n",
      "Epoch 7/10\n",
      "212/212 [==============================] - 0s 888us/step - loss: 1.7907 - accuracy: 0.6416\n",
      "Epoch 8/10\n",
      "212/212 [==============================] - 0s 886us/step - loss: 1.4431 - accuracy: 0.6572\n",
      "Epoch 9/10\n",
      "212/212 [==============================] - 0s 884us/step - loss: 1.7215 - accuracy: 0.6492\n",
      "Epoch 10/10\n",
      "212/212 [==============================] - 0s 872us/step - loss: 1.4782 - accuracy: 0.6525\n",
      "30/30 [==============================] - 0s 674us/step\n",
      "120/120 [==============================] - 0s 617us/step\n"
     ]
    },
    {
     "name": "stderr",
     "output_type": "stream",
     "text": [
      "Generating ensemble training data: |██████████|100%\n",
      "Generating ensemble training data: |          |  0%"
     ]
    },
    {
     "name": "stdout",
     "output_type": "stream",
     "text": [
      "Epoch 1/10\n",
      "212/212 [==============================] - 0s 1ms/step - loss: 23.2354 - accuracy: 0.5302\n",
      "Epoch 2/10\n",
      "212/212 [==============================] - 0s 1ms/step - loss: 5.0564 - accuracy: 0.5345\n",
      "Epoch 3/10\n",
      "212/212 [==============================] - 0s 1ms/step - loss: 2.6774 - accuracy: 0.5198\n",
      "Epoch 4/10\n",
      "212/212 [==============================] - 0s 1ms/step - loss: 1.7965 - accuracy: 0.5250\n",
      "Epoch 5/10\n",
      "212/212 [==============================] - 0s 1ms/step - loss: 1.4485 - accuracy: 0.5345\n",
      "Epoch 6/10\n",
      "212/212 [==============================] - 0s 1ms/step - loss: 1.0571 - accuracy: 0.5194\n",
      "Epoch 7/10\n",
      "212/212 [==============================] - 0s 981us/step - loss: 0.9458 - accuracy: 0.5222\n",
      "Epoch 8/10\n",
      "212/212 [==============================] - 0s 972us/step - loss: 0.9626 - accuracy: 0.5014\n",
      "Epoch 9/10\n",
      "212/212 [==============================] - 0s 958us/step - loss: 0.8435 - accuracy: 0.5147\n",
      "Epoch 10/10\n",
      "212/212 [==============================] - 0s 975us/step - loss: 0.8833 - accuracy: 0.5198\n",
      "30/30 [==============================] - 0s 675us/step\n",
      "120/120 [==============================] - 0s 630us/step\n"
     ]
    },
    {
     "name": "stderr",
     "output_type": "stream",
     "text": [
      "Generating ensemble training data: |██        | 20%"
     ]
    },
    {
     "name": "stdout",
     "output_type": "stream",
     "text": [
      "Epoch 1/10\n",
      "212/212 [==============================] - 0s 975us/step - loss: 24.0481 - accuracy: 0.5184\n",
      "Epoch 2/10\n",
      "212/212 [==============================] - 0s 970us/step - loss: 6.8391 - accuracy: 0.5326\n",
      "Epoch 3/10\n",
      "212/212 [==============================] - 0s 999us/step - loss: 3.5214 - accuracy: 0.5369\n",
      "Epoch 4/10\n",
      "212/212 [==============================] - 0s 1ms/step - loss: 3.6353 - accuracy: 0.5170\n",
      "Epoch 5/10\n",
      "212/212 [==============================] - 0s 1ms/step - loss: 1.8025 - accuracy: 0.5288\n",
      "Epoch 6/10\n",
      "212/212 [==============================] - 0s 985us/step - loss: 1.3699 - accuracy: 0.5397\n",
      "Epoch 7/10\n",
      "212/212 [==============================] - 0s 994us/step - loss: 0.9812 - accuracy: 0.4962\n",
      "Epoch 8/10\n",
      "212/212 [==============================] - 0s 1ms/step - loss: 1.0368 - accuracy: 0.5274\n",
      "Epoch 9/10\n",
      "212/212 [==============================] - 0s 999us/step - loss: 1.0911 - accuracy: 0.5009\n",
      "Epoch 10/10\n",
      "212/212 [==============================] - 0s 993us/step - loss: 0.8719 - accuracy: 0.5019\n",
      "30/30 [==============================] - 0s 689us/step\n",
      "120/120 [==============================] - 0s 671us/step\n"
     ]
    },
    {
     "name": "stderr",
     "output_type": "stream",
     "text": [
      "Generating ensemble training data: |████      | 40%"
     ]
    },
    {
     "name": "stdout",
     "output_type": "stream",
     "text": [
      "Epoch 1/10\n",
      "212/212 [==============================] - 0s 995us/step - loss: 26.6496 - accuracy: 0.5066\n",
      "Epoch 2/10\n",
      "212/212 [==============================] - 0s 995us/step - loss: 5.7178 - accuracy: 0.5123\n",
      "Epoch 3/10\n",
      "212/212 [==============================] - 0s 990us/step - loss: 3.3608 - accuracy: 0.5184\n",
      "Epoch 4/10\n",
      "212/212 [==============================] - 0s 986us/step - loss: 2.5137 - accuracy: 0.5265\n",
      "Epoch 5/10\n",
      "212/212 [==============================] - 0s 999us/step - loss: 2.0808 - accuracy: 0.5232\n",
      "Epoch 6/10\n",
      "212/212 [==============================] - 0s 990us/step - loss: 2.0694 - accuracy: 0.5331\n",
      "Epoch 7/10\n",
      "212/212 [==============================] - 0s 991us/step - loss: 1.6057 - accuracy: 0.5241\n",
      "Epoch 8/10\n",
      "212/212 [==============================] - 0s 992us/step - loss: 1.1885 - accuracy: 0.5515\n",
      "Epoch 9/10\n",
      "212/212 [==============================] - 0s 988us/step - loss: 1.2345 - accuracy: 0.5388\n",
      "Epoch 10/10\n",
      "212/212 [==============================] - 0s 990us/step - loss: 1.0505 - accuracy: 0.5383\n",
      "30/30 [==============================] - 0s 697us/step\n",
      "120/120 [==============================] - 0s 650us/step\n"
     ]
    },
    {
     "name": "stderr",
     "output_type": "stream",
     "text": [
      "Generating ensemble training data: |██████    | 60%"
     ]
    },
    {
     "name": "stdout",
     "output_type": "stream",
     "text": [
      "Epoch 1/10\n",
      "212/212 [==============================] - 0s 974us/step - loss: 24.9200 - accuracy: 0.4910\n",
      "Epoch 2/10\n",
      "212/212 [==============================] - 0s 1ms/step - loss: 7.3480 - accuracy: 0.5142\n",
      "Epoch 3/10\n",
      "212/212 [==============================] - 0s 972us/step - loss: 3.8058 - accuracy: 0.5420\n",
      "Epoch 4/10\n",
      "212/212 [==============================] - 0s 971us/step - loss: 2.8200 - accuracy: 0.5392\n",
      "Epoch 5/10\n",
      "212/212 [==============================] - 0s 957us/step - loss: 2.2582 - accuracy: 0.5175\n",
      "Epoch 6/10\n",
      "212/212 [==============================] - 0s 962us/step - loss: 1.6068 - accuracy: 0.5236\n",
      "Epoch 7/10\n",
      "212/212 [==============================] - 0s 977us/step - loss: 1.4526 - accuracy: 0.5354\n",
      "Epoch 8/10\n",
      "212/212 [==============================] - 0s 1ms/step - loss: 1.4254 - accuracy: 0.5227\n",
      "Epoch 9/10\n",
      "212/212 [==============================] - 0s 982us/step - loss: 0.9966 - accuracy: 0.5392\n",
      "Epoch 10/10\n",
      "212/212 [==============================] - 0s 957us/step - loss: 0.8690 - accuracy: 0.5500\n",
      "30/30 [==============================] - 0s 665us/step\n",
      "120/120 [==============================] - 0s 643us/step\n"
     ]
    },
    {
     "name": "stderr",
     "output_type": "stream",
     "text": [
      "Generating ensemble training data: |████████  | 80%"
     ]
    },
    {
     "name": "stdout",
     "output_type": "stream",
     "text": [
      "Epoch 1/10\n",
      "212/212 [==============================] - 0s 982us/step - loss: 23.4539 - accuracy: 0.5038\n",
      "Epoch 2/10\n",
      "212/212 [==============================] - 0s 1ms/step - loss: 4.9108 - accuracy: 0.5227\n",
      "Epoch 3/10\n",
      "212/212 [==============================] - 0s 989us/step - loss: 2.4611 - accuracy: 0.5241\n",
      "Epoch 4/10\n",
      "212/212 [==============================] - 0s 975us/step - loss: 1.7710 - accuracy: 0.5387\n",
      "Epoch 5/10\n",
      "212/212 [==============================] - 0s 959us/step - loss: 1.3138 - accuracy: 0.5038\n",
      "Epoch 6/10\n",
      "212/212 [==============================] - 0s 968us/step - loss: 1.1684 - accuracy: 0.5156\n",
      "Epoch 7/10\n",
      "212/212 [==============================] - 0s 963us/step - loss: 1.0023 - accuracy: 0.5009\n",
      "Epoch 8/10\n",
      "212/212 [==============================] - 0s 960us/step - loss: 0.9619 - accuracy: 0.5090\n",
      "Epoch 9/10\n",
      "212/212 [==============================] - 0s 972us/step - loss: 0.8037 - accuracy: 0.5104\n",
      "Epoch 10/10\n",
      "212/212 [==============================] - 0s 972us/step - loss: 0.8127 - accuracy: 0.5113\n",
      "30/30 [==============================] - 0s 686us/step\n",
      "120/120 [==============================] - 0s 644us/step\n"
     ]
    },
    {
     "name": "stderr",
     "output_type": "stream",
     "text": [
      "Generating ensemble training data: |██████████|100%\n",
      "Generating ensemble training data: |          |  0%"
     ]
    },
    {
     "name": "stdout",
     "output_type": "stream",
     "text": [
      "Epoch 1/10\n",
      "212/212 [==============================] - 0s 896us/step - loss: 10.9152 - accuracy: 0.6139\n",
      "Epoch 2/10\n",
      "212/212 [==============================] - 0s 901us/step - loss: 4.9839 - accuracy: 0.6281\n",
      "Epoch 3/10\n",
      "212/212 [==============================] - 0s 894us/step - loss: 3.4389 - accuracy: 0.6248\n",
      "Epoch 4/10\n",
      "212/212 [==============================] - 0s 974us/step - loss: 4.3254 - accuracy: 0.6101\n",
      "Epoch 5/10\n",
      "212/212 [==============================] - 0s 882us/step - loss: 3.4669 - accuracy: 0.6389\n",
      "Epoch 6/10\n",
      "212/212 [==============================] - 0s 882us/step - loss: 2.1494 - accuracy: 0.6479\n",
      "Epoch 7/10\n",
      "212/212 [==============================] - 0s 887us/step - loss: 1.9852 - accuracy: 0.6295\n",
      "Epoch 8/10\n",
      "212/212 [==============================] - 0s 889us/step - loss: 2.0529 - accuracy: 0.6526\n",
      "Epoch 9/10\n",
      "212/212 [==============================] - 0s 887us/step - loss: 1.9034 - accuracy: 0.6446\n",
      "Epoch 10/10\n",
      "212/212 [==============================] - 0s 884us/step - loss: 1.7225 - accuracy: 0.6517\n",
      "30/30 [==============================] - 0s 670us/step\n",
      "120/120 [==============================] - 0s 648us/step\n"
     ]
    },
    {
     "name": "stderr",
     "output_type": "stream",
     "text": [
      "Generating ensemble training data: |██        | 20%"
     ]
    },
    {
     "name": "stdout",
     "output_type": "stream",
     "text": [
      "Epoch 1/10\n",
      "212/212 [==============================] - 0s 885us/step - loss: 12.8715 - accuracy: 0.6290\n",
      "Epoch 2/10\n",
      "212/212 [==============================] - 0s 872us/step - loss: 4.7930 - accuracy: 0.6267\n",
      "Epoch 3/10\n",
      "212/212 [==============================] - 0s 884us/step - loss: 3.5130 - accuracy: 0.6432\n",
      "Epoch 4/10\n",
      "212/212 [==============================] - 0s 870us/step - loss: 2.8836 - accuracy: 0.6484\n",
      "Epoch 5/10\n",
      "212/212 [==============================] - 0s 867us/step - loss: 3.2215 - accuracy: 0.6290\n",
      "Epoch 6/10\n",
      "212/212 [==============================] - 0s 875us/step - loss: 1.9731 - accuracy: 0.6578\n",
      "Epoch 7/10\n",
      "212/212 [==============================] - 0s 877us/step - loss: 1.4730 - accuracy: 0.6701\n",
      "Epoch 8/10\n",
      "212/212 [==============================] - 0s 878us/step - loss: 2.0847 - accuracy: 0.6541\n",
      "Epoch 9/10\n",
      "212/212 [==============================] - 0s 873us/step - loss: 2.5724 - accuracy: 0.6380\n",
      "Epoch 10/10\n",
      "212/212 [==============================] - 0s 878us/step - loss: 1.7885 - accuracy: 0.6730\n",
      "30/30 [==============================] - 0s 677us/step\n",
      "120/120 [==============================] - 0s 642us/step\n"
     ]
    },
    {
     "name": "stderr",
     "output_type": "stream",
     "text": [
      "Generating ensemble training data: |████      | 40%"
     ]
    },
    {
     "name": "stdout",
     "output_type": "stream",
     "text": [
      "Epoch 1/10\n",
      "212/212 [==============================] - 0s 876us/step - loss: 11.5841 - accuracy: 0.6087\n",
      "Epoch 2/10\n",
      "212/212 [==============================] - 0s 876us/step - loss: 4.7397 - accuracy: 0.6200\n",
      "Epoch 3/10\n",
      "212/212 [==============================] - 0s 869us/step - loss: 4.3338 - accuracy: 0.6257\n",
      "Epoch 4/10\n",
      "212/212 [==============================] - 0s 878us/step - loss: 2.6726 - accuracy: 0.6347\n",
      "Epoch 5/10\n",
      "212/212 [==============================] - 0s 891us/step - loss: 3.5329 - accuracy: 0.6337\n",
      "Epoch 6/10\n",
      "212/212 [==============================] - 0s 879us/step - loss: 2.9887 - accuracy: 0.6328\n",
      "Epoch 7/10\n",
      "212/212 [==============================] - 0s 884us/step - loss: 3.2943 - accuracy: 0.6375\n",
      "Epoch 8/10\n",
      "212/212 [==============================] - 0s 876us/step - loss: 3.7331 - accuracy: 0.6304\n",
      "Epoch 9/10\n",
      "212/212 [==============================] - 0s 885us/step - loss: 2.0594 - accuracy: 0.6470\n",
      "Epoch 10/10\n",
      "212/212 [==============================] - 0s 897us/step - loss: 1.8462 - accuracy: 0.6588\n",
      "30/30 [==============================] - 0s 674us/step\n",
      "120/120 [==============================] - 0s 665us/step\n"
     ]
    },
    {
     "name": "stderr",
     "output_type": "stream",
     "text": [
      "Generating ensemble training data: |██████    | 60%"
     ]
    },
    {
     "name": "stdout",
     "output_type": "stream",
     "text": [
      "Epoch 1/10\n",
      "212/212 [==============================] - 0s 893us/step - loss: 9.5508 - accuracy: 0.6232\n",
      "Epoch 2/10\n",
      "212/212 [==============================] - 0s 894us/step - loss: 3.7653 - accuracy: 0.6327\n",
      "Epoch 3/10\n",
      "212/212 [==============================] - 0s 913us/step - loss: 3.1709 - accuracy: 0.6435\n",
      "Epoch 4/10\n",
      "212/212 [==============================] - 0s 913us/step - loss: 2.1687 - accuracy: 0.6525\n",
      "Epoch 5/10\n",
      "212/212 [==============================] - 0s 913us/step - loss: 2.9252 - accuracy: 0.6261\n",
      "Epoch 6/10\n",
      "212/212 [==============================] - 0s 914us/step - loss: 2.5649 - accuracy: 0.6435\n",
      "Epoch 7/10\n",
      "212/212 [==============================] - 0s 919us/step - loss: 1.9763 - accuracy: 0.6468\n",
      "Epoch 8/10\n",
      "212/212 [==============================] - 0s 929us/step - loss: 2.2621 - accuracy: 0.6383\n",
      "Epoch 9/10\n",
      "212/212 [==============================] - 0s 917us/step - loss: 2.8756 - accuracy: 0.6379\n",
      "Epoch 10/10\n",
      "212/212 [==============================] - 0s 913us/step - loss: 2.1412 - accuracy: 0.6511\n",
      "30/30 [==============================] - 0s 669us/step\n",
      "120/120 [==============================] - 0s 682us/step\n"
     ]
    },
    {
     "name": "stderr",
     "output_type": "stream",
     "text": [
      "Generating ensemble training data: |████████  | 80%"
     ]
    },
    {
     "name": "stdout",
     "output_type": "stream",
     "text": [
      "Epoch 1/10\n",
      "212/212 [==============================] - 0s 912us/step - loss: 9.5958 - accuracy: 0.6261\n",
      "Epoch 2/10\n",
      "212/212 [==============================] - 0s 901us/step - loss: 4.5290 - accuracy: 0.6218\n",
      "Epoch 3/10\n",
      "212/212 [==============================] - 0s 896us/step - loss: 3.9933 - accuracy: 0.6317\n",
      "Epoch 4/10\n",
      "212/212 [==============================] - 0s 902us/step - loss: 2.9816 - accuracy: 0.6346\n",
      "Epoch 5/10\n",
      "212/212 [==============================] - 0s 901us/step - loss: 2.1758 - accuracy: 0.6454\n",
      "Epoch 6/10\n",
      "212/212 [==============================] - 0s 899us/step - loss: 1.9712 - accuracy: 0.6388\n",
      "Epoch 7/10\n",
      "212/212 [==============================] - 0s 904us/step - loss: 2.3598 - accuracy: 0.6454\n",
      "Epoch 8/10\n",
      "212/212 [==============================] - 0s 909us/step - loss: 2.1773 - accuracy: 0.6530\n",
      "Epoch 9/10\n",
      "212/212 [==============================] - 0s 908us/step - loss: 1.7567 - accuracy: 0.6421\n",
      "Epoch 10/10\n",
      "212/212 [==============================] - 0s 914us/step - loss: 2.0866 - accuracy: 0.6412\n",
      "30/30 [==============================] - 0s 712us/step\n",
      "120/120 [==============================] - 0s 682us/step\n"
     ]
    },
    {
     "name": "stderr",
     "output_type": "stream",
     "text": [
      "Generating ensemble training data: |██████████|100%\n",
      "Generating ensemble training data: |          |  0%"
     ]
    },
    {
     "name": "stdout",
     "output_type": "stream",
     "text": [
      "Epoch 1/10\n",
      "212/212 [==============================] - 0s 939us/step - loss: 4.9414 - accuracy: 0.5629\n",
      "Epoch 2/10\n",
      "212/212 [==============================] - 0s 949us/step - loss: 1.0106 - accuracy: 0.6285\n",
      "Epoch 3/10\n",
      "212/212 [==============================] - 0s 945us/step - loss: 0.6929 - accuracy: 0.6626\n",
      "Epoch 4/10\n",
      "212/212 [==============================] - 0s 937us/step - loss: 0.7080 - accuracy: 0.6465\n",
      "Epoch 5/10\n",
      "212/212 [==============================] - 0s 1ms/step - loss: 0.8255 - accuracy: 0.6564\n",
      "Epoch 6/10\n",
      "212/212 [==============================] - 0s 900us/step - loss: 0.8597 - accuracy: 0.6300\n",
      "Epoch 7/10\n",
      "212/212 [==============================] - 0s 901us/step - loss: 0.6390 - accuracy: 0.6749\n",
      "Epoch 8/10\n",
      "212/212 [==============================] - 0s 920us/step - loss: 0.6473 - accuracy: 0.6805\n",
      "Epoch 9/10\n",
      "212/212 [==============================] - 0s 916us/step - loss: 0.6084 - accuracy: 0.6687\n",
      "Epoch 10/10\n",
      "212/212 [==============================] - 0s 917us/step - loss: 0.6125 - accuracy: 0.6730\n",
      "30/30 [==============================] - 0s 668us/step\n",
      "120/120 [==============================] - 0s 674us/step\n"
     ]
    },
    {
     "name": "stderr",
     "output_type": "stream",
     "text": [
      "Generating ensemble training data: |██        | 20%"
     ]
    },
    {
     "name": "stdout",
     "output_type": "stream",
     "text": [
      "Epoch 1/10\n",
      "212/212 [==============================] - 0s 926us/step - loss: 6.8601 - accuracy: 0.5803\n",
      "Epoch 2/10\n",
      "212/212 [==============================] - 0s 931us/step - loss: 2.7039 - accuracy: 0.6233\n",
      "Epoch 3/10\n",
      "212/212 [==============================] - 0s 933us/step - loss: 1.3407 - accuracy: 0.6607\n",
      "Epoch 4/10\n",
      "212/212 [==============================] - 0s 924us/step - loss: 1.4401 - accuracy: 0.6413\n",
      "Epoch 5/10\n",
      "212/212 [==============================] - 0s 915us/step - loss: 0.8019 - accuracy: 0.6550\n",
      "Epoch 6/10\n",
      "212/212 [==============================] - 0s 944us/step - loss: 0.6314 - accuracy: 0.6971\n",
      "Epoch 7/10\n",
      "212/212 [==============================] - 0s 945us/step - loss: 0.6465 - accuracy: 0.6876\n",
      "Epoch 8/10\n",
      "212/212 [==============================] - 0s 925us/step - loss: 0.6228 - accuracy: 0.7075\n",
      "Epoch 9/10\n",
      "212/212 [==============================] - 0s 934us/step - loss: 0.5892 - accuracy: 0.7169\n",
      "Epoch 10/10\n",
      "212/212 [==============================] - 0s 930us/step - loss: 0.5749 - accuracy: 0.7032\n",
      "30/30 [==============================] - 0s 712us/step\n",
      "120/120 [==============================] - 0s 666us/step\n"
     ]
    },
    {
     "name": "stderr",
     "output_type": "stream",
     "text": [
      "Generating ensemble training data: |████      | 40%"
     ]
    },
    {
     "name": "stdout",
     "output_type": "stream",
     "text": [
      "Epoch 1/10\n",
      "212/212 [==============================] - 0s 952us/step - loss: 5.8192 - accuracy: 0.5922\n",
      "Epoch 2/10\n",
      "212/212 [==============================] - 0s 941us/step - loss: 2.1401 - accuracy: 0.5926\n",
      "Epoch 3/10\n",
      "212/212 [==============================] - 0s 971us/step - loss: 0.9257 - accuracy: 0.6541\n",
      "Epoch 4/10\n",
      "212/212 [==============================] - 0s 954us/step - loss: 0.8146 - accuracy: 0.6635\n",
      "Epoch 5/10\n",
      "212/212 [==============================] - 0s 944us/step - loss: 0.8252 - accuracy: 0.6744\n",
      "Epoch 6/10\n",
      "212/212 [==============================] - 0s 939us/step - loss: 0.7309 - accuracy: 0.6796\n",
      "Epoch 7/10\n",
      "212/212 [==============================] - 0s 945us/step - loss: 0.6892 - accuracy: 0.6673\n",
      "Epoch 8/10\n",
      "212/212 [==============================] - 0s 939us/step - loss: 0.6348 - accuracy: 0.6853\n",
      "Epoch 9/10\n",
      "212/212 [==============================] - 0s 944us/step - loss: 0.5967 - accuracy: 0.6876\n",
      "Epoch 10/10\n",
      "212/212 [==============================] - 0s 939us/step - loss: 0.5855 - accuracy: 0.7009\n",
      "30/30 [==============================] - 0s 720us/step\n",
      "120/120 [==============================] - 0s 677us/step\n"
     ]
    },
    {
     "name": "stderr",
     "output_type": "stream",
     "text": [
      "Generating ensemble training data: |██████    | 60%"
     ]
    },
    {
     "name": "stdout",
     "output_type": "stream",
     "text": [
      "Epoch 1/10\n",
      "212/212 [==============================] - 0s 954us/step - loss: 5.1073 - accuracy: 0.5855\n",
      "Epoch 2/10\n",
      "212/212 [==============================] - 0s 948us/step - loss: 1.3737 - accuracy: 0.6119\n",
      "Epoch 3/10\n",
      "212/212 [==============================] - 0s 937us/step - loss: 0.9621 - accuracy: 0.6062\n",
      "Epoch 4/10\n",
      "212/212 [==============================] - 0s 958us/step - loss: 0.8096 - accuracy: 0.6275\n",
      "Epoch 5/10\n",
      "212/212 [==============================] - 0s 937us/step - loss: 0.7515 - accuracy: 0.6492\n",
      "Epoch 6/10\n",
      "212/212 [==============================] - 0s 931us/step - loss: 0.6433 - accuracy: 0.6700\n",
      "Epoch 7/10\n",
      "212/212 [==============================] - 0s 933us/step - loss: 0.6138 - accuracy: 0.6737\n",
      "Epoch 8/10\n",
      "212/212 [==============================] - 0s 932us/step - loss: 0.5877 - accuracy: 0.6907\n",
      "Epoch 9/10\n",
      "212/212 [==============================] - 0s 927us/step - loss: 0.5768 - accuracy: 0.6870\n",
      "Epoch 10/10\n",
      "212/212 [==============================] - 0s 940us/step - loss: 0.6317 - accuracy: 0.6856\n",
      "30/30 [==============================] - 0s 682us/step\n",
      "120/120 [==============================] - 0s 684us/step\n"
     ]
    },
    {
     "name": "stderr",
     "output_type": "stream",
     "text": [
      "Generating ensemble training data: |████████  | 80%"
     ]
    },
    {
     "name": "stdout",
     "output_type": "stream",
     "text": [
      "Epoch 1/10\n",
      "212/212 [==============================] - 0s 934us/step - loss: 7.6012 - accuracy: 0.5515\n",
      "Epoch 2/10\n",
      "212/212 [==============================] - 0s 924us/step - loss: 1.9198 - accuracy: 0.5916\n",
      "Epoch 3/10\n",
      "212/212 [==============================] - 0s 939us/step - loss: 1.2784 - accuracy: 0.6313\n",
      "Epoch 4/10\n",
      "212/212 [==============================] - 0s 929us/step - loss: 0.8011 - accuracy: 0.6634\n",
      "Epoch 5/10\n",
      "212/212 [==============================] - 0s 944us/step - loss: 0.7371 - accuracy: 0.6577\n",
      "Epoch 6/10\n",
      "212/212 [==============================] - 0s 936us/step - loss: 0.7042 - accuracy: 0.6874\n",
      "Epoch 7/10\n",
      "212/212 [==============================] - 0s 919us/step - loss: 0.6279 - accuracy: 0.6813\n",
      "Epoch 8/10\n",
      "212/212 [==============================] - 0s 927us/step - loss: 0.6202 - accuracy: 0.6988\n",
      "Epoch 9/10\n",
      "212/212 [==============================] - 0s 936us/step - loss: 0.6435 - accuracy: 0.6799\n",
      "Epoch 10/10\n",
      "212/212 [==============================] - 0s 929us/step - loss: 0.7048 - accuracy: 0.6667\n",
      "30/30 [==============================] - 0s 681us/step\n",
      "120/120 [==============================] - 0s 647us/step\n"
     ]
    },
    {
     "name": "stderr",
     "output_type": "stream",
     "text": [
      "Generating ensemble training data: |██████████|100%"
     ]
    },
    {
     "name": "stdout",
     "output_type": "stream",
     "text": [
      "\n"
     ]
    },
    {
     "name": "stderr",
     "output_type": "stream",
     "text": [
      "\n"
     ]
    },
    {
     "name": "stdout",
     "output_type": "stream",
     "text": [
      "\n",
      "Training base predictors on vitals...\n",
      "        \n",
      "... for ensemble performance analysis...\n"
     ]
    },
    {
     "name": "stderr",
     "output_type": "stream",
     "text": [
      "Generating ensemble training data: |██████████|100%\n",
      "Generating ensemble test data: |██████████|100%\n"
     ]
    },
    {
     "name": "stdout",
     "output_type": "stream",
     "text": [
      "\n",
      "\n"
     ]
    },
    {
     "name": "stderr",
     "output_type": "stream",
     "text": [
      "Analyzing ensembles: |██████████|100%\n"
     ]
    },
    {
     "name": "stdout",
     "output_type": "stream",
     "text": [
      "DONE WITH MODALITY labs YAYYYY!!!!\n",
      "Training base predictors on vitals...\n",
      "        \n",
      "... for ensemble performance analysis...\n"
     ]
    },
    {
     "name": "stderr",
     "output_type": "stream",
     "text": [
      "Generating ensemble training data: |██████████|100%\n",
      "Generating ensemble test data: |██████████|100%\n"
     ]
    },
    {
     "name": "stdout",
     "output_type": "stream",
     "text": [
      "\n",
      "\n"
     ]
    },
    {
     "name": "stderr",
     "output_type": "stream",
     "text": [
      "Analyzing ensembles: |██████████|100%\n"
     ]
    },
    {
     "name": "stdout",
     "output_type": "stream",
     "text": [
      "Training base predictors on vitals...\n",
      "        \n",
      "... for ensemble performance analysis...\n"
     ]
    },
    {
     "name": "stderr",
     "output_type": "stream",
     "text": [
      "Generating ensemble training data: |          |  0%"
     ]
    },
    {
     "name": "stdout",
     "output_type": "stream",
     "text": [
      "Epoch 1/10\n",
      "212/212 [==============================] - 1s 991us/step - loss: 1.1188 - accuracy: 0.5491\n",
      "Epoch 2/10\n",
      "212/212 [==============================] - 0s 848us/step - loss: 0.9526 - accuracy: 0.5591\n",
      "Epoch 3/10\n",
      "212/212 [==============================] - 0s 841us/step - loss: 0.8093 - accuracy: 0.5756\n",
      "Epoch 4/10\n",
      "212/212 [==============================] - 0s 836us/step - loss: 0.7430 - accuracy: 0.5709\n",
      "Epoch 5/10\n",
      "212/212 [==============================] - 0s 828us/step - loss: 0.7578 - accuracy: 0.5822\n",
      "Epoch 6/10\n",
      "212/212 [==============================] - 0s 830us/step - loss: 0.7742 - accuracy: 0.5936\n",
      "Epoch 7/10\n",
      "212/212 [==============================] - 0s 835us/step - loss: 0.7321 - accuracy: 0.5879\n",
      "Epoch 8/10\n",
      "212/212 [==============================] - 0s 830us/step - loss: 0.7155 - accuracy: 0.5893\n",
      "Epoch 9/10\n",
      "212/212 [==============================] - 0s 827us/step - loss: 0.7209 - accuracy: 0.6016\n",
      "Epoch 10/10\n",
      "212/212 [==============================] - 0s 825us/step - loss: 0.7317 - accuracy: 0.5818\n",
      "30/30 [==============================] - 0s 703us/step\n",
      "120/120 [==============================] - 0s 649us/step\n"
     ]
    },
    {
     "name": "stderr",
     "output_type": "stream",
     "text": [
      "Generating ensemble training data: |██        | 20%"
     ]
    },
    {
     "name": "stdout",
     "output_type": "stream",
     "text": [
      "Epoch 1/10\n",
      "212/212 [==============================] - 0s 863us/step - loss: 1.3763 - accuracy: 0.5647\n",
      "Epoch 2/10\n",
      "212/212 [==============================] - 0s 863us/step - loss: 0.8041 - accuracy: 0.5870\n",
      "Epoch 3/10\n",
      "212/212 [==============================] - 0s 884us/step - loss: 0.7829 - accuracy: 0.5803\n",
      "Epoch 4/10\n",
      "212/212 [==============================] - 0s 886us/step - loss: 0.7543 - accuracy: 0.5794\n",
      "Epoch 5/10\n",
      "212/212 [==============================] - 0s 885us/step - loss: 0.7632 - accuracy: 0.5789\n",
      "Epoch 6/10\n",
      "212/212 [==============================] - 0s 880us/step - loss: 0.7084 - accuracy: 0.5922\n",
      "Epoch 7/10\n",
      "212/212 [==============================] - 0s 880us/step - loss: 0.7385 - accuracy: 0.5870\n",
      "Epoch 8/10\n",
      "212/212 [==============================] - 0s 871us/step - loss: 0.7248 - accuracy: 0.6026\n",
      "Epoch 9/10\n",
      "212/212 [==============================] - 0s 879us/step - loss: 0.7219 - accuracy: 0.5893\n",
      "Epoch 10/10\n",
      "212/212 [==============================] - 0s 883us/step - loss: 0.7194 - accuracy: 0.5870\n",
      "30/30 [==============================] - 0s 660us/step\n",
      "120/120 [==============================] - 0s 626us/step\n"
     ]
    },
    {
     "name": "stderr",
     "output_type": "stream",
     "text": [
      "Generating ensemble training data: |████      | 40%"
     ]
    },
    {
     "name": "stdout",
     "output_type": "stream",
     "text": [
      "Epoch 1/10\n",
      "212/212 [==============================] - 0s 871us/step - loss: 1.0722 - accuracy: 0.5619\n",
      "Epoch 2/10\n",
      "212/212 [==============================] - 0s 862us/step - loss: 0.7411 - accuracy: 0.5936\n",
      "Epoch 3/10\n",
      "212/212 [==============================] - 0s 883us/step - loss: 0.7270 - accuracy: 0.6186\n",
      "Epoch 4/10\n",
      "212/212 [==============================] - 0s 863us/step - loss: 0.7070 - accuracy: 0.6073\n",
      "Epoch 5/10\n",
      "212/212 [==============================] - 0s 871us/step - loss: 0.7859 - accuracy: 0.5775\n",
      "Epoch 6/10\n",
      "212/212 [==============================] - 0s 845us/step - loss: 0.7616 - accuracy: 0.5870\n",
      "Epoch 7/10\n",
      "212/212 [==============================] - 0s 843us/step - loss: 0.7245 - accuracy: 0.6068\n",
      "Epoch 8/10\n",
      "212/212 [==============================] - 0s 842us/step - loss: 0.7070 - accuracy: 0.6035\n",
      "Epoch 9/10\n",
      "212/212 [==============================] - 0s 847us/step - loss: 0.6914 - accuracy: 0.6096\n",
      "Epoch 10/10\n",
      "212/212 [==============================] - 0s 848us/step - loss: 0.7001 - accuracy: 0.6129\n",
      "30/30 [==============================] - 0s 637us/step\n",
      "120/120 [==============================] - 0s 637us/step\n"
     ]
    },
    {
     "name": "stderr",
     "output_type": "stream",
     "text": [
      "Generating ensemble training data: |██████    | 60%"
     ]
    },
    {
     "name": "stdout",
     "output_type": "stream",
     "text": [
      "Epoch 1/10\n",
      "212/212 [==============================] - 0s 849us/step - loss: 1.1583 - accuracy: 0.5590\n",
      "Epoch 2/10\n",
      "212/212 [==============================] - 0s 848us/step - loss: 0.8165 - accuracy: 0.5911\n",
      "Epoch 3/10\n",
      "212/212 [==============================] - 0s 872us/step - loss: 0.6854 - accuracy: 0.6048\n",
      "Epoch 4/10\n",
      "212/212 [==============================] - 0s 845us/step - loss: 0.7390 - accuracy: 0.5916\n",
      "Epoch 5/10\n",
      "212/212 [==============================] - 0s 835us/step - loss: 0.7346 - accuracy: 0.5892\n",
      "Epoch 6/10\n",
      "212/212 [==============================] - 0s 835us/step - loss: 0.7849 - accuracy: 0.5685\n",
      "Epoch 7/10\n",
      "212/212 [==============================] - 0s 834us/step - loss: 0.7050 - accuracy: 0.6128\n",
      "Epoch 8/10\n",
      "212/212 [==============================] - 0s 830us/step - loss: 0.7154 - accuracy: 0.6076\n",
      "Epoch 9/10\n",
      "212/212 [==============================] - 0s 830us/step - loss: 0.7034 - accuracy: 0.6006\n",
      "Epoch 10/10\n",
      "212/212 [==============================] - 0s 846us/step - loss: 0.6738 - accuracy: 0.6251\n",
      "30/30 [==============================] - 0s 656us/step\n",
      "120/120 [==============================] - 0s 619us/step\n"
     ]
    },
    {
     "name": "stderr",
     "output_type": "stream",
     "text": [
      "Generating ensemble training data: |████████  | 80%"
     ]
    },
    {
     "name": "stdout",
     "output_type": "stream",
     "text": [
      "Epoch 1/10\n",
      "212/212 [==============================] - 0s 863us/step - loss: 1.1220 - accuracy: 0.5713\n",
      "Epoch 2/10\n",
      "212/212 [==============================] - 0s 857us/step - loss: 0.7634 - accuracy: 0.6034\n",
      "Epoch 3/10\n",
      "212/212 [==============================] - 0s 826us/step - loss: 0.7508 - accuracy: 0.5954\n",
      "Epoch 4/10\n",
      "212/212 [==============================] - 0s 838us/step - loss: 0.7028 - accuracy: 0.6114\n",
      "Epoch 5/10\n",
      "212/212 [==============================] - 0s 852us/step - loss: 0.6998 - accuracy: 0.5973\n",
      "Epoch 6/10\n",
      "212/212 [==============================] - 0s 884us/step - loss: 0.6792 - accuracy: 0.6143\n",
      "Epoch 7/10\n",
      "212/212 [==============================] - 0s 831us/step - loss: 0.6867 - accuracy: 0.6190\n",
      "Epoch 8/10\n",
      "212/212 [==============================] - 0s 826us/step - loss: 0.7745 - accuracy: 0.6020\n",
      "Epoch 9/10\n",
      "212/212 [==============================] - 0s 835us/step - loss: 0.7258 - accuracy: 0.5888\n",
      "Epoch 10/10\n",
      "212/212 [==============================] - 0s 838us/step - loss: 0.7051 - accuracy: 0.5921\n",
      "30/30 [==============================] - 0s 630us/step\n",
      "120/120 [==============================] - 0s 612us/step\n"
     ]
    },
    {
     "name": "stderr",
     "output_type": "stream",
     "text": [
      "Generating ensemble training data: |██████████|100%\n",
      "Generating ensemble training data: |          |  0%"
     ]
    },
    {
     "name": "stdout",
     "output_type": "stream",
     "text": [
      "Epoch 1/10\n",
      "212/212 [==============================] - 1s 1ms/step - loss: 4.6190 - accuracy: 0.5085\n",
      "Epoch 2/10\n",
      "212/212 [==============================] - 0s 955us/step - loss: 1.4604 - accuracy: 0.5052\n",
      "Epoch 3/10\n",
      "212/212 [==============================] - 0s 943us/step - loss: 0.8652 - accuracy: 0.5213\n",
      "Epoch 4/10\n",
      "212/212 [==============================] - 0s 959us/step - loss: 0.7968 - accuracy: 0.4905\n",
      "Epoch 5/10\n",
      "212/212 [==============================] - 0s 934us/step - loss: 0.7230 - accuracy: 0.5142\n",
      "Epoch 6/10\n",
      "212/212 [==============================] - 0s 933us/step - loss: 0.7278 - accuracy: 0.5104\n",
      "Epoch 7/10\n",
      "212/212 [==============================] - 0s 942us/step - loss: 0.7175 - accuracy: 0.5095\n",
      "Epoch 8/10\n",
      "212/212 [==============================] - 0s 944us/step - loss: 0.7162 - accuracy: 0.5184\n",
      "Epoch 9/10\n",
      "212/212 [==============================] - 0s 934us/step - loss: 0.7043 - accuracy: 0.5203\n",
      "Epoch 10/10\n",
      "212/212 [==============================] - 0s 944us/step - loss: 0.7036 - accuracy: 0.5250\n",
      "30/30 [==============================] - 0s 685us/step\n",
      "120/120 [==============================] - 0s 634us/step\n"
     ]
    },
    {
     "name": "stderr",
     "output_type": "stream",
     "text": [
      "Generating ensemble training data: |██        | 20%"
     ]
    },
    {
     "name": "stdout",
     "output_type": "stream",
     "text": [
      "Epoch 1/10\n",
      "212/212 [==============================] - 0s 963us/step - loss: 2.6735 - accuracy: 0.5005\n",
      "Epoch 2/10\n",
      "212/212 [==============================] - 0s 946us/step - loss: 0.7719 - accuracy: 0.5123\n",
      "Epoch 3/10\n",
      "212/212 [==============================] - 0s 943us/step - loss: 0.7296 - accuracy: 0.5085\n",
      "Epoch 4/10\n",
      "212/212 [==============================] - 0s 951us/step - loss: 0.7168 - accuracy: 0.5109\n",
      "Epoch 5/10\n",
      "212/212 [==============================] - 0s 944us/step - loss: 0.7108 - accuracy: 0.5024\n",
      "Epoch 6/10\n",
      "212/212 [==============================] - 0s 950us/step - loss: 0.7112 - accuracy: 0.5085\n",
      "Epoch 7/10\n",
      "212/212 [==============================] - 0s 942us/step - loss: 0.7062 - accuracy: 0.5047\n",
      "Epoch 8/10\n",
      "212/212 [==============================] - 0s 946us/step - loss: 0.6954 - accuracy: 0.5151\n",
      "Epoch 9/10\n",
      "212/212 [==============================] - 0s 940us/step - loss: 0.6994 - accuracy: 0.5175\n",
      "Epoch 10/10\n",
      "212/212 [==============================] - 0s 935us/step - loss: 0.6874 - accuracy: 0.5520\n",
      "30/30 [==============================] - 0s 644us/step\n",
      "120/120 [==============================] - 0s 626us/step\n"
     ]
    },
    {
     "name": "stderr",
     "output_type": "stream",
     "text": [
      "Generating ensemble training data: |████      | 40%"
     ]
    },
    {
     "name": "stdout",
     "output_type": "stream",
     "text": [
      "Epoch 1/10\n",
      "212/212 [==============================] - 0s 1ms/step - loss: 2.4094 - accuracy: 0.5066\n",
      "Epoch 2/10\n",
      "212/212 [==============================] - 0s 973us/step - loss: 0.8055 - accuracy: 0.5071\n",
      "Epoch 3/10\n",
      "212/212 [==============================] - 0s 948us/step - loss: 0.7423 - accuracy: 0.5014\n",
      "Epoch 4/10\n",
      "212/212 [==============================] - 0s 938us/step - loss: 0.7231 - accuracy: 0.5085\n",
      "Epoch 5/10\n",
      "212/212 [==============================] - 0s 933us/step - loss: 0.7066 - accuracy: 0.5194\n",
      "Epoch 6/10\n",
      "212/212 [==============================] - 0s 941us/step - loss: 0.7003 - accuracy: 0.5350\n",
      "Epoch 7/10\n",
      "212/212 [==============================] - 0s 949us/step - loss: 0.6939 - accuracy: 0.5435\n",
      "Epoch 8/10\n",
      "212/212 [==============================] - 0s 948us/step - loss: 0.6920 - accuracy: 0.5562\n",
      "Epoch 9/10\n",
      "212/212 [==============================] - 0s 934us/step - loss: 0.6850 - accuracy: 0.5515\n",
      "Epoch 10/10\n",
      "212/212 [==============================] - 0s 935us/step - loss: 0.6838 - accuracy: 0.5652\n",
      "30/30 [==============================] - 0s 653us/step\n",
      "120/120 [==============================] - 0s 614us/step\n"
     ]
    },
    {
     "name": "stderr",
     "output_type": "stream",
     "text": [
      "Generating ensemble training data: |██████    | 60%"
     ]
    },
    {
     "name": "stdout",
     "output_type": "stream",
     "text": [
      "Epoch 1/10\n",
      "212/212 [==============================] - 0s 976us/step - loss: 2.3813 - accuracy: 0.5028\n",
      "Epoch 2/10\n",
      "212/212 [==============================] - 0s 973us/step - loss: 0.7857 - accuracy: 0.5123\n",
      "Epoch 3/10\n",
      "212/212 [==============================] - 0s 969us/step - loss: 0.7318 - accuracy: 0.5231\n",
      "Epoch 4/10\n",
      "212/212 [==============================] - 0s 989us/step - loss: 0.7184 - accuracy: 0.5246\n",
      "Epoch 5/10\n",
      "212/212 [==============================] - 0s 949us/step - loss: 0.7097 - accuracy: 0.5132\n",
      "Epoch 6/10\n",
      "212/212 [==============================] - 0s 960us/step - loss: 0.7011 - accuracy: 0.5392\n",
      "Epoch 7/10\n",
      "212/212 [==============================] - 0s 960us/step - loss: 0.6973 - accuracy: 0.5449\n",
      "Epoch 8/10\n",
      "212/212 [==============================] - 0s 946us/step - loss: 0.6953 - accuracy: 0.5236\n",
      "Epoch 9/10\n",
      "212/212 [==============================] - 0s 928us/step - loss: 0.6884 - accuracy: 0.5552\n",
      "Epoch 10/10\n",
      "212/212 [==============================] - 0s 955us/step - loss: 0.6896 - accuracy: 0.5529\n",
      "30/30 [==============================] - 0s 659us/step\n",
      "120/120 [==============================] - 0s 612us/step\n"
     ]
    },
    {
     "name": "stderr",
     "output_type": "stream",
     "text": [
      "Generating ensemble training data: |████████  | 80%"
     ]
    },
    {
     "name": "stdout",
     "output_type": "stream",
     "text": [
      "Epoch 1/10\n",
      "212/212 [==============================] - 0s 964us/step - loss: 2.6596 - accuracy: 0.5038\n",
      "Epoch 2/10\n",
      "212/212 [==============================] - 0s 963us/step - loss: 0.7589 - accuracy: 0.5212\n",
      "Epoch 3/10\n",
      "212/212 [==============================] - 0s 959us/step - loss: 0.7407 - accuracy: 0.5047\n",
      "Epoch 4/10\n",
      "212/212 [==============================] - 0s 932us/step - loss: 0.7163 - accuracy: 0.5250\n",
      "Epoch 5/10\n",
      "212/212 [==============================] - 0s 940us/step - loss: 0.7071 - accuracy: 0.5118\n",
      "Epoch 6/10\n",
      "212/212 [==============================] - 0s 939us/step - loss: 0.6935 - accuracy: 0.5425\n",
      "Epoch 7/10\n",
      "212/212 [==============================] - 0s 973us/step - loss: 0.7045 - accuracy: 0.5236\n",
      "Epoch 8/10\n",
      "212/212 [==============================] - 0s 991us/step - loss: 0.6953 - accuracy: 0.5227\n",
      "Epoch 9/10\n",
      "212/212 [==============================] - 0s 988us/step - loss: 0.6812 - accuracy: 0.5633\n",
      "Epoch 10/10\n",
      "212/212 [==============================] - 0s 956us/step - loss: 0.6855 - accuracy: 0.5439\n",
      "30/30 [==============================] - 0s 662us/step\n",
      "120/120 [==============================] - 0s 637us/step\n"
     ]
    },
    {
     "name": "stderr",
     "output_type": "stream",
     "text": [
      "Generating ensemble training data: |██████████|100%\n",
      "Generating ensemble training data: |          |  0%"
     ]
    },
    {
     "name": "stdout",
     "output_type": "stream",
     "text": [
      "Epoch 1/10\n",
      "212/212 [==============================] - 1s 968us/step - loss: 3.9686 - accuracy: 0.5302\n",
      "Epoch 2/10\n",
      "212/212 [==============================] - 0s 886us/step - loss: 0.9390 - accuracy: 0.5813\n",
      "Epoch 3/10\n",
      "212/212 [==============================] - 0s 877us/step - loss: 0.8755 - accuracy: 0.5879\n",
      "Epoch 4/10\n",
      "212/212 [==============================] - 0s 876us/step - loss: 0.8097 - accuracy: 0.5992\n",
      "Epoch 5/10\n",
      "212/212 [==============================] - 0s 872us/step - loss: 0.8785 - accuracy: 0.5718\n",
      "Epoch 6/10\n",
      "212/212 [==============================] - 0s 871us/step - loss: 0.8749 - accuracy: 0.5784\n",
      "Epoch 7/10\n",
      "212/212 [==============================] - 0s 875us/step - loss: 0.8576 - accuracy: 0.5936\n",
      "Epoch 8/10\n",
      "212/212 [==============================] - 0s 879us/step - loss: 0.8752 - accuracy: 0.5747\n",
      "Epoch 9/10\n",
      "212/212 [==============================] - 0s 883us/step - loss: 0.7748 - accuracy: 0.5964\n",
      "Epoch 10/10\n",
      "212/212 [==============================] - 0s 880us/step - loss: 0.7793 - accuracy: 0.5969\n",
      "30/30 [==============================] - 0s 701us/step\n",
      "120/120 [==============================] - 0s 665us/step\n"
     ]
    },
    {
     "name": "stderr",
     "output_type": "stream",
     "text": [
      "Generating ensemble training data: |██        | 20%"
     ]
    },
    {
     "name": "stdout",
     "output_type": "stream",
     "text": [
      "Epoch 1/10\n",
      "212/212 [==============================] - 0s 926us/step - loss: 4.2948 - accuracy: 0.5317\n",
      "Epoch 2/10\n",
      "212/212 [==============================] - 0s 933us/step - loss: 0.8414 - accuracy: 0.5855\n",
      "Epoch 3/10\n",
      "212/212 [==============================] - 0s 926us/step - loss: 0.8415 - accuracy: 0.5912\n",
      "Epoch 4/10\n",
      "212/212 [==============================] - 0s 918us/step - loss: 0.7496 - accuracy: 0.6035\n",
      "Epoch 5/10\n",
      "212/212 [==============================] - 0s 919us/step - loss: 0.7964 - accuracy: 0.6007\n",
      "Epoch 6/10\n",
      "212/212 [==============================] - 0s 919us/step - loss: 0.7477 - accuracy: 0.5922\n",
      "Epoch 7/10\n",
      "212/212 [==============================] - 0s 920us/step - loss: 0.8361 - accuracy: 0.5709\n",
      "Epoch 8/10\n",
      "212/212 [==============================] - 0s 926us/step - loss: 0.8184 - accuracy: 0.5846\n",
      "Epoch 9/10\n",
      "212/212 [==============================] - 0s 926us/step - loss: 0.7199 - accuracy: 0.6011\n",
      "Epoch 10/10\n",
      "212/212 [==============================] - 0s 924us/step - loss: 0.7369 - accuracy: 0.6016\n",
      "30/30 [==============================] - 0s 680us/step\n",
      "120/120 [==============================] - 0s 624us/step\n"
     ]
    },
    {
     "name": "stderr",
     "output_type": "stream",
     "text": [
      "Generating ensemble training data: |████      | 40%"
     ]
    },
    {
     "name": "stdout",
     "output_type": "stream",
     "text": [
      "Epoch 1/10\n",
      "212/212 [==============================] - 0s 931us/step - loss: 3.9295 - accuracy: 0.5487\n",
      "Epoch 2/10\n",
      "212/212 [==============================] - 0s 921us/step - loss: 0.8564 - accuracy: 0.6021\n",
      "Epoch 3/10\n",
      "212/212 [==============================] - 0s 931us/step - loss: 0.8699 - accuracy: 0.6163\n",
      "Epoch 4/10\n",
      "212/212 [==============================] - 0s 925us/step - loss: 0.7764 - accuracy: 0.6078\n",
      "Epoch 5/10\n",
      "212/212 [==============================] - 0s 908us/step - loss: 0.7153 - accuracy: 0.6139\n",
      "Epoch 6/10\n",
      "212/212 [==============================] - 0s 906us/step - loss: 0.7786 - accuracy: 0.6096\n",
      "Epoch 7/10\n",
      "212/212 [==============================] - 0s 909us/step - loss: 0.9388 - accuracy: 0.5685\n",
      "Epoch 8/10\n",
      "212/212 [==============================] - 0s 910us/step - loss: 0.7589 - accuracy: 0.5926\n",
      "Epoch 9/10\n",
      "212/212 [==============================] - 0s 911us/step - loss: 0.8214 - accuracy: 0.5907\n",
      "Epoch 10/10\n",
      "212/212 [==============================] - 0s 917us/step - loss: 0.7552 - accuracy: 0.5997\n",
      "30/30 [==============================] - 0s 664us/step\n",
      "120/120 [==============================] - 0s 652us/step\n"
     ]
    },
    {
     "name": "stderr",
     "output_type": "stream",
     "text": [
      "Generating ensemble training data: |██████    | 60%"
     ]
    },
    {
     "name": "stdout",
     "output_type": "stream",
     "text": [
      "Epoch 1/10\n",
      "212/212 [==============================] - 0s 881us/step - loss: 3.5765 - accuracy: 0.5628\n",
      "Epoch 2/10\n",
      "212/212 [==============================] - 0s 879us/step - loss: 0.8637 - accuracy: 0.5892\n",
      "Epoch 3/10\n",
      "212/212 [==============================] - 0s 867us/step - loss: 0.7883 - accuracy: 0.5982\n",
      "Epoch 4/10\n",
      "212/212 [==============================] - 0s 872us/step - loss: 0.8433 - accuracy: 0.5883\n",
      "Epoch 5/10\n",
      "212/212 [==============================] - 0s 874us/step - loss: 0.8018 - accuracy: 0.5992\n",
      "Epoch 6/10\n",
      "212/212 [==============================] - 0s 875us/step - loss: 0.7950 - accuracy: 0.6025\n",
      "Epoch 7/10\n",
      "212/212 [==============================] - 0s 872us/step - loss: 0.7603 - accuracy: 0.6058\n",
      "Epoch 8/10\n",
      "212/212 [==============================] - 0s 894us/step - loss: 0.8110 - accuracy: 0.5817\n",
      "Epoch 9/10\n",
      "212/212 [==============================] - 0s 911us/step - loss: 0.7764 - accuracy: 0.6039\n",
      "Epoch 10/10\n",
      "212/212 [==============================] - 0s 891us/step - loss: 0.7423 - accuracy: 0.5925\n",
      "30/30 [==============================] - 0s 901us/step\n",
      "120/120 [==============================] - 0s 640us/step\n"
     ]
    },
    {
     "name": "stderr",
     "output_type": "stream",
     "text": [
      "Generating ensemble training data: |████████  | 80%"
     ]
    },
    {
     "name": "stdout",
     "output_type": "stream",
     "text": [
      "Epoch 1/10\n",
      "212/212 [==============================] - 0s 885us/step - loss: 3.0462 - accuracy: 0.5637\n",
      "Epoch 2/10\n",
      "212/212 [==============================] - 0s 884us/step - loss: 0.8495 - accuracy: 0.6025\n",
      "Epoch 3/10\n",
      "212/212 [==============================] - 0s 880us/step - loss: 0.8586 - accuracy: 0.5973\n",
      "Epoch 4/10\n",
      "212/212 [==============================] - 0s 887us/step - loss: 0.7934 - accuracy: 0.5902\n",
      "Epoch 5/10\n",
      "212/212 [==============================] - 0s 880us/step - loss: 0.7601 - accuracy: 0.6110\n",
      "Epoch 6/10\n",
      "212/212 [==============================] - 0s 877us/step - loss: 0.7590 - accuracy: 0.5958\n",
      "Epoch 7/10\n",
      "212/212 [==============================] - 0s 882us/step - loss: 0.7302 - accuracy: 0.6048\n",
      "Epoch 8/10\n",
      "212/212 [==============================] - 0s 881us/step - loss: 0.7665 - accuracy: 0.5987\n",
      "Epoch 9/10\n",
      "212/212 [==============================] - 0s 865us/step - loss: 0.7510 - accuracy: 0.5907\n",
      "Epoch 10/10\n",
      "212/212 [==============================] - 0s 861us/step - loss: 0.7250 - accuracy: 0.5902\n",
      "30/30 [==============================] - 0s 651us/step\n",
      "120/120 [==============================] - 0s 625us/step\n"
     ]
    },
    {
     "name": "stderr",
     "output_type": "stream",
     "text": [
      "Generating ensemble training data: |██████████|100%\n",
      "Generating ensemble training data: |          |  0%"
     ]
    },
    {
     "name": "stdout",
     "output_type": "stream",
     "text": [
      "Epoch 1/10\n",
      "212/212 [==============================] - 1s 1ms/step - loss: 1.1872 - accuracy: 0.5458\n",
      "Epoch 2/10\n",
      "212/212 [==============================] - 0s 925us/step - loss: 0.7309 - accuracy: 0.5718\n",
      "Epoch 3/10\n",
      "212/212 [==============================] - 0s 913us/step - loss: 0.7436 - accuracy: 0.5685\n",
      "Epoch 4/10\n",
      "212/212 [==============================] - 0s 924us/step - loss: 0.7078 - accuracy: 0.5874\n",
      "Epoch 5/10\n",
      "212/212 [==============================] - 0s 905us/step - loss: 0.6998 - accuracy: 0.5922\n",
      "Epoch 6/10\n",
      "212/212 [==============================] - 0s 894us/step - loss: 0.7111 - accuracy: 0.5733\n",
      "Epoch 7/10\n",
      "212/212 [==============================] - 0s 912us/step - loss: 0.6885 - accuracy: 0.5784\n",
      "Epoch 8/10\n",
      "212/212 [==============================] - 0s 907us/step - loss: 0.6791 - accuracy: 0.5988\n",
      "Epoch 9/10\n",
      "212/212 [==============================] - 0s 903us/step - loss: 0.6644 - accuracy: 0.5907\n",
      "Epoch 10/10\n",
      "212/212 [==============================] - 0s 910us/step - loss: 0.6576 - accuracy: 0.5955\n",
      "30/30 [==============================] - 0s 712us/step\n",
      "120/120 [==============================] - 0s 663us/step\n"
     ]
    },
    {
     "name": "stderr",
     "output_type": "stream",
     "text": [
      "Generating ensemble training data: |██        | 20%"
     ]
    },
    {
     "name": "stdout",
     "output_type": "stream",
     "text": [
      "Epoch 1/10\n",
      "212/212 [==============================] - 0s 937us/step - loss: 1.1099 - accuracy: 0.5647\n",
      "Epoch 2/10\n",
      "212/212 [==============================] - 0s 923us/step - loss: 0.7071 - accuracy: 0.5709\n",
      "Epoch 3/10\n",
      "212/212 [==============================] - 0s 905us/step - loss: 0.7033 - accuracy: 0.5888\n",
      "Epoch 4/10\n",
      "212/212 [==============================] - 0s 895us/step - loss: 0.6586 - accuracy: 0.6106\n",
      "Epoch 5/10\n",
      "212/212 [==============================] - 0s 905us/step - loss: 0.6782 - accuracy: 0.5922\n",
      "Epoch 6/10\n",
      "212/212 [==============================] - 0s 939us/step - loss: 0.6540 - accuracy: 0.6044\n",
      "Epoch 7/10\n",
      "212/212 [==============================] - 0s 920us/step - loss: 0.6559 - accuracy: 0.6129\n",
      "Epoch 8/10\n",
      "212/212 [==============================] - 0s 901us/step - loss: 0.6505 - accuracy: 0.6323\n",
      "Epoch 9/10\n",
      "212/212 [==============================] - 0s 917us/step - loss: 0.6560 - accuracy: 0.6101\n",
      "Epoch 10/10\n",
      "212/212 [==============================] - 0s 906us/step - loss: 0.6591 - accuracy: 0.6059\n",
      "30/30 [==============================] - 0s 661us/step\n",
      "120/120 [==============================] - 0s 641us/step\n"
     ]
    },
    {
     "name": "stderr",
     "output_type": "stream",
     "text": [
      "Generating ensemble training data: |████      | 40%"
     ]
    },
    {
     "name": "stdout",
     "output_type": "stream",
     "text": [
      "Epoch 1/10\n",
      "212/212 [==============================] - 0s 917us/step - loss: 1.2440 - accuracy: 0.5586\n",
      "Epoch 2/10\n",
      "212/212 [==============================] - 0s 937us/step - loss: 0.6896 - accuracy: 0.5940\n",
      "Epoch 3/10\n",
      "212/212 [==============================] - 0s 902us/step - loss: 0.6727 - accuracy: 0.6035\n",
      "Epoch 4/10\n",
      "212/212 [==============================] - 0s 912us/step - loss: 0.6788 - accuracy: 0.5898\n",
      "Epoch 5/10\n",
      "212/212 [==============================] - 0s 906us/step - loss: 0.6508 - accuracy: 0.6078\n",
      "Epoch 6/10\n",
      "212/212 [==============================] - 0s 901us/step - loss: 0.6565 - accuracy: 0.6092\n",
      "Epoch 7/10\n",
      "212/212 [==============================] - 0s 911us/step - loss: 0.6642 - accuracy: 0.5988\n",
      "Epoch 8/10\n",
      "212/212 [==============================] - 0s 899us/step - loss: 0.6518 - accuracy: 0.6153\n",
      "Epoch 9/10\n",
      "212/212 [==============================] - 0s 914us/step - loss: 0.6574 - accuracy: 0.6181\n",
      "Epoch 10/10\n",
      "212/212 [==============================] - 0s 911us/step - loss: 0.6447 - accuracy: 0.6319\n",
      "30/30 [==============================] - 0s 669us/step\n",
      "120/120 [==============================] - 0s 628us/step\n"
     ]
    },
    {
     "name": "stderr",
     "output_type": "stream",
     "text": [
      "Generating ensemble training data: |██████    | 60%"
     ]
    },
    {
     "name": "stdout",
     "output_type": "stream",
     "text": [
      "Epoch 1/10\n",
      "212/212 [==============================] - 0s 914us/step - loss: 1.1696 - accuracy: 0.5288\n",
      "Epoch 2/10\n",
      "212/212 [==============================] - 0s 924us/step - loss: 0.6976 - accuracy: 0.5845\n",
      "Epoch 3/10\n",
      "212/212 [==============================] - 0s 923us/step - loss: 0.6693 - accuracy: 0.5944\n",
      "Epoch 4/10\n",
      "212/212 [==============================] - 0s 945us/step - loss: 0.6555 - accuracy: 0.6095\n",
      "Epoch 5/10\n",
      "212/212 [==============================] - 0s 935us/step - loss: 0.6598 - accuracy: 0.6053\n",
      "Epoch 6/10\n",
      "212/212 [==============================] - 0s 938us/step - loss: 0.6443 - accuracy: 0.6364\n",
      "Epoch 7/10\n",
      "212/212 [==============================] - 0s 940us/step - loss: 0.6497 - accuracy: 0.6284\n",
      "Epoch 8/10\n",
      "212/212 [==============================] - 0s 948us/step - loss: 0.6441 - accuracy: 0.6289\n",
      "Epoch 9/10\n",
      "212/212 [==============================] - 0s 933us/step - loss: 0.6449 - accuracy: 0.6138\n",
      "Epoch 10/10\n",
      "212/212 [==============================] - 0s 911us/step - loss: 0.6435 - accuracy: 0.6317\n",
      "30/30 [==============================] - 0s 643us/step\n",
      "120/120 [==============================] - 0s 623us/step\n"
     ]
    },
    {
     "name": "stderr",
     "output_type": "stream",
     "text": [
      "Generating ensemble training data: |████████  | 80%"
     ]
    },
    {
     "name": "stdout",
     "output_type": "stream",
     "text": [
      "Epoch 1/10\n",
      "212/212 [==============================] - 0s 903us/step - loss: 0.9786 - accuracy: 0.5689\n",
      "Epoch 2/10\n",
      "212/212 [==============================] - 0s 895us/step - loss: 0.7171 - accuracy: 0.5670\n",
      "Epoch 3/10\n",
      "212/212 [==============================] - 0s 895us/step - loss: 0.6621 - accuracy: 0.5968\n",
      "Epoch 4/10\n",
      "212/212 [==============================] - 0s 896us/step - loss: 0.6615 - accuracy: 0.6095\n",
      "Epoch 5/10\n",
      "212/212 [==============================] - 0s 895us/step - loss: 0.6534 - accuracy: 0.6284\n",
      "Epoch 6/10\n",
      "212/212 [==============================] - 0s 897us/step - loss: 0.6532 - accuracy: 0.6015\n",
      "Epoch 7/10\n",
      "212/212 [==============================] - 0s 895us/step - loss: 0.6477 - accuracy: 0.6213\n",
      "Epoch 8/10\n",
      "212/212 [==============================] - 0s 885us/step - loss: 0.6516 - accuracy: 0.6185\n",
      "Epoch 9/10\n",
      "212/212 [==============================] - 0s 908us/step - loss: 0.6437 - accuracy: 0.6232\n",
      "Epoch 10/10\n",
      "212/212 [==============================] - 0s 912us/step - loss: 0.6429 - accuracy: 0.6128\n",
      "30/30 [==============================] - 0s 672us/step\n",
      "120/120 [==============================] - 0s 637us/step\n"
     ]
    },
    {
     "name": "stderr",
     "output_type": "stream",
     "text": [
      "Generating ensemble training data: |██████████|100%\n"
     ]
    },
    {
     "name": "stdout",
     "output_type": "stream",
     "text": [
      "\n",
      "\n"
     ]
    },
    {
     "name": "stderr",
     "output_type": "stream",
     "text": [
      "Analyzing ensembles: |██████████|100%\n"
     ]
    },
    {
     "name": "stdout",
     "output_type": "stream",
     "text": [
      "Training base predictors on admission...\n",
      "        \n",
      "... for ensemble performance analysis...\n"
     ]
    },
    {
     "name": "stderr",
     "output_type": "stream",
     "text": [
      "Generating ensemble training data: |██████████|100%\n",
      "Generating ensemble test data: |██████████|100%\n"
     ]
    },
    {
     "name": "stdout",
     "output_type": "stream",
     "text": [
      "\n",
      "\n",
      "Training base predictors on comorbidities...\n",
      "        \n",
      "... for ensemble performance analysis...\n"
     ]
    },
    {
     "name": "stderr",
     "output_type": "stream",
     "text": [
      "Generating ensemble training data: |██████████|100%\n",
      "Generating ensemble test data: |██████████|100%\n"
     ]
    },
    {
     "name": "stdout",
     "output_type": "stream",
     "text": [
      "\n",
      "\n",
      "Training base predictors on labs...\n",
      "        \n",
      "... for ensemble performance analysis...\n"
     ]
    },
    {
     "name": "stderr",
     "output_type": "stream",
     "text": [
      "Generating ensemble training data: |██████████|100%\n",
      "Generating ensemble test data: |██████████|100%\n"
     ]
    },
    {
     "name": "stdout",
     "output_type": "stream",
     "text": [
      "\n",
      "\n",
      "Training base predictors on vitals...\n",
      "        \n",
      "... for ensemble performance analysis...\n"
     ]
    },
    {
     "name": "stderr",
     "output_type": "stream",
     "text": [
      "Generating ensemble training data: |          |  0%"
     ]
    },
    {
     "name": "stdout",
     "output_type": "stream",
     "text": [
      "Epoch 1/10\n",
      "212/212 [==============================] - 0s 849us/step - loss: 1.1524 - accuracy: 0.5695\n",
      "Epoch 2/10\n",
      "212/212 [==============================] - 0s 869us/step - loss: 0.7380 - accuracy: 0.5841\n",
      "Epoch 3/10\n",
      "212/212 [==============================] - 0s 844us/step - loss: 0.7748 - accuracy: 0.5662\n",
      "Epoch 4/10\n",
      "212/212 [==============================] - 0s 832us/step - loss: 0.7751 - accuracy: 0.5959\n",
      "Epoch 5/10\n",
      "212/212 [==============================] - 0s 826us/step - loss: 0.7168 - accuracy: 0.5940\n",
      "Epoch 6/10\n",
      "212/212 [==============================] - 0s 821us/step - loss: 0.7287 - accuracy: 0.5874\n",
      "Epoch 7/10\n",
      "212/212 [==============================] - 0s 823us/step - loss: 0.7082 - accuracy: 0.5922\n",
      "Epoch 8/10\n",
      "212/212 [==============================] - 0s 823us/step - loss: 0.7392 - accuracy: 0.5827\n",
      "Epoch 9/10\n",
      "212/212 [==============================] - 0s 816us/step - loss: 0.7768 - accuracy: 0.5846\n",
      "Epoch 10/10\n",
      "212/212 [==============================] - 0s 815us/step - loss: 0.7048 - accuracy: 0.5969\n",
      "30/30 [==============================] - 0s 642us/step\n",
      "120/120 [==============================] - 0s 588us/step\n"
     ]
    },
    {
     "name": "stderr",
     "output_type": "stream",
     "text": [
      "Generating ensemble training data: |██        | 20%"
     ]
    },
    {
     "name": "stdout",
     "output_type": "stream",
     "text": [
      "Epoch 1/10\n",
      "212/212 [==============================] - 0s 802us/step - loss: 1.0076 - accuracy: 0.5643\n",
      "Epoch 2/10\n",
      "212/212 [==============================] - 0s 811us/step - loss: 0.7527 - accuracy: 0.6049\n",
      "Epoch 3/10\n",
      "212/212 [==============================] - 0s 820us/step - loss: 0.7182 - accuracy: 0.5808\n",
      "Epoch 4/10\n",
      "212/212 [==============================] - 0s 813us/step - loss: 0.7362 - accuracy: 0.5936\n",
      "Epoch 5/10\n",
      "212/212 [==============================] - 0s 822us/step - loss: 0.7218 - accuracy: 0.5874\n",
      "Epoch 6/10\n",
      "212/212 [==============================] - 0s 821us/step - loss: 0.7264 - accuracy: 0.6087\n",
      "Epoch 7/10\n",
      "212/212 [==============================] - 0s 819us/step - loss: 0.7374 - accuracy: 0.5770\n",
      "Epoch 8/10\n",
      "212/212 [==============================] - 0s 820us/step - loss: 0.7195 - accuracy: 0.5997\n",
      "Epoch 9/10\n",
      "212/212 [==============================] - 0s 827us/step - loss: 0.6823 - accuracy: 0.6111\n",
      "Epoch 10/10\n",
      "212/212 [==============================] - 0s 881us/step - loss: 0.6941 - accuracy: 0.6120\n",
      "30/30 [==============================] - 0s 622us/step\n",
      "120/120 [==============================] - 0s 618us/step\n"
     ]
    },
    {
     "name": "stderr",
     "output_type": "stream",
     "text": [
      "Generating ensemble training data: |████      | 40%"
     ]
    },
    {
     "name": "stdout",
     "output_type": "stream",
     "text": [
      "Epoch 1/10\n",
      "212/212 [==============================] - 0s 845us/step - loss: 1.2132 - accuracy: 0.5766\n",
      "Epoch 2/10\n",
      "212/212 [==============================] - 0s 836us/step - loss: 0.7585 - accuracy: 0.6021\n",
      "Epoch 3/10\n",
      "212/212 [==============================] - 0s 837us/step - loss: 0.8280 - accuracy: 0.5803\n",
      "Epoch 4/10\n",
      "212/212 [==============================] - 0s 838us/step - loss: 0.7288 - accuracy: 0.5912\n",
      "Epoch 5/10\n",
      "212/212 [==============================] - 0s 830us/step - loss: 0.7202 - accuracy: 0.5964\n",
      "Epoch 6/10\n",
      "212/212 [==============================] - 0s 839us/step - loss: 0.6943 - accuracy: 0.6044\n",
      "Epoch 7/10\n",
      "212/212 [==============================] - 0s 837us/step - loss: 0.7394 - accuracy: 0.5832\n",
      "Epoch 8/10\n",
      "212/212 [==============================] - 0s 826us/step - loss: 0.7064 - accuracy: 0.5870\n",
      "Epoch 9/10\n",
      "212/212 [==============================] - 0s 824us/step - loss: 0.7208 - accuracy: 0.5879\n",
      "Epoch 10/10\n",
      "212/212 [==============================] - 0s 829us/step - loss: 0.6810 - accuracy: 0.6120\n",
      "30/30 [==============================] - 0s 640us/step\n",
      "120/120 [==============================] - 0s 616us/step\n"
     ]
    },
    {
     "name": "stderr",
     "output_type": "stream",
     "text": [
      "Generating ensemble training data: |██████    | 60%"
     ]
    },
    {
     "name": "stdout",
     "output_type": "stream",
     "text": [
      "Epoch 1/10\n",
      "212/212 [==============================] - 0s 839us/step - loss: 1.1574 - accuracy: 0.5788\n",
      "Epoch 2/10\n",
      "212/212 [==============================] - 0s 845us/step - loss: 0.8078 - accuracy: 0.5812\n",
      "Epoch 3/10\n",
      "212/212 [==============================] - 0s 857us/step - loss: 0.8027 - accuracy: 0.5859\n",
      "Epoch 4/10\n",
      "212/212 [==============================] - 0s 850us/step - loss: 0.7046 - accuracy: 0.5911\n",
      "Epoch 5/10\n",
      "212/212 [==============================] - 0s 854us/step - loss: 0.7389 - accuracy: 0.5902\n",
      "Epoch 6/10\n",
      "212/212 [==============================] - 0s 827us/step - loss: 0.7430 - accuracy: 0.5949\n",
      "Epoch 7/10\n",
      "212/212 [==============================] - 0s 837us/step - loss: 0.6924 - accuracy: 0.6043\n",
      "Epoch 8/10\n",
      "212/212 [==============================] - 0s 852us/step - loss: 0.6997 - accuracy: 0.6081\n",
      "Epoch 9/10\n",
      "212/212 [==============================] - 0s 858us/step - loss: 0.7023 - accuracy: 0.6015\n",
      "Epoch 10/10\n",
      "212/212 [==============================] - 0s 843us/step - loss: 0.6606 - accuracy: 0.6176\n",
      "30/30 [==============================] - 0s 650us/step\n",
      "120/120 [==============================] - 0s 619us/step\n"
     ]
    },
    {
     "name": "stderr",
     "output_type": "stream",
     "text": [
      "Generating ensemble training data: |████████  | 80%"
     ]
    },
    {
     "name": "stdout",
     "output_type": "stream",
     "text": [
      "Epoch 1/10\n",
      "212/212 [==============================] - 0s 845us/step - loss: 1.0931 - accuracy: 0.5859\n",
      "Epoch 2/10\n",
      "212/212 [==============================] - 0s 859us/step - loss: 0.8274 - accuracy: 0.5845\n",
      "Epoch 3/10\n",
      "212/212 [==============================] - 0s 839us/step - loss: 0.7720 - accuracy: 0.5940\n",
      "Epoch 4/10\n",
      "212/212 [==============================] - 0s 852us/step - loss: 0.7273 - accuracy: 0.6072\n",
      "Epoch 5/10\n",
      "212/212 [==============================] - 0s 853us/step - loss: 0.8290 - accuracy: 0.5911\n",
      "Epoch 6/10\n",
      "212/212 [==============================] - 0s 853us/step - loss: 0.7878 - accuracy: 0.5911\n",
      "Epoch 7/10\n",
      "212/212 [==============================] - 0s 866us/step - loss: 0.7099 - accuracy: 0.6081\n",
      "Epoch 8/10\n",
      "212/212 [==============================] - 0s 860us/step - loss: 0.6934 - accuracy: 0.6081\n",
      "Epoch 9/10\n",
      "212/212 [==============================] - 0s 860us/step - loss: 0.7693 - accuracy: 0.5836\n",
      "Epoch 10/10\n",
      "212/212 [==============================] - 0s 854us/step - loss: 0.6882 - accuracy: 0.6006\n",
      "30/30 [==============================] - 0s 625us/step\n",
      "120/120 [==============================] - 0s 616us/step\n"
     ]
    },
    {
     "name": "stderr",
     "output_type": "stream",
     "text": [
      "Generating ensemble training data: |██████████|100%\n",
      "Generating ensemble training data: |          |  0%"
     ]
    },
    {
     "name": "stdout",
     "output_type": "stream",
     "text": [
      "Epoch 1/10\n",
      "212/212 [==============================] - 0s 950us/step - loss: 2.4750 - accuracy: 0.4995\n",
      "Epoch 2/10\n",
      "212/212 [==============================] - 0s 953us/step - loss: 0.7772 - accuracy: 0.4877\n",
      "Epoch 3/10\n",
      "212/212 [==============================] - 0s 946us/step - loss: 0.7183 - accuracy: 0.5033\n",
      "Epoch 4/10\n",
      "212/212 [==============================] - 0s 954us/step - loss: 0.7145 - accuracy: 0.5194\n",
      "Epoch 5/10\n",
      "212/212 [==============================] - 0s 947us/step - loss: 0.7114 - accuracy: 0.5156\n",
      "Epoch 6/10\n",
      "212/212 [==============================] - 0s 947us/step - loss: 0.7070 - accuracy: 0.5288\n",
      "Epoch 7/10\n",
      "212/212 [==============================] - 0s 942us/step - loss: 0.6980 - accuracy: 0.5392\n",
      "Epoch 8/10\n",
      "212/212 [==============================] - 0s 937us/step - loss: 0.6880 - accuracy: 0.5525\n",
      "Epoch 9/10\n",
      "212/212 [==============================] - 0s 933us/step - loss: 0.6907 - accuracy: 0.5595\n",
      "Epoch 10/10\n",
      "212/212 [==============================] - 0s 938us/step - loss: 0.6809 - accuracy: 0.5567\n",
      "30/30 [==============================] - 0s 664us/step\n",
      "120/120 [==============================] - 0s 638us/step\n"
     ]
    },
    {
     "name": "stderr",
     "output_type": "stream",
     "text": [
      "Generating ensemble training data: |██        | 20%"
     ]
    },
    {
     "name": "stdout",
     "output_type": "stream",
     "text": [
      "Epoch 1/10\n",
      "212/212 [==============================] - 0s 933us/step - loss: 2.5308 - accuracy: 0.4986\n",
      "Epoch 2/10\n",
      "212/212 [==============================] - 0s 916us/step - loss: 0.7633 - accuracy: 0.4905\n",
      "Epoch 3/10\n",
      "212/212 [==============================] - 0s 927us/step - loss: 0.7333 - accuracy: 0.5246\n",
      "Epoch 4/10\n",
      "212/212 [==============================] - 0s 928us/step - loss: 0.7114 - accuracy: 0.4920\n",
      "Epoch 5/10\n",
      "212/212 [==============================] - 0s 925us/step - loss: 0.7022 - accuracy: 0.5161\n",
      "Epoch 6/10\n",
      "212/212 [==============================] - 0s 927us/step - loss: 0.7026 - accuracy: 0.5189\n",
      "Epoch 7/10\n",
      "212/212 [==============================] - 0s 928us/step - loss: 0.6942 - accuracy: 0.5425\n",
      "Epoch 8/10\n",
      "212/212 [==============================] - 0s 927us/step - loss: 0.6935 - accuracy: 0.5232\n",
      "Epoch 9/10\n",
      "212/212 [==============================] - 0s 923us/step - loss: 0.6872 - accuracy: 0.5388\n",
      "Epoch 10/10\n",
      "212/212 [==============================] - 0s 896us/step - loss: 0.6916 - accuracy: 0.5534\n",
      "30/30 [==============================] - 0s 670us/step\n",
      "120/120 [==============================] - 0s 628us/step\n"
     ]
    },
    {
     "name": "stderr",
     "output_type": "stream",
     "text": [
      "Generating ensemble training data: |████      | 40%"
     ]
    },
    {
     "name": "stdout",
     "output_type": "stream",
     "text": [
      "Epoch 1/10\n",
      "212/212 [==============================] - 0s 911us/step - loss: 2.3818 - accuracy: 0.5052\n",
      "Epoch 2/10\n",
      "212/212 [==============================] - 0s 905us/step - loss: 0.7549 - accuracy: 0.5208\n",
      "Epoch 3/10\n",
      "212/212 [==============================] - 0s 907us/step - loss: 0.7279 - accuracy: 0.5137\n",
      "Epoch 4/10\n",
      "212/212 [==============================] - 0s 887us/step - loss: 0.7137 - accuracy: 0.5132\n",
      "Epoch 5/10\n",
      "212/212 [==============================] - 0s 890us/step - loss: 0.7089 - accuracy: 0.5246\n",
      "Epoch 6/10\n",
      "212/212 [==============================] - 0s 902us/step - loss: 0.7007 - accuracy: 0.5402\n",
      "Epoch 7/10\n",
      "212/212 [==============================] - 0s 906us/step - loss: 0.6958 - accuracy: 0.5406\n",
      "Epoch 8/10\n",
      "212/212 [==============================] - 0s 907us/step - loss: 0.6882 - accuracy: 0.5510\n",
      "Epoch 9/10\n",
      "212/212 [==============================] - 0s 909us/step - loss: 0.6936 - accuracy: 0.5543\n",
      "Epoch 10/10\n",
      "212/212 [==============================] - 0s 936us/step - loss: 0.6929 - accuracy: 0.5302\n",
      "30/30 [==============================] - 0s 651us/step\n",
      "120/120 [==============================] - 0s 623us/step\n"
     ]
    },
    {
     "name": "stderr",
     "output_type": "stream",
     "text": [
      "Generating ensemble training data: |██████    | 60%"
     ]
    },
    {
     "name": "stdout",
     "output_type": "stream",
     "text": [
      "Epoch 1/10\n",
      "212/212 [==============================] - 0s 934us/step - loss: 2.5512 - accuracy: 0.4991\n",
      "Epoch 2/10\n",
      "212/212 [==============================] - 0s 919us/step - loss: 0.7560 - accuracy: 0.5170\n",
      "Epoch 3/10\n",
      "212/212 [==============================] - 0s 907us/step - loss: 0.7309 - accuracy: 0.5033\n",
      "Epoch 4/10\n",
      "212/212 [==============================] - 0s 913us/step - loss: 0.7119 - accuracy: 0.5019\n",
      "Epoch 5/10\n",
      "212/212 [==============================] - 0s 922us/step - loss: 0.7001 - accuracy: 0.5170\n",
      "Epoch 6/10\n",
      "212/212 [==============================] - 0s 902us/step - loss: 0.7032 - accuracy: 0.5009\n",
      "Epoch 7/10\n",
      "212/212 [==============================] - 0s 923us/step - loss: 0.6958 - accuracy: 0.5250\n",
      "Epoch 8/10\n",
      "212/212 [==============================] - 0s 923us/step - loss: 0.7009 - accuracy: 0.5255\n",
      "Epoch 9/10\n",
      "212/212 [==============================] - 0s 932us/step - loss: 0.6908 - accuracy: 0.5373\n",
      "Epoch 10/10\n",
      "212/212 [==============================] - 0s 921us/step - loss: 0.7027 - accuracy: 0.5146\n",
      "30/30 [==============================] - 0s 666us/step\n",
      "120/120 [==============================] - 0s 622us/step\n"
     ]
    },
    {
     "name": "stderr",
     "output_type": "stream",
     "text": [
      "Generating ensemble training data: |████████  | 80%"
     ]
    },
    {
     "name": "stdout",
     "output_type": "stream",
     "text": [
      "Epoch 1/10\n",
      "212/212 [==============================] - 0s 920us/step - loss: 2.2668 - accuracy: 0.4991\n",
      "Epoch 2/10\n",
      "212/212 [==============================] - 0s 942us/step - loss: 0.7673 - accuracy: 0.5066\n",
      "Epoch 3/10\n",
      "212/212 [==============================] - 0s 929us/step - loss: 0.7332 - accuracy: 0.5236\n",
      "Epoch 4/10\n",
      "212/212 [==============================] - 0s 927us/step - loss: 0.7233 - accuracy: 0.4887\n",
      "Epoch 5/10\n",
      "212/212 [==============================] - 0s 923us/step - loss: 0.6990 - accuracy: 0.5212\n",
      "Epoch 6/10\n",
      "212/212 [==============================] - 0s 930us/step - loss: 0.7089 - accuracy: 0.4991\n",
      "Epoch 7/10\n",
      "212/212 [==============================] - 0s 908us/step - loss: 0.7035 - accuracy: 0.4972\n",
      "Epoch 8/10\n",
      "212/212 [==============================] - 0s 896us/step - loss: 0.7003 - accuracy: 0.5156\n",
      "Epoch 9/10\n",
      "212/212 [==============================] - 0s 908us/step - loss: 0.6891 - accuracy: 0.5293\n",
      "Epoch 10/10\n",
      "212/212 [==============================] - 0s 902us/step - loss: 0.6894 - accuracy: 0.5510\n",
      "30/30 [==============================] - 0s 654us/step\n",
      "120/120 [==============================] - 0s 621us/step\n"
     ]
    },
    {
     "name": "stderr",
     "output_type": "stream",
     "text": [
      "Generating ensemble training data: |██████████|100%\n",
      "Generating ensemble training data: |          |  0%"
     ]
    },
    {
     "name": "stdout",
     "output_type": "stream",
     "text": [
      "Epoch 1/10\n",
      "212/212 [==============================] - 0s 885us/step - loss: 3.2374 - accuracy: 0.5501\n",
      "Epoch 2/10\n",
      "212/212 [==============================] - 0s 878us/step - loss: 0.9222 - accuracy: 0.5955\n",
      "Epoch 3/10\n",
      "212/212 [==============================] - 0s 865us/step - loss: 0.9502 - accuracy: 0.5718\n",
      "Epoch 4/10\n",
      "212/212 [==============================] - 0s 872us/step - loss: 0.8726 - accuracy: 0.5851\n",
      "Epoch 5/10\n",
      "212/212 [==============================] - 0s 874us/step - loss: 0.7889 - accuracy: 0.5874\n",
      "Epoch 6/10\n",
      "212/212 [==============================] - 0s 878us/step - loss: 0.7777 - accuracy: 0.5917\n",
      "Epoch 7/10\n",
      "212/212 [==============================] - 0s 863us/step - loss: 0.7670 - accuracy: 0.5728\n",
      "Epoch 8/10\n",
      "212/212 [==============================] - 0s 857us/step - loss: 0.7779 - accuracy: 0.5846\n",
      "Epoch 9/10\n",
      "212/212 [==============================] - 0s 832us/step - loss: 0.7601 - accuracy: 0.5822\n",
      "Epoch 10/10\n",
      "212/212 [==============================] - 0s 840us/step - loss: 0.7855 - accuracy: 0.5874\n",
      "30/30 [==============================] - 0s 643us/step\n",
      "120/120 [==============================] - 0s 632us/step\n"
     ]
    },
    {
     "name": "stderr",
     "output_type": "stream",
     "text": [
      "Generating ensemble training data: |██        | 20%"
     ]
    },
    {
     "name": "stdout",
     "output_type": "stream",
     "text": [
      "Epoch 1/10\n",
      "212/212 [==============================] - 0s 859us/step - loss: 3.2532 - accuracy: 0.5487\n",
      "Epoch 2/10\n",
      "212/212 [==============================] - 0s 840us/step - loss: 0.9724 - accuracy: 0.5803\n",
      "Epoch 3/10\n",
      "212/212 [==============================] - 0s 839us/step - loss: 0.8758 - accuracy: 0.5874\n",
      "Epoch 4/10\n",
      "212/212 [==============================] - 0s 843us/step - loss: 0.8743 - accuracy: 0.5846\n",
      "Epoch 5/10\n",
      "212/212 [==============================] - 0s 842us/step - loss: 0.7800 - accuracy: 0.6035\n",
      "Epoch 6/10\n",
      "212/212 [==============================] - 0s 847us/step - loss: 0.7676 - accuracy: 0.5945\n",
      "Epoch 7/10\n",
      "212/212 [==============================] - 0s 842us/step - loss: 0.7924 - accuracy: 0.5940\n",
      "Epoch 8/10\n",
      "212/212 [==============================] - 0s 848us/step - loss: 0.7651 - accuracy: 0.6002\n",
      "Epoch 9/10\n",
      "212/212 [==============================] - 0s 848us/step - loss: 0.7718 - accuracy: 0.5912\n",
      "Epoch 10/10\n",
      "212/212 [==============================] - 0s 847us/step - loss: 0.7249 - accuracy: 0.5964\n",
      "30/30 [==============================] - 0s 641us/step\n",
      "120/120 [==============================] - 0s 624us/step\n"
     ]
    },
    {
     "name": "stderr",
     "output_type": "stream",
     "text": [
      "Generating ensemble training data: |████      | 40%"
     ]
    },
    {
     "name": "stdout",
     "output_type": "stream",
     "text": [
      "Epoch 1/10\n",
      "212/212 [==============================] - 0s 870us/step - loss: 3.0519 - accuracy: 0.5619\n",
      "Epoch 2/10\n",
      "212/212 [==============================] - 0s 864us/step - loss: 0.8940 - accuracy: 0.5879\n",
      "Epoch 3/10\n",
      "212/212 [==============================] - 0s 862us/step - loss: 0.8094 - accuracy: 0.5917\n",
      "Epoch 4/10\n",
      "212/212 [==============================] - 0s 863us/step - loss: 0.8311 - accuracy: 0.5860\n",
      "Epoch 5/10\n",
      "212/212 [==============================] - 0s 863us/step - loss: 0.8359 - accuracy: 0.5841\n",
      "Epoch 6/10\n",
      "212/212 [==============================] - 0s 867us/step - loss: 0.8141 - accuracy: 0.5860\n",
      "Epoch 7/10\n",
      "212/212 [==============================] - 0s 863us/step - loss: 0.8182 - accuracy: 0.5836\n",
      "Epoch 8/10\n",
      "212/212 [==============================] - 0s 840us/step - loss: 0.7151 - accuracy: 0.6044\n",
      "Epoch 9/10\n",
      "212/212 [==============================] - 0s 842us/step - loss: 0.7293 - accuracy: 0.5997\n",
      "Epoch 10/10\n",
      "212/212 [==============================] - 0s 838us/step - loss: 0.7391 - accuracy: 0.6040\n",
      "30/30 [==============================] - 0s 633us/step\n",
      "120/120 [==============================] - 0s 612us/step\n"
     ]
    },
    {
     "name": "stderr",
     "output_type": "stream",
     "text": [
      "Generating ensemble training data: |██████    | 60%"
     ]
    },
    {
     "name": "stdout",
     "output_type": "stream",
     "text": [
      "Epoch 1/10\n",
      "212/212 [==============================] - 0s 879us/step - loss: 3.1099 - accuracy: 0.5755\n",
      "Epoch 2/10\n",
      "212/212 [==============================] - 0s 877us/step - loss: 0.9264 - accuracy: 0.5940\n",
      "Epoch 3/10\n",
      "212/212 [==============================] - 0s 876us/step - loss: 0.8005 - accuracy: 0.5992\n",
      "Epoch 4/10\n",
      "212/212 [==============================] - 0s 864us/step - loss: 0.8746 - accuracy: 0.6006\n",
      "Epoch 5/10\n",
      "212/212 [==============================] - 0s 868us/step - loss: 0.8515 - accuracy: 0.5996\n",
      "Epoch 6/10\n",
      "212/212 [==============================] - 0s 882us/step - loss: 0.8182 - accuracy: 0.5897\n",
      "Epoch 7/10\n",
      "212/212 [==============================] - 0s 862us/step - loss: 0.8212 - accuracy: 0.5968\n",
      "Epoch 8/10\n",
      "212/212 [==============================] - 0s 840us/step - loss: 0.7292 - accuracy: 0.6091\n",
      "Epoch 9/10\n",
      "212/212 [==============================] - 0s 844us/step - loss: 0.7211 - accuracy: 0.5935\n",
      "Epoch 10/10\n",
      "212/212 [==============================] - 0s 850us/step - loss: 0.7397 - accuracy: 0.6001\n",
      "30/30 [==============================] - 0s 641us/step\n",
      "120/120 [==============================] - 0s 611us/step\n"
     ]
    },
    {
     "name": "stderr",
     "output_type": "stream",
     "text": [
      "Generating ensemble training data: |████████  | 80%"
     ]
    },
    {
     "name": "stdout",
     "output_type": "stream",
     "text": [
      "Epoch 1/10\n",
      "212/212 [==============================] - 0s 876us/step - loss: 3.2715 - accuracy: 0.5699\n",
      "Epoch 2/10\n",
      "212/212 [==============================] - 0s 854us/step - loss: 0.8924 - accuracy: 0.5902\n",
      "Epoch 3/10\n",
      "212/212 [==============================] - 0s 847us/step - loss: 0.7797 - accuracy: 0.5850\n",
      "Epoch 4/10\n",
      "212/212 [==============================] - 0s 843us/step - loss: 0.8121 - accuracy: 0.5935\n",
      "Epoch 5/10\n",
      "212/212 [==============================] - 0s 856us/step - loss: 0.7656 - accuracy: 0.5930\n",
      "Epoch 6/10\n",
      "212/212 [==============================] - 0s 868us/step - loss: 0.8605 - accuracy: 0.5859\n",
      "Epoch 7/10\n",
      "212/212 [==============================] - 0s 853us/step - loss: 0.7968 - accuracy: 0.5982\n",
      "Epoch 8/10\n",
      "212/212 [==============================] - 0s 855us/step - loss: 0.8211 - accuracy: 0.5992\n",
      "Epoch 9/10\n",
      "212/212 [==============================] - 0s 855us/step - loss: 0.7349 - accuracy: 0.6001\n",
      "Epoch 10/10\n",
      "212/212 [==============================] - 0s 856us/step - loss: 0.7051 - accuracy: 0.6091\n",
      "30/30 [==============================] - 0s 658us/step\n",
      "120/120 [==============================] - 0s 626us/step\n"
     ]
    },
    {
     "name": "stderr",
     "output_type": "stream",
     "text": [
      "Generating ensemble training data: |██████████|100%\n",
      "Generating ensemble training data: |          |  0%"
     ]
    },
    {
     "name": "stdout",
     "output_type": "stream",
     "text": [
      "Epoch 1/10\n",
      "212/212 [==============================] - 0s 888us/step - loss: 1.1285 - accuracy: 0.5553\n",
      "Epoch 2/10\n",
      "212/212 [==============================] - 0s 875us/step - loss: 0.6970 - accuracy: 0.5614\n",
      "Epoch 3/10\n",
      "212/212 [==============================] - 0s 875us/step - loss: 0.6822 - accuracy: 0.5936\n",
      "Epoch 4/10\n",
      "212/212 [==============================] - 0s 876us/step - loss: 0.6691 - accuracy: 0.5992\n",
      "Epoch 5/10\n",
      "212/212 [==============================] - 0s 873us/step - loss: 0.6639 - accuracy: 0.6040\n",
      "Epoch 6/10\n",
      "212/212 [==============================] - 0s 935us/step - loss: 0.6808 - accuracy: 0.5888\n",
      "Epoch 7/10\n",
      "212/212 [==============================] - 0s 881us/step - loss: 0.6633 - accuracy: 0.6002\n",
      "Epoch 8/10\n",
      "212/212 [==============================] - 0s 880us/step - loss: 0.6602 - accuracy: 0.6096\n",
      "Epoch 9/10\n",
      "212/212 [==============================] - 0s 871us/step - loss: 0.6520 - accuracy: 0.6129\n",
      "Epoch 10/10\n",
      "212/212 [==============================] - 0s 846us/step - loss: 0.6594 - accuracy: 0.6096\n",
      "30/30 [==============================] - 0s 641us/step\n",
      "120/120 [==============================] - 0s 642us/step\n"
     ]
    },
    {
     "name": "stderr",
     "output_type": "stream",
     "text": [
      "Generating ensemble training data: |██        | 20%"
     ]
    },
    {
     "name": "stdout",
     "output_type": "stream",
     "text": [
      "Epoch 1/10\n",
      "212/212 [==============================] - 0s 895us/step - loss: 0.9927 - accuracy: 0.5595\n",
      "Epoch 2/10\n",
      "212/212 [==============================] - 0s 884us/step - loss: 0.7211 - accuracy: 0.5534\n",
      "Epoch 3/10\n",
      "212/212 [==============================] - 0s 896us/step - loss: 0.6776 - accuracy: 0.5992\n",
      "Epoch 4/10\n",
      "212/212 [==============================] - 0s 880us/step - loss: 0.6704 - accuracy: 0.5969\n",
      "Epoch 5/10\n",
      "212/212 [==============================] - 0s 887us/step - loss: 0.6669 - accuracy: 0.5827\n",
      "Epoch 6/10\n",
      "212/212 [==============================] - 0s 876us/step - loss: 0.6505 - accuracy: 0.6163\n",
      "Epoch 7/10\n",
      "212/212 [==============================] - 0s 877us/step - loss: 0.6617 - accuracy: 0.5959\n",
      "Epoch 8/10\n",
      "212/212 [==============================] - 0s 878us/step - loss: 0.6499 - accuracy: 0.6144\n",
      "Epoch 9/10\n",
      "212/212 [==============================] - 0s 879us/step - loss: 0.6461 - accuracy: 0.6252\n",
      "Epoch 10/10\n",
      "212/212 [==============================] - 0s 873us/step - loss: 0.6448 - accuracy: 0.6200\n",
      "30/30 [==============================] - 0s 627us/step\n",
      "120/120 [==============================] - 0s 601us/step\n"
     ]
    },
    {
     "name": "stderr",
     "output_type": "stream",
     "text": [
      "Generating ensemble training data: |████      | 40%"
     ]
    },
    {
     "name": "stdout",
     "output_type": "stream",
     "text": [
      "Epoch 1/10\n",
      "212/212 [==============================] - 0s 882us/step - loss: 1.1178 - accuracy: 0.5397\n",
      "Epoch 2/10\n",
      "212/212 [==============================] - 0s 901us/step - loss: 0.6955 - accuracy: 0.5799\n",
      "Epoch 3/10\n",
      "212/212 [==============================] - 0s 895us/step - loss: 0.6651 - accuracy: 0.6087\n",
      "Epoch 4/10\n",
      "212/212 [==============================] - 0s 892us/step - loss: 0.6634 - accuracy: 0.6016\n",
      "Epoch 5/10\n",
      "212/212 [==============================] - 0s 886us/step - loss: 0.6558 - accuracy: 0.6125\n",
      "Epoch 6/10\n",
      "212/212 [==============================] - 0s 899us/step - loss: 0.6564 - accuracy: 0.6144\n",
      "Epoch 7/10\n",
      "212/212 [==============================] - 0s 884us/step - loss: 0.6467 - accuracy: 0.6200\n",
      "Epoch 8/10\n",
      "212/212 [==============================] - 0s 895us/step - loss: 0.6548 - accuracy: 0.6026\n",
      "Epoch 9/10\n",
      "212/212 [==============================] - 0s 880us/step - loss: 0.6512 - accuracy: 0.6252\n",
      "Epoch 10/10\n",
      "212/212 [==============================] - 0s 875us/step - loss: 0.6441 - accuracy: 0.6233\n",
      "30/30 [==============================] - 0s 645us/step\n",
      "120/120 [==============================] - 0s 625us/step\n"
     ]
    },
    {
     "name": "stderr",
     "output_type": "stream",
     "text": [
      "Generating ensemble training data: |██████    | 60%"
     ]
    },
    {
     "name": "stdout",
     "output_type": "stream",
     "text": [
      "Epoch 1/10\n",
      "212/212 [==============================] - 0s 874us/step - loss: 0.9880 - accuracy: 0.5845\n",
      "Epoch 2/10\n",
      "212/212 [==============================] - 0s 934us/step - loss: 0.7017 - accuracy: 0.5760\n",
      "Epoch 3/10\n",
      "212/212 [==============================] - 0s 909us/step - loss: 0.6857 - accuracy: 0.5836\n",
      "Epoch 4/10\n",
      "212/212 [==============================] - 0s 886us/step - loss: 0.6496 - accuracy: 0.6237\n",
      "Epoch 5/10\n",
      "212/212 [==============================] - 0s 893us/step - loss: 0.6438 - accuracy: 0.6298\n",
      "Epoch 6/10\n",
      "212/212 [==============================] - 0s 888us/step - loss: 0.6530 - accuracy: 0.6043\n",
      "Epoch 7/10\n",
      "212/212 [==============================] - 0s 901us/step - loss: 0.6504 - accuracy: 0.6256\n",
      "Epoch 8/10\n",
      "212/212 [==============================] - 0s 899us/step - loss: 0.6368 - accuracy: 0.6435\n",
      "Epoch 9/10\n",
      "212/212 [==============================] - 0s 900us/step - loss: 0.6461 - accuracy: 0.6246\n",
      "Epoch 10/10\n",
      "212/212 [==============================] - 0s 905us/step - loss: 0.6402 - accuracy: 0.6242\n",
      "30/30 [==============================] - 0s 625us/step\n",
      "120/120 [==============================] - 0s 609us/step\n"
     ]
    },
    {
     "name": "stderr",
     "output_type": "stream",
     "text": [
      "Generating ensemble training data: |████████  | 80%"
     ]
    },
    {
     "name": "stdout",
     "output_type": "stream",
     "text": [
      "Epoch 1/10\n",
      "212/212 [==============================] - 0s 887us/step - loss: 1.2190 - accuracy: 0.5420\n",
      "Epoch 2/10\n",
      "212/212 [==============================] - 0s 882us/step - loss: 0.6972 - accuracy: 0.5718\n",
      "Epoch 3/10\n",
      "212/212 [==============================] - 0s 876us/step - loss: 0.6720 - accuracy: 0.5968\n",
      "Epoch 4/10\n",
      "212/212 [==============================] - 0s 889us/step - loss: 0.6653 - accuracy: 0.5925\n",
      "Epoch 5/10\n",
      "212/212 [==============================] - 0s 881us/step - loss: 0.6540 - accuracy: 0.6025\n",
      "Epoch 6/10\n",
      "212/212 [==============================] - 0s 876us/step - loss: 0.6506 - accuracy: 0.6006\n",
      "Epoch 7/10\n",
      "212/212 [==============================] - 0s 883us/step - loss: 0.6491 - accuracy: 0.6114\n",
      "Epoch 8/10\n",
      "212/212 [==============================] - 0s 884us/step - loss: 0.6476 - accuracy: 0.6213\n",
      "Epoch 9/10\n",
      "212/212 [==============================] - 0s 862us/step - loss: 0.6424 - accuracy: 0.6308\n",
      "Epoch 10/10\n",
      "212/212 [==============================] - 0s 852us/step - loss: 0.6396 - accuracy: 0.6327\n",
      "30/30 [==============================] - 0s 636us/step\n",
      "120/120 [==============================] - 0s 607us/step\n"
     ]
    },
    {
     "name": "stderr",
     "output_type": "stream",
     "text": [
      "Generating ensemble training data: |██████████|100%\n"
     ]
    },
    {
     "name": "stdout",
     "output_type": "stream",
     "text": [
      "\n",
      "\n"
     ]
    },
    {
     "name": "stderr",
     "output_type": "stream",
     "text": [
      "Analyzing ensembles: |██████████|100%\n"
     ]
    },
    {
     "name": "stdout",
     "output_type": "stream",
     "text": [
      "DONE WITH MODALITY vitals YAYYYY!!!!\n",
      "Training base predictors on None...\n",
      "        \n",
      "... for ensemble performance analysis...\n"
     ]
    },
    {
     "name": "stderr",
     "output_type": "stream",
     "text": [
      "Generating ensemble training data: |██████████|100%\n",
      "Generating ensemble test data: |██████████|100%\n"
     ]
    },
    {
     "name": "stdout",
     "output_type": "stream",
     "text": [
      "\n",
      "\n"
     ]
    },
    {
     "name": "stderr",
     "output_type": "stream",
     "text": [
      "Generating ensemble training data: |██████████|100%\n",
      "Generating ensemble test data: |██████████|100%\n"
     ]
    },
    {
     "name": "stdout",
     "output_type": "stream",
     "text": [
      "\n",
      "\n"
     ]
    },
    {
     "name": "stderr",
     "output_type": "stream",
     "text": [
      "Generating ensemble training data: |██████████|100%\n",
      "Generating ensemble test data: |██████████|100%\n"
     ]
    },
    {
     "name": "stdout",
     "output_type": "stream",
     "text": [
      "\n",
      "\n"
     ]
    },
    {
     "name": "stderr",
     "output_type": "stream",
     "text": [
      "Generating ensemble training data: |██████████|100%\n",
      "Generating ensemble test data: |██████████|100%\n"
     ]
    },
    {
     "name": "stdout",
     "output_type": "stream",
     "text": [
      "\n",
      "\n"
     ]
    },
    {
     "name": "stderr",
     "output_type": "stream",
     "text": [
      "Analyzing ensembles: |██████████|100%\n"
     ]
    }
   ],
   "source": [
    "warnings.filterwarnings('ignore')\n",
    "performance = {}\n",
    "for k in data.keys():\n",
    "    #modality alone structured\n",
    "    EI = e.EnsembleIntegration(\n",
    "                k_outer=5,\n",
    "                k_inner=5,\n",
    "                n_samples=1,\n",
    "                sampling_strategy=\"undersampling\",\n",
    "                sampling_aggregation=None,\n",
    "                n_jobs=-1,\n",
    "                metrics=metrics,\n",
    "                random_state=38,\n",
    "                project_name=f\"{k}\",\n",
    "                model_building=False,\n",
    "                )\n",
    "    EI.fit_base(data[k], labels, modality_name=k, base_predictors=base_predictors)\n",
    "    \n",
    "    EI.fit_ensemble(ensemble_predictors=ensemble_predictors)\n",
    "    \n",
    "    performance[k] = EI.ensemble_summary\n",
    "\n",
    "    d_base_predictors = build_deep_bps(input_dim=data[k].shape[1])\n",
    "    #modality alone unstructured\n",
    "    EI = e.EnsembleIntegration(\n",
    "                k_outer=5,\n",
    "                k_inner=5,\n",
    "                n_samples=1,\n",
    "                sampling_strategy=\"undersampling\",\n",
    "                sampling_aggregation=None,\n",
    "                n_jobs=-1,\n",
    "                metrics=metrics,\n",
    "                random_state=38,\n",
    "                project_name=f\"{k} deep\",\n",
    "                model_building=False,\n",
    "                )\n",
    "    EI.fit_base(data[k], labels, modality_name=k, base_predictors=d_base_predictors)\n",
    "    \n",
    "    EI.fit_ensemble(ensemble_predictors=ensemble_predictors)\n",
    "\n",
    "    performance[f\"{k} deep\"] = EI.ensemble_summary\n",
    "\n",
    "    #EI with one modality unstructured\n",
    "    EI = e.EnsembleIntegration(\n",
    "                    k_outer=5,\n",
    "                    k_inner=5,\n",
    "                    n_samples=1,\n",
    "                    sampling_strategy=\"undersampling\",\n",
    "                    sampling_aggregation=None,\n",
    "                    n_jobs=-1,\n",
    "                    metrics=metrics,\n",
    "                    random_state=38,\n",
    "                    project_name=f\"EI with {k} deep\",\n",
    "                    model_building=False,\n",
    "                    )\n",
    "    for m in data.keys():\n",
    "        if m == k:\n",
    "            EI.fit_base(data[m], labels, modality_name=m, base_predictors=d_base_predictors)\n",
    "        else:\n",
    "            EI.fit_base(data[m], labels, modality_name=m, base_predictors=base_predictors)\n",
    "    \n",
    "    EI.fit_ensemble(ensemble_predictors=ensemble_predictors)\n",
    "\n",
    "    performance[f\"EI with {k} deep\"] = EI.ensemble_summary\n",
    "\n",
    "    print(f\"DONE WITH MODALITY {k} YAYYYY!!!!\")\n",
    "\n",
    "# normal EI\n",
    "EI = e.EnsembleIntegration(\n",
    "                k_outer=5,\n",
    "                k_inner=5,\n",
    "                n_samples=1,\n",
    "                sampling_strategy=\"undersampling\",\n",
    "                sampling_aggregation=None,\n",
    "                n_jobs=-1,\n",
    "                metrics=metrics,\n",
    "                random_state=38,\n",
    "                project_name=\"EI\",\n",
    "                model_building=False,\n",
    "                )\n",
    "EI.fit_base(data, labels, base_predictors=base_predictors)\n",
    "EI.fit_ensemble(ensemble_predictors=ensemble_predictors)\n",
    "\n",
    "performance[\"EI\"] = EI.ensemble_summary"
   ]
  },
  {
   "cell_type": "code",
   "execution_count": 24,
   "metadata": {},
   "outputs": [
    {
     "name": "stdout",
     "output_type": "stream",
     "text": [
      "Training base predictors on admission...\n",
      "        \n",
      "... for ensemble performance analysis...\n"
     ]
    },
    {
     "name": "stderr",
     "output_type": "stream",
     "text": [
      "Generating ensemble training data: |          |  0%"
     ]
    },
    {
     "name": "stdout",
     "output_type": "stream",
     "text": [
      "Epoch 1/10\n",
      "212/212 [==============================] - 1s 837us/step - loss: 1.0639 - accuracy: 0.5988\n",
      "Epoch 2/10\n",
      "212/212 [==============================] - 0s 768us/step - loss: 0.7556 - accuracy: 0.6352\n",
      "Epoch 3/10\n",
      "212/212 [==============================] - 0s 762us/step - loss: 0.7431 - accuracy: 0.6489\n",
      "Epoch 4/10\n",
      "212/212 [==============================] - 0s 771us/step - loss: 0.6852 - accuracy: 0.6626\n",
      "Epoch 5/10\n",
      "212/212 [==============================] - 0s 760us/step - loss: 0.7067 - accuracy: 0.6564\n",
      "Epoch 6/10\n",
      "212/212 [==============================] - 0s 761us/step - loss: 0.7006 - accuracy: 0.6489\n",
      "Epoch 7/10\n",
      "212/212 [==============================] - 0s 760us/step - loss: 0.6994 - accuracy: 0.6484\n",
      "Epoch 8/10\n",
      "212/212 [==============================] - 0s 742us/step - loss: 0.7210 - accuracy: 0.6465\n",
      "Epoch 9/10\n",
      "212/212 [==============================] - 0s 747us/step - loss: 0.6947 - accuracy: 0.6635\n",
      "Epoch 10/10\n",
      "212/212 [==============================] - 0s 751us/step - loss: 0.6632 - accuracy: 0.6640\n",
      "30/30 [==============================] - 0s 594us/step\n",
      "120/120 [==============================] - 0s 558us/step\n"
     ]
    },
    {
     "name": "stderr",
     "output_type": "stream",
     "text": [
      "Generating ensemble training data: |██        | 20%"
     ]
    },
    {
     "name": "stdout",
     "output_type": "stream",
     "text": [
      "Epoch 1/10\n",
      "212/212 [==============================] - 0s 823us/step - loss: 1.0751 - accuracy: 0.6215\n",
      "Epoch 2/10\n",
      "212/212 [==============================] - 0s 819us/step - loss: 0.7307 - accuracy: 0.6612\n",
      "Epoch 3/10\n",
      "212/212 [==============================] - 0s 828us/step - loss: 0.7002 - accuracy: 0.6508\n",
      "Epoch 4/10\n",
      "212/212 [==============================] - 0s 827us/step - loss: 0.6716 - accuracy: 0.6536\n",
      "Epoch 5/10\n",
      "212/212 [==============================] - 0s 816us/step - loss: 0.6917 - accuracy: 0.6371\n",
      "Epoch 6/10\n",
      "212/212 [==============================] - 0s 816us/step - loss: 0.6485 - accuracy: 0.6583\n",
      "Epoch 7/10\n",
      "212/212 [==============================] - 0s 819us/step - loss: 0.6684 - accuracy: 0.6512\n",
      "Epoch 8/10\n",
      "212/212 [==============================] - 0s 818us/step - loss: 0.6592 - accuracy: 0.6493\n",
      "Epoch 9/10\n",
      "212/212 [==============================] - 0s 815us/step - loss: 0.6352 - accuracy: 0.6583\n",
      "Epoch 10/10\n",
      "212/212 [==============================] - 0s 820us/step - loss: 0.6216 - accuracy: 0.6725\n",
      "30/30 [==============================] - 0s 611us/step\n",
      "120/120 [==============================] - 0s 585us/step\n"
     ]
    },
    {
     "name": "stderr",
     "output_type": "stream",
     "text": [
      "Generating ensemble training data: |████      | 40%"
     ]
    },
    {
     "name": "stdout",
     "output_type": "stream",
     "text": [
      "Epoch 1/10\n",
      "212/212 [==============================] - 0s 820us/step - loss: 1.1090 - accuracy: 0.6059\n",
      "Epoch 2/10\n",
      "212/212 [==============================] - 0s 812us/step - loss: 0.8081 - accuracy: 0.6460\n",
      "Epoch 3/10\n",
      "212/212 [==============================] - 0s 777us/step - loss: 0.6657 - accuracy: 0.6659\n",
      "Epoch 4/10\n",
      "212/212 [==============================] - 0s 771us/step - loss: 0.7649 - accuracy: 0.6300\n",
      "Epoch 5/10\n",
      "212/212 [==============================] - 0s 751us/step - loss: 0.6464 - accuracy: 0.6706\n",
      "Epoch 6/10\n",
      "212/212 [==============================] - 0s 775us/step - loss: 0.6425 - accuracy: 0.6763\n",
      "Epoch 7/10\n",
      "212/212 [==============================] - 0s 818us/step - loss: 0.6441 - accuracy: 0.6602\n",
      "Epoch 8/10\n",
      "212/212 [==============================] - 0s 782us/step - loss: 0.6501 - accuracy: 0.6682\n",
      "Epoch 9/10\n",
      "212/212 [==============================] - 0s 751us/step - loss: 0.6262 - accuracy: 0.6659\n",
      "Epoch 10/10\n",
      "212/212 [==============================] - 0s 771us/step - loss: 0.6558 - accuracy: 0.6706\n",
      "30/30 [==============================] - 0s 601us/step\n",
      "120/120 [==============================] - 0s 565us/step\n"
     ]
    },
    {
     "name": "stderr",
     "output_type": "stream",
     "text": [
      "Generating ensemble training data: |██████    | 60%"
     ]
    },
    {
     "name": "stdout",
     "output_type": "stream",
     "text": [
      "Epoch 1/10\n",
      "212/212 [==============================] - 0s 763us/step - loss: 1.0309 - accuracy: 0.6327\n",
      "Epoch 2/10\n",
      "212/212 [==============================] - 0s 763us/step - loss: 0.7299 - accuracy: 0.6525\n",
      "Epoch 3/10\n",
      "212/212 [==============================] - 0s 792us/step - loss: 0.7020 - accuracy: 0.6393\n",
      "Epoch 4/10\n",
      "212/212 [==============================] - 0s 785us/step - loss: 0.6865 - accuracy: 0.6558\n",
      "Epoch 5/10\n",
      "212/212 [==============================] - 0s 777us/step - loss: 0.6570 - accuracy: 0.6624\n",
      "Epoch 6/10\n",
      "212/212 [==============================] - 0s 792us/step - loss: 0.6605 - accuracy: 0.6657\n",
      "Epoch 7/10\n",
      "212/212 [==============================] - 0s 784us/step - loss: 0.6171 - accuracy: 0.6841\n",
      "Epoch 8/10\n",
      "212/212 [==============================] - 0s 778us/step - loss: 0.6313 - accuracy: 0.6634\n",
      "Epoch 9/10\n",
      "212/212 [==============================] - 0s 760us/step - loss: 0.6775 - accuracy: 0.6558\n",
      "Epoch 10/10\n",
      "212/212 [==============================] - 0s 743us/step - loss: 0.6221 - accuracy: 0.6719\n",
      "30/30 [==============================] - 0s 598us/step\n",
      "120/120 [==============================] - 0s 553us/step\n"
     ]
    },
    {
     "name": "stderr",
     "output_type": "stream",
     "text": [
      "Generating ensemble training data: |████████  | 80%"
     ]
    },
    {
     "name": "stdout",
     "output_type": "stream",
     "text": [
      "Epoch 1/10\n",
      "212/212 [==============================] - 0s 817us/step - loss: 1.0967 - accuracy: 0.6204\n",
      "Epoch 2/10\n",
      "212/212 [==============================] - 0s 813us/step - loss: 0.7410 - accuracy: 0.6440\n",
      "Epoch 3/10\n",
      "212/212 [==============================] - 0s 824us/step - loss: 0.7227 - accuracy: 0.6487\n",
      "Epoch 4/10\n",
      "212/212 [==============================] - 0s 783us/step - loss: 0.7774 - accuracy: 0.6251\n",
      "Epoch 5/10\n",
      "212/212 [==============================] - 0s 776us/step - loss: 0.6554 - accuracy: 0.6516\n",
      "Epoch 6/10\n",
      "212/212 [==============================] - 0s 799us/step - loss: 0.6463 - accuracy: 0.6553\n",
      "Epoch 7/10\n",
      "212/212 [==============================] - 0s 801us/step - loss: 0.6480 - accuracy: 0.6473\n",
      "Epoch 8/10\n",
      "212/212 [==============================] - 0s 819us/step - loss: 0.6713 - accuracy: 0.6445\n",
      "Epoch 9/10\n",
      "212/212 [==============================] - 0s 799us/step - loss: 0.6523 - accuracy: 0.6534\n",
      "Epoch 10/10\n",
      "212/212 [==============================] - 0s 810us/step - loss: 0.6296 - accuracy: 0.6643\n",
      "30/30 [==============================] - 0s 606us/step\n",
      "120/120 [==============================] - 0s 554us/step\n"
     ]
    },
    {
     "name": "stderr",
     "output_type": "stream",
     "text": [
      "Generating ensemble training data: |██████████|100%\n",
      "Generating ensemble training data: |          |  0%"
     ]
    },
    {
     "name": "stdout",
     "output_type": "stream",
     "text": [
      "Epoch 1/10\n",
      "212/212 [==============================] - 1s 979us/step - loss: 3.9107 - accuracy: 0.5250\n",
      "Epoch 2/10\n",
      "212/212 [==============================] - 0s 899us/step - loss: 1.2869 - accuracy: 0.5279\n",
      "Epoch 3/10\n",
      "212/212 [==============================] - 0s 929us/step - loss: 0.8313 - accuracy: 0.5392\n",
      "Epoch 4/10\n",
      "212/212 [==============================] - 0s 906us/step - loss: 0.7440 - accuracy: 0.5529\n",
      "Epoch 5/10\n",
      "212/212 [==============================] - 0s 885us/step - loss: 0.7196 - accuracy: 0.5421\n",
      "Epoch 6/10\n",
      "212/212 [==============================] - 0s 920us/step - loss: 0.6902 - accuracy: 0.5751\n",
      "Epoch 7/10\n",
      "212/212 [==============================] - 0s 908us/step - loss: 0.6868 - accuracy: 0.5855\n",
      "Epoch 8/10\n",
      "212/212 [==============================] - 0s 909us/step - loss: 0.6589 - accuracy: 0.6082\n",
      "Epoch 9/10\n",
      "212/212 [==============================] - 0s 898us/step - loss: 0.6528 - accuracy: 0.6186\n",
      "Epoch 10/10\n",
      "212/212 [==============================] - 0s 885us/step - loss: 0.6382 - accuracy: 0.6248\n",
      "30/30 [==============================] - 0s 647us/step\n",
      "120/120 [==============================] - 0s 612us/step\n"
     ]
    },
    {
     "name": "stderr",
     "output_type": "stream",
     "text": [
      "Generating ensemble training data: |██        | 20%"
     ]
    },
    {
     "name": "stdout",
     "output_type": "stream",
     "text": [
      "Epoch 1/10\n",
      "212/212 [==============================] - 0s 881us/step - loss: 2.2205 - accuracy: 0.5217\n",
      "Epoch 2/10\n",
      "212/212 [==============================] - 0s 867us/step - loss: 0.7717 - accuracy: 0.5373\n",
      "Epoch 3/10\n",
      "212/212 [==============================] - 0s 864us/step - loss: 0.7122 - accuracy: 0.5577\n",
      "Epoch 4/10\n",
      "212/212 [==============================] - 0s 894us/step - loss: 0.6884 - accuracy: 0.5742\n",
      "Epoch 5/10\n",
      "212/212 [==============================] - 0s 889us/step - loss: 0.6758 - accuracy: 0.5884\n",
      "Epoch 6/10\n",
      "212/212 [==============================] - 0s 905us/step - loss: 0.6662 - accuracy: 0.5988\n",
      "Epoch 7/10\n",
      "212/212 [==============================] - 0s 897us/step - loss: 0.6603 - accuracy: 0.6078\n",
      "Epoch 8/10\n",
      "212/212 [==============================] - 0s 895us/step - loss: 0.6590 - accuracy: 0.5950\n",
      "Epoch 9/10\n",
      "212/212 [==============================] - 0s 895us/step - loss: 0.6509 - accuracy: 0.6205\n",
      "Epoch 10/10\n",
      "212/212 [==============================] - 0s 888us/step - loss: 0.6436 - accuracy: 0.6271\n",
      "30/30 [==============================] - 0s 602us/step\n",
      "120/120 [==============================] - 0s 593us/step\n"
     ]
    },
    {
     "name": "stderr",
     "output_type": "stream",
     "text": [
      "Generating ensemble training data: |████      | 40%"
     ]
    },
    {
     "name": "stdout",
     "output_type": "stream",
     "text": [
      "Epoch 1/10\n",
      "212/212 [==============================] - 0s 869us/step - loss: 2.2227 - accuracy: 0.5232\n",
      "Epoch 2/10\n",
      "212/212 [==============================] - 0s 898us/step - loss: 0.7333 - accuracy: 0.5184\n",
      "Epoch 3/10\n",
      "212/212 [==============================] - 0s 887us/step - loss: 0.6922 - accuracy: 0.5647\n",
      "Epoch 4/10\n",
      "212/212 [==============================] - 0s 888us/step - loss: 0.6570 - accuracy: 0.6059\n",
      "Epoch 5/10\n",
      "212/212 [==============================] - 0s 857us/step - loss: 0.6577 - accuracy: 0.6011\n",
      "Epoch 6/10\n",
      "212/212 [==============================] - 0s 858us/step - loss: 0.6496 - accuracy: 0.6309\n",
      "Epoch 7/10\n",
      "212/212 [==============================] - 0s 856us/step - loss: 0.6352 - accuracy: 0.6323\n",
      "Epoch 8/10\n",
      "212/212 [==============================] - 0s 851us/step - loss: 0.6423 - accuracy: 0.6394\n",
      "Epoch 9/10\n",
      "212/212 [==============================] - 0s 857us/step - loss: 0.6425 - accuracy: 0.6257\n",
      "Epoch 10/10\n",
      "212/212 [==============================] - 0s 853us/step - loss: 0.6191 - accuracy: 0.6541\n",
      "30/30 [==============================] - 0s 620us/step\n",
      "120/120 [==============================] - 0s 588us/step\n"
     ]
    },
    {
     "name": "stderr",
     "output_type": "stream",
     "text": [
      "Generating ensemble training data: |██████    | 60%"
     ]
    },
    {
     "name": "stdout",
     "output_type": "stream",
     "text": [
      "Epoch 1/10\n",
      "212/212 [==============================] - 0s 867us/step - loss: 2.0680 - accuracy: 0.5208\n",
      "Epoch 2/10\n",
      "212/212 [==============================] - 0s 869us/step - loss: 0.7353 - accuracy: 0.5576\n",
      "Epoch 3/10\n",
      "212/212 [==============================] - 0s 870us/step - loss: 0.7113 - accuracy: 0.5571\n",
      "Epoch 4/10\n",
      "212/212 [==============================] - 0s 860us/step - loss: 0.6830 - accuracy: 0.5765\n",
      "Epoch 5/10\n",
      "212/212 [==============================] - 0s 855us/step - loss: 0.6667 - accuracy: 0.5992\n",
      "Epoch 6/10\n",
      "212/212 [==============================] - 0s 870us/step - loss: 0.6585 - accuracy: 0.6043\n",
      "Epoch 7/10\n",
      "212/212 [==============================] - 0s 877us/step - loss: 0.6362 - accuracy: 0.6360\n",
      "Epoch 8/10\n",
      "212/212 [==============================] - 0s 879us/step - loss: 0.6410 - accuracy: 0.6327\n",
      "Epoch 9/10\n",
      "212/212 [==============================] - 0s 881us/step - loss: 0.6234 - accuracy: 0.6435\n",
      "Epoch 10/10\n",
      "212/212 [==============================] - 0s 896us/step - loss: 0.6180 - accuracy: 0.6648\n",
      "30/30 [==============================] - 0s 589us/step\n",
      "120/120 [==============================] - 0s 584us/step\n"
     ]
    },
    {
     "name": "stderr",
     "output_type": "stream",
     "text": [
      "Generating ensemble training data: |████████  | 80%"
     ]
    },
    {
     "name": "stdout",
     "output_type": "stream",
     "text": [
      "Epoch 1/10\n",
      "212/212 [==============================] - 0s 927us/step - loss: 2.1366 - accuracy: 0.5151\n",
      "Epoch 2/10\n",
      "212/212 [==============================] - 0s 930us/step - loss: 0.7108 - accuracy: 0.5845\n",
      "Epoch 3/10\n",
      "212/212 [==============================] - 0s 925us/step - loss: 0.6974 - accuracy: 0.5831\n",
      "Epoch 4/10\n",
      "212/212 [==============================] - 0s 898us/step - loss: 0.6722 - accuracy: 0.5996\n",
      "Epoch 5/10\n",
      "212/212 [==============================] - 0s 903us/step - loss: 0.6439 - accuracy: 0.6223\n",
      "Epoch 6/10\n",
      "212/212 [==============================] - 0s 904us/step - loss: 0.6488 - accuracy: 0.6284\n",
      "Epoch 7/10\n",
      "212/212 [==============================] - 0s 944us/step - loss: 0.6347 - accuracy: 0.6388\n",
      "Epoch 8/10\n",
      "212/212 [==============================] - 0s 944us/step - loss: 0.6390 - accuracy: 0.6275\n",
      "Epoch 9/10\n",
      "212/212 [==============================] - 0s 920us/step - loss: 0.6272 - accuracy: 0.6449\n",
      "Epoch 10/10\n",
      "212/212 [==============================] - 0s 921us/step - loss: 0.6278 - accuracy: 0.6435\n",
      "30/30 [==============================] - 0s 620us/step\n",
      "120/120 [==============================] - 0s 603us/step\n"
     ]
    },
    {
     "name": "stderr",
     "output_type": "stream",
     "text": [
      "Generating ensemble training data: |██████████|100%\n",
      "Generating ensemble training data: |          |  0%"
     ]
    },
    {
     "name": "stdout",
     "output_type": "stream",
     "text": [
      "Epoch 1/10\n",
      "212/212 [==============================] - 1s 912us/step - loss: 1.4399 - accuracy: 0.6186\n",
      "Epoch 2/10\n",
      "212/212 [==============================] - 0s 829us/step - loss: 0.6908 - accuracy: 0.6536\n",
      "Epoch 3/10\n",
      "212/212 [==============================] - 0s 825us/step - loss: 0.7013 - accuracy: 0.6437\n",
      "Epoch 4/10\n",
      "212/212 [==============================] - 0s 828us/step - loss: 0.6690 - accuracy: 0.6564\n",
      "Epoch 5/10\n",
      "212/212 [==============================] - 0s 822us/step - loss: 0.6367 - accuracy: 0.6588\n",
      "Epoch 6/10\n",
      "212/212 [==============================] - 0s 822us/step - loss: 0.6462 - accuracy: 0.6640\n",
      "Epoch 7/10\n",
      "212/212 [==============================] - 0s 824us/step - loss: 0.6971 - accuracy: 0.6517\n",
      "Epoch 8/10\n",
      "212/212 [==============================] - 0s 836us/step - loss: 0.6334 - accuracy: 0.6720\n",
      "Epoch 9/10\n",
      "212/212 [==============================] - 0s 835us/step - loss: 0.6343 - accuracy: 0.6682\n",
      "Epoch 10/10\n",
      "212/212 [==============================] - 0s 823us/step - loss: 0.6581 - accuracy: 0.6607\n",
      "30/30 [==============================] - 0s 647us/step\n",
      "120/120 [==============================] - 0s 624us/step\n"
     ]
    },
    {
     "name": "stderr",
     "output_type": "stream",
     "text": [
      "Generating ensemble training data: |██        | 20%"
     ]
    },
    {
     "name": "stdout",
     "output_type": "stream",
     "text": [
      "Epoch 1/10\n",
      "212/212 [==============================] - 0s 835us/step - loss: 1.2768 - accuracy: 0.6196\n",
      "Epoch 2/10\n",
      "212/212 [==============================] - 0s 833us/step - loss: 0.7243 - accuracy: 0.6456\n",
      "Epoch 3/10\n",
      "212/212 [==============================] - 0s 835us/step - loss: 0.7211 - accuracy: 0.6437\n",
      "Epoch 4/10\n",
      "212/212 [==============================] - 0s 861us/step - loss: 0.6726 - accuracy: 0.6489\n",
      "Epoch 5/10\n",
      "212/212 [==============================] - 0s 854us/step - loss: 0.7156 - accuracy: 0.6371\n",
      "Epoch 6/10\n",
      "212/212 [==============================] - 0s 853us/step - loss: 0.6371 - accuracy: 0.6612\n",
      "Epoch 7/10\n",
      "212/212 [==============================] - 0s 849us/step - loss: 0.6541 - accuracy: 0.6645\n",
      "Epoch 8/10\n",
      "212/212 [==============================] - 0s 851us/step - loss: 0.6653 - accuracy: 0.6512\n",
      "Epoch 9/10\n",
      "212/212 [==============================] - 0s 852us/step - loss: 0.6262 - accuracy: 0.6526\n",
      "Epoch 10/10\n",
      "212/212 [==============================] - 0s 859us/step - loss: 0.6430 - accuracy: 0.6555\n",
      "30/30 [==============================] - 0s 628us/step\n",
      "120/120 [==============================] - 0s 583us/step\n"
     ]
    },
    {
     "name": "stderr",
     "output_type": "stream",
     "text": [
      "Generating ensemble training data: |████      | 40%"
     ]
    },
    {
     "name": "stdout",
     "output_type": "stream",
     "text": [
      "Epoch 1/10\n",
      "212/212 [==============================] - 0s 862us/step - loss: 1.3491 - accuracy: 0.6172\n",
      "Epoch 2/10\n",
      "212/212 [==============================] - 0s 842us/step - loss: 0.8134 - accuracy: 0.6371\n",
      "Epoch 3/10\n",
      "212/212 [==============================] - 0s 832us/step - loss: 0.6811 - accuracy: 0.6635\n",
      "Epoch 4/10\n",
      "212/212 [==============================] - 0s 829us/step - loss: 0.6556 - accuracy: 0.6716\n",
      "Epoch 5/10\n",
      "212/212 [==============================] - 0s 811us/step - loss: 0.6886 - accuracy: 0.6555\n",
      "Epoch 6/10\n",
      "212/212 [==============================] - 0s 808us/step - loss: 0.6766 - accuracy: 0.6630\n",
      "Epoch 7/10\n",
      "212/212 [==============================] - 0s 807us/step - loss: 0.6344 - accuracy: 0.6645\n",
      "Epoch 8/10\n",
      "212/212 [==============================] - 0s 810us/step - loss: 0.6054 - accuracy: 0.6871\n",
      "Epoch 9/10\n",
      "212/212 [==============================] - 0s 812us/step - loss: 0.6376 - accuracy: 0.6630\n",
      "Epoch 10/10\n",
      "212/212 [==============================] - 0s 807us/step - loss: 0.6316 - accuracy: 0.6876\n",
      "30/30 [==============================] - 0s 628us/step\n",
      "120/120 [==============================] - 0s 589us/step\n"
     ]
    },
    {
     "name": "stderr",
     "output_type": "stream",
     "text": [
      "Generating ensemble training data: |██████    | 60%"
     ]
    },
    {
     "name": "stdout",
     "output_type": "stream",
     "text": [
      "Epoch 1/10\n",
      "212/212 [==============================] - 0s 865us/step - loss: 1.1971 - accuracy: 0.6501\n",
      "Epoch 2/10\n",
      "212/212 [==============================] - 0s 856us/step - loss: 0.6697 - accuracy: 0.6619\n",
      "Epoch 3/10\n",
      "212/212 [==============================] - 0s 886us/step - loss: 0.6496 - accuracy: 0.6733\n",
      "Epoch 4/10\n",
      "212/212 [==============================] - 0s 863us/step - loss: 0.6881 - accuracy: 0.6572\n",
      "Epoch 5/10\n",
      "212/212 [==============================] - 0s 810us/step - loss: 0.6676 - accuracy: 0.6568\n",
      "Epoch 6/10\n",
      "212/212 [==============================] - 0s 801us/step - loss: 0.6891 - accuracy: 0.6506\n",
      "Epoch 7/10\n",
      "212/212 [==============================] - 0s 802us/step - loss: 0.7397 - accuracy: 0.6459\n",
      "Epoch 8/10\n",
      "212/212 [==============================] - 0s 820us/step - loss: 0.6287 - accuracy: 0.6752\n",
      "Epoch 9/10\n",
      "212/212 [==============================] - 0s 816us/step - loss: 0.6084 - accuracy: 0.6808\n",
      "Epoch 10/10\n",
      "212/212 [==============================] - 0s 826us/step - loss: 0.6139 - accuracy: 0.6846\n",
      "30/30 [==============================] - 0s 641us/step\n",
      "120/120 [==============================] - 0s 596us/step\n"
     ]
    },
    {
     "name": "stderr",
     "output_type": "stream",
     "text": [
      "Generating ensemble training data: |████████  | 80%"
     ]
    },
    {
     "name": "stdout",
     "output_type": "stream",
     "text": [
      "Epoch 1/10\n",
      "212/212 [==============================] - 0s 840us/step - loss: 1.2403 - accuracy: 0.6209\n",
      "Epoch 2/10\n",
      "212/212 [==============================] - 0s 822us/step - loss: 0.8009 - accuracy: 0.6416\n",
      "Epoch 3/10\n",
      "212/212 [==============================] - 0s 830us/step - loss: 0.7026 - accuracy: 0.6497\n",
      "Epoch 4/10\n",
      "212/212 [==============================] - 0s 833us/step - loss: 0.6880 - accuracy: 0.6445\n",
      "Epoch 5/10\n",
      "212/212 [==============================] - 0s 866us/step - loss: 0.6751 - accuracy: 0.6610\n",
      "Epoch 6/10\n",
      "212/212 [==============================] - 0s 872us/step - loss: 0.6850 - accuracy: 0.6577\n",
      "Epoch 7/10\n",
      "212/212 [==============================] - 0s 865us/step - loss: 0.6594 - accuracy: 0.6534\n",
      "Epoch 8/10\n",
      "212/212 [==============================] - 0s 866us/step - loss: 0.7168 - accuracy: 0.6379\n",
      "Epoch 9/10\n",
      "212/212 [==============================] - 0s 895us/step - loss: 0.6522 - accuracy: 0.6530\n",
      "Epoch 10/10\n",
      "212/212 [==============================] - 0s 892us/step - loss: 0.6453 - accuracy: 0.6520\n",
      "30/30 [==============================] - 0s 619us/step\n",
      "120/120 [==============================] - 0s 593us/step\n"
     ]
    },
    {
     "name": "stderr",
     "output_type": "stream",
     "text": [
      "Generating ensemble training data: |██████████|100%\n",
      "Generating ensemble training data: |          |  0%"
     ]
    },
    {
     "name": "stdout",
     "output_type": "stream",
     "text": [
      "Epoch 1/10\n",
      "212/212 [==============================] - 1s 968us/step - loss: 0.7791 - accuracy: 0.6196\n",
      "Epoch 2/10\n",
      "212/212 [==============================] - 0s 881us/step - loss: 0.6440 - accuracy: 0.6645\n",
      "Epoch 3/10\n",
      "212/212 [==============================] - 0s 880us/step - loss: 0.6239 - accuracy: 0.6564\n",
      "Epoch 4/10\n",
      "212/212 [==============================] - 0s 871us/step - loss: 0.6041 - accuracy: 0.6616\n",
      "Epoch 5/10\n",
      "212/212 [==============================] - 0s 881us/step - loss: 0.6052 - accuracy: 0.6621\n",
      "Epoch 6/10\n",
      "212/212 [==============================] - 0s 867us/step - loss: 0.5911 - accuracy: 0.6777\n",
      "Epoch 7/10\n",
      "212/212 [==============================] - 0s 872us/step - loss: 0.5937 - accuracy: 0.6734\n",
      "Epoch 8/10\n",
      "212/212 [==============================] - 0s 860us/step - loss: 0.5867 - accuracy: 0.6782\n",
      "Epoch 9/10\n",
      "212/212 [==============================] - 0s 862us/step - loss: 0.5849 - accuracy: 0.6886\n",
      "Epoch 10/10\n",
      "212/212 [==============================] - 0s 870us/step - loss: 0.5809 - accuracy: 0.6824\n",
      "30/30 [==============================] - 0s 701us/step\n",
      "120/120 [==============================] - 0s 636us/step\n"
     ]
    },
    {
     "name": "stderr",
     "output_type": "stream",
     "text": [
      "Generating ensemble training data: |██        | 20%"
     ]
    },
    {
     "name": "stdout",
     "output_type": "stream",
     "text": [
      "Epoch 1/10\n",
      "212/212 [==============================] - 0s 866us/step - loss: 0.8649 - accuracy: 0.5959\n",
      "Epoch 2/10\n",
      "212/212 [==============================] - 0s 869us/step - loss: 0.6170 - accuracy: 0.6725\n",
      "Epoch 3/10\n",
      "212/212 [==============================] - 0s 867us/step - loss: 0.6043 - accuracy: 0.6725\n",
      "Epoch 4/10\n",
      "212/212 [==============================] - 0s 863us/step - loss: 0.6126 - accuracy: 0.6687\n",
      "Epoch 5/10\n",
      "212/212 [==============================] - 0s 861us/step - loss: 0.5897 - accuracy: 0.6711\n",
      "Epoch 6/10\n",
      "212/212 [==============================] - 0s 856us/step - loss: 0.5858 - accuracy: 0.6711\n",
      "Epoch 7/10\n",
      "212/212 [==============================] - 0s 847us/step - loss: 0.5847 - accuracy: 0.6810\n",
      "Epoch 8/10\n",
      "212/212 [==============================] - 0s 855us/step - loss: 0.5907 - accuracy: 0.6876\n",
      "Epoch 9/10\n",
      "212/212 [==============================] - 0s 853us/step - loss: 0.5831 - accuracy: 0.6848\n",
      "Epoch 10/10\n",
      "212/212 [==============================] - 0s 858us/step - loss: 0.5838 - accuracy: 0.6819\n",
      "30/30 [==============================] - 0s 661us/step\n",
      "120/120 [==============================] - 0s 601us/step\n"
     ]
    },
    {
     "name": "stderr",
     "output_type": "stream",
     "text": [
      "Generating ensemble training data: |████      | 40%"
     ]
    },
    {
     "name": "stdout",
     "output_type": "stream",
     "text": [
      "Epoch 1/10\n",
      "212/212 [==============================] - 0s 847us/step - loss: 0.8246 - accuracy: 0.6210\n",
      "Epoch 2/10\n",
      "212/212 [==============================] - 0s 870us/step - loss: 0.6253 - accuracy: 0.6503\n",
      "Epoch 3/10\n",
      "212/212 [==============================] - 0s 850us/step - loss: 0.5963 - accuracy: 0.6753\n",
      "Epoch 4/10\n",
      "212/212 [==============================] - 0s 857us/step - loss: 0.5926 - accuracy: 0.6886\n",
      "Epoch 5/10\n",
      "212/212 [==============================] - 0s 855us/step - loss: 0.5910 - accuracy: 0.6838\n",
      "Epoch 6/10\n",
      "212/212 [==============================] - 0s 843us/step - loss: 0.5936 - accuracy: 0.6886\n",
      "Epoch 7/10\n",
      "212/212 [==============================] - 0s 847us/step - loss: 0.5904 - accuracy: 0.6767\n",
      "Epoch 8/10\n",
      "212/212 [==============================] - 0s 850us/step - loss: 0.5881 - accuracy: 0.6947\n",
      "Epoch 9/10\n",
      "212/212 [==============================] - 0s 851us/step - loss: 0.5846 - accuracy: 0.6938\n",
      "Epoch 10/10\n",
      "212/212 [==============================] - 0s 849us/step - loss: 0.5865 - accuracy: 0.6801\n",
      "30/30 [==============================] - 0s 603us/step\n",
      "120/120 [==============================] - 0s 603us/step\n"
     ]
    },
    {
     "name": "stderr",
     "output_type": "stream",
     "text": [
      "Generating ensemble training data: |██████    | 60%"
     ]
    },
    {
     "name": "stdout",
     "output_type": "stream",
     "text": [
      "Epoch 1/10\n",
      "212/212 [==============================] - 0s 882us/step - loss: 0.8309 - accuracy: 0.6237\n",
      "Epoch 2/10\n",
      "212/212 [==============================] - 0s 862us/step - loss: 0.6061 - accuracy: 0.6799\n",
      "Epoch 3/10\n",
      "212/212 [==============================] - 0s 853us/step - loss: 0.5953 - accuracy: 0.6742\n",
      "Epoch 4/10\n",
      "212/212 [==============================] - 0s 852us/step - loss: 0.5817 - accuracy: 0.6841\n",
      "Epoch 5/10\n",
      "212/212 [==============================] - 0s 845us/step - loss: 0.6054 - accuracy: 0.6624\n",
      "Epoch 6/10\n",
      "212/212 [==============================] - 0s 850us/step - loss: 0.5836 - accuracy: 0.6837\n",
      "Epoch 7/10\n",
      "212/212 [==============================] - 0s 854us/step - loss: 0.5788 - accuracy: 0.6969\n",
      "Epoch 8/10\n",
      "212/212 [==============================] - 0s 860us/step - loss: 0.5730 - accuracy: 0.6893\n",
      "Epoch 9/10\n",
      "212/212 [==============================] - 0s 837us/step - loss: 0.5836 - accuracy: 0.6856\n",
      "Epoch 10/10\n",
      "212/212 [==============================] - 0s 829us/step - loss: 0.5877 - accuracy: 0.6856\n",
      "30/30 [==============================] - 0s 633us/step\n",
      "120/120 [==============================] - 0s 598us/step\n"
     ]
    },
    {
     "name": "stderr",
     "output_type": "stream",
     "text": [
      "Generating ensemble training data: |████████  | 80%"
     ]
    },
    {
     "name": "stdout",
     "output_type": "stream",
     "text": [
      "Epoch 1/10\n",
      "212/212 [==============================] - 0s 882us/step - loss: 0.8000 - accuracy: 0.6256\n",
      "Epoch 2/10\n",
      "212/212 [==============================] - 0s 872us/step - loss: 0.6353 - accuracy: 0.6454\n",
      "Epoch 3/10\n",
      "212/212 [==============================] - 0s 851us/step - loss: 0.6042 - accuracy: 0.6785\n",
      "Epoch 4/10\n",
      "212/212 [==============================] - 0s 866us/step - loss: 0.6264 - accuracy: 0.6454\n",
      "Epoch 5/10\n",
      "212/212 [==============================] - 0s 854us/step - loss: 0.6032 - accuracy: 0.6723\n",
      "Epoch 6/10\n",
      "212/212 [==============================] - 0s 878us/step - loss: 0.5955 - accuracy: 0.6648\n",
      "Epoch 7/10\n",
      "212/212 [==============================] - 0s 897us/step - loss: 0.5912 - accuracy: 0.6737\n",
      "Epoch 8/10\n",
      "212/212 [==============================] - 0s 905us/step - loss: 0.5843 - accuracy: 0.6771\n",
      "Epoch 9/10\n",
      "212/212 [==============================] - 0s 888us/step - loss: 0.5917 - accuracy: 0.6728\n",
      "Epoch 10/10\n",
      "212/212 [==============================] - 0s 886us/step - loss: 0.5969 - accuracy: 0.6676\n",
      "30/30 [==============================] - 0s 620us/step\n",
      "120/120 [==============================] - 0s 597us/step\n"
     ]
    },
    {
     "name": "stderr",
     "output_type": "stream",
     "text": [
      "Generating ensemble training data: |██████████|100%"
     ]
    },
    {
     "name": "stdout",
     "output_type": "stream",
     "text": [
      "\n",
      "\n"
     ]
    },
    {
     "name": "stderr",
     "output_type": "stream",
     "text": [
      "\n"
     ]
    },
    {
     "name": "stdout",
     "output_type": "stream",
     "text": [
      "Training base predictors on comorbidities...\n",
      "        \n",
      "... for ensemble performance analysis...\n"
     ]
    },
    {
     "name": "stderr",
     "output_type": "stream",
     "text": [
      "Generating ensemble training data: |          |  0%"
     ]
    },
    {
     "name": "stdout",
     "output_type": "stream",
     "text": [
      "Epoch 1/10\n",
      "212/212 [==============================] - 1s 848us/step - loss: 0.6855 - accuracy: 0.5477\n",
      "Epoch 2/10\n",
      "212/212 [==============================] - 0s 781us/step - loss: 0.6740 - accuracy: 0.5827\n",
      "Epoch 3/10\n",
      "212/212 [==============================] - 0s 781us/step - loss: 0.6669 - accuracy: 0.5855\n",
      "Epoch 4/10\n",
      "212/212 [==============================] - 0s 781us/step - loss: 0.6621 - accuracy: 0.5940\n",
      "Epoch 5/10\n",
      "212/212 [==============================] - 0s 780us/step - loss: 0.6586 - accuracy: 0.5969\n",
      "Epoch 6/10\n",
      "212/212 [==============================] - 0s 779us/step - loss: 0.6567 - accuracy: 0.6026\n",
      "Epoch 7/10\n",
      "212/212 [==============================] - 0s 785us/step - loss: 0.6524 - accuracy: 0.6044\n",
      "Epoch 8/10\n",
      "212/212 [==============================] - 0s 784us/step - loss: 0.6493 - accuracy: 0.6007\n",
      "Epoch 9/10\n",
      "212/212 [==============================] - 0s 785us/step - loss: 0.6473 - accuracy: 0.6101\n",
      "Epoch 10/10\n",
      "212/212 [==============================] - 0s 782us/step - loss: 0.6447 - accuracy: 0.6120\n",
      "30/30 [==============================] - 0s 617us/step\n",
      "120/120 [==============================] - 0s 581us/step\n"
     ]
    },
    {
     "name": "stderr",
     "output_type": "stream",
     "text": [
      "Generating ensemble training data: |██        | 20%"
     ]
    },
    {
     "name": "stdout",
     "output_type": "stream",
     "text": [
      "Epoch 1/10\n",
      "212/212 [==============================] - 0s 769us/step - loss: 0.6885 - accuracy: 0.5558\n",
      "Epoch 2/10\n",
      "212/212 [==============================] - 0s 762us/step - loss: 0.6791 - accuracy: 0.5718\n",
      "Epoch 3/10\n",
      "212/212 [==============================] - 0s 768us/step - loss: 0.6740 - accuracy: 0.5789\n",
      "Epoch 4/10\n",
      "212/212 [==============================] - 0s 778us/step - loss: 0.6692 - accuracy: 0.5898\n",
      "Epoch 5/10\n",
      "212/212 [==============================] - 0s 779us/step - loss: 0.6665 - accuracy: 0.5888\n",
      "Epoch 6/10\n",
      "212/212 [==============================] - 0s 780us/step - loss: 0.6645 - accuracy: 0.5983\n",
      "Epoch 7/10\n",
      "212/212 [==============================] - 0s 773us/step - loss: 0.6610 - accuracy: 0.5950\n",
      "Epoch 8/10\n",
      "212/212 [==============================] - 0s 774us/step - loss: 0.6584 - accuracy: 0.6021\n",
      "Epoch 9/10\n",
      "212/212 [==============================] - 0s 771us/step - loss: 0.6562 - accuracy: 0.6026\n",
      "Epoch 10/10\n",
      "212/212 [==============================] - 0s 771us/step - loss: 0.6534 - accuracy: 0.6030\n",
      "30/30 [==============================] - 0s 599us/step\n",
      "120/120 [==============================] - 0s 568us/step\n"
     ]
    },
    {
     "name": "stderr",
     "output_type": "stream",
     "text": [
      "Generating ensemble training data: |████      | 40%"
     ]
    },
    {
     "name": "stdout",
     "output_type": "stream",
     "text": [
      "Epoch 1/10\n",
      "212/212 [==============================] - 0s 784us/step - loss: 0.6879 - accuracy: 0.5449\n",
      "Epoch 2/10\n",
      "212/212 [==============================] - 0s 778us/step - loss: 0.6777 - accuracy: 0.5789\n",
      "Epoch 3/10\n",
      "212/212 [==============================] - 0s 779us/step - loss: 0.6722 - accuracy: 0.5832\n",
      "Epoch 4/10\n",
      "212/212 [==============================] - 0s 775us/step - loss: 0.6673 - accuracy: 0.5803\n",
      "Epoch 5/10\n",
      "212/212 [==============================] - 0s 777us/step - loss: 0.6635 - accuracy: 0.5936\n",
      "Epoch 6/10\n",
      "212/212 [==============================] - 0s 779us/step - loss: 0.6599 - accuracy: 0.5983\n",
      "Epoch 7/10\n",
      "212/212 [==============================] - 0s 779us/step - loss: 0.6573 - accuracy: 0.5931\n",
      "Epoch 8/10\n",
      "212/212 [==============================] - 0s 786us/step - loss: 0.6542 - accuracy: 0.5983\n",
      "Epoch 9/10\n",
      "212/212 [==============================] - 0s 780us/step - loss: 0.6514 - accuracy: 0.6021\n",
      "Epoch 10/10\n",
      "212/212 [==============================] - 0s 780us/step - loss: 0.6484 - accuracy: 0.6059\n",
      "30/30 [==============================] - 0s 596us/step\n",
      "120/120 [==============================] - 0s 571us/step\n"
     ]
    },
    {
     "name": "stderr",
     "output_type": "stream",
     "text": [
      "Generating ensemble training data: |██████    | 60%"
     ]
    },
    {
     "name": "stdout",
     "output_type": "stream",
     "text": [
      "Epoch 1/10\n",
      "212/212 [==============================] - 0s 790us/step - loss: 0.6900 - accuracy: 0.5302\n",
      "Epoch 2/10\n",
      "212/212 [==============================] - 0s 789us/step - loss: 0.6820 - accuracy: 0.5529\n",
      "Epoch 3/10\n",
      "212/212 [==============================] - 0s 781us/step - loss: 0.6774 - accuracy: 0.5661\n",
      "Epoch 4/10\n",
      "212/212 [==============================] - 0s 785us/step - loss: 0.6747 - accuracy: 0.5595\n",
      "Epoch 5/10\n",
      "212/212 [==============================] - 0s 781us/step - loss: 0.6717 - accuracy: 0.5770\n",
      "Epoch 6/10\n",
      "212/212 [==============================] - 0s 784us/step - loss: 0.6683 - accuracy: 0.5774\n",
      "Epoch 7/10\n",
      "212/212 [==============================] - 0s 781us/step - loss: 0.6659 - accuracy: 0.5788\n",
      "Epoch 8/10\n",
      "212/212 [==============================] - 0s 779us/step - loss: 0.6639 - accuracy: 0.5798\n",
      "Epoch 9/10\n",
      "212/212 [==============================] - 0s 778us/step - loss: 0.6609 - accuracy: 0.5822\n",
      "Epoch 10/10\n",
      "212/212 [==============================] - 0s 775us/step - loss: 0.6590 - accuracy: 0.5803\n",
      "30/30 [==============================] - 0s 594us/step\n",
      "120/120 [==============================] - 0s 559us/step\n"
     ]
    },
    {
     "name": "stderr",
     "output_type": "stream",
     "text": [
      "Generating ensemble training data: |████████  | 80%"
     ]
    },
    {
     "name": "stdout",
     "output_type": "stream",
     "text": [
      "Epoch 1/10\n",
      "212/212 [==============================] - 0s 779us/step - loss: 0.6874 - accuracy: 0.5595\n",
      "Epoch 2/10\n",
      "212/212 [==============================] - 0s 774us/step - loss: 0.6784 - accuracy: 0.5793\n",
      "Epoch 3/10\n",
      "212/212 [==============================] - 0s 783us/step - loss: 0.6724 - accuracy: 0.5902\n",
      "Epoch 4/10\n",
      "212/212 [==============================] - 0s 769us/step - loss: 0.6678 - accuracy: 0.5958\n",
      "Epoch 5/10\n",
      "212/212 [==============================] - 0s 819us/step - loss: 0.6644 - accuracy: 0.5968\n",
      "Epoch 6/10\n",
      "212/212 [==============================] - 0s 836us/step - loss: 0.6618 - accuracy: 0.5996\n",
      "Epoch 7/10\n",
      "212/212 [==============================] - 0s 835us/step - loss: 0.6572 - accuracy: 0.6058\n",
      "Epoch 8/10\n",
      "212/212 [==============================] - 0s 827us/step - loss: 0.6541 - accuracy: 0.6053\n",
      "Epoch 9/10\n",
      "212/212 [==============================] - 0s 903us/step - loss: 0.6513 - accuracy: 0.6091\n",
      "Epoch 10/10\n",
      "212/212 [==============================] - 0s 837us/step - loss: 0.6480 - accuracy: 0.6128\n",
      "30/30 [==============================] - 0s 618us/step\n",
      "120/120 [==============================] - 0s 555us/step\n"
     ]
    },
    {
     "name": "stderr",
     "output_type": "stream",
     "text": [
      "Generating ensemble training data: |██████████|100%\n",
      "Generating ensemble training data: |          |  0%"
     ]
    },
    {
     "name": "stdout",
     "output_type": "stream",
     "text": [
      "Epoch 1/10\n",
      "212/212 [==============================] - 1s 980us/step - loss: 0.6914 - accuracy: 0.5312\n",
      "Epoch 2/10\n",
      "212/212 [==============================] - 0s 903us/step - loss: 0.6809 - accuracy: 0.5884\n",
      "Epoch 3/10\n",
      "212/212 [==============================] - 0s 931us/step - loss: 0.6777 - accuracy: 0.5718\n",
      "Epoch 4/10\n",
      "212/212 [==============================] - 0s 897us/step - loss: 0.6751 - accuracy: 0.5808\n",
      "Epoch 5/10\n",
      "212/212 [==============================] - 0s 918us/step - loss: 0.6711 - accuracy: 0.5832\n",
      "Epoch 6/10\n",
      "212/212 [==============================] - 0s 910us/step - loss: 0.6700 - accuracy: 0.5841\n",
      "Epoch 7/10\n",
      "212/212 [==============================] - 0s 902us/step - loss: 0.6652 - accuracy: 0.5988\n",
      "Epoch 8/10\n",
      "212/212 [==============================] - 0s 909us/step - loss: 0.6672 - accuracy: 0.5917\n",
      "Epoch 9/10\n",
      "212/212 [==============================] - 0s 899us/step - loss: 0.6666 - accuracy: 0.5827\n",
      "Epoch 10/10\n",
      "212/212 [==============================] - 0s 942us/step - loss: 0.6648 - accuracy: 0.5865\n",
      "30/30 [==============================] - 0s 634us/step\n",
      "120/120 [==============================] - 0s 612us/step\n"
     ]
    },
    {
     "name": "stderr",
     "output_type": "stream",
     "text": [
      "Generating ensemble training data: |██        | 20%"
     ]
    },
    {
     "name": "stdout",
     "output_type": "stream",
     "text": [
      "Epoch 1/10\n",
      "212/212 [==============================] - 0s 936us/step - loss: 0.6914 - accuracy: 0.5307\n",
      "Epoch 2/10\n",
      "212/212 [==============================] - 0s 932us/step - loss: 0.6847 - accuracy: 0.5624\n",
      "Epoch 3/10\n",
      "212/212 [==============================] - 0s 918us/step - loss: 0.6831 - accuracy: 0.5643\n",
      "Epoch 4/10\n",
      "212/212 [==============================] - 0s 920us/step - loss: 0.6775 - accuracy: 0.5718\n",
      "Epoch 5/10\n",
      "212/212 [==============================] - 0s 930us/step - loss: 0.6776 - accuracy: 0.5766\n",
      "Epoch 6/10\n",
      "212/212 [==============================] - 0s 915us/step - loss: 0.6721 - accuracy: 0.5794\n",
      "Epoch 7/10\n",
      "212/212 [==============================] - 0s 908us/step - loss: 0.6728 - accuracy: 0.5789\n",
      "Epoch 8/10\n",
      "212/212 [==============================] - 0s 924us/step - loss: 0.6719 - accuracy: 0.5841\n",
      "Epoch 9/10\n",
      "212/212 [==============================] - 0s 930us/step - loss: 0.6690 - accuracy: 0.5836\n",
      "Epoch 10/10\n",
      "212/212 [==============================] - 0s 938us/step - loss: 0.6664 - accuracy: 0.5931\n",
      "30/30 [==============================] - 0s 639us/step\n",
      "120/120 [==============================] - 0s 610us/step\n"
     ]
    },
    {
     "name": "stderr",
     "output_type": "stream",
     "text": [
      "Generating ensemble training data: |████      | 40%"
     ]
    },
    {
     "name": "stdout",
     "output_type": "stream",
     "text": [
      "Epoch 1/10\n",
      "212/212 [==============================] - 0s 958us/step - loss: 0.6879 - accuracy: 0.5435\n",
      "Epoch 2/10\n",
      "212/212 [==============================] - 0s 945us/step - loss: 0.6856 - accuracy: 0.5647\n",
      "Epoch 3/10\n",
      "212/212 [==============================] - 0s 939us/step - loss: 0.6786 - accuracy: 0.5737\n",
      "Epoch 4/10\n",
      "212/212 [==============================] - 0s 947us/step - loss: 0.6795 - accuracy: 0.5685\n",
      "Epoch 5/10\n",
      "212/212 [==============================] - 0s 949us/step - loss: 0.6747 - accuracy: 0.5709\n",
      "Epoch 6/10\n",
      "212/212 [==============================] - 0s 929us/step - loss: 0.6760 - accuracy: 0.5775\n",
      "Epoch 7/10\n",
      "212/212 [==============================] - 0s 958us/step - loss: 0.6691 - accuracy: 0.5888\n",
      "Epoch 8/10\n",
      "212/212 [==============================] - 0s 934us/step - loss: 0.6649 - accuracy: 0.5789\n",
      "Epoch 9/10\n",
      "212/212 [==============================] - 0s 950us/step - loss: 0.6692 - accuracy: 0.5836\n",
      "Epoch 10/10\n",
      "212/212 [==============================] - 0s 931us/step - loss: 0.6614 - accuracy: 0.5912\n",
      "30/30 [==============================] - 0s 618us/step\n",
      "120/120 [==============================] - 0s 598us/step\n"
     ]
    },
    {
     "name": "stderr",
     "output_type": "stream",
     "text": [
      "Generating ensemble training data: |██████    | 60%"
     ]
    },
    {
     "name": "stdout",
     "output_type": "stream",
     "text": [
      "Epoch 1/10\n",
      "212/212 [==============================] - 0s 926us/step - loss: 0.6909 - accuracy: 0.5312\n",
      "Epoch 2/10\n",
      "212/212 [==============================] - 0s 940us/step - loss: 0.6886 - accuracy: 0.5425\n",
      "Epoch 3/10\n",
      "212/212 [==============================] - 0s 933us/step - loss: 0.6845 - accuracy: 0.5576\n",
      "Epoch 4/10\n",
      "212/212 [==============================] - 0s 944us/step - loss: 0.6827 - accuracy: 0.5652\n",
      "Epoch 5/10\n",
      "212/212 [==============================] - 0s 952us/step - loss: 0.6797 - accuracy: 0.5656\n",
      "Epoch 6/10\n",
      "212/212 [==============================] - 0s 910us/step - loss: 0.6750 - accuracy: 0.5685\n",
      "Epoch 7/10\n",
      "212/212 [==============================] - 0s 919us/step - loss: 0.6752 - accuracy: 0.5656\n",
      "Epoch 8/10\n",
      "212/212 [==============================] - 0s 932us/step - loss: 0.6733 - accuracy: 0.5642\n",
      "Epoch 9/10\n",
      "212/212 [==============================] - 0s 927us/step - loss: 0.6720 - accuracy: 0.5703\n",
      "Epoch 10/10\n",
      "212/212 [==============================] - 0s 928us/step - loss: 0.6730 - accuracy: 0.5727\n",
      "30/30 [==============================] - 0s 635us/step\n",
      "120/120 [==============================] - 0s 593us/step\n"
     ]
    },
    {
     "name": "stderr",
     "output_type": "stream",
     "text": [
      "Generating ensemble training data: |████████  | 80%"
     ]
    },
    {
     "name": "stdout",
     "output_type": "stream",
     "text": [
      "Epoch 1/10\n",
      "212/212 [==============================] - 0s 930us/step - loss: 0.6899 - accuracy: 0.5515\n",
      "Epoch 2/10\n",
      "212/212 [==============================] - 0s 940us/step - loss: 0.6868 - accuracy: 0.5670\n",
      "Epoch 3/10\n",
      "212/212 [==============================] - 0s 923us/step - loss: 0.6844 - accuracy: 0.5552\n",
      "Epoch 4/10\n",
      "212/212 [==============================] - 0s 931us/step - loss: 0.6769 - accuracy: 0.5779\n",
      "Epoch 5/10\n",
      "212/212 [==============================] - 0s 992us/step - loss: 0.6763 - accuracy: 0.5803\n",
      "Epoch 6/10\n",
      "212/212 [==============================] - 0s 911us/step - loss: 0.6742 - accuracy: 0.5840\n",
      "Epoch 7/10\n",
      "212/212 [==============================] - 0s 904us/step - loss: 0.6741 - accuracy: 0.5850\n",
      "Epoch 8/10\n",
      "212/212 [==============================] - 0s 913us/step - loss: 0.6727 - accuracy: 0.5878\n",
      "Epoch 9/10\n",
      "212/212 [==============================] - 0s 927us/step - loss: 0.6690 - accuracy: 0.5897\n",
      "Epoch 10/10\n",
      "212/212 [==============================] - 0s 937us/step - loss: 0.6693 - accuracy: 0.5954\n",
      "30/30 [==============================] - 0s 638us/step\n",
      "120/120 [==============================] - 0s 595us/step\n"
     ]
    },
    {
     "name": "stderr",
     "output_type": "stream",
     "text": [
      "Generating ensemble training data: |██████████|100%\n",
      "Generating ensemble training data: |          |  0%"
     ]
    },
    {
     "name": "stdout",
     "output_type": "stream",
     "text": [
      "Epoch 1/10\n",
      "212/212 [==============================] - 1s 909us/step - loss: 0.6870 - accuracy: 0.5468\n",
      "Epoch 2/10\n",
      "212/212 [==============================] - 0s 835us/step - loss: 0.6727 - accuracy: 0.5794\n",
      "Epoch 3/10\n",
      "212/212 [==============================] - 0s 840us/step - loss: 0.6669 - accuracy: 0.5855\n",
      "Epoch 4/10\n",
      "212/212 [==============================] - 0s 831us/step - loss: 0.6638 - accuracy: 0.5959\n",
      "Epoch 5/10\n",
      "212/212 [==============================] - 0s 811us/step - loss: 0.6621 - accuracy: 0.5903\n",
      "Epoch 6/10\n",
      "212/212 [==============================] - 0s 824us/step - loss: 0.6575 - accuracy: 0.5907\n",
      "Epoch 7/10\n",
      "212/212 [==============================] - 0s 833us/step - loss: 0.6543 - accuracy: 0.6002\n",
      "Epoch 8/10\n",
      "212/212 [==============================] - 0s 820us/step - loss: 0.6512 - accuracy: 0.5992\n",
      "Epoch 9/10\n",
      "212/212 [==============================] - 0s 830us/step - loss: 0.6491 - accuracy: 0.6139\n",
      "Epoch 10/10\n",
      "212/212 [==============================] - 0s 839us/step - loss: 0.6464 - accuracy: 0.6063\n",
      "30/30 [==============================] - 0s 639us/step\n",
      "120/120 [==============================] - 0s 607us/step\n"
     ]
    },
    {
     "name": "stderr",
     "output_type": "stream",
     "text": [
      "Generating ensemble training data: |██        | 20%"
     ]
    },
    {
     "name": "stdout",
     "output_type": "stream",
     "text": [
      "Epoch 1/10\n",
      "212/212 [==============================] - 0s 808us/step - loss: 0.6901 - accuracy: 0.5487\n",
      "Epoch 2/10\n",
      "212/212 [==============================] - 0s 807us/step - loss: 0.6785 - accuracy: 0.5761\n",
      "Epoch 3/10\n",
      "212/212 [==============================] - 0s 792us/step - loss: 0.6731 - accuracy: 0.5879\n",
      "Epoch 4/10\n",
      "212/212 [==============================] - 0s 790us/step - loss: 0.6702 - accuracy: 0.5846\n",
      "Epoch 5/10\n",
      "212/212 [==============================] - 0s 801us/step - loss: 0.6672 - accuracy: 0.5912\n",
      "Epoch 6/10\n",
      "212/212 [==============================] - 0s 800us/step - loss: 0.6662 - accuracy: 0.5898\n",
      "Epoch 7/10\n",
      "212/212 [==============================] - 0s 810us/step - loss: 0.6631 - accuracy: 0.5912\n",
      "Epoch 8/10\n",
      "212/212 [==============================] - 0s 799us/step - loss: 0.6614 - accuracy: 0.5893\n",
      "Epoch 9/10\n",
      "212/212 [==============================] - 0s 804us/step - loss: 0.6597 - accuracy: 0.5969\n",
      "Epoch 10/10\n",
      "212/212 [==============================] - 0s 812us/step - loss: 0.6576 - accuracy: 0.5940\n",
      "30/30 [==============================] - 0s 608us/step\n",
      "120/120 [==============================] - 0s 596us/step\n"
     ]
    },
    {
     "name": "stderr",
     "output_type": "stream",
     "text": [
      "Generating ensemble training data: |████      | 40%"
     ]
    },
    {
     "name": "stdout",
     "output_type": "stream",
     "text": [
      "Epoch 1/10\n",
      "212/212 [==============================] - 0s 814us/step - loss: 0.6904 - accuracy: 0.5392\n",
      "Epoch 2/10\n",
      "212/212 [==============================] - 0s 806us/step - loss: 0.6778 - accuracy: 0.5742\n",
      "Epoch 3/10\n",
      "212/212 [==============================] - 0s 816us/step - loss: 0.6717 - accuracy: 0.5751\n",
      "Epoch 4/10\n",
      "212/212 [==============================] - 0s 817us/step - loss: 0.6686 - accuracy: 0.5879\n",
      "Epoch 5/10\n",
      "212/212 [==============================] - 0s 826us/step - loss: 0.6650 - accuracy: 0.5860\n",
      "Epoch 6/10\n",
      "212/212 [==============================] - 0s 820us/step - loss: 0.6619 - accuracy: 0.5841\n",
      "Epoch 7/10\n",
      "212/212 [==============================] - 0s 833us/step - loss: 0.6601 - accuracy: 0.5950\n",
      "Epoch 8/10\n",
      "212/212 [==============================] - 0s 829us/step - loss: 0.6569 - accuracy: 0.5955\n",
      "Epoch 9/10\n",
      "212/212 [==============================] - 0s 833us/step - loss: 0.6547 - accuracy: 0.5950\n",
      "Epoch 10/10\n",
      "212/212 [==============================] - 0s 839us/step - loss: 0.6537 - accuracy: 0.5903\n",
      "30/30 [==============================] - 0s 615us/step\n",
      "120/120 [==============================] - 0s 595us/step\n"
     ]
    },
    {
     "name": "stderr",
     "output_type": "stream",
     "text": [
      "Generating ensemble training data: |██████    | 60%"
     ]
    },
    {
     "name": "stdout",
     "output_type": "stream",
     "text": [
      "Epoch 1/10\n",
      "212/212 [==============================] - 0s 839us/step - loss: 0.6923 - accuracy: 0.5260\n",
      "Epoch 2/10\n",
      "212/212 [==============================] - 0s 827us/step - loss: 0.6805 - accuracy: 0.5637\n",
      "Epoch 3/10\n",
      "212/212 [==============================] - 0s 825us/step - loss: 0.6752 - accuracy: 0.5685\n",
      "Epoch 4/10\n",
      "212/212 [==============================] - 0s 818us/step - loss: 0.6741 - accuracy: 0.5694\n",
      "Epoch 5/10\n",
      "212/212 [==============================] - 0s 859us/step - loss: 0.6704 - accuracy: 0.5666\n",
      "Epoch 6/10\n",
      "212/212 [==============================] - 0s 860us/step - loss: 0.6673 - accuracy: 0.5746\n",
      "Epoch 7/10\n",
      "212/212 [==============================] - 0s 870us/step - loss: 0.6663 - accuracy: 0.5670\n",
      "Epoch 8/10\n",
      "212/212 [==============================] - 0s 857us/step - loss: 0.6619 - accuracy: 0.5784\n",
      "Epoch 9/10\n",
      "212/212 [==============================] - 0s 839us/step - loss: 0.6612 - accuracy: 0.5803\n",
      "Epoch 10/10\n",
      "212/212 [==============================] - 0s 829us/step - loss: 0.6583 - accuracy: 0.5817\n",
      "30/30 [==============================] - 0s 635us/step\n",
      "120/120 [==============================] - 0s 608us/step\n"
     ]
    },
    {
     "name": "stderr",
     "output_type": "stream",
     "text": [
      "Generating ensemble training data: |████████  | 80%"
     ]
    },
    {
     "name": "stdout",
     "output_type": "stream",
     "text": [
      "Epoch 1/10\n",
      "212/212 [==============================] - 0s 812us/step - loss: 0.6882 - accuracy: 0.5463\n",
      "Epoch 2/10\n",
      "212/212 [==============================] - 0s 838us/step - loss: 0.6789 - accuracy: 0.5760\n",
      "Epoch 3/10\n",
      "212/212 [==============================] - 0s 840us/step - loss: 0.6734 - accuracy: 0.5888\n",
      "Epoch 4/10\n",
      "212/212 [==============================] - 0s 839us/step - loss: 0.6695 - accuracy: 0.5873\n",
      "Epoch 5/10\n",
      "212/212 [==============================] - 0s 842us/step - loss: 0.6657 - accuracy: 0.5888\n",
      "Epoch 6/10\n",
      "212/212 [==============================] - 0s 836us/step - loss: 0.6631 - accuracy: 0.5921\n",
      "Epoch 7/10\n",
      "212/212 [==============================] - 0s 836us/step - loss: 0.6608 - accuracy: 0.5987\n",
      "Epoch 8/10\n",
      "212/212 [==============================] - 0s 837us/step - loss: 0.6576 - accuracy: 0.6001\n",
      "Epoch 9/10\n",
      "212/212 [==============================] - 0s 842us/step - loss: 0.6546 - accuracy: 0.6006\n",
      "Epoch 10/10\n",
      "212/212 [==============================] - 0s 839us/step - loss: 0.6512 - accuracy: 0.6001\n",
      "30/30 [==============================] - 0s 601us/step\n",
      "120/120 [==============================] - 0s 576us/step\n"
     ]
    },
    {
     "name": "stderr",
     "output_type": "stream",
     "text": [
      "Generating ensemble training data: |██████████|100%\n",
      "Generating ensemble training data: |          |  0%"
     ]
    },
    {
     "name": "stdout",
     "output_type": "stream",
     "text": [
      "Epoch 1/10\n",
      "212/212 [==============================] - 1s 936us/step - loss: 0.6858 - accuracy: 0.5468\n",
      "Epoch 2/10\n",
      "212/212 [==============================] - 0s 826us/step - loss: 0.6744 - accuracy: 0.5799\n",
      "Epoch 3/10\n",
      "212/212 [==============================] - 0s 824us/step - loss: 0.6664 - accuracy: 0.5936\n",
      "Epoch 4/10\n",
      "212/212 [==============================] - 0s 829us/step - loss: 0.6613 - accuracy: 0.5936\n",
      "Epoch 5/10\n",
      "212/212 [==============================] - 0s 829us/step - loss: 0.6569 - accuracy: 0.6007\n",
      "Epoch 6/10\n",
      "212/212 [==============================] - 0s 830us/step - loss: 0.6521 - accuracy: 0.5988\n",
      "Epoch 7/10\n",
      "212/212 [==============================] - 0s 835us/step - loss: 0.6482 - accuracy: 0.6040\n",
      "Epoch 8/10\n",
      "212/212 [==============================] - 0s 817us/step - loss: 0.6437 - accuracy: 0.6191\n",
      "Epoch 9/10\n",
      "212/212 [==============================] - 0s 824us/step - loss: 0.6391 - accuracy: 0.6134\n",
      "Epoch 10/10\n",
      "212/212 [==============================] - 0s 825us/step - loss: 0.6360 - accuracy: 0.6153\n",
      "30/30 [==============================] - 0s 634us/step\n",
      "120/120 [==============================] - 0s 615us/step\n"
     ]
    },
    {
     "name": "stderr",
     "output_type": "stream",
     "text": [
      "Generating ensemble training data: |██        | 20%"
     ]
    },
    {
     "name": "stdout",
     "output_type": "stream",
     "text": [
      "Epoch 1/10\n",
      "212/212 [==============================] - 0s 867us/step - loss: 0.6907 - accuracy: 0.5354\n",
      "Epoch 2/10\n",
      "212/212 [==============================] - 0s 858us/step - loss: 0.6792 - accuracy: 0.5803\n",
      "Epoch 3/10\n",
      "212/212 [==============================] - 0s 879us/step - loss: 0.6753 - accuracy: 0.5718\n",
      "Epoch 4/10\n",
      "212/212 [==============================] - 0s 867us/step - loss: 0.6693 - accuracy: 0.5841\n",
      "Epoch 5/10\n",
      "212/212 [==============================] - 0s 839us/step - loss: 0.6665 - accuracy: 0.5917\n",
      "Epoch 6/10\n",
      "212/212 [==============================] - 0s 853us/step - loss: 0.6630 - accuracy: 0.5959\n",
      "Epoch 7/10\n",
      "212/212 [==============================] - 0s 853us/step - loss: 0.6586 - accuracy: 0.5959\n",
      "Epoch 8/10\n",
      "212/212 [==============================] - 0s 859us/step - loss: 0.6578 - accuracy: 0.5983\n",
      "Epoch 9/10\n",
      "212/212 [==============================] - 0s 860us/step - loss: 0.6526 - accuracy: 0.6073\n",
      "Epoch 10/10\n",
      "212/212 [==============================] - 0s 868us/step - loss: 0.6507 - accuracy: 0.6011\n",
      "30/30 [==============================] - 0s 637us/step\n",
      "120/120 [==============================] - 0s 600us/step\n"
     ]
    },
    {
     "name": "stderr",
     "output_type": "stream",
     "text": [
      "Generating ensemble training data: |████      | 40%"
     ]
    },
    {
     "name": "stdout",
     "output_type": "stream",
     "text": [
      "Epoch 1/10\n",
      "212/212 [==============================] - 0s 937us/step - loss: 0.6859 - accuracy: 0.5586\n",
      "Epoch 2/10\n",
      "212/212 [==============================] - 0s 869us/step - loss: 0.6751 - accuracy: 0.5747\n",
      "Epoch 3/10\n",
      "212/212 [==============================] - 0s 871us/step - loss: 0.6720 - accuracy: 0.5832\n",
      "Epoch 4/10\n",
      "212/212 [==============================] - 0s 865us/step - loss: 0.6661 - accuracy: 0.5884\n",
      "Epoch 5/10\n",
      "212/212 [==============================] - 0s 862us/step - loss: 0.6622 - accuracy: 0.5870\n",
      "Epoch 6/10\n",
      "212/212 [==============================] - 0s 848us/step - loss: 0.6576 - accuracy: 0.5992\n",
      "Epoch 7/10\n",
      "212/212 [==============================] - 0s 869us/step - loss: 0.6569 - accuracy: 0.6016\n",
      "Epoch 8/10\n",
      "212/212 [==============================] - 0s 872us/step - loss: 0.6523 - accuracy: 0.5992\n",
      "Epoch 9/10\n",
      "212/212 [==============================] - 0s 869us/step - loss: 0.6474 - accuracy: 0.6040\n",
      "Epoch 10/10\n",
      "212/212 [==============================] - 0s 876us/step - loss: 0.6461 - accuracy: 0.6059\n",
      "30/30 [==============================] - 0s 652us/step\n",
      "120/120 [==============================] - 0s 598us/step\n"
     ]
    },
    {
     "name": "stderr",
     "output_type": "stream",
     "text": [
      "Generating ensemble training data: |██████    | 60%"
     ]
    },
    {
     "name": "stdout",
     "output_type": "stream",
     "text": [
      "Epoch 1/10\n",
      "212/212 [==============================] - 0s 874us/step - loss: 0.6904 - accuracy: 0.5274\n",
      "Epoch 2/10\n",
      "212/212 [==============================] - 0s 859us/step - loss: 0.6829 - accuracy: 0.5685\n",
      "Epoch 3/10\n",
      "212/212 [==============================] - 0s 859us/step - loss: 0.6779 - accuracy: 0.5670\n",
      "Epoch 4/10\n",
      "212/212 [==============================] - 0s 854us/step - loss: 0.6739 - accuracy: 0.5680\n",
      "Epoch 5/10\n",
      "212/212 [==============================] - 0s 834us/step - loss: 0.6715 - accuracy: 0.5661\n",
      "Epoch 6/10\n",
      "212/212 [==============================] - 0s 846us/step - loss: 0.6693 - accuracy: 0.5722\n",
      "Epoch 7/10\n",
      "212/212 [==============================] - 0s 866us/step - loss: 0.6651 - accuracy: 0.5788\n",
      "Epoch 8/10\n",
      "212/212 [==============================] - 0s 859us/step - loss: 0.6604 - accuracy: 0.5793\n",
      "Epoch 9/10\n",
      "212/212 [==============================] - 0s 847us/step - loss: 0.6591 - accuracy: 0.5836\n",
      "Epoch 10/10\n",
      "212/212 [==============================] - 0s 846us/step - loss: 0.6549 - accuracy: 0.5831\n",
      "30/30 [==============================] - 0s 634us/step\n",
      "120/120 [==============================] - 0s 608us/step\n"
     ]
    },
    {
     "name": "stderr",
     "output_type": "stream",
     "text": [
      "Generating ensemble training data: |████████  | 80%"
     ]
    },
    {
     "name": "stdout",
     "output_type": "stream",
     "text": [
      "Epoch 1/10\n",
      "212/212 [==============================] - 0s 875us/step - loss: 0.6894 - accuracy: 0.5491\n",
      "Epoch 2/10\n",
      "212/212 [==============================] - 0s 869us/step - loss: 0.6781 - accuracy: 0.5741\n",
      "Epoch 3/10\n",
      "212/212 [==============================] - 0s 839us/step - loss: 0.6708 - accuracy: 0.5770\n",
      "Epoch 4/10\n",
      "212/212 [==============================] - 0s 836us/step - loss: 0.6654 - accuracy: 0.5935\n",
      "Epoch 5/10\n",
      "212/212 [==============================] - 0s 846us/step - loss: 0.6605 - accuracy: 0.5982\n",
      "Epoch 6/10\n",
      "212/212 [==============================] - 0s 847us/step - loss: 0.6560 - accuracy: 0.6034\n",
      "Epoch 7/10\n",
      "212/212 [==============================] - 0s 845us/step - loss: 0.6509 - accuracy: 0.6039\n",
      "Epoch 8/10\n",
      "212/212 [==============================] - 0s 844us/step - loss: 0.6464 - accuracy: 0.6034\n",
      "Epoch 9/10\n",
      "212/212 [==============================] - 0s 870us/step - loss: 0.6432 - accuracy: 0.6128\n",
      "Epoch 10/10\n",
      "212/212 [==============================] - 0s 865us/step - loss: 0.6382 - accuracy: 0.6152\n",
      "30/30 [==============================] - 0s 613us/step\n",
      "120/120 [==============================] - 0s 596us/step\n"
     ]
    },
    {
     "name": "stderr",
     "output_type": "stream",
     "text": [
      "Generating ensemble training data: |██████████|100%"
     ]
    },
    {
     "name": "stdout",
     "output_type": "stream",
     "text": [
      "\n",
      "\n"
     ]
    },
    {
     "name": "stderr",
     "output_type": "stream",
     "text": [
      "\n"
     ]
    },
    {
     "name": "stdout",
     "output_type": "stream",
     "text": [
      "Training base predictors on labs...\n",
      "        \n",
      "... for ensemble performance analysis...\n"
     ]
    },
    {
     "name": "stderr",
     "output_type": "stream",
     "text": [
      "Generating ensemble training data: |          |  0%"
     ]
    },
    {
     "name": "stdout",
     "output_type": "stream",
     "text": [
      "Epoch 1/10\n",
      "212/212 [==============================] - 1s 848us/step - loss: 16.0515 - accuracy: 0.5548\n",
      "Epoch 2/10\n",
      "212/212 [==============================] - 0s 735us/step - loss: 2.9388 - accuracy: 0.5907\n",
      "Epoch 3/10\n",
      "212/212 [==============================] - 0s 742us/step - loss: 2.9129 - accuracy: 0.6044\n",
      "Epoch 4/10\n",
      "212/212 [==============================] - 0s 792us/step - loss: 1.9013 - accuracy: 0.6276\n",
      "Epoch 5/10\n",
      "212/212 [==============================] - 0s 793us/step - loss: 2.3810 - accuracy: 0.6181\n",
      "Epoch 6/10\n",
      "212/212 [==============================] - 0s 792us/step - loss: 2.0362 - accuracy: 0.6323\n",
      "Epoch 7/10\n",
      "212/212 [==============================] - 0s 788us/step - loss: 1.5545 - accuracy: 0.6484\n",
      "Epoch 8/10\n",
      "212/212 [==============================] - 0s 789us/step - loss: 1.7454 - accuracy: 0.6163\n",
      "Epoch 9/10\n",
      "212/212 [==============================] - 0s 788us/step - loss: 1.5776 - accuracy: 0.6479\n",
      "Epoch 10/10\n",
      "212/212 [==============================] - 0s 779us/step - loss: 1.1239 - accuracy: 0.6399\n",
      "30/30 [==============================] - 0s 634us/step\n",
      "120/120 [==============================] - 0s 577us/step\n"
     ]
    },
    {
     "name": "stderr",
     "output_type": "stream",
     "text": [
      "Generating ensemble training data: |██        | 20%"
     ]
    },
    {
     "name": "stdout",
     "output_type": "stream",
     "text": [
      "Epoch 1/10\n",
      "212/212 [==============================] - 0s 744us/step - loss: 16.8071 - accuracy: 0.5766\n",
      "Epoch 2/10\n",
      "212/212 [==============================] - 0s 741us/step - loss: 2.0262 - accuracy: 0.6092\n",
      "Epoch 3/10\n",
      "212/212 [==============================] - 0s 745us/step - loss: 2.2863 - accuracy: 0.6148\n",
      "Epoch 4/10\n",
      "212/212 [==============================] - 0s 734us/step - loss: 1.6415 - accuracy: 0.6352\n",
      "Epoch 5/10\n",
      "212/212 [==============================] - 0s 733us/step - loss: 1.1479 - accuracy: 0.6678\n",
      "Epoch 6/10\n",
      "212/212 [==============================] - 0s 742us/step - loss: 0.9707 - accuracy: 0.6508\n",
      "Epoch 7/10\n",
      "212/212 [==============================] - 0s 746us/step - loss: 0.9154 - accuracy: 0.6829\n",
      "Epoch 8/10\n",
      "212/212 [==============================] - 0s 765us/step - loss: 0.8594 - accuracy: 0.6796\n",
      "Epoch 9/10\n",
      "212/212 [==============================] - 0s 759us/step - loss: 1.0158 - accuracy: 0.6385\n",
      "Epoch 10/10\n",
      "212/212 [==============================] - 0s 784us/step - loss: 0.8001 - accuracy: 0.6678\n",
      "30/30 [==============================] - 0s 614us/step\n",
      "120/120 [==============================] - 0s 577us/step\n"
     ]
    },
    {
     "name": "stderr",
     "output_type": "stream",
     "text": [
      "Generating ensemble training data: |████      | 40%"
     ]
    },
    {
     "name": "stdout",
     "output_type": "stream",
     "text": [
      "Epoch 1/10\n",
      "212/212 [==============================] - 0s 798us/step - loss: 11.5898 - accuracy: 0.5884\n",
      "Epoch 2/10\n",
      "212/212 [==============================] - 0s 773us/step - loss: 1.4788 - accuracy: 0.5605\n",
      "Epoch 3/10\n",
      "212/212 [==============================] - 0s 777us/step - loss: 0.7017 - accuracy: 0.5014\n",
      "Epoch 4/10\n",
      "212/212 [==============================] - 0s 770us/step - loss: 0.6918 - accuracy: 0.5014\n",
      "Epoch 5/10\n",
      "212/212 [==============================] - 0s 773us/step - loss: 0.6920 - accuracy: 0.5014\n",
      "Epoch 6/10\n",
      "212/212 [==============================] - 0s 802us/step - loss: 0.6923 - accuracy: 0.5014\n",
      "Epoch 7/10\n",
      "212/212 [==============================] - 0s 775us/step - loss: 0.6962 - accuracy: 0.4802\n",
      "Epoch 8/10\n",
      "212/212 [==============================] - 0s 786us/step - loss: 0.6924 - accuracy: 0.4839\n",
      "Epoch 9/10\n",
      "212/212 [==============================] - 0s 789us/step - loss: 0.6924 - accuracy: 0.5009\n",
      "Epoch 10/10\n",
      "212/212 [==============================] - 0s 785us/step - loss: 0.6923 - accuracy: 0.5009\n",
      "30/30 [==============================] - 0s 600us/step\n",
      "120/120 [==============================] - 0s 607us/step\n"
     ]
    },
    {
     "name": "stderr",
     "output_type": "stream",
     "text": [
      "Generating ensemble training data: |██████    | 60%"
     ]
    },
    {
     "name": "stdout",
     "output_type": "stream",
     "text": [
      "Epoch 1/10\n",
      "212/212 [==============================] - 0s 780us/step - loss: 8.3870 - accuracy: 0.5689\n",
      "Epoch 2/10\n",
      "212/212 [==============================] - 0s 782us/step - loss: 1.3586 - accuracy: 0.6261\n",
      "Epoch 3/10\n",
      "212/212 [==============================] - 0s 784us/step - loss: 1.2212 - accuracy: 0.6280\n",
      "Epoch 4/10\n",
      "212/212 [==============================] - 0s 779us/step - loss: 0.8793 - accuracy: 0.6742\n",
      "Epoch 5/10\n",
      "212/212 [==============================] - 0s 783us/step - loss: 0.7686 - accuracy: 0.6870\n",
      "Epoch 6/10\n",
      "212/212 [==============================] - 0s 768us/step - loss: 0.7462 - accuracy: 0.6657\n",
      "Epoch 7/10\n",
      "212/212 [==============================] - 0s 776us/step - loss: 0.7217 - accuracy: 0.6889\n",
      "Epoch 8/10\n",
      "212/212 [==============================] - 0s 779us/step - loss: 0.6726 - accuracy: 0.6747\n",
      "Epoch 9/10\n",
      "212/212 [==============================] - 0s 780us/step - loss: 0.6722 - accuracy: 0.6964\n",
      "Epoch 10/10\n",
      "212/212 [==============================] - 0s 767us/step - loss: 0.7460 - accuracy: 0.6582\n",
      "30/30 [==============================] - 0s 598us/step\n",
      "120/120 [==============================] - 0s 569us/step\n"
     ]
    },
    {
     "name": "stderr",
     "output_type": "stream",
     "text": [
      "Generating ensemble training data: |████████  | 80%"
     ]
    },
    {
     "name": "stdout",
     "output_type": "stream",
     "text": [
      "Epoch 1/10\n",
      "212/212 [==============================] - 0s 756us/step - loss: 8.1314 - accuracy: 0.5737\n",
      "Epoch 2/10\n",
      "212/212 [==============================] - 0s 752us/step - loss: 1.6087 - accuracy: 0.6209\n",
      "Epoch 3/10\n",
      "212/212 [==============================] - 0s 752us/step - loss: 1.2501 - accuracy: 0.6553\n",
      "Epoch 4/10\n",
      "212/212 [==============================] - 0s 746us/step - loss: 0.9022 - accuracy: 0.6615\n",
      "Epoch 5/10\n",
      "212/212 [==============================] - 0s 744us/step - loss: 1.0209 - accuracy: 0.6501\n",
      "Epoch 6/10\n",
      "212/212 [==============================] - 0s 740us/step - loss: 1.0413 - accuracy: 0.6549\n",
      "Epoch 7/10\n",
      "212/212 [==============================] - 0s 742us/step - loss: 0.9046 - accuracy: 0.6553\n",
      "Epoch 8/10\n",
      "212/212 [==============================] - 0s 744us/step - loss: 0.8134 - accuracy: 0.6572\n",
      "Epoch 9/10\n",
      "212/212 [==============================] - 0s 748us/step - loss: 0.7962 - accuracy: 0.6671\n",
      "Epoch 10/10\n",
      "212/212 [==============================] - 0s 740us/step - loss: 0.8184 - accuracy: 0.6709\n",
      "30/30 [==============================] - 0s 582us/step\n",
      "120/120 [==============================] - 0s 581us/step\n"
     ]
    },
    {
     "name": "stderr",
     "output_type": "stream",
     "text": [
      "Generating ensemble training data: |██████████|100%\n",
      "Generating ensemble training data: |          |  0%"
     ]
    },
    {
     "name": "stdout",
     "output_type": "stream",
     "text": [
      "Epoch 1/10\n",
      "212/212 [==============================] - 1s 1000us/step - loss: 28.1868 - accuracy: 0.5170\n",
      "Epoch 2/10\n",
      "212/212 [==============================] - 0s 920us/step - loss: 9.8781 - accuracy: 0.5213\n",
      "Epoch 3/10\n",
      "212/212 [==============================] - 0s 921us/step - loss: 6.7384 - accuracy: 0.5260\n",
      "Epoch 4/10\n",
      "212/212 [==============================] - 0s 915us/step - loss: 4.6051 - accuracy: 0.5184\n",
      "Epoch 5/10\n",
      "212/212 [==============================] - 0s 935us/step - loss: 3.1534 - accuracy: 0.5246\n",
      "Epoch 6/10\n",
      "212/212 [==============================] - 0s 950us/step - loss: 1.9096 - accuracy: 0.5354\n",
      "Epoch 7/10\n",
      "212/212 [==============================] - 0s 934us/step - loss: 1.6295 - accuracy: 0.5265\n",
      "Epoch 8/10\n",
      "212/212 [==============================] - 0s 933us/step - loss: 1.3393 - accuracy: 0.4939\n",
      "Epoch 9/10\n",
      "212/212 [==============================] - 0s 942us/step - loss: 1.3835 - accuracy: 0.5080\n",
      "Epoch 10/10\n",
      "212/212 [==============================] - 0s 947us/step - loss: 1.2320 - accuracy: 0.5402\n",
      "30/30 [==============================] - 0s 654us/step\n",
      "120/120 [==============================] - 0s 609us/step\n"
     ]
    },
    {
     "name": "stderr",
     "output_type": "stream",
     "text": [
      "Generating ensemble training data: |██        | 20%"
     ]
    },
    {
     "name": "stdout",
     "output_type": "stream",
     "text": [
      "Epoch 1/10\n",
      "212/212 [==============================] - 0s 948us/step - loss: 19.7897 - accuracy: 0.5043\n",
      "Epoch 2/10\n",
      "212/212 [==============================] - 0s 916us/step - loss: 4.0193 - accuracy: 0.5279\n",
      "Epoch 3/10\n",
      "212/212 [==============================] - 0s 915us/step - loss: 2.9982 - accuracy: 0.5269\n",
      "Epoch 4/10\n",
      "212/212 [==============================] - 0s 910us/step - loss: 1.7563 - accuracy: 0.5302\n",
      "Epoch 5/10\n",
      "212/212 [==============================] - 0s 909us/step - loss: 1.3078 - accuracy: 0.5090\n",
      "Epoch 6/10\n",
      "212/212 [==============================] - 0s 917us/step - loss: 1.4315 - accuracy: 0.5165\n",
      "Epoch 7/10\n",
      "212/212 [==============================] - 0s 911us/step - loss: 1.0478 - accuracy: 0.5279\n",
      "Epoch 8/10\n",
      "212/212 [==============================] - 0s 904us/step - loss: 1.0759 - accuracy: 0.4872\n",
      "Epoch 9/10\n",
      "212/212 [==============================] - 0s 917us/step - loss: 0.9708 - accuracy: 0.5227\n",
      "Epoch 10/10\n",
      "212/212 [==============================] - 0s 910us/step - loss: 0.9924 - accuracy: 0.5024\n",
      "30/30 [==============================] - 0s 633us/step\n",
      "120/120 [==============================] - 0s 599us/step\n"
     ]
    },
    {
     "name": "stderr",
     "output_type": "stream",
     "text": [
      "Generating ensemble training data: |████      | 40%"
     ]
    },
    {
     "name": "stdout",
     "output_type": "stream",
     "text": [
      "Epoch 1/10\n",
      "212/212 [==============================] - 0s 910us/step - loss: 17.1018 - accuracy: 0.5369\n",
      "Epoch 2/10\n",
      "212/212 [==============================] - 0s 900us/step - loss: 3.9891 - accuracy: 0.5232\n",
      "Epoch 3/10\n",
      "212/212 [==============================] - 0s 894us/step - loss: 2.0623 - accuracy: 0.5255\n",
      "Epoch 4/10\n",
      "212/212 [==============================] - 0s 890us/step - loss: 1.3755 - accuracy: 0.5260\n",
      "Epoch 5/10\n",
      "212/212 [==============================] - 0s 927us/step - loss: 1.1840 - accuracy: 0.5307\n",
      "Epoch 6/10\n",
      "212/212 [==============================] - 0s 932us/step - loss: 1.1710 - accuracy: 0.5232\n",
      "Epoch 7/10\n",
      "212/212 [==============================] - 0s 926us/step - loss: 1.1053 - accuracy: 0.5317\n",
      "Epoch 8/10\n",
      "212/212 [==============================] - 0s 922us/step - loss: 0.9495 - accuracy: 0.5250\n",
      "Epoch 9/10\n",
      "212/212 [==============================] - 0s 885us/step - loss: 0.9884 - accuracy: 0.5019\n",
      "Epoch 10/10\n",
      "212/212 [==============================] - 0s 908us/step - loss: 0.9033 - accuracy: 0.5392\n",
      "30/30 [==============================] - 0s 630us/step\n",
      "120/120 [==============================] - 0s 598us/step\n"
     ]
    },
    {
     "name": "stderr",
     "output_type": "stream",
     "text": [
      "Generating ensemble training data: |██████    | 60%"
     ]
    },
    {
     "name": "stdout",
     "output_type": "stream",
     "text": [
      "Epoch 1/10\n",
      "212/212 [==============================] - 0s 934us/step - loss: 15.6567 - accuracy: 0.5260\n",
      "Epoch 2/10\n",
      "212/212 [==============================] - 0s 922us/step - loss: 4.2803 - accuracy: 0.5212\n",
      "Epoch 3/10\n",
      "212/212 [==============================] - 0s 908us/step - loss: 1.8338 - accuracy: 0.5260\n",
      "Epoch 4/10\n",
      "212/212 [==============================] - 0s 919us/step - loss: 1.3803 - accuracy: 0.5312\n",
      "Epoch 5/10\n",
      "212/212 [==============================] - 0s 923us/step - loss: 1.0195 - accuracy: 0.5132\n",
      "Epoch 6/10\n",
      "212/212 [==============================] - 0s 920us/step - loss: 0.9052 - accuracy: 0.5307\n",
      "Epoch 7/10\n",
      "212/212 [==============================] - 0s 913us/step - loss: 0.8011 - accuracy: 0.5217\n",
      "Epoch 8/10\n",
      "212/212 [==============================] - 0s 903us/step - loss: 0.8944 - accuracy: 0.5170\n",
      "Epoch 9/10\n",
      "212/212 [==============================] - 0s 918us/step - loss: 0.7610 - accuracy: 0.5132\n",
      "Epoch 10/10\n",
      "212/212 [==============================] - 0s 921us/step - loss: 0.7842 - accuracy: 0.5628\n",
      "30/30 [==============================] - 0s 627us/step\n",
      "120/120 [==============================] - 0s 615us/step\n"
     ]
    },
    {
     "name": "stderr",
     "output_type": "stream",
     "text": [
      "Generating ensemble training data: |████████  | 80%"
     ]
    },
    {
     "name": "stdout",
     "output_type": "stream",
     "text": [
      "Epoch 1/10\n",
      "212/212 [==============================] - 0s 929us/step - loss: 16.3719 - accuracy: 0.5165\n",
      "Epoch 2/10\n",
      "212/212 [==============================] - 0s 923us/step - loss: 3.9344 - accuracy: 0.5061\n",
      "Epoch 3/10\n",
      "212/212 [==============================] - 0s 933us/step - loss: 2.9651 - accuracy: 0.4991\n",
      "Epoch 4/10\n",
      "212/212 [==============================] - 0s 980us/step - loss: 2.0187 - accuracy: 0.5184\n",
      "Epoch 5/10\n",
      "212/212 [==============================] - 0s 922us/step - loss: 1.2969 - accuracy: 0.4995\n",
      "Epoch 6/10\n",
      "212/212 [==============================] - 0s 910us/step - loss: 1.0035 - accuracy: 0.5283\n",
      "Epoch 7/10\n",
      "212/212 [==============================] - 0s 888us/step - loss: 1.0376 - accuracy: 0.5217\n",
      "Epoch 8/10\n",
      "212/212 [==============================] - 0s 897us/step - loss: 0.9321 - accuracy: 0.5198\n",
      "Epoch 9/10\n",
      "212/212 [==============================] - 0s 902us/step - loss: 0.9125 - accuracy: 0.5264\n",
      "Epoch 10/10\n",
      "212/212 [==============================] - 0s 898us/step - loss: 0.8394 - accuracy: 0.5293\n",
      "30/30 [==============================] - 0s 626us/step\n",
      "120/120 [==============================] - 0s 598us/step\n"
     ]
    },
    {
     "name": "stderr",
     "output_type": "stream",
     "text": [
      "Generating ensemble training data: |██████████|100%\n",
      "Generating ensemble training data: |          |  0%"
     ]
    },
    {
     "name": "stdout",
     "output_type": "stream",
     "text": [
      "Epoch 1/10\n",
      "212/212 [==============================] - 1s 944us/step - loss: 13.4435 - accuracy: 0.5652\n",
      "Epoch 2/10\n",
      "212/212 [==============================] - 0s 846us/step - loss: 6.1814 - accuracy: 0.6285\n",
      "Epoch 3/10\n",
      "212/212 [==============================] - 0s 838us/step - loss: 4.9601 - accuracy: 0.6248\n",
      "Epoch 4/10\n",
      "212/212 [==============================] - 0s 828us/step - loss: 3.3899 - accuracy: 0.6498\n",
      "Epoch 5/10\n",
      "212/212 [==============================] - 0s 785us/step - loss: 3.6606 - accuracy: 0.6512\n",
      "Epoch 6/10\n",
      "212/212 [==============================] - 0s 797us/step - loss: 3.3402 - accuracy: 0.6503\n",
      "Epoch 7/10\n",
      "212/212 [==============================] - 0s 805us/step - loss: 2.6812 - accuracy: 0.6564\n",
      "Epoch 8/10\n",
      "212/212 [==============================] - 0s 803us/step - loss: 2.9637 - accuracy: 0.6437\n",
      "Epoch 9/10\n",
      "212/212 [==============================] - 0s 804us/step - loss: 3.5408 - accuracy: 0.6541\n",
      "Epoch 10/10\n",
      "212/212 [==============================] - 0s 804us/step - loss: 2.5610 - accuracy: 0.6541\n",
      "30/30 [==============================] - 0s 675us/step\n",
      "120/120 [==============================] - 0s 612us/step\n"
     ]
    },
    {
     "name": "stderr",
     "output_type": "stream",
     "text": [
      "Generating ensemble training data: |██        | 20%"
     ]
    },
    {
     "name": "stdout",
     "output_type": "stream",
     "text": [
      "Epoch 1/10\n",
      "212/212 [==============================] - 0s 862us/step - loss: 15.6426 - accuracy: 0.5695\n",
      "Epoch 2/10\n",
      "212/212 [==============================] - 0s 838us/step - loss: 4.9049 - accuracy: 0.6267\n",
      "Epoch 3/10\n",
      "212/212 [==============================] - 0s 870us/step - loss: 5.1210 - accuracy: 0.6281\n",
      "Epoch 4/10\n",
      "212/212 [==============================] - 0s 885us/step - loss: 3.5447 - accuracy: 0.6616\n",
      "Epoch 5/10\n",
      "212/212 [==============================] - 0s 878us/step - loss: 5.1058 - accuracy: 0.6148\n",
      "Epoch 6/10\n",
      "212/212 [==============================] - 0s 884us/step - loss: 2.7426 - accuracy: 0.6640\n",
      "Epoch 7/10\n",
      "212/212 [==============================] - 0s 880us/step - loss: 2.4785 - accuracy: 0.6375\n",
      "Epoch 8/10\n",
      "212/212 [==============================] - 0s 873us/step - loss: 2.6611 - accuracy: 0.6498\n",
      "Epoch 9/10\n",
      "212/212 [==============================] - 0s 880us/step - loss: 2.4441 - accuracy: 0.6408\n",
      "Epoch 10/10\n",
      "212/212 [==============================] - 0s 880us/step - loss: 2.4294 - accuracy: 0.6479\n",
      "30/30 [==============================] - 0s 647us/step\n",
      "120/120 [==============================] - 0s 643us/step\n"
     ]
    },
    {
     "name": "stderr",
     "output_type": "stream",
     "text": [
      "Generating ensemble training data: |████      | 40%"
     ]
    },
    {
     "name": "stdout",
     "output_type": "stream",
     "text": [
      "Epoch 1/10\n",
      "212/212 [==============================] - 0s 830us/step - loss: 13.4832 - accuracy: 0.5974\n",
      "Epoch 2/10\n",
      "212/212 [==============================] - 0s 813us/step - loss: 5.4366 - accuracy: 0.6044\n",
      "Epoch 3/10\n",
      "212/212 [==============================] - 0s 817us/step - loss: 3.9648 - accuracy: 0.6290\n",
      "Epoch 4/10\n",
      "212/212 [==============================] - 0s 847us/step - loss: 3.6091 - accuracy: 0.6054\n",
      "Epoch 5/10\n",
      "212/212 [==============================] - 0s 843us/step - loss: 3.5351 - accuracy: 0.6474\n",
      "Epoch 6/10\n",
      "212/212 [==============================] - 0s 828us/step - loss: 3.3111 - accuracy: 0.6304\n",
      "Epoch 7/10\n",
      "212/212 [==============================] - 0s 849us/step - loss: 2.2376 - accuracy: 0.6635\n",
      "Epoch 8/10\n",
      "212/212 [==============================] - 0s 809us/step - loss: 3.1228 - accuracy: 0.6158\n",
      "Epoch 9/10\n",
      "212/212 [==============================] - 0s 800us/step - loss: 1.9542 - accuracy: 0.6508\n",
      "Epoch 10/10\n",
      "212/212 [==============================] - 0s 778us/step - loss: 3.3553 - accuracy: 0.6441\n",
      "30/30 [==============================] - 0s 605us/step\n",
      "120/120 [==============================] - 0s 595us/step\n"
     ]
    },
    {
     "name": "stderr",
     "output_type": "stream",
     "text": [
      "Generating ensemble training data: |██████    | 60%"
     ]
    },
    {
     "name": "stdout",
     "output_type": "stream",
     "text": [
      "Epoch 1/10\n",
      "212/212 [==============================] - 0s 841us/step - loss: 12.6654 - accuracy: 0.5878\n",
      "Epoch 2/10\n",
      "212/212 [==============================] - 0s 832us/step - loss: 4.7159 - accuracy: 0.6204\n",
      "Epoch 3/10\n",
      "212/212 [==============================] - 0s 835us/step - loss: 3.6266 - accuracy: 0.6298\n",
      "Epoch 4/10\n",
      "212/212 [==============================] - 0s 846us/step - loss: 2.4856 - accuracy: 0.6506\n",
      "Epoch 5/10\n",
      "212/212 [==============================] - 0s 835us/step - loss: 2.1152 - accuracy: 0.6435\n",
      "Epoch 6/10\n",
      "212/212 [==============================] - 0s 830us/step - loss: 2.4561 - accuracy: 0.6483\n",
      "Epoch 7/10\n",
      "212/212 [==============================] - 0s 834us/step - loss: 2.2411 - accuracy: 0.6478\n",
      "Epoch 8/10\n",
      "212/212 [==============================] - 0s 830us/step - loss: 1.5811 - accuracy: 0.6591\n",
      "Epoch 9/10\n",
      "212/212 [==============================] - 0s 822us/step - loss: 1.9714 - accuracy: 0.6459\n",
      "Epoch 10/10\n",
      "212/212 [==============================] - 0s 829us/step - loss: 2.0969 - accuracy: 0.6350\n",
      "30/30 [==============================] - 0s 623us/step\n",
      "120/120 [==============================] - 0s 645us/step\n"
     ]
    },
    {
     "name": "stderr",
     "output_type": "stream",
     "text": [
      "Generating ensemble training data: |████████  | 80%"
     ]
    },
    {
     "name": "stdout",
     "output_type": "stream",
     "text": [
      "Epoch 1/10\n",
      "212/212 [==============================] - 0s 875us/step - loss: 10.7607 - accuracy: 0.5642\n",
      "Epoch 2/10\n",
      "212/212 [==============================] - 0s 846us/step - loss: 5.9175 - accuracy: 0.6223\n",
      "Epoch 3/10\n",
      "212/212 [==============================] - 0s 840us/step - loss: 3.2647 - accuracy: 0.6294\n",
      "Epoch 4/10\n",
      "212/212 [==============================] - 0s 836us/step - loss: 4.0996 - accuracy: 0.6232\n",
      "Epoch 5/10\n",
      "212/212 [==============================] - 0s 822us/step - loss: 3.1252 - accuracy: 0.6346\n",
      "Epoch 6/10\n",
      "212/212 [==============================] - 0s 825us/step - loss: 3.2276 - accuracy: 0.6355\n",
      "Epoch 7/10\n",
      "212/212 [==============================] - 0s 829us/step - loss: 2.4166 - accuracy: 0.6553\n",
      "Epoch 8/10\n",
      "212/212 [==============================] - 0s 827us/step - loss: 2.2163 - accuracy: 0.6379\n",
      "Epoch 9/10\n",
      "212/212 [==============================] - 0s 823us/step - loss: 3.9486 - accuracy: 0.6256\n",
      "Epoch 10/10\n",
      "212/212 [==============================] - 0s 818us/step - loss: 2.1160 - accuracy: 0.6483\n",
      "30/30 [==============================] - 0s 624us/step\n",
      "120/120 [==============================] - 0s 643us/step\n"
     ]
    },
    {
     "name": "stderr",
     "output_type": "stream",
     "text": [
      "Generating ensemble training data: |██████████|100%\n",
      "Generating ensemble training data: |          |  0%"
     ]
    },
    {
     "name": "stdout",
     "output_type": "stream",
     "text": [
      "Epoch 1/10\n",
      "212/212 [==============================] - 1s 943us/step - loss: 8.1832 - accuracy: 0.5766\n",
      "Epoch 2/10\n",
      "212/212 [==============================] - 0s 887us/step - loss: 3.7849 - accuracy: 0.5983\n",
      "Epoch 3/10\n",
      "212/212 [==============================] - 0s 883us/step - loss: 1.3711 - accuracy: 0.6295\n",
      "Epoch 4/10\n",
      "212/212 [==============================] - 0s 850us/step - loss: 1.2812 - accuracy: 0.6385\n",
      "Epoch 5/10\n",
      "212/212 [==============================] - 0s 846us/step - loss: 0.9699 - accuracy: 0.6484\n",
      "Epoch 6/10\n",
      "212/212 [==============================] - 0s 844us/step - loss: 0.9349 - accuracy: 0.6569\n",
      "Epoch 7/10\n",
      "212/212 [==============================] - 0s 849us/step - loss: 0.7492 - accuracy: 0.6692\n",
      "Epoch 8/10\n",
      "212/212 [==============================] - 0s 857us/step - loss: 0.6765 - accuracy: 0.6838\n",
      "Epoch 9/10\n",
      "212/212 [==============================] - 0s 865us/step - loss: 0.7311 - accuracy: 0.6810\n",
      "Epoch 10/10\n",
      "212/212 [==============================] - 0s 859us/step - loss: 0.6502 - accuracy: 0.6843\n",
      "30/30 [==============================] - 0s 640us/step\n",
      "120/120 [==============================] - 0s 604us/step\n"
     ]
    },
    {
     "name": "stderr",
     "output_type": "stream",
     "text": [
      "Generating ensemble training data: |██        | 20%"
     ]
    },
    {
     "name": "stdout",
     "output_type": "stream",
     "text": [
      "Epoch 1/10\n",
      "212/212 [==============================] - 0s 881us/step - loss: 7.4738 - accuracy: 0.5520\n",
      "Epoch 2/10\n",
      "212/212 [==============================] - 0s 871us/step - loss: 1.3519 - accuracy: 0.5974\n",
      "Epoch 3/10\n",
      "212/212 [==============================] - 0s 867us/step - loss: 0.7583 - accuracy: 0.6526\n",
      "Epoch 4/10\n",
      "212/212 [==============================] - 0s 860us/step - loss: 0.6658 - accuracy: 0.6673\n",
      "Epoch 5/10\n",
      "212/212 [==============================] - 0s 862us/step - loss: 0.7194 - accuracy: 0.6734\n",
      "Epoch 6/10\n",
      "212/212 [==============================] - 0s 871us/step - loss: 0.6202 - accuracy: 0.6919\n",
      "Epoch 7/10\n",
      "212/212 [==============================] - 0s 861us/step - loss: 0.6498 - accuracy: 0.6895\n",
      "Epoch 8/10\n",
      "212/212 [==============================] - 0s 856us/step - loss: 0.6753 - accuracy: 0.6777\n",
      "Epoch 9/10\n",
      "212/212 [==============================] - 0s 858us/step - loss: 0.5871 - accuracy: 0.7004\n",
      "Epoch 10/10\n",
      "212/212 [==============================] - 0s 853us/step - loss: 0.6387 - accuracy: 0.6928\n",
      "30/30 [==============================] - 0s 633us/step\n",
      "120/120 [==============================] - 0s 632us/step\n"
     ]
    },
    {
     "name": "stderr",
     "output_type": "stream",
     "text": [
      "Generating ensemble training data: |████      | 40%"
     ]
    },
    {
     "name": "stdout",
     "output_type": "stream",
     "text": [
      "Epoch 1/10\n",
      "212/212 [==============================] - 0s 869us/step - loss: 7.7324 - accuracy: 0.5832\n",
      "Epoch 2/10\n",
      "212/212 [==============================] - 0s 864us/step - loss: 1.0312 - accuracy: 0.6129\n",
      "Epoch 3/10\n",
      "212/212 [==============================] - 0s 854us/step - loss: 0.7289 - accuracy: 0.6342\n",
      "Epoch 4/10\n",
      "212/212 [==============================] - 0s 851us/step - loss: 0.6579 - accuracy: 0.6716\n",
      "Epoch 5/10\n",
      "212/212 [==============================] - 0s 857us/step - loss: 0.6309 - accuracy: 0.6744\n",
      "Epoch 6/10\n",
      "212/212 [==============================] - 0s 861us/step - loss: 0.6114 - accuracy: 0.6805\n",
      "Epoch 7/10\n",
      "212/212 [==============================] - 0s 861us/step - loss: 0.6072 - accuracy: 0.6819\n",
      "Epoch 8/10\n",
      "212/212 [==============================] - 0s 861us/step - loss: 0.5883 - accuracy: 0.6886\n",
      "Epoch 9/10\n",
      "212/212 [==============================] - 0s 845us/step - loss: 0.5909 - accuracy: 0.6919\n",
      "Epoch 10/10\n",
      "212/212 [==============================] - 0s 839us/step - loss: 0.5764 - accuracy: 0.6919\n",
      "30/30 [==============================] - 0s 640us/step\n",
      "120/120 [==============================] - 0s 617us/step\n"
     ]
    },
    {
     "name": "stderr",
     "output_type": "stream",
     "text": [
      "Generating ensemble training data: |██████    | 60%"
     ]
    },
    {
     "name": "stdout",
     "output_type": "stream",
     "text": [
      "Epoch 1/10\n",
      "212/212 [==============================] - 0s 869us/step - loss: 5.5434 - accuracy: 0.5859\n",
      "Epoch 2/10\n",
      "212/212 [==============================] - 0s 849us/step - loss: 1.2892 - accuracy: 0.5878\n",
      "Epoch 3/10\n",
      "212/212 [==============================] - 0s 866us/step - loss: 0.8921 - accuracy: 0.6402\n",
      "Epoch 4/10\n",
      "212/212 [==============================] - 0s 869us/step - loss: 0.9393 - accuracy: 0.6308\n",
      "Epoch 5/10\n",
      "212/212 [==============================] - 0s 871us/step - loss: 0.7189 - accuracy: 0.6487\n",
      "Epoch 6/10\n",
      "212/212 [==============================] - 0s 859us/step - loss: 0.7217 - accuracy: 0.6671\n",
      "Epoch 7/10\n",
      "212/212 [==============================] - 0s 862us/step - loss: 0.7038 - accuracy: 0.6822\n",
      "Epoch 8/10\n",
      "212/212 [==============================] - 0s 860us/step - loss: 0.7218 - accuracy: 0.6719\n",
      "Epoch 9/10\n",
      "212/212 [==============================] - 0s 858us/step - loss: 0.6160 - accuracy: 0.6827\n",
      "Epoch 10/10\n",
      "212/212 [==============================] - 0s 877us/step - loss: 0.6069 - accuracy: 0.6884\n",
      "30/30 [==============================] - 0s 638us/step\n",
      "120/120 [==============================] - 0s 628us/step\n"
     ]
    },
    {
     "name": "stderr",
     "output_type": "stream",
     "text": [
      "Generating ensemble training data: |████████  | 80%"
     ]
    },
    {
     "name": "stdout",
     "output_type": "stream",
     "text": [
      "Epoch 1/10\n",
      "212/212 [==============================] - 0s 836us/step - loss: 6.5052 - accuracy: 0.5812\n",
      "Epoch 2/10\n",
      "212/212 [==============================] - 0s 865us/step - loss: 1.3902 - accuracy: 0.5958\n",
      "Epoch 3/10\n",
      "212/212 [==============================] - 0s 867us/step - loss: 0.9959 - accuracy: 0.6369\n",
      "Epoch 4/10\n",
      "212/212 [==============================] - 0s 840us/step - loss: 0.6883 - accuracy: 0.6653\n",
      "Epoch 5/10\n",
      "212/212 [==============================] - 0s 832us/step - loss: 0.8615 - accuracy: 0.6511\n",
      "Epoch 6/10\n",
      "212/212 [==============================] - 0s 827us/step - loss: 0.6527 - accuracy: 0.6723\n",
      "Epoch 7/10\n",
      "212/212 [==============================] - 0s 835us/step - loss: 0.7567 - accuracy: 0.6563\n",
      "Epoch 8/10\n",
      "212/212 [==============================] - 0s 837us/step - loss: 0.6371 - accuracy: 0.6846\n",
      "Epoch 9/10\n",
      "212/212 [==============================] - 0s 840us/step - loss: 0.6183 - accuracy: 0.6917\n",
      "Epoch 10/10\n",
      "212/212 [==============================] - 0s 835us/step - loss: 0.5927 - accuracy: 0.6926\n",
      "30/30 [==============================] - 0s 629us/step\n",
      "120/120 [==============================] - 0s 632us/step\n"
     ]
    },
    {
     "name": "stderr",
     "output_type": "stream",
     "text": [
      "Generating ensemble training data: |██████████|100%"
     ]
    },
    {
     "name": "stdout",
     "output_type": "stream",
     "text": [
      "\n",
      "\n"
     ]
    },
    {
     "name": "stderr",
     "output_type": "stream",
     "text": [
      "\n"
     ]
    },
    {
     "name": "stdout",
     "output_type": "stream",
     "text": [
      "Training base predictors on vitals...\n",
      "        \n",
      "... for ensemble performance analysis...\n"
     ]
    },
    {
     "name": "stderr",
     "output_type": "stream",
     "text": [
      "Generating ensemble training data: |          |  0%"
     ]
    },
    {
     "name": "stdout",
     "output_type": "stream",
     "text": [
      "Epoch 1/10\n",
      "212/212 [==============================] - 1s 865us/step - loss: 1.8021 - accuracy: 0.5241\n",
      "Epoch 2/10\n",
      "212/212 [==============================] - 0s 788us/step - loss: 0.8571 - accuracy: 0.5477\n",
      "Epoch 3/10\n",
      "212/212 [==============================] - 0s 788us/step - loss: 0.7665 - accuracy: 0.5553\n",
      "Epoch 4/10\n",
      "212/212 [==============================] - 0s 791us/step - loss: 0.7232 - accuracy: 0.5789\n",
      "Epoch 5/10\n",
      "212/212 [==============================] - 0s 795us/step - loss: 0.7134 - accuracy: 0.5799\n",
      "Epoch 6/10\n",
      "212/212 [==============================] - 0s 797us/step - loss: 0.7553 - accuracy: 0.5676\n",
      "Epoch 7/10\n",
      "212/212 [==============================] - 0s 794us/step - loss: 0.7049 - accuracy: 0.5893\n",
      "Epoch 8/10\n",
      "212/212 [==============================] - 0s 796us/step - loss: 0.7288 - accuracy: 0.5808\n",
      "Epoch 9/10\n",
      "212/212 [==============================] - 0s 796us/step - loss: 0.6905 - accuracy: 0.5917\n",
      "Epoch 10/10\n",
      "212/212 [==============================] - 0s 797us/step - loss: 0.6981 - accuracy: 0.5983\n",
      "30/30 [==============================] - 0s 618us/step\n",
      "120/120 [==============================] - 0s 579us/step\n"
     ]
    },
    {
     "name": "stderr",
     "output_type": "stream",
     "text": [
      "Generating ensemble training data: |██        | 20%"
     ]
    },
    {
     "name": "stdout",
     "output_type": "stream",
     "text": [
      "Epoch 1/10\n",
      "212/212 [==============================] - 0s 798us/step - loss: 1.7037 - accuracy: 0.5298\n",
      "Epoch 2/10\n",
      "212/212 [==============================] - 0s 798us/step - loss: 0.8010 - accuracy: 0.5520\n",
      "Epoch 3/10\n",
      "212/212 [==============================] - 0s 797us/step - loss: 0.7085 - accuracy: 0.5936\n",
      "Epoch 4/10\n",
      "212/212 [==============================] - 0s 795us/step - loss: 0.7411 - accuracy: 0.5714\n",
      "Epoch 5/10\n",
      "212/212 [==============================] - 0s 794us/step - loss: 0.7157 - accuracy: 0.5855\n",
      "Epoch 6/10\n",
      "212/212 [==============================] - 0s 788us/step - loss: 0.7267 - accuracy: 0.5988\n",
      "Epoch 7/10\n",
      "212/212 [==============================] - 0s 799us/step - loss: 0.6806 - accuracy: 0.6144\n",
      "Epoch 8/10\n",
      "212/212 [==============================] - 0s 791us/step - loss: 0.6769 - accuracy: 0.6144\n",
      "Epoch 9/10\n",
      "212/212 [==============================] - 0s 783us/step - loss: 0.6913 - accuracy: 0.5988\n",
      "Epoch 10/10\n",
      "212/212 [==============================] - 0s 782us/step - loss: 0.6823 - accuracy: 0.6016\n",
      "30/30 [==============================] - 0s 614us/step\n",
      "120/120 [==============================] - 0s 574us/step\n"
     ]
    },
    {
     "name": "stderr",
     "output_type": "stream",
     "text": [
      "Generating ensemble training data: |████      | 40%"
     ]
    },
    {
     "name": "stdout",
     "output_type": "stream",
     "text": [
      "Epoch 1/10\n",
      "212/212 [==============================] - 0s 799us/step - loss: 1.5471 - accuracy: 0.5217\n",
      "Epoch 2/10\n",
      "212/212 [==============================] - 0s 792us/step - loss: 0.8294 - accuracy: 0.5558\n",
      "Epoch 3/10\n",
      "212/212 [==============================] - 0s 793us/step - loss: 0.7357 - accuracy: 0.5832\n",
      "Epoch 4/10\n",
      "212/212 [==============================] - 0s 802us/step - loss: 0.7190 - accuracy: 0.5940\n",
      "Epoch 5/10\n",
      "212/212 [==============================] - 0s 858us/step - loss: 0.6741 - accuracy: 0.6144\n",
      "Epoch 6/10\n",
      "212/212 [==============================] - 0s 849us/step - loss: 0.6932 - accuracy: 0.6054\n",
      "Epoch 7/10\n",
      "212/212 [==============================] - 0s 823us/step - loss: 0.6772 - accuracy: 0.6125\n",
      "Epoch 8/10\n",
      "212/212 [==============================] - 0s 795us/step - loss: 0.6647 - accuracy: 0.6158\n",
      "Epoch 9/10\n",
      "212/212 [==============================] - 0s 779us/step - loss: 0.6579 - accuracy: 0.6262\n",
      "Epoch 10/10\n",
      "212/212 [==============================] - 0s 784us/step - loss: 0.6738 - accuracy: 0.6021\n",
      "30/30 [==============================] - 0s 579us/step\n",
      "120/120 [==============================] - 0s 602us/step\n"
     ]
    },
    {
     "name": "stderr",
     "output_type": "stream",
     "text": [
      "Generating ensemble training data: |██████    | 60%"
     ]
    },
    {
     "name": "stdout",
     "output_type": "stream",
     "text": [
      "Epoch 1/10\n",
      "212/212 [==============================] - 0s 818us/step - loss: 1.4474 - accuracy: 0.5463\n",
      "Epoch 2/10\n",
      "212/212 [==============================] - 0s 840us/step - loss: 0.7342 - accuracy: 0.5859\n",
      "Epoch 3/10\n",
      "212/212 [==============================] - 0s 787us/step - loss: 0.7631 - accuracy: 0.5845\n",
      "Epoch 4/10\n",
      "212/212 [==============================] - 0s 777us/step - loss: 0.7016 - accuracy: 0.5954\n",
      "Epoch 5/10\n",
      "212/212 [==============================] - 0s 786us/step - loss: 0.6909 - accuracy: 0.6010\n",
      "Epoch 6/10\n",
      "212/212 [==============================] - 0s 774us/step - loss: 0.7091 - accuracy: 0.6076\n",
      "Epoch 7/10\n",
      "212/212 [==============================] - 0s 781us/step - loss: 0.6889 - accuracy: 0.6048\n",
      "Epoch 8/10\n",
      "212/212 [==============================] - 0s 782us/step - loss: 0.7004 - accuracy: 0.6039\n",
      "Epoch 9/10\n",
      "212/212 [==============================] - 0s 790us/step - loss: 0.6655 - accuracy: 0.6185\n",
      "Epoch 10/10\n",
      "212/212 [==============================] - 0s 788us/step - loss: 0.6742 - accuracy: 0.6086\n",
      "30/30 [==============================] - 0s 620us/step\n",
      "120/120 [==============================] - 0s 599us/step\n"
     ]
    },
    {
     "name": "stderr",
     "output_type": "stream",
     "text": [
      "Generating ensemble training data: |████████  | 80%"
     ]
    },
    {
     "name": "stdout",
     "output_type": "stream",
     "text": [
      "Epoch 1/10\n",
      "212/212 [==============================] - 0s 817us/step - loss: 1.5741 - accuracy: 0.5326\n",
      "Epoch 2/10\n",
      "212/212 [==============================] - 0s 825us/step - loss: 0.7660 - accuracy: 0.5855\n",
      "Epoch 3/10\n",
      "212/212 [==============================] - 0s 806us/step - loss: 0.7001 - accuracy: 0.5902\n",
      "Epoch 4/10\n",
      "212/212 [==============================] - 0s 791us/step - loss: 0.7475 - accuracy: 0.5779\n",
      "Epoch 5/10\n",
      "212/212 [==============================] - 0s 791us/step - loss: 0.7480 - accuracy: 0.5732\n",
      "Epoch 6/10\n",
      "212/212 [==============================] - 0s 774us/step - loss: 0.6750 - accuracy: 0.6001\n",
      "Epoch 7/10\n",
      "212/212 [==============================] - 0s 781us/step - loss: 0.6884 - accuracy: 0.5940\n",
      "Epoch 8/10\n",
      "212/212 [==============================] - 0s 796us/step - loss: 0.7054 - accuracy: 0.5807\n",
      "Epoch 9/10\n",
      "212/212 [==============================] - 0s 824us/step - loss: 0.6532 - accuracy: 0.6128\n",
      "Epoch 10/10\n",
      "212/212 [==============================] - 0s 809us/step - loss: 0.6532 - accuracy: 0.6232\n",
      "30/30 [==============================] - 0s 599us/step\n",
      "120/120 [==============================] - 0s 582us/step\n"
     ]
    },
    {
     "name": "stderr",
     "output_type": "stream",
     "text": [
      "Generating ensemble training data: |██████████|100%\n",
      "Generating ensemble training data: |          |  0%"
     ]
    },
    {
     "name": "stdout",
     "output_type": "stream",
     "text": [
      "Epoch 1/10\n",
      "212/212 [==============================] - 1s 948us/step - loss: 2.1616 - accuracy: 0.5241\n",
      "Epoch 2/10\n",
      "212/212 [==============================] - 0s 877us/step - loss: 0.9395 - accuracy: 0.5104\n",
      "Epoch 3/10\n",
      "212/212 [==============================] - 0s 887us/step - loss: 0.7774 - accuracy: 0.5137\n",
      "Epoch 4/10\n",
      "212/212 [==============================] - 0s 888us/step - loss: 0.7163 - accuracy: 0.5326\n",
      "Epoch 5/10\n",
      "212/212 [==============================] - 0s 891us/step - loss: 0.7136 - accuracy: 0.5378\n",
      "Epoch 6/10\n",
      "212/212 [==============================] - 0s 885us/step - loss: 0.7064 - accuracy: 0.5260\n",
      "Epoch 7/10\n",
      "212/212 [==============================] - 0s 894us/step - loss: 0.6922 - accuracy: 0.5543\n",
      "Epoch 8/10\n",
      "212/212 [==============================] - 0s 875us/step - loss: 0.7006 - accuracy: 0.5274\n",
      "Epoch 9/10\n",
      "212/212 [==============================] - 0s 873us/step - loss: 0.6897 - accuracy: 0.5373\n",
      "Epoch 10/10\n",
      "212/212 [==============================] - 0s 875us/step - loss: 0.6921 - accuracy: 0.5331\n",
      "30/30 [==============================] - 0s 645us/step\n",
      "120/120 [==============================] - 0s 598us/step\n"
     ]
    },
    {
     "name": "stderr",
     "output_type": "stream",
     "text": [
      "Generating ensemble training data: |██        | 20%"
     ]
    },
    {
     "name": "stdout",
     "output_type": "stream",
     "text": [
      "Epoch 1/10\n",
      "212/212 [==============================] - 0s 900us/step - loss: 1.5133 - accuracy: 0.5095\n",
      "Epoch 2/10\n",
      "212/212 [==============================] - 0s 894us/step - loss: 0.7426 - accuracy: 0.5057\n",
      "Epoch 3/10\n",
      "212/212 [==============================] - 0s 893us/step - loss: 0.7152 - accuracy: 0.5118\n",
      "Epoch 4/10\n",
      "212/212 [==============================] - 0s 894us/step - loss: 0.7065 - accuracy: 0.5076\n",
      "Epoch 5/10\n",
      "212/212 [==============================] - 0s 896us/step - loss: 0.6965 - accuracy: 0.5217\n",
      "Epoch 6/10\n",
      "212/212 [==============================] - 0s 902us/step - loss: 0.6911 - accuracy: 0.5496\n",
      "Epoch 7/10\n",
      "212/212 [==============================] - 0s 909us/step - loss: 0.6913 - accuracy: 0.5104\n",
      "Epoch 8/10\n",
      "212/212 [==============================] - 0s 903us/step - loss: 0.6939 - accuracy: 0.5302\n",
      "Epoch 9/10\n",
      "212/212 [==============================] - 0s 904us/step - loss: 0.7019 - accuracy: 0.5388\n",
      "Epoch 10/10\n",
      "212/212 [==============================] - 0s 913us/step - loss: 0.6841 - accuracy: 0.5421\n",
      "30/30 [==============================] - 0s 623us/step\n",
      "120/120 [==============================] - 0s 592us/step\n"
     ]
    },
    {
     "name": "stderr",
     "output_type": "stream",
     "text": [
      "Generating ensemble training data: |████      | 40%"
     ]
    },
    {
     "name": "stdout",
     "output_type": "stream",
     "text": [
      "Epoch 1/10\n",
      "212/212 [==============================] - 0s 928us/step - loss: 1.3733 - accuracy: 0.5151\n",
      "Epoch 2/10\n",
      "212/212 [==============================] - 0s 915us/step - loss: 0.7257 - accuracy: 0.5175\n",
      "Epoch 3/10\n",
      "212/212 [==============================] - 0s 858us/step - loss: 0.7048 - accuracy: 0.5217\n",
      "Epoch 4/10\n",
      "212/212 [==============================] - 0s 941us/step - loss: 0.7018 - accuracy: 0.5317\n",
      "Epoch 5/10\n",
      "212/212 [==============================] - 0s 879us/step - loss: 0.6942 - accuracy: 0.5284\n",
      "Epoch 6/10\n",
      "212/212 [==============================] - 0s 879us/step - loss: 0.6938 - accuracy: 0.5331\n",
      "Epoch 7/10\n",
      "212/212 [==============================] - 0s 888us/step - loss: 0.6799 - accuracy: 0.5553\n",
      "Epoch 8/10\n",
      "212/212 [==============================] - 0s 887us/step - loss: 0.6898 - accuracy: 0.5217\n",
      "Epoch 9/10\n",
      "212/212 [==============================] - 0s 880us/step - loss: 0.6830 - accuracy: 0.5600\n",
      "Epoch 10/10\n",
      "212/212 [==============================] - 0s 896us/step - loss: 0.6803 - accuracy: 0.5595\n",
      "30/30 [==============================] - 0s 631us/step\n",
      "120/120 [==============================] - 0s 607us/step\n"
     ]
    },
    {
     "name": "stderr",
     "output_type": "stream",
     "text": [
      "Generating ensemble training data: |██████    | 60%"
     ]
    },
    {
     "name": "stdout",
     "output_type": "stream",
     "text": [
      "Epoch 1/10\n",
      "212/212 [==============================] - 0s 895us/step - loss: 1.3351 - accuracy: 0.5113\n",
      "Epoch 2/10\n",
      "212/212 [==============================] - 0s 892us/step - loss: 0.7356 - accuracy: 0.4849\n",
      "Epoch 3/10\n",
      "212/212 [==============================] - 0s 911us/step - loss: 0.7088 - accuracy: 0.5179\n",
      "Epoch 4/10\n",
      "212/212 [==============================] - 0s 891us/step - loss: 0.7034 - accuracy: 0.5184\n",
      "Epoch 5/10\n",
      "212/212 [==============================] - 0s 890us/step - loss: 0.6986 - accuracy: 0.5151\n",
      "Epoch 6/10\n",
      "212/212 [==============================] - 0s 876us/step - loss: 0.6922 - accuracy: 0.5307\n",
      "Epoch 7/10\n",
      "212/212 [==============================] - 0s 868us/step - loss: 0.6923 - accuracy: 0.5279\n",
      "Epoch 8/10\n",
      "212/212 [==============================] - 0s 870us/step - loss: 0.6883 - accuracy: 0.5359\n",
      "Epoch 9/10\n",
      "212/212 [==============================] - 0s 871us/step - loss: 0.6851 - accuracy: 0.5477\n",
      "Epoch 10/10\n",
      "212/212 [==============================] - 0s 872us/step - loss: 0.6858 - accuracy: 0.5345\n",
      "30/30 [==============================] - 0s 642us/step\n",
      "120/120 [==============================] - 0s 642us/step\n"
     ]
    },
    {
     "name": "stderr",
     "output_type": "stream",
     "text": [
      "Generating ensemble training data: |████████  | 80%"
     ]
    },
    {
     "name": "stdout",
     "output_type": "stream",
     "text": [
      "Epoch 1/10\n",
      "212/212 [==============================] - 0s 911us/step - loss: 1.3978 - accuracy: 0.4901\n",
      "Epoch 2/10\n",
      "212/212 [==============================] - 0s 895us/step - loss: 0.7262 - accuracy: 0.5198\n",
      "Epoch 3/10\n",
      "212/212 [==============================] - 0s 908us/step - loss: 0.7173 - accuracy: 0.5061\n",
      "Epoch 4/10\n",
      "212/212 [==============================] - 0s 904us/step - loss: 0.6964 - accuracy: 0.5307\n",
      "Epoch 5/10\n",
      "212/212 [==============================] - 0s 908us/step - loss: 0.6977 - accuracy: 0.5052\n",
      "Epoch 6/10\n",
      "212/212 [==============================] - 0s 906us/step - loss: 0.6924 - accuracy: 0.5434\n",
      "Epoch 7/10\n",
      "212/212 [==============================] - 0s 906us/step - loss: 0.6912 - accuracy: 0.5387\n",
      "Epoch 8/10\n",
      "212/212 [==============================] - 0s 912us/step - loss: 0.6876 - accuracy: 0.5500\n",
      "Epoch 9/10\n",
      "212/212 [==============================] - 0s 906us/step - loss: 0.6863 - accuracy: 0.5420\n",
      "Epoch 10/10\n",
      "212/212 [==============================] - 0s 909us/step - loss: 0.6832 - accuracy: 0.5444\n",
      "30/30 [==============================] - 0s 660us/step\n",
      "120/120 [==============================] - 0s 614us/step\n"
     ]
    },
    {
     "name": "stderr",
     "output_type": "stream",
     "text": [
      "Generating ensemble training data: |██████████|100%\n",
      "Generating ensemble training data: |          |  0%"
     ]
    },
    {
     "name": "stdout",
     "output_type": "stream",
     "text": [
      "Epoch 1/10\n",
      "212/212 [==============================] - 1s 908us/step - loss: 1.5185 - accuracy: 0.5402\n",
      "Epoch 2/10\n",
      "212/212 [==============================] - 0s 836us/step - loss: 0.8755 - accuracy: 0.5893\n",
      "Epoch 3/10\n",
      "212/212 [==============================] - 0s 836us/step - loss: 0.8715 - accuracy: 0.5799\n",
      "Epoch 4/10\n",
      "212/212 [==============================] - 0s 834us/step - loss: 0.8289 - accuracy: 0.5879\n",
      "Epoch 5/10\n",
      "212/212 [==============================] - 0s 832us/step - loss: 0.8642 - accuracy: 0.5860\n",
      "Epoch 6/10\n",
      "212/212 [==============================] - 0s 834us/step - loss: 0.8849 - accuracy: 0.5865\n",
      "Epoch 7/10\n",
      "212/212 [==============================] - 0s 836us/step - loss: 0.8596 - accuracy: 0.5756\n",
      "Epoch 8/10\n",
      "212/212 [==============================] - 0s 825us/step - loss: 0.8863 - accuracy: 0.5647\n",
      "Epoch 9/10\n",
      "212/212 [==============================] - 0s 806us/step - loss: 0.9051 - accuracy: 0.5903\n",
      "Epoch 10/10\n",
      "212/212 [==============================] - 0s 795us/step - loss: 0.8157 - accuracy: 0.5879\n",
      "30/30 [==============================] - 0s 638us/step\n",
      "120/120 [==============================] - 0s 613us/step\n"
     ]
    },
    {
     "name": "stderr",
     "output_type": "stream",
     "text": [
      "Generating ensemble training data: |██        | 20%"
     ]
    },
    {
     "name": "stdout",
     "output_type": "stream",
     "text": [
      "Epoch 1/10\n",
      "212/212 [==============================] - 0s 839us/step - loss: 1.6505 - accuracy: 0.5307\n",
      "Epoch 2/10\n",
      "212/212 [==============================] - 0s 842us/step - loss: 0.9160 - accuracy: 0.5766\n",
      "Epoch 3/10\n",
      "212/212 [==============================] - 0s 852us/step - loss: 0.8247 - accuracy: 0.6007\n",
      "Epoch 4/10\n",
      "212/212 [==============================] - 0s 843us/step - loss: 0.7758 - accuracy: 0.5808\n",
      "Epoch 5/10\n",
      "212/212 [==============================] - 0s 843us/step - loss: 0.7948 - accuracy: 0.5761\n",
      "Epoch 6/10\n",
      "212/212 [==============================] - 0s 848us/step - loss: 0.8089 - accuracy: 0.5836\n",
      "Epoch 7/10\n",
      "212/212 [==============================] - 0s 839us/step - loss: 0.9036 - accuracy: 0.5756\n",
      "Epoch 8/10\n",
      "212/212 [==============================] - 0s 840us/step - loss: 0.8208 - accuracy: 0.5647\n",
      "Epoch 9/10\n",
      "212/212 [==============================] - 0s 839us/step - loss: 0.7607 - accuracy: 0.6016\n",
      "Epoch 10/10\n",
      "212/212 [==============================] - 0s 839us/step - loss: 0.7147 - accuracy: 0.5959\n",
      "30/30 [==============================] - 0s 612us/step\n",
      "120/120 [==============================] - 0s 584us/step\n"
     ]
    },
    {
     "name": "stderr",
     "output_type": "stream",
     "text": [
      "Generating ensemble training data: |████      | 40%"
     ]
    },
    {
     "name": "stdout",
     "output_type": "stream",
     "text": [
      "Epoch 1/10\n",
      "212/212 [==============================] - 0s 840us/step - loss: 1.5580 - accuracy: 0.5383\n",
      "Epoch 2/10\n",
      "212/212 [==============================] - 0s 884us/step - loss: 0.9480 - accuracy: 0.5704\n",
      "Epoch 3/10\n",
      "212/212 [==============================] - 0s 860us/step - loss: 0.8612 - accuracy: 0.5884\n",
      "Epoch 4/10\n",
      "212/212 [==============================] - 0s 873us/step - loss: 0.8512 - accuracy: 0.5893\n",
      "Epoch 5/10\n",
      "212/212 [==============================] - 0s 864us/step - loss: 0.8366 - accuracy: 0.5940\n",
      "Epoch 6/10\n",
      "212/212 [==============================] - 0s 853us/step - loss: 0.7069 - accuracy: 0.6191\n",
      "Epoch 7/10\n",
      "212/212 [==============================] - 0s 866us/step - loss: 0.7790 - accuracy: 0.5936\n",
      "Epoch 8/10\n",
      "212/212 [==============================] - 0s 838us/step - loss: 0.7744 - accuracy: 0.5912\n",
      "Epoch 9/10\n",
      "212/212 [==============================] - 0s 835us/step - loss: 0.8516 - accuracy: 0.5723\n",
      "Epoch 10/10\n",
      "212/212 [==============================] - 0s 837us/step - loss: 0.7333 - accuracy: 0.6092\n",
      "30/30 [==============================] - 0s 622us/step\n",
      "120/120 [==============================] - 0s 582us/step\n"
     ]
    },
    {
     "name": "stderr",
     "output_type": "stream",
     "text": [
      "Generating ensemble training data: |██████    | 60%"
     ]
    },
    {
     "name": "stdout",
     "output_type": "stream",
     "text": [
      "Epoch 1/10\n",
      "212/212 [==============================] - 0s 792us/step - loss: 1.5256 - accuracy: 0.5571\n",
      "Epoch 2/10\n",
      "212/212 [==============================] - 0s 808us/step - loss: 0.8197 - accuracy: 0.5840\n",
      "Epoch 3/10\n",
      "212/212 [==============================] - 0s 847us/step - loss: 0.9349 - accuracy: 0.5713\n",
      "Epoch 4/10\n",
      "212/212 [==============================] - 0s 848us/step - loss: 0.7396 - accuracy: 0.6048\n",
      "Epoch 5/10\n",
      "212/212 [==============================] - 0s 848us/step - loss: 0.7121 - accuracy: 0.6095\n",
      "Epoch 6/10\n",
      "212/212 [==============================] - 0s 854us/step - loss: 0.7685 - accuracy: 0.5921\n",
      "Epoch 7/10\n",
      "212/212 [==============================] - 0s 845us/step - loss: 0.7886 - accuracy: 0.5873\n",
      "Epoch 8/10\n",
      "212/212 [==============================] - 0s 844us/step - loss: 0.7604 - accuracy: 0.6010\n",
      "Epoch 9/10\n",
      "212/212 [==============================] - 0s 850us/step - loss: 0.7451 - accuracy: 0.6020\n",
      "Epoch 10/10\n",
      "212/212 [==============================] - 0s 847us/step - loss: 0.7903 - accuracy: 0.5968\n",
      "30/30 [==============================] - 0s 644us/step\n",
      "120/120 [==============================] - 0s 623us/step\n"
     ]
    },
    {
     "name": "stderr",
     "output_type": "stream",
     "text": [
      "Generating ensemble training data: |████████  | 80%"
     ]
    },
    {
     "name": "stdout",
     "output_type": "stream",
     "text": [
      "Epoch 1/10\n",
      "212/212 [==============================] - 0s 801us/step - loss: 1.5104 - accuracy: 0.5581\n",
      "Epoch 2/10\n",
      "212/212 [==============================] - 0s 796us/step - loss: 0.9656 - accuracy: 0.5694\n",
      "Epoch 3/10\n",
      "212/212 [==============================] - 0s 833us/step - loss: 0.8535 - accuracy: 0.5784\n",
      "Epoch 4/10\n",
      "212/212 [==============================] - 0s 837us/step - loss: 0.8293 - accuracy: 0.5869\n",
      "Epoch 5/10\n",
      "212/212 [==============================] - 0s 831us/step - loss: 0.7791 - accuracy: 0.5963\n",
      "Epoch 6/10\n",
      "212/212 [==============================] - 0s 830us/step - loss: 0.8985 - accuracy: 0.5609\n",
      "Epoch 7/10\n",
      "212/212 [==============================] - 0s 832us/step - loss: 0.7213 - accuracy: 0.5996\n",
      "Epoch 8/10\n",
      "212/212 [==============================] - 0s 827us/step - loss: 0.7427 - accuracy: 0.6081\n",
      "Epoch 9/10\n",
      "212/212 [==============================] - 0s 813us/step - loss: 0.7662 - accuracy: 0.5774\n",
      "Epoch 10/10\n",
      "212/212 [==============================] - 0s 812us/step - loss: 0.7912 - accuracy: 0.5949\n",
      "30/30 [==============================] - 0s 618us/step\n",
      "120/120 [==============================] - 0s 586us/step\n"
     ]
    },
    {
     "name": "stderr",
     "output_type": "stream",
     "text": [
      "Generating ensemble training data: |██████████|100%\n",
      "Generating ensemble training data: |          |  0%"
     ]
    },
    {
     "name": "stdout",
     "output_type": "stream",
     "text": [
      "Epoch 1/10\n",
      "212/212 [==============================] - 1s 950us/step - loss: 0.8582 - accuracy: 0.5662\n",
      "Epoch 2/10\n",
      "212/212 [==============================] - 0s 857us/step - loss: 0.7687 - accuracy: 0.5893\n",
      "Epoch 3/10\n",
      "212/212 [==============================] - 0s 862us/step - loss: 0.7593 - accuracy: 0.5751\n",
      "Epoch 4/10\n",
      "212/212 [==============================] - 0s 861us/step - loss: 0.7282 - accuracy: 0.5818\n",
      "Epoch 5/10\n",
      "212/212 [==============================] - 0s 858us/step - loss: 0.6832 - accuracy: 0.6049\n",
      "Epoch 6/10\n",
      "212/212 [==============================] - 0s 857us/step - loss: 0.7027 - accuracy: 0.5789\n",
      "Epoch 7/10\n",
      "212/212 [==============================] - 0s 867us/step - loss: 0.6624 - accuracy: 0.6054\n",
      "Epoch 8/10\n",
      "212/212 [==============================] - 0s 870us/step - loss: 0.6684 - accuracy: 0.6063\n",
      "Epoch 9/10\n",
      "212/212 [==============================] - 0s 865us/step - loss: 0.6651 - accuracy: 0.6049\n",
      "Epoch 10/10\n",
      "212/212 [==============================] - 0s 859us/step - loss: 0.6712 - accuracy: 0.5870\n",
      "30/30 [==============================] - 0s 650us/step\n",
      "120/120 [==============================] - 0s 617us/step\n"
     ]
    },
    {
     "name": "stderr",
     "output_type": "stream",
     "text": [
      "Generating ensemble training data: |██        | 20%"
     ]
    },
    {
     "name": "stdout",
     "output_type": "stream",
     "text": [
      "Epoch 1/10\n",
      "212/212 [==============================] - 0s 883us/step - loss: 0.9382 - accuracy: 0.5463\n",
      "Epoch 2/10\n",
      "212/212 [==============================] - 0s 876us/step - loss: 0.7148 - accuracy: 0.5855\n",
      "Epoch 3/10\n",
      "212/212 [==============================] - 0s 886us/step - loss: 0.6985 - accuracy: 0.5794\n",
      "Epoch 4/10\n",
      "212/212 [==============================] - 0s 864us/step - loss: 0.6668 - accuracy: 0.6035\n",
      "Epoch 5/10\n",
      "212/212 [==============================] - 0s 864us/step - loss: 0.6593 - accuracy: 0.6111\n",
      "Epoch 6/10\n",
      "212/212 [==============================] - 0s 881us/step - loss: 0.6594 - accuracy: 0.5964\n",
      "Epoch 7/10\n",
      "212/212 [==============================] - 0s 878us/step - loss: 0.6608 - accuracy: 0.5912\n",
      "Epoch 8/10\n",
      "212/212 [==============================] - 0s 873us/step - loss: 0.6522 - accuracy: 0.6186\n",
      "Epoch 9/10\n",
      "212/212 [==============================] - 0s 866us/step - loss: 0.6517 - accuracy: 0.6134\n",
      "Epoch 10/10\n",
      "212/212 [==============================] - 0s 872us/step - loss: 0.6462 - accuracy: 0.6238\n",
      "30/30 [==============================] - 0s 626us/step\n",
      "120/120 [==============================] - 0s 597us/step\n"
     ]
    },
    {
     "name": "stderr",
     "output_type": "stream",
     "text": [
      "Generating ensemble training data: |████      | 40%"
     ]
    },
    {
     "name": "stdout",
     "output_type": "stream",
     "text": [
      "Epoch 1/10\n",
      "212/212 [==============================] - 0s 878us/step - loss: 0.9626 - accuracy: 0.5723\n",
      "Epoch 2/10\n",
      "212/212 [==============================] - 0s 863us/step - loss: 0.7088 - accuracy: 0.5742\n",
      "Epoch 3/10\n",
      "212/212 [==============================] - 0s 867us/step - loss: 0.6779 - accuracy: 0.6011\n",
      "Epoch 4/10\n",
      "212/212 [==============================] - 0s 876us/step - loss: 0.6631 - accuracy: 0.6068\n",
      "Epoch 5/10\n",
      "212/212 [==============================] - 0s 884us/step - loss: 0.6635 - accuracy: 0.6063\n",
      "Epoch 6/10\n",
      "212/212 [==============================] - 0s 892us/step - loss: 0.6521 - accuracy: 0.6044\n",
      "Epoch 7/10\n",
      "212/212 [==============================] - 0s 893us/step - loss: 0.6515 - accuracy: 0.6267\n",
      "Epoch 8/10\n",
      "212/212 [==============================] - 0s 883us/step - loss: 0.6534 - accuracy: 0.6106\n",
      "Epoch 9/10\n",
      "212/212 [==============================] - 0s 899us/step - loss: 0.6429 - accuracy: 0.6243\n",
      "Epoch 10/10\n",
      "212/212 [==============================] - 0s 880us/step - loss: 0.6531 - accuracy: 0.6082\n",
      "30/30 [==============================] - 0s 616us/step\n",
      "120/120 [==============================] - 0s 595us/step\n"
     ]
    },
    {
     "name": "stderr",
     "output_type": "stream",
     "text": [
      "Generating ensemble training data: |██████    | 60%"
     ]
    },
    {
     "name": "stdout",
     "output_type": "stream",
     "text": [
      "Epoch 1/10\n",
      "212/212 [==============================] - 0s 890us/step - loss: 0.9562 - accuracy: 0.5562\n",
      "Epoch 2/10\n",
      "212/212 [==============================] - 0s 874us/step - loss: 0.7052 - accuracy: 0.5836\n",
      "Epoch 3/10\n",
      "212/212 [==============================] - 0s 874us/step - loss: 0.6532 - accuracy: 0.6204\n",
      "Epoch 4/10\n",
      "212/212 [==============================] - 0s 879us/step - loss: 0.6443 - accuracy: 0.6270\n",
      "Epoch 5/10\n",
      "212/212 [==============================] - 0s 882us/step - loss: 0.6691 - accuracy: 0.6062\n",
      "Epoch 6/10\n",
      "212/212 [==============================] - 0s 874us/step - loss: 0.6597 - accuracy: 0.5954\n",
      "Epoch 7/10\n",
      "212/212 [==============================] - 0s 879us/step - loss: 0.6515 - accuracy: 0.6213\n",
      "Epoch 8/10\n",
      "212/212 [==============================] - 0s 871us/step - loss: 0.6644 - accuracy: 0.5958\n",
      "Epoch 9/10\n",
      "212/212 [==============================] - 0s 873us/step - loss: 0.6464 - accuracy: 0.6228\n",
      "Epoch 10/10\n",
      "212/212 [==============================] - 0s 882us/step - loss: 0.6513 - accuracy: 0.6176\n",
      "30/30 [==============================] - 0s 628us/step\n",
      "120/120 [==============================] - 0s 603us/step\n"
     ]
    },
    {
     "name": "stderr",
     "output_type": "stream",
     "text": [
      "Generating ensemble training data: |████████  | 80%"
     ]
    },
    {
     "name": "stdout",
     "output_type": "stream",
     "text": [
      "Epoch 1/10\n",
      "212/212 [==============================] - 0s 874us/step - loss: 0.9655 - accuracy: 0.5529\n",
      "Epoch 2/10\n",
      "212/212 [==============================] - 0s 860us/step - loss: 0.6897 - accuracy: 0.5944\n",
      "Epoch 3/10\n",
      "212/212 [==============================] - 0s 874us/step - loss: 0.6523 - accuracy: 0.6256\n",
      "Epoch 4/10\n",
      "212/212 [==============================] - 0s 869us/step - loss: 0.6691 - accuracy: 0.5925\n",
      "Epoch 5/10\n",
      "212/212 [==============================] - 0s 861us/step - loss: 0.6598 - accuracy: 0.6086\n",
      "Epoch 6/10\n",
      "212/212 [==============================] - 0s 858us/step - loss: 0.6689 - accuracy: 0.5888\n",
      "Epoch 7/10\n",
      "212/212 [==============================] - 0s 871us/step - loss: 0.6607 - accuracy: 0.5892\n",
      "Epoch 8/10\n",
      "212/212 [==============================] - 0s 870us/step - loss: 0.6534 - accuracy: 0.6020\n",
      "Epoch 9/10\n",
      "212/212 [==============================] - 0s 865us/step - loss: 0.6525 - accuracy: 0.6100\n",
      "Epoch 10/10\n",
      "212/212 [==============================] - 0s 865us/step - loss: 0.6472 - accuracy: 0.6091\n",
      "30/30 [==============================] - 0s 624us/step\n",
      "120/120 [==============================] - 0s 611us/step\n"
     ]
    },
    {
     "name": "stderr",
     "output_type": "stream",
     "text": [
      "Generating ensemble training data: |██████████|100%\n"
     ]
    },
    {
     "name": "stdout",
     "output_type": "stream",
     "text": [
      "\n",
      "\n"
     ]
    },
    {
     "name": "stderr",
     "output_type": "stream",
     "text": [
      "Analyzing ensembles: |██████████|100%\n"
     ]
    }
   ],
   "source": [
    "#EI with every modality deep\n",
    "EI = e.EnsembleIntegration(\n",
    "                k_outer=5,\n",
    "                k_inner=5,\n",
    "                n_samples=1,\n",
    "                sampling_strategy=\"undersampling\",\n",
    "                sampling_aggregation=None,\n",
    "                n_jobs=-1,\n",
    "                metrics=metrics,\n",
    "                random_state=38,\n",
    "                project_name=\"EI all deep\",\n",
    "                model_building=False,\n",
    "                )\n",
    "for k in data.keys():\n",
    "    d_base_predictors = build_deep_bps(input_dim=data[k].shape[1])\n",
    "    EI.fit_base(data[k], labels, modality_name=k, base_predictors=d_base_predictors)\n",
    "EI.fit_ensemble(ensemble_predictors=ensemble_predictors)\n",
    "\n",
    "performance[\"deep EI\"] = EI.ensemble_summary"
   ]
  },
  {
   "cell_type": "code",
   "execution_count": 28,
   "metadata": {},
   "outputs": [],
   "source": [
    "'''with open(\"/home/opc/eipy/eipy/performance.pkl\", \"wb\") as file:\n",
    "    pkl.dump(obj=performance, file=file)'''"
   ]
  },
  {
   "cell_type": "code",
   "execution_count": 23,
   "metadata": {},
   "outputs": [],
   "source": [
    "with open(\"/home/opc/eipy/eipy/performance.pkl\", \"rb\") as file:\n",
    "    performance = pkl.load(file)"
   ]
  },
  {
   "cell_type": "code",
   "execution_count": 29,
   "metadata": {},
   "outputs": [],
   "source": [
    "performance_metrics = {k: v[\"metrics\"] for k,v in performance.items()}"
   ]
  },
  {
   "cell_type": "code",
   "execution_count": 30,
   "metadata": {},
   "outputs": [
    {
     "data": {
      "image/png": "[encoded data removed]",
      "text/plain": [
       "<Figure size 1000x600 with 1 Axes>"
      ]
     },
     "metadata": {},
     "output_type": "display_data"
    }
   ],
   "source": [
    "import seaborn as sns\n",
    "import matplotlib.pyplot as plt\n",
    "import pandas as pd\n",
    "\n",
    "# Example dictionary with DataFrames\n",
    "data_dict = performance_metrics\n",
    "\n",
    "# Specify the row index for which you want to generate the boxplot\n",
    "row_index = 'f_max'\n",
    "\n",
    "# Create a list to store the data for the boxplot\n",
    "data_list = []\n",
    "\n",
    "# Iterate through the dictionary keys and extract the row data\n",
    "for key, df in data_dict.items():\n",
    "    if row_index in df.index:\n",
    "        data_list.append(df.loc[row_index].values)\n",
    "\n",
    "# Create a DataFrame for Seaborn\n",
    "data_df = pd.DataFrame(data_list, index=data_dict.keys(), columns=df.columns)\n",
    "# Box and Whiskers Plot using Seaborn\n",
    "box_order = data_df.median(axis=1).sort_values(ascending=False).index\n",
    "plt.figure(figsize=(10, 6))\n",
    "sns.boxplot(data=data_df.T[box_order])\n",
    "plt.ylabel(row_index)\n",
    "plt.xticks(rotation=45, ha='right')\n",
    "plt.tight_layout()\n",
    "plt.show()"
   ]
  },
  {
   "cell_type": "code",
   "execution_count": 31,
   "metadata": {},
   "outputs": [
    {
     "data": {
      "text/html": [
       "<div>\n",
       "<style scoped>\n",
       "    .dataframe tbody tr th:only-of-type {\n",
       "        vertical-align: middle;\n",
       "    }\n",
       "\n",
       "    .dataframe tbody tr th {\n",
       "        vertical-align: top;\n",
       "    }\n",
       "\n",
       "    .dataframe thead th {\n",
       "        text-align: right;\n",
       "    }\n",
       "</style>\n",
       "<table border=\"1\" class=\"dataframe\">\n",
       "  <thead>\n",
       "    <tr style=\"text-align: right;\">\n",
       "      <th></th>\n",
       "      <th>Mean</th>\n",
       "      <th>CES</th>\n",
       "      <th>S.ADAB</th>\n",
       "      <th>S.XGB</th>\n",
       "      <th>S.DT</th>\n",
       "      <th>S.RF</th>\n",
       "      <th>S.GB</th>\n",
       "      <th>S.KNN</th>\n",
       "      <th>S.LR</th>\n",
       "      <th>S.NB</th>\n",
       "      <th>S.MLP</th>\n",
       "      <th>S.SVM</th>\n",
       "    </tr>\n",
       "  </thead>\n",
       "  <tbody>\n",
       "    <tr>\n",
       "      <th>admission</th>\n",
       "      <td>0.560352</td>\n",
       "      <td>0.555930</td>\n",
       "      <td>0.547589</td>\n",
       "      <td>0.518040</td>\n",
       "      <td>0.433344</td>\n",
       "      <td>0.537870</td>\n",
       "      <td>0.553556</td>\n",
       "      <td>0.498805</td>\n",
       "      <td>0.565269</td>\n",
       "      <td>0.565517</td>\n",
       "      <td>0.562311</td>\n",
       "      <td>0.544299</td>\n",
       "    </tr>\n",
       "    <tr>\n",
       "      <th>admission deep</th>\n",
       "      <td>0.533057</td>\n",
       "      <td>0.528471</td>\n",
       "      <td>0.551812</td>\n",
       "      <td>0.516657</td>\n",
       "      <td>0.433344</td>\n",
       "      <td>0.521717</td>\n",
       "      <td>0.553976</td>\n",
       "      <td>0.499220</td>\n",
       "      <td>0.557491</td>\n",
       "      <td>0.552803</td>\n",
       "      <td>0.558536</td>\n",
       "      <td>0.538204</td>\n",
       "    </tr>\n",
       "    <tr>\n",
       "      <th>EI with admission deep</th>\n",
       "      <td>0.617490</td>\n",
       "      <td>0.638703</td>\n",
       "      <td>0.616227</td>\n",
       "      <td>0.610159</td>\n",
       "      <td>0.492710</td>\n",
       "      <td>0.628873</td>\n",
       "      <td>0.639156</td>\n",
       "      <td>0.584284</td>\n",
       "      <td>0.646914</td>\n",
       "      <td>0.633057</td>\n",
       "      <td>0.635556</td>\n",
       "      <td>0.630637</td>\n",
       "    </tr>\n",
       "    <tr>\n",
       "      <th>comorbidities</th>\n",
       "      <td>0.443906</td>\n",
       "      <td>0.440304</td>\n",
       "      <td>0.439716</td>\n",
       "      <td>0.434681</td>\n",
       "      <td>0.433344</td>\n",
       "      <td>0.439519</td>\n",
       "      <td>0.440042</td>\n",
       "      <td>0.433344</td>\n",
       "      <td>0.444172</td>\n",
       "      <td>0.440584</td>\n",
       "      <td>0.441477</td>\n",
       "      <td>0.433372</td>\n",
       "    </tr>\n",
       "    <tr>\n",
       "      <th>comorbidities deep</th>\n",
       "      <td>0.441581</td>\n",
       "      <td>0.441962</td>\n",
       "      <td>0.438466</td>\n",
       "      <td>0.435294</td>\n",
       "      <td>0.433344</td>\n",
       "      <td>0.435249</td>\n",
       "      <td>0.439493</td>\n",
       "      <td>0.433344</td>\n",
       "      <td>0.441384</td>\n",
       "      <td>0.442284</td>\n",
       "      <td>0.441300</td>\n",
       "      <td>0.433486</td>\n",
       "    </tr>\n",
       "    <tr>\n",
       "      <th>EI with comorbidities deep</th>\n",
       "      <td>0.630415</td>\n",
       "      <td>0.644091</td>\n",
       "      <td>0.619048</td>\n",
       "      <td>0.614504</td>\n",
       "      <td>0.479910</td>\n",
       "      <td>0.634084</td>\n",
       "      <td>0.635800</td>\n",
       "      <td>0.591412</td>\n",
       "      <td>0.639679</td>\n",
       "      <td>0.633202</td>\n",
       "      <td>0.630579</td>\n",
       "      <td>0.630487</td>\n",
       "    </tr>\n",
       "    <tr>\n",
       "      <th>labs</th>\n",
       "      <td>0.601408</td>\n",
       "      <td>0.622404</td>\n",
       "      <td>0.608857</td>\n",
       "      <td>0.560843</td>\n",
       "      <td>0.472077</td>\n",
       "      <td>0.602240</td>\n",
       "      <td>0.615385</td>\n",
       "      <td>0.564248</td>\n",
       "      <td>0.626816</td>\n",
       "      <td>0.614815</td>\n",
       "      <td>0.621860</td>\n",
       "      <td>0.608403</td>\n",
       "    </tr>\n",
       "    <tr>\n",
       "      <th>labs deep</th>\n",
       "      <td>0.528818</td>\n",
       "      <td>0.540845</td>\n",
       "      <td>0.548252</td>\n",
       "      <td>0.522005</td>\n",
       "      <td>0.433344</td>\n",
       "      <td>0.534328</td>\n",
       "      <td>0.550103</td>\n",
       "      <td>0.495620</td>\n",
       "      <td>0.547808</td>\n",
       "      <td>0.544202</td>\n",
       "      <td>0.549209</td>\n",
       "      <td>0.517877</td>\n",
       "    </tr>\n",
       "    <tr>\n",
       "      <th>EI with labs deep</th>\n",
       "      <td>0.592477</td>\n",
       "      <td>0.611695</td>\n",
       "      <td>0.596309</td>\n",
       "      <td>0.607979</td>\n",
       "      <td>0.466188</td>\n",
       "      <td>0.613007</td>\n",
       "      <td>0.620781</td>\n",
       "      <td>0.548553</td>\n",
       "      <td>0.617185</td>\n",
       "      <td>0.601610</td>\n",
       "      <td>0.615055</td>\n",
       "      <td>0.611833</td>\n",
       "    </tr>\n",
       "    <tr>\n",
       "      <th>vitals</th>\n",
       "      <td>0.516584</td>\n",
       "      <td>0.511901</td>\n",
       "      <td>0.498753</td>\n",
       "      <td>0.471483</td>\n",
       "      <td>0.433344</td>\n",
       "      <td>0.485272</td>\n",
       "      <td>0.501759</td>\n",
       "      <td>0.455110</td>\n",
       "      <td>0.511246</td>\n",
       "      <td>0.512488</td>\n",
       "      <td>0.501977</td>\n",
       "      <td>0.481565</td>\n",
       "    </tr>\n",
       "    <tr>\n",
       "      <th>vitals deep</th>\n",
       "      <td>0.474733</td>\n",
       "      <td>0.470193</td>\n",
       "      <td>0.482330</td>\n",
       "      <td>0.461468</td>\n",
       "      <td>0.433344</td>\n",
       "      <td>0.469377</td>\n",
       "      <td>0.489972</td>\n",
       "      <td>0.448764</td>\n",
       "      <td>0.497750</td>\n",
       "      <td>0.493403</td>\n",
       "      <td>0.493551</td>\n",
       "      <td>0.470354</td>\n",
       "    </tr>\n",
       "    <tr>\n",
       "      <th>EI with vitals deep</th>\n",
       "      <td>0.624644</td>\n",
       "      <td>0.637864</td>\n",
       "      <td>0.625868</td>\n",
       "      <td>0.613739</td>\n",
       "      <td>0.489749</td>\n",
       "      <td>0.632549</td>\n",
       "      <td>0.641318</td>\n",
       "      <td>0.596048</td>\n",
       "      <td>0.649228</td>\n",
       "      <td>0.635811</td>\n",
       "      <td>0.647694</td>\n",
       "      <td>0.639204</td>\n",
       "    </tr>\n",
       "    <tr>\n",
       "      <th>EI</th>\n",
       "      <td>0.621411</td>\n",
       "      <td>0.638420</td>\n",
       "      <td>0.622360</td>\n",
       "      <td>0.613025</td>\n",
       "      <td>0.494592</td>\n",
       "      <td>0.635279</td>\n",
       "      <td>0.639558</td>\n",
       "      <td>0.582743</td>\n",
       "      <td>0.644089</td>\n",
       "      <td>0.632382</td>\n",
       "      <td>0.632521</td>\n",
       "      <td>0.627342</td>\n",
       "    </tr>\n",
       "    <tr>\n",
       "      <th>deep EI</th>\n",
       "      <td>0.602874</td>\n",
       "      <td>0.606619</td>\n",
       "      <td>0.599170</td>\n",
       "      <td>0.581019</td>\n",
       "      <td>0.466466</td>\n",
       "      <td>0.609916</td>\n",
       "      <td>0.607455</td>\n",
       "      <td>0.580868</td>\n",
       "      <td>0.618531</td>\n",
       "      <td>0.605162</td>\n",
       "      <td>0.611054</td>\n",
       "      <td>0.612671</td>\n",
       "    </tr>\n",
       "  </tbody>\n",
       "</table>\n",
       "</div>"
      ],
      "text/plain": [
       "                                Mean       CES    S.ADAB     S.XGB      S.DT  \\\n",
       "admission                   0.560352  0.555930  0.547589  0.518040  0.433344   \n",
       "admission deep              0.533057  0.528471  0.551812  0.516657  0.433344   \n",
       "EI with admission deep      0.617490  0.638703  0.616227  0.610159  0.492710   \n",
       "comorbidities               0.443906  0.440304  0.439716  0.434681  0.433344   \n",
       "comorbidities deep          0.441581  0.441962  0.438466  0.435294  0.433344   \n",
       "EI with comorbidities deep  0.630415  0.644091  0.619048  0.614504  0.479910   \n",
       "labs                        0.601408  0.622404  0.608857  0.560843  0.472077   \n",
       "labs deep                   0.528818  0.540845  0.548252  0.522005  0.433344   \n",
       "EI with labs deep           0.592477  0.611695  0.596309  0.607979  0.466188   \n",
       "vitals                      0.516584  0.511901  0.498753  0.471483  0.433344   \n",
       "vitals deep                 0.474733  0.470193  0.482330  0.461468  0.433344   \n",
       "EI with vitals deep         0.624644  0.637864  0.625868  0.613739  0.489749   \n",
       "EI                          0.621411  0.638420  0.622360  0.613025  0.494592   \n",
       "deep EI                     0.602874  0.606619  0.599170  0.581019  0.466466   \n",
       "\n",
       "                                S.RF      S.GB     S.KNN      S.LR      S.NB  \\\n",
       "admission                   0.537870  0.553556  0.498805  0.565269  0.565517   \n",
       "admission deep              0.521717  0.553976  0.499220  0.557491  0.552803   \n",
       "EI with admission deep      0.628873  0.639156  0.584284  0.646914  0.633057   \n",
       "comorbidities               0.439519  0.440042  0.433344  0.444172  0.440584   \n",
       "comorbidities deep          0.435249  0.439493  0.433344  0.441384  0.442284   \n",
       "EI with comorbidities deep  0.634084  0.635800  0.591412  0.639679  0.633202   \n",
       "labs                        0.602240  0.615385  0.564248  0.626816  0.614815   \n",
       "labs deep                   0.534328  0.550103  0.495620  0.547808  0.544202   \n",
       "EI with labs deep           0.613007  0.620781  0.548553  0.617185  0.601610   \n",
       "vitals                      0.485272  0.501759  0.455110  0.511246  0.512488   \n",
       "vitals deep                 0.469377  0.489972  0.448764  0.497750  0.493403   \n",
       "EI with vitals deep         0.632549  0.641318  0.596048  0.649228  0.635811   \n",
       "EI                          0.635279  0.639558  0.582743  0.644089  0.632382   \n",
       "deep EI                     0.609916  0.607455  0.580868  0.618531  0.605162   \n",
       "\n",
       "                               S.MLP     S.SVM  \n",
       "admission                   0.562311  0.544299  \n",
       "admission deep              0.558536  0.538204  \n",
       "EI with admission deep      0.635556  0.630637  \n",
       "comorbidities               0.441477  0.433372  \n",
       "comorbidities deep          0.441300  0.433486  \n",
       "EI with comorbidities deep  0.630579  0.630487  \n",
       "labs                        0.621860  0.608403  \n",
       "labs deep                   0.549209  0.517877  \n",
       "EI with labs deep           0.615055  0.611833  \n",
       "vitals                      0.501977  0.481565  \n",
       "vitals deep                 0.493551  0.470354  \n",
       "EI with vitals deep         0.647694  0.639204  \n",
       "EI                          0.632521  0.627342  \n",
       "deep EI                     0.611054  0.612671  "
      ]
     },
     "execution_count": 31,
     "metadata": {},
     "output_type": "execute_result"
    }
   ],
   "source": [
    "data_df"
   ]
  },
  {
   "cell_type": "code",
   "execution_count": 46,
   "metadata": {},
   "outputs": [
    {
     "data": {
      "image/png": "[encoded data removed]",
      "text/plain": [
       "<Figure size 1000x600 with 1 Axes>"
      ]
     },
     "metadata": {},
     "output_type": "display_data"
    }
   ],
   "source": [
    "import seaborn as sns\n",
    "import matplotlib.pyplot as plt\n",
    "import pandas as pd\n",
    "\n",
    "# Example dictionary with DataFrames\n",
    "data_dict = performance_metrics\n",
    "\n",
    "# Specify the row index for which you want to generate the boxplot\n",
    "row_index = 'auc'\n",
    "\n",
    "# Create a list to store the data for the boxplot\n",
    "data_list = []\n",
    "\n",
    "# Iterate through the dictionary keys and extract the row data\n",
    "for key, df in data_dict.items():\n",
    "    if row_index in df.index:\n",
    "        data_list.append(df.loc[row_index].values)\n",
    "\n",
    "# Create a DataFrame for Seaborn\n",
    "data_df = pd.DataFrame(data_list, index=data_dict.keys(), columns=df.columns)\n",
    "# Box and Whiskers Plot using Seaborn\n",
    "box_order = data_df.median(axis=1).sort_values(ascending=False).index\n",
    "plt.figure(figsize=(10, 6))\n",
    "sns.boxplot(data=data_df.T[box_order])\n",
    "plt.ylabel(row_index)\n",
    "plt.xticks(rotation=45, ha='right')\n",
    "plt.tight_layout()\n",
    "plt.show()"
   ]
  },
  {
   "cell_type": "code",
   "execution_count": 47,
   "metadata": {},
   "outputs": [
    {
     "data": {
      "text/html": [
       "<div>\n",
       "<style scoped>\n",
       "    .dataframe tbody tr th:only-of-type {\n",
       "        vertical-align: middle;\n",
       "    }\n",
       "\n",
       "    .dataframe tbody tr th {\n",
       "        vertical-align: top;\n",
       "    }\n",
       "\n",
       "    .dataframe thead th {\n",
       "        text-align: right;\n",
       "    }\n",
       "</style>\n",
       "<table border=\"1\" class=\"dataframe\">\n",
       "  <thead>\n",
       "    <tr style=\"text-align: right;\">\n",
       "      <th></th>\n",
       "      <th>Mean</th>\n",
       "      <th>CES</th>\n",
       "      <th>S.ADAB</th>\n",
       "      <th>S.XGB</th>\n",
       "      <th>S.DT</th>\n",
       "      <th>S.RF</th>\n",
       "      <th>S.GB</th>\n",
       "      <th>S.KNN</th>\n",
       "      <th>S.LR</th>\n",
       "      <th>S.NB</th>\n",
       "      <th>S.MLP</th>\n",
       "      <th>S.SVM</th>\n",
       "    </tr>\n",
       "  </thead>\n",
       "  <tbody>\n",
       "    <tr>\n",
       "      <th>admission</th>\n",
       "      <td>0.761031</td>\n",
       "      <td>0.756862</td>\n",
       "      <td>0.753303</td>\n",
       "      <td>0.720673</td>\n",
       "      <td>0.579215</td>\n",
       "      <td>0.742814</td>\n",
       "      <td>0.757926</td>\n",
       "      <td>0.694064</td>\n",
       "      <td>0.771042</td>\n",
       "      <td>0.767125</td>\n",
       "      <td>0.768544</td>\n",
       "      <td>0.691569</td>\n",
       "    </tr>\n",
       "    <tr>\n",
       "      <th>admission deep</th>\n",
       "      <td>0.758686</td>\n",
       "      <td>0.756817</td>\n",
       "      <td>0.757589</td>\n",
       "      <td>0.718621</td>\n",
       "      <td>0.600080</td>\n",
       "      <td>0.727212</td>\n",
       "      <td>0.753798</td>\n",
       "      <td>0.692039</td>\n",
       "      <td>0.765665</td>\n",
       "      <td>0.763349</td>\n",
       "      <td>0.765115</td>\n",
       "      <td>0.686143</td>\n",
       "    </tr>\n",
       "    <tr>\n",
       "      <th>EI with admission deep</th>\n",
       "      <td>0.820425</td>\n",
       "      <td>0.831318</td>\n",
       "      <td>0.820023</td>\n",
       "      <td>0.821231</td>\n",
       "      <td>0.628347</td>\n",
       "      <td>0.833407</td>\n",
       "      <td>0.836920</td>\n",
       "      <td>0.768504</td>\n",
       "      <td>0.842949</td>\n",
       "      <td>0.829779</td>\n",
       "      <td>0.831289</td>\n",
       "      <td>0.791135</td>\n",
       "    </tr>\n",
       "    <tr>\n",
       "      <th>comorbidities</th>\n",
       "      <td>0.574928</td>\n",
       "      <td>0.578629</td>\n",
       "      <td>0.560100</td>\n",
       "      <td>0.545048</td>\n",
       "      <td>0.520165</td>\n",
       "      <td>0.564757</td>\n",
       "      <td>0.566738</td>\n",
       "      <td>0.515650</td>\n",
       "      <td>0.586549</td>\n",
       "      <td>0.579131</td>\n",
       "      <td>0.580880</td>\n",
       "      <td>0.540861</td>\n",
       "    </tr>\n",
       "    <tr>\n",
       "      <th>comorbidities deep</th>\n",
       "      <td>0.586698</td>\n",
       "      <td>0.585158</td>\n",
       "      <td>0.559046</td>\n",
       "      <td>0.550285</td>\n",
       "      <td>0.543325</td>\n",
       "      <td>0.553722</td>\n",
       "      <td>0.567415</td>\n",
       "      <td>0.539949</td>\n",
       "      <td>0.582112</td>\n",
       "      <td>0.586073</td>\n",
       "      <td>0.582955</td>\n",
       "      <td>0.525751</td>\n",
       "    </tr>\n",
       "    <tr>\n",
       "      <th>EI with comorbidities deep</th>\n",
       "      <td>0.828858</td>\n",
       "      <td>0.833790</td>\n",
       "      <td>0.815168</td>\n",
       "      <td>0.809345</td>\n",
       "      <td>0.643609</td>\n",
       "      <td>0.830391</td>\n",
       "      <td>0.832511</td>\n",
       "      <td>0.772042</td>\n",
       "      <td>0.840393</td>\n",
       "      <td>0.832534</td>\n",
       "      <td>0.824633</td>\n",
       "      <td>0.786573</td>\n",
       "    </tr>\n",
       "    <tr>\n",
       "      <th>labs</th>\n",
       "      <td>0.800824</td>\n",
       "      <td>0.814680</td>\n",
       "      <td>0.800297</td>\n",
       "      <td>0.772254</td>\n",
       "      <td>0.634260</td>\n",
       "      <td>0.802590</td>\n",
       "      <td>0.813261</td>\n",
       "      <td>0.745175</td>\n",
       "      <td>0.818885</td>\n",
       "      <td>0.808592</td>\n",
       "      <td>0.815694</td>\n",
       "      <td>0.745408</td>\n",
       "    </tr>\n",
       "    <tr>\n",
       "      <th>labs deep</th>\n",
       "      <td>0.727711</td>\n",
       "      <td>0.738029</td>\n",
       "      <td>0.754873</td>\n",
       "      <td>0.731089</td>\n",
       "      <td>0.601849</td>\n",
       "      <td>0.743190</td>\n",
       "      <td>0.759917</td>\n",
       "      <td>0.699607</td>\n",
       "      <td>0.761392</td>\n",
       "      <td>0.746572</td>\n",
       "      <td>0.762766</td>\n",
       "      <td>0.696607</td>\n",
       "    </tr>\n",
       "    <tr>\n",
       "      <th>EI with labs deep</th>\n",
       "      <td>0.793817</td>\n",
       "      <td>0.792709</td>\n",
       "      <td>0.791026</td>\n",
       "      <td>0.798665</td>\n",
       "      <td>0.639818</td>\n",
       "      <td>0.809430</td>\n",
       "      <td>0.814431</td>\n",
       "      <td>0.749557</td>\n",
       "      <td>0.819380</td>\n",
       "      <td>0.803626</td>\n",
       "      <td>0.814590</td>\n",
       "      <td>0.774809</td>\n",
       "    </tr>\n",
       "    <tr>\n",
       "      <th>vitals</th>\n",
       "      <td>0.707028</td>\n",
       "      <td>0.701276</td>\n",
       "      <td>0.689987</td>\n",
       "      <td>0.658910</td>\n",
       "      <td>0.570378</td>\n",
       "      <td>0.678990</td>\n",
       "      <td>0.691548</td>\n",
       "      <td>0.640203</td>\n",
       "      <td>0.711458</td>\n",
       "      <td>0.710038</td>\n",
       "      <td>0.707073</td>\n",
       "      <td>0.635415</td>\n",
       "    </tr>\n",
       "    <tr>\n",
       "      <th>vitals deep</th>\n",
       "      <td>0.635160</td>\n",
       "      <td>0.641509</td>\n",
       "      <td>0.683378</td>\n",
       "      <td>0.637964</td>\n",
       "      <td>0.557818</td>\n",
       "      <td>0.651758</td>\n",
       "      <td>0.682620</td>\n",
       "      <td>0.621116</td>\n",
       "      <td>0.692023</td>\n",
       "      <td>0.676371</td>\n",
       "      <td>0.694733</td>\n",
       "      <td>0.645088</td>\n",
       "    </tr>\n",
       "    <tr>\n",
       "      <th>EI with vitals deep</th>\n",
       "      <td>0.827123</td>\n",
       "      <td>0.835537</td>\n",
       "      <td>0.821609</td>\n",
       "      <td>0.820584</td>\n",
       "      <td>0.648911</td>\n",
       "      <td>0.833033</td>\n",
       "      <td>0.838822</td>\n",
       "      <td>0.775779</td>\n",
       "      <td>0.845023</td>\n",
       "      <td>0.832592</td>\n",
       "      <td>0.838042</td>\n",
       "      <td>0.800065</td>\n",
       "    </tr>\n",
       "    <tr>\n",
       "      <th>EI</th>\n",
       "      <td>0.824928</td>\n",
       "      <td>0.834335</td>\n",
       "      <td>0.817057</td>\n",
       "      <td>0.817526</td>\n",
       "      <td>0.650133</td>\n",
       "      <td>0.831147</td>\n",
       "      <td>0.837252</td>\n",
       "      <td>0.769823</td>\n",
       "      <td>0.843274</td>\n",
       "      <td>0.830109</td>\n",
       "      <td>0.830340</td>\n",
       "      <td>0.789559</td>\n",
       "    </tr>\n",
       "  </tbody>\n",
       "</table>\n",
       "</div>"
      ],
      "text/plain": [
       "                                Mean       CES    S.ADAB     S.XGB      S.DT  \\\n",
       "admission                   0.761031  0.756862  0.753303  0.720673  0.579215   \n",
       "admission deep              0.758686  0.756817  0.757589  0.718621  0.600080   \n",
       "EI with admission deep      0.820425  0.831318  0.820023  0.821231  0.628347   \n",
       "comorbidities               0.574928  0.578629  0.560100  0.545048  0.520165   \n",
       "comorbidities deep          0.586698  0.585158  0.559046  0.550285  0.543325   \n",
       "EI with comorbidities deep  0.828858  0.833790  0.815168  0.809345  0.643609   \n",
       "labs                        0.800824  0.814680  0.800297  0.772254  0.634260   \n",
       "labs deep                   0.727711  0.738029  0.754873  0.731089  0.601849   \n",
       "EI with labs deep           0.793817  0.792709  0.791026  0.798665  0.639818   \n",
       "vitals                      0.707028  0.701276  0.689987  0.658910  0.570378   \n",
       "vitals deep                 0.635160  0.641509  0.683378  0.637964  0.557818   \n",
       "EI with vitals deep         0.827123  0.835537  0.821609  0.820584  0.648911   \n",
       "EI                          0.824928  0.834335  0.817057  0.817526  0.650133   \n",
       "\n",
       "                                S.RF      S.GB     S.KNN      S.LR      S.NB  \\\n",
       "admission                   0.742814  0.757926  0.694064  0.771042  0.767125   \n",
       "admission deep              0.727212  0.753798  0.692039  0.765665  0.763349   \n",
       "EI with admission deep      0.833407  0.836920  0.768504  0.842949  0.829779   \n",
       "comorbidities               0.564757  0.566738  0.515650  0.586549  0.579131   \n",
       "comorbidities deep          0.553722  0.567415  0.539949  0.582112  0.586073   \n",
       "EI with comorbidities deep  0.830391  0.832511  0.772042  0.840393  0.832534   \n",
       "labs                        0.802590  0.813261  0.745175  0.818885  0.808592   \n",
       "labs deep                   0.743190  0.759917  0.699607  0.761392  0.746572   \n",
       "EI with labs deep           0.809430  0.814431  0.749557  0.819380  0.803626   \n",
       "vitals                      0.678990  0.691548  0.640203  0.711458  0.710038   \n",
       "vitals deep                 0.651758  0.682620  0.621116  0.692023  0.676371   \n",
       "EI with vitals deep         0.833033  0.838822  0.775779  0.845023  0.832592   \n",
       "EI                          0.831147  0.837252  0.769823  0.843274  0.830109   \n",
       "\n",
       "                               S.MLP     S.SVM  \n",
       "admission                   0.768544  0.691569  \n",
       "admission deep              0.765115  0.686143  \n",
       "EI with admission deep      0.831289  0.791135  \n",
       "comorbidities               0.580880  0.540861  \n",
       "comorbidities deep          0.582955  0.525751  \n",
       "EI with comorbidities deep  0.824633  0.786573  \n",
       "labs                        0.815694  0.745408  \n",
       "labs deep                   0.762766  0.696607  \n",
       "EI with labs deep           0.814590  0.774809  \n",
       "vitals                      0.707073  0.635415  \n",
       "vitals deep                 0.694733  0.645088  \n",
       "EI with vitals deep         0.838042  0.800065  \n",
       "EI                          0.830340  0.789559  "
      ]
     },
     "execution_count": 47,
     "metadata": {},
     "output_type": "execute_result"
    }
   ],
   "source": [
    "data_df"
   ]
  },
  {
   "cell_type": "code",
   "execution_count": null,
   "metadata": {},
   "outputs": [],
   "source": [
    "import seaborn as sns\n",
    "import matplotlib.pyplot as plt\n",
    "import pandas as pd\n",
    "\n",
    "# Data\n",
    "data_fmax = {\n",
    "    'admission': [0.5734265734265734, 0.5701078582434514, 0.5415617128463476, 0.5586776859504131, 0.580829756795422, 0.5531914893617021, 0.5505804311774462, 0.5929078014184397, 0.5783132530120483, 0.5763239875389408],\n",
    "    'comorbidities': [0.4399293286219082, 0.44616709732988796, 0.45276292335115864, 0.4488330341113105, 0.448, 0.44665461121157324, 0.4446381865736704, 0.43453237410071943, 0.43996494303242767, 0.44786324786324794],\n",
    "    'labs': [0.5371577574967406, 0.5903083700440529, 0.549237170596394, 0.4994663820704375, 0.5819209039548023, 0.5451851851851852, 0.5533834586466165, 0.5690140845070423, 0.56071964017991, 0.5757575757575758],\n",
    "    'vitals': [0.5413333333333333, 0.5199306759098786, 0.5006016847172082, 0.5241157556270095, 0.5346534653465347, 0.5163120567375886, 0.5050215208034433, 0.5008130081300812, 0.5333333333333333, 0.5103857566765578],\n",
    "    'EI': [0.623946037099494, 0.6388384754990926, 0.5924812030075187, 0.5745454545454546, 0.6459802538787024, 0.6376811594202898, 0.5988857938718662, 0.6324503311258278, 0.6088235294117648, 0.6319218241042345]\n",
    "}\n",
    "\n",
    "# Create a DataFrame from the data\n",
    "df_fmax = pd.DataFrame(data_fmax)\n",
    "\n",
    "# Melt the DataFrame to have 'variable' and 'value' columns\n",
    "melted_df_fmax = pd.melt(df_fmax, var_name='Box', value_name='fmax')\n",
    "\n",
    "# Order boxes by median value in descending order\n",
    "box_order_fmax = melted_df_fmax.groupby('Box')['fmax'].median().sort_values(ascending=False).index\n",
    "\n",
    "# Box and Whiskers Plot using Seaborn with sorted order\n",
    "plt.figure(figsize=(10, 6))\n",
    "sns.boxplot(x='Box', y='fmax', data=melted_df_fmax, order=box_order_fmax)\n",
    "plt.title('fmax')\n",
    "plt.ylabel('fmax values')\n",
    "plt.show()"
   ]
  },
  {
   "cell_type": "code",
   "execution_count": null,
   "metadata": {},
   "outputs": [],
   "source": [
    "import seaborn as sns\n",
    "import matplotlib.pyplot as plt\n",
    "import pandas as pd\n",
    "\n",
    "# New Data\n",
    "data_auc = {\n",
    "    'admission': [0.7693368960628204, 0.7763605627658414, 0.7450430799432872, 0.7462754935107427, 0.770792889082779, 0.7577980150507143, 0.7505071436361654, 0.7867052023121386, 0.7761533427854729, 0.7670302104918748],\n",
    "    'comorbidities': [0.5858681426545971, 0.6006898244083324, 0.5892790925946121, 0.6054913294797688, 0.6006434725706183, 0.6028792670956483, 0.5933962264150944, 0.5791389464499945, 0.5988330243210818, 0.5883438761042643],\n",
    "    'labs': [0.745435707274512, 0.7772576071545426, 0.7408386956047552, 0.6439551750463519, 0.7786563420220307, 0.7274511942414658, 0.729921474533755, 0.7614570836514343, 0.7573890282473552, 0.790827789289999],\n",
    "    'vitals': [0.723301341476715, 0.7141073181372014, 0.6892736394372342, 0.7114570836514342, 0.7110917221071, 0.7164358163376594, 0.6920111244410514, 0.6925019086050823, 0.7171011015377903, 0.7009870214854401],\n",
    "    'EI': [0.8165612389573564, 0.8320809248554913, 0.7991220416621223, 0.7975079070781983, 0.8307449012978515, 0.8131911876976771, 0.8019413240266113, 0.8284109499400153, 0.8158905005998474, 0.8327952884720253]\n",
    "}\n",
    "\n",
    "# Create a DataFrame from the new data\n",
    "df_auc = pd.DataFrame(data_auc)\n",
    "\n",
    "# Melt the DataFrame to have 'variable' and 'value' columns\n",
    "melted_df_auc = pd.melt(df_auc, var_name='Box', value_name='auc')\n",
    "\n",
    "# Order boxes by median value in descending order\n",
    "box_order = melted_df_auc.groupby('Box')['auc'].median().sort_values(ascending=False).index\n",
    "\n",
    "# Box and Whiskers Plot using Seaborn with sorted order\n",
    "plt.figure(figsize=(10, 6))\n",
    "sns.boxplot(x='Box', y='auc', data=melted_df_auc, order=box_order)\n",
    "plt.title('EI vs modalities')\n",
    "plt.ylabel('AUC')\n",
    "plt.show()"
   ]
  },
  {
   "cell_type": "code",
   "execution_count": null,
   "metadata": {},
   "outputs": [],
   "source": [
    "EI = e.EnsembleIntegration(\n",
    "                        k_outer=5,\n",
    "                        k_inner=5,\n",
    "                        n_samples=1,\n",
    "                        sampling_strategy=\"undersampling\",\n",
    "                        sampling_aggregation=None,\n",
    "                        n_jobs=-1,\n",
    "                        metrics=metrics,\n",
    "                        random_state=38,\n",
    "                        project_name=\"diabetes\",\n",
    "                        model_building=True,\n",
    "                        )"
   ]
  },
  {
   "cell_type": "code",
   "execution_count": null,
   "metadata": {},
   "outputs": [],
   "source": [
    "for k,v in X_train.items():\n",
    "    if k == \"xgboost\":\n",
    "        EI.fit_base(v, y_train, modality_name=k, base_predictors=d_base_predictors)\n",
    "    else:\n",
    "        EI.fit_base(v, y_train, modality_name=k, base_predictors=base_predictors)"
   ]
  },
  {
   "cell_type": "code",
   "execution_count": null,
   "metadata": {},
   "outputs": [],
   "source": [
    "EI.base_summary[\"metrics\"]"
   ]
  },
  {
   "cell_type": "code",
   "execution_count": null,
   "metadata": {},
   "outputs": [],
   "source": [
    "EI.fit_ensemble(ensemble_predictors=ensemble_predictors)"
   ]
  },
  {
   "cell_type": "code",
   "execution_count": null,
   "metadata": {},
   "outputs": [],
   "source": [
    "EI.ensemble_summary[\"metrics\"]"
   ]
  },
  {
   "cell_type": "code",
   "execution_count": null,
   "metadata": {},
   "outputs": [],
   "source": [
    "preferred_ensemble_key = EI.ensemble_summary[\"metrics\"].loc[\"auc\"].idxmax()\n",
    "print(preferred_ensemble_key)\n",
    "y_pred = EI.predict(X_dict=X_test, ensemble_model_key=preferred_ensemble_key)\n",
    "roc_auc_score(y_test, y_pred)"
   ]
  },
  {
   "cell_type": "code",
   "execution_count": null,
   "metadata": {},
   "outputs": [],
   "source": []
  },
  {
   "cell_type": "markdown",
   "metadata": {},
   "source": [
    "interpreter"
   ]
  },
  {
   "cell_type": "code",
   "execution_count": null,
   "metadata": {},
   "outputs": [],
   "source": [
    "from eipy.interpretation import PermutationInterpreter\n",
    "\n",
    "interpreter = PermutationInterpreter(EI=EI,\n",
    "                                     metric=lambda y_test, y_pred: roc_auc_score(y_test, y_pred),\n",
    "                                     ensemble_predictor_keys=preferred_ensemble_key,\n",
    "                                     n_jobs=-1)"
   ]
  },
  {
   "cell_type": "code",
   "execution_count": null,
   "metadata": {},
   "outputs": [],
   "source": [
    "EI.ensemble_predictors.keys()"
   ]
  },
  {
   "cell_type": "code",
   "execution_count": null,
   "metadata": {},
   "outputs": [],
   "source": [
    "interpreter.rank_product_score(X_dict=X_test, y=y_test)"
   ]
  },
  {
   "cell_type": "code",
   "execution_count": null,
   "metadata": {},
   "outputs": [],
   "source": []
  }
 ],
 "metadata": {
  "kernelspec": {
   "display_name": ".venv",
   "language": "python",
   "name": "python3"
  },
  "language_info": {
   "codemirror_mode": {
    "name": "ipython",
    "version": 3
   },
   "file_extension": ".py",
   "mimetype": "text/x-python",
   "name": "python",
   "nbconvert_exporter": "python",
   "pygments_lexer": "ipython3",
   "version": "3.9.16"
  }
 },
 "nbformat": 4,
 "nbformat_minor": 2
}
